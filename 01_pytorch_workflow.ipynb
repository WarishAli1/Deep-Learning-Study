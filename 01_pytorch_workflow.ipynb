{
  "cells": [
    {
      "cell_type": "code",
      "execution_count": null,
      "metadata": {
        "colab": {
          "base_uri": "https://localhost:8080/",
          "height": 35
        },
        "id": "kvcNfIIe8-_E",
        "outputId": "91cc4823-6f18-43e5-c107-2a9d42294f4f"
      },
      "outputs": [
        {
          "output_type": "execute_result",
          "data": {
            "text/plain": [
              "'2.3.1+cu121'"
            ],
            "application/vnd.google.colaboratory.intrinsic+json": {
              "type": "string"
            }
          },
          "metadata": {},
          "execution_count": 1
        }
      ],
      "source": [
        "import torch\n",
        "from torch import nn # nn is used for building neural network layers\n",
        "import matplotlib.pyplot as plt\n",
        "import numpy as np\n",
        "torch.__version__"
      ]
    },
    {
      "cell_type": "markdown",
      "metadata": {
        "id": "CdLqBo8uAm-3"
      },
      "source": [
        "**data preparing and loading**\n",
        "\n",
        "data can be in any form in machine learning\n",
        "  \n",
        "1. videos\n",
        "2. audios\n",
        "3. images\n",
        "4. excel speadsheet\n",
        "5. DNA\n",
        "6. text etc\n",
        "\n",
        "\n"
      ]
    },
    {
      "cell_type": "code",
      "execution_count": null,
      "metadata": {
        "id": "G3UcjOzQAlxi"
      },
      "outputs": [],
      "source": [
        "# formula of linear regression y = a + x * b ( straight line )\n",
        "weight = 0.7\n",
        "bias = 0.3 # known parameters\n",
        "\n",
        "start = 0\n",
        "end = 1\n",
        "step = 0.02\n",
        "\n",
        "X = torch.arange(start , end , step).unsqueeze(dim = 1)\n",
        "y = bias + X * weight\n"
      ]
    },
    {
      "cell_type": "code",
      "execution_count": null,
      "metadata": {
        "colab": {
          "base_uri": "https://localhost:8080/"
        },
        "id": "Ae0mWgmYGsgK",
        "outputId": "8c2152fa-f239-400c-ab47-7b8111e309f9"
      },
      "outputs": [
        {
          "output_type": "execute_result",
          "data": {
            "text/plain": [
              "(40, 40, 10, 10)"
            ]
          },
          "metadata": {},
          "execution_count": 3
        }
      ],
      "source": [
        "# create a train/test split\n",
        "train_split = int(0.8 * len(X))\n",
        "x_train , y_train = X[:train_split] , y[:train_split]\n",
        "x_test , y_test = X[train_split:] , y[train_split:]\n",
        "len(x_train), len(y_train) , len(x_test) , len(y_test)"
      ]
    },
    {
      "cell_type": "code",
      "execution_count": null,
      "metadata": {
        "id": "j4BNWsJoU3wi"
      },
      "outputs": [],
      "source": [
        "def plot_predictions(train_data = x_train ,\n",
        "                     train_labels = y_train ,\n",
        "                     test_data = x_test ,\n",
        "                     test_labels = y_test ,\n",
        "                     predictions = None) :\n",
        "#plot training data in blue\n",
        "        plt.scatter(train_data , train_labels , c=\"b\" , s=4 , label=\"training data\")\n",
        "\n",
        "#plot test data in green\n",
        "        plt.scatter(test_data , test_labels , c=\"g\" , s=4 , label=\"testing data\")\n",
        "\n",
        "#Are there predictions?\n",
        "        if predictions is not None :\n",
        "          plt.scatter(x_test , predictions , c=\"r\" , s=4 , label=\"predictions\")\n",
        "        plt.legend(prop={\"size\":14});"
      ]
    },
    {
      "cell_type": "markdown",
      "metadata": {
        "id": "ARJaCvdaaXmw"
      },
      "source": [
        "** here plt.plot is used to visulaize the relationship between two variables **\n",
        "\n",
        "** plt.legend is used for more understanding ploted variable like it shows a small box in corner with labels and color so we can visualize efficiently **"
      ]
    },
    {
      "cell_type": "code",
      "execution_count": null,
      "metadata": {
        "colab": {
          "base_uri": "https://localhost:8080/",
          "height": 430
        },
        "id": "7TjQ1pQMbFIS",
        "outputId": "f3f49114-0369-4f1f-aebf-3e5714a8d078"
      },
      "outputs": [
        {
          "output_type": "display_data",
          "data": {
            "text/plain": [
              "<Figure size 640x480 with 1 Axes>"
            ],
            "image/png": "[encoded data removed]"
          },
          "metadata": {}
        }
      ],
      "source": [
        "plot_predictions();"
      ]
    },
    {
      "cell_type": "markdown",
      "metadata": {
        "id": "Obtc8A7z1mLP"
      },
      "source": [
        "# **what this model do:**\n",
        "1 start with random value ( weights and bais )\n",
        "\n",
        "2 look at training data and adjust the random values to better represent ( or get closer to) the ideal values ( the weights and bais values we used to create the data )\n"
      ]
    },
    {
      "cell_type": "code",
      "execution_count": null,
      "metadata": {
        "id": "OVcfsU9yefJO"
      },
      "outputs": [],
      "source": [
        "# build model\n",
        "\n",
        "# create linear regression model class\n",
        "\n",
        "class LinearRegressionModel(nn.Module) :\n",
        "  def __init__(self):\n",
        "    super().__init__()\n",
        "    self.weights = nn.Parameter(torch.randn(1,\n",
        "                                            requires_grad=True,\n",
        "                                            dtype=torch.float))\n",
        "    self.bias = nn.Parameter(torch.randn(1,\n",
        "                                         requires_grad=True,\n",
        "                                         dtype=torch.float))\n",
        "\n",
        "\n",
        "  def forward(self,x:torch.Tensor) -> torch.Tensor:\n",
        "    return self.weights * x + self.bias\n"
      ]
    },
    {
      "cell_type": "markdown",
      "metadata": {
        "id": "MFDnLDB49r9t"
      },
      "source": [
        "**for building models we have to inheritant nn.module which is base class for every model and if we use this as base class then we have to overide forward method and write what we actually performing in partcular model**\n",
        "\n",
        "# torch.optim\n",
        "**it tells models parameter stored in nn.parameter to best change to improve gradient descent and in turn reduce the loss**"
      ]
    },
    {
      "cell_type": "code",
      "execution_count": null,
      "metadata": {
        "colab": {
          "base_uri": "https://localhost:8080/"
        },
        "id": "4rPRwysLCwD7",
        "outputId": "bb92bb8d-9c8b-420b-9e6d-2d36ce2c578f"
      },
      "outputs": [
        {
          "output_type": "execute_result",
          "data": {
            "text/plain": [
              "[Parameter containing:\n",
              " tensor([0.3367], requires_grad=True),\n",
              " Parameter containing:\n",
              " tensor([0.1288], requires_grad=True)]"
            ]
          },
          "metadata": {},
          "execution_count": 7
        }
      ],
      "source": [
        "# to check what model parameter have we use .parameter()\n",
        "\n",
        "torch.manual_seed(42)\n",
        "model_0 = LinearRegressionModel()  # making object\n",
        "list(model_0.parameters()) # getting model's parameter"
      ]
    },
    {
      "cell_type": "code",
      "execution_count": null,
      "metadata": {
        "colab": {
          "base_uri": "https://localhost:8080/"
        },
        "id": "gTLrz4wOHgtC",
        "outputId": "f5a167dc-1a7a-4d45-87bb-4c3a271cd137"
      },
      "outputs": [
        {
          "output_type": "execute_result",
          "data": {
            "text/plain": [
              "OrderedDict([('weights', tensor([0.3367])), ('bias', tensor([0.1288]))])"
            ]
          },
          "metadata": {},
          "execution_count": 8
        }
      ],
      "source": [
        "# list named parameteres\n",
        "model_0.state_dict()"
      ]
    },
    {
      "cell_type": "code",
      "execution_count": null,
      "metadata": {
        "colab": {
          "base_uri": "https://localhost:8080/"
        },
        "id": "sicyfOjNIXk0",
        "outputId": "6506b4e2-8600-418a-a935-1d1be0592442"
      },
      "outputs": [
        {
          "output_type": "execute_result",
          "data": {
            "text/plain": [
              "(tensor([[0.3982],\n",
              "         [0.4049],\n",
              "         [0.4116],\n",
              "         [0.4184],\n",
              "         [0.4251],\n",
              "         [0.4318],\n",
              "         [0.4386],\n",
              "         [0.4453],\n",
              "         [0.4520],\n",
              "         [0.4588]]),\n",
              " tensor([[0.8600],\n",
              "         [0.8740],\n",
              "         [0.8880],\n",
              "         [0.9020],\n",
              "         [0.9160],\n",
              "         [0.9300],\n",
              "         [0.9440],\n",
              "         [0.9580],\n",
              "         [0.9720],\n",
              "         [0.9860]]))"
            ]
          },
          "metadata": {},
          "execution_count": 9
        }
      ],
      "source": [
        "# making predictions using \" torch.interference_mode()\"\n",
        "with torch.inference_mode():\n",
        "  y_preds = model_0(x_test)\n",
        "y_preds , y_test"
      ]
    },
    {
      "cell_type": "code",
      "execution_count": null,
      "metadata": {
        "colab": {
          "base_uri": "https://localhost:8080/",
          "height": 430
        },
        "id": "AyHEvIqePVG5",
        "outputId": "772ab76f-a43b-4289-85e2-7f270b1ca6d8"
      },
      "outputs": [
        {
          "output_type": "display_data",
          "data": {
            "text/plain": [
              "<Figure size 640x480 with 1 Axes>"
            ],
            "image/png": "[encoded data removed]"
          },
          "metadata": {}
        }
      ],
      "source": [
        "plot_predictions(predictions = y_preds)"
      ]
    },
    {
      "cell_type": "code",
      "execution_count": null,
      "metadata": {
        "id": "t4fqyM9jSHUP"
      },
      "outputs": [],
      "source": [
        "# train model\n",
        "\n",
        "# we calculate the gradient of loss computation ( diff of y_preds and y_test )\n",
        "# since gradient tells the direction and magnitude\n",
        "# we use the gradient value to change the model parameter ( weights and bias )\n",
        "# using optimizer\n",
        "# here we move model parameter from unknown to known parameter\n",
        "# loss computation = criterion = cost function = loss function\n",
        "\n",
        "\n"
      ]
    },
    {
      "cell_type": "code",
      "execution_count": null,
      "metadata": {
        "id": "4j2dw2Tbi5zk"
      },
      "outputs": [],
      "source": [
        "loss_fn = nn.L1Loss() #  set up loss functions\n",
        "optimizer = torch.optim.SGD(params = model_0.parameters(),\n",
        "                            lr = 0.01) # learning rate\n",
        "# small lr small changes in parameter and vice versa"
      ]
    },
    {
      "cell_type": "code",
      "execution_count": null,
      "metadata": {
        "colab": {
          "base_uri": "https://localhost:8080/"
        },
        "id": "4PZPXvQp3Agd",
        "outputId": "d8f831cf-2e15-4df0-919e-4e97f4bf80ef"
      },
      "outputs": [
        {
          "output_type": "execute_result",
          "data": {
            "text/plain": [
              "[Parameter containing:\n",
              " tensor([0.3367], requires_grad=True),\n",
              " Parameter containing:\n",
              " tensor([0.1288], requires_grad=True)]"
            ]
          },
          "metadata": {},
          "execution_count": 13
        }
      ],
      "source": [
        "list(model_0.parameters())"
      ]
    },
    {
      "cell_type": "markdown",
      "metadata": {
        "id": "RfT6OKCaQTgx"
      },
      "source": [
        "### **model.train()**\n",
        "it is crucial during training in PyTorch because it activates the necessary behaviors in layers like Dropout and Batch Normalization. It ensures that gradients are computed for model parameters, and it enables specific training-related functionalities that help the model learn effectively and generalize well to new data."
      ]
    },
    {
      "cell_type": "code",
      "execution_count": null,
      "metadata": {
        "colab": {
          "base_uri": "https://localhost:8080/"
        },
        "id": "d8hAVutlx1wR",
        "outputId": "cfba0d10-5f0d-42ec-e9ae-1774fe358542"
      },
      "outputs": [
        {
          "output_type": "stream",
          "name": "stdout",
          "text": [
            "epoch:0 : loss:0.31288138031959534 : test loss:0.48106518387794495\n",
            "OrderedDict([('weights', tensor([0.3406])), ('bias', tensor([0.1388]))])\n",
            "epoch:10 : loss:0.1976713240146637 : test loss:0.3463551998138428\n",
            "OrderedDict([('weights', tensor([0.3796])), ('bias', tensor([0.2388]))])\n",
            "epoch:20 : loss:0.08908725529909134 : test loss:0.21729660034179688\n",
            "OrderedDict([('weights', tensor([0.4184])), ('bias', tensor([0.3333]))])\n",
            "epoch:30 : loss:0.053148526698350906 : test loss:0.14464017748832703\n",
            "OrderedDict([('weights', tensor([0.4512])), ('bias', tensor([0.3768]))])\n",
            "epoch:40 : loss:0.04543796554207802 : test loss:0.11360953003168106\n",
            "OrderedDict([('weights', tensor([0.4748])), ('bias', tensor([0.3868]))])\n",
            "epoch:50 : loss:0.04167863354086876 : test loss:0.09919948130846024\n",
            "OrderedDict([('weights', tensor([0.4938])), ('bias', tensor([0.3843]))])\n",
            "epoch:60 : loss:0.03818932920694351 : test loss:0.08886633068323135\n",
            "OrderedDict([('weights', tensor([0.5116])), ('bias', tensor([0.3788]))])\n",
            "epoch:70 : loss:0.03476089984178543 : test loss:0.0805937647819519\n",
            "OrderedDict([('weights', tensor([0.5288])), ('bias', tensor([0.3718]))])\n",
            "epoch:80 : loss:0.03132382780313492 : test loss:0.07232122868299484\n",
            "OrderedDict([('weights', tensor([0.5459])), ('bias', tensor([0.3648]))])\n",
            "epoch:90 : loss:0.02788739837706089 : test loss:0.06473556160926819\n",
            "OrderedDict([('weights', tensor([0.5629])), ('bias', tensor([0.3573]))])\n",
            "epoch:100 : loss:0.024458957836031914 : test loss:0.05646304413676262\n",
            "OrderedDict([('weights', tensor([0.5800])), ('bias', tensor([0.3503]))])\n",
            "epoch:110 : loss:0.021020207554101944 : test loss:0.04819049686193466\n",
            "OrderedDict([('weights', tensor([0.5972])), ('bias', tensor([0.3433]))])\n",
            "epoch:120 : loss:0.01758546568453312 : test loss:0.04060482233762741\n",
            "OrderedDict([('weights', tensor([0.6141])), ('bias', tensor([0.3358]))])\n",
            "epoch:130 : loss:0.014155393466353416 : test loss:0.03233227878808975\n",
            "OrderedDict([('weights', tensor([0.6313])), ('bias', tensor([0.3288]))])\n",
            "epoch:140 : loss:0.010716589167714119 : test loss:0.024059748277068138\n",
            "OrderedDict([('weights', tensor([0.6485])), ('bias', tensor([0.3218]))])\n",
            "epoch:150 : loss:0.0072835334576666355 : test loss:0.016474086791276932\n",
            "OrderedDict([('weights', tensor([0.6654])), ('bias', tensor([0.3143]))])\n",
            "epoch:160 : loss:0.0038517764769494534 : test loss:0.008201557211577892\n",
            "OrderedDict([('weights', tensor([0.6826])), ('bias', tensor([0.3073]))])\n",
            "epoch:170 : loss:0.008932482451200485 : test loss:0.005023092031478882\n",
            "OrderedDict([('weights', tensor([0.6951])), ('bias', tensor([0.2993]))])\n",
            "epoch:180 : loss:0.008932482451200485 : test loss:0.005023092031478882\n",
            "OrderedDict([('weights', tensor([0.6951])), ('bias', tensor([0.2993]))])\n",
            "epoch:190 : loss:0.008932482451200485 : test loss:0.005023092031478882\n",
            "OrderedDict([('weights', tensor([0.6951])), ('bias', tensor([0.2993]))])\n"
          ]
        }
      ],
      "source": [
        "\n",
        "epochs = 200\n",
        "# track different values\n",
        "epoch_count = []\n",
        "loss_values = []\n",
        "test_loss_values = []\n",
        "# training\n",
        "for epoch in range(epochs):\n",
        "  model_0.train()\n",
        "  y_pred = model_0(x_train) # 1. forward pass\n",
        "  loss = loss_fn(y_pred , y_train) # 2. loss\n",
        "  optimizer.zero_grad() # 3. set to zero grad\n",
        "  loss.backward() # 4. backpropagation to cal grad\n",
        "  optimizer.step() # 5. change parameters of model\n",
        "  #testing\n",
        "  model_0.eval() # 6. turn off gradient tracking\n",
        "  with torch.inference_mode():\n",
        "    test_pred = model_0(x_test) # 1. forward pass\n",
        "    test_loss = loss_fn(test_pred , y_test) # 2. cal loss\n",
        "  if epoch % 10 == 0:\n",
        "    epoch_count.append(epoch)\n",
        "    loss_values.append(loss)\n",
        "    test_loss_values.append(test_loss)\n",
        "    print(f\"epoch:{epoch} : loss:{loss} : test loss:{test_loss}\")\n",
        "    print(model_0.state_dict())\n"
      ]
    },
    {
      "cell_type": "code",
      "execution_count": null,
      "metadata": {
        "colab": {
          "base_uri": "https://localhost:8080/"
        },
        "id": "SoPJ_VZLZtvc",
        "outputId": "f307a50c-b60e-490b-a729-b0c2cd97bbdf"
      },
      "outputs": [
        {
          "output_type": "execute_result",
          "data": {
            "text/plain": [
              "array([0.31288138, 0.19767132, 0.08908726, 0.05314853, 0.04543797,\n",
              "       0.04167863, 0.03818933, 0.0347609 , 0.03132383, 0.0278874 ,\n",
              "       0.02445896, 0.02102021, 0.01758547, 0.01415539, 0.01071659,\n",
              "       0.00728353, 0.00385178, 0.00893248, 0.00893248, 0.00893248],\n",
              "      dtype=float32)"
            ]
          },
          "metadata": {},
          "execution_count": 15
        }
      ],
      "source": [
        "np.array(torch.tensor(loss_values).numpy())"
      ]
    },
    {
      "cell_type": "code",
      "execution_count": null,
      "metadata": {
        "colab": {
          "base_uri": "https://localhost:8080/",
          "height": 472
        },
        "id": "R3fpG_-rTLiG",
        "outputId": "5c3ca697-2577-4b64-96b2-bb27935c0aa4"
      },
      "outputs": [
        {
          "output_type": "display_data",
          "data": {
            "text/plain": [
              "<Figure size 640x480 with 1 Axes>"
            ],
            "image/png": "[encoded data removed]"
          },
          "metadata": {}
        }
      ],
      "source": [
        "plt.plot(epoch_count , np.array(torch.tensor(loss_values).numpy()) , label=\"train loss\")\n",
        "plt.plot(epoch_count , test_loss_values , label=\"test loss\")\n",
        "plt.title(\"Training and test loss curves\")\n",
        "plt.ylabel(\"Loss\")\n",
        "plt.xlabel(\"Epoch\")\n",
        "plt.legend();"
      ]
    },
    {
      "cell_type": "code",
      "execution_count": null,
      "metadata": {
        "colab": {
          "base_uri": "https://localhost:8080/",
          "height": 448
        },
        "id": "Ad5vwwyY07jx",
        "outputId": "3a5c3808-a5f8-483b-e328-0e840089fc65"
      },
      "outputs": [
        {
          "output_type": "stream",
          "name": "stdout",
          "text": [
            "OrderedDict([('weights', tensor([0.6990])), ('bias', tensor([0.3093]))])\n"
          ]
        },
        {
          "output_type": "display_data",
          "data": {
            "text/plain": [
              "<Figure size 640x480 with 1 Axes>"
            ],
            "image/png": "[encoded data removed]"
          },
          "metadata": {}
        }
      ],
      "source": [
        "print(model_0.state_dict())\n",
        "with torch.inference_mode():\n",
        "  y_preds = model_0(x_test)\n",
        "plot_predictions(predictions = y_preds)"
      ]
    },
    {
      "cell_type": "markdown",
      "metadata": {
        "id": "jOEujoT4altE"
      },
      "source": [
        "## saving a model in pytorch\n",
        "\n",
        "there are main 3 methods for saving and loading models\n",
        "\n",
        "1. torch.save()\n",
        "   -> allows to save a pytorch object in python's piickle format\n",
        "\n",
        "the pickle module implements binary protocols for serializing and de-serializing a Python object structure.\n",
        "\n",
        "2. torch.load()\n",
        "  -> allows to load saved pytorch object\n",
        "\n",
        "3. torch.nn.module.load_state_dict()\n",
        "  -> loads a model's saved state dictionary\n",
        "\n"
      ]
    },
    {
      "cell_type": "code",
      "execution_count": null,
      "metadata": {
        "id": "yd-S8vsvagID"
      },
      "outputs": [],
      "source": [
        "# saving our pytorch model\n",
        "from pathlib import Path\n",
        "\n",
        "# 1. Create model directory\n",
        "MODEL_PATH = Path(\"models\")\n",
        "MODEL_PATH.mkdir(parents = True , exist_ok=True)\n",
        "\n",
        "# 2. Create model save path\n",
        "MODEL_NAME = \"01_pytorch_workflow_model_0.pth\"\n",
        "MODEL_SAVE_PATH = MODEL_PATH / MODEL_NAME\n",
        "\n",
        "# 3. saving the model\n",
        "\n",
        "torch.save(obj=model_0.state_dict() , f=MODEL_SAVE_PATH) # here torch.save creates the file itself so we dont have to explicitly create it"
      ]
    },
    {
      "cell_type": "code",
      "execution_count": null,
      "metadata": {
        "colab": {
          "base_uri": "https://localhost:8080/"
        },
        "id": "P5LuCwZ6kAQy",
        "outputId": "0b1c952a-654f-452f-d4c4-d118b9f34345"
      },
      "outputs": [
        {
          "output_type": "stream",
          "name": "stdout",
          "text": [
            "01_pytorch_workflow_model_0.pth\n"
          ]
        }
      ],
      "source": [
        "!ls -1 models"
      ]
    },
    {
      "cell_type": "markdown",
      "metadata": {
        "id": "V3cLkjYIloqX"
      },
      "source": [
        "since we saved model's state dict ( a model's parameter so on) so we make new object of model's class and load the saved state_dict into that"
      ]
    },
    {
      "cell_type": "code",
      "execution_count": null,
      "metadata": {
        "colab": {
          "base_uri": "https://localhost:8080/"
        },
        "id": "FDCaXMNNku8b",
        "outputId": "f4dee3fa-6e9b-4950-a76b-4cdfc4610c43"
      },
      "outputs": [
        {
          "output_type": "stream",
          "name": "stdout",
          "text": [
            "OrderedDict([('weights', tensor([0.2345])), ('bias', tensor([0.2303]))])\n"
          ]
        }
      ],
      "source": [
        "models_1 = LinearRegressionModel() # making new obj and here we load a saved state dict\n",
        "print(models_1.state_dict()) # initially model's parameter value are\n"
      ]
    },
    {
      "cell_type": "code",
      "execution_count": null,
      "metadata": {
        "colab": {
          "base_uri": "https://localhost:8080/"
        },
        "id": "phUjkkKKm0MC",
        "outputId": "2387c9f4-a610-4b33-bc59-26dd91bab50b"
      },
      "outputs": [
        {
          "output_type": "stream",
          "name": "stdout",
          "text": [
            "OrderedDict([('weights', tensor([0.6990])), ('bias', tensor([0.3093]))])\n"
          ]
        }
      ],
      "source": [
        "models_1.load_state_dict(torch.load(f=MODEL_SAVE_PATH))\n",
        "print(models_1.state_dict()) # here we updated model state dict"
      ]
    },
    {
      "cell_type": "code",
      "execution_count": null,
      "metadata": {
        "colab": {
          "base_uri": "https://localhost:8080/"
        },
        "id": "bLaNv_9yoeHZ",
        "outputId": "491b4b3c-c89b-4902-f91b-df30dec58f95"
      },
      "outputs": [
        {
          "output_type": "execute_result",
          "data": {
            "text/plain": [
              "tensor([[True],\n",
              "        [True],\n",
              "        [True],\n",
              "        [True],\n",
              "        [True],\n",
              "        [True],\n",
              "        [True],\n",
              "        [True],\n",
              "        [True],\n",
              "        [True]])"
            ]
          },
          "metadata": {},
          "execution_count": 22
        }
      ],
      "source": [
        "models_1.eval()\n",
        "with torch.inference_mode():\n",
        "  loaded_model_preds = models_1(x_test)\n",
        "loaded_model_preds == y_preds"
      ]
    },
    {
      "cell_type": "markdown",
      "metadata": {
        "id": "UVwx-5eCrSSS"
      },
      "source": [
        "# Putting all together"
      ]
    },
    {
      "cell_type": "code",
      "execution_count": null,
      "metadata": {
        "colab": {
          "base_uri": "https://localhost:8080/"
        },
        "id": "SbVBh8UYraOY",
        "outputId": "3fa3413c-761f-4d8e-c556-5a328ed321ce"
      },
      "outputs": [
        {
          "output_type": "stream",
          "name": "stdout",
          "text": [
            "device:cpu\n"
          ]
        }
      ],
      "source": [
        "import torch\n",
        "import matplotlib.pyplot as plt\n",
        "from pathlib import Path\n",
        "from torch import nn\n",
        "import numpy as np\n",
        "\n",
        "device = \"cuda\" if torch.cuda.is_available() else \"cpu\"\n",
        "print(f\"device:{device}\")"
      ]
    },
    {
      "cell_type": "markdown",
      "metadata": {
        "id": "EVeZw-xJr88Z"
      },
      "source": [
        "# Data"
      ]
    },
    {
      "cell_type": "code",
      "execution_count": null,
      "metadata": {
        "colab": {
          "base_uri": "https://localhost:8080/"
        },
        "id": "r_daqhqMr_cG",
        "outputId": "321f6379-f934-4eb8-9d3f-aed7ea79af3a"
      },
      "outputs": [
        {
          "output_type": "execute_result",
          "data": {
            "text/plain": [
              "(tensor([[0.0000],\n",
              "         [0.0200],\n",
              "         [0.0400],\n",
              "         [0.0600],\n",
              "         [0.0800],\n",
              "         [0.1000],\n",
              "         [0.1200],\n",
              "         [0.1400],\n",
              "         [0.1600],\n",
              "         [0.1800],\n",
              "         [0.2000],\n",
              "         [0.2200],\n",
              "         [0.2400],\n",
              "         [0.2600],\n",
              "         [0.2800],\n",
              "         [0.3000],\n",
              "         [0.3200],\n",
              "         [0.3400],\n",
              "         [0.3600],\n",
              "         [0.3800],\n",
              "         [0.4000],\n",
              "         [0.4200],\n",
              "         [0.4400],\n",
              "         [0.4600],\n",
              "         [0.4800],\n",
              "         [0.5000],\n",
              "         [0.5200],\n",
              "         [0.5400],\n",
              "         [0.5600],\n",
              "         [0.5800],\n",
              "         [0.6000],\n",
              "         [0.6200],\n",
              "         [0.6400],\n",
              "         [0.6600],\n",
              "         [0.6800],\n",
              "         [0.7000],\n",
              "         [0.7200],\n",
              "         [0.7400],\n",
              "         [0.7600],\n",
              "         [0.7800]]),\n",
              " tensor([[0.3000],\n",
              "         [0.3140],\n",
              "         [0.3280],\n",
              "         [0.3420],\n",
              "         [0.3560],\n",
              "         [0.3700],\n",
              "         [0.3840],\n",
              "         [0.3980],\n",
              "         [0.4120],\n",
              "         [0.4260],\n",
              "         [0.4400],\n",
              "         [0.4540],\n",
              "         [0.4680],\n",
              "         [0.4820],\n",
              "         [0.4960],\n",
              "         [0.5100],\n",
              "         [0.5240],\n",
              "         [0.5380],\n",
              "         [0.5520],\n",
              "         [0.5660],\n",
              "         [0.5800],\n",
              "         [0.5940],\n",
              "         [0.6080],\n",
              "         [0.6220],\n",
              "         [0.6360],\n",
              "         [0.6500],\n",
              "         [0.6640],\n",
              "         [0.6780],\n",
              "         [0.6920],\n",
              "         [0.7060],\n",
              "         [0.7200],\n",
              "         [0.7340],\n",
              "         [0.7480],\n",
              "         [0.7620],\n",
              "         [0.7760],\n",
              "         [0.7900],\n",
              "         [0.8040],\n",
              "         [0.8180],\n",
              "         [0.8320],\n",
              "         [0.8460]]),\n",
              " tensor([[0.8000],\n",
              "         [0.8200],\n",
              "         [0.8400],\n",
              "         [0.8600],\n",
              "         [0.8800],\n",
              "         [0.9000],\n",
              "         [0.9200],\n",
              "         [0.9400],\n",
              "         [0.9600],\n",
              "         [0.9800]]),\n",
              " tensor([[0.8600],\n",
              "         [0.8740],\n",
              "         [0.8880],\n",
              "         [0.9020],\n",
              "         [0.9160],\n",
              "         [0.9300],\n",
              "         [0.9440],\n",
              "         [0.9580],\n",
              "         [0.9720],\n",
              "         [0.9860]]))"
            ]
          },
          "metadata": {},
          "execution_count": 24
        }
      ],
      "source": [
        "weight = 0.7\n",
        "bias = 0.3\n",
        "X = torch.arange(0,1,0.02).unsqueeze(dim=1)\n",
        "y = bias + X * weight\n",
        "X_split = int(0.8 * len(X))\n",
        "X_train , y_train = X[:X_split] , y[:X_split]\n",
        "X_test , y_test = X[X_split:] , y[X_split:]\n",
        "X_train , y_train , X_test , y_test"
      ]
    },
    {
      "cell_type": "markdown",
      "metadata": {
        "id": "K5VU6fb_JfY4"
      },
      "source": [
        "# Visualization"
      ]
    },
    {
      "cell_type": "code",
      "execution_count": null,
      "metadata": {
        "id": "tN0QodxbJfDe"
      },
      "outputs": [],
      "source": [
        "def plot_predictions(train_data = X_train,\n",
        "                     train_labels = y_train,\n",
        "                     test_data = X_test,\n",
        "                     test_labels = y_test,\n",
        "                     predictions = None):\n",
        "  plt.scatter(train_data , train_labels , c=\"b\" , s=4 , label=\"training data\")\n",
        "  plt.scatter(test_data , test_labels , c=\"g\" , s=4 , label=\"testing data\")\n",
        "  if predictions is not None:\n",
        "    plt.scatter(test_data , predictions , c=\"r\" , s=4 , label=\"predictions\")\n",
        "  plt.legend()"
      ]
    },
    {
      "cell_type": "code",
      "execution_count": null,
      "metadata": {
        "colab": {
          "base_uri": "https://localhost:8080/",
          "height": 430
        },
        "id": "enG0co6L2nZ2",
        "outputId": "bf9ead71-c165-4847-83ab-8da18c71c0b1"
      },
      "outputs": [
        {
          "output_type": "display_data",
          "data": {
            "text/plain": [
              "<Figure size 640x480 with 1 Axes>"
            ],
            "image/png": "[encoded data removed]"
          },
          "metadata": {}
        }
      ],
      "source": [
        "plot_predictions();"
      ]
    },
    {
      "cell_type": "markdown",
      "metadata": {
        "id": "Yx2E78pctlcT"
      },
      "source": [
        "# Model"
      ]
    },
    {
      "cell_type": "code",
      "execution_count": null,
      "metadata": {
        "id": "x44otxyHtopt"
      },
      "outputs": [],
      "source": [
        "class LinearRegressionModel_V2(nn.Module):\n",
        "  def __init__(self):\n",
        "    super().__init__()\n",
        "    # using nn.Linear() for creating model parameter\n",
        "    self.linear_layer = nn.Linear(in_features=1,\n",
        "              out_features=1)\n",
        "  # x:torch.Tensor -> torch.Tensor means x should be in torch tensor and\n",
        "  # return in torch tensor\n",
        "  def forward(self , x:torch.Tensor) -> torch.Tensor:\n",
        "    return self.linear_layer(x)\n"
      ]
    },
    {
      "cell_type": "code",
      "execution_count": null,
      "metadata": {
        "colab": {
          "base_uri": "https://localhost:8080/"
        },
        "id": "kyDKGZFtMo96",
        "outputId": "7710618b-1110-48a4-fe7b-04b1d23f9cb7"
      },
      "outputs": [
        {
          "output_type": "execute_result",
          "data": {
            "text/plain": [
              "OrderedDict([('linear_layer.weight', tensor([[0.8815]])),\n",
              "             ('linear_layer.bias', tensor([-0.7336]))])"
            ]
          },
          "metadata": {},
          "execution_count": 28
        }
      ],
      "source": [
        "model_01 = LinearRegressionModel_V2()\n",
        "model_01.state_dict()"
      ]
    },
    {
      "cell_type": "code",
      "execution_count": null,
      "metadata": {
        "id": "LJzq6NZARquo"
      },
      "outputs": [],
      "source": [
        "loss_fn = nn.L1Loss()\n",
        "optimizer = torch.optim.SGD(params=model_01.parameters(),lr=0.01)"
      ]
    },
    {
      "cell_type": "markdown",
      "metadata": {
        "id": "S3oRyCktGpSn"
      },
      "source": [
        "# Training and testing"
      ]
    },
    {
      "cell_type": "code",
      "execution_count": null,
      "metadata": {
        "colab": {
          "base_uri": "https://localhost:8080/"
        },
        "id": "yQpC82mHGv_S",
        "outputId": "4aef6b06-a36a-4147-adda-c5d607269036"
      },
      "outputs": [
        {
          "output_type": "stream",
          "name": "stdout",
          "text": [
            "epoch:0 : loss:0.9628263711929321 : test loss:0.858583927154541\n",
            "epoch:10 : loss:0.8476165533065796 : test loss:0.7238741517066956\n",
            "epoch:20 : loss:0.732406735420227 : test loss:0.5891643166542053\n",
            "epoch:30 : loss:0.6171968579292297 : test loss:0.4544544219970703\n",
            "epoch:40 : loss:0.5019866824150085 : test loss:0.3197440505027771\n",
            "epoch:50 : loss:0.3867765963077545 : test loss:0.1850336492061615\n",
            "epoch:60 : loss:0.2715663015842438 : test loss:0.05032316967844963\n",
            "epoch:70 : loss:0.1586626023054123 : test loss:0.08102552592754364\n",
            "epoch:80 : loss:0.11361626535654068 : test loss:0.15223388373851776\n",
            "epoch:90 : loss:0.10002555698156357 : test loss:0.18380694091320038\n",
            "epoch:100 : loss:0.0938224270939827 : test loss:0.19651523232460022\n",
            "epoch:110 : loss:0.08965343236923218 : test loss:0.19862690567970276\n",
            "epoch:120 : loss:0.08612529933452606 : test loss:0.19447574019432068\n",
            "epoch:130 : loss:0.08259718865156174 : test loss:0.19032466411590576\n",
            "epoch:140 : loss:0.07911241054534912 : test loss:0.1841130256652832\n",
            "epoch:150 : loss:0.07567393034696579 : test loss:0.1765277087688446\n",
            "epoch:160 : loss:0.0722455382347107 : test loss:0.1682555228471756\n",
            "epoch:170 : loss:0.06880896538496017 : test loss:0.15998336672782898\n",
            "epoch:180 : loss:0.06537213176488876 : test loss:0.1523980349302292\n",
            "epoch:190 : loss:0.06194373965263367 : test loss:0.14412586390972137\n",
            "epoch:200 : loss:0.05850548669695854 : test loss:0.13585349917411804\n",
            "epoch:210 : loss:0.055070243775844574 : test loss:0.12826792895793915\n",
            "epoch:220 : loss:0.05164066702127457 : test loss:0.11999543011188507\n",
            "epoch:230 : loss:0.04820185899734497 : test loss:0.11172296851873398\n",
            "epoch:240 : loss:0.04476829618215561 : test loss:0.1041373759508133\n",
            "epoch:250 : loss:0.0413370355963707 : test loss:0.09586488455533981\n",
            "epoch:260 : loss:0.0378982312977314 : test loss:0.08759240061044693\n",
            "epoch:270 : loss:0.03446635603904724 : test loss:0.08000681549310684\n",
            "epoch:280 : loss:0.031033407896757126 : test loss:0.07173433899879456\n",
            "epoch:290 : loss:0.02759459987282753 : test loss:0.06346185505390167\n",
            "epoch:300 : loss:0.024164393544197083 : test loss:0.05587626248598099\n",
            "epoch:310 : loss:0.020729783922433853 : test loss:0.047603707760572433\n",
            "epoch:320 : loss:0.017290979623794556 : test loss:0.03933116793632507\n",
            "epoch:330 : loss:0.013862465508282185 : test loss:0.03174551576375961\n",
            "epoch:340 : loss:0.010426163673400879 : test loss:0.023472964763641357\n",
            "epoch:350 : loss:0.006988974753767252 : test loss:0.015887314453721046\n",
            "epoch:360 : loss:0.0035605356097221375 : test loss:0.007614785339683294\n",
            "epoch:370 : loss:0.007047384046018124 : test loss:0.007811039686203003\n",
            "epoch:380 : loss:0.007047384046018124 : test loss:0.007811039686203003\n",
            "epoch:390 : loss:0.007047384046018124 : test loss:0.007811039686203003\n"
          ]
        }
      ],
      "source": [
        "torch.manual_seed(42)\n",
        "epochs = 400\n",
        "epoch_count = []\n",
        "loss_values = []\n",
        "test_loss_values = []\n",
        "for epoch in range(epochs):\n",
        "  model_01.train()\n",
        "  y_pred = model_01(X_train)\n",
        "  loss = loss_fn(y_pred , y_train)\n",
        "  optimizer.zero_grad()\n",
        "  loss.backward()\n",
        "  optimizer.step()\n",
        "  model_01.eval()\n",
        "  with torch.inference_mode():\n",
        "    test_pred = model_01(X_test)\n",
        "    test_loss = loss_fn(test_pred , y_test)\n",
        "  if epoch% 10 == 0 :\n",
        "    epoch_count.append(epoch)\n",
        "    loss_values.append(loss)\n",
        "    test_loss_values.append(test_loss)\n",
        "    print(f\"epoch:{epoch} : loss:{loss} : test loss:{test_loss}\")"
      ]
    },
    {
      "cell_type": "code",
      "execution_count": null,
      "metadata": {
        "colab": {
          "base_uri": "https://localhost:8080/",
          "height": 450
        },
        "id": "WrjgDg3vLSJz",
        "outputId": "6412517d-fac7-489f-a847-e521469cc356"
      },
      "outputs": [
        {
          "output_type": "execute_result",
          "data": {
            "text/plain": [
              "<matplotlib.legend.Legend at 0x7de5e26db430>"
            ]
          },
          "metadata": {},
          "execution_count": 31
        },
        {
          "output_type": "display_data",
          "data": {
            "text/plain": [
              "<Figure size 640x480 with 1 Axes>"
            ],
            "image/png": "[encoded data removed]"
          },
          "metadata": {}
        }
      ],
      "source": [
        "plt.plot(epoch_count , np.array(torch.tensor(loss_values).numpy()) , label=\"train loss\")\n",
        "plt.plot(epoch_count , test_loss_values , label=\"test loss\")\n",
        "plt.legend()"
      ]
    },
    {
      "cell_type": "code",
      "execution_count": null,
      "metadata": {
        "colab": {
          "base_uri": "https://localhost:8080/",
          "height": 430
        },
        "id": "tXX2Sxo3QWgW",
        "outputId": "01340e42-23de-4f95-c3dc-315623ede159"
      },
      "outputs": [
        {
          "output_type": "display_data",
          "data": {
            "text/plain": [
              "<Figure size 640x480 with 1 Axes>"
            ],
            "image/png": "[encoded data removed]"
          },
          "metadata": {}
        }
      ],
      "source": [
        "with torch.inference_mode():\n",
        "  pred = model_01(X_test)\n",
        "plot_predictions(predictions= pred)"
      ]
    },
    {
      "cell_type": "code",
      "execution_count": null,
      "metadata": {
        "colab": {
          "base_uri": "https://localhost:8080/"
        },
        "id": "jY0dPNJKWsS3",
        "outputId": "35566a58-6436-4704-9084-61b2830af09d"
      },
      "outputs": [
        {
          "output_type": "execute_result",
          "data": {
            "text/plain": [
              "OrderedDict([('linear_layer.weight', tensor([[0.7028]])),\n",
              "             ('linear_layer.bias', tensor([0.2919]))])"
            ]
          },
          "metadata": {},
          "execution_count": 33
        }
      ],
      "source": [
        "model_01.state_dict()"
      ]
    },
    {
      "cell_type": "markdown",
      "metadata": {
        "id": "-Uya8U-0Yxaa"
      },
      "source": [
        "# Saving and Loading model"
      ]
    },
    {
      "cell_type": "code",
      "execution_count": null,
      "metadata": {
        "id": "3czCUuGrW29I"
      },
      "outputs": [],
      "source": [
        "MODEL_PATH = Path(\"models\")\n",
        "MODEL_PATH.mkdir(parents = True , exist_ok = True)\n",
        "MODEL_NAME = \"01_Pytorch_workflow1.pth\"\n",
        "MODEL_SAVE_PATH_1 = MODEL_PATH / MODEL_NAME\n",
        "torch.save(model_01.state_dict() , MODEL_SAVE_PATH_1)"
      ]
    },
    {
      "cell_type": "code",
      "execution_count": null,
      "metadata": {
        "colab": {
          "base_uri": "https://localhost:8080/"
        },
        "id": "9uSOzUKZdQPx",
        "outputId": "960b0712-dfa7-4b1e-ec89-846db759ac16"
      },
      "outputs": [
        {
          "output_type": "execute_result",
          "data": {
            "text/plain": [
              "OrderedDict([('linear_layer.weight', tensor([[0.7645]])),\n",
              "             ('linear_layer.bias', tensor([0.8300]))])"
            ]
          },
          "metadata": {},
          "execution_count": 35
        }
      ],
      "source": [
        "object_01 = LinearRegressionModel_V2()\n",
        "object_01.state_dict()"
      ]
    },
    {
      "cell_type": "code",
      "execution_count": null,
      "metadata": {
        "colab": {
          "base_uri": "https://localhost:8080/"
        },
        "id": "uZQDavkZabu7",
        "outputId": "ee63feb2-d4b1-438f-b73c-0b48f4267a6e"
      },
      "outputs": [
        {
          "output_type": "stream",
          "name": "stdout",
          "text": [
            "tensor(0.0057)\n"
          ]
        }
      ],
      "source": [
        "\n",
        "object_01.load_state_dict(torch.load(MODEL_SAVE_PATH_1))\n",
        "object_01.state_dict()\n",
        "\n",
        "with torch.inference_mode():\n",
        "  object_01_pred = object_01(X_test)\n",
        "  loss = loss_fn(object_01_pred , y_test)\n",
        "print(loss)"
      ]
    }
  ],
  "metadata": {
    "accelerator": "GPU",
    "colab": {
      "gpuType": "T4",
      "provenance": []
    },
    "kernelspec": {
      "display_name": "Python 3",
      "name": "python3"
    },
    "language_info": {
      "name": "python"
    }
  },
  "nbformat": 4,
  "nbformat_minor": 0
}