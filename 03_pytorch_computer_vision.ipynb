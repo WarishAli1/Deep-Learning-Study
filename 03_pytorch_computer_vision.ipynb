{
  "cells": [
    {
      "cell_type": "markdown",
      "metadata": {
        "id": "692a8cVEJStE"
      },
      "source": [
        "# pytorch computer vision"
      ]
    },
    {
      "cell_type": "markdown",
      "metadata": {
        "id": "YE1KA59xJoyw"
      },
      "source": [
        "# 0.  computer vision libraries in pytorch\n",
        "\n",
        "*  `torchvision` - base domain library for pytorch computer vision\n",
        "*  `torchvision.datasets` - get datasets and data loading functions for computer vision here\n",
        "*  `torchvision.models` - get pretrained computer vision models that you can leverage ffor yout own problems\n",
        "*  `torchvision.transforms` - functions for manipulating images to be suitable for use with an ML model\n",
        "*  `torch.utils.data.Dataset` - base dataset class for pytorch\n",
        "*   `torch.utils.data.DataLoader` - creates a python iterable over a dataset"
      ]
    },
    {
      "cell_type": "code",
      "execution_count": null,
      "metadata": {
        "colab": {
          "base_uri": "https://localhost:8080/"
        },
        "id": "513Ql1ibJpMT",
        "outputId": "57968e95-7cff-45aa-be86-58ef0a594ba9"
      },
      "outputs": [
        {
          "output_type": "stream",
          "name": "stdout",
          "text": [
            "2.5.0+cu121\n",
            "0.20.0+cu121\n"
          ]
        }
      ],
      "source": [
        "# import pytorch\n",
        "import torch\n",
        "from torch import nn\n",
        "# import torchvision\n",
        "import torchvision\n",
        "from torchvision import datasets\n",
        "from torchvision import transforms\n",
        "from torchvision.transforms import ToTensor\n",
        "# import matplotlib for visualize\n",
        "import matplotlib.pyplot as plt\n",
        "\n",
        "print(torch.__version__)\n",
        "print(torchvision.__version__)\n"
      ]
    },
    {
      "cell_type": "markdown",
      "metadata": {
        "id": "MrbG92-aJpWe"
      },
      "source": [
        "# getting datasets\n",
        "the dataset we will be using is FashionMNIST  "
      ]
    },
    {
      "cell_type": "code",
      "execution_count": null,
      "metadata": {
        "colab": {
          "base_uri": "https://localhost:8080/"
        },
        "id": "K1ifDnlYJpgj",
        "outputId": "d1fe1e2e-9bbb-4925-bcd9-a1b150e68257"
      },
      "outputs": [
        {
          "output_type": "stream",
          "name": "stdout",
          "text": [
            "Downloading http://fashion-mnist.s3-website.eu-central-1.amazonaws.com/train-images-idx3-ubyte.gz\n",
            "Downloading http://fashion-mnist.s3-website.eu-central-1.amazonaws.com/train-images-idx3-ubyte.gz to data/FashionMNIST/raw/train-images-idx3-ubyte.gz\n"
          ]
        },
        {
          "output_type": "stream",
          "name": "stderr",
          "text": [
            "100%|██████████| 26.4M/26.4M [00:01<00:00, 13.3MB/s]\n"
          ]
        },
        {
          "output_type": "stream",
          "name": "stdout",
          "text": [
            "Extracting data/FashionMNIST/raw/train-images-idx3-ubyte.gz to data/FashionMNIST/raw\n",
            "\n",
            "Downloading http://fashion-mnist.s3-website.eu-central-1.amazonaws.com/train-labels-idx1-ubyte.gz\n",
            "Downloading http://fashion-mnist.s3-website.eu-central-1.amazonaws.com/train-labels-idx1-ubyte.gz to data/FashionMNIST/raw/train-labels-idx1-ubyte.gz\n"
          ]
        },
        {
          "output_type": "stream",
          "name": "stderr",
          "text": [
            "100%|██████████| 29.5k/29.5k [00:00<00:00, 210kB/s]\n"
          ]
        },
        {
          "output_type": "stream",
          "name": "stdout",
          "text": [
            "Extracting data/FashionMNIST/raw/train-labels-idx1-ubyte.gz to data/FashionMNIST/raw\n",
            "\n",
            "Downloading http://fashion-mnist.s3-website.eu-central-1.amazonaws.com/t10k-images-idx3-ubyte.gz\n",
            "Downloading http://fashion-mnist.s3-website.eu-central-1.amazonaws.com/t10k-images-idx3-ubyte.gz to data/FashionMNIST/raw/t10k-images-idx3-ubyte.gz\n"
          ]
        },
        {
          "output_type": "stream",
          "name": "stderr",
          "text": [
            "100%|██████████| 4.42M/4.42M [00:01<00:00, 3.90MB/s]\n"
          ]
        },
        {
          "output_type": "stream",
          "name": "stdout",
          "text": [
            "Extracting data/FashionMNIST/raw/t10k-images-idx3-ubyte.gz to data/FashionMNIST/raw\n",
            "\n",
            "Downloading http://fashion-mnist.s3-website.eu-central-1.amazonaws.com/t10k-labels-idx1-ubyte.gz\n",
            "Downloading http://fashion-mnist.s3-website.eu-central-1.amazonaws.com/t10k-labels-idx1-ubyte.gz to data/FashionMNIST/raw/t10k-labels-idx1-ubyte.gz\n"
          ]
        },
        {
          "output_type": "stream",
          "name": "stderr",
          "text": [
            "100%|██████████| 5.15k/5.15k [00:00<00:00, 17.3MB/s]"
          ]
        },
        {
          "output_type": "stream",
          "name": "stdout",
          "text": [
            "Extracting data/FashionMNIST/raw/t10k-labels-idx1-ubyte.gz to data/FashionMNIST/raw\n",
            "\n"
          ]
        },
        {
          "output_type": "stream",
          "name": "stderr",
          "text": [
            "\n"
          ]
        }
      ],
      "source": [
        "train_data = datasets.FashionMNIST(\n",
        "    root=\"data\", # where to download data to?\n",
        "    train=True, # do we want the training dataset?\n",
        "    transform=ToTensor(), # how do we want to transform the data?\n",
        "    target_transform=None, # how do we want to transform the labels/targets?\n",
        "    download=True #do we want to download yes/no?\n",
        ")\n",
        "\n",
        "test_data = datasets.FashionMNIST(\n",
        "    root=\"data\",\n",
        "    train=False,\n",
        "    transform=ToTensor(),\n",
        "    target_transform=None,\n",
        "    download=True\n",
        ")\n"
      ]
    },
    {
      "cell_type": "code",
      "execution_count": null,
      "metadata": {
        "colab": {
          "base_uri": "https://localhost:8080/"
        },
        "id": "14Jr7AdnhHzO",
        "outputId": "124f78bb-2420-4c17-f930-6f0736a558c0"
      },
      "outputs": [
        {
          "output_type": "execute_result",
          "data": {
            "text/plain": [
              "(60000, 10000)"
            ]
          },
          "metadata": {},
          "execution_count": 3
        }
      ],
      "source": [
        "len(train_data), len(test_data)"
      ]
    },
    {
      "cell_type": "code",
      "execution_count": null,
      "metadata": {
        "colab": {
          "base_uri": "https://localhost:8080/"
        },
        "id": "UfPxcn3ihH_6",
        "outputId": "1263cb78-ac7c-42a4-da27-2eb74fd272e6"
      },
      "outputs": [
        {
          "output_type": "execute_result",
          "data": {
            "text/plain": [
              "(tensor([[[0.0000, 0.0000, 0.0000, 0.0000, 0.0000, 0.0000, 0.0000, 0.0000,\n",
              "           0.0000, 0.0000, 0.0000, 0.0000, 0.0000, 0.0000, 0.0000, 0.0000,\n",
              "           0.0000, 0.0000, 0.0000, 0.0000, 0.0000, 0.0000, 0.0000, 0.0000,\n",
              "           0.0000, 0.0000, 0.0000, 0.0000],\n",
              "          [0.0000, 0.0000, 0.0000, 0.0000, 0.0000, 0.0000, 0.0000, 0.0000,\n",
              "           0.0000, 0.0000, 0.0000, 0.0000, 0.0000, 0.0000, 0.0000, 0.0000,\n",
              "           0.0000, 0.0000, 0.0000, 0.0000, 0.0000, 0.0000, 0.0000, 0.0000,\n",
              "           0.0000, 0.0000, 0.0000, 0.0000],\n",
              "          [0.0000, 0.0000, 0.0000, 0.0000, 0.0000, 0.0000, 0.0000, 0.0000,\n",
              "           0.0000, 0.0000, 0.0000, 0.0000, 0.0000, 0.0000, 0.0000, 0.0000,\n",
              "           0.0000, 0.0000, 0.0000, 0.0000, 0.0000, 0.0000, 0.0000, 0.0000,\n",
              "           0.0000, 0.0000, 0.0000, 0.0000],\n",
              "          [0.0000, 0.0000, 0.0000, 0.0000, 0.0000, 0.0000, 0.0000, 0.0000,\n",
              "           0.0000, 0.0000, 0.0000, 0.0000, 0.0039, 0.0000, 0.0000, 0.0510,\n",
              "           0.2863, 0.0000, 0.0000, 0.0039, 0.0157, 0.0000, 0.0000, 0.0000,\n",
              "           0.0000, 0.0039, 0.0039, 0.0000],\n",
              "          [0.0000, 0.0000, 0.0000, 0.0000, 0.0000, 0.0000, 0.0000, 0.0000,\n",
              "           0.0000, 0.0000, 0.0000, 0.0000, 0.0118, 0.0000, 0.1412, 0.5333,\n",
              "           0.4980, 0.2431, 0.2118, 0.0000, 0.0000, 0.0000, 0.0039, 0.0118,\n",
              "           0.0157, 0.0000, 0.0000, 0.0118],\n",
              "          [0.0000, 0.0000, 0.0000, 0.0000, 0.0000, 0.0000, 0.0000, 0.0000,\n",
              "           0.0000, 0.0000, 0.0000, 0.0000, 0.0235, 0.0000, 0.4000, 0.8000,\n",
              "           0.6902, 0.5255, 0.5647, 0.4824, 0.0902, 0.0000, 0.0000, 0.0000,\n",
              "           0.0000, 0.0471, 0.0392, 0.0000],\n",
              "          [0.0000, 0.0000, 0.0000, 0.0000, 0.0000, 0.0000, 0.0000, 0.0000,\n",
              "           0.0000, 0.0000, 0.0000, 0.0000, 0.0000, 0.0000, 0.6078, 0.9255,\n",
              "           0.8118, 0.6980, 0.4196, 0.6118, 0.6314, 0.4275, 0.2510, 0.0902,\n",
              "           0.3020, 0.5098, 0.2824, 0.0588],\n",
              "          [0.0000, 0.0000, 0.0000, 0.0000, 0.0000, 0.0000, 0.0000, 0.0000,\n",
              "           0.0000, 0.0000, 0.0000, 0.0039, 0.0000, 0.2706, 0.8118, 0.8745,\n",
              "           0.8549, 0.8471, 0.8471, 0.6392, 0.4980, 0.4745, 0.4784, 0.5725,\n",
              "           0.5529, 0.3451, 0.6745, 0.2588],\n",
              "          [0.0000, 0.0000, 0.0000, 0.0000, 0.0000, 0.0000, 0.0000, 0.0000,\n",
              "           0.0000, 0.0039, 0.0039, 0.0039, 0.0000, 0.7843, 0.9098, 0.9098,\n",
              "           0.9137, 0.8980, 0.8745, 0.8745, 0.8431, 0.8353, 0.6431, 0.4980,\n",
              "           0.4824, 0.7686, 0.8980, 0.0000],\n",
              "          [0.0000, 0.0000, 0.0000, 0.0000, 0.0000, 0.0000, 0.0000, 0.0000,\n",
              "           0.0000, 0.0000, 0.0000, 0.0000, 0.0000, 0.7176, 0.8824, 0.8471,\n",
              "           0.8745, 0.8941, 0.9216, 0.8902, 0.8784, 0.8706, 0.8784, 0.8667,\n",
              "           0.8745, 0.9608, 0.6784, 0.0000],\n",
              "          [0.0000, 0.0000, 0.0000, 0.0000, 0.0000, 0.0000, 0.0000, 0.0000,\n",
              "           0.0000, 0.0000, 0.0000, 0.0000, 0.0000, 0.7569, 0.8941, 0.8549,\n",
              "           0.8353, 0.7765, 0.7059, 0.8314, 0.8235, 0.8275, 0.8353, 0.8745,\n",
              "           0.8627, 0.9529, 0.7922, 0.0000],\n",
              "          [0.0000, 0.0000, 0.0000, 0.0000, 0.0000, 0.0000, 0.0000, 0.0000,\n",
              "           0.0000, 0.0039, 0.0118, 0.0000, 0.0471, 0.8588, 0.8627, 0.8314,\n",
              "           0.8549, 0.7529, 0.6627, 0.8902, 0.8157, 0.8549, 0.8784, 0.8314,\n",
              "           0.8863, 0.7725, 0.8196, 0.2039],\n",
              "          [0.0000, 0.0000, 0.0000, 0.0000, 0.0000, 0.0000, 0.0000, 0.0000,\n",
              "           0.0000, 0.0000, 0.0235, 0.0000, 0.3882, 0.9569, 0.8706, 0.8627,\n",
              "           0.8549, 0.7961, 0.7765, 0.8667, 0.8431, 0.8353, 0.8706, 0.8627,\n",
              "           0.9608, 0.4667, 0.6549, 0.2196],\n",
              "          [0.0000, 0.0000, 0.0000, 0.0000, 0.0000, 0.0000, 0.0000, 0.0000,\n",
              "           0.0000, 0.0157, 0.0000, 0.0000, 0.2157, 0.9255, 0.8941, 0.9020,\n",
              "           0.8941, 0.9412, 0.9098, 0.8353, 0.8549, 0.8745, 0.9176, 0.8510,\n",
              "           0.8510, 0.8196, 0.3608, 0.0000],\n",
              "          [0.0000, 0.0000, 0.0039, 0.0157, 0.0235, 0.0275, 0.0078, 0.0000,\n",
              "           0.0000, 0.0000, 0.0000, 0.0000, 0.9294, 0.8863, 0.8510, 0.8745,\n",
              "           0.8706, 0.8588, 0.8706, 0.8667, 0.8471, 0.8745, 0.8980, 0.8431,\n",
              "           0.8549, 1.0000, 0.3020, 0.0000],\n",
              "          [0.0000, 0.0118, 0.0000, 0.0000, 0.0000, 0.0000, 0.0000, 0.0000,\n",
              "           0.0000, 0.2431, 0.5686, 0.8000, 0.8941, 0.8118, 0.8353, 0.8667,\n",
              "           0.8549, 0.8157, 0.8275, 0.8549, 0.8784, 0.8745, 0.8588, 0.8431,\n",
              "           0.8784, 0.9569, 0.6235, 0.0000],\n",
              "          [0.0000, 0.0000, 0.0000, 0.0000, 0.0706, 0.1725, 0.3216, 0.4196,\n",
              "           0.7412, 0.8941, 0.8627, 0.8706, 0.8510, 0.8863, 0.7843, 0.8039,\n",
              "           0.8275, 0.9020, 0.8784, 0.9176, 0.6902, 0.7373, 0.9804, 0.9725,\n",
              "           0.9137, 0.9333, 0.8431, 0.0000],\n",
              "          [0.0000, 0.2235, 0.7333, 0.8157, 0.8784, 0.8667, 0.8784, 0.8157,\n",
              "           0.8000, 0.8392, 0.8157, 0.8196, 0.7843, 0.6235, 0.9608, 0.7569,\n",
              "           0.8078, 0.8745, 1.0000, 1.0000, 0.8667, 0.9176, 0.8667, 0.8275,\n",
              "           0.8627, 0.9098, 0.9647, 0.0000],\n",
              "          [0.0118, 0.7922, 0.8941, 0.8784, 0.8667, 0.8275, 0.8275, 0.8392,\n",
              "           0.8039, 0.8039, 0.8039, 0.8627, 0.9412, 0.3137, 0.5882, 1.0000,\n",
              "           0.8980, 0.8667, 0.7373, 0.6039, 0.7490, 0.8235, 0.8000, 0.8196,\n",
              "           0.8706, 0.8941, 0.8824, 0.0000],\n",
              "          [0.3843, 0.9137, 0.7765, 0.8235, 0.8706, 0.8980, 0.8980, 0.9176,\n",
              "           0.9765, 0.8627, 0.7608, 0.8431, 0.8510, 0.9451, 0.2549, 0.2863,\n",
              "           0.4157, 0.4588, 0.6588, 0.8588, 0.8667, 0.8431, 0.8510, 0.8745,\n",
              "           0.8745, 0.8784, 0.8980, 0.1137],\n",
              "          [0.2941, 0.8000, 0.8314, 0.8000, 0.7569, 0.8039, 0.8275, 0.8824,\n",
              "           0.8471, 0.7255, 0.7725, 0.8078, 0.7765, 0.8353, 0.9412, 0.7647,\n",
              "           0.8902, 0.9608, 0.9373, 0.8745, 0.8549, 0.8314, 0.8196, 0.8706,\n",
              "           0.8627, 0.8667, 0.9020, 0.2627],\n",
              "          [0.1882, 0.7961, 0.7176, 0.7608, 0.8353, 0.7725, 0.7255, 0.7451,\n",
              "           0.7608, 0.7529, 0.7922, 0.8392, 0.8588, 0.8667, 0.8627, 0.9255,\n",
              "           0.8824, 0.8471, 0.7804, 0.8078, 0.7294, 0.7098, 0.6941, 0.6745,\n",
              "           0.7098, 0.8039, 0.8078, 0.4510],\n",
              "          [0.0000, 0.4784, 0.8588, 0.7569, 0.7020, 0.6706, 0.7176, 0.7686,\n",
              "           0.8000, 0.8235, 0.8353, 0.8118, 0.8275, 0.8235, 0.7843, 0.7686,\n",
              "           0.7608, 0.7490, 0.7647, 0.7490, 0.7765, 0.7529, 0.6902, 0.6118,\n",
              "           0.6549, 0.6941, 0.8235, 0.3608],\n",
              "          [0.0000, 0.0000, 0.2902, 0.7412, 0.8314, 0.7490, 0.6863, 0.6745,\n",
              "           0.6863, 0.7098, 0.7255, 0.7373, 0.7412, 0.7373, 0.7569, 0.7765,\n",
              "           0.8000, 0.8196, 0.8235, 0.8235, 0.8275, 0.7373, 0.7373, 0.7608,\n",
              "           0.7529, 0.8471, 0.6667, 0.0000],\n",
              "          [0.0078, 0.0000, 0.0000, 0.0000, 0.2588, 0.7843, 0.8706, 0.9294,\n",
              "           0.9373, 0.9490, 0.9647, 0.9529, 0.9569, 0.8667, 0.8627, 0.7569,\n",
              "           0.7490, 0.7020, 0.7137, 0.7137, 0.7098, 0.6902, 0.6510, 0.6588,\n",
              "           0.3882, 0.2275, 0.0000, 0.0000],\n",
              "          [0.0000, 0.0000, 0.0000, 0.0000, 0.0000, 0.0000, 0.0000, 0.1569,\n",
              "           0.2392, 0.1725, 0.2824, 0.1608, 0.1373, 0.0000, 0.0000, 0.0000,\n",
              "           0.0000, 0.0000, 0.0000, 0.0000, 0.0000, 0.0000, 0.0000, 0.0000,\n",
              "           0.0000, 0.0000, 0.0000, 0.0000],\n",
              "          [0.0000, 0.0000, 0.0000, 0.0000, 0.0000, 0.0000, 0.0000, 0.0000,\n",
              "           0.0000, 0.0000, 0.0000, 0.0000, 0.0000, 0.0000, 0.0000, 0.0000,\n",
              "           0.0000, 0.0000, 0.0000, 0.0000, 0.0000, 0.0000, 0.0000, 0.0000,\n",
              "           0.0000, 0.0000, 0.0000, 0.0000],\n",
              "          [0.0000, 0.0000, 0.0000, 0.0000, 0.0000, 0.0000, 0.0000, 0.0000,\n",
              "           0.0000, 0.0000, 0.0000, 0.0000, 0.0000, 0.0000, 0.0000, 0.0000,\n",
              "           0.0000, 0.0000, 0.0000, 0.0000, 0.0000, 0.0000, 0.0000, 0.0000,\n",
              "           0.0000, 0.0000, 0.0000, 0.0000]]]),\n",
              " 9)"
            ]
          },
          "metadata": {},
          "execution_count": 4
        }
      ],
      "source": [
        "image , label = train_data[0]\n",
        "image , label"
      ]
    },
    {
      "cell_type": "code",
      "execution_count": null,
      "metadata": {
        "colab": {
          "base_uri": "https://localhost:8080/"
        },
        "id": "rZPyEB9NhIK2",
        "outputId": "60d44593-f8da-4ad8-9612-f6547e9ed8f0"
      },
      "outputs": [
        {
          "output_type": "execute_result",
          "data": {
            "text/plain": [
              "['T-shirt/top',\n",
              " 'Trouser',\n",
              " 'Pullover',\n",
              " 'Dress',\n",
              " 'Coat',\n",
              " 'Sandal',\n",
              " 'Shirt',\n",
              " 'Sneaker',\n",
              " 'Bag',\n",
              " 'Ankle boot']"
            ]
          },
          "metadata": {},
          "execution_count": 5
        }
      ],
      "source": [
        "class_names = train_data.classes\n",
        "class_names"
      ]
    },
    {
      "cell_type": "code",
      "execution_count": null,
      "metadata": {
        "colab": {
          "base_uri": "https://localhost:8080/"
        },
        "id": "oClyJfovhIbB",
        "outputId": "1da8d26b-1f10-404a-995f-7fcd932176c7"
      },
      "outputs": [
        {
          "output_type": "execute_result",
          "data": {
            "text/plain": [
              "{'T-shirt/top': 0,\n",
              " 'Trouser': 1,\n",
              " 'Pullover': 2,\n",
              " 'Dress': 3,\n",
              " 'Coat': 4,\n",
              " 'Sandal': 5,\n",
              " 'Shirt': 6,\n",
              " 'Sneaker': 7,\n",
              " 'Bag': 8,\n",
              " 'Ankle boot': 9}"
            ]
          },
          "metadata": {},
          "execution_count": 6
        }
      ],
      "source": [
        "class_to_idx = train_data.class_to_idx\n",
        "class_to_idx"
      ]
    },
    {
      "cell_type": "code",
      "execution_count": null,
      "metadata": {
        "colab": {
          "base_uri": "https://localhost:8080/"
        },
        "id": "H4LRa0v1qZKs",
        "outputId": "a8ad97e0-1067-4131-c25d-f7d493ecafbe"
      },
      "outputs": [
        {
          "output_type": "execute_result",
          "data": {
            "text/plain": [
              "tensor([9, 0, 0,  ..., 3, 0, 5])"
            ]
          },
          "metadata": {},
          "execution_count": 7
        }
      ],
      "source": [
        "train_data.targets"
      ]
    },
    {
      "cell_type": "markdown",
      "metadata": {
        "id": "Gdkbp4Qmtiu5"
      },
      "source": [
        "# check input output shapes of data"
      ]
    },
    {
      "cell_type": "code",
      "execution_count": null,
      "metadata": {
        "colab": {
          "base_uri": "https://localhost:8080/"
        },
        "id": "lxvkBGj_ruMc",
        "outputId": "c92b2410-4403-4634-d8e3-e03e8bcf6ce5"
      },
      "outputs": [
        {
          "output_type": "stream",
          "name": "stdout",
          "text": [
            "image shape: torch.Size([1, 28, 28]) -> color_channels , height , width\n",
            "image label: 9\n"
          ]
        }
      ],
      "source": [
        "print(f\"image shape: {image.shape} -> color_channels , height , width\") # color channel is 1 because our data is in black and white where white means 0 and black is 1\n",
        "print(f\"image label: {label}\")"
      ]
    },
    {
      "cell_type": "markdown",
      "metadata": {
        "id": "R44BeEg0BRip"
      },
      "source": [
        "# visualing our data\n"
      ]
    },
    {
      "cell_type": "code",
      "execution_count": null,
      "metadata": {
        "colab": {
          "base_uri": "https://localhost:8080/",
          "height": 470
        },
        "id": "OstpVNanBV_o",
        "outputId": "0757c3d6-2e6e-487f-d235-5de3d7db0f1e"
      },
      "outputs": [
        {
          "output_type": "execute_result",
          "data": {
            "text/plain": [
              "Text(0.5, 1.0, 'Ankle boot')"
            ]
          },
          "metadata": {},
          "execution_count": 9
        },
        {
          "output_type": "display_data",
          "data": {
            "text/plain": [
              "<Figure size 640x480 with 1 Axes>"
            ],
            "image/png": "[encoded data removed]"
          },
          "metadata": {}
        }
      ],
      "source": [
        "plt.imshow(image.squeeze())\n",
        "plt.title(class_names[label])\n"
      ]
    },
    {
      "cell_type": "code",
      "execution_count": null,
      "metadata": {
        "colab": {
          "base_uri": "https://localhost:8080/",
          "height": 446
        },
        "id": "hN5mmXWIBWSl",
        "outputId": "1e9dedfc-3b6e-45ba-a603-703d3514ddd6"
      },
      "outputs": [
        {
          "output_type": "execute_result",
          "data": {
            "text/plain": [
              "(-0.5, 27.5, 27.5, -0.5)"
            ]
          },
          "metadata": {},
          "execution_count": 10
        },
        {
          "output_type": "display_data",
          "data": {
            "text/plain": [
              "<Figure size 640x480 with 1 Axes>"
            ],
            "image/png": "[encoded data removed]"
          },
          "metadata": {}
        }
      ],
      "source": [
        "plt.imshow(image.squeeze(), cmap=\"gray\")\n",
        "plt.title(class_names[label])\n",
        "plt.axis(False)"
      ]
    },
    {
      "cell_type": "code",
      "execution_count": null,
      "metadata": {
        "colab": {
          "base_uri": "https://localhost:8080/",
          "height": 663
        },
        "id": "jaKqBXChBWe7",
        "outputId": "325b508a-4db2-416d-85dc-e65b580d7dcc"
      },
      "outputs": [
        {
          "output_type": "display_data",
          "data": {
            "text/plain": [
              "<Figure size 900x900 with 16 Axes>"
            ],
            "image/png": "[encoded data removed]"
          },
          "metadata": {}
        }
      ],
      "source": [
        "torch.manual_seed(42)\n",
        "fig = plt.figure(figsize=(9,9))\n",
        "rows , cols = 4,4\n",
        "for i in range(1,rows*cols+1):\n",
        "  random_idx = torch.randint(0,len(train_data),size=[1]).item()\n",
        "  img , label = train_data[random_idx]\n",
        "  fig.add_subplot(rows,cols,i)\n",
        "  plt.imshow(img.squeeze(),cmap=\"gray\")\n",
        "  plt.axis(False)\n",
        "  plt.title(class_names[label])\n"
      ]
    },
    {
      "cell_type": "markdown",
      "metadata": {
        "id": "fUN_U8CSBWrr"
      },
      "source": [
        "# prepare dataloader\n",
        "\n",
        "right now , our data is in the form of pytorch datasets\n",
        "\n",
        "dataloader tuns our datasets into python iterable\n",
        "\n",
        "more specifically , dataloader turns our datasets into batches\n",
        "\n",
        "why would we do this?\n",
        "\n",
        "1. it is more computationally efficient, as in , your computing hardware may not be able to look at 60k images in one hit.\n",
        "so we break it down to 32 images at a time ( batch size of 32)\n",
        "2. it gives our neural network more chance to update its gradient pre epoch."
      ]
    },
    {
      "cell_type": "code",
      "execution_count": null,
      "metadata": {
        "id": "v0F8vpV_BW3W"
      },
      "outputs": [],
      "source": [
        "from torch.utils.data import DataLoader\n",
        "BATCH_SIZE = 32\n",
        "train_dataloader = DataLoader(dataset=train_data ,\n",
        "                              batch_size=BATCH_SIZE ,\n",
        "                              shuffle=True)\n",
        "# we shuffle the data so that our model could learn more corners , shape rather than order\n",
        "\n",
        "test_dataloader = DataLoader(dataset=test_data ,\n",
        "                              batch_size=BATCH_SIZE ,\n",
        "                              shuffle=False)\n",
        "# here we dont specifically shuffle the data because it is not too necessary as our model dont see this\n",
        "# data while training also while shuffle there might be slight change in accuracy,precision,recall"
      ]
    },
    {
      "cell_type": "code",
      "execution_count": null,
      "metadata": {
        "colab": {
          "base_uri": "https://localhost:8080/"
        },
        "id": "mj-yBRwnNv0I",
        "outputId": "f1cc5b04-0803-4798-b959-4a918f80b36a"
      },
      "outputs": [
        {
          "output_type": "stream",
          "name": "stdout",
          "text": [
            "Dataloaders: (<torch.utils.data.dataloader.DataLoader object at 0x7b29016b2c50>, <torch.utils.data.dataloader.DataLoader object at 0x7b29016b3e50>)\n",
            "Length of train dataloader: 1875 batches of 32\n",
            "Length of test dataloader: 313 batches of 32\n"
          ]
        }
      ],
      "source": [
        "print(f\"Dataloaders: {train_dataloader , test_dataloader}\")\n",
        "print(f\"Length of train dataloader: {len(train_dataloader)} batches of {BATCH_SIZE}\")\n",
        "print(f\"Length of test dataloader: {len(test_dataloader)} batches of {BATCH_SIZE}\")"
      ]
    },
    {
      "cell_type": "code",
      "execution_count": null,
      "metadata": {
        "colab": {
          "base_uri": "https://localhost:8080/"
        },
        "id": "m40iJpJzNv-7",
        "outputId": "09ccad7c-72ce-4e61-f359-baa46b08afd4"
      },
      "outputs": [
        {
          "output_type": "execute_result",
          "data": {
            "text/plain": [
              "(torch.Size([32, 1, 28, 28]), torch.Size([32]))"
            ]
          },
          "metadata": {},
          "execution_count": 14
        }
      ],
      "source": [
        "train_features_batch , train_labels_batch = next(iter(train_dataloader))\n",
        "train_features_batch.shape , train_labels_batch.shape"
      ]
    },
    {
      "cell_type": "code",
      "execution_count": null,
      "metadata": {
        "colab": {
          "base_uri": "https://localhost:8080/",
          "height": 464
        },
        "id": "qooOWu6rV--0",
        "outputId": "8fd96bac-b566-4cce-d184-bb914545c8fc"
      },
      "outputs": [
        {
          "output_type": "stream",
          "name": "stdout",
          "text": [
            "image size: torch.Size([1, 28, 28])\n",
            "label: 8\n"
          ]
        },
        {
          "output_type": "display_data",
          "data": {
            "text/plain": [
              "<Figure size 640x480 with 1 Axes>"
            ],
            "image/png": "[encoded data removed]"
          },
          "metadata": {}
        }
      ],
      "source": [
        "#torch.manual_seed(42)\n",
        "random_idx = torch.randint(0,len(train_features_batch),size=[1]).item()\n",
        "img , label = train_features_batch[random_idx] , train_labels_batch[random_idx]\n",
        "plt.imshow(img.squeeze(),cmap=\"gray\")\n",
        "plt.axis(False)\n",
        "plt.title(class_names[label])\n",
        "print(f\"image size: {img.shape}\")\n",
        "print(f\"label: {label}\")"
      ]
    },
    {
      "cell_type": "markdown",
      "metadata": {
        "id": "krIvSho5V_IQ"
      },
      "source": [
        "# model 0: build a baseline model\n",
        "\n",
        "when starting to build a series of machine learning modelling experiments, its best practice to start with a baseline model.\n",
        "\n",
        "A baseline model is a simple model that is used as a benchmark for evaluating the performance of more complex models."
      ]
    },
    {
      "cell_type": "code",
      "execution_count": null,
      "metadata": {
        "colab": {
          "base_uri": "https://localhost:8080/"
        },
        "id": "uc7k7-_WNwJG",
        "outputId": "6d0797b5-0be4-45d8-97d8-b6a170fa4566"
      },
      "outputs": [
        {
          "output_type": "stream",
          "name": "stdout",
          "text": [
            "shape before flatten: torch.Size([1, 28, 28])\n",
            "shape after flatten: torch.Size([1, 784])\n"
          ]
        }
      ],
      "source": [
        "# create a flatten layer\n",
        "flatten_model = nn.Flatten()\n",
        "\n",
        "# get a single sample\n",
        "x = train_features_batch[0]\n",
        "\n",
        "# flatten sample\n",
        "output = flatten_model(x)\n",
        "\n",
        "# print out when happened\n",
        "print(f\"shape before flatten: {x.shape}\")\n",
        "print(f\"shape after flatten: {output.shape}\")"
      ]
    },
    {
      "cell_type": "code",
      "execution_count": null,
      "metadata": {
        "id": "06w03Z3uePYt"
      },
      "outputs": [],
      "source": [
        "class FashionMNISTModelV0(nn.Module):\n",
        "  def __init__(self,input_shape:int,hidden_units:int,output_shape:int):\n",
        "    super().__init__()\n",
        "    self.linear_layer_stack = nn.Sequential(\n",
        "        nn.Flatten(),\n",
        "        nn.Linear(in_features=input_shape,out_features=hidden_units),\n",
        "        nn.Linear(in_features=hidden_units,out_features=output_shape)\n",
        "    )\n",
        "  def forward(self,x):\n",
        "    return self.linear_layer_stack(x)"
      ]
    },
    {
      "cell_type": "code",
      "execution_count": null,
      "metadata": {
        "colab": {
          "base_uri": "https://localhost:8080/"
        },
        "id": "TPAoEycJePiv",
        "outputId": "ee0899ea-aed7-4e35-feac-6c6a692e93ba"
      },
      "outputs": [
        {
          "output_type": "execute_result",
          "data": {
            "text/plain": [
              "FashionMNISTModelV0(\n",
              "  (linear_layer_stack): Sequential(\n",
              "    (0): Flatten(start_dim=1, end_dim=-1)\n",
              "    (1): Linear(in_features=784, out_features=10, bias=True)\n",
              "    (2): Linear(in_features=10, out_features=10, bias=True)\n",
              "  )\n",
              ")"
            ]
          },
          "metadata": {},
          "execution_count": 18
        }
      ],
      "source": [
        "torch.manual_seed(42)\n",
        "model_0 = FashionMNISTModelV0(784,10,len(class_names))\n",
        "model_0"
      ]
    },
    {
      "cell_type": "markdown",
      "metadata": {
        "id": "dKwH9kspePsr"
      },
      "source": [
        "# loss , optimizer and evaluations metrics\n",
        "\n",
        "* since it is multi class so we use Cross Entropy loss fn\n",
        "* SGD as optimizer\n",
        "* since it is classification model , we take accuracy as evaluation metric"
      ]
    },
    {
      "cell_type": "code",
      "execution_count": null,
      "metadata": {
        "colab": {
          "base_uri": "https://localhost:8080/"
        },
        "id": "2sBVb_pOeP17",
        "outputId": "58eb1a04-9222-45bc-e786-edb1264bf5e4"
      },
      "outputs": [
        {
          "output_type": "stream",
          "name": "stdout",
          "text": [
            "downloading helper_functions.py\n"
          ]
        }
      ],
      "source": [
        "import requests\n",
        "from pathlib import Path\n",
        "\n",
        "if Path(\"helper_functions.py\").is_file():\n",
        "  print(\"helper_functions.py already exists\")\n",
        "else:\n",
        "  print(\"downloading helper_functions.py\")\n",
        "  request = requests.get(\"https://raw.githubusercontent.com/mrdbourke/pytorch-deep-learning/refs/heads/main/helper_functions.py\")\n",
        "  with open(\"helper_functions.py\",\"wb\") as f:\n",
        "    f.write(request.content)\n",
        "# with open means create a file name helper_functions with write binary and\n",
        "# f.write means write content there from request"
      ]
    },
    {
      "cell_type": "code",
      "execution_count": null,
      "metadata": {
        "id": "Fjgo5nHYteF1"
      },
      "outputs": [],
      "source": [
        "from helper_functions import accuracy_fn\n",
        "\n",
        "loss_fn = nn.CrossEntropyLoss()\n",
        "optimizer = torch.optim.SGD(params=model_0.parameters(),\n",
        "                            lr = 0.1)"
      ]
    },
    {
      "cell_type": "markdown",
      "metadata": {
        "id": "4tjSyvuoteZ5"
      },
      "source": [
        "# creating a functions to time our experiments\n",
        "\n",
        "Machine learning is very experimental.\n",
        "\n",
        "Two of the main things you will often want to track are :\n",
        "\n",
        "1. model performance(loss,acc,etc)\n",
        "2. how fast it runs"
      ]
    },
    {
      "cell_type": "code",
      "execution_count": null,
      "metadata": {
        "id": "E7ktj4-5teri"
      },
      "outputs": [],
      "source": [
        "from timeit import default_timer as timer\n",
        "\n",
        "def print_train_time(start:float,\n",
        "                    end:float ):\n",
        "  total_time = end - start\n",
        "  print(f\"Train time: {total_time: .3f}\")\n",
        "  return total_time\n",
        "\n"
      ]
    },
    {
      "cell_type": "code",
      "execution_count": null,
      "metadata": {
        "colab": {
          "base_uri": "https://localhost:8080/"
        },
        "id": "d_HCssWVtfCB",
        "outputId": "282de729-09a8-487e-ad0b-2bc9c0cc4ce9"
      },
      "outputs": [
        {
          "output_type": "stream",
          "name": "stdout",
          "text": [
            "Train time:  0.000\n"
          ]
        },
        {
          "output_type": "execute_result",
          "data": {
            "text/plain": [
              "6.498500000873264e-05"
            ]
          },
          "metadata": {},
          "execution_count": 22
        }
      ],
      "source": [
        "start_time= timer()\n",
        "# some code\n",
        "end_time = timer()\n",
        "print_train_time(start=start_time,end=end_time)"
      ]
    },
    {
      "cell_type": "markdown",
      "metadata": {
        "id": "-OkcJ0JR142D"
      },
      "source": [
        "# creating a training loop and training a model on batches of data"
      ]
    },
    {
      "cell_type": "code",
      "execution_count": null,
      "metadata": {
        "colab": {
          "base_uri": "https://localhost:8080/",
          "height": 495,
          "referenced_widgets": [
            "e203d16903334483b1de72c7a4e05a6f",
            "3982e5b419014bb08306afb66f2fc013",
            "457d36258f834d94bf3e4051122e4dca",
            "53542a0417434ecc9046bc1a92711487",
            "1f8d8ec504d64920872cfd8e0fb536c6",
            "6f0cda5ef712482390471d10036df5e4",
            "20f244b1844f4f22badd7701cb8f648f",
            "29162bc5a8074aab9f2a0df8c53556fd",
            "fa50925f68db42febef4f131b50a45e9",
            "656a1686bc664390ab4795b1114afa76",
            "acdf12c13bf843ac81d7b257d2b3f2a1"
          ]
        },
        "id": "zrSa_RCH15Q4",
        "outputId": "adbd19ac-68bb-465d-a4d0-37d40fda31b2"
      },
      "outputs": [
        {
          "output_type": "display_data",
          "data": {
            "text/plain": [
              "  0%|          | 0/3 [00:00<?, ?it/s]"
            ],
            "application/vnd.jupyter.widget-view+json": {
              "version_major": 2,
              "version_minor": 0,
              "model_id": "e203d16903334483b1de72c7a4e05a6f"
            }
          },
          "metadata": {}
        },
        {
          "output_type": "stream",
          "name": "stdout",
          "text": [
            "Epoch: 0\n",
            "---------\n",
            "Looked at 0/60000 samples\n",
            "Looked at 12800/60000 samples\n",
            "Looked at 25600/60000 samples\n",
            "Looked at 38400/60000 samples\n",
            "Looked at 51200/60000 samples\n",
            "Train loss: 0.5904 | Test loss: 0.5095 | Test acc: 82.04\n",
            "Epoch: 1\n",
            "---------\n",
            "Looked at 0/60000 samples\n",
            "Looked at 12800/60000 samples\n",
            "Looked at 25600/60000 samples\n",
            "Looked at 38400/60000 samples\n",
            "Looked at 51200/60000 samples\n",
            "Train loss: 0.4763 | Test loss: 0.4799 | Test acc: 83.20\n",
            "Epoch: 2\n",
            "---------\n",
            "Looked at 0/60000 samples\n",
            "Looked at 12800/60000 samples\n",
            "Looked at 25600/60000 samples\n",
            "Looked at 38400/60000 samples\n",
            "Looked at 51200/60000 samples\n",
            "Train loss: 0.4550 | Test loss: 0.4766 | Test acc: 83.43\n",
            "Train time:  43.419\n"
          ]
        }
      ],
      "source": [
        "from tqdm.auto import tqdm\n",
        "torch.manual_seed(42)\n",
        "start_timer = timer()\n",
        "epochs = 3\n",
        "for epoch in tqdm(range(epochs)): # tqdm is for progress bar\n",
        "  print(f\"Epoch: {epoch}\\n---------\")\n",
        "  train_loss = 0\n",
        "  for batch,(X,y) in enumerate(train_dataloader): # enumerate is used to track batch number\n",
        "    model_0.train()\n",
        "    y_pred = model_0(X)\n",
        "    loss = loss_fn(y_pred,y)\n",
        "    train_loss += loss\n",
        "    optimizer.zero_grad()\n",
        "    loss.backward()\n",
        "    optimizer.step()\n",
        "    if batch % 400 == 0:\n",
        "      print(f\"Looked at {batch*len(X)}/{len(train_dataloader.dataset)} samples\")\n",
        "  train_loss /= len(train_dataloader)\n",
        "\n",
        "  test_loss,test_acc = 0,0\n",
        "  model_0.eval()\n",
        "  with torch.inference_mode():\n",
        "    for X_test,y_test in test_dataloader:\n",
        "      test_pred = model_0(X_test)\n",
        "      test_loss += loss_fn(test_pred,y_test)\n",
        "      test_acc += accuracy_fn(y_true=y_test,y_pred=test_pred.argmax(dim=1))\n",
        "    test_loss /= len(test_dataloader)\n",
        "    test_acc /= len(test_dataloader)\n",
        "  print(f\"Train loss: {train_loss:.4f} | Test loss: {test_loss:.4f} | Test acc: {test_acc:.2f}\")\n",
        "end_timer = timer()\n",
        "total_time_model_0 = print_train_time(start=start_timer,end=end_timer)\n"
      ]
    },
    {
      "cell_type": "markdown",
      "metadata": {
        "id": "UvP6vuuB15a3"
      },
      "source": [
        "# make predictions and get Model results"
      ]
    },
    {
      "cell_type": "code",
      "execution_count": null,
      "metadata": {
        "id": "YBF3xfLP15lA"
      },
      "outputs": [],
      "source": [
        "torch.manual_seed(42)\n",
        "def eval_model(\n",
        "    model:torch.nn.Module,\n",
        "    loss: torch.nn.Module,\n",
        "    accuracy_fn,\n",
        "    dataloader:torch.utils.data.DataLoader):\n",
        "  model.eval()\n",
        "  with torch.inference_mode():\n",
        "    test_loss,test_acc = 0,0\n",
        "    for X,y in tqdm(dataloader):\n",
        "      test_pred  = model(X)\n",
        "      test_loss += loss(test_pred,y)\n",
        "      test_acc += accuracy_fn(y_true=y,y_pred=test_pred.argmax(dim=1))\n",
        "\n",
        "    test_loss /= len(dataloader)\n",
        "    test_acc /= len(dataloader)\n",
        "  return {\"model_name\":model.__class__.__name__,\n",
        "          \"model_loss\":test_loss.item(),\n",
        "          \"model_acc\":test_acc}\n"
      ]
    },
    {
      "cell_type": "code",
      "execution_count": null,
      "metadata": {
        "colab": {
          "base_uri": "https://localhost:8080/",
          "height": 103,
          "referenced_widgets": [
            "38b73fca09e1411caa39641124595bb5",
            "4c9a3c5b013a49f4af30f1b5e2e4e15d",
            "82475f13c47547ac9a43959ecbe4ed79",
            "161fe76b7ba04091988c260b6bfea2e7",
            "095720e7fca744148f5d302f0992a391",
            "8cdd63d6b79f472c8da1f07e3e8e276f",
            "1449aacf90db40ec8789741524d4ef82",
            "55a962c13ad042cba75df46a7556953d",
            "1914ec4f7ed641948c0091e8d47fe903",
            "257439f966214206a21b5810190e2f2f",
            "26672b168a0c403b8beb685be9b10d71"
          ]
        },
        "id": "nDdCcWiM15t1",
        "outputId": "0497edae-7214-4ed4-946f-54ae8629071b"
      },
      "outputs": [
        {
          "output_type": "display_data",
          "data": {
            "text/plain": [
              "  0%|          | 0/313 [00:00<?, ?it/s]"
            ],
            "application/vnd.jupyter.widget-view+json": {
              "version_major": 2,
              "version_minor": 0,
              "model_id": "38b73fca09e1411caa39641124595bb5"
            }
          },
          "metadata": {}
        },
        {
          "output_type": "execute_result",
          "data": {
            "text/plain": [
              "{'model_name': 'FashionMNISTModelV0',\n",
              " 'model_loss': 0.47663894295692444,\n",
              " 'model_acc': 83.42651757188499}"
            ]
          },
          "metadata": {},
          "execution_count": 25
        }
      ],
      "source": [
        "model_0_results = eval_model(model=model_0,\n",
        "                             loss=loss_fn,\n",
        "                             accuracy_fn=accuracy_fn,\n",
        "                             dataloader=test_dataloader)\n",
        "model_0_results"
      ]
    },
    {
      "cell_type": "code",
      "execution_count": null,
      "metadata": {
        "id": "g_my6_yXm4xZ"
      },
      "outputs": [],
      "source": [
        "class FashionMNISTModelV1 (nn.Module):\n",
        "  def __init__(self,\n",
        "              in_features:int,\n",
        "              out_features:int,\n",
        "              hidden_units:int):\n",
        "    super().__init__()\n",
        "    self.linear_layer_stack = nn.Sequential(\n",
        "        nn.Flatten(),\n",
        "        nn.Linear(in_features=in_features,out_features=hidden_units),\n",
        "        nn.ReLU(),\n",
        "        nn.Linear(in_features=hidden_units,out_features=hidden_units),\n",
        "        nn.ReLU(),\n",
        "        nn.Linear(in_features=hidden_units,out_features=out_features)\n",
        "    )\n",
        "  def forward(self,x):\n",
        "    return self.linear_layer_stack(x)\n"
      ]
    },
    {
      "cell_type": "code",
      "execution_count": null,
      "metadata": {
        "colab": {
          "base_uri": "https://localhost:8080/"
        },
        "id": "lEdtX7kdm5HN",
        "outputId": "4802ff93-0992-463b-9e15-c2a01bba24c0"
      },
      "outputs": [
        {
          "output_type": "stream",
          "name": "stdout",
          "text": [
            "{'T-shirt/top': 0, 'Trouser': 1, 'Pullover': 2, 'Dress': 3, 'Coat': 4, 'Sandal': 5, 'Shirt': 6, 'Sneaker': 7, 'Bag': 8, 'Ankle boot': 9}\n",
            "torch.Size([1, 784])\n"
          ]
        }
      ],
      "source": [
        "img , label = train_data[0]\n",
        "print(train_data.class_to_idx) # out features 10\n",
        "print(flatten_model(img).shape) # in features 784\n",
        "torch.manual_seed(42)\n",
        "model_1 = FashionMNISTModelV1(784,10,10)"
      ]
    },
    {
      "cell_type": "code",
      "execution_count": null,
      "metadata": {
        "colab": {
          "base_uri": "https://localhost:8080/"
        },
        "id": "f0iIM5Cbm5Tf",
        "outputId": "4576bdac-c63e-4ee0-bec6-c288856f19c0"
      },
      "outputs": [
        {
          "output_type": "execute_result",
          "data": {
            "text/plain": [
              "device(type='cpu')"
            ]
          },
          "metadata": {},
          "execution_count": 28
        }
      ],
      "source": [
        "next(model_0.parameters()).device"
      ]
    },
    {
      "cell_type": "code",
      "execution_count": null,
      "metadata": {
        "id": "evBUOU_0m5eP"
      },
      "outputs": [],
      "source": [
        "from helper_functions import accuracy_fn\n",
        "loss_fn = nn.CrossEntropyLoss()\n",
        "optimizer = torch.optim.SGD(params=model_1.parameters(),lr=0.1)"
      ]
    },
    {
      "cell_type": "markdown",
      "metadata": {
        "id": "rLOlrs84m5qZ"
      },
      "source": [
        "# functionizing traiining and testing   "
      ]
    },
    {
      "cell_type": "code",
      "execution_count": null,
      "metadata": {
        "id": "teuNEHsbm51c"
      },
      "outputs": [],
      "source": [
        "def train_step(\n",
        "    model:torch.nn.Module,\n",
        "    loss_fn:torch.nn.Module,\n",
        "    optimizer:torch.optim.Optimizer,\n",
        "    dataloader:torch.utils.data,\n",
        "    accuracy):\n",
        "\n",
        "    train_loss,train_acc = 0,0\n",
        "    for batch,(X,y) in enumerate(dataloader): # enumerate is used to track batch number\n",
        "      model.train()\n",
        "      y_pred = model(X)\n",
        "      loss = loss_fn(y_pred,y)\n",
        "      train_loss += loss\n",
        "      train_acc += accuracy(y_true=y,y_pred=y_pred.argmax(dim=1))\n",
        "      optimizer.zero_grad()\n",
        "      loss.backward()\n",
        "      optimizer.step()\n",
        "    train_loss /= len(dataloader)\n",
        "    train_acc /= len(dataloader)\n",
        "    print(f\"Train loss: {train_loss:.4f} | Train acc: {train_acc:.2f}%\")\n",
        "\n"
      ]
    },
    {
      "cell_type": "code",
      "execution_count": null,
      "metadata": {
        "colab": {
          "base_uri": "https://localhost:8080/"
        },
        "id": "uHys4nBfrLKU",
        "outputId": "490a36a3-5aed-4832-ce3e-938ec79c0efe"
      },
      "outputs": [
        {
          "output_type": "execute_result",
          "data": {
            "text/plain": [
              "torch.Size([32, 1, 28, 28])"
            ]
          },
          "metadata": {},
          "execution_count": 31
        }
      ],
      "source": [
        "X.shape"
      ]
    },
    {
      "cell_type": "code",
      "execution_count": null,
      "metadata": {
        "id": "suWURfWjsAw3"
      },
      "outputs": [],
      "source": [
        "def test_step(\n",
        "    model:torch.nn.Module,\n",
        "    loss_fn:torch.nn.Module,\n",
        "    dataloader:torch.utils.data,\n",
        "    accuracy):\n",
        "  \"\"\" perform a testing loop step on model going over data_loader\"\"\"\n",
        "  test_loss,test_acc = 0,0\n",
        "  model.eval()\n",
        "  with torch.inference_mode():\n",
        "    for X_test,y_test in dataloader:\n",
        "      test_pred = model(X_test)\n",
        "      test_loss += loss_fn(test_pred,y_test)\n",
        "      test_acc += accuracy(y_true=y_test,\n",
        "                           y_pred=test_pred.argmax(dim=1))\n",
        "    test_loss /= len(test_dataloader)\n",
        "    test_acc /= len(test_dataloader)\n",
        "    print(f\"Test loss: {test_loss:.4f} | Test acc: {test_acc:.2f}%\")"
      ]
    },
    {
      "cell_type": "code",
      "execution_count": null,
      "metadata": {
        "colab": {
          "base_uri": "https://localhost:8080/",
          "height": 281,
          "referenced_widgets": [
            "09815085225f45f0a4caefa7a822cc6e",
            "c7809a818ef14214ab1277e5b6fe5b4b",
            "fd25d44d5b4f4cf684b3b0804425fa28",
            "2a9cdfc1d1ce47a8a86c66292285d074",
            "7385bad4e7f44d848894cc6d1872fb55",
            "015534e5cb8444f28035002048cc1879",
            "bf4904a22ccb4315867f7f6174c718f6",
            "addf331c1d8d4ae1b3fc3dac820358be",
            "b0578e4ad1d54c9bb9fa9cc200f07fae",
            "580285384b3a4c9d9e1be64c76a2bc24",
            "0247162570234cdfb036254a4792c10c"
          ]
        },
        "id": "-yOn5V53v4b-",
        "outputId": "2c111801-778a-49c7-aec5-1eb6e743c4e5"
      },
      "outputs": [
        {
          "output_type": "display_data",
          "data": {
            "text/plain": [
              "  0%|          | 0/3 [00:00<?, ?it/s]"
            ],
            "application/vnd.jupyter.widget-view+json": {
              "version_major": 2,
              "version_minor": 0,
              "model_id": "09815085225f45f0a4caefa7a822cc6e"
            }
          },
          "metadata": {}
        },
        {
          "output_type": "stream",
          "name": "stdout",
          "text": [
            "Epoch: 0\n",
            "---------\n",
            "Train loss: 0.6677 | Train acc: 75.88%\n",
            "Test loss: 0.5009 | Test acc: 82.09%\n",
            "Epoch: 1\n",
            "---------\n",
            "Train loss: 0.4834 | Train acc: 82.77%\n",
            "Test loss: 0.4890 | Test acc: 82.69%\n",
            "Epoch: 2\n",
            "---------\n",
            "Train loss: 0.4495 | Train acc: 83.87%\n",
            "Test loss: 0.4858 | Test acc: 82.89%\n",
            "Train time:  38.509\n"
          ]
        }
      ],
      "source": [
        "from timeit import default_timer as timer\n",
        "torch.manual_seed(42)\n",
        "start_timer = timer()\n",
        "epochs = 3\n",
        "for epoch in tqdm(range(epochs)):\n",
        "  print(f\"Epoch: {epoch}\\n---------\")\n",
        "  train_step(model=model_1,\n",
        "             loss_fn=loss_fn,\n",
        "             optimizer=optimizer,\n",
        "             dataloader=train_dataloader,\n",
        "             accuracy=accuracy_fn)\n",
        "  test_step(model=model_1,\n",
        "            loss_fn=loss_fn,\n",
        "            dataloader=test_dataloader,\n",
        "            accuracy=accuracy_fn)\n",
        "end_timer = timer()\n",
        "total_time_model_1 = print_train_time(start=start_timer,end=end_timer)\n"
      ]
    },
    {
      "cell_type": "code",
      "execution_count": null,
      "metadata": {
        "colab": {
          "base_uri": "https://localhost:8080/"
        },
        "id": "tzv7as_4wFkv",
        "outputId": "c1541a64-6a15-4be1-fd93-3d5c2a2c6c44"
      },
      "outputs": [
        {
          "output_type": "execute_result",
          "data": {
            "text/plain": [
              "{'model_name': 'FashionMNISTModelV0',\n",
              " 'model_loss': 0.47663894295692444,\n",
              " 'model_acc': 83.42651757188499}"
            ]
          },
          "metadata": {},
          "execution_count": 34
        }
      ],
      "source": [
        "model_0_results"
      ]
    },
    {
      "cell_type": "code",
      "execution_count": null,
      "metadata": {
        "colab": {
          "base_uri": "https://localhost:8080/",
          "height": 103,
          "referenced_widgets": [
            "84ec70b4114a46aca499f1b398ec43db",
            "6a32188e7e794ae6b3e887815a0a1bb5",
            "cc534b6d91824ce5b9f3d9a2088f5309",
            "5e166ffe28824b0bb84f9e90e5dd0f3b",
            "6fdd5e8e57534fd7aa92fe1a8a81edc8",
            "f609f97c193b4399a08e3e234f8a518b",
            "67979d4c155640af9d658b258f8d94d3",
            "ca994f7099c84fffbd17bdfaf703c0a4",
            "67d4ec0e378945a0807594bdea6a64ca",
            "5586280544034a71a4a6e0b4b8344f42",
            "a589d2f9b0374d27a3509ebe163a9b8b"
          ]
        },
        "id": "ks1qmKRlwFwh",
        "outputId": "29172181-9840-43df-fd77-07a5e5203ba6"
      },
      "outputs": [
        {
          "output_type": "display_data",
          "data": {
            "text/plain": [
              "  0%|          | 0/313 [00:00<?, ?it/s]"
            ],
            "application/vnd.jupyter.widget-view+json": {
              "version_major": 2,
              "version_minor": 0,
              "model_id": "84ec70b4114a46aca499f1b398ec43db"
            }
          },
          "metadata": {}
        },
        {
          "output_type": "execute_result",
          "data": {
            "text/plain": [
              "{'model_name': 'FashionMNISTModelV1',\n",
              " 'model_loss': 0.48580455780029297,\n",
              " 'model_acc': 82.8873801916933}"
            ]
          },
          "metadata": {},
          "execution_count": 35
        }
      ],
      "source": [
        "model_1_results = eval_model(model=model_1,\n",
        "                             loss=loss_fn,\n",
        "                             accuracy_fn=accuracy_fn,\n",
        "                             dataloader=test_dataloader)\n",
        "model_1_results"
      ]
    },
    {
      "cell_type": "markdown",
      "metadata": {
        "id": "vhPpS0z8wGGD"
      },
      "source": [
        "** note :** sometimes, depending on your data/hardware we might find that our model trains faster on cpu than gpu.\n",
        "\n",
        "why is this?\n",
        "1. it could be that the overhead for copying data/hardware to and from the GPU outweights the compute benefits offfered by the gpu.\n",
        "2. the hardware we are using has a better CPU in terms compute capability than GPU"
      ]
    },
    {
      "cell_type": "markdown",
      "metadata": {
        "id": "YdlX8RdywGZX"
      },
      "source": [
        "for CNN :- https://poloclub.github.io/cnn-explainer/"
      ]
    },
    {
      "cell_type": "code",
      "execution_count": null,
      "metadata": {
        "id": "j9L9ZfwFwGsz"
      },
      "outputs": [],
      "source": [
        "class FashionMNISTModelV2(nn.Module):\n",
        "  def __init__(self ,\n",
        "               input_features:int ,\n",
        "               output_features:int ,\n",
        "               hidden_units:int):\n",
        "    super().__init__()\n",
        "    self.conv_block_1 = nn.Sequential(\n",
        "        nn.Conv2d(in_channels=input_features,\n",
        "                  out_channels=hidden_units,\n",
        "                  kernel_size=3,\n",
        "                  stride=1,\n",
        "                  padding=1),\n",
        "        nn.ReLU(),\n",
        "        nn.Conv2d(in_channels=hidden_units,\n",
        "                  out_channels=hidden_units,\n",
        "                  kernel_size=3,\n",
        "                  stride=1,\n",
        "                  padding=1),\n",
        "        nn.ReLU(),\n",
        "        nn.MaxPool2d(kernel_size=2)\n",
        "    )\n",
        "    self.conv_block_2 = nn.Sequential(\n",
        "        nn.Conv2d(in_channels=hidden_units,\n",
        "                  out_channels=hidden_units,\n",
        "                  kernel_size=3,\n",
        "                  stride=1,\n",
        "                  padding=1),\n",
        "        nn.ReLU(),\n",
        "        nn.Conv2d(in_channels=hidden_units,\n",
        "                  out_channels=hidden_units,\n",
        "                  kernel_size=3,\n",
        "                  stride=1,\n",
        "                  padding=1),\n",
        "        nn.ReLU(),\n",
        "        nn.MaxPool2d(kernel_size=2)\n",
        "    )\n",
        "    self.classifier = nn.Sequential(\n",
        "        nn.Flatten(),\n",
        "        nn.Linear(in_features=hidden_units*7*7,\n",
        "                  out_features=output_features)\n",
        "    )\n",
        "  def forward(self,x):\n",
        "    z = self.conv_block_1(x)\n",
        "    z = self.conv_block_2(z)\n",
        "    z = self.classifier(z)\n",
        "    return z\n",
        "\n",
        "\n"
      ]
    },
    {
      "cell_type": "code",
      "execution_count": null,
      "metadata": {
        "colab": {
          "base_uri": "https://localhost:8080/",
          "height": 448
        },
        "id": "29E7jijfXK9D",
        "outputId": "1fd8f41f-e4d7-4eda-f825-890d66ce71e0"
      },
      "outputs": [
        {
          "output_type": "execute_result",
          "data": {
            "text/plain": [
              "<matplotlib.image.AxesImage at 0x7b2901151ba0>"
            ]
          },
          "metadata": {},
          "execution_count": 37
        },
        {
          "output_type": "display_data",
          "data": {
            "text/plain": [
              "<Figure size 640x480 with 1 Axes>"
            ],
            "image/png": "[encoded data removed]"
          },
          "metadata": {}
        }
      ],
      "source": [
        "plt.imshow(img.squeeze(),cmap=\"gray\")"
      ]
    },
    {
      "cell_type": "code",
      "execution_count": null,
      "metadata": {
        "colab": {
          "base_uri": "https://localhost:8080/"
        },
        "id": "e9H81Gza6mIs",
        "outputId": "50d7c5ca-8276-445e-df29-46b257a9baf3"
      },
      "outputs": [
        {
          "output_type": "execute_result",
          "data": {
            "text/plain": [
              "FashionMNISTModelV2(\n",
              "  (conv_block_1): Sequential(\n",
              "    (0): Conv2d(1, 10, kernel_size=(3, 3), stride=(1, 1), padding=(1, 1))\n",
              "    (1): ReLU()\n",
              "    (2): Conv2d(10, 10, kernel_size=(3, 3), stride=(1, 1), padding=(1, 1))\n",
              "    (3): ReLU()\n",
              "    (4): MaxPool2d(kernel_size=2, stride=2, padding=0, dilation=1, ceil_mode=False)\n",
              "  )\n",
              "  (conv_block_2): Sequential(\n",
              "    (0): Conv2d(10, 10, kernel_size=(3, 3), stride=(1, 1), padding=(1, 1))\n",
              "    (1): ReLU()\n",
              "    (2): Conv2d(10, 10, kernel_size=(3, 3), stride=(1, 1), padding=(1, 1))\n",
              "    (3): ReLU()\n",
              "    (4): MaxPool2d(kernel_size=2, stride=2, padding=0, dilation=1, ceil_mode=False)\n",
              "  )\n",
              "  (classifier): Sequential(\n",
              "    (0): Flatten(start_dim=1, end_dim=-1)\n",
              "    (1): Linear(in_features=490, out_features=10, bias=True)\n",
              "  )\n",
              ")"
            ]
          },
          "metadata": {},
          "execution_count": 38
        }
      ],
      "source": [
        "torch.manual_seed(42)\n",
        "model_2 = FashionMNISTModelV2(input_features=1,\n",
        "                              output_features=len(class_names),\n",
        "                              hidden_units=10)\n",
        "model_2"
      ]
    },
    {
      "cell_type": "code",
      "execution_count": null,
      "metadata": {
        "colab": {
          "base_uri": "https://localhost:8080/"
        },
        "id": "Or2A3MDZA9TL",
        "outputId": "fe1cbb30-9b29-4e8e-cfd3-c768110b7bb2"
      },
      "outputs": [
        {
          "output_type": "execute_result",
          "data": {
            "text/plain": [
              "torch.Size([1, 1, 28, 28])"
            ]
          },
          "metadata": {},
          "execution_count": 39
        }
      ],
      "source": [
        "torch_random_tensor = torch.rand(size=(1,1,28,28))\n",
        "torch_random_tensor.shape"
      ]
    },
    {
      "cell_type": "code",
      "execution_count": null,
      "metadata": {
        "colab": {
          "base_uri": "https://localhost:8080/"
        },
        "id": "zGoQkE3e5TLs",
        "outputId": "ada71365-5858-4c43-df62-4af541b646e6"
      },
      "outputs": [
        {
          "output_type": "execute_result",
          "data": {
            "text/plain": [
              "tensor([[ 0.0372, -0.0748,  0.0573, -0.0396, -0.0098,  0.0194, -0.0003, -0.0114,\n",
              "          0.0206,  0.0003]], grad_fn=<AddmmBackward0>)"
            ]
          },
          "metadata": {},
          "execution_count": 40
        }
      ],
      "source": [
        "model_2(torch_random_tensor)"
      ]
    },
    {
      "cell_type": "markdown",
      "metadata": {
        "id": "gfNP0zrsXOuQ"
      },
      "source": [
        "in features for conv layer is no of color channnel and since our image is in black and white so it is 1"
      ]
    },
    {
      "cell_type": "code",
      "execution_count": null,
      "metadata": {
        "colab": {
          "base_uri": "https://localhost:8080/"
        },
        "id": "rx0ttigyHu3a",
        "outputId": "812463a1-95d3-4a0c-a1f3-0bfdff37318a"
      },
      "outputs": [
        {
          "output_type": "execute_result",
          "data": {
            "text/plain": [
              "FashionMNISTModelV2(\n",
              "  (conv_block_1): Sequential(\n",
              "    (0): Conv2d(1, 10, kernel_size=(3, 3), stride=(1, 1), padding=(1, 1))\n",
              "    (1): ReLU()\n",
              "    (2): Conv2d(10, 10, kernel_size=(3, 3), stride=(1, 1), padding=(1, 1))\n",
              "    (3): ReLU()\n",
              "    (4): MaxPool2d(kernel_size=2, stride=2, padding=0, dilation=1, ceil_mode=False)\n",
              "  )\n",
              "  (conv_block_2): Sequential(\n",
              "    (0): Conv2d(10, 10, kernel_size=(3, 3), stride=(1, 1), padding=(1, 1))\n",
              "    (1): ReLU()\n",
              "    (2): Conv2d(10, 10, kernel_size=(3, 3), stride=(1, 1), padding=(1, 1))\n",
              "    (3): ReLU()\n",
              "    (4): MaxPool2d(kernel_size=2, stride=2, padding=0, dilation=1, ceil_mode=False)\n",
              "  )\n",
              "  (classifier): Sequential(\n",
              "    (0): Flatten(start_dim=1, end_dim=-1)\n",
              "    (1): Linear(in_features=490, out_features=10, bias=True)\n",
              "  )\n",
              ")"
            ]
          },
          "metadata": {},
          "execution_count": 41
        }
      ],
      "source": [
        "torch.manual_seed(42)\n",
        "model_2 = FashionMNISTModelV2(input_features=1,\n",
        "                              output_features=len(class_names),\n",
        "                              hidden_units=10)\n",
        "model_2"
      ]
    },
    {
      "cell_type": "markdown",
      "metadata": {
        "id": "MpfqebWyHvBx"
      },
      "source": [
        "# stepping through `nn.Conv2d()`"
      ]
    },
    {
      "cell_type": "code",
      "execution_count": null,
      "metadata": {
        "colab": {
          "base_uri": "https://localhost:8080/"
        },
        "id": "8CisGCcoHvMC",
        "outputId": "d4598985-02e9-4908-d327-aff7d9e6bdc3"
      },
      "outputs": [
        {
          "output_type": "stream",
          "name": "stdout",
          "text": [
            "shape of images: torch.Size([32, 3, 64, 64])\n",
            "shape of test image: torch.Size([3, 64, 64])\n",
            "test image: tensor([[[0.8823, 0.9150, 0.3829,  ..., 0.1587, 0.6542, 0.3278],\n",
            "         [0.6532, 0.3958, 0.9147,  ..., 0.2083, 0.3289, 0.1054],\n",
            "         [0.9192, 0.4008, 0.9302,  ..., 0.5535, 0.4117, 0.3510],\n",
            "         ...,\n",
            "         [0.1457, 0.1499, 0.3298,  ..., 0.9624, 0.6400, 0.7409],\n",
            "         [0.1709, 0.5797, 0.6340,  ..., 0.6885, 0.2405, 0.5956],\n",
            "         [0.9199, 0.1247, 0.3573,  ..., 0.6752, 0.2058, 0.5027]],\n",
            "\n",
            "        [[0.1458, 0.9024, 0.9217,  ..., 0.1868, 0.6352, 0.8431],\n",
            "         [0.9549, 0.4435, 0.6924,  ..., 0.1168, 0.7160, 0.5462],\n",
            "         [0.1616, 0.1054, 0.8614,  ..., 0.4531, 0.4736, 0.9448],\n",
            "         ...,\n",
            "         [0.4309, 0.3986, 0.1907,  ..., 0.9444, 0.2848, 0.3776],\n",
            "         [0.7948, 0.6855, 0.1009,  ..., 0.6147, 0.7747, 0.2323],\n",
            "         [0.5840, 0.9795, 0.3277,  ..., 0.3549, 0.1263, 0.1280]],\n",
            "\n",
            "        [[0.5027, 0.4195, 0.8893,  ..., 0.3084, 0.1567, 0.7860],\n",
            "         [0.7310, 0.9307, 0.2847,  ..., 0.8432, 0.8307, 0.0897],\n",
            "         [0.7021, 0.5967, 0.7744,  ..., 0.8485, 0.4520, 0.0401],\n",
            "         ...,\n",
            "         [0.5440, 0.0679, 0.6577,  ..., 0.9948, 0.2791, 0.4142],\n",
            "         [0.5095, 0.1246, 0.1726,  ..., 0.0984, 0.3224, 0.3125],\n",
            "         [0.3612, 0.8706, 0.4751,  ..., 0.5368, 0.2389, 0.2095]]])\n"
          ]
        }
      ],
      "source": [
        "torch.manual_seed(42)\n",
        "images = torch.rand(size=(32,3,64,64))\n",
        "test_image = images[0]\n",
        "print(f\"shape of images: {images.shape}\")\n",
        "print(f\"shape of test image: {test_image.shape}\")\n",
        "print(f\"test image: {test_image}\")"
      ]
    },
    {
      "cell_type": "code",
      "execution_count": null,
      "metadata": {
        "id": "bBt4xbWfHvWO"
      },
      "outputs": [],
      "source": [
        "# create a single conv2d layer\n",
        "torch.manual_seed(42)\n",
        "conv_layer = nn.Conv2d(in_channels=3,\n",
        "                       out_channels=10,\n",
        "                       kernel_size=3,\n",
        "                       stride=1,\n",
        "                       padding=0)\n",
        "conv_output = conv_layer(test_image)\n",
        "conv_output1 = conv_layer(images)\n"
      ]
    },
    {
      "cell_type": "code",
      "execution_count": null,
      "metadata": {
        "colab": {
          "base_uri": "https://localhost:8080/"
        },
        "id": "kejkP-9Bq6EQ",
        "outputId": "a9dca07e-7a93-44cd-ad45-d57cd37b70b8"
      },
      "outputs": [
        {
          "output_type": "stream",
          "name": "stdout",
          "text": [
            "shape of conv_output: torch.Size([10, 62, 62])\n",
            "shape of conv_output1: torch.Size([32, 10, 62, 62])\n"
          ]
        }
      ],
      "source": [
        "print(f\"shape of conv_output: {conv_output.shape}\")\n",
        "print(f\"shape of conv_output1: {conv_output1.shape}\")"
      ]
    },
    {
      "cell_type": "code",
      "execution_count": null,
      "metadata": {
        "colab": {
          "base_uri": "https://localhost:8080/"
        },
        "id": "4k88Vz5BxTgR",
        "outputId": "e88f83f2-6792-48a3-dc85-e1a51a150402"
      },
      "outputs": [
        {
          "output_type": "execute_result",
          "data": {
            "text/plain": [
              "tensor([[[0.8823, 0.9150, 0.3829,  ..., 0.1587, 0.6542, 0.3278],\n",
              "         [0.6532, 0.3958, 0.9147,  ..., 0.2083, 0.3289, 0.1054],\n",
              "         [0.9192, 0.4008, 0.9302,  ..., 0.5535, 0.4117, 0.3510],\n",
              "         ...,\n",
              "         [0.1457, 0.1499, 0.3298,  ..., 0.9624, 0.6400, 0.7409],\n",
              "         [0.1709, 0.5797, 0.6340,  ..., 0.6885, 0.2405, 0.5956],\n",
              "         [0.9199, 0.1247, 0.3573,  ..., 0.6752, 0.2058, 0.5027]],\n",
              "\n",
              "        [[0.1458, 0.9024, 0.9217,  ..., 0.1868, 0.6352, 0.8431],\n",
              "         [0.9549, 0.4435, 0.6924,  ..., 0.1168, 0.7160, 0.5462],\n",
              "         [0.1616, 0.1054, 0.8614,  ..., 0.4531, 0.4736, 0.9448],\n",
              "         ...,\n",
              "         [0.4309, 0.3986, 0.1907,  ..., 0.9444, 0.2848, 0.3776],\n",
              "         [0.7948, 0.6855, 0.1009,  ..., 0.6147, 0.7747, 0.2323],\n",
              "         [0.5840, 0.9795, 0.3277,  ..., 0.3549, 0.1263, 0.1280]],\n",
              "\n",
              "        [[0.5027, 0.4195, 0.8893,  ..., 0.3084, 0.1567, 0.7860],\n",
              "         [0.7310, 0.9307, 0.2847,  ..., 0.8432, 0.8307, 0.0897],\n",
              "         [0.7021, 0.5967, 0.7744,  ..., 0.8485, 0.4520, 0.0401],\n",
              "         ...,\n",
              "         [0.5440, 0.0679, 0.6577,  ..., 0.9948, 0.2791, 0.4142],\n",
              "         [0.5095, 0.1246, 0.1726,  ..., 0.0984, 0.3224, 0.3125],\n",
              "         [0.3612, 0.8706, 0.4751,  ..., 0.5368, 0.2389, 0.2095]]])"
            ]
          },
          "metadata": {},
          "execution_count": 45
        }
      ],
      "source": [
        "test_image"
      ]
    },
    {
      "cell_type": "markdown",
      "metadata": {
        "id": "2PYAYMGuq6NM"
      },
      "source": [
        "#stepping thr `nn.Maxpool2d`"
      ]
    },
    {
      "cell_type": "code",
      "execution_count": null,
      "metadata": {
        "colab": {
          "base_uri": "https://localhost:8080/"
        },
        "id": "7cFQlftbq6Vl",
        "outputId": "21918361-0997-481a-cd7e-cc3e29244dd7"
      },
      "outputs": [
        {
          "output_type": "stream",
          "name": "stdout",
          "text": [
            "original test image size: torch.Size([3, 64, 64])\n",
            "test image with unsqueezed dimension:torch.Size([1, 3, 64, 64])\n",
            "shape after going thr conv layer: torch.Size([10, 62, 62])\n",
            "shape after going thr maxpool layer: torch.Size([10, 31, 31])\n"
          ]
        }
      ],
      "source": [
        "print(f\"original test image size: {test_image.shape}\")\n",
        "print(f\"test image with unsqueezed dimension:{test_image.unsqueeze(0).shape}\")\n",
        "\n",
        "max_pool_layer = nn.MaxPool2d(kernel_size=2)\n",
        "\n",
        "test_image_through_conv = conv_layer(test_image)\n",
        "print(f\"shape after going thr conv layer: {test_image_through_conv.shape}\")\n",
        "\n",
        "test_image_through_maxpool = max_pool_layer(test_image_through_conv)\n",
        "print(f\"shape after going thr maxpool layer: {test_image_through_maxpool.shape}\")"
      ]
    },
    {
      "cell_type": "code",
      "execution_count": null,
      "metadata": {
        "colab": {
          "base_uri": "https://localhost:8080/"
        },
        "id": "IHBYf2squbGe",
        "outputId": "cc55c703-3fa2-42f2-b17b-634bae8415bc"
      },
      "outputs": [
        {
          "output_type": "stream",
          "name": "stdout",
          "text": [
            "random tensor:tensor([[[[0.8823, 0.9150],\n",
            "          [0.3829, 0.9593]]]])\n",
            "random tensor shape:torch.Size([1, 1, 2, 2])\n",
            "max pool tensor:tensor([[[[0.9593]]]])\n",
            "max pool tensor shape:torch.Size([1, 1, 1, 1])\n"
          ]
        }
      ],
      "source": [
        "torch.manual_seed(42)\n",
        "random_tensor = torch.rand(size=[1,1,2,2])\n",
        "print(f\"random tensor:{random_tensor}\")\n",
        "print(f\"random tensor shape:{random_tensor.shape}\")\n",
        "max_pool_tensor = max_pool_layer(random_tensor)\n",
        "print(f\"max pool tensor:{max_pool_tensor}\")\n",
        "print(f\"max pool tensor shape:{max_pool_tensor.shape}\")"
      ]
    },
    {
      "cell_type": "markdown",
      "metadata": {
        "id": "-tMQz8nNubQ7"
      },
      "source": [
        "conv2d layer\n",
        "1. kernel is like a filter that learns imp features of images and comprass the images\n",
        "2. stride determines how kernal should move across images i.e. if we set stride to 1 than it learns minor details skipping 1 column and if stride set to 2 then it learns details not much minor comparing to setting 1 which skips column 2 and make kernal moves and so on. also stride increase than image get more comprass\n",
        "3. padding is set if we want to maintain original shape of image or if we want model to learn features focusing the edges ."
      ]
    },
    {
      "cell_type": "markdown",
      "metadata": {
        "id": "oBVPmMDEubbq"
      },
      "source": [
        "maxpool2d layer\n",
        "it picks the imp features or maximum values from image with kernel that acts as window and compresses the image so if kernal is 2 then it picks imp features more detailly and if set 3 then it picks imp features detailly but no much comparing to when set 2 and also image comprass more when kernal set higher"
      ]
    },
    {
      "cell_type": "markdown",
      "metadata": {
        "id": "PdrK-IRJDHLJ"
      },
      "source": []
    },
    {
      "cell_type": "code",
      "execution_count": null,
      "metadata": {
        "id": "VxNMT8QcCply"
      },
      "outputs": [],
      "source": [
        "from helper_functions import accuracy_fn\n",
        "loss_fn = nn.CrossEntropyLoss()\n",
        "optimizer = torch.optim.SGD(params=model_2.parameters(),lr=0.1)"
      ]
    },
    {
      "cell_type": "code",
      "execution_count": null,
      "metadata": {
        "colab": {
          "base_uri": "https://localhost:8080/",
          "height": 281,
          "referenced_widgets": [
            "fbf21acca3304bcea3a6515ca32b4a7b",
            "218227481cd44c598b852d9c47275e4e",
            "007aa340ee5a4dca9b0c11d7c155a0b1",
            "19301b8ab3784f3d8580ef66775921f9",
            "74c4e59fb7164e979b349b556b3b5163",
            "7cf077a03423423db49f47320f856ee6",
            "8788d885b5c340579bcdff8f859cb527",
            "d78765049b9e4b47a80dfea17c89a524",
            "205dc2967ea046878659a3eabd850a80",
            "cc85b09ec06a40f6bef652f2d8c7fc62",
            "dfbbcab572544b1d962d16035d7b3776"
          ]
        },
        "id": "lt-CEXgo4cw_",
        "outputId": "23a87f65-ec01-4718-b077-9fdb6d3b9b38"
      },
      "outputs": [
        {
          "output_type": "display_data",
          "data": {
            "text/plain": [
              "  0%|          | 0/3 [00:00<?, ?it/s]"
            ],
            "application/vnd.jupyter.widget-view+json": {
              "version_major": 2,
              "version_minor": 0,
              "model_id": "fbf21acca3304bcea3a6515ca32b4a7b"
            }
          },
          "metadata": {}
        },
        {
          "output_type": "stream",
          "name": "stdout",
          "text": [
            "Epoch: 0\n",
            "---------\n",
            "Train loss: 0.5952 | Train acc: 78.38%\n",
            "Test loss: 0.3950 | Test acc: 85.99%\n",
            "Epoch: 1\n",
            "---------\n",
            "Train loss: 0.3654 | Train acc: 86.90%\n",
            "Test loss: 0.3524 | Test acc: 86.91%\n",
            "Epoch: 2\n",
            "---------\n",
            "Train loss: 0.3259 | Train acc: 88.13%\n",
            "Test loss: 0.3272 | Test acc: 88.07%\n",
            "Train time:  176.159\n"
          ]
        }
      ],
      "source": [
        "torch.manual_seed(42)\n",
        "torch.cuda.manual_seed(42) # only when we working on cuda device\n",
        "start_time = timer()\n",
        "epochs = 3\n",
        "for epoch in tqdm(range(epochs)):\n",
        "  print(f\"Epoch: {epoch}\\n---------\")\n",
        "  train_step(model=model_2,\n",
        "             loss_fn=loss_fn,\n",
        "             optimizer=optimizer,\n",
        "             dataloader=train_dataloader,\n",
        "             accuracy=accuracy_fn)\n",
        "  test_step(model=model_2,\n",
        "            loss_fn=loss_fn,\n",
        "            dataloader=test_dataloader,\n",
        "            accuracy=accuracy_fn)\n",
        "end_time = timer()\n",
        "total_time = print_train_time(start=start_time,end=end_time)"
      ]
    },
    {
      "cell_type": "code",
      "execution_count": null,
      "metadata": {
        "colab": {
          "base_uri": "https://localhost:8080/",
          "height": 103,
          "referenced_widgets": [
            "ff0750199b07410fbba8289fdb9cf7d6",
            "5dce55372cee471a8802fc275843d68f",
            "190b04a8ee554c09803f8edb2f8448e5",
            "13afcfcc4b2b4b658b0ba5bd18a40fe7",
            "395c890df7ae476da6f51b49e7ee8970",
            "5c58c5b6d5994caf83f24c5e43353e26",
            "bce36d4027ec4407a751a0df18827e96",
            "d7ba954c9b22433389baa5cd4d964a6d",
            "9b973d548a9149bb8c93abae03bafd34",
            "ed361d0b05064e2a9127fca7b6d85b7f",
            "4a203f1d4356468fa1aa1badca9b99e4"
          ]
        },
        "id": "vjQ89G5YFZMB",
        "outputId": "075141a3-1054-4bda-bccf-d34a6faf9a5a"
      },
      "outputs": [
        {
          "output_type": "display_data",
          "data": {
            "text/plain": [
              "  0%|          | 0/313 [00:00<?, ?it/s]"
            ],
            "application/vnd.jupyter.widget-view+json": {
              "version_major": 2,
              "version_minor": 0,
              "model_id": "ff0750199b07410fbba8289fdb9cf7d6"
            }
          },
          "metadata": {}
        },
        {
          "output_type": "execute_result",
          "data": {
            "text/plain": [
              "{'model_name': 'FashionMNISTModelV2',\n",
              " 'model_loss': 0.32718968391418457,\n",
              " 'model_acc': 88.06908945686901}"
            ]
          },
          "metadata": {},
          "execution_count": 50
        }
      ],
      "source": [
        "model_2_result = eval_model(model=model_2,\n",
        "                             loss=loss_fn,\n",
        "                             accuracy_fn=accuracy_fn,\n",
        "                             dataloader=test_dataloader)\n",
        "model_2_result"
      ]
    },
    {
      "cell_type": "code",
      "execution_count": null,
      "metadata": {
        "colab": {
          "base_uri": "https://localhost:8080/"
        },
        "id": "ywJBHIH14c6f",
        "outputId": "16f59018-fcad-485f-b08c-c054d43688f6"
      },
      "outputs": [
        {
          "output_type": "stream",
          "name": "stdout",
          "text": [
            "{'model_name': 'FashionMNISTModelV0', 'model_loss': 0.47663894295692444, 'model_acc': 83.42651757188499}\n",
            "{'model_name': 'FashionMNISTModelV1', 'model_loss': 0.48580455780029297, 'model_acc': 82.8873801916933}\n",
            "{'model_name': 'FashionMNISTModelV2', 'model_loss': 0.32718968391418457, 'model_acc': 88.06908945686901}\n"
          ]
        }
      ],
      "source": [
        "print(model_0_results)\n",
        "print(model_1_results)\n",
        "print(model_2_result)"
      ]
    },
    {
      "cell_type": "markdown",
      "metadata": {
        "id": "_yM7qJ8z4dD1"
      },
      "source": [
        "comparing model results and trainig time"
      ]
    },
    {
      "cell_type": "code",
      "execution_count": null,
      "metadata": {
        "colab": {
          "base_uri": "https://localhost:8080/",
          "height": 143
        },
        "id": "by4CcLUA4dNN",
        "outputId": "162b9486-d454-4b81-e6ad-4ac029a7de54"
      },
      "outputs": [
        {
          "output_type": "execute_result",
          "data": {
            "text/plain": [
              "            model_name  model_loss  model_acc\n",
              "0  FashionMNISTModelV0    0.476639  83.426518\n",
              "1  FashionMNISTModelV1    0.485805  82.887380\n",
              "2  FashionMNISTModelV2    0.327190  88.069089"
            ],
            "text/html": [
              "\n",
              "  <div id=\"df-743d4e0c-f967-48e8-8e85-b29e38b06ab4\" class=\"colab-df-container\">\n",
              "    <div>\n",
              "<style scoped>\n",
              "    .dataframe tbody tr th:only-of-type {\n",
              "        vertical-align: middle;\n",
              "    }\n",
              "\n",
              "    .dataframe tbody tr th {\n",
              "        vertical-align: top;\n",
              "    }\n",
              "\n",
              "    .dataframe thead th {\n",
              "        text-align: right;\n",
              "    }\n",
              "</style>\n",
              "<table border=\"1\" class=\"dataframe\">\n",
              "  <thead>\n",
              "    <tr style=\"text-align: right;\">\n",
              "      <th></th>\n",
              "      <th>model_name</th>\n",
              "      <th>model_loss</th>\n",
              "      <th>model_acc</th>\n",
              "    </tr>\n",
              "  </thead>\n",
              "  <tbody>\n",
              "    <tr>\n",
              "      <th>0</th>\n",
              "      <td>FashionMNISTModelV0</td>\n",
              "      <td>0.476639</td>\n",
              "      <td>83.426518</td>\n",
              "    </tr>\n",
              "    <tr>\n",
              "      <th>1</th>\n",
              "      <td>FashionMNISTModelV1</td>\n",
              "      <td>0.485805</td>\n",
              "      <td>82.887380</td>\n",
              "    </tr>\n",
              "    <tr>\n",
              "      <th>2</th>\n",
              "      <td>FashionMNISTModelV2</td>\n",
              "      <td>0.327190</td>\n",
              "      <td>88.069089</td>\n",
              "    </tr>\n",
              "  </tbody>\n",
              "</table>\n",
              "</div>\n",
              "    <div class=\"colab-df-buttons\">\n",
              "\n",
              "  <div class=\"colab-df-container\">\n",
              "    <button class=\"colab-df-convert\" onclick=\"convertToInteractive('df-743d4e0c-f967-48e8-8e85-b29e38b06ab4')\"\n",
              "            title=\"Convert this dataframe to an interactive table.\"\n",
              "            style=\"display:none;\">\n",
              "\n",
              "  <svg xmlns=\"http://www.w3.org/2000/svg\" height=\"24px\" viewBox=\"0 -960 960 960\">\n",
              "    <path d=\"M120-120v-720h720v720H120Zm60-500h600v-160H180v160Zm220 220h160v-160H400v160Zm0 220h160v-160H400v160ZM180-400h160v-160H180v160Zm440 0h160v-160H620v160ZM180-180h160v-160H180v160Zm440 0h160v-160H620v160Z\"/>\n",
              "  </svg>\n",
              "    </button>\n",
              "\n",
              "  <style>\n",
              "    .colab-df-container {\n",
              "      display:flex;\n",
              "      gap: 12px;\n",
              "    }\n",
              "\n",
              "    .colab-df-convert {\n",
              "      background-color: #E8F0FE;\n",
              "      border: none;\n",
              "      border-radius: 50%;\n",
              "      cursor: pointer;\n",
              "      display: none;\n",
              "      fill: #1967D2;\n",
              "      height: 32px;\n",
              "      padding: 0 0 0 0;\n",
              "      width: 32px;\n",
              "    }\n",
              "\n",
              "    .colab-df-convert:hover {\n",
              "      background-color: #E2EBFA;\n",
              "      box-shadow: 0px 1px 2px rgba(60, 64, 67, 0.3), 0px 1px 3px 1px rgba(60, 64, 67, 0.15);\n",
              "      fill: #174EA6;\n",
              "    }\n",
              "\n",
              "    .colab-df-buttons div {\n",
              "      margin-bottom: 4px;\n",
              "    }\n",
              "\n",
              "    [theme=dark] .colab-df-convert {\n",
              "      background-color: #3B4455;\n",
              "      fill: #D2E3FC;\n",
              "    }\n",
              "\n",
              "    [theme=dark] .colab-df-convert:hover {\n",
              "      background-color: #434B5C;\n",
              "      box-shadow: 0px 1px 3px 1px rgba(0, 0, 0, 0.15);\n",
              "      filter: drop-shadow(0px 1px 2px rgba(0, 0, 0, 0.3));\n",
              "      fill: #FFFFFF;\n",
              "    }\n",
              "  </style>\n",
              "\n",
              "    <script>\n",
              "      const buttonEl =\n",
              "        document.querySelector('#df-743d4e0c-f967-48e8-8e85-b29e38b06ab4 button.colab-df-convert');\n",
              "      buttonEl.style.display =\n",
              "        google.colab.kernel.accessAllowed ? 'block' : 'none';\n",
              "\n",
              "      async function convertToInteractive(key) {\n",
              "        const element = document.querySelector('#df-743d4e0c-f967-48e8-8e85-b29e38b06ab4');\n",
              "        const dataTable =\n",
              "          await google.colab.kernel.invokeFunction('convertToInteractive',\n",
              "                                                    [key], {});\n",
              "        if (!dataTable) return;\n",
              "\n",
              "        const docLinkHtml = 'Like what you see? Visit the ' +\n",
              "          '<a target=\"_blank\" href=https://colab.research.google.com/notebooks/data_table.ipynb>data table notebook</a>'\n",
              "          + ' to learn more about interactive tables.';\n",
              "        element.innerHTML = '';\n",
              "        dataTable['output_type'] = 'display_data';\n",
              "        await google.colab.output.renderOutput(dataTable, element);\n",
              "        const docLink = document.createElement('div');\n",
              "        docLink.innerHTML = docLinkHtml;\n",
              "        element.appendChild(docLink);\n",
              "      }\n",
              "    </script>\n",
              "  </div>\n",
              "\n",
              "\n",
              "<div id=\"df-b3357f51-def0-4425-bc44-b707800712bc\">\n",
              "  <button class=\"colab-df-quickchart\" onclick=\"quickchart('df-b3357f51-def0-4425-bc44-b707800712bc')\"\n",
              "            title=\"Suggest charts\"\n",
              "            style=\"display:none;\">\n",
              "\n",
              "<svg xmlns=\"http://www.w3.org/2000/svg\" height=\"24px\"viewBox=\"0 0 24 24\"\n",
              "     width=\"24px\">\n",
              "    <g>\n",
              "        <path d=\"M19 3H5c-1.1 0-2 .9-2 2v14c0 1.1.9 2 2 2h14c1.1 0 2-.9 2-2V5c0-1.1-.9-2-2-2zM9 17H7v-7h2v7zm4 0h-2V7h2v10zm4 0h-2v-4h2v4z\"/>\n",
              "    </g>\n",
              "</svg>\n",
              "  </button>\n",
              "\n",
              "<style>\n",
              "  .colab-df-quickchart {\n",
              "      --bg-color: #E8F0FE;\n",
              "      --fill-color: #1967D2;\n",
              "      --hover-bg-color: #E2EBFA;\n",
              "      --hover-fill-color: #174EA6;\n",
              "      --disabled-fill-color: #AAA;\n",
              "      --disabled-bg-color: #DDD;\n",
              "  }\n",
              "\n",
              "  [theme=dark] .colab-df-quickchart {\n",
              "      --bg-color: #3B4455;\n",
              "      --fill-color: #D2E3FC;\n",
              "      --hover-bg-color: #434B5C;\n",
              "      --hover-fill-color: #FFFFFF;\n",
              "      --disabled-bg-color: #3B4455;\n",
              "      --disabled-fill-color: #666;\n",
              "  }\n",
              "\n",
              "  .colab-df-quickchart {\n",
              "    background-color: var(--bg-color);\n",
              "    border: none;\n",
              "    border-radius: 50%;\n",
              "    cursor: pointer;\n",
              "    display: none;\n",
              "    fill: var(--fill-color);\n",
              "    height: 32px;\n",
              "    padding: 0;\n",
              "    width: 32px;\n",
              "  }\n",
              "\n",
              "  .colab-df-quickchart:hover {\n",
              "    background-color: var(--hover-bg-color);\n",
              "    box-shadow: 0 1px 2px rgba(60, 64, 67, 0.3), 0 1px 3px 1px rgba(60, 64, 67, 0.15);\n",
              "    fill: var(--button-hover-fill-color);\n",
              "  }\n",
              "\n",
              "  .colab-df-quickchart-complete:disabled,\n",
              "  .colab-df-quickchart-complete:disabled:hover {\n",
              "    background-color: var(--disabled-bg-color);\n",
              "    fill: var(--disabled-fill-color);\n",
              "    box-shadow: none;\n",
              "  }\n",
              "\n",
              "  .colab-df-spinner {\n",
              "    border: 2px solid var(--fill-color);\n",
              "    border-color: transparent;\n",
              "    border-bottom-color: var(--fill-color);\n",
              "    animation:\n",
              "      spin 1s steps(1) infinite;\n",
              "  }\n",
              "\n",
              "  @keyframes spin {\n",
              "    0% {\n",
              "      border-color: transparent;\n",
              "      border-bottom-color: var(--fill-color);\n",
              "      border-left-color: var(--fill-color);\n",
              "    }\n",
              "    20% {\n",
              "      border-color: transparent;\n",
              "      border-left-color: var(--fill-color);\n",
              "      border-top-color: var(--fill-color);\n",
              "    }\n",
              "    30% {\n",
              "      border-color: transparent;\n",
              "      border-left-color: var(--fill-color);\n",
              "      border-top-color: var(--fill-color);\n",
              "      border-right-color: var(--fill-color);\n",
              "    }\n",
              "    40% {\n",
              "      border-color: transparent;\n",
              "      border-right-color: var(--fill-color);\n",
              "      border-top-color: var(--fill-color);\n",
              "    }\n",
              "    60% {\n",
              "      border-color: transparent;\n",
              "      border-right-color: var(--fill-color);\n",
              "    }\n",
              "    80% {\n",
              "      border-color: transparent;\n",
              "      border-right-color: var(--fill-color);\n",
              "      border-bottom-color: var(--fill-color);\n",
              "    }\n",
              "    90% {\n",
              "      border-color: transparent;\n",
              "      border-bottom-color: var(--fill-color);\n",
              "    }\n",
              "  }\n",
              "</style>\n",
              "\n",
              "  <script>\n",
              "    async function quickchart(key) {\n",
              "      const quickchartButtonEl =\n",
              "        document.querySelector('#' + key + ' button');\n",
              "      quickchartButtonEl.disabled = true;  // To prevent multiple clicks.\n",
              "      quickchartButtonEl.classList.add('colab-df-spinner');\n",
              "      try {\n",
              "        const charts = await google.colab.kernel.invokeFunction(\n",
              "            'suggestCharts', [key], {});\n",
              "      } catch (error) {\n",
              "        console.error('Error during call to suggestCharts:', error);\n",
              "      }\n",
              "      quickchartButtonEl.classList.remove('colab-df-spinner');\n",
              "      quickchartButtonEl.classList.add('colab-df-quickchart-complete');\n",
              "    }\n",
              "    (() => {\n",
              "      let quickchartButtonEl =\n",
              "        document.querySelector('#df-b3357f51-def0-4425-bc44-b707800712bc button');\n",
              "      quickchartButtonEl.style.display =\n",
              "        google.colab.kernel.accessAllowed ? 'block' : 'none';\n",
              "    })();\n",
              "  </script>\n",
              "</div>\n",
              "\n",
              "  <div id=\"id_d77317a3-3bd8-4145-915f-86de4e5fc29e\">\n",
              "    <style>\n",
              "      .colab-df-generate {\n",
              "        background-color: #E8F0FE;\n",
              "        border: none;\n",
              "        border-radius: 50%;\n",
              "        cursor: pointer;\n",
              "        display: none;\n",
              "        fill: #1967D2;\n",
              "        height: 32px;\n",
              "        padding: 0 0 0 0;\n",
              "        width: 32px;\n",
              "      }\n",
              "\n",
              "      .colab-df-generate:hover {\n",
              "        background-color: #E2EBFA;\n",
              "        box-shadow: 0px 1px 2px rgba(60, 64, 67, 0.3), 0px 1px 3px 1px rgba(60, 64, 67, 0.15);\n",
              "        fill: #174EA6;\n",
              "      }\n",
              "\n",
              "      [theme=dark] .colab-df-generate {\n",
              "        background-color: #3B4455;\n",
              "        fill: #D2E3FC;\n",
              "      }\n",
              "\n",
              "      [theme=dark] .colab-df-generate:hover {\n",
              "        background-color: #434B5C;\n",
              "        box-shadow: 0px 1px 3px 1px rgba(0, 0, 0, 0.15);\n",
              "        filter: drop-shadow(0px 1px 2px rgba(0, 0, 0, 0.3));\n",
              "        fill: #FFFFFF;\n",
              "      }\n",
              "    </style>\n",
              "    <button class=\"colab-df-generate\" onclick=\"generateWithVariable('compare_results')\"\n",
              "            title=\"Generate code using this dataframe.\"\n",
              "            style=\"display:none;\">\n",
              "\n",
              "  <svg xmlns=\"http://www.w3.org/2000/svg\" height=\"24px\"viewBox=\"0 0 24 24\"\n",
              "       width=\"24px\">\n",
              "    <path d=\"M7,19H8.4L18.45,9,17,7.55,7,17.6ZM5,21V16.75L18.45,3.32a2,2,0,0,1,2.83,0l1.4,1.43a1.91,1.91,0,0,1,.58,1.4,1.91,1.91,0,0,1-.58,1.4L9.25,21ZM18.45,9,17,7.55Zm-12,3A5.31,5.31,0,0,0,4.9,8.1,5.31,5.31,0,0,0,1,6.5,5.31,5.31,0,0,0,4.9,4.9,5.31,5.31,0,0,0,6.5,1,5.31,5.31,0,0,0,8.1,4.9,5.31,5.31,0,0,0,12,6.5,5.46,5.46,0,0,0,6.5,12Z\"/>\n",
              "  </svg>\n",
              "    </button>\n",
              "    <script>\n",
              "      (() => {\n",
              "      const buttonEl =\n",
              "        document.querySelector('#id_d77317a3-3bd8-4145-915f-86de4e5fc29e button.colab-df-generate');\n",
              "      buttonEl.style.display =\n",
              "        google.colab.kernel.accessAllowed ? 'block' : 'none';\n",
              "\n",
              "      buttonEl.onclick = () => {\n",
              "        google.colab.notebook.generateWithVariable('compare_results');\n",
              "      }\n",
              "      })();\n",
              "    </script>\n",
              "  </div>\n",
              "\n",
              "    </div>\n",
              "  </div>\n"
            ],
            "application/vnd.google.colaboratory.intrinsic+json": {
              "type": "dataframe",
              "variable_name": "compare_results",
              "summary": "{\n  \"name\": \"compare_results\",\n  \"rows\": 3,\n  \"fields\": [\n    {\n      \"column\": \"model_name\",\n      \"properties\": {\n        \"dtype\": \"string\",\n        \"num_unique_values\": 3,\n        \"samples\": [\n          \"FashionMNISTModelV0\",\n          \"FashionMNISTModelV1\",\n          \"FashionMNISTModelV2\"\n        ],\n        \"semantic_type\": \"\",\n        \"description\": \"\"\n      }\n    },\n    {\n      \"column\": \"model_loss\",\n      \"properties\": {\n        \"dtype\": \"number\",\n        \"std\": 0.08904845847607078,\n        \"min\": 0.32718968391418457,\n        \"max\": 0.48580455780029297,\n        \"num_unique_values\": 3,\n        \"samples\": [\n          0.47663894295692444,\n          0.48580455780029297,\n          0.32718968391418457\n        ],\n        \"semantic_type\": \"\",\n        \"description\": \"\"\n      }\n    },\n    {\n      \"column\": \"model_acc\",\n      \"properties\": {\n        \"dtype\": \"number\",\n        \"std\": 2.8488083394866432,\n        \"min\": 82.8873801916933,\n        \"max\": 88.06908945686901,\n        \"num_unique_values\": 3,\n        \"samples\": [\n          83.42651757188499,\n          82.8873801916933,\n          88.06908945686901\n        ],\n        \"semantic_type\": \"\",\n        \"description\": \"\"\n      }\n    }\n  ]\n}"
            }
          },
          "metadata": {},
          "execution_count": 52
        }
      ],
      "source": [
        "import pandas as pd\n",
        "compare_results=pd.DataFrame(data=[model_0_results,model_1_results,model_2_result])\n",
        "compare_results"
      ]
    },
    {
      "cell_type": "code",
      "execution_count": null,
      "metadata": {
        "colab": {
          "base_uri": "https://localhost:8080/",
          "height": 143
        },
        "id": "qiEp5oxUGLZA",
        "outputId": "6d957d9c-3ae4-46ca-f27e-6bde8a4f0ddf"
      },
      "outputs": [
        {
          "output_type": "execute_result",
          "data": {
            "text/plain": [
              "            model_name  model_loss  model_acc  trainining time\n",
              "0  FashionMNISTModelV0    0.476639  83.426518        43.418928\n",
              "1  FashionMNISTModelV1    0.485805  82.887380        38.509054\n",
              "2  FashionMNISTModelV2    0.327190  88.069089       176.159140"
            ],
            "text/html": [
              "\n",
              "  <div id=\"df-d2d1d384-2317-4d4c-8d5d-88bbbf9b2852\" class=\"colab-df-container\">\n",
              "    <div>\n",
              "<style scoped>\n",
              "    .dataframe tbody tr th:only-of-type {\n",
              "        vertical-align: middle;\n",
              "    }\n",
              "\n",
              "    .dataframe tbody tr th {\n",
              "        vertical-align: top;\n",
              "    }\n",
              "\n",
              "    .dataframe thead th {\n",
              "        text-align: right;\n",
              "    }\n",
              "</style>\n",
              "<table border=\"1\" class=\"dataframe\">\n",
              "  <thead>\n",
              "    <tr style=\"text-align: right;\">\n",
              "      <th></th>\n",
              "      <th>model_name</th>\n",
              "      <th>model_loss</th>\n",
              "      <th>model_acc</th>\n",
              "      <th>trainining time</th>\n",
              "    </tr>\n",
              "  </thead>\n",
              "  <tbody>\n",
              "    <tr>\n",
              "      <th>0</th>\n",
              "      <td>FashionMNISTModelV0</td>\n",
              "      <td>0.476639</td>\n",
              "      <td>83.426518</td>\n",
              "      <td>43.418928</td>\n",
              "    </tr>\n",
              "    <tr>\n",
              "      <th>1</th>\n",
              "      <td>FashionMNISTModelV1</td>\n",
              "      <td>0.485805</td>\n",
              "      <td>82.887380</td>\n",
              "      <td>38.509054</td>\n",
              "    </tr>\n",
              "    <tr>\n",
              "      <th>2</th>\n",
              "      <td>FashionMNISTModelV2</td>\n",
              "      <td>0.327190</td>\n",
              "      <td>88.069089</td>\n",
              "      <td>176.159140</td>\n",
              "    </tr>\n",
              "  </tbody>\n",
              "</table>\n",
              "</div>\n",
              "    <div class=\"colab-df-buttons\">\n",
              "\n",
              "  <div class=\"colab-df-container\">\n",
              "    <button class=\"colab-df-convert\" onclick=\"convertToInteractive('df-d2d1d384-2317-4d4c-8d5d-88bbbf9b2852')\"\n",
              "            title=\"Convert this dataframe to an interactive table.\"\n",
              "            style=\"display:none;\">\n",
              "\n",
              "  <svg xmlns=\"http://www.w3.org/2000/svg\" height=\"24px\" viewBox=\"0 -960 960 960\">\n",
              "    <path d=\"M120-120v-720h720v720H120Zm60-500h600v-160H180v160Zm220 220h160v-160H400v160Zm0 220h160v-160H400v160ZM180-400h160v-160H180v160Zm440 0h160v-160H620v160ZM180-180h160v-160H180v160Zm440 0h160v-160H620v160Z\"/>\n",
              "  </svg>\n",
              "    </button>\n",
              "\n",
              "  <style>\n",
              "    .colab-df-container {\n",
              "      display:flex;\n",
              "      gap: 12px;\n",
              "    }\n",
              "\n",
              "    .colab-df-convert {\n",
              "      background-color: #E8F0FE;\n",
              "      border: none;\n",
              "      border-radius: 50%;\n",
              "      cursor: pointer;\n",
              "      display: none;\n",
              "      fill: #1967D2;\n",
              "      height: 32px;\n",
              "      padding: 0 0 0 0;\n",
              "      width: 32px;\n",
              "    }\n",
              "\n",
              "    .colab-df-convert:hover {\n",
              "      background-color: #E2EBFA;\n",
              "      box-shadow: 0px 1px 2px rgba(60, 64, 67, 0.3), 0px 1px 3px 1px rgba(60, 64, 67, 0.15);\n",
              "      fill: #174EA6;\n",
              "    }\n",
              "\n",
              "    .colab-df-buttons div {\n",
              "      margin-bottom: 4px;\n",
              "    }\n",
              "\n",
              "    [theme=dark] .colab-df-convert {\n",
              "      background-color: #3B4455;\n",
              "      fill: #D2E3FC;\n",
              "    }\n",
              "\n",
              "    [theme=dark] .colab-df-convert:hover {\n",
              "      background-color: #434B5C;\n",
              "      box-shadow: 0px 1px 3px 1px rgba(0, 0, 0, 0.15);\n",
              "      filter: drop-shadow(0px 1px 2px rgba(0, 0, 0, 0.3));\n",
              "      fill: #FFFFFF;\n",
              "    }\n",
              "  </style>\n",
              "\n",
              "    <script>\n",
              "      const buttonEl =\n",
              "        document.querySelector('#df-d2d1d384-2317-4d4c-8d5d-88bbbf9b2852 button.colab-df-convert');\n",
              "      buttonEl.style.display =\n",
              "        google.colab.kernel.accessAllowed ? 'block' : 'none';\n",
              "\n",
              "      async function convertToInteractive(key) {\n",
              "        const element = document.querySelector('#df-d2d1d384-2317-4d4c-8d5d-88bbbf9b2852');\n",
              "        const dataTable =\n",
              "          await google.colab.kernel.invokeFunction('convertToInteractive',\n",
              "                                                    [key], {});\n",
              "        if (!dataTable) return;\n",
              "\n",
              "        const docLinkHtml = 'Like what you see? Visit the ' +\n",
              "          '<a target=\"_blank\" href=https://colab.research.google.com/notebooks/data_table.ipynb>data table notebook</a>'\n",
              "          + ' to learn more about interactive tables.';\n",
              "        element.innerHTML = '';\n",
              "        dataTable['output_type'] = 'display_data';\n",
              "        await google.colab.output.renderOutput(dataTable, element);\n",
              "        const docLink = document.createElement('div');\n",
              "        docLink.innerHTML = docLinkHtml;\n",
              "        element.appendChild(docLink);\n",
              "      }\n",
              "    </script>\n",
              "  </div>\n",
              "\n",
              "\n",
              "<div id=\"df-a26bbab0-290a-48ed-b07b-04463760003f\">\n",
              "  <button class=\"colab-df-quickchart\" onclick=\"quickchart('df-a26bbab0-290a-48ed-b07b-04463760003f')\"\n",
              "            title=\"Suggest charts\"\n",
              "            style=\"display:none;\">\n",
              "\n",
              "<svg xmlns=\"http://www.w3.org/2000/svg\" height=\"24px\"viewBox=\"0 0 24 24\"\n",
              "     width=\"24px\">\n",
              "    <g>\n",
              "        <path d=\"M19 3H5c-1.1 0-2 .9-2 2v14c0 1.1.9 2 2 2h14c1.1 0 2-.9 2-2V5c0-1.1-.9-2-2-2zM9 17H7v-7h2v7zm4 0h-2V7h2v10zm4 0h-2v-4h2v4z\"/>\n",
              "    </g>\n",
              "</svg>\n",
              "  </button>\n",
              "\n",
              "<style>\n",
              "  .colab-df-quickchart {\n",
              "      --bg-color: #E8F0FE;\n",
              "      --fill-color: #1967D2;\n",
              "      --hover-bg-color: #E2EBFA;\n",
              "      --hover-fill-color: #174EA6;\n",
              "      --disabled-fill-color: #AAA;\n",
              "      --disabled-bg-color: #DDD;\n",
              "  }\n",
              "\n",
              "  [theme=dark] .colab-df-quickchart {\n",
              "      --bg-color: #3B4455;\n",
              "      --fill-color: #D2E3FC;\n",
              "      --hover-bg-color: #434B5C;\n",
              "      --hover-fill-color: #FFFFFF;\n",
              "      --disabled-bg-color: #3B4455;\n",
              "      --disabled-fill-color: #666;\n",
              "  }\n",
              "\n",
              "  .colab-df-quickchart {\n",
              "    background-color: var(--bg-color);\n",
              "    border: none;\n",
              "    border-radius: 50%;\n",
              "    cursor: pointer;\n",
              "    display: none;\n",
              "    fill: var(--fill-color);\n",
              "    height: 32px;\n",
              "    padding: 0;\n",
              "    width: 32px;\n",
              "  }\n",
              "\n",
              "  .colab-df-quickchart:hover {\n",
              "    background-color: var(--hover-bg-color);\n",
              "    box-shadow: 0 1px 2px rgba(60, 64, 67, 0.3), 0 1px 3px 1px rgba(60, 64, 67, 0.15);\n",
              "    fill: var(--button-hover-fill-color);\n",
              "  }\n",
              "\n",
              "  .colab-df-quickchart-complete:disabled,\n",
              "  .colab-df-quickchart-complete:disabled:hover {\n",
              "    background-color: var(--disabled-bg-color);\n",
              "    fill: var(--disabled-fill-color);\n",
              "    box-shadow: none;\n",
              "  }\n",
              "\n",
              "  .colab-df-spinner {\n",
              "    border: 2px solid var(--fill-color);\n",
              "    border-color: transparent;\n",
              "    border-bottom-color: var(--fill-color);\n",
              "    animation:\n",
              "      spin 1s steps(1) infinite;\n",
              "  }\n",
              "\n",
              "  @keyframes spin {\n",
              "    0% {\n",
              "      border-color: transparent;\n",
              "      border-bottom-color: var(--fill-color);\n",
              "      border-left-color: var(--fill-color);\n",
              "    }\n",
              "    20% {\n",
              "      border-color: transparent;\n",
              "      border-left-color: var(--fill-color);\n",
              "      border-top-color: var(--fill-color);\n",
              "    }\n",
              "    30% {\n",
              "      border-color: transparent;\n",
              "      border-left-color: var(--fill-color);\n",
              "      border-top-color: var(--fill-color);\n",
              "      border-right-color: var(--fill-color);\n",
              "    }\n",
              "    40% {\n",
              "      border-color: transparent;\n",
              "      border-right-color: var(--fill-color);\n",
              "      border-top-color: var(--fill-color);\n",
              "    }\n",
              "    60% {\n",
              "      border-color: transparent;\n",
              "      border-right-color: var(--fill-color);\n",
              "    }\n",
              "    80% {\n",
              "      border-color: transparent;\n",
              "      border-right-color: var(--fill-color);\n",
              "      border-bottom-color: var(--fill-color);\n",
              "    }\n",
              "    90% {\n",
              "      border-color: transparent;\n",
              "      border-bottom-color: var(--fill-color);\n",
              "    }\n",
              "  }\n",
              "</style>\n",
              "\n",
              "  <script>\n",
              "    async function quickchart(key) {\n",
              "      const quickchartButtonEl =\n",
              "        document.querySelector('#' + key + ' button');\n",
              "      quickchartButtonEl.disabled = true;  // To prevent multiple clicks.\n",
              "      quickchartButtonEl.classList.add('colab-df-spinner');\n",
              "      try {\n",
              "        const charts = await google.colab.kernel.invokeFunction(\n",
              "            'suggestCharts', [key], {});\n",
              "      } catch (error) {\n",
              "        console.error('Error during call to suggestCharts:', error);\n",
              "      }\n",
              "      quickchartButtonEl.classList.remove('colab-df-spinner');\n",
              "      quickchartButtonEl.classList.add('colab-df-quickchart-complete');\n",
              "    }\n",
              "    (() => {\n",
              "      let quickchartButtonEl =\n",
              "        document.querySelector('#df-a26bbab0-290a-48ed-b07b-04463760003f button');\n",
              "      quickchartButtonEl.style.display =\n",
              "        google.colab.kernel.accessAllowed ? 'block' : 'none';\n",
              "    })();\n",
              "  </script>\n",
              "</div>\n",
              "\n",
              "  <div id=\"id_6e8fe2da-4cae-4a8e-9791-f3f17d15d0ad\">\n",
              "    <style>\n",
              "      .colab-df-generate {\n",
              "        background-color: #E8F0FE;\n",
              "        border: none;\n",
              "        border-radius: 50%;\n",
              "        cursor: pointer;\n",
              "        display: none;\n",
              "        fill: #1967D2;\n",
              "        height: 32px;\n",
              "        padding: 0 0 0 0;\n",
              "        width: 32px;\n",
              "      }\n",
              "\n",
              "      .colab-df-generate:hover {\n",
              "        background-color: #E2EBFA;\n",
              "        box-shadow: 0px 1px 2px rgba(60, 64, 67, 0.3), 0px 1px 3px 1px rgba(60, 64, 67, 0.15);\n",
              "        fill: #174EA6;\n",
              "      }\n",
              "\n",
              "      [theme=dark] .colab-df-generate {\n",
              "        background-color: #3B4455;\n",
              "        fill: #D2E3FC;\n",
              "      }\n",
              "\n",
              "      [theme=dark] .colab-df-generate:hover {\n",
              "        background-color: #434B5C;\n",
              "        box-shadow: 0px 1px 3px 1px rgba(0, 0, 0, 0.15);\n",
              "        filter: drop-shadow(0px 1px 2px rgba(0, 0, 0, 0.3));\n",
              "        fill: #FFFFFF;\n",
              "      }\n",
              "    </style>\n",
              "    <button class=\"colab-df-generate\" onclick=\"generateWithVariable('compare_results')\"\n",
              "            title=\"Generate code using this dataframe.\"\n",
              "            style=\"display:none;\">\n",
              "\n",
              "  <svg xmlns=\"http://www.w3.org/2000/svg\" height=\"24px\"viewBox=\"0 0 24 24\"\n",
              "       width=\"24px\">\n",
              "    <path d=\"M7,19H8.4L18.45,9,17,7.55,7,17.6ZM5,21V16.75L18.45,3.32a2,2,0,0,1,2.83,0l1.4,1.43a1.91,1.91,0,0,1,.58,1.4,1.91,1.91,0,0,1-.58,1.4L9.25,21ZM18.45,9,17,7.55Zm-12,3A5.31,5.31,0,0,0,4.9,8.1,5.31,5.31,0,0,0,1,6.5,5.31,5.31,0,0,0,4.9,4.9,5.31,5.31,0,0,0,6.5,1,5.31,5.31,0,0,0,8.1,4.9,5.31,5.31,0,0,0,12,6.5,5.46,5.46,0,0,0,6.5,12Z\"/>\n",
              "  </svg>\n",
              "    </button>\n",
              "    <script>\n",
              "      (() => {\n",
              "      const buttonEl =\n",
              "        document.querySelector('#id_6e8fe2da-4cae-4a8e-9791-f3f17d15d0ad button.colab-df-generate');\n",
              "      buttonEl.style.display =\n",
              "        google.colab.kernel.accessAllowed ? 'block' : 'none';\n",
              "\n",
              "      buttonEl.onclick = () => {\n",
              "        google.colab.notebook.generateWithVariable('compare_results');\n",
              "      }\n",
              "      })();\n",
              "    </script>\n",
              "  </div>\n",
              "\n",
              "    </div>\n",
              "  </div>\n"
            ],
            "application/vnd.google.colaboratory.intrinsic+json": {
              "type": "dataframe",
              "variable_name": "compare_results",
              "summary": "{\n  \"name\": \"compare_results\",\n  \"rows\": 3,\n  \"fields\": [\n    {\n      \"column\": \"model_name\",\n      \"properties\": {\n        \"dtype\": \"string\",\n        \"num_unique_values\": 3,\n        \"samples\": [\n          \"FashionMNISTModelV0\",\n          \"FashionMNISTModelV1\",\n          \"FashionMNISTModelV2\"\n        ],\n        \"semantic_type\": \"\",\n        \"description\": \"\"\n      }\n    },\n    {\n      \"column\": \"model_loss\",\n      \"properties\": {\n        \"dtype\": \"number\",\n        \"std\": 0.08904845847607078,\n        \"min\": 0.32718968391418457,\n        \"max\": 0.48580455780029297,\n        \"num_unique_values\": 3,\n        \"samples\": [\n          0.47663894295692444,\n          0.48580455780029297,\n          0.32718968391418457\n        ],\n        \"semantic_type\": \"\",\n        \"description\": \"\"\n      }\n    },\n    {\n      \"column\": \"model_acc\",\n      \"properties\": {\n        \"dtype\": \"number\",\n        \"std\": 2.8488083394866432,\n        \"min\": 82.8873801916933,\n        \"max\": 88.06908945686901,\n        \"num_unique_values\": 3,\n        \"samples\": [\n          83.42651757188499,\n          82.8873801916933,\n          88.06908945686901\n        ],\n        \"semantic_type\": \"\",\n        \"description\": \"\"\n      }\n    },\n    {\n      \"column\": \"trainining time\",\n      \"properties\": {\n        \"dtype\": \"number\",\n        \"std\": 78.09355170015839,\n        \"min\": 38.509053549999976,\n        \"max\": 176.15913985199998,\n        \"num_unique_values\": 3,\n        \"samples\": [\n          43.41892825699999,\n          38.509053549999976,\n          176.15913985199998\n        ],\n        \"semantic_type\": \"\",\n        \"description\": \"\"\n      }\n    }\n  ]\n}"
            }
          },
          "metadata": {},
          "execution_count": 53
        }
      ],
      "source": [
        "compare_results[\"trainining time\"] = [total_time_model_0,\n",
        "                                      total_time_model_1,\n",
        "                                      total_time]\n",
        "compare_results"
      ]
    },
    {
      "cell_type": "code",
      "execution_count": null,
      "metadata": {
        "colab": {
          "base_uri": "https://localhost:8080/",
          "height": 422
        },
        "id": "V4xQhoXlGLhg",
        "outputId": "5a9d8539-3f96-49ec-dc4b-c7cf2e5e340d"
      },
      "outputs": [
        {
          "output_type": "execute_result",
          "data": {
            "text/plain": [
              "Text(0, 0.5, 'model')"
            ]
          },
          "metadata": {},
          "execution_count": 54
        },
        {
          "output_type": "display_data",
          "data": {
            "text/plain": [
              "<Figure size 640x480 with 1 Axes>"
            ],
            "image/png": "[encoded data removed]"
          },
          "metadata": {}
        }
      ],
      "source": [
        "# visualize our model results\n",
        "compare_results.set_index(\"model_name\")[\"model_acc\"].plot(kind=\"barh\")\n",
        "plt.xlabel(\"accuracy (%)\")\n",
        "plt.ylabel(\"model\")\n"
      ]
    },
    {
      "cell_type": "markdown",
      "metadata": {
        "id": "AjIMsTi5GLqo"
      },
      "source": [
        "# make and evaluate random predictions with best model"
      ]
    },
    {
      "cell_type": "code",
      "execution_count": null,
      "metadata": {
        "id": "aT_HmZKrGLzA"
      },
      "outputs": [],
      "source": [
        "def make_predictions(model: torch.nn.Module,\n",
        "                     data:list):\n",
        "\n",
        "  pred_probs = []\n",
        "  model.eval()\n",
        "  with torch.inference_mode():\n",
        "    for sample in data:\n",
        "      # prepare the sample ( add a batch dimension and pass to target device but since we are working on cpu no need )\n",
        "      sample = torch.unsqueeze(sample,dim=0)\n",
        "      # forward pass\n",
        "      pred_logit = model(sample)\n",
        "      # get prediction probaility\n",
        "      pred_prob = torch.softmax(pred_logit.squeeze(),dim=0)\n",
        "      pred_probs.append(pred_prob)\n",
        "  return torch.stack(pred_probs)"
      ]
    },
    {
      "cell_type": "code",
      "execution_count": null,
      "metadata": {
        "id": "N5gwOLHUOLi3"
      },
      "outputs": [],
      "source": [
        "import random\n",
        "#random.seed(42)\n",
        "test_samples = []\n",
        "test_labels = []\n",
        "for sample,label in random.sample(list(test_data),k=9):\n",
        "  test_samples.append(sample)\n",
        "  test_labels.append(label)"
      ]
    },
    {
      "cell_type": "code",
      "execution_count": null,
      "metadata": {
        "colab": {
          "base_uri": "https://localhost:8080/"
        },
        "id": "znHjhshBOLt7",
        "outputId": "8d8a92d9-866c-47d2-c4e4-81b74e1a1792"
      },
      "outputs": [
        {
          "output_type": "execute_result",
          "data": {
            "text/plain": [
              "tensor([[7.4825e-02, 1.1892e-03, 7.2003e-02, 3.9192e-03, 4.3510e-03, 3.6057e-03,\n",
              "         1.9142e-01, 1.4162e-03, 6.4346e-01, 3.8181e-03],\n",
              "        [9.5627e-01, 2.3455e-05, 2.0072e-04, 3.8071e-03, 7.0880e-05, 2.6302e-07,\n",
              "         3.9547e-02, 1.2044e-06, 8.1295e-05, 2.1841e-06]])"
            ]
          },
          "metadata": {},
          "execution_count": 57
        }
      ],
      "source": [
        "pred_probs = make_predictions(model=model_2,\n",
        "                              data=test_samples)\n",
        "pred_probs[:2]"
      ]
    },
    {
      "cell_type": "code",
      "execution_count": null,
      "metadata": {
        "colab": {
          "base_uri": "https://localhost:8080/"
        },
        "id": "OV6W6DIHOL4D",
        "outputId": "845ea367-966a-47b6-9348-d65229d8f2b3"
      },
      "outputs": [
        {
          "output_type": "execute_result",
          "data": {
            "text/plain": [
              "tensor([8, 0, 1, 1, 5, 8, 5, 4, 6])"
            ]
          },
          "metadata": {},
          "execution_count": 58
        }
      ],
      "source": [
        "pred_classes = pred_probs.argmax(dim=1)\n",
        "pred_classes"
      ]
    },
    {
      "cell_type": "code",
      "execution_count": null,
      "metadata": {
        "colab": {
          "base_uri": "https://localhost:8080/"
        },
        "id": "anCZlXfjOMBe",
        "outputId": "ce9a7c00-7bb2-4a50-eca4-fd87bdbcee22"
      },
      "outputs": [
        {
          "output_type": "execute_result",
          "data": {
            "text/plain": [
              "[6, 0, 1, 1, 5, 8, 5, 4, 6]"
            ]
          },
          "metadata": {},
          "execution_count": 59
        }
      ],
      "source": [
        "test_labels"
      ]
    },
    {
      "cell_type": "code",
      "execution_count": null,
      "metadata": {
        "colab": {
          "base_uri": "https://localhost:8080/",
          "height": 633
        },
        "id": "F70V1yRoUFwy",
        "outputId": "a37e5f9e-89f5-43b9-bd7b-16773695b942"
      },
      "outputs": [
        {
          "output_type": "display_data",
          "data": {
            "text/plain": [
              "<Figure size 900x900 with 9 Axes>"
            ],
            "image/png": "[encoded data removed]"
          },
          "metadata": {}
        }
      ],
      "source": [
        "plt.figure(figsize=(9,9))\n",
        "nrows , ncolumns = 3,3\n",
        "for i , sample in enumerate(test_samples):\n",
        "  plt.subplot(nrows,ncolumns,i+1)\n",
        "  plt.imshow(sample.squeeze(),cmap=\"gray\")\n",
        "  pred_label = class_names[pred_classes[i]]\n",
        "  truth_label = class_names[test_labels[i]]\n",
        "  title_text = f\"Pred: {pred_label} | Truth: {truth_label}\"\n",
        "  if pred_label == truth_label:\n",
        "    plt.title(title_text,c=\"g\")\n",
        "  else:\n",
        "    plt.title(title_text,c=\"r\")\n",
        "  plt.axis(False)\n",
        "\n"
      ]
    },
    {
      "cell_type": "markdown",
      "metadata": {
        "id": "OlQcHhL4Zt_N"
      },
      "source": [
        "# evaluating with confusion matrix\n",
        "\n",
        "confusion matrix is a fantastic way of evaluating our classification model\n",
        "# link for more eval metrics :- https://www.learnpytorch.io/02_pytorch_classification/\n",
        "\n",
        "1. make predictions with our trained model on the test dataset\n",
        "2. make a confusion matrix `torchmetrics.ConfusionMatrix`\n",
        "3. plot the confusion matrix `mlxtend.plotting.plot_confusion_matrix()`"
      ]
    },
    {
      "cell_type": "code",
      "execution_count": null,
      "metadata": {
        "colab": {
          "base_uri": "https://localhost:8080/",
          "height": 194,
          "referenced_widgets": [
            "04b1aaf27d7444d382ce235067db351d",
            "5ddccd3563854a3fa705fa1ea77c3ac5",
            "b1591ca999d84b2e877ce0b541eee0c1",
            "0aadfcd2f131459ba12b79411c67de62",
            "dbec4e80e7e44b3a8167897c83bd03bc",
            "c25db8ba7e45411396079bb46f5d80d9",
            "70441f5ed64041a3b85b9fa4f2708f56",
            "e87090fcf58c4f98944839c65d3d6fe9",
            "b5e6fe6f2c6041089f4f5d59d8d9d04d",
            "1c14639021a14f809fb2eb4d89ec577c",
            "5ef6eed13e384679b710298180516a34"
          ]
        },
        "id": "O1wBzxX_cWPS",
        "outputId": "7702e9a3-52e0-45f0-8d9e-06d35f54e3aa"
      },
      "outputs": [
        {
          "output_type": "display_data",
          "data": {
            "text/plain": [
              "making predictions...:   0%|          | 0/313 [00:00<?, ?it/s]"
            ],
            "application/vnd.jupyter.widget-view+json": {
              "version_major": 2,
              "version_minor": 0,
              "model_id": "04b1aaf27d7444d382ce235067db351d"
            }
          },
          "metadata": {}
        },
        {
          "output_type": "stream",
          "name": "stdout",
          "text": [
            "[tensor([9, 2, 1, 1, 6, 1, 4, 6, 5, 7, 4, 5, 5, 3, 4, 1, 2, 4, 8, 0, 2, 7, 7, 5,\n",
            "        1, 2, 6, 0, 9, 3, 8, 8]), tensor([3, 3, 8, 0, 7, 5, 7, 9, 0, 1, 0, 7, 6, 7, 2, 1, 4, 6, 4, 6, 5, 8, 2, 2,\n",
            "        8, 4, 8, 0, 7, 7, 8, 5]), tensor([1, 1, 4, 3, 7, 8, 7, 0, 2, 6, 2, 3, 1, 2, 8, 4, 1, 8, 5, 9, 5, 0, 3, 2,\n",
            "        0, 2, 5, 3, 6, 7, 1, 8]), tensor([0, 1, 4, 2, 3, 6, 7, 6, 7, 8, 5, 7, 9, 4, 2, 5, 7, 0, 5, 2, 8, 6, 7, 8,\n",
            "        0, 0, 9, 9, 3, 0, 8, 4]), tensor([1, 5, 4, 1, 9, 1, 8, 6, 6, 1, 2, 5, 1, 0, 0, 0, 1, 6, 1, 3, 2, 2, 2, 4,\n",
            "        1, 3, 5, 0, 4, 7, 9, 3])]\n",
            "tensor([9, 2, 1, 1, 6])\n"
          ]
        }
      ],
      "source": [
        "#1. make prediction with trained model\n",
        "y_preds = []\n",
        "model_2.eval()\n",
        "with torch.inference_mode():\n",
        "  for X,y in tqdm(test_dataloader,desc=\"making predictions...\"):\n",
        "    y_logit = model_2(X)\n",
        "    y_pred = torch.argmax(y_logit.squeeze(),dim=1)\n",
        "    y_preds.append(y_pred)\n",
        "# concatenate list of predictions into a tensor\n",
        "print(y_preds[:5]) # before concatenation pred labels are in batch so first 5 means first 5 batch's predicted labels are only shown\n",
        "y_preds_tensor = torch.cat(y_preds)\n",
        "print(y_preds_tensor[:5]) # after concatenation 'n' number of batches predicted labels which is in tensor are converted into single tensor so first 5 means first 5 labels predicted"
      ]
    },
    {
      "cell_type": "markdown",
      "metadata": {
        "id": "sV_ZGP0ZgdJF"
      },
      "source": [
        "**torch.stack creates new tensor and add the tensor in it where as torch.cat covert multiple tensors into single tensor**"
      ]
    },
    {
      "cell_type": "code",
      "execution_count": null,
      "metadata": {
        "colab": {
          "base_uri": "https://localhost:8080/"
        },
        "id": "9bhEBxm9graG",
        "outputId": "b65f0410-12a1-4d13-9d59-1383f45e9ca4"
      },
      "outputs": [
        {
          "output_type": "execute_result",
          "data": {
            "text/plain": [
              "10000"
            ]
          },
          "metadata": {},
          "execution_count": 62
        }
      ],
      "source": [
        "len(y_preds_tensor)"
      ]
    },
    {
      "cell_type": "code",
      "execution_count": null,
      "metadata": {
        "colab": {
          "base_uri": "https://localhost:8080/"
        },
        "id": "jINzz68SiD_C",
        "outputId": "5c9858d3-5782-4fb2-d004-a089d756640d"
      },
      "outputs": [
        {
          "output_type": "stream",
          "name": "stdout",
          "text": [
            "Collecting torchmetrics\n",
            "  Downloading torchmetrics-1.5.2-py3-none-any.whl.metadata (20 kB)\n",
            "Requirement already satisfied: mlxtend in /usr/local/lib/python3.10/dist-packages (0.23.1)\n",
            "Collecting mlxtend\n",
            "  Downloading mlxtend-0.23.2-py3-none-any.whl.metadata (7.3 kB)\n",
            "Requirement already satisfied: numpy>1.20.0 in /usr/local/lib/python3.10/dist-packages (from torchmetrics) (1.26.4)\n",
            "Requirement already satisfied: packaging>17.1 in /usr/local/lib/python3.10/dist-packages (from torchmetrics) (24.1)\n",
            "Requirement already satisfied: torch>=1.10.0 in /usr/local/lib/python3.10/dist-packages (from torchmetrics) (2.5.0+cu121)\n",
            "Collecting lightning-utilities>=0.8.0 (from torchmetrics)\n",
            "  Downloading lightning_utilities-0.11.8-py3-none-any.whl.metadata (5.2 kB)\n",
            "Requirement already satisfied: scipy>=1.2.1 in /usr/local/lib/python3.10/dist-packages (from mlxtend) (1.13.1)\n",
            "Requirement already satisfied: pandas>=0.24.2 in /usr/local/lib/python3.10/dist-packages (from mlxtend) (2.2.2)\n",
            "Requirement already satisfied: scikit-learn>=1.3.1 in /usr/local/lib/python3.10/dist-packages (from mlxtend) (1.5.2)\n",
            "Requirement already satisfied: matplotlib>=3.0.0 in /usr/local/lib/python3.10/dist-packages (from mlxtend) (3.8.0)\n",
            "Requirement already satisfied: joblib>=0.13.2 in /usr/local/lib/python3.10/dist-packages (from mlxtend) (1.4.2)\n",
            "Requirement already satisfied: setuptools in /usr/local/lib/python3.10/dist-packages (from lightning-utilities>=0.8.0->torchmetrics) (75.1.0)\n",
            "Requirement already satisfied: typing-extensions in /usr/local/lib/python3.10/dist-packages (from lightning-utilities>=0.8.0->torchmetrics) (4.12.2)\n",
            "Requirement already satisfied: contourpy>=1.0.1 in /usr/local/lib/python3.10/dist-packages (from matplotlib>=3.0.0->mlxtend) (1.3.0)\n",
            "Requirement already satisfied: cycler>=0.10 in /usr/local/lib/python3.10/dist-packages (from matplotlib>=3.0.0->mlxtend) (0.12.1)\n",
            "Requirement already satisfied: fonttools>=4.22.0 in /usr/local/lib/python3.10/dist-packages (from matplotlib>=3.0.0->mlxtend) (4.54.1)\n",
            "Requirement already satisfied: kiwisolver>=1.0.1 in /usr/local/lib/python3.10/dist-packages (from matplotlib>=3.0.0->mlxtend) (1.4.7)\n",
            "Requirement already satisfied: pillow>=6.2.0 in /usr/local/lib/python3.10/dist-packages (from matplotlib>=3.0.0->mlxtend) (10.4.0)\n",
            "Requirement already satisfied: pyparsing>=2.3.1 in /usr/local/lib/python3.10/dist-packages (from matplotlib>=3.0.0->mlxtend) (3.2.0)\n",
            "Requirement already satisfied: python-dateutil>=2.7 in /usr/local/lib/python3.10/dist-packages (from matplotlib>=3.0.0->mlxtend) (2.8.2)\n",
            "Requirement already satisfied: pytz>=2020.1 in /usr/local/lib/python3.10/dist-packages (from pandas>=0.24.2->mlxtend) (2024.2)\n",
            "Requirement already satisfied: tzdata>=2022.7 in /usr/local/lib/python3.10/dist-packages (from pandas>=0.24.2->mlxtend) (2024.2)\n",
            "Requirement already satisfied: threadpoolctl>=3.1.0 in /usr/local/lib/python3.10/dist-packages (from scikit-learn>=1.3.1->mlxtend) (3.5.0)\n",
            "Requirement already satisfied: filelock in /usr/local/lib/python3.10/dist-packages (from torch>=1.10.0->torchmetrics) (3.16.1)\n",
            "Requirement already satisfied: networkx in /usr/local/lib/python3.10/dist-packages (from torch>=1.10.0->torchmetrics) (3.4.2)\n",
            "Requirement already satisfied: jinja2 in /usr/local/lib/python3.10/dist-packages (from torch>=1.10.0->torchmetrics) (3.1.4)\n",
            "Requirement already satisfied: fsspec in /usr/local/lib/python3.10/dist-packages (from torch>=1.10.0->torchmetrics) (2024.10.0)\n",
            "Requirement already satisfied: sympy==1.13.1 in /usr/local/lib/python3.10/dist-packages (from torch>=1.10.0->torchmetrics) (1.13.1)\n",
            "Requirement already satisfied: mpmath<1.4,>=1.1.0 in /usr/local/lib/python3.10/dist-packages (from sympy==1.13.1->torch>=1.10.0->torchmetrics) (1.3.0)\n",
            "Requirement already satisfied: six>=1.5 in /usr/local/lib/python3.10/dist-packages (from python-dateutil>=2.7->matplotlib>=3.0.0->mlxtend) (1.16.0)\n",
            "Requirement already satisfied: MarkupSafe>=2.0 in /usr/local/lib/python3.10/dist-packages (from jinja2->torch>=1.10.0->torchmetrics) (3.0.2)\n",
            "Downloading torchmetrics-1.5.2-py3-none-any.whl (891 kB)\n",
            "\u001b[2K   \u001b[90m━━━━━━━━━━━━━━━━━━━━━━━━━━━━━━━━━━━━━━━━\u001b[0m \u001b[32m891.4/891.4 kB\u001b[0m \u001b[31m21.5 MB/s\u001b[0m eta \u001b[36m0:00:00\u001b[0m\n",
            "\u001b[?25hDownloading mlxtend-0.23.2-py3-none-any.whl (1.4 MB)\n",
            "\u001b[2K   \u001b[90m━━━━━━━━━━━━━━━━━━━━━━━━━━━━━━━━━━━━━━━━\u001b[0m \u001b[32m1.4/1.4 MB\u001b[0m \u001b[31m55.4 MB/s\u001b[0m eta \u001b[36m0:00:00\u001b[0m\n",
            "\u001b[?25hDownloading lightning_utilities-0.11.8-py3-none-any.whl (26 kB)\n",
            "Installing collected packages: lightning-utilities, torchmetrics, mlxtend\n",
            "  Attempting uninstall: mlxtend\n",
            "    Found existing installation: mlxtend 0.23.1\n",
            "    Uninstalling mlxtend-0.23.1:\n",
            "      Successfully uninstalled mlxtend-0.23.1\n",
            "Successfully installed lightning-utilities-0.11.8 mlxtend-0.23.2 torchmetrics-1.5.2\n",
            "mlxtend version: 0.23.2\n"
          ]
        }
      ],
      "source": [
        "try:\n",
        "  import torchmetrics,mlxtend\n",
        "  print(f\"mlxtend version: {mlxtend.__version__}\")\n",
        "  assert int(mlxtend.__version__.split(\".\")[1]) >=19, \"mlxtend version should be 0.19.0 or higher\"\n",
        "except:\n",
        "  !pip install torchmetrics -U mlxtend\n",
        "  import mlxtend,torchmetrics\n",
        "  print(f\"mlxtend version: {mlxtend.__version__}\")"
      ]
    },
    {
      "cell_type": "code",
      "execution_count": null,
      "metadata": {
        "colab": {
          "base_uri": "https://localhost:8080/",
          "height": 35
        },
        "id": "mSUW0nedaBuc",
        "outputId": "b15fc752-ed74-4f51-da99-5478ed1d9cd0"
      },
      "outputs": [
        {
          "output_type": "execute_result",
          "data": {
            "text/plain": [
              "'0.23.2'"
            ],
            "application/vnd.google.colaboratory.intrinsic+json": {
              "type": "string"
            }
          },
          "metadata": {},
          "execution_count": 64
        }
      ],
      "source": [
        "import mlxtend\n",
        "mlxtend.__version__"
      ]
    },
    {
      "cell_type": "code",
      "execution_count": null,
      "metadata": {
        "colab": {
          "base_uri": "https://localhost:8080/",
          "height": 635
        },
        "id": "hFs-qAERaPFe",
        "outputId": "f63dc257-18a3-42fa-f4c7-d8d2a9f5db9b"
      },
      "outputs": [
        {
          "output_type": "display_data",
          "data": {
            "text/plain": [
              "<Figure size 1000x700 with 1 Axes>"
            ],
            "image/png": "[encoded data removed]"
          },
          "metadata": {}
        }
      ],
      "source": [
        "from torchmetrics import ConfusionMatrix\n",
        "from mlxtend.plotting import plot_confusion_matrix\n",
        "\n",
        "# 2. setup confusion instance and compare predictions to targets\n",
        "confmat = ConfusionMatrix(num_classes=len(class_names),task=\"multiclass\")\n",
        "confmat_tensor = confmat(preds=y_preds_tensor,\n",
        "                         target=test_data.targets)\n",
        "\n",
        "# 3. plot the confusion matrix\n",
        "fig,ax = plot_confusion_matrix(conf_mat=confmat_tensor.numpy(),\n",
        "                               figsize=(10,7),\n",
        "                               class_names=class_names)\n"
      ]
    },
    {
      "cell_type": "markdown",
      "metadata": {
        "id": "R-izezG6aPNX"
      },
      "source": [
        "# save and load model"
      ]
    },
    {
      "cell_type": "code",
      "execution_count": null,
      "metadata": {
        "colab": {
          "base_uri": "https://localhost:8080/"
        },
        "id": "e_YjkIBdA1-v",
        "outputId": "a807718f-023c-4391-9406-58f5d64ff0e1"
      },
      "outputs": [
        {
          "output_type": "stream",
          "name": "stdout",
          "text": [
            "saving model to: models/03_pytorch_computer_vision_model_2.pth\n"
          ]
        }
      ],
      "source": [
        "from pathlib import Path\n",
        "\n",
        "# create model directory path\n",
        "MODEL_PATH = Path(\"models\")\n",
        "MODEL_PATH.mkdir(parents=True,\n",
        "                 exist_ok=True)\n",
        "# create model save\n",
        "MODEL_NAME = \"03_pytorch_computer_vision_model_2.pth\"\n",
        "MODEL_SAVE_PATH = MODEL_PATH / MODEL_NAME\n",
        "#save the model state dict\n",
        "print(f\"saving model to: {MODEL_SAVE_PATH}\")\n",
        "torch.save(obj=model_2.state_dict(),\n",
        "           f=MODEL_SAVE_PATH)"
      ]
    },
    {
      "cell_type": "code",
      "execution_count": null,
      "metadata": {
        "colab": {
          "base_uri": "https://localhost:8080/"
        },
        "id": "IoHlzSLqA2G0",
        "outputId": "34f8fd9f-77c9-40d8-d558-98161241bdc4"
      },
      "outputs": [
        {
          "output_type": "stream",
          "name": "stderr",
          "text": [
            "<ipython-input-67-3cff7510eec9>:5: FutureWarning: You are using `torch.load` with `weights_only=False` (the current default value), which uses the default pickle module implicitly. It is possible to construct malicious pickle data which will execute arbitrary code during unpickling (See https://github.com/pytorch/pytorch/blob/main/SECURITY.md#untrusted-models for more details). In a future release, the default value for `weights_only` will be flipped to `True`. This limits the functions that could be executed during unpickling. Arbitrary objects will no longer be allowed to be loaded via this mode unless they are explicitly allowlisted by the user via `torch.serialization.add_safe_globals`. We recommend you start setting `weights_only=True` for any use case where you don't have full control of the loaded file. Please open an issue on GitHub for any issues related to this experimental feature.\n",
            "  loaded_model.load_state_dict(torch.load(f=MODEL_SAVE_PATH))\n"
          ]
        },
        {
          "output_type": "execute_result",
          "data": {
            "text/plain": [
              "OrderedDict([('conv_block_1.0.weight',\n",
              "              tensor([[[[ 0.3127,  0.3911, -0.4196],\n",
              "                        [ 0.1556,  0.1815,  0.0878],\n",
              "                        [-0.4420,  0.1430,  0.3166]]],\n",
              "              \n",
              "              \n",
              "                      [[[-0.3738,  0.4791, -0.1338],\n",
              "                        [ 0.2597,  0.4008,  0.0667],\n",
              "                        [-0.1557,  0.3132,  0.0871]]],\n",
              "              \n",
              "              \n",
              "                      [[[-0.3652, -0.0339, -0.0384],\n",
              "                        [-0.6494, -0.6025,  0.2116],\n",
              "                        [-0.8162, -0.6622, -0.1217]]],\n",
              "              \n",
              "              \n",
              "                      [[[-0.7466, -0.8917, -0.7278],\n",
              "                        [ 0.2914, -0.5231,  0.2517],\n",
              "                        [ 0.2942, -0.0444,  0.3574]]],\n",
              "              \n",
              "              \n",
              "                      [[[ 0.0132,  0.3515, -0.1108],\n",
              "                        [-0.2418,  0.2368, -0.2215],\n",
              "                        [-0.0970,  0.3388,  0.1292]]],\n",
              "              \n",
              "              \n",
              "                      [[[-0.1500,  0.1842,  0.0578],\n",
              "                        [ 0.1636, -0.2055, -0.3302],\n",
              "                        [-0.1302, -0.2574,  0.2596]]],\n",
              "              \n",
              "              \n",
              "                      [[[ 0.0797,  0.1085, -0.0129],\n",
              "                        [-0.0085,  0.1742, -0.2752],\n",
              "                        [-0.1569, -0.5007, -0.1128]]],\n",
              "              \n",
              "              \n",
              "                      [[[-0.1018,  0.0198, -0.1991],\n",
              "                        [ 0.3163, -0.2242, -0.2843],\n",
              "                        [-0.2339,  0.4021,  0.2681]]],\n",
              "              \n",
              "              \n",
              "                      [[[ 0.4493, -0.3163, -0.3617],\n",
              "                        [-0.2646, -0.3199,  0.1427],\n",
              "                        [ 0.2809,  0.4250, -0.1547]]],\n",
              "              \n",
              "              \n",
              "                      [[[-0.2270,  0.1762, -0.1351],\n",
              "                        [ 0.2009, -0.0808,  0.1890],\n",
              "                        [-0.2591, -0.1683,  0.1006]]]])),\n",
              "             ('conv_block_1.0.bias',\n",
              "              tensor([ 0.0146,  0.0639,  0.1502,  0.1288, -0.0777, -0.1986,  0.2286, -0.0547,\n",
              "                      -0.0331, -0.3243])),\n",
              "             ('conv_block_1.2.weight',\n",
              "              tensor([[[[ 1.4132e-01,  5.0070e-02, -1.2329e-03],\n",
              "                        [-8.6412e-02, -1.7911e-01, -1.9753e-01],\n",
              "                        [-1.0887e-01, -1.9915e-01, -1.9424e-01]],\n",
              "              \n",
              "                       [[-4.4994e-02,  3.0649e-03, -9.1226e-02],\n",
              "                        [-1.8272e-01, -3.3772e-01, -2.6753e-01],\n",
              "                        [-1.3380e-01, -2.1792e-01, -2.4426e-01]],\n",
              "              \n",
              "                       [[-3.2881e-02,  3.2946e-02,  1.2199e-01],\n",
              "                        [ 3.9099e-02,  2.5957e-01,  2.0143e-01],\n",
              "                        [-1.2151e-01,  6.9995e-03,  7.6315e-02]],\n",
              "              \n",
              "                       [[-1.9476e-01, -3.3695e-02, -1.8504e-01],\n",
              "                        [ 2.5007e-02, -3.1351e-02, -1.2563e-01],\n",
              "                        [ 1.9959e-01,  4.9990e-02,  4.1462e-02]],\n",
              "              \n",
              "                       [[-1.2295e-01, -1.2858e-01,  1.1220e-03],\n",
              "                        [-5.0595e-02,  3.1555e-02, -1.1153e-01],\n",
              "                        [ 7.4811e-02, -8.1775e-02, -2.4376e-02]],\n",
              "              \n",
              "                       [[ 2.2356e-02,  5.4761e-02,  8.5212e-02],\n",
              "                        [ 9.6272e-02, -8.3493e-02,  2.8942e-02],\n",
              "                        [-4.5051e-02, -1.2679e-02, -7.8151e-02]],\n",
              "              \n",
              "                       [[ 1.8992e-01, -2.0482e-02,  1.4882e-04],\n",
              "                        [ 1.5038e-01,  1.1008e-01, -4.4975e-02],\n",
              "                        [ 7.4644e-02,  6.7334e-03, -7.0354e-02]],\n",
              "              \n",
              "                       [[-8.6260e-02,  5.0988e-02, -5.2492e-03],\n",
              "                        [-4.6894e-02,  8.5026e-02,  1.4692e-02],\n",
              "                        [-4.5886e-02, -6.4936e-02, -1.8516e-02]],\n",
              "              \n",
              "                       [[ 6.9093e-02,  6.1735e-04, -3.2623e-02],\n",
              "                        [-4.0538e-02, -6.0386e-02,  6.6237e-02],\n",
              "                        [ 1.0027e-01, -1.0368e-01, -9.1766e-05]],\n",
              "              \n",
              "                       [[ 5.4450e-02,  1.9121e-02, -3.7530e-02],\n",
              "                        [ 5.5016e-02,  5.5394e-02,  3.9419e-02],\n",
              "                        [-1.8523e-02, -2.7911e-02,  1.1270e-02]]],\n",
              "              \n",
              "              \n",
              "                      [[[-3.2573e-02, -3.4480e-02,  7.7271e-02],\n",
              "                        [ 7.8543e-02, -5.2491e-03, -1.2140e-02],\n",
              "                        [-1.8832e-02, -1.7273e-02,  1.0484e-02]],\n",
              "              \n",
              "                       [[ 1.5693e-02, -8.7142e-02, -3.1447e-02],\n",
              "                        [ 7.7661e-02,  4.9420e-02,  5.3998e-03],\n",
              "                        [-1.1721e-01, -9.3256e-02, -1.0707e-01]],\n",
              "              \n",
              "                       [[-3.5195e-02,  3.3986e-02,  6.1428e-02],\n",
              "                        [ 4.6825e-02, -9.5292e-02, -6.8485e-02],\n",
              "                        [-2.0038e-02,  1.0315e-01,  1.3408e-02]],\n",
              "              \n",
              "                       [[-3.8608e-03,  4.9696e-02, -3.3929e-02],\n",
              "                        [-6.4143e-02,  7.5515e-02, -5.0730e-02],\n",
              "                        [-2.3875e-02, -1.1520e-01,  6.6499e-02]],\n",
              "              \n",
              "                       [[ 6.9069e-02,  3.3646e-02, -7.6364e-02],\n",
              "                        [-1.3072e-01, -1.0598e-01,  7.0833e-02],\n",
              "                        [ 1.9720e-02,  7.6607e-02,  4.3402e-02]],\n",
              "              \n",
              "                       [[ 2.6693e-02, -9.1875e-04, -8.0113e-02],\n",
              "                        [-9.0142e-02, -9.8504e-02,  4.3387e-02],\n",
              "                        [-5.1630e-02, -2.1233e-02, -6.0770e-02]],\n",
              "              \n",
              "                       [[-2.4979e-02, -7.6146e-02, -7.2911e-02],\n",
              "                        [ 4.1618e-02, -3.0417e-02,  6.7237e-02],\n",
              "                        [-1.8740e-02, -7.9357e-02, -2.0178e-02]],\n",
              "              \n",
              "                       [[-5.1239e-02, -3.2873e-02, -1.0064e-01],\n",
              "                        [ 6.1227e-02, -7.2032e-02,  5.3732e-02],\n",
              "                        [ 4.6598e-02,  7.7801e-02, -8.1214e-02]],\n",
              "              \n",
              "                       [[ 8.1963e-02, -4.7336e-02,  4.0120e-02],\n",
              "                        [ 9.7642e-02, -1.5587e-02, -1.4781e-03],\n",
              "                        [-2.5056e-02, -8.8515e-02,  5.1611e-02]],\n",
              "              \n",
              "                       [[-1.0464e-01,  6.5448e-02,  7.8875e-02],\n",
              "                        [ 9.9692e-02, -2.4860e-02, -8.6619e-02],\n",
              "                        [ 2.3702e-02,  5.8231e-02, -1.0491e-01]]],\n",
              "              \n",
              "              \n",
              "                      [[[-2.4704e-02, -6.4226e-02, -1.0606e-02],\n",
              "                        [-5.2106e-02, -4.3042e-02, -3.1557e-02],\n",
              "                        [-9.8293e-02,  8.7178e-02,  8.7962e-02]],\n",
              "              \n",
              "                       [[-1.6806e-02, -1.2355e-02, -4.2634e-02],\n",
              "                        [-9.5093e-02, -1.0211e-01,  4.0026e-02],\n",
              "                        [-5.5581e-02, -6.5852e-02, -6.9079e-03]],\n",
              "              \n",
              "                       [[-3.8252e-02, -3.8278e-02, -8.9653e-04],\n",
              "                        [-2.1629e-02, -3.6807e-02, -5.2300e-02],\n",
              "                        [-8.6188e-02,  8.7748e-02, -4.2085e-02]],\n",
              "              \n",
              "                       [[ 2.3888e-02, -3.9737e-02,  4.4075e-03],\n",
              "                        [ 9.8423e-02,  4.9412e-02, -8.9582e-02],\n",
              "                        [ 3.9052e-02,  9.8104e-02,  2.8546e-02]],\n",
              "              \n",
              "                       [[ 7.0670e-02,  1.0394e-01, -1.6054e-02],\n",
              "                        [ 2.2551e-02, -7.3487e-02, -2.1590e-02],\n",
              "                        [ 7.6981e-02,  5.3575e-02, -6.8292e-02]],\n",
              "              \n",
              "                       [[-8.4526e-02, -7.2033e-02, -1.0403e-01],\n",
              "                        [-8.1338e-02, -2.6175e-02,  7.1291e-02],\n",
              "                        [ 1.7650e-02, -8.0130e-02, -8.4563e-02]],\n",
              "              \n",
              "                       [[ 4.9383e-02, -8.1804e-02, -1.6324e-02],\n",
              "                        [ 4.9635e-02, -5.0581e-02, -1.2238e-02],\n",
              "                        [-9.8913e-03, -2.5776e-02, -5.3624e-02]],\n",
              "              \n",
              "                       [[-9.3976e-02, -8.5211e-02, -5.6465e-02],\n",
              "                        [ 1.0165e-01, -5.1014e-02, -7.0154e-02],\n",
              "                        [ 2.6239e-02,  3.0164e-02,  5.6748e-02]],\n",
              "              \n",
              "                       [[ 7.9810e-02,  5.8625e-02, -1.0454e-01],\n",
              "                        [ 1.1423e-02,  6.5220e-02, -9.5842e-03],\n",
              "                        [-6.4782e-02,  9.9568e-02, -3.8309e-02]],\n",
              "              \n",
              "                       [[-6.0014e-02, -9.5032e-02,  4.7085e-03],\n",
              "                        [ 4.6710e-02,  2.3334e-02,  2.0845e-02],\n",
              "                        [-7.9941e-02, -9.8437e-02,  1.8562e-03]]],\n",
              "              \n",
              "              \n",
              "                      [[[-1.7302e-01, -1.0141e-01, -1.2283e-02],\n",
              "                        [-1.2507e-02,  1.3711e-01, -4.7126e-02],\n",
              "                        [ 1.1215e-01,  1.5448e-01, -3.5841e-02]],\n",
              "              \n",
              "                       [[-2.6457e-02,  4.9508e-02,  1.4129e-01],\n",
              "                        [ 2.6512e-01,  1.1156e-01,  9.5714e-02],\n",
              "                        [-1.4558e-01, -9.6801e-02,  1.4719e-04]],\n",
              "              \n",
              "                       [[-1.7997e-01, -3.3847e-01, -3.8317e-01],\n",
              "                        [-1.4812e-01, -1.4034e-01, -2.3445e-01],\n",
              "                        [ 1.0951e-01, -9.5350e-02, -1.9136e-01]],\n",
              "              \n",
              "                       [[ 1.1824e-01,  1.1826e-01,  2.4634e-02],\n",
              "                        [-4.3983e-01, -3.4216e-01, -3.2814e-02],\n",
              "                        [-1.8947e-01, -2.9834e-01, -2.4000e-01]],\n",
              "              \n",
              "                       [[-1.3747e-01, -2.0980e-01, -4.7322e-02],\n",
              "                        [-2.5187e-02,  2.2903e-02,  1.6819e-01],\n",
              "                        [-9.0634e-02,  3.9938e-02,  9.5648e-02]],\n",
              "              \n",
              "                       [[-5.2095e-02, -4.8327e-02,  3.8016e-02],\n",
              "                        [-6.5929e-02, -6.7526e-02, -5.9897e-03],\n",
              "                        [-4.0215e-02, -7.7215e-02,  5.6636e-02]],\n",
              "              \n",
              "                       [[ 9.4890e-02, -9.2540e-02,  9.6272e-02],\n",
              "                        [-7.2108e-02, -1.4322e-01, -2.5034e-02],\n",
              "                        [ 3.0382e-01,  6.7963e-02,  1.5312e-01]],\n",
              "              \n",
              "                       [[-6.8099e-02, -2.1761e-01, -1.3467e-01],\n",
              "                        [-1.7582e-01, -2.3910e-02, -9.4330e-02],\n",
              "                        [ 3.6324e-02, -7.1336e-02, -7.4818e-03]],\n",
              "              \n",
              "                       [[-3.8004e-02, -1.4124e-05, -1.1533e-01],\n",
              "                        [-1.9645e-01, -2.1144e-01, -8.4215e-02],\n",
              "                        [ 2.2354e-02, -5.3375e-02, -1.0052e-01]],\n",
              "              \n",
              "                       [[-1.0387e-01, -8.6011e-02,  2.0277e-02],\n",
              "                        [ 2.8199e-02,  2.2122e-02, -2.8687e-02],\n",
              "                        [ 9.7205e-02,  1.5087e-02, -6.2208e-02]]],\n",
              "              \n",
              "              \n",
              "                      [[[-4.6331e-02,  1.6870e-02,  9.9492e-03],\n",
              "                        [-1.2036e-01,  3.6161e-02, -8.1075e-02],\n",
              "                        [-1.0014e-01, -6.5071e-02,  4.9379e-02]],\n",
              "              \n",
              "                       [[ 8.6566e-02,  9.7018e-02,  4.4157e-03],\n",
              "                        [ 7.5707e-02, -2.9150e-02, -1.2725e-01],\n",
              "                        [ 4.6634e-02, -8.0300e-02, -1.1802e-01]],\n",
              "              \n",
              "                       [[-4.8552e-02,  6.4093e-03,  3.4599e-02],\n",
              "                        [-5.3099e-02, -7.6856e-02, -4.1904e-03],\n",
              "                        [-7.5511e-02, -8.1954e-02,  4.1710e-02]],\n",
              "              \n",
              "                       [[-4.0110e-02,  5.7692e-02,  7.7271e-02],\n",
              "                        [ 1.3576e-02,  1.4270e-02,  9.9877e-04],\n",
              "                        [-1.5659e-02, -2.8276e-02, -2.0086e-02]],\n",
              "              \n",
              "                       [[ 2.1908e-02,  8.8408e-02, -5.5152e-02],\n",
              "                        [-5.1165e-02, -3.2332e-02, -6.7907e-02],\n",
              "                        [ 8.0970e-03,  6.4193e-02,  6.0364e-02]],\n",
              "              \n",
              "                       [[ 4.8425e-02, -7.7561e-02, -5.6554e-02],\n",
              "                        [-2.3147e-02, -1.9446e-02,  8.6139e-03],\n",
              "                        [-9.6898e-02,  3.2940e-02, -8.0362e-02]],\n",
              "              \n",
              "                       [[-9.7198e-02, -9.6465e-02,  8.9105e-02],\n",
              "                        [-1.2073e-01,  8.0904e-02, -1.2698e-02],\n",
              "                        [-2.8957e-02,  4.9352e-02, -2.8588e-02]],\n",
              "              \n",
              "                       [[ 5.5773e-02,  6.6278e-02, -9.6162e-02],\n",
              "                        [ 3.6954e-02,  2.0662e-02,  1.9478e-02],\n",
              "                        [ 1.2870e-02,  2.7960e-02, -5.6885e-02]],\n",
              "              \n",
              "                       [[-1.7855e-02,  9.5005e-02,  7.1449e-02],\n",
              "                        [-5.8828e-03, -1.0408e-01,  1.0389e-02],\n",
              "                        [-7.3347e-02,  8.2949e-02, -6.0551e-02]],\n",
              "              \n",
              "                       [[-7.6170e-03, -2.3395e-02,  1.8770e-02],\n",
              "                        [ 9.9193e-02,  1.0021e-02,  6.1064e-02],\n",
              "                        [ 8.1818e-02,  8.5101e-02, -3.6403e-02]]],\n",
              "              \n",
              "              \n",
              "                      [[[ 2.1226e-01,  3.8519e-01,  3.3996e-01],\n",
              "                        [-9.8467e-02, -2.9488e-02,  1.1950e-02],\n",
              "                        [-2.8850e-01, -2.3819e-01, -4.6257e-02]],\n",
              "              \n",
              "                       [[ 2.9504e-01,  3.8437e-01,  4.2499e-01],\n",
              "                        [-1.0089e-01, -7.0688e-02,  5.2471e-02],\n",
              "                        [-3.2131e-01, -4.1241e-01, -2.5069e-01]],\n",
              "              \n",
              "                       [[ 3.2336e-03, -6.2637e-02, -4.2889e-02],\n",
              "                        [-5.4584e-02, -2.4243e-02,  4.1488e-02],\n",
              "                        [ 1.6910e-01,  9.2841e-02,  8.3676e-02]],\n",
              "              \n",
              "                       [[ 5.5750e-03, -9.7356e-02, -8.6997e-02],\n",
              "                        [-3.9053e-02, -2.0420e-01, -1.0040e-01],\n",
              "                        [ 7.6002e-02, -1.3406e-02, -3.6822e-02]],\n",
              "              \n",
              "                       [[ 4.4000e-03,  9.1438e-02,  4.1840e-02],\n",
              "                        [ 3.1703e-03,  2.0594e-02,  2.0662e-02],\n",
              "                        [-2.5773e-01, -1.2640e-01, -1.7345e-01]],\n",
              "              \n",
              "                       [[-8.3753e-02, -8.6020e-03, -9.3077e-02],\n",
              "                        [ 7.4492e-02,  1.1865e-02, -5.6648e-02],\n",
              "                        [ 5.6594e-02, -9.9486e-02, -3.9942e-02]],\n",
              "              \n",
              "                       [[ 1.2646e-01,  7.7896e-03, -3.3194e-02],\n",
              "                        [ 6.1485e-02,  8.5953e-02,  1.0651e-01],\n",
              "                        [ 2.5123e-01,  9.6023e-02,  3.0821e-02]],\n",
              "              \n",
              "                       [[ 7.7657e-02,  4.4122e-02,  2.0087e-02],\n",
              "                        [-7.8862e-03, -9.6436e-02, -4.9096e-02],\n",
              "                        [ 1.0034e-01, -3.6748e-02, -5.4598e-03]],\n",
              "              \n",
              "                       [[-9.7341e-02, -3.8400e-02,  7.8582e-03],\n",
              "                        [-3.6757e-02,  1.6713e-02,  4.0991e-02],\n",
              "                        [-8.3970e-02,  4.7691e-02, -7.4737e-02]],\n",
              "              \n",
              "                       [[-5.1535e-02,  4.0202e-02,  8.3849e-02],\n",
              "                        [-2.8681e-02, -4.3249e-02, -9.5252e-02],\n",
              "                        [-5.4247e-02, -9.2328e-02, -2.4045e-02]]],\n",
              "              \n",
              "              \n",
              "                      [[[ 1.4559e-01, -1.1716e-01, -1.4409e-01],\n",
              "                        [ 1.2000e-01,  7.0122e-02, -3.3973e-01],\n",
              "                        [ 2.1197e-01,  3.6084e-01, -1.3431e-01]],\n",
              "              \n",
              "                       [[ 6.4816e-02,  1.1958e-01, -5.0509e-01],\n",
              "                        [ 3.5393e-01,  2.3612e-01, -3.2364e-01],\n",
              "                        [ 3.4444e-01,  1.6420e-01, -4.5015e-01]],\n",
              "              \n",
              "                       [[-2.0327e-01, -1.9219e-01, -1.1191e-01],\n",
              "                        [-9.7420e-02, -2.9245e-01,  4.5937e-02],\n",
              "                        [ 1.4234e-01, -7.3331e-02,  9.2364e-02]],\n",
              "              \n",
              "                       [[-3.8171e-01, -8.0684e-02,  8.0917e-02],\n",
              "                        [-2.0733e-02, -1.4181e-01,  4.0425e-01],\n",
              "                        [-5.9438e-02, -3.2035e-01,  2.8981e-01]],\n",
              "              \n",
              "                       [[-1.6875e-03,  6.9261e-02, -2.3999e-01],\n",
              "                        [-1.4881e-02,  1.5496e-01, -1.5149e-01],\n",
              "                        [-1.3583e-01,  2.1691e-01, -6.7903e-02]],\n",
              "              \n",
              "                       [[ 9.4413e-02, -9.2556e-02, -3.6247e-02],\n",
              "                        [-1.0030e-01, -4.3534e-02,  3.1953e-02],\n",
              "                        [ 9.9666e-02,  1.6475e-02,  1.0209e-01]],\n",
              "              \n",
              "                       [[ 9.5622e-02,  1.0168e-01,  2.2261e-01],\n",
              "                        [-3.6329e-02, -1.1198e-01,  4.9594e-02],\n",
              "                        [ 7.1616e-02,  4.9416e-02,  6.4127e-03]],\n",
              "              \n",
              "                       [[-1.7675e-01, -6.4400e-02, -5.3221e-02],\n",
              "                        [-1.3415e-01,  2.6335e-02,  3.1090e-02],\n",
              "                        [ 3.0370e-02, -4.6787e-02,  9.0090e-02]],\n",
              "              \n",
              "                       [[ 1.0337e-01, -2.3521e-01,  1.3282e-02],\n",
              "                        [ 4.6383e-02, -1.0629e-01, -2.1734e-01],\n",
              "                        [ 2.3498e-02, -9.7458e-02, -2.1884e-01]],\n",
              "              \n",
              "                       [[ 5.9407e-02,  3.8282e-02,  8.3596e-02],\n",
              "                        [-3.9443e-02,  3.5458e-02,  3.7593e-02],\n",
              "                        [-8.7927e-02, -1.0210e-01, -5.4815e-02]]],\n",
              "              \n",
              "              \n",
              "                      [[[ 1.2447e-01, -1.7208e-01, -3.1887e-01],\n",
              "                        [ 1.6618e-01,  1.0110e-01, -1.6226e-01],\n",
              "                        [-1.9662e-02,  7.2777e-02, -5.7784e-02]],\n",
              "              \n",
              "                       [[ 1.5032e-01, -2.2155e-02, -2.6879e-01],\n",
              "                        [ 9.7208e-02,  1.1548e-01, -2.9423e-01],\n",
              "                        [ 6.9185e-02,  2.5047e-01, -2.4765e-01]],\n",
              "              \n",
              "                       [[-8.1241e-02,  7.4734e-03,  1.0236e-02],\n",
              "                        [-1.1046e-02, -1.2355e-01, -5.5204e-02],\n",
              "                        [ 7.4758e-02, -1.1124e-01, -3.3861e-02]],\n",
              "              \n",
              "                       [[ 2.7416e-02, -5.6326e-02,  2.5487e-01],\n",
              "                        [-3.3548e-02, -6.9658e-02,  1.7088e-01],\n",
              "                        [-6.0098e-02, -1.8525e-01,  1.0664e-01]],\n",
              "              \n",
              "                       [[ 1.9109e-02, -1.5793e-01, -2.1634e-01],\n",
              "                        [ 1.1442e-01,  7.8823e-02, -7.6076e-02],\n",
              "                        [-5.8627e-02,  4.2574e-02, -8.5543e-02]],\n",
              "              \n",
              "                       [[-1.9411e-02, -7.2137e-02,  8.2978e-03],\n",
              "                        [ 1.0078e-02, -1.4001e-02,  1.4227e-02],\n",
              "                        [-4.2427e-02,  2.6573e-02,  3.9263e-02]],\n",
              "              \n",
              "                       [[-3.2668e-02, -8.3003e-02,  1.0500e-01],\n",
              "                        [ 1.5957e-02, -5.6393e-02,  8.0423e-02],\n",
              "                        [-8.9796e-02,  9.5766e-02,  7.6812e-02]],\n",
              "              \n",
              "                       [[-8.5963e-02,  7.1398e-02, -1.1897e-01],\n",
              "                        [-1.0014e-01,  3.3576e-03, -2.2989e-02],\n",
              "                        [ 9.2063e-02, -5.1873e-02,  3.3240e-02]],\n",
              "              \n",
              "                       [[-9.2608e-02,  7.5210e-02, -6.5493e-02],\n",
              "                        [-8.8128e-02,  1.4264e-02,  2.2519e-02],\n",
              "                        [ 9.4545e-02, -6.0562e-02, -8.7014e-02]],\n",
              "              \n",
              "                       [[ 2.0284e-02,  2.8592e-02,  4.0526e-02],\n",
              "                        [ 5.7901e-02, -2.3897e-02,  5.8618e-02],\n",
              "                        [ 7.7686e-02, -2.7557e-02,  7.4976e-02]]],\n",
              "              \n",
              "              \n",
              "                      [[[-2.2712e-02,  6.5149e-02,  5.3222e-02],\n",
              "                        [ 7.6656e-02, -4.8885e-03, -5.5646e-03],\n",
              "                        [ 1.8509e-01, -2.1651e-02, -6.6152e-02]],\n",
              "              \n",
              "                       [[ 1.2228e-01,  1.0293e-01, -5.2364e-02],\n",
              "                        [ 1.2447e-01, -1.9136e-01, -1.5305e-01],\n",
              "                        [ 2.1365e-01, -1.2886e-01,  5.6429e-02]],\n",
              "              \n",
              "                       [[-1.3688e-01, -2.6241e-01, -3.0883e-02],\n",
              "                        [-1.8782e-01, -2.5779e-01, -1.6474e-01],\n",
              "                        [-8.2088e-02, -1.5580e-01, -1.8933e-02]],\n",
              "              \n",
              "                       [[-1.6330e-01, -7.7293e-02,  1.7375e-02],\n",
              "                        [-2.5276e-01, -2.9470e-01, -1.0261e-01],\n",
              "                        [ 1.0697e-02, -8.6075e-02,  9.4151e-02]],\n",
              "              \n",
              "                       [[ 5.8823e-02, -2.3789e-02,  9.2677e-02],\n",
              "                        [ 1.9114e-01,  2.6773e-02,  1.8731e-02],\n",
              "                        [ 5.9295e-02, -1.1593e-01, -6.7537e-02]],\n",
              "              \n",
              "                       [[ 8.6781e-02,  8.1052e-02,  3.0387e-02],\n",
              "                        [ 8.4060e-03, -9.0489e-02, -1.2702e-02],\n",
              "                        [ 1.0142e-01,  2.6218e-02,  8.9040e-03]],\n",
              "              \n",
              "                       [[-1.6641e-02,  9.6994e-04,  1.0826e-01],\n",
              "                        [ 4.2682e-02,  1.4501e-02, -9.3230e-02],\n",
              "                        [ 1.0815e-01,  9.7547e-02,  7.0143e-03]],\n",
              "              \n",
              "                       [[-2.9264e-02, -4.4359e-02,  1.1044e-01],\n",
              "                        [ 1.6033e-02, -7.0578e-02, -1.2087e-01],\n",
              "                        [ 2.4864e-03,  3.2522e-03, -2.5803e-02]],\n",
              "              \n",
              "                       [[-8.1190e-02, -8.3140e-02, -6.2706e-02],\n",
              "                        [-1.3058e-02, -9.1348e-02, -1.3460e-01],\n",
              "                        [ 7.4543e-03, -7.9266e-02,  3.7130e-03]],\n",
              "              \n",
              "                       [[ 5.5807e-02,  9.4944e-02,  4.9636e-04],\n",
              "                        [ 2.1267e-02,  3.6647e-02, -9.9799e-02],\n",
              "                        [ 9.3672e-03, -6.9949e-03, -5.9084e-02]]],\n",
              "              \n",
              "              \n",
              "                      [[[-2.2003e-01,  3.3334e-01,  4.1038e-01],\n",
              "                        [-3.4537e-01,  1.3324e-02,  2.1481e-01],\n",
              "                        [-3.3249e-01, -9.7892e-02,  1.4437e-01]],\n",
              "              \n",
              "                       [[-2.0274e-01,  1.1863e-01,  2.5753e-01],\n",
              "                        [-3.4517e-01, -4.0697e-02,  3.9433e-01],\n",
              "                        [-3.3356e-01, -1.3721e-01,  4.0236e-01]],\n",
              "              \n",
              "                       [[-5.8784e-02,  2.1039e-02,  3.0902e-02],\n",
              "                        [-7.6911e-02,  5.7627e-02, -8.5088e-02],\n",
              "                        [-1.3596e-02,  3.5604e-02, -3.6415e-02]],\n",
              "              \n",
              "                       [[-6.1696e-02, -1.0061e-02, -4.9293e-02],\n",
              "                        [ 1.4748e-02, -5.3957e-02, -1.6417e-01],\n",
              "                        [ 1.1116e-01, -1.2302e-01, -1.0229e-01]],\n",
              "              \n",
              "                       [[-9.7991e-02, -7.9804e-03, -4.8763e-02],\n",
              "                        [-2.3948e-02, -7.6755e-02,  7.7550e-02],\n",
              "                        [-2.1107e-04,  5.0802e-02,  2.2344e-01]],\n",
              "              \n",
              "                       [[-1.0050e-01, -7.4505e-02, -3.8447e-02],\n",
              "                        [ 8.8925e-02,  1.1581e-02, -7.8268e-02],\n",
              "                        [ 1.9489e-03, -8.2432e-02, -2.2001e-02]],\n",
              "              \n",
              "                       [[-3.1896e-02,  8.2189e-02, -1.7235e-02],\n",
              "                        [ 7.3160e-03,  1.7762e-02, -4.6761e-02],\n",
              "                        [ 8.3252e-02, -1.9000e-02, -3.2028e-02]],\n",
              "              \n",
              "                       [[-6.6826e-02,  9.0789e-02, -9.4953e-03],\n",
              "                        [-3.8360e-02,  4.2549e-02,  1.0215e-01],\n",
              "                        [ 9.9208e-02,  4.0270e-02, -2.0837e-02]],\n",
              "              \n",
              "                       [[ 5.5648e-02,  1.1545e-01, -6.3872e-02],\n",
              "                        [ 1.1915e-02, -8.7142e-02,  9.7502e-03],\n",
              "                        [ 3.4212e-02, -4.4744e-02, -1.0344e-03]],\n",
              "              \n",
              "                       [[ 4.7590e-02, -1.7837e-02, -8.8413e-02],\n",
              "                        [ 8.4380e-02, -5.2926e-02, -1.1487e-02],\n",
              "                        [ 9.9819e-03, -6.4159e-03, -9.9128e-02]]]])),\n",
              "             ('conv_block_1.2.bias',\n",
              "              tensor([ 0.3807, -0.0463, -0.0578,  0.4977, -0.1159,  0.0840,  0.0968, -0.0248,\n",
              "                       0.1861, -0.0132])),\n",
              "             ('conv_block_2.0.weight',\n",
              "              tensor([[[[-3.4366e-02, -9.7543e-02, -2.9272e-02],\n",
              "                        [-4.0713e-02,  3.0923e-02,  1.4551e-01],\n",
              "                        [-6.8500e-02,  6.1483e-02,  1.1853e-01]],\n",
              "              \n",
              "                       [[ 5.8927e-02, -9.7374e-02, -4.0165e-02],\n",
              "                        [-8.9797e-02, -6.7605e-02,  5.8799e-02],\n",
              "                        [-1.2248e-02,  4.6800e-02, -6.1115e-02]],\n",
              "              \n",
              "                       [[ 1.6244e-02, -6.3540e-02,  5.2657e-02],\n",
              "                        [-4.5822e-02, -2.5967e-02, -9.1511e-02],\n",
              "                        [ 3.3972e-04,  1.0020e-01,  5.1189e-02]],\n",
              "              \n",
              "                       [[-9.0490e-02,  7.0746e-02, -3.1064e-02],\n",
              "                        [-1.2508e-01,  9.3816e-02, -8.6839e-02],\n",
              "                        [-3.0898e-02, -9.5017e-02, -7.9061e-02]],\n",
              "              \n",
              "                       [[ 1.5586e-02,  3.7387e-02,  2.3682e-02],\n",
              "                        [-5.1432e-02,  1.0427e-01, -1.7614e-02],\n",
              "                        [-6.8993e-02, -4.6998e-02,  1.0125e-01]],\n",
              "              \n",
              "                       [[ 1.0417e-01, -2.0438e-02, -6.5403e-02],\n",
              "                        [ 6.8717e-02, -3.8391e-02, -1.0036e-01],\n",
              "                        [ 9.2588e-02,  1.5188e-01,  6.5877e-02]],\n",
              "              \n",
              "                       [[-1.4075e-01,  1.2032e-01, -1.3015e-01],\n",
              "                        [ 7.5944e-02,  1.0693e-01, -2.2057e-02],\n",
              "                        [ 2.6204e-01,  2.2882e-02, -8.4026e-02]],\n",
              "              \n",
              "                       [[ 3.3286e-02, -6.7639e-03,  2.4469e-02],\n",
              "                        [ 1.4256e-02,  4.3019e-02, -1.2649e-01],\n",
              "                        [ 8.1918e-02, -6.6906e-02, -5.6065e-02]],\n",
              "              \n",
              "                       [[-1.3863e-01, -3.7422e-02,  7.7946e-03],\n",
              "                        [ 4.0097e-02,  1.2972e-01,  4.3396e-02],\n",
              "                        [-5.6579e-02, -1.2363e-01,  2.1920e-02]],\n",
              "              \n",
              "                       [[ 2.6185e-01, -5.6543e-02,  4.7050e-02],\n",
              "                        [ 2.5125e-01,  9.6469e-02, -6.1799e-02],\n",
              "                        [ 1.7418e-01,  1.6742e-01,  4.6476e-02]]],\n",
              "              \n",
              "              \n",
              "                      [[[-2.6333e-02, -1.6283e-01, -1.5293e-01],\n",
              "                        [ 1.7785e-01, -3.3689e-01, -9.6859e-03],\n",
              "                        [ 4.1995e-02,  2.5799e-02, -9.7367e-02]],\n",
              "              \n",
              "                       [[ 4.8600e-02, -4.0191e-02, -1.1292e-01],\n",
              "                        [-5.0251e-02,  1.0421e-01, -2.2213e-02],\n",
              "                        [ 1.4852e-02, -4.5153e-02,  6.5902e-02]],\n",
              "              \n",
              "                       [[ 6.1128e-02,  3.6522e-02, -5.2360e-02],\n",
              "                        [-8.6337e-02,  4.2957e-03, -6.1737e-02],\n",
              "                        [ 8.6511e-02, -1.0137e-01,  4.6988e-02]],\n",
              "              \n",
              "                       [[-1.4873e-01,  3.2857e-01,  3.4666e-01],\n",
              "                        [-1.6191e-01,  8.6382e-01,  1.6979e-01],\n",
              "                        [-8.9184e-01, -6.7926e-02, -8.1295e-02]],\n",
              "              \n",
              "                       [[-3.1685e-03,  9.3688e-02, -6.6969e-02],\n",
              "                        [-6.5146e-02,  3.6021e-03, -1.8227e-03],\n",
              "                        [ 9.7566e-03, -1.1300e-01, -4.1196e-02]],\n",
              "              \n",
              "                       [[ 1.5506e-01, -4.6791e-01, -4.8970e-02],\n",
              "                        [ 2.9624e-01,  1.0833e-01, -9.6120e-03],\n",
              "                        [ 2.2147e-02,  2.7783e-01,  1.4713e-01]],\n",
              "              \n",
              "                       [[-5.6124e-01, -1.1853e-01,  1.7211e-01],\n",
              "                        [-5.8090e-01,  3.5462e-01,  3.7891e-01],\n",
              "                        [-3.6657e-01, -6.9638e-02, -2.2328e-02]],\n",
              "              \n",
              "                       [[-3.1840e-02, -2.7069e-01,  7.4172e-02],\n",
              "                        [-2.5719e-01, -2.9887e-02, -1.7566e-01],\n",
              "                        [-2.2371e-01, -1.3052e-01, -1.2320e-01]],\n",
              "              \n",
              "                       [[-4.0734e-01,  8.6902e-02,  4.2397e-01],\n",
              "                        [-1.7933e-01,  3.0957e-01,  3.2745e-01],\n",
              "                        [-2.8568e-01, -9.2317e-02, -8.6392e-02]],\n",
              "              \n",
              "                       [[ 3.3567e-01, -4.9030e-02, -1.2649e-01],\n",
              "                        [ 2.7079e-01, -7.0986e-02, -2.9972e-01],\n",
              "                        [-2.9102e-01,  9.9806e-02,  9.0099e-02]]],\n",
              "              \n",
              "              \n",
              "                      [[[-6.1795e-02,  6.7530e-02,  7.0187e-02],\n",
              "                        [-1.0536e-01, -1.0687e-01, -1.0031e-01],\n",
              "                        [-7.8193e-02, -5.4373e-02, -2.1401e-02]],\n",
              "              \n",
              "                       [[-2.5410e-02, -5.3686e-02, -3.3739e-02],\n",
              "                        [-3.9660e-02,  1.0344e-01, -3.9137e-02],\n",
              "                        [-7.5488e-02,  4.3746e-02, -6.1524e-03]],\n",
              "              \n",
              "                       [[ 8.0696e-02,  6.5861e-02,  9.6855e-02],\n",
              "                        [-7.7197e-02,  6.7774e-02,  8.8466e-02],\n",
              "                        [-5.2054e-02,  9.6899e-02,  7.9019e-02]],\n",
              "              \n",
              "                       [[-1.7611e-02,  4.8499e-02, -6.2098e-02],\n",
              "                        [-1.1181e-01,  2.9573e-02,  1.0933e-02],\n",
              "                        [-9.0584e-02,  2.9006e-02, -1.2203e-01]],\n",
              "              \n",
              "                       [[ 8.2914e-02,  9.9295e-02,  1.3806e-02],\n",
              "                        [-6.6772e-02,  5.8546e-02,  9.7386e-03],\n",
              "                        [ 1.4419e-02,  2.6820e-02,  5.9423e-02]],\n",
              "              \n",
              "                       [[-4.9745e-02, -3.3065e-02,  2.6569e-02],\n",
              "                        [-4.7707e-04,  7.5299e-02, -6.2286e-02],\n",
              "                        [-5.8961e-03,  1.7230e-02, -2.6802e-02]],\n",
              "              \n",
              "                       [[ 5.0394e-02,  4.2751e-03, -1.0647e-01],\n",
              "                        [-2.5083e-02, -5.1012e-02,  1.4798e-02],\n",
              "                        [-2.9057e-02, -1.1591e-01, -3.1453e-02]],\n",
              "              \n",
              "                       [[-2.2292e-02, -3.5829e-02,  8.5146e-02],\n",
              "                        [-2.4694e-02,  7.4643e-02,  2.8514e-02],\n",
              "                        [-9.9562e-02,  1.9297e-02,  7.7660e-02]],\n",
              "              \n",
              "                       [[-9.6929e-02, -7.1958e-02,  7.5552e-02],\n",
              "                        [ 7.1053e-02, -4.8329e-02,  5.6001e-02],\n",
              "                        [-3.2930e-02, -1.1222e-01, -1.0207e-02]],\n",
              "              \n",
              "                       [[ 4.9565e-02, -4.2261e-02,  4.3671e-02],\n",
              "                        [-7.6990e-02,  6.8727e-02,  9.2527e-02],\n",
              "                        [ 6.1465e-02,  1.6141e-02,  3.4851e-02]]],\n",
              "              \n",
              "              \n",
              "                      [[[-9.1221e-02, -7.8878e-02, -3.8464e-02],\n",
              "                        [-5.6999e-02, -4.0509e-02,  1.2096e-01],\n",
              "                        [ 6.6604e-02, -7.9262e-02,  5.9264e-02]],\n",
              "              \n",
              "                       [[ 4.0226e-02,  1.0464e-01,  6.4133e-02],\n",
              "                        [ 9.8644e-02, -3.4383e-02,  7.2701e-02],\n",
              "                        [ 8.5577e-02, -9.9624e-02, -8.8552e-02]],\n",
              "              \n",
              "                       [[ 2.1198e-02,  5.7461e-02, -5.2496e-02],\n",
              "                        [ 1.1680e-02, -2.1957e-04,  2.6729e-02],\n",
              "                        [-5.6644e-02,  5.9450e-02,  7.0176e-02]],\n",
              "              \n",
              "                       [[ 3.0924e-02,  7.0460e-02,  5.6475e-03],\n",
              "                        [ 1.4319e-01,  2.6554e-02, -1.4217e-01],\n",
              "                        [-1.4377e-02, -2.4966e-02, -2.9505e-01]],\n",
              "              \n",
              "                       [[-2.3442e-02,  1.2659e-02, -8.1057e-02],\n",
              "                        [ 1.5743e-02, -6.6531e-02,  9.5974e-03],\n",
              "                        [ 9.7063e-03,  1.1790e-02, -8.9078e-02]],\n",
              "              \n",
              "                       [[-1.3384e-01,  7.1398e-02,  1.7954e-01],\n",
              "                        [-7.0484e-02,  8.7948e-02, -4.4094e-02],\n",
              "                        [-4.9136e-03,  3.0036e-02,  3.4041e-02]],\n",
              "              \n",
              "                       [[-3.4597e-02,  2.5005e-01,  5.7760e-02],\n",
              "                        [ 1.1383e-02,  1.8973e-01, -1.3439e-01],\n",
              "                        [-1.6206e-02, -6.1297e-03, -1.6352e-01]],\n",
              "              \n",
              "                       [[ 4.0352e-02,  8.6403e-02, -6.7566e-02],\n",
              "                        [-5.1676e-02,  5.5693e-02, -1.2539e-01],\n",
              "                        [-1.8498e-02, -3.8470e-03, -1.0960e-01]],\n",
              "              \n",
              "                       [[ 8.5429e-02,  8.6893e-02,  9.5517e-02],\n",
              "                        [ 6.5791e-02, -3.5740e-02,  1.4060e-02],\n",
              "                        [ 3.6647e-02, -2.5469e-02, -1.9799e-01]],\n",
              "              \n",
              "                       [[-3.1181e-02, -1.0043e-01,  1.1905e-01],\n",
              "                        [-6.1035e-02, -1.1622e-01, -8.0956e-03],\n",
              "                        [-1.4109e-01,  4.4297e-02,  1.0503e-01]]],\n",
              "              \n",
              "              \n",
              "                      [[[-6.4655e-02,  2.3749e-02, -1.5784e-01],\n",
              "                        [-5.6127e-02,  1.5898e-01,  6.1592e-02],\n",
              "                        [ 1.9732e-01,  1.1105e-01,  1.2414e-01]],\n",
              "              \n",
              "                       [[ 6.4659e-02,  8.0344e-02, -1.0487e-01],\n",
              "                        [ 8.5039e-02, -8.7098e-02,  9.3785e-02],\n",
              "                        [-1.1525e-02, -9.2116e-02,  2.9422e-02]],\n",
              "              \n",
              "                       [[-2.1970e-02, -9.5091e-02, -3.8299e-02],\n",
              "                        [ 1.0732e-02,  8.1261e-02, -3.2739e-02],\n",
              "                        [ 6.2580e-02,  1.3489e-02,  3.5963e-03]],\n",
              "              \n",
              "                       [[ 1.9128e-01, -1.5124e-02, -1.2255e-01],\n",
              "                        [ 1.3101e-01, -1.7896e-01, -2.3642e-01],\n",
              "                        [ 8.0017e-02, -6.4938e-02, -1.4073e-01]],\n",
              "              \n",
              "                       [[-1.1557e-02, -9.7416e-03, -5.6326e-02],\n",
              "                        [ 1.6137e-02, -1.5529e-02,  3.2535e-02],\n",
              "                        [ 9.8133e-03, -5.6864e-02, -3.5192e-02]],\n",
              "              \n",
              "                       [[-4.1638e-03, -8.4301e-02, -1.9502e-02],\n",
              "                        [ 7.5958e-02,  2.6525e-02, -1.1807e-03],\n",
              "                        [ 9.8702e-02, -6.7838e-02, -1.2320e-01]],\n",
              "              \n",
              "                       [[ 4.8912e-02, -1.1942e-01, -5.0894e-02],\n",
              "                        [ 1.2606e-01, -7.5033e-02, -1.8844e-01],\n",
              "                        [ 2.3873e-01,  1.4222e-01, -2.9565e-02]],\n",
              "              \n",
              "                       [[ 7.0135e-02, -1.5315e-01,  1.5553e-02],\n",
              "                        [ 1.1441e-01, -4.4649e-03, -1.4258e-01],\n",
              "                        [ 9.6669e-02, -5.8022e-02, -7.7149e-03]],\n",
              "              \n",
              "                       [[ 1.2308e-02, -2.3747e-02, -8.5539e-02],\n",
              "                        [ 3.7021e-02,  7.3639e-02, -1.5209e-02],\n",
              "                        [-3.6494e-02,  3.0212e-02, -7.0995e-02]],\n",
              "              \n",
              "                       [[-3.6973e-02,  7.5514e-02,  1.1494e-01],\n",
              "                        [ 1.4858e-01, -6.3679e-02,  3.0965e-02],\n",
              "                        [ 2.2698e-01,  1.4429e-01, -5.6952e-02]]],\n",
              "              \n",
              "              \n",
              "                      [[[-1.1120e-01,  6.2612e-02,  3.2668e-02],\n",
              "                        [-3.5038e-02, -3.3929e-02, -2.0122e-02],\n",
              "                        [ 7.3094e-02, -1.1081e-02,  1.2527e-01]],\n",
              "              \n",
              "                       [[ 9.3096e-02,  1.1997e-02,  2.1004e-02],\n",
              "                        [-8.6263e-03,  7.2753e-02, -9.3924e-02],\n",
              "                        [ 4.1699e-02, -1.6896e-02,  4.8148e-02]],\n",
              "              \n",
              "                       [[-5.5115e-04, -3.9038e-02, -1.1438e-02],\n",
              "                        [ 5.6956e-02, -7.3184e-02, -6.6626e-02],\n",
              "                        [-2.3579e-02, -3.8315e-02,  4.1415e-02]],\n",
              "              \n",
              "                       [[ 3.2771e-02, -7.0231e-02,  3.7008e-02],\n",
              "                        [-5.7648e-02, -5.9185e-02, -5.6099e-02],\n",
              "                        [-8.2922e-02, -7.3666e-02, -1.2741e-01]],\n",
              "              \n",
              "                       [[-1.0275e-01,  2.2049e-02,  6.3242e-02],\n",
              "                        [ 9.6172e-02,  9.2770e-02,  3.3496e-03],\n",
              "                        [ 2.3163e-02, -5.6334e-02,  5.3744e-02]],\n",
              "              \n",
              "                       [[-1.0490e-01, -4.5179e-03, -2.1611e-02],\n",
              "                        [ 2.2293e-02,  1.0860e-02, -3.4234e-02],\n",
              "                        [ 1.0855e-01,  6.4280e-02,  9.2122e-02]],\n",
              "              \n",
              "                       [[ 6.4559e-04,  4.4392e-02,  2.5695e-02],\n",
              "                        [ 5.8858e-02,  8.7259e-02, -4.1330e-02],\n",
              "                        [ 6.2517e-02,  4.1823e-02,  5.2179e-02]],\n",
              "              \n",
              "                       [[ 1.0696e-01,  1.3329e-02, -4.8749e-02],\n",
              "                        [-4.4428e-03,  3.9864e-02,  1.5987e-02],\n",
              "                        [-3.0358e-02,  9.4054e-02,  6.9093e-02]],\n",
              "              \n",
              "                       [[-1.0502e-01, -3.0432e-02, -6.5568e-02],\n",
              "                        [-9.4106e-02,  1.8027e-02, -4.2798e-02],\n",
              "                        [-6.5288e-02, -2.5308e-02, -3.9298e-02]],\n",
              "              \n",
              "                       [[ 1.2998e-01,  6.3360e-03,  1.7114e-01],\n",
              "                        [ 5.1422e-02,  4.3521e-03,  6.6042e-02],\n",
              "                        [ 3.5614e-02, -1.0151e-01, -6.6097e-02]]],\n",
              "              \n",
              "              \n",
              "                      [[[-9.8758e-02,  3.2467e-01,  2.7592e-01],\n",
              "                        [-3.3713e-01, -1.3677e-02, -2.9778e-03],\n",
              "                        [-2.1908e-01, -2.8735e-01, -4.0012e-01]],\n",
              "              \n",
              "                       [[-7.4580e-02,  2.1983e-02,  4.9008e-02],\n",
              "                        [ 8.8812e-02, -5.5303e-02, -1.0140e-02],\n",
              "                        [-1.0610e-02, -2.1794e-03,  2.9496e-02]],\n",
              "              \n",
              "                       [[-1.6943e-03,  3.9484e-03,  1.4489e-02],\n",
              "                        [ 3.9783e-02, -3.0437e-02, -6.3022e-02],\n",
              "                        [ 2.5125e-02, -1.2129e-02, -4.7171e-02]],\n",
              "              \n",
              "                       [[-1.2152e-01, -4.1988e-01, -6.0175e-01],\n",
              "                        [ 4.0068e-01,  1.8090e-01, -2.2363e-01],\n",
              "                        [-2.2990e-02,  2.3169e-01,  3.3983e-01]],\n",
              "              \n",
              "                       [[-9.0403e-03, -1.6074e-02,  1.4955e-02],\n",
              "                        [ 6.4369e-02, -6.8400e-02,  5.5900e-02],\n",
              "                        [ 1.3971e-02, -7.4013e-02,  3.3333e-02]],\n",
              "              \n",
              "                       [[-5.8077e-02,  5.8482e-02,  7.8657e-02],\n",
              "                        [-1.5160e-01, -2.8137e-04, -1.5556e-01],\n",
              "                        [ 1.9126e-01, -2.5102e-03, -7.4544e-03]],\n",
              "              \n",
              "                       [[ 4.2263e-02,  2.5229e-01, -5.0835e-01],\n",
              "                        [ 3.4211e-01,  2.7206e-01, -2.7977e-01],\n",
              "                        [-2.1557e-01, -1.0369e-01, -2.3173e-01]],\n",
              "              \n",
              "                       [[-9.7281e-04,  5.4773e-02, -3.4409e-01],\n",
              "                        [ 3.9487e-02, -2.3777e-02, -9.8705e-03],\n",
              "                        [-2.1075e-01, -2.4727e-01,  1.3406e-02]],\n",
              "              \n",
              "                       [[-3.5280e-02, -3.1934e-02, -2.6203e-01],\n",
              "                        [ 1.4967e-01,  1.6523e-01, -3.2116e-01],\n",
              "                        [ 1.3378e-02,  1.6879e-01,  6.7946e-02]],\n",
              "              \n",
              "                       [[ 2.5803e-02, -2.1490e-01,  4.6822e-02],\n",
              "                        [-3.7229e-02, -3.6389e-01, -2.6536e-01],\n",
              "                        [ 7.3581e-02, -2.4604e-01, -1.5130e-01]]],\n",
              "              \n",
              "              \n",
              "                      [[[-2.2982e-02,  3.0563e-01,  1.3769e-01],\n",
              "                        [-2.9256e-02, -2.2470e-01, -5.3299e-02],\n",
              "                        [ 4.7825e-02, -1.8172e-02,  1.6377e-01]],\n",
              "              \n",
              "                       [[-9.0900e-02, -1.8395e-02, -6.0466e-02],\n",
              "                        [ 3.4782e-02, -6.9126e-02,  5.6376e-02],\n",
              "                        [-7.2653e-02,  6.4831e-02, -8.0558e-02]],\n",
              "              \n",
              "                       [[ 5.9203e-02, -4.5676e-02, -3.2900e-03],\n",
              "                        [-2.2044e-02,  6.8446e-02,  3.5049e-02],\n",
              "                        [-9.1184e-02,  1.0031e-02, -7.2103e-02]],\n",
              "              \n",
              "                       [[-1.0064e-01, -1.8720e-01, -4.2571e-01],\n",
              "                        [-2.2803e-01,  5.1051e-01,  1.8081e-01],\n",
              "                        [ 4.7637e-02,  4.7365e-01, -8.8906e-02]],\n",
              "              \n",
              "                       [[ 1.7569e-02, -1.1452e-01,  6.8592e-02],\n",
              "                        [-3.0239e-02, -4.9934e-02, -2.0187e-02],\n",
              "                        [ 6.3083e-02,  7.5002e-02,  2.9462e-04]],\n",
              "              \n",
              "                       [[ 1.0506e-01, -5.4830e-01, -2.6923e-01],\n",
              "                        [-1.4040e-01, -2.4552e-01, -1.4292e-01],\n",
              "                        [-1.0672e-01,  3.5598e-02,  4.5996e-02]],\n",
              "              \n",
              "                       [[ 1.5516e-01, -2.4743e-01, -1.8080e-01],\n",
              "                        [-3.2275e-01,  9.4610e-02, -1.2436e-01],\n",
              "                        [-2.9674e-01,  2.4295e-01,  8.5161e-02]],\n",
              "              \n",
              "                       [[ 6.7628e-02, -8.2019e-02, -7.9396e-02],\n",
              "                        [-8.0573e-02, -2.7617e-02, -2.7425e-02],\n",
              "                        [-1.1252e-01, -3.0374e-03, -6.9992e-02]],\n",
              "              \n",
              "                       [[ 1.1680e-01, -1.2447e-01, -1.9562e-01],\n",
              "                        [-1.8866e-01,  1.9359e-01,  8.4244e-02],\n",
              "                        [ 9.4376e-03,  1.4027e-01,  1.4343e-01]],\n",
              "              \n",
              "                       [[ 1.2473e-01, -4.1193e-01,  1.6708e-01],\n",
              "                        [ 1.0635e-01, -1.0306e-01,  5.4558e-02],\n",
              "                        [-1.2077e-02,  9.4804e-03, -1.1577e-01]]],\n",
              "              \n",
              "              \n",
              "                      [[[-1.2362e-01, -7.7755e-02,  1.9209e-01],\n",
              "                        [ 1.3100e-01,  2.4606e-01,  2.6671e-01],\n",
              "                        [-2.2811e-02, -1.0151e-02,  1.4832e-02]],\n",
              "              \n",
              "                       [[ 5.8898e-02,  1.7822e-02,  2.8528e-02],\n",
              "                        [-4.9310e-02,  4.6280e-02,  6.5322e-02],\n",
              "                        [ 4.7081e-02,  1.9053e-02,  1.0428e-01]],\n",
              "              \n",
              "                       [[-2.3858e-04,  2.2381e-02,  1.0008e-01],\n",
              "                        [ 1.0188e-01, -4.4854e-02,  9.5475e-02],\n",
              "                        [ 3.7767e-02, -1.2429e-02,  9.1572e-02]],\n",
              "              \n",
              "                       [[ 2.1410e-01,  4.2265e-01,  1.9217e-01],\n",
              "                        [-1.0939e-01, -5.7409e-01, -3.4350e-01],\n",
              "                        [ 1.3895e-01, -3.7802e-01,  2.6100e-02]],\n",
              "              \n",
              "                       [[ 4.6190e-02,  7.9578e-02,  4.7657e-02],\n",
              "                        [ 6.4858e-02,  3.6135e-02, -8.5916e-02],\n",
              "                        [-9.3509e-02, -1.1065e-02,  8.4674e-02]],\n",
              "              \n",
              "                       [[-3.1163e-02,  1.8792e-01, -3.5206e-02],\n",
              "                        [ 3.8860e-02,  7.0463e-02,  1.7927e-02],\n",
              "                        [-1.0502e-01, -2.2588e-01, -1.0268e-01]],\n",
              "              \n",
              "                       [[-7.8790e-02,  1.6839e-01,  1.2561e-01],\n",
              "                        [-1.5869e-02, -4.7636e-01, -5.5271e-01],\n",
              "                        [ 2.5880e-01, -3.3323e-01, -2.8949e-01]],\n",
              "              \n",
              "                       [[-4.1191e-02,  8.7409e-02,  6.1799e-02],\n",
              "                        [-2.0499e-01, -2.7555e-01, -5.0997e-02],\n",
              "                        [ 5.0115e-02, -2.2190e-01, -2.2642e-01]],\n",
              "              \n",
              "                       [[ 1.4464e-01,  1.6525e-01, -7.7511e-02],\n",
              "                        [ 2.3454e-02, -2.3043e-01, -2.6476e-01],\n",
              "                        [ 1.3505e-01, -2.8664e-01, -1.3624e-01]],\n",
              "              \n",
              "                       [[-8.6120e-02, -2.7219e-01,  1.4720e-01],\n",
              "                        [-1.4861e-01, -1.6049e-01,  7.0210e-02],\n",
              "                        [-2.3546e-01, -3.3513e-01,  1.0920e-01]]],\n",
              "              \n",
              "              \n",
              "                      [[[-9.6001e-02,  4.3370e-02,  6.1048e-04],\n",
              "                        [ 7.2330e-02,  8.6043e-02, -1.0327e-02],\n",
              "                        [ 1.2207e-01, -8.1927e-02, -8.7597e-02]],\n",
              "              \n",
              "                       [[ 7.6331e-02,  3.0854e-02, -1.4125e-02],\n",
              "                        [-2.4283e-02, -6.4230e-02,  6.3203e-02],\n",
              "                        [-2.6947e-03, -2.6755e-03,  2.5698e-02]],\n",
              "              \n",
              "                       [[ 7.7779e-02, -5.3747e-02, -3.6214e-02],\n",
              "                        [ 7.1361e-02,  5.9626e-02, -5.1707e-02],\n",
              "                        [-1.0437e-01,  1.9449e-02,  5.5441e-02]],\n",
              "              \n",
              "                       [[-1.3691e-02,  4.0709e-02, -1.2080e-01],\n",
              "                        [-2.0568e-02, -8.9962e-02,  4.1995e-02],\n",
              "                        [ 9.8681e-03,  2.3561e-02,  2.0175e-01]],\n",
              "              \n",
              "                       [[-7.0352e-02, -9.4674e-02, -1.0220e-01],\n",
              "                        [ 6.3701e-02,  3.5273e-02, -7.7771e-02],\n",
              "                        [ 4.7988e-02,  9.5886e-02, -1.0235e-01]],\n",
              "              \n",
              "                       [[ 4.0593e-02, -4.8266e-03, -3.7189e-02],\n",
              "                        [ 8.4132e-02,  8.2124e-02,  9.7180e-03],\n",
              "                        [ 1.0634e-01,  9.6121e-02,  7.7586e-02]],\n",
              "              \n",
              "                       [[-1.2061e-01, -2.8716e-02, -1.0242e-01],\n",
              "                        [-1.3649e-02, -5.7902e-02, -3.1617e-02],\n",
              "                        [-1.2273e-01, -1.2624e-01, -3.2826e-05]],\n",
              "              \n",
              "                       [[ 4.1187e-02,  3.7183e-02, -4.7707e-02],\n",
              "                        [-3.2641e-02, -5.0190e-02,  4.5673e-02],\n",
              "                        [-6.4405e-02,  4.4984e-02,  3.8942e-02]],\n",
              "              \n",
              "                       [[-1.0746e-01, -2.5930e-02, -3.0884e-02],\n",
              "                        [-7.8625e-02,  1.1007e-02, -2.6596e-02],\n",
              "                        [ 5.9295e-02, -9.8611e-02,  4.7084e-02]],\n",
              "              \n",
              "                       [[-1.1484e-01, -1.5998e-02, -9.4748e-03],\n",
              "                        [ 7.1715e-02,  1.0380e-01, -8.8804e-02],\n",
              "                        [ 1.1478e-02,  3.1484e-03,  9.1995e-02]]]])),\n",
              "             ('conv_block_2.0.bias',\n",
              "              tensor([-0.0753,  0.2206, -0.0503, -0.1896, -0.2849,  0.0465,  0.3349,  0.5329,\n",
              "                       0.8123, -0.0693])),\n",
              "             ('conv_block_2.2.weight',\n",
              "              tensor([[[[-9.6598e-02, -1.5548e-01, -3.7943e-03],\n",
              "                        [-6.8278e-02, -8.0038e-02,  6.6268e-03],\n",
              "                        [-1.1226e-02, -2.0582e-01,  7.4372e-02]],\n",
              "              \n",
              "                       [[-1.3693e-01, -2.8226e-01, -1.4404e-01],\n",
              "                        [-1.2507e-01, -4.1405e-02, -5.2510e-01],\n",
              "                        [ 4.6277e-01,  3.0801e-01, -6.9776e-01]],\n",
              "              \n",
              "                       [[ 6.9612e-02,  3.0486e-03,  8.1625e-02],\n",
              "                        [-5.8677e-02,  6.3929e-02,  1.0137e-02],\n",
              "                        [ 2.0247e-02,  7.0490e-02, -1.0069e-01]],\n",
              "              \n",
              "                       [[-1.4118e-01,  1.7373e-01, -1.5384e-01],\n",
              "                        [-1.3324e-01,  2.9607e-02, -8.7854e-02],\n",
              "                        [-8.5263e-02,  8.2238e-02, -4.5868e-03]],\n",
              "              \n",
              "                       [[-1.7479e-01, -2.2529e-01, -9.5702e-02],\n",
              "                        [-1.5877e-02, -1.2597e-01, -9.6263e-02],\n",
              "                        [-3.5403e-02, -2.1503e-01, -2.4906e-01]],\n",
              "              \n",
              "                       [[-7.1993e-02, -1.0188e-01,  1.2124e-01],\n",
              "                        [-1.1840e-02,  2.8403e-04,  8.1825e-02],\n",
              "                        [ 1.4981e-03, -8.0657e-02, -7.0120e-02]],\n",
              "              \n",
              "                       [[-7.3506e-02,  7.7839e-02, -1.4571e-01],\n",
              "                        [-4.8037e-01, -1.9297e-03,  3.7353e-01],\n",
              "                        [-3.9372e-01,  1.9891e-01,  3.3765e-01]],\n",
              "              \n",
              "                       [[ 3.5210e-01,  4.1191e-02, -8.5972e-02],\n",
              "                        [-6.3236e-02,  3.1766e-02, -6.5541e-03],\n",
              "                        [-6.0217e-03, -2.6347e-02, -1.5695e-01]],\n",
              "              \n",
              "                       [[ 3.4711e-01, -1.2139e-01,  9.8563e-02],\n",
              "                        [ 6.3304e-02, -3.6590e-01,  2.1865e-01],\n",
              "                        [-2.8460e-01, -4.4877e-01, -2.6116e-01]],\n",
              "              \n",
              "                       [[-7.3678e-02,  3.8052e-02, -6.4955e-02],\n",
              "                        [ 2.0709e-02, -7.2597e-02, -4.7955e-02],\n",
              "                        [ 5.7943e-02,  2.5606e-03, -3.4027e-02]]],\n",
              "              \n",
              "              \n",
              "                      [[[ 4.3236e-02,  7.1971e-02,  4.3488e-02],\n",
              "                        [-9.4934e-02,  7.2891e-02,  4.5751e-02],\n",
              "                        [ 1.3450e-01,  1.8198e-02,  1.3275e-01]],\n",
              "              \n",
              "                       [[ 8.0773e-02,  2.3362e-01, -3.4701e-01],\n",
              "                        [ 8.3114e-03, -1.7367e-01,  4.2241e-01],\n",
              "                        [-2.3691e-01, -7.8402e-01,  1.8931e-01]],\n",
              "              \n",
              "                       [[ 2.4709e-02,  2.0659e-02,  7.7882e-02],\n",
              "                        [ 7.6343e-02, -6.1500e-02, -4.1435e-02],\n",
              "                        [-2.9911e-02, -8.4169e-02, -2.6091e-02]],\n",
              "              \n",
              "                       [[-3.0271e-02,  1.9499e-01,  3.4161e-02],\n",
              "                        [ 9.7877e-02, -3.4696e-02, -1.2410e-01],\n",
              "                        [ 1.3973e-01,  4.6965e-02,  2.4255e-02]],\n",
              "              \n",
              "                       [[-8.3635e-02,  1.7987e-01,  7.6286e-02],\n",
              "                        [ 2.2003e-02,  5.1922e-02,  1.1623e-01],\n",
              "                        [ 1.1971e-01,  5.6102e-02,  1.2961e-02]],\n",
              "              \n",
              "                       [[-6.4818e-03,  3.8860e-02,  4.9968e-02],\n",
              "                        [-5.8324e-02, -1.0034e-01,  9.8005e-03],\n",
              "                        [ 4.9091e-02,  3.3225e-02, -9.2370e-03]],\n",
              "              \n",
              "                       [[-1.7730e-01,  8.1990e-02,  1.2611e-01],\n",
              "                        [-3.2924e-01,  1.8122e-01, -3.5894e-02],\n",
              "                        [ 2.8009e-02,  2.4394e-01, -1.0073e-01]],\n",
              "              \n",
              "                       [[ 4.7778e-02, -1.7055e-01,  1.1688e-01],\n",
              "                        [ 5.3663e-02, -5.3026e-01, -5.4073e-02],\n",
              "                        [ 2.5405e-01, -5.7891e-01,  2.6516e-01]],\n",
              "              \n",
              "                       [[-8.8067e-02, -2.0573e-01, -2.7151e-02],\n",
              "                        [ 1.5467e-01,  4.8916e-03, -3.0089e-01],\n",
              "                        [ 6.4225e-02,  8.4714e-02, -2.7769e-02]],\n",
              "              \n",
              "                       [[-1.6631e-02,  6.6781e-02,  1.0051e-01],\n",
              "                        [-6.7198e-02, -7.6692e-02,  4.6543e-02],\n",
              "                        [-1.1231e-02, -4.2033e-02, -8.9953e-02]]],\n",
              "              \n",
              "              \n",
              "                      [[[ 1.6481e-01,  5.8464e-02, -8.2955e-02],\n",
              "                        [-1.2338e-02,  8.7811e-02, -5.4012e-02],\n",
              "                        [ 1.6196e-02,  1.7144e-01, -4.0591e-02]],\n",
              "              \n",
              "                       [[-6.4995e-01,  1.7480e-01, -5.6449e-01],\n",
              "                        [-6.1279e-01,  6.0151e-01, -5.6742e-02],\n",
              "                        [-9.6613e-02, -7.2076e-02,  3.1030e-01]],\n",
              "              \n",
              "                       [[-5.6389e-03,  1.2291e-03, -2.3812e-02],\n",
              "                        [-5.5668e-03,  7.7126e-02,  5.6428e-02],\n",
              "                        [ 9.2824e-03, -3.5338e-02,  4.8564e-02]],\n",
              "              \n",
              "                       [[-7.2808e-02,  7.1828e-02,  1.4868e-02],\n",
              "                        [ 6.4164e-02,  4.3557e-02, -2.0347e-01],\n",
              "                        [ 3.7783e-02,  1.3470e-02, -1.0213e-01]],\n",
              "              \n",
              "                       [[ 1.2113e-01, -1.7104e-02, -6.3377e-02],\n",
              "                        [-3.7352e-02,  1.3407e-01, -1.0814e-01],\n",
              "                        [ 1.0270e-01,  9.7032e-02, -3.6519e-02]],\n",
              "              \n",
              "                       [[ 7.7995e-02,  1.1107e-02, -1.1079e-01],\n",
              "                        [ 7.8632e-02,  2.8439e-02,  7.9108e-03],\n",
              "                        [-7.7046e-02,  2.6653e-02, -4.6910e-02]],\n",
              "              \n",
              "                       [[-4.6269e-01, -1.1759e-01,  3.3233e-01],\n",
              "                        [-1.7693e-01,  1.0085e-01, -1.0411e-01],\n",
              "                        [-7.3945e-02,  2.0532e-01,  6.6342e-02]],\n",
              "              \n",
              "                       [[-3.0911e-01,  6.1124e-01, -3.4209e-02],\n",
              "                        [-2.4178e-01,  2.3069e-01, -9.5969e-02],\n",
              "                        [ 1.0446e-01, -2.8673e-01, -4.6724e-02]],\n",
              "              \n",
              "                       [[-2.8695e-01, -2.7125e-01,  3.6179e-02],\n",
              "                        [-3.4222e-02, -2.1449e-01, -5.8696e-02],\n",
              "                        [-1.4135e-02, -9.2415e-02, -2.1186e-01]],\n",
              "              \n",
              "                       [[ 5.3913e-02, -3.3025e-02, -1.2234e-01],\n",
              "                        [-3.8601e-02, -3.1815e-02, -7.0596e-02],\n",
              "                        [ 3.2299e-02, -1.0840e-01, -7.6292e-02]]],\n",
              "              \n",
              "              \n",
              "                      [[[-1.0604e-01, -1.2157e-02, -1.3729e-02],\n",
              "                        [-3.7245e-02,  9.0696e-02, -1.1334e-01],\n",
              "                        [ 9.7221e-03, -7.2976e-03,  3.1721e-02]],\n",
              "              \n",
              "                       [[ 1.3832e-01, -1.5474e-01, -4.1541e-01],\n",
              "                        [ 5.2134e-02, -3.3198e-01,  3.8380e-02],\n",
              "                        [-4.4826e-02, -4.4317e-01,  5.7513e-01]],\n",
              "              \n",
              "                       [[ 4.4351e-02, -3.0609e-02, -3.6259e-03],\n",
              "                        [ 2.8361e-02, -1.7084e-02,  8.2650e-02],\n",
              "                        [-8.1516e-02,  5.2511e-02, -6.3837e-02]],\n",
              "              \n",
              "                       [[-7.5671e-02,  2.5561e-02,  3.6676e-02],\n",
              "                        [ 9.3301e-02,  4.2742e-02, -2.7388e-02],\n",
              "                        [ 6.3591e-02, -6.4704e-02, -2.6861e-02]],\n",
              "              \n",
              "                       [[-4.9928e-02,  1.2771e-02,  5.3371e-02],\n",
              "                        [-8.4291e-02, -8.5437e-02, -8.5036e-02],\n",
              "                        [ 1.9705e-02, -1.8049e-01,  1.5752e-02]],\n",
              "              \n",
              "                       [[-9.8279e-02,  4.5671e-02,  6.3308e-02],\n",
              "                        [-7.5568e-02, -1.2236e-01,  4.6251e-03],\n",
              "                        [-3.1197e-02,  9.3512e-03, -6.7334e-02]],\n",
              "              \n",
              "                       [[-2.3714e-02, -8.4532e-02, -1.3637e-01],\n",
              "                        [-1.4482e-01, -1.1436e-01, -1.0024e-01],\n",
              "                        [-1.3565e-02, -2.2636e-01, -1.0132e-01]],\n",
              "              \n",
              "                       [[-1.1070e-01,  3.6547e-02,  6.0999e-02],\n",
              "                        [-1.0302e-01, -1.8095e-02,  1.5402e-01],\n",
              "                        [-2.0954e-01, -7.7662e-03, -4.0025e-03]],\n",
              "              \n",
              "                       [[ 1.6236e-01,  1.9998e-01,  9.9548e-02],\n",
              "                        [ 5.5452e-03, -3.8744e-02, -4.7185e-01],\n",
              "                        [ 3.8861e-01,  7.8735e-02, -2.5752e-01]],\n",
              "              \n",
              "                       [[ 4.3365e-02,  5.4139e-02,  7.8655e-02],\n",
              "                        [ 2.6999e-02, -1.1363e-01, -1.4672e-01],\n",
              "                        [-8.1204e-02,  1.6143e-02, -1.2282e-01]]],\n",
              "              \n",
              "              \n",
              "                      [[[-9.3417e-02, -1.3680e-01, -5.6805e-02],\n",
              "                        [-5.6679e-02, -6.8415e-02, -6.9979e-02],\n",
              "                        [ 3.6054e-02, -7.8500e-02, -4.0362e-02]],\n",
              "              \n",
              "                       [[ 5.1219e-01,  3.4649e-01,  2.8907e-01],\n",
              "                        [-1.7095e-01, -2.5110e-01, -2.1231e-01],\n",
              "                        [-1.1358e-01, -5.1238e-02, -1.1888e-01]],\n",
              "              \n",
              "                       [[-1.0097e-01, -9.3828e-02, -3.4082e-02],\n",
              "                        [-1.0699e-03, -4.8600e-02, -8.4142e-02],\n",
              "                        [ 1.0410e-02, -8.3807e-02, -8.1380e-02]],\n",
              "              \n",
              "                       [[-2.3640e-02, -7.0485e-02,  2.2468e-01],\n",
              "                        [ 7.4674e-02, -1.0762e-02,  4.9217e-02],\n",
              "                        [ 8.6049e-02,  7.9701e-02, -9.4780e-02]],\n",
              "              \n",
              "                       [[-3.2411e-02, -9.9800e-02, -7.2901e-02],\n",
              "                        [-6.0889e-02, -1.7870e-02, -5.5784e-02],\n",
              "                        [ 2.0723e-01,  9.5628e-02,  1.0801e-01]],\n",
              "              \n",
              "                       [[ 2.5316e-02, -5.3863e-02,  3.2537e-02],\n",
              "                        [-7.2194e-02, -5.8290e-02, -3.8529e-02],\n",
              "                        [-2.3771e-02, -9.4291e-02,  4.4621e-02]],\n",
              "              \n",
              "                       [[ 1.9571e-01, -2.1206e-01,  2.4389e-01],\n",
              "                        [-1.7468e-02, -1.5900e-01, -5.2421e-02],\n",
              "                        [ 3.4199e-02,  1.7828e-02, -1.5319e-01]],\n",
              "              \n",
              "                       [[ 1.2110e-02, -4.4362e-02,  5.1520e-02],\n",
              "                        [-1.6105e-01, -9.2098e-02, -8.1378e-02],\n",
              "                        [-1.8768e-01, -2.3207e-02,  1.2399e-01]],\n",
              "              \n",
              "                       [[-1.4896e-01,  9.6157e-02, -7.0235e-02],\n",
              "                        [-2.9644e-02,  4.9090e-02,  1.1436e-01],\n",
              "                        [-4.4682e-02,  2.3110e-02, -2.8918e-02]],\n",
              "              \n",
              "                       [[-8.6543e-02, -2.4661e-03, -3.0800e-02],\n",
              "                        [ 8.6143e-02,  9.7288e-02,  1.8543e-02],\n",
              "                        [ 9.7073e-02, -4.9426e-02,  1.0043e-01]]],\n",
              "              \n",
              "              \n",
              "                      [[[ 1.1760e-01, -2.1956e-02, -1.4929e-01],\n",
              "                        [ 5.3028e-02, -1.6221e-02, -4.7741e-02],\n",
              "                        [-2.2268e-02,  3.6587e-02, -5.6924e-02]],\n",
              "              \n",
              "                       [[-1.8182e-01, -4.6146e-01, -1.1963e-02],\n",
              "                        [-4.2629e-01, -4.1557e-01, -2.9730e-01],\n",
              "                        [ 1.7521e-01,  6.4692e-01,  9.9881e-02]],\n",
              "              \n",
              "                       [[ 4.1410e-02, -6.1440e-02, -8.1753e-02],\n",
              "                        [-5.9941e-03, -6.3986e-02, -9.1840e-02],\n",
              "                        [-9.5139e-02, -7.0976e-02,  8.5481e-02]],\n",
              "              \n",
              "                       [[ 9.0565e-02, -6.7565e-02, -1.0798e-01],\n",
              "                        [-4.2958e-02, -8.0240e-02, -5.6232e-02],\n",
              "                        [ 5.8943e-02, -2.2124e-02, -3.5851e-03]],\n",
              "              \n",
              "                       [[-2.0352e-01,  5.2230e-02, -1.2630e-01],\n",
              "                        [-7.3198e-02, -4.1413e-02, -6.9974e-02],\n",
              "                        [ 2.2635e-01, -2.0146e-02, -1.9871e-01]],\n",
              "              \n",
              "                       [[ 1.4088e-02, -9.9697e-02,  8.6231e-02],\n",
              "                        [-7.7657e-02,  5.3012e-02, -9.2298e-02],\n",
              "                        [-8.0695e-02,  1.4582e-02,  2.6509e-02]],\n",
              "              \n",
              "                       [[ 3.5686e-01,  3.0275e-01, -2.6470e-01],\n",
              "                        [-2.4303e-01,  5.5938e-02, -1.2509e-01],\n",
              "                        [-9.8220e-02, -4.3745e-01, -2.0302e-01]],\n",
              "              \n",
              "                       [[ 1.4278e-01, -9.7276e-02, -1.3646e-01],\n",
              "                        [ 1.3430e-02,  1.9941e-01,  8.9031e-02],\n",
              "                        [-2.4330e-01, -3.1216e-01,  3.1134e-01]],\n",
              "              \n",
              "                       [[ 6.7897e-02, -2.1283e-01,  2.0331e-01],\n",
              "                        [-1.3702e-01, -3.4147e-01, -8.3654e-02],\n",
              "                        [ 2.4368e-01,  1.2140e-01, -1.1277e-01]],\n",
              "              \n",
              "                       [[ 1.1985e-01,  8.7702e-02, -6.1380e-03],\n",
              "                        [-4.1377e-02, -5.0558e-02,  7.1384e-02],\n",
              "                        [ 8.6967e-02,  6.3691e-02, -9.2017e-02]]],\n",
              "              \n",
              "              \n",
              "                      [[[ 5.5099e-02,  6.0278e-03,  1.6573e-01],\n",
              "                        [ 1.1680e-01, -8.1340e-02, -4.4158e-02],\n",
              "                        [ 1.0252e-01, -5.3845e-02,  1.5819e-01]],\n",
              "              \n",
              "                       [[ 1.0758e-01,  1.7048e-01,  2.5109e-01],\n",
              "                        [-1.1689e-01, -2.3436e-01, -4.5114e-01],\n",
              "                        [-2.7646e-01, -2.1630e-01,  8.0984e-02]],\n",
              "              \n",
              "                       [[-6.2178e-03, -7.7866e-02, -2.5011e-02],\n",
              "                        [-3.5799e-02,  6.5956e-02, -3.1046e-02],\n",
              "                        [-2.9881e-02, -6.7916e-02, -4.2338e-02]],\n",
              "              \n",
              "                       [[ 1.1572e-01,  7.0193e-02,  3.5907e-02],\n",
              "                        [-1.3212e-01,  1.2237e-01,  2.5175e-02],\n",
              "                        [-1.9836e-01, -3.6016e-03,  3.0592e-02]],\n",
              "              \n",
              "                       [[ 1.8779e-01,  1.4097e-01,  9.3802e-02],\n",
              "                        [-9.8427e-02,  1.5564e-01, -1.1250e-01],\n",
              "                        [-3.6461e-01, -1.5256e-01, -7.6803e-03]],\n",
              "              \n",
              "                       [[-6.9690e-02, -6.0018e-02,  3.8605e-03],\n",
              "                        [ 8.6268e-03, -4.7080e-03, -5.8965e-02],\n",
              "                        [ 1.0280e-01, -6.8291e-03,  6.9807e-02]],\n",
              "              \n",
              "                       [[-5.9537e-02, -5.7837e-01, -1.8862e-01],\n",
              "                        [ 2.5043e-01,  1.8436e-01, -1.8301e-01],\n",
              "                        [ 1.2801e-01,  2.8988e-01, -2.2990e-01]],\n",
              "              \n",
              "                       [[-2.2163e-01, -3.6681e-01, -1.2365e-01],\n",
              "                        [-2.8947e-01, -4.8697e-01,  3.3806e-01],\n",
              "                        [ 4.8886e-01,  7.7590e-01, -2.1332e-01]],\n",
              "              \n",
              "                       [[ 3.5844e-02,  4.1275e-01,  2.0092e-01],\n",
              "                        [-9.7616e-02,  7.5650e-02,  1.1358e-01],\n",
              "                        [-3.7644e-01, -8.5065e-01, -3.1757e-02]],\n",
              "              \n",
              "                       [[ 5.4926e-02, -9.2121e-02,  4.2825e-02],\n",
              "                        [ 8.4266e-03, -5.8915e-02, -3.4876e-02],\n",
              "                        [-2.1973e-02, -1.2508e-01,  5.5857e-02]]],\n",
              "              \n",
              "              \n",
              "                      [[[ 7.6820e-02, -2.8124e-02,  9.9298e-02],\n",
              "                        [-3.5452e-02,  2.8978e-02, -6.6895e-02],\n",
              "                        [ 2.5143e-03,  5.3307e-02,  4.7688e-02]],\n",
              "              \n",
              "                       [[-1.1820e-01, -1.1006e-01,  5.5455e-03],\n",
              "                        [ 1.8355e-02,  2.7932e-03, -8.8558e-02],\n",
              "                        [ 4.2036e-04,  1.0087e-02,  4.8843e-02]],\n",
              "              \n",
              "                       [[ 9.1482e-03,  3.7845e-03, -5.1537e-03],\n",
              "                        [ 6.5272e-02,  8.3948e-03,  9.0732e-02],\n",
              "                        [ 6.1837e-02, -7.1728e-02, -8.4665e-04]],\n",
              "              \n",
              "                       [[-8.8207e-02, -8.1825e-02,  1.5185e-02],\n",
              "                        [ 2.5816e-02, -8.5053e-03,  9.5247e-02],\n",
              "                        [-5.8409e-02, -4.4123e-02, -2.3094e-02]],\n",
              "              \n",
              "                       [[-5.0480e-04, -7.5101e-03,  9.0074e-02],\n",
              "                        [-4.7234e-02, -5.5068e-02,  1.9290e-02],\n",
              "                        [ 7.3336e-02,  2.1843e-02,  6.9003e-02]],\n",
              "              \n",
              "                       [[-2.6899e-04,  7.0537e-02,  3.6842e-02],\n",
              "                        [ 7.5073e-02, -1.1186e-02, -9.4992e-02],\n",
              "                        [-4.2829e-02,  5.0908e-02,  7.8787e-02]],\n",
              "              \n",
              "                       [[-1.0469e-01,  2.6425e-02, -3.2545e-02],\n",
              "                        [-8.8518e-02, -4.9461e-03, -1.4073e-02],\n",
              "                        [ 2.9802e-02, -4.6621e-02,  2.2456e-02]],\n",
              "              \n",
              "                       [[-9.4123e-02, -7.0927e-02, -1.0328e-02],\n",
              "                        [ 1.2995e-01,  1.3638e-01,  4.3005e-02],\n",
              "                        [-1.3247e-01, -2.7837e-04, -1.4248e-01]],\n",
              "              \n",
              "                       [[-1.3575e-01, -3.7498e-02, -1.2102e-01],\n",
              "                        [ 3.9795e-02, -1.1612e-01, -2.9325e-02],\n",
              "                        [ 1.9628e-02, -1.3375e-01, -2.9486e-03]],\n",
              "              \n",
              "                       [[-1.7855e-02,  5.2286e-02,  9.6781e-02],\n",
              "                        [-5.2854e-02, -5.6126e-02,  7.0840e-02],\n",
              "                        [-8.9616e-03, -2.9679e-02,  5.6374e-02]]],\n",
              "              \n",
              "              \n",
              "                      [[[-1.9745e-01, -5.3026e-02,  5.2266e-02],\n",
              "                        [ 1.2006e-01, -4.2756e-02, -2.4419e-02],\n",
              "                        [-2.4994e-02,  2.1066e-02,  6.4992e-02]],\n",
              "              \n",
              "                       [[-6.8314e-02, -4.3074e-01, -5.9645e-02],\n",
              "                        [ 1.6706e-01, -1.6478e-01, -1.8953e-01],\n",
              "                        [-7.3905e-02, -2.0478e-01, -3.6500e-01]],\n",
              "              \n",
              "                       [[-2.9875e-03, -3.6907e-02, -7.4726e-02],\n",
              "                        [-4.7462e-02, -1.0312e-01, -6.5841e-02],\n",
              "                        [-1.1349e-02, -1.0674e-01, -9.6173e-02]],\n",
              "              \n",
              "                       [[ 7.0139e-02,  1.1899e-01, -1.3779e-01],\n",
              "                        [-7.3539e-02,  1.3222e-01, -1.0338e-01],\n",
              "                        [-1.6736e-01, -7.9613e-02, -1.5000e-02]],\n",
              "              \n",
              "                       [[ 6.5469e-02, -2.6054e-01,  9.2087e-02],\n",
              "                        [ 1.3169e-01,  7.5670e-02, -2.0782e-01],\n",
              "                        [ 4.3206e-02,  2.6262e-02, -2.3960e-01]],\n",
              "              \n",
              "                       [[ 1.2346e-01, -9.4917e-02,  1.7863e-02],\n",
              "                        [-7.0787e-02, -1.4293e-02,  1.0138e-01],\n",
              "                        [ 1.2726e-01, -6.1572e-03, -5.5592e-02]],\n",
              "              \n",
              "                       [[-7.5542e-02, -5.2344e-01,  7.9640e-02],\n",
              "                        [-2.5160e-01, -4.1604e-01, -3.3171e-01],\n",
              "                        [ 5.6779e-02,  2.1174e-01, -2.3134e-01]],\n",
              "              \n",
              "                       [[-1.1924e-01, -3.5263e-01, -8.2160e-02],\n",
              "                        [-2.8057e-02, -5.3143e-01,  1.6955e-01],\n",
              "                        [ 4.3023e-01, -1.2852e-01,  7.0156e-02]],\n",
              "              \n",
              "                       [[ 1.5666e-01,  1.2333e-01,  2.0250e-01],\n",
              "                        [ 4.2138e-02,  3.4422e-01,  1.9896e-01],\n",
              "                        [-1.0907e-01,  6.7798e-02,  2.9041e-01]],\n",
              "              \n",
              "                       [[ 7.8981e-02,  7.4492e-02, -1.0136e-01],\n",
              "                        [-1.7305e-02, -1.1230e-01, -8.1786e-03],\n",
              "                        [-1.0954e-01, -3.0772e-02, -8.6438e-02]]],\n",
              "              \n",
              "              \n",
              "                      [[[ 3.3794e-02, -1.6056e-03, -6.2385e-02],\n",
              "                        [ 5.4924e-02,  1.2498e-02, -1.1845e-01],\n",
              "                        [ 9.3825e-02,  3.7553e-02,  3.7130e-02]],\n",
              "              \n",
              "                       [[-2.3796e-01, -2.6499e-01, -6.9674e-02],\n",
              "                        [-3.4903e-01,  4.4252e-02,  1.0252e-02],\n",
              "                        [-1.6727e-01,  2.7869e-01,  2.3405e-01]],\n",
              "              \n",
              "                       [[-6.3213e-02,  6.8960e-02,  6.4962e-02],\n",
              "                        [ 2.3517e-02,  8.1627e-02,  3.8986e-02],\n",
              "                        [ 5.3237e-02, -5.8070e-02,  7.6373e-02]],\n",
              "              \n",
              "                       [[ 2.4048e-02,  5.9708e-02, -1.9622e-02],\n",
              "                        [ 6.5994e-02,  8.6070e-02, -5.8086e-02],\n",
              "                        [ 8.2436e-02, -6.5418e-02, -4.5979e-02]],\n",
              "              \n",
              "                       [[-8.4568e-02,  4.3291e-03, -1.0001e-01],\n",
              "                        [-3.8934e-02, -8.0064e-02, -3.2327e-02],\n",
              "                        [-1.3186e-01, -8.8238e-02, -7.6067e-02]],\n",
              "              \n",
              "                       [[-2.6266e-02, -5.7162e-02,  4.7168e-02],\n",
              "                        [-1.1259e-01, -1.0972e-01, -5.8992e-03],\n",
              "                        [-8.5619e-02,  4.2150e-02, -7.4246e-02]],\n",
              "              \n",
              "                       [[ 2.3150e-01, -1.1687e-01, -2.4404e-01],\n",
              "                        [ 2.1863e-01, -3.5720e-01, -4.9649e-01],\n",
              "                        [ 1.0991e-01, -1.2722e-01, -2.7230e-01]],\n",
              "              \n",
              "                       [[-2.1667e-01,  1.1853e-01,  7.3213e-02],\n",
              "                        [ 1.3460e-01,  9.5584e-02, -4.7475e-02],\n",
              "                        [ 2.6215e-01,  3.7280e-01,  1.7818e-01]],\n",
              "              \n",
              "                       [[ 5.3197e-01, -1.0128e-01, -3.8322e-01],\n",
              "                        [-1.1121e-01, -1.4373e-01, -2.2956e-01],\n",
              "                        [-2.2667e-01, -3.4445e-01, -1.1528e-01]],\n",
              "              \n",
              "                       [[-6.5112e-02, -9.3831e-02, -1.6239e-02],\n",
              "                        [-5.2555e-02, -5.3913e-02,  6.7650e-02],\n",
              "                        [-3.9719e-02, -4.7632e-02,  5.8397e-02]]]])),\n",
              "             ('conv_block_2.2.bias',\n",
              "              tensor([ 0.2090, -0.2309,  0.2111,  0.0626, -0.0748,  0.2196,  0.1247, -0.0889,\n",
              "                       0.0033, -0.1437])),\n",
              "             ('classifier.1.weight',\n",
              "              tensor([[-0.0229, -0.0403,  0.0670,  ...,  0.0078, -0.0116, -0.0265],\n",
              "                      [ 0.0073,  0.1533,  0.2515,  ...,  0.0043,  0.0224,  0.0420],\n",
              "                      [-0.0272,  0.1035,  0.1157,  ...,  0.0386, -0.0269,  0.0608],\n",
              "                      ...,\n",
              "                      [-0.0571, -0.0850, -0.0960,  ...,  0.0215,  0.0009, -0.0172],\n",
              "                      [ 0.1198,  0.2564, -0.0811,  ...,  0.0055,  0.0359, -0.0150],\n",
              "                      [-0.0453, -0.1119, -0.0801,  ..., -0.0145, -0.0409,  0.0257]])),\n",
              "             ('classifier.1.bias',\n",
              "              tensor([ 0.0532, -0.1374,  0.4262, -0.0200, -0.3830, -0.1830,  0.1566, -0.0018,\n",
              "                       0.1573, -0.1049]))])"
            ]
          },
          "metadata": {},
          "execution_count": 67
        }
      ],
      "source": [
        "# create new instance\n",
        "loaded_model = FashionMNISTModelV2(1,10,10)\n",
        "\n",
        "# loading parameters from saved model\n",
        "loaded_model.load_state_dict(torch.load(f=MODEL_SAVE_PATH))\n",
        "\n",
        "loaded_model.state_dict()"
      ]
    },
    {
      "cell_type": "code",
      "execution_count": null,
      "metadata": {
        "colab": {
          "base_uri": "https://localhost:8080/",
          "height": 49,
          "referenced_widgets": [
            "ffed3f968a3a4e2f948c24dd07146554",
            "320bda31aa0147f0bb51ca71fcaa74a0",
            "7758ff280f244656a32fb2eb06202b9f",
            "58a6e52df95941c9ae08bf4961d2a349",
            "56a58863972345fa8cc26149bffc9f8d",
            "f941d57da8bd4a0a964b264c670202de",
            "469e3ded2c8a4194b0fe0bf47cd12637",
            "f8a79f9cf8a4420c883e4c4efe049122",
            "967ab0a5e96e464f84923436ca3fefcc",
            "b443da198e764d48b08a3b470e376d3b",
            "e2afe63194ef46f19c33cb7d7f6f962d"
          ]
        },
        "id": "13VeU-wGA2PN",
        "outputId": "ad9a4ce2-d5d7-41dd-e97d-185b9b50301b"
      },
      "outputs": [
        {
          "output_type": "display_data",
          "data": {
            "text/plain": [
              "  0%|          | 0/313 [00:00<?, ?it/s]"
            ],
            "application/vnd.jupyter.widget-view+json": {
              "version_major": 2,
              "version_minor": 0,
              "model_id": "ffed3f968a3a4e2f948c24dd07146554"
            }
          },
          "metadata": {}
        }
      ],
      "source": [
        "# evaluate the loaded model\n",
        "loaded_model_results = eval_model(model=loaded_model,\n",
        "           loss=loss_fn,\n",
        "           accuracy_fn=accuracy_fn,\n",
        "           dataloader=test_dataloader)"
      ]
    },
    {
      "cell_type": "code",
      "execution_count": null,
      "metadata": {
        "colab": {
          "base_uri": "https://localhost:8080/"
        },
        "id": "PWwOg7xeA2W8",
        "outputId": "adc2c62a-c672-4518-a245-91bf570ce92e"
      },
      "outputs": [
        {
          "output_type": "execute_result",
          "data": {
            "text/plain": [
              "{'model_name': 'FashionMNISTModelV2',\n",
              " 'model_loss': 0.32718968391418457,\n",
              " 'model_acc': 88.06908945686901}"
            ]
          },
          "metadata": {},
          "execution_count": 69
        }
      ],
      "source": [
        "loaded_model_results"
      ]
    },
    {
      "cell_type": "markdown",
      "metadata": {
        "id": "ZSZbH436K9QB"
      },
      "source": [
        "# check if model results are close to each other"
      ]
    },
    {
      "cell_type": "code",
      "execution_count": null,
      "metadata": {
        "colab": {
          "base_uri": "https://localhost:8080/"
        },
        "id": "wL2qPnMwA2et",
        "outputId": "09a7d591-e02c-45fc-ae86-50012b1e395b"
      },
      "outputs": [
        {
          "output_type": "execute_result",
          "data": {
            "text/plain": [
              "tensor(True)"
            ]
          },
          "metadata": {},
          "execution_count": 70
        }
      ],
      "source": [
        "torch.isclose(torch.tensor(model_2_result[\"model_loss\"]),\n",
        "              torch.tensor(loaded_model_results[\"model_loss\"]),\n",
        "              atol=1e-02)"
      ]
    },
    {
      "cell_type": "markdown",
      "metadata": {
        "id": "VL-Vg5VUKDsJ"
      },
      "source": [
        "# EXCERCISES"
      ]
    },
    {
      "cell_type": "markdown",
      "metadata": {
        "id": "6qYSbLoiKCXJ"
      },
      "source": [
        "# areas where computer vision used\n",
        " 1. healthcare ( it analayze xrays , mri and ct scan to detect disease like tumors , cancer )\n",
        " 2. visual search eg google lens where user can upload image and search\n",
        " 3. fasial recognition"
      ]
    },
    {
      "cell_type": "markdown",
      "metadata": {
        "id": "oxNYddSbKCmz"
      },
      "source": [
        "# overfiting in ML\n",
        "means if model learns excessive than requirement then it start learning noise which lead poor performance while testing or on new data"
      ]
    },
    {
      "cell_type": "markdown",
      "metadata": {
        "id": "-O6smxBGgW0V"
      },
      "source": [
        "it can be due to\n",
        "1. simple data but complex model\n",
        "2. too much training time on same data\n",
        "3. data leakage betn training and testing data , etc"
      ]
    },
    {
      "cell_type": "markdown",
      "metadata": {
        "id": "ZiDAPc3KKCuj"
      },
      "source": [
        "**ways to detect overfiting is below**"
      ]
    },
    {
      "cell_type": "markdown",
      "metadata": {
        "id": "ls14D5iCKCe-"
      },
      "source": [
        "# K fold cross validation\n",
        "1. **Divide the Data**: The entire dataset is randomly divided into 𝑘 equal-sized subsets, or \"folds.\"\n",
        "\n",
        "2.**Training and Testing**:\n",
        "For each iteration (or fold):\n",
        "Use k−1 folds as the training data.\n",
        "Use the remaining fold as the testing (validation) data.\n",
        "3. **Repeat**:\n",
        " This process is repeated k times, each time using a different fold as the testing data.\n",
        "\n",
        "4.**Aggregate Results**:\n",
        " After completing all k folds, you take the average of the performance metrics from all the testing phases. This average gives you a more robust estimate of the model's performance on unseen data."
      ]
    },
    {
      "cell_type": "markdown",
      "metadata": {
        "id": "5bqeT5b-gyFM"
      },
      "source": [
        "how can we prevent\n",
        "1. using early stopping lib where it pauses the model early before it start learning noise\n",
        "2. features selection or pruning :- it keeps imp features and eliminate the less imp or unwanted features\n",
        "3. regularization :- this simply give less penalty to imp features and more penalty to less imp features , etc"
      ]
    },
    {
      "cell_type": "code",
      "execution_count": null,
      "metadata": {
        "colab": {
          "base_uri": "https://localhost:8080/"
        },
        "id": "M8Bd9TWlicx-",
        "outputId": "7eb4d38e-9ed4-49d3-f0b8-60c717516d2d"
      },
      "outputs": [
        {
          "output_type": "stream",
          "name": "stdout",
          "text": [
            "Downloading http://fashion-mnist.s3-website.eu-central-1.amazonaws.com/train-images-idx3-ubyte.gz\n",
            "Downloading http://fashion-mnist.s3-website.eu-central-1.amazonaws.com/train-images-idx3-ubyte.gz to datas/FashionMNIST/raw/train-images-idx3-ubyte.gz\n"
          ]
        },
        {
          "output_type": "stream",
          "name": "stderr",
          "text": [
            "100%|██████████| 26.4M/26.4M [00:02<00:00, 13.2MB/s]\n"
          ]
        },
        {
          "output_type": "stream",
          "name": "stdout",
          "text": [
            "Extracting datas/FashionMNIST/raw/train-images-idx3-ubyte.gz to datas/FashionMNIST/raw\n",
            "\n",
            "Downloading http://fashion-mnist.s3-website.eu-central-1.amazonaws.com/train-labels-idx1-ubyte.gz\n",
            "Downloading http://fashion-mnist.s3-website.eu-central-1.amazonaws.com/train-labels-idx1-ubyte.gz to datas/FashionMNIST/raw/train-labels-idx1-ubyte.gz\n"
          ]
        },
        {
          "output_type": "stream",
          "name": "stderr",
          "text": [
            "100%|██████████| 29.5k/29.5k [00:00<00:00, 227kB/s]\n"
          ]
        },
        {
          "output_type": "stream",
          "name": "stdout",
          "text": [
            "Extracting datas/FashionMNIST/raw/train-labels-idx1-ubyte.gz to datas/FashionMNIST/raw\n",
            "\n",
            "Downloading http://fashion-mnist.s3-website.eu-central-1.amazonaws.com/t10k-images-idx3-ubyte.gz\n",
            "Downloading http://fashion-mnist.s3-website.eu-central-1.amazonaws.com/t10k-images-idx3-ubyte.gz to datas/FashionMNIST/raw/t10k-images-idx3-ubyte.gz\n"
          ]
        },
        {
          "output_type": "stream",
          "name": "stderr",
          "text": [
            "100%|██████████| 4.42M/4.42M [00:01<00:00, 3.82MB/s]\n"
          ]
        },
        {
          "output_type": "stream",
          "name": "stdout",
          "text": [
            "Extracting datas/FashionMNIST/raw/t10k-images-idx3-ubyte.gz to datas/FashionMNIST/raw\n",
            "\n",
            "Downloading http://fashion-mnist.s3-website.eu-central-1.amazonaws.com/t10k-labels-idx1-ubyte.gz\n",
            "Downloading http://fashion-mnist.s3-website.eu-central-1.amazonaws.com/t10k-labels-idx1-ubyte.gz to datas/FashionMNIST/raw/t10k-labels-idx1-ubyte.gz\n"
          ]
        },
        {
          "output_type": "stream",
          "name": "stderr",
          "text": [
            "100%|██████████| 5.15k/5.15k [00:00<00:00, 13.4MB/s]"
          ]
        },
        {
          "output_type": "stream",
          "name": "stdout",
          "text": [
            "Extracting datas/FashionMNIST/raw/t10k-labels-idx1-ubyte.gz to datas/FashionMNIST/raw\n",
            "\n"
          ]
        },
        {
          "output_type": "stream",
          "name": "stderr",
          "text": [
            "\n"
          ]
        }
      ],
      "source": [
        "from torchvision.datasets import FashionMNIST\n",
        "from torchvision.transforms import ToTensor\n",
        "from torch.utils.data import DataLoader\n",
        "train_data = FashionMNIST(root=\"datas\" , train=True,\n",
        "                          transform=ToTensor(),\n",
        "                          target_transform=None,\n",
        "                          download=True)\n",
        "test_data = FashionMNIST(root=\"datas\" , train=False,\n",
        "                          transform=ToTensor(),\n",
        "                          target_transform=None,\n",
        "                          download=True)\n"
      ]
    },
    {
      "cell_type": "code",
      "execution_count": null,
      "metadata": {
        "colab": {
          "base_uri": "https://localhost:8080/"
        },
        "id": "SfUc9qgeic-W",
        "outputId": "cceced65-9607-4b84-ba43-d5cf142493e0"
      },
      "outputs": [
        {
          "output_type": "execute_result",
          "data": {
            "text/plain": [
              "(60000, 10000)"
            ]
          },
          "metadata": {},
          "execution_count": 72
        }
      ],
      "source": [
        "len(train_data),len(test_data)"
      ]
    },
    {
      "cell_type": "code",
      "execution_count": null,
      "metadata": {
        "colab": {
          "base_uri": "https://localhost:8080/",
          "height": 663
        },
        "id": "tsQ5LxSvidJ6",
        "outputId": "f1609546-a2d7-4bc4-8c22-b21a43eaf015"
      },
      "outputs": [
        {
          "output_type": "display_data",
          "data": {
            "text/plain": [
              "<Figure size 900x900 with 9 Axes>"
            ],
            "image/png": "[encoded data removed]"
          },
          "metadata": {}
        }
      ],
      "source": [
        "torch.manual_seed(42)\n",
        "plt.figure(figsize=(9,9))\n",
        "nrows , ncolumns = 3,3\n",
        "for i in range(1,nrows*ncolumns+1):\n",
        "  image , label = train_data[i]\n",
        "  plt.subplot(nrows,ncolumns,i)\n",
        "  plt.imshow(image.squeeze(),cmap=\"gray\")\n",
        "  plt.title(class_names[label])\n",
        "  plt.axis(False)"
      ]
    },
    {
      "cell_type": "code",
      "execution_count": null,
      "metadata": {
        "colab": {
          "base_uri": "https://localhost:8080/"
        },
        "id": "4QOEv1YoidVm",
        "outputId": "c6f7958a-21f4-40fe-fedf-fa1cbb1d22cf"
      },
      "outputs": [
        {
          "output_type": "stream",
          "name": "stdout",
          "text": [
            "torch.Size([32, 1, 28, 28])\n",
            "torch.Size([32])\n"
          ]
        }
      ],
      "source": [
        "train_loaders = DataLoader(dataset=train_data,\n",
        "                           batch_size=32,\n",
        "                           shuffle=True)\n",
        "test_loaders = DataLoader(dataset=test_data,\n",
        "                           batch_size=32,\n",
        "                           shuffle=False)\n",
        "len(train_loaders),len(test_loaders)\n",
        "for image , label in train_loaders:\n",
        "  print(image.shape)\n",
        "  print(label.shape)\n",
        "  break"
      ]
    },
    {
      "cell_type": "code",
      "execution_count": null,
      "metadata": {
        "id": "V2pSpo-Gidfw",
        "colab": {
          "base_uri": "https://localhost:8080/"
        },
        "outputId": "9fe3ba84-74a4-47c1-cf39-8a4cbcfe1765"
      },
      "outputs": [
        {
          "output_type": "execute_result",
          "data": {
            "text/plain": [
              "FashionMNISTModelV3(\n",
              "  (conv_block_1): Sequential(\n",
              "    (0): Conv2d(1, 10, kernel_size=(3, 3), stride=(1, 1))\n",
              "    (1): ReLU()\n",
              "    (2): Conv2d(10, 10, kernel_size=(3, 3), stride=(1, 1))\n",
              "    (3): ReLU()\n",
              "    (4): MaxPool2d(kernel_size=2, stride=2, padding=0, dilation=1, ceil_mode=False)\n",
              "  )\n",
              "  (conv_block_2): Sequential(\n",
              "    (0): Conv2d(10, 10, kernel_size=(3, 3), stride=(1, 1))\n",
              "    (1): ReLU()\n",
              "    (2): Conv2d(10, 10, kernel_size=(3, 3), stride=(1, 1))\n",
              "    (3): ReLU()\n",
              "    (4): MaxPool2d(kernel_size=2, stride=2, padding=0, dilation=1, ceil_mode=False)\n",
              "  )\n",
              "  (classifier): Sequential(\n",
              "    (0): Flatten(start_dim=1, end_dim=-1)\n",
              "    (1): Linear(in_features=160, out_features=10, bias=True)\n",
              "  )\n",
              ")"
            ]
          },
          "metadata": {},
          "execution_count": 75
        }
      ],
      "source": [
        "class FashionMNISTModelV3(nn.Module):\n",
        "  def __init__(self,\n",
        "               input_features:int,\n",
        "               output_features:int,\n",
        "               hidden_units:int):\n",
        "    super().__init__()\n",
        "    self.conv_block_1 = nn.Sequential(\n",
        "        nn.Conv2d(in_channels=input_features,\n",
        "                  out_channels=hidden_units,\n",
        "                  kernel_size=3,\n",
        "                  stride=1,\n",
        "                  padding=0),\n",
        "        nn.ReLU(),\n",
        "        nn.Conv2d(in_channels=hidden_units,\n",
        "                  out_channels=hidden_units,\n",
        "                  kernel_size=3,\n",
        "                  stride=1,\n",
        "                  padding=0),\n",
        "        nn.ReLU(),\n",
        "        nn.MaxPool2d(kernel_size=2)\n",
        "      )\n",
        "    self.conv_block_2 = nn.Sequential(\n",
        "        nn.Conv2d(in_channels=hidden_units,\n",
        "                  out_channels=hidden_units,\n",
        "                  kernel_size=3,\n",
        "                  stride=1,\n",
        "                  padding=0),\n",
        "        nn.ReLU(),\n",
        "        nn.Conv2d(in_channels=hidden_units,\n",
        "                  out_channels=hidden_units,\n",
        "                  kernel_size=3,\n",
        "                  stride=1,\n",
        "                  padding=0),\n",
        "        nn.ReLU(),\n",
        "        nn.MaxPool2d(kernel_size=2)\n",
        "      )\n",
        "    self.classifier = nn.Sequential(\n",
        "        nn.Flatten(),\n",
        "        nn.Linear(in_features=hidden_units*4*4,\n",
        "                  out_features=output_features)\n",
        "      )\n",
        "  def forward(self,x):\n",
        "    z = self.conv_block_1(x)\n",
        "    z = self.conv_block_2(z)\n",
        "    z = self.classifier(z)\n",
        "    return z\n",
        "model_3 = FashionMNISTModelV3(input_features=1,\n",
        "                              output_features=10,\n",
        "                              hidden_units=10)\n",
        "model_3\n"
      ]
    },
    {
      "cell_type": "code",
      "execution_count": null,
      "metadata": {
        "colab": {
          "base_uri": "https://localhost:8080/"
        },
        "id": "5LlRj7Tlidq9",
        "outputId": "b2ed210a-d49a-463e-ca3f-92d4ccc0ed82"
      },
      "outputs": [
        {
          "output_type": "stream",
          "name": "stdout",
          "text": [
            "torch.Size([32, 1, 28, 28])\n"
          ]
        }
      ],
      "source": [
        "for img , labels in train_loaders:\n",
        "  print(img.shape)\n",
        "  break\n"
      ]
    },
    {
      "cell_type": "code",
      "execution_count": null,
      "metadata": {
        "id": "KWPBPyHFid57"
      },
      "outputs": [],
      "source": [
        "# torch.manual_seed(42)\n",
        "# X_dumy = torch.rand(size=(32,1,28,28))\n",
        "# model_3 = FashionMNISTModelV3(input_features=1,\n",
        "#                               output_features=10,\n",
        "#                               hidden_units=10)\n",
        "# model_3_results = model_3(X_dumy)\n",
        "# model_3_results[0]"
      ]
    },
    {
      "cell_type": "code",
      "execution_count": null,
      "metadata": {
        "id": "oM8syukHsfKH"
      },
      "outputs": [],
      "source": [
        "loss_fn = nn.CrossEntropyLoss()\n",
        "optimizer = torch.optim.SGD(params=model_3.parameters(),lr=0.1)"
      ]
    },
    {
      "cell_type": "code",
      "execution_count": null,
      "metadata": {
        "colab": {
          "base_uri": "https://localhost:8080/",
          "height": 424,
          "referenced_widgets": [
            "03b9a730c5b14796af184b1e000065ef",
            "53d44402a01b4c3c84794f3221fa938c",
            "a19f2465757742a0bdc5efeff126b11c",
            "5d9d96a1dc13420189bc186396475abf",
            "45721bd8f4e24f8492c04892666788aa",
            "4121c31d38c54e74b0018966918125fc",
            "cf6c73fe937d4dfba8b1ffc50ee608e1",
            "922c660d8bb64a70bed55dc373cd3a1b",
            "4ffbaceafb5d4f49a0700720a8588301",
            "5d35b957c5e442679aed6b2487d4ed44",
            "f9b6baa9c85a43c7968d5ead41eaaf11"
          ]
        },
        "id": "Xb0q51NQq8Bz",
        "outputId": "aaf06f45-e9d5-4115-9b1b-7713e26c4588"
      },
      "outputs": [
        {
          "output_type": "display_data",
          "data": {
            "text/plain": [
              "  0%|          | 0/5 [00:00<?, ?it/s]"
            ],
            "application/vnd.jupyter.widget-view+json": {
              "version_major": 2,
              "version_minor": 0,
              "model_id": "03b9a730c5b14796af184b1e000065ef"
            }
          },
          "metadata": {}
        },
        {
          "output_type": "stream",
          "name": "stdout",
          "text": [
            "Epoch: 0\n",
            "---------\n",
            "train loss:  0.8041 | train acc:  70.48%\n",
            "test loss: 0.4999 | test acc: 82.14%\n",
            "Epoch: 1\n",
            "---------\n",
            "train loss:  0.4365 | train acc:  84.21%\n",
            "test loss: 0.4038 | test acc: 85.21%\n",
            "Epoch: 2\n",
            "---------\n",
            "train loss:  0.3856 | train acc:  85.89%\n",
            "test loss: 0.3762 | test acc: 86.78%\n",
            "Epoch: 3\n",
            "---------\n",
            "train loss:  0.3633 | train acc:  86.69%\n",
            "test loss: 0.3600 | test acc: 86.87%\n",
            "Epoch: 4\n",
            "---------\n",
            "train loss:  0.3473 | train acc:  87.23%\n",
            "test loss: 0.3813 | test acc: 85.96%\n",
            "Train time:  235.055\n"
          ]
        }
      ],
      "source": [
        "from timeit import default_timer as timer\n",
        "from tqdm.auto import tqdm\n",
        "torch.manual_seed(42)\n",
        "torch.cuda.manual_seed(42) # only when we working on cuda device\n",
        "start_time = timer()\n",
        "epochs = 5\n",
        "for epoch in tqdm(range(epochs)):\n",
        "  print(f\"Epoch: {epoch}\\n---------\")\n",
        "  train_loss ,train_acc = 0,0\n",
        "  model_3.train()\n",
        "  for img,label in train_loaders:\n",
        "    y_pred = model_3(img)\n",
        "    loss = loss_fn(y_pred,label)\n",
        "    acc = accuracy_fn(label,y_pred.argmax(dim=1))\n",
        "    train_loss += loss\n",
        "    train_acc += acc\n",
        "    optimizer.zero_grad()\n",
        "    loss.backward()\n",
        "    optimizer.step()\n",
        "  train_loss /= len(train_loaders)\n",
        "  train_acc /= len(train_loaders)\n",
        "  print(f\"train loss: {train_loss: .4f} | train acc: {train_acc: .2f}%\")\n",
        "  model_3.eval()\n",
        "  test_loss , test_acc = 0,0\n",
        "  with torch.inference_mode():\n",
        "    for image , label in test_loaders:\n",
        "      y_pred = model_3(image)\n",
        "      loss = loss_fn(y_pred,label)\n",
        "      acc = accuracy_fn(label,y_pred.argmax(dim=1))\n",
        "      test_loss += loss\n",
        "      test_acc += acc\n",
        "    test_loss /= len(test_loaders)\n",
        "    test_acc /= len(test_loaders)\n",
        "    print(f\"test loss: {test_loss:.4f} | test acc: {test_acc:.2f}%\")\n",
        "end_time = timer()\n",
        "total_time = print_train_time(start=start_time,end=end_time)\n"
      ]
    },
    {
      "cell_type": "code",
      "source": [
        "model_3_results = eval_model(model=model_3,\n",
        "                             loss=loss_fn,\n",
        "                             accuracy_fn=accuracy_fn,\n",
        "                             dataloader=test_loaders)\n",
        "model_3_results , model_2_result"
      ],
      "metadata": {
        "colab": {
          "base_uri": "https://localhost:8080/",
          "height": 156,
          "referenced_widgets": [
            "52f03d323335486bb666c8bfbc4cbd7e",
            "887e03cf926d4c029d435782074f19b3",
            "b9fcc2a05c1c401ab886bf32a407bbcb",
            "afa7d6e83135436baac6cdda525389db",
            "003c105be83f4b1fa6b2666ec5796f16",
            "e36f33bbbc9b419189027c73d1b1df7a",
            "9fe0f981cfe34293bbc71e6d4763aa87",
            "33277565428746cdb7ffa78663c9f268",
            "b8a321e83ffb4170af16e3d115aea9c0",
            "2cba83da271c47b68c6c4c4b6753b268",
            "94b457b053984172af0194884dc5f5d9"
          ]
        },
        "id": "dqLNfSgeQ3jH",
        "outputId": "3206d314-ecbb-4252-dc16-df9e65e2fea7"
      },
      "execution_count": null,
      "outputs": [
        {
          "output_type": "display_data",
          "data": {
            "text/plain": [
              "  0%|          | 0/313 [00:00<?, ?it/s]"
            ],
            "application/vnd.jupyter.widget-view+json": {
              "version_major": 2,
              "version_minor": 0,
              "model_id": "52f03d323335486bb666c8bfbc4cbd7e"
            }
          },
          "metadata": {}
        },
        {
          "output_type": "execute_result",
          "data": {
            "text/plain": [
              "({'model_name': 'FashionMNISTModelV3',\n",
              "  'model_loss': 0.38133519887924194,\n",
              "  'model_acc': 85.96246006389777},\n",
              " {'model_name': 'FashionMNISTModelV2',\n",
              "  'model_loss': 0.32718968391418457,\n",
              "  'model_acc': 88.06908945686901})"
            ]
          },
          "metadata": {},
          "execution_count": 80
        }
      ]
    },
    {
      "cell_type": "markdown",
      "source": [
        "for confusion matirx\n",
        "1. make predictions with trained model\n",
        "2. set a confusion matrix ( `torchmetrics.ConfusionMatrix` )\n",
        "3. plot a connfusion matrix ( `mlxtend.plotting.plot_confusion_matrix`)"
      ],
      "metadata": {
        "id": "1tUT92cKRr0J"
      }
    },
    {
      "cell_type": "code",
      "source": [
        "class_names = test_data.classes\n",
        "class_names"
      ],
      "metadata": {
        "colab": {
          "base_uri": "https://localhost:8080/"
        },
        "id": "ODjce-H2WNqw",
        "outputId": "9f768786-6e1e-4130-a405-c58af88e8bd7"
      },
      "execution_count": null,
      "outputs": [
        {
          "output_type": "execute_result",
          "data": {
            "text/plain": [
              "['T-shirt/top',\n",
              " 'Trouser',\n",
              " 'Pullover',\n",
              " 'Dress',\n",
              " 'Coat',\n",
              " 'Sandal',\n",
              " 'Shirt',\n",
              " 'Sneaker',\n",
              " 'Bag',\n",
              " 'Ankle boot']"
            ]
          },
          "metadata": {},
          "execution_count": 81
        }
      ]
    },
    {
      "cell_type": "code",
      "source": [
        "# 1. making predictions\n",
        "y_preds =[]\n",
        "torch.manual_seed(42)\n",
        "model_3.eval()\n",
        "with torch.inference_mode():\n",
        "  for img,label in tqdm(test_loaders,desc=\"making predictions...\"):\n",
        "    y_pred = model_3(img)\n",
        "    y_logist = y_pred.argmax(dim=1)\n",
        "    y_preds.append(y_logist)\n",
        "  y_preds_tensor = torch.cat(y_preds)\n"
      ],
      "metadata": {
        "id": "PYeFmh0hUJSh",
        "colab": {
          "base_uri": "https://localhost:8080/",
          "height": 49,
          "referenced_widgets": [
            "b783193e38964b46adfe0524885b06f7",
            "d569e132fa614bacad52df10682ceb25",
            "e0cdd1d094d047e3b03cc7c71d08eb1b",
            "def6dc15ff7745e2a6451c4c96985734",
            "282ae4eeb8ab4179b2fe23e3568c81b7",
            "f4cd8df43fbb4f4f86e356fea6c61d7f",
            "b3193030de414bf1883aca5a001b42b1",
            "a4b5e28d499b4ad2a41ecef964917e3e",
            "154c6ac926754417a97945542070267d",
            "38fa378fc4bc4d8f9b5681618f8a70cf",
            "9734b5e372734baabe00c3d9b05dbad6"
          ]
        },
        "outputId": "c5bb4e21-7fca-4c4a-cee0-d859e4def336"
      },
      "execution_count": null,
      "outputs": [
        {
          "output_type": "display_data",
          "data": {
            "text/plain": [
              "making predictions...:   0%|          | 0/313 [00:00<?, ?it/s]"
            ],
            "application/vnd.jupyter.widget-view+json": {
              "version_major": 2,
              "version_minor": 0,
              "model_id": "b783193e38964b46adfe0524885b06f7"
            }
          },
          "metadata": {}
        }
      ]
    },
    {
      "cell_type": "code",
      "source": [
        "from torchmetrics import ConfusionMatrix\n",
        "from mlxtend.plotting import plot_confusion_matrix\n",
        "\n",
        "# 2. setting up confusion matrix\n",
        "confmat  = ConfusionMatrix(num_classes=len(class_names),\n",
        "                           task=\"multiclass\")\n",
        "confmat_tensor = confmat(preds=y_preds_tensor,\n",
        "                         target=test_data.targets)"
      ],
      "metadata": {
        "id": "A8sVxg3LUJza"
      },
      "execution_count": null,
      "outputs": []
    },
    {
      "cell_type": "code",
      "source": [
        "# 3. plotting confusion matirx\n",
        "fig , ax = plot_confusion_matrix(conf_mat=confmat_tensor.numpy(),\n",
        "                                 figsize=(10,7),\n",
        "                                 class_names=class_names)"
      ],
      "metadata": {
        "colab": {
          "base_uri": "https://localhost:8080/",
          "height": 635
        },
        "id": "Ijv6lg6FUJ73",
        "outputId": "173d17f6-4d20-46b1-d085-540e23d5ab32"
      },
      "execution_count": null,
      "outputs": [
        {
          "output_type": "display_data",
          "data": {
            "text/plain": [
              "<Figure size 1000x700 with 1 Axes>"
            ],
            "image/png": "[encoded data removed]"
          },
          "metadata": {}
        }
      ]
    },
    {
      "cell_type": "code",
      "source": [
        "x = torch.rand(size=(1,3,64,64))\n",
        "conv_layer = nn.Conv2d(3,10,3,1,0)\n",
        "conv_layer(x).shape"
      ],
      "metadata": {
        "colab": {
          "base_uri": "https://localhost:8080/"
        },
        "id": "-YAm0POdUKPZ",
        "outputId": "e7554d91-ceae-424d-9478-e67ff3eac92c"
      },
      "execution_count": null,
      "outputs": [
        {
          "output_type": "execute_result",
          "data": {
            "text/plain": [
              "torch.Size([1, 10, 62, 62])"
            ]
          },
          "metadata": {},
          "execution_count": 85
        }
      ]
    }
  ],
  "metadata": {
    "colab": {
      "provenance": []
    },
    "kernelspec": {
      "display_name": "Python 3",
      "name": "python3"
    },
    "language_info": {
      "name": "python"
    },
    "widgets": {
      "application/vnd.jupyter.widget-state+json": {
        "e203d16903334483b1de72c7a4e05a6f": {
          "model_module": "@jupyter-widgets/controls",
          "model_name": "HBoxModel",
          "model_module_version": "1.5.0",
          "state": {
            "_dom_classes": [],
            "_model_module": "@jupyter-widgets/controls",
            "_model_module_version": "1.5.0",
            "_model_name": "HBoxModel",
            "_view_count": null,
            "_view_module": "@jupyter-widgets/controls",
            "_view_module_version": "1.5.0",
            "_view_name": "HBoxView",
            "box_style": "",
            "children": [
              "IPY_MODEL_3982e5b419014bb08306afb66f2fc013",
              "IPY_MODEL_457d36258f834d94bf3e4051122e4dca",
              "IPY_MODEL_53542a0417434ecc9046bc1a92711487"
            ],
            "layout": "IPY_MODEL_1f8d8ec504d64920872cfd8e0fb536c6"
          }
        },
        "3982e5b419014bb08306afb66f2fc013": {
          "model_module": "@jupyter-widgets/controls",
          "model_name": "HTMLModel",
          "model_module_version": "1.5.0",
          "state": {
            "_dom_classes": [],
            "_model_module": "@jupyter-widgets/controls",
            "_model_module_version": "1.5.0",
            "_model_name": "HTMLModel",
            "_view_count": null,
            "_view_module": "@jupyter-widgets/controls",
            "_view_module_version": "1.5.0",
            "_view_name": "HTMLView",
            "description": "",
            "description_tooltip": null,
            "layout": "IPY_MODEL_6f0cda5ef712482390471d10036df5e4",
            "placeholder": "​",
            "style": "IPY_MODEL_20f244b1844f4f22badd7701cb8f648f",
            "value": "100%"
          }
        },
        "457d36258f834d94bf3e4051122e4dca": {
          "model_module": "@jupyter-widgets/controls",
          "model_name": "FloatProgressModel",
          "model_module_version": "1.5.0",
          "state": {
            "_dom_classes": [],
            "_model_module": "@jupyter-widgets/controls",
            "_model_module_version": "1.5.0",
            "_model_name": "FloatProgressModel",
            "_view_count": null,
            "_view_module": "@jupyter-widgets/controls",
            "_view_module_version": "1.5.0",
            "_view_name": "ProgressView",
            "bar_style": "success",
            "description": "",
            "description_tooltip": null,
            "layout": "IPY_MODEL_29162bc5a8074aab9f2a0df8c53556fd",
            "max": 3,
            "min": 0,
            "orientation": "horizontal",
            "style": "IPY_MODEL_fa50925f68db42febef4f131b50a45e9",
            "value": 3
          }
        },
        "53542a0417434ecc9046bc1a92711487": {
          "model_module": "@jupyter-widgets/controls",
          "model_name": "HTMLModel",
          "model_module_version": "1.5.0",
          "state": {
            "_dom_classes": [],
            "_model_module": "@jupyter-widgets/controls",
            "_model_module_version": "1.5.0",
            "_model_name": "HTMLModel",
            "_view_count": null,
            "_view_module": "@jupyter-widgets/controls",
            "_view_module_version": "1.5.0",
            "_view_name": "HTMLView",
            "description": "",
            "description_tooltip": null,
            "layout": "IPY_MODEL_656a1686bc664390ab4795b1114afa76",
            "placeholder": "​",
            "style": "IPY_MODEL_acdf12c13bf843ac81d7b257d2b3f2a1",
            "value": " 3/3 [00:43&lt;00:00, 13.66s/it]"
          }
        },
        "1f8d8ec504d64920872cfd8e0fb536c6": {
          "model_module": "@jupyter-widgets/base",
          "model_name": "LayoutModel",
          "model_module_version": "1.2.0",
          "state": {
            "_model_module": "@jupyter-widgets/base",
            "_model_module_version": "1.2.0",
            "_model_name": "LayoutModel",
            "_view_count": null,
            "_view_module": "@jupyter-widgets/base",
            "_view_module_version": "1.2.0",
            "_view_name": "LayoutView",
            "align_content": null,
            "align_items": null,
            "align_self": null,
            "border": null,
            "bottom": null,
            "display": null,
            "flex": null,
            "flex_flow": null,
            "grid_area": null,
            "grid_auto_columns": null,
            "grid_auto_flow": null,
            "grid_auto_rows": null,
            "grid_column": null,
            "grid_gap": null,
            "grid_row": null,
            "grid_template_areas": null,
            "grid_template_columns": null,
            "grid_template_rows": null,
            "height": null,
            "justify_content": null,
            "justify_items": null,
            "left": null,
            "margin": null,
            "max_height": null,
            "max_width": null,
            "min_height": null,
            "min_width": null,
            "object_fit": null,
            "object_position": null,
            "order": null,
            "overflow": null,
            "overflow_x": null,
            "overflow_y": null,
            "padding": null,
            "right": null,
            "top": null,
            "visibility": null,
            "width": null
          }
        },
        "6f0cda5ef712482390471d10036df5e4": {
          "model_module": "@jupyter-widgets/base",
          "model_name": "LayoutModel",
          "model_module_version": "1.2.0",
          "state": {
            "_model_module": "@jupyter-widgets/base",
            "_model_module_version": "1.2.0",
            "_model_name": "LayoutModel",
            "_view_count": null,
            "_view_module": "@jupyter-widgets/base",
            "_view_module_version": "1.2.0",
            "_view_name": "LayoutView",
            "align_content": null,
            "align_items": null,
            "align_self": null,
            "border": null,
            "bottom": null,
            "display": null,
            "flex": null,
            "flex_flow": null,
            "grid_area": null,
            "grid_auto_columns": null,
            "grid_auto_flow": null,
            "grid_auto_rows": null,
            "grid_column": null,
            "grid_gap": null,
            "grid_row": null,
            "grid_template_areas": null,
            "grid_template_columns": null,
            "grid_template_rows": null,
            "height": null,
            "justify_content": null,
            "justify_items": null,
            "left": null,
            "margin": null,
            "max_height": null,
            "max_width": null,
            "min_height": null,
            "min_width": null,
            "object_fit": null,
            "object_position": null,
            "order": null,
            "overflow": null,
            "overflow_x": null,
            "overflow_y": null,
            "padding": null,
            "right": null,
            "top": null,
            "visibility": null,
            "width": null
          }
        },
        "20f244b1844f4f22badd7701cb8f648f": {
          "model_module": "@jupyter-widgets/controls",
          "model_name": "DescriptionStyleModel",
          "model_module_version": "1.5.0",
          "state": {
            "_model_module": "@jupyter-widgets/controls",
            "_model_module_version": "1.5.0",
            "_model_name": "DescriptionStyleModel",
            "_view_count": null,
            "_view_module": "@jupyter-widgets/base",
            "_view_module_version": "1.2.0",
            "_view_name": "StyleView",
            "description_width": ""
          }
        },
        "29162bc5a8074aab9f2a0df8c53556fd": {
          "model_module": "@jupyter-widgets/base",
          "model_name": "LayoutModel",
          "model_module_version": "1.2.0",
          "state": {
            "_model_module": "@jupyter-widgets/base",
            "_model_module_version": "1.2.0",
            "_model_name": "LayoutModel",
            "_view_count": null,
            "_view_module": "@jupyter-widgets/base",
            "_view_module_version": "1.2.0",
            "_view_name": "LayoutView",
            "align_content": null,
            "align_items": null,
            "align_self": null,
            "border": null,
            "bottom": null,
            "display": null,
            "flex": null,
            "flex_flow": null,
            "grid_area": null,
            "grid_auto_columns": null,
            "grid_auto_flow": null,
            "grid_auto_rows": null,
            "grid_column": null,
            "grid_gap": null,
            "grid_row": null,
            "grid_template_areas": null,
            "grid_template_columns": null,
            "grid_template_rows": null,
            "height": null,
            "justify_content": null,
            "justify_items": null,
            "left": null,
            "margin": null,
            "max_height": null,
            "max_width": null,
            "min_height": null,
            "min_width": null,
            "object_fit": null,
            "object_position": null,
            "order": null,
            "overflow": null,
            "overflow_x": null,
            "overflow_y": null,
            "padding": null,
            "right": null,
            "top": null,
            "visibility": null,
            "width": null
          }
        },
        "fa50925f68db42febef4f131b50a45e9": {
          "model_module": "@jupyter-widgets/controls",
          "model_name": "ProgressStyleModel",
          "model_module_version": "1.5.0",
          "state": {
            "_model_module": "@jupyter-widgets/controls",
            "_model_module_version": "1.5.0",
            "_model_name": "ProgressStyleModel",
            "_view_count": null,
            "_view_module": "@jupyter-widgets/base",
            "_view_module_version": "1.2.0",
            "_view_name": "StyleView",
            "bar_color": null,
            "description_width": ""
          }
        },
        "656a1686bc664390ab4795b1114afa76": {
          "model_module": "@jupyter-widgets/base",
          "model_name": "LayoutModel",
          "model_module_version": "1.2.0",
          "state": {
            "_model_module": "@jupyter-widgets/base",
            "_model_module_version": "1.2.0",
            "_model_name": "LayoutModel",
            "_view_count": null,
            "_view_module": "@jupyter-widgets/base",
            "_view_module_version": "1.2.0",
            "_view_name": "LayoutView",
            "align_content": null,
            "align_items": null,
            "align_self": null,
            "border": null,
            "bottom": null,
            "display": null,
            "flex": null,
            "flex_flow": null,
            "grid_area": null,
            "grid_auto_columns": null,
            "grid_auto_flow": null,
            "grid_auto_rows": null,
            "grid_column": null,
            "grid_gap": null,
            "grid_row": null,
            "grid_template_areas": null,
            "grid_template_columns": null,
            "grid_template_rows": null,
            "height": null,
            "justify_content": null,
            "justify_items": null,
            "left": null,
            "margin": null,
            "max_height": null,
            "max_width": null,
            "min_height": null,
            "min_width": null,
            "object_fit": null,
            "object_position": null,
            "order": null,
            "overflow": null,
            "overflow_x": null,
            "overflow_y": null,
            "padding": null,
            "right": null,
            "top": null,
            "visibility": null,
            "width": null
          }
        },
        "acdf12c13bf843ac81d7b257d2b3f2a1": {
          "model_module": "@jupyter-widgets/controls",
          "model_name": "DescriptionStyleModel",
          "model_module_version": "1.5.0",
          "state": {
            "_model_module": "@jupyter-widgets/controls",
            "_model_module_version": "1.5.0",
            "_model_name": "DescriptionStyleModel",
            "_view_count": null,
            "_view_module": "@jupyter-widgets/base",
            "_view_module_version": "1.2.0",
            "_view_name": "StyleView",
            "description_width": ""
          }
        },
        "38b73fca09e1411caa39641124595bb5": {
          "model_module": "@jupyter-widgets/controls",
          "model_name": "HBoxModel",
          "model_module_version": "1.5.0",
          "state": {
            "_dom_classes": [],
            "_model_module": "@jupyter-widgets/controls",
            "_model_module_version": "1.5.0",
            "_model_name": "HBoxModel",
            "_view_count": null,
            "_view_module": "@jupyter-widgets/controls",
            "_view_module_version": "1.5.0",
            "_view_name": "HBoxView",
            "box_style": "",
            "children": [
              "IPY_MODEL_4c9a3c5b013a49f4af30f1b5e2e4e15d",
              "IPY_MODEL_82475f13c47547ac9a43959ecbe4ed79",
              "IPY_MODEL_161fe76b7ba04091988c260b6bfea2e7"
            ],
            "layout": "IPY_MODEL_095720e7fca744148f5d302f0992a391"
          }
        },
        "4c9a3c5b013a49f4af30f1b5e2e4e15d": {
          "model_module": "@jupyter-widgets/controls",
          "model_name": "HTMLModel",
          "model_module_version": "1.5.0",
          "state": {
            "_dom_classes": [],
            "_model_module": "@jupyter-widgets/controls",
            "_model_module_version": "1.5.0",
            "_model_name": "HTMLModel",
            "_view_count": null,
            "_view_module": "@jupyter-widgets/controls",
            "_view_module_version": "1.5.0",
            "_view_name": "HTMLView",
            "description": "",
            "description_tooltip": null,
            "layout": "IPY_MODEL_8cdd63d6b79f472c8da1f07e3e8e276f",
            "placeholder": "​",
            "style": "IPY_MODEL_1449aacf90db40ec8789741524d4ef82",
            "value": "100%"
          }
        },
        "82475f13c47547ac9a43959ecbe4ed79": {
          "model_module": "@jupyter-widgets/controls",
          "model_name": "FloatProgressModel",
          "model_module_version": "1.5.0",
          "state": {
            "_dom_classes": [],
            "_model_module": "@jupyter-widgets/controls",
            "_model_module_version": "1.5.0",
            "_model_name": "FloatProgressModel",
            "_view_count": null,
            "_view_module": "@jupyter-widgets/controls",
            "_view_module_version": "1.5.0",
            "_view_name": "ProgressView",
            "bar_style": "success",
            "description": "",
            "description_tooltip": null,
            "layout": "IPY_MODEL_55a962c13ad042cba75df46a7556953d",
            "max": 313,
            "min": 0,
            "orientation": "horizontal",
            "style": "IPY_MODEL_1914ec4f7ed641948c0091e8d47fe903",
            "value": 313
          }
        },
        "161fe76b7ba04091988c260b6bfea2e7": {
          "model_module": "@jupyter-widgets/controls",
          "model_name": "HTMLModel",
          "model_module_version": "1.5.0",
          "state": {
            "_dom_classes": [],
            "_model_module": "@jupyter-widgets/controls",
            "_model_module_version": "1.5.0",
            "_model_name": "HTMLModel",
            "_view_count": null,
            "_view_module": "@jupyter-widgets/controls",
            "_view_module_version": "1.5.0",
            "_view_name": "HTMLView",
            "description": "",
            "description_tooltip": null,
            "layout": "IPY_MODEL_257439f966214206a21b5810190e2f2f",
            "placeholder": "​",
            "style": "IPY_MODEL_26672b168a0c403b8beb685be9b10d71",
            "value": " 313/313 [00:01&lt;00:00, 224.09it/s]"
          }
        },
        "095720e7fca744148f5d302f0992a391": {
          "model_module": "@jupyter-widgets/base",
          "model_name": "LayoutModel",
          "model_module_version": "1.2.0",
          "state": {
            "_model_module": "@jupyter-widgets/base",
            "_model_module_version": "1.2.0",
            "_model_name": "LayoutModel",
            "_view_count": null,
            "_view_module": "@jupyter-widgets/base",
            "_view_module_version": "1.2.0",
            "_view_name": "LayoutView",
            "align_content": null,
            "align_items": null,
            "align_self": null,
            "border": null,
            "bottom": null,
            "display": null,
            "flex": null,
            "flex_flow": null,
            "grid_area": null,
            "grid_auto_columns": null,
            "grid_auto_flow": null,
            "grid_auto_rows": null,
            "grid_column": null,
            "grid_gap": null,
            "grid_row": null,
            "grid_template_areas": null,
            "grid_template_columns": null,
            "grid_template_rows": null,
            "height": null,
            "justify_content": null,
            "justify_items": null,
            "left": null,
            "margin": null,
            "max_height": null,
            "max_width": null,
            "min_height": null,
            "min_width": null,
            "object_fit": null,
            "object_position": null,
            "order": null,
            "overflow": null,
            "overflow_x": null,
            "overflow_y": null,
            "padding": null,
            "right": null,
            "top": null,
            "visibility": null,
            "width": null
          }
        },
        "8cdd63d6b79f472c8da1f07e3e8e276f": {
          "model_module": "@jupyter-widgets/base",
          "model_name": "LayoutModel",
          "model_module_version": "1.2.0",
          "state": {
            "_model_module": "@jupyter-widgets/base",
            "_model_module_version": "1.2.0",
            "_model_name": "LayoutModel",
            "_view_count": null,
            "_view_module": "@jupyter-widgets/base",
            "_view_module_version": "1.2.0",
            "_view_name": "LayoutView",
            "align_content": null,
            "align_items": null,
            "align_self": null,
            "border": null,
            "bottom": null,
            "display": null,
            "flex": null,
            "flex_flow": null,
            "grid_area": null,
            "grid_auto_columns": null,
            "grid_auto_flow": null,
            "grid_auto_rows": null,
            "grid_column": null,
            "grid_gap": null,
            "grid_row": null,
            "grid_template_areas": null,
            "grid_template_columns": null,
            "grid_template_rows": null,
            "height": null,
            "justify_content": null,
            "justify_items": null,
            "left": null,
            "margin": null,
            "max_height": null,
            "max_width": null,
            "min_height": null,
            "min_width": null,
            "object_fit": null,
            "object_position": null,
            "order": null,
            "overflow": null,
            "overflow_x": null,
            "overflow_y": null,
            "padding": null,
            "right": null,
            "top": null,
            "visibility": null,
            "width": null
          }
        },
        "1449aacf90db40ec8789741524d4ef82": {
          "model_module": "@jupyter-widgets/controls",
          "model_name": "DescriptionStyleModel",
          "model_module_version": "1.5.0",
          "state": {
            "_model_module": "@jupyter-widgets/controls",
            "_model_module_version": "1.5.0",
            "_model_name": "DescriptionStyleModel",
            "_view_count": null,
            "_view_module": "@jupyter-widgets/base",
            "_view_module_version": "1.2.0",
            "_view_name": "StyleView",
            "description_width": ""
          }
        },
        "55a962c13ad042cba75df46a7556953d": {
          "model_module": "@jupyter-widgets/base",
          "model_name": "LayoutModel",
          "model_module_version": "1.2.0",
          "state": {
            "_model_module": "@jupyter-widgets/base",
            "_model_module_version": "1.2.0",
            "_model_name": "LayoutModel",
            "_view_count": null,
            "_view_module": "@jupyter-widgets/base",
            "_view_module_version": "1.2.0",
            "_view_name": "LayoutView",
            "align_content": null,
            "align_items": null,
            "align_self": null,
            "border": null,
            "bottom": null,
            "display": null,
            "flex": null,
            "flex_flow": null,
            "grid_area": null,
            "grid_auto_columns": null,
            "grid_auto_flow": null,
            "grid_auto_rows": null,
            "grid_column": null,
            "grid_gap": null,
            "grid_row": null,
            "grid_template_areas": null,
            "grid_template_columns": null,
            "grid_template_rows": null,
            "height": null,
            "justify_content": null,
            "justify_items": null,
            "left": null,
            "margin": null,
            "max_height": null,
            "max_width": null,
            "min_height": null,
            "min_width": null,
            "object_fit": null,
            "object_position": null,
            "order": null,
            "overflow": null,
            "overflow_x": null,
            "overflow_y": null,
            "padding": null,
            "right": null,
            "top": null,
            "visibility": null,
            "width": null
          }
        },
        "1914ec4f7ed641948c0091e8d47fe903": {
          "model_module": "@jupyter-widgets/controls",
          "model_name": "ProgressStyleModel",
          "model_module_version": "1.5.0",
          "state": {
            "_model_module": "@jupyter-widgets/controls",
            "_model_module_version": "1.5.0",
            "_model_name": "ProgressStyleModel",
            "_view_count": null,
            "_view_module": "@jupyter-widgets/base",
            "_view_module_version": "1.2.0",
            "_view_name": "StyleView",
            "bar_color": null,
            "description_width": ""
          }
        },
        "257439f966214206a21b5810190e2f2f": {
          "model_module": "@jupyter-widgets/base",
          "model_name": "LayoutModel",
          "model_module_version": "1.2.0",
          "state": {
            "_model_module": "@jupyter-widgets/base",
            "_model_module_version": "1.2.0",
            "_model_name": "LayoutModel",
            "_view_count": null,
            "_view_module": "@jupyter-widgets/base",
            "_view_module_version": "1.2.0",
            "_view_name": "LayoutView",
            "align_content": null,
            "align_items": null,
            "align_self": null,
            "border": null,
            "bottom": null,
            "display": null,
            "flex": null,
            "flex_flow": null,
            "grid_area": null,
            "grid_auto_columns": null,
            "grid_auto_flow": null,
            "grid_auto_rows": null,
            "grid_column": null,
            "grid_gap": null,
            "grid_row": null,
            "grid_template_areas": null,
            "grid_template_columns": null,
            "grid_template_rows": null,
            "height": null,
            "justify_content": null,
            "justify_items": null,
            "left": null,
            "margin": null,
            "max_height": null,
            "max_width": null,
            "min_height": null,
            "min_width": null,
            "object_fit": null,
            "object_position": null,
            "order": null,
            "overflow": null,
            "overflow_x": null,
            "overflow_y": null,
            "padding": null,
            "right": null,
            "top": null,
            "visibility": null,
            "width": null
          }
        },
        "26672b168a0c403b8beb685be9b10d71": {
          "model_module": "@jupyter-widgets/controls",
          "model_name": "DescriptionStyleModel",
          "model_module_version": "1.5.0",
          "state": {
            "_model_module": "@jupyter-widgets/controls",
            "_model_module_version": "1.5.0",
            "_model_name": "DescriptionStyleModel",
            "_view_count": null,
            "_view_module": "@jupyter-widgets/base",
            "_view_module_version": "1.2.0",
            "_view_name": "StyleView",
            "description_width": ""
          }
        },
        "09815085225f45f0a4caefa7a822cc6e": {
          "model_module": "@jupyter-widgets/controls",
          "model_name": "HBoxModel",
          "model_module_version": "1.5.0",
          "state": {
            "_dom_classes": [],
            "_model_module": "@jupyter-widgets/controls",
            "_model_module_version": "1.5.0",
            "_model_name": "HBoxModel",
            "_view_count": null,
            "_view_module": "@jupyter-widgets/controls",
            "_view_module_version": "1.5.0",
            "_view_name": "HBoxView",
            "box_style": "",
            "children": [
              "IPY_MODEL_c7809a818ef14214ab1277e5b6fe5b4b",
              "IPY_MODEL_fd25d44d5b4f4cf684b3b0804425fa28",
              "IPY_MODEL_2a9cdfc1d1ce47a8a86c66292285d074"
            ],
            "layout": "IPY_MODEL_7385bad4e7f44d848894cc6d1872fb55"
          }
        },
        "c7809a818ef14214ab1277e5b6fe5b4b": {
          "model_module": "@jupyter-widgets/controls",
          "model_name": "HTMLModel",
          "model_module_version": "1.5.0",
          "state": {
            "_dom_classes": [],
            "_model_module": "@jupyter-widgets/controls",
            "_model_module_version": "1.5.0",
            "_model_name": "HTMLModel",
            "_view_count": null,
            "_view_module": "@jupyter-widgets/controls",
            "_view_module_version": "1.5.0",
            "_view_name": "HTMLView",
            "description": "",
            "description_tooltip": null,
            "layout": "IPY_MODEL_015534e5cb8444f28035002048cc1879",
            "placeholder": "​",
            "style": "IPY_MODEL_bf4904a22ccb4315867f7f6174c718f6",
            "value": "100%"
          }
        },
        "fd25d44d5b4f4cf684b3b0804425fa28": {
          "model_module": "@jupyter-widgets/controls",
          "model_name": "FloatProgressModel",
          "model_module_version": "1.5.0",
          "state": {
            "_dom_classes": [],
            "_model_module": "@jupyter-widgets/controls",
            "_model_module_version": "1.5.0",
            "_model_name": "FloatProgressModel",
            "_view_count": null,
            "_view_module": "@jupyter-widgets/controls",
            "_view_module_version": "1.5.0",
            "_view_name": "ProgressView",
            "bar_style": "success",
            "description": "",
            "description_tooltip": null,
            "layout": "IPY_MODEL_addf331c1d8d4ae1b3fc3dac820358be",
            "max": 3,
            "min": 0,
            "orientation": "horizontal",
            "style": "IPY_MODEL_b0578e4ad1d54c9bb9fa9cc200f07fae",
            "value": 3
          }
        },
        "2a9cdfc1d1ce47a8a86c66292285d074": {
          "model_module": "@jupyter-widgets/controls",
          "model_name": "HTMLModel",
          "model_module_version": "1.5.0",
          "state": {
            "_dom_classes": [],
            "_model_module": "@jupyter-widgets/controls",
            "_model_module_version": "1.5.0",
            "_model_name": "HTMLModel",
            "_view_count": null,
            "_view_module": "@jupyter-widgets/controls",
            "_view_module_version": "1.5.0",
            "_view_name": "HTMLView",
            "description": "",
            "description_tooltip": null,
            "layout": "IPY_MODEL_580285384b3a4c9d9e1be64c76a2bc24",
            "placeholder": "​",
            "style": "IPY_MODEL_0247162570234cdfb036254a4792c10c",
            "value": " 3/3 [00:38&lt;00:00, 12.80s/it]"
          }
        },
        "7385bad4e7f44d848894cc6d1872fb55": {
          "model_module": "@jupyter-widgets/base",
          "model_name": "LayoutModel",
          "model_module_version": "1.2.0",
          "state": {
            "_model_module": "@jupyter-widgets/base",
            "_model_module_version": "1.2.0",
            "_model_name": "LayoutModel",
            "_view_count": null,
            "_view_module": "@jupyter-widgets/base",
            "_view_module_version": "1.2.0",
            "_view_name": "LayoutView",
            "align_content": null,
            "align_items": null,
            "align_self": null,
            "border": null,
            "bottom": null,
            "display": null,
            "flex": null,
            "flex_flow": null,
            "grid_area": null,
            "grid_auto_columns": null,
            "grid_auto_flow": null,
            "grid_auto_rows": null,
            "grid_column": null,
            "grid_gap": null,
            "grid_row": null,
            "grid_template_areas": null,
            "grid_template_columns": null,
            "grid_template_rows": null,
            "height": null,
            "justify_content": null,
            "justify_items": null,
            "left": null,
            "margin": null,
            "max_height": null,
            "max_width": null,
            "min_height": null,
            "min_width": null,
            "object_fit": null,
            "object_position": null,
            "order": null,
            "overflow": null,
            "overflow_x": null,
            "overflow_y": null,
            "padding": null,
            "right": null,
            "top": null,
            "visibility": null,
            "width": null
          }
        },
        "015534e5cb8444f28035002048cc1879": {
          "model_module": "@jupyter-widgets/base",
          "model_name": "LayoutModel",
          "model_module_version": "1.2.0",
          "state": {
            "_model_module": "@jupyter-widgets/base",
            "_model_module_version": "1.2.0",
            "_model_name": "LayoutModel",
            "_view_count": null,
            "_view_module": "@jupyter-widgets/base",
            "_view_module_version": "1.2.0",
            "_view_name": "LayoutView",
            "align_content": null,
            "align_items": null,
            "align_self": null,
            "border": null,
            "bottom": null,
            "display": null,
            "flex": null,
            "flex_flow": null,
            "grid_area": null,
            "grid_auto_columns": null,
            "grid_auto_flow": null,
            "grid_auto_rows": null,
            "grid_column": null,
            "grid_gap": null,
            "grid_row": null,
            "grid_template_areas": null,
            "grid_template_columns": null,
            "grid_template_rows": null,
            "height": null,
            "justify_content": null,
            "justify_items": null,
            "left": null,
            "margin": null,
            "max_height": null,
            "max_width": null,
            "min_height": null,
            "min_width": null,
            "object_fit": null,
            "object_position": null,
            "order": null,
            "overflow": null,
            "overflow_x": null,
            "overflow_y": null,
            "padding": null,
            "right": null,
            "top": null,
            "visibility": null,
            "width": null
          }
        },
        "bf4904a22ccb4315867f7f6174c718f6": {
          "model_module": "@jupyter-widgets/controls",
          "model_name": "DescriptionStyleModel",
          "model_module_version": "1.5.0",
          "state": {
            "_model_module": "@jupyter-widgets/controls",
            "_model_module_version": "1.5.0",
            "_model_name": "DescriptionStyleModel",
            "_view_count": null,
            "_view_module": "@jupyter-widgets/base",
            "_view_module_version": "1.2.0",
            "_view_name": "StyleView",
            "description_width": ""
          }
        },
        "addf331c1d8d4ae1b3fc3dac820358be": {
          "model_module": "@jupyter-widgets/base",
          "model_name": "LayoutModel",
          "model_module_version": "1.2.0",
          "state": {
            "_model_module": "@jupyter-widgets/base",
            "_model_module_version": "1.2.0",
            "_model_name": "LayoutModel",
            "_view_count": null,
            "_view_module": "@jupyter-widgets/base",
            "_view_module_version": "1.2.0",
            "_view_name": "LayoutView",
            "align_content": null,
            "align_items": null,
            "align_self": null,
            "border": null,
            "bottom": null,
            "display": null,
            "flex": null,
            "flex_flow": null,
            "grid_area": null,
            "grid_auto_columns": null,
            "grid_auto_flow": null,
            "grid_auto_rows": null,
            "grid_column": null,
            "grid_gap": null,
            "grid_row": null,
            "grid_template_areas": null,
            "grid_template_columns": null,
            "grid_template_rows": null,
            "height": null,
            "justify_content": null,
            "justify_items": null,
            "left": null,
            "margin": null,
            "max_height": null,
            "max_width": null,
            "min_height": null,
            "min_width": null,
            "object_fit": null,
            "object_position": null,
            "order": null,
            "overflow": null,
            "overflow_x": null,
            "overflow_y": null,
            "padding": null,
            "right": null,
            "top": null,
            "visibility": null,
            "width": null
          }
        },
        "b0578e4ad1d54c9bb9fa9cc200f07fae": {
          "model_module": "@jupyter-widgets/controls",
          "model_name": "ProgressStyleModel",
          "model_module_version": "1.5.0",
          "state": {
            "_model_module": "@jupyter-widgets/controls",
            "_model_module_version": "1.5.0",
            "_model_name": "ProgressStyleModel",
            "_view_count": null,
            "_view_module": "@jupyter-widgets/base",
            "_view_module_version": "1.2.0",
            "_view_name": "StyleView",
            "bar_color": null,
            "description_width": ""
          }
        },
        "580285384b3a4c9d9e1be64c76a2bc24": {
          "model_module": "@jupyter-widgets/base",
          "model_name": "LayoutModel",
          "model_module_version": "1.2.0",
          "state": {
            "_model_module": "@jupyter-widgets/base",
            "_model_module_version": "1.2.0",
            "_model_name": "LayoutModel",
            "_view_count": null,
            "_view_module": "@jupyter-widgets/base",
            "_view_module_version": "1.2.0",
            "_view_name": "LayoutView",
            "align_content": null,
            "align_items": null,
            "align_self": null,
            "border": null,
            "bottom": null,
            "display": null,
            "flex": null,
            "flex_flow": null,
            "grid_area": null,
            "grid_auto_columns": null,
            "grid_auto_flow": null,
            "grid_auto_rows": null,
            "grid_column": null,
            "grid_gap": null,
            "grid_row": null,
            "grid_template_areas": null,
            "grid_template_columns": null,
            "grid_template_rows": null,
            "height": null,
            "justify_content": null,
            "justify_items": null,
            "left": null,
            "margin": null,
            "max_height": null,
            "max_width": null,
            "min_height": null,
            "min_width": null,
            "object_fit": null,
            "object_position": null,
            "order": null,
            "overflow": null,
            "overflow_x": null,
            "overflow_y": null,
            "padding": null,
            "right": null,
            "top": null,
            "visibility": null,
            "width": null
          }
        },
        "0247162570234cdfb036254a4792c10c": {
          "model_module": "@jupyter-widgets/controls",
          "model_name": "DescriptionStyleModel",
          "model_module_version": "1.5.0",
          "state": {
            "_model_module": "@jupyter-widgets/controls",
            "_model_module_version": "1.5.0",
            "_model_name": "DescriptionStyleModel",
            "_view_count": null,
            "_view_module": "@jupyter-widgets/base",
            "_view_module_version": "1.2.0",
            "_view_name": "StyleView",
            "description_width": ""
          }
        },
        "84ec70b4114a46aca499f1b398ec43db": {
          "model_module": "@jupyter-widgets/controls",
          "model_name": "HBoxModel",
          "model_module_version": "1.5.0",
          "state": {
            "_dom_classes": [],
            "_model_module": "@jupyter-widgets/controls",
            "_model_module_version": "1.5.0",
            "_model_name": "HBoxModel",
            "_view_count": null,
            "_view_module": "@jupyter-widgets/controls",
            "_view_module_version": "1.5.0",
            "_view_name": "HBoxView",
            "box_style": "",
            "children": [
              "IPY_MODEL_6a32188e7e794ae6b3e887815a0a1bb5",
              "IPY_MODEL_cc534b6d91824ce5b9f3d9a2088f5309",
              "IPY_MODEL_5e166ffe28824b0bb84f9e90e5dd0f3b"
            ],
            "layout": "IPY_MODEL_6fdd5e8e57534fd7aa92fe1a8a81edc8"
          }
        },
        "6a32188e7e794ae6b3e887815a0a1bb5": {
          "model_module": "@jupyter-widgets/controls",
          "model_name": "HTMLModel",
          "model_module_version": "1.5.0",
          "state": {
            "_dom_classes": [],
            "_model_module": "@jupyter-widgets/controls",
            "_model_module_version": "1.5.0",
            "_model_name": "HTMLModel",
            "_view_count": null,
            "_view_module": "@jupyter-widgets/controls",
            "_view_module_version": "1.5.0",
            "_view_name": "HTMLView",
            "description": "",
            "description_tooltip": null,
            "layout": "IPY_MODEL_f609f97c193b4399a08e3e234f8a518b",
            "placeholder": "​",
            "style": "IPY_MODEL_67979d4c155640af9d658b258f8d94d3",
            "value": "100%"
          }
        },
        "cc534b6d91824ce5b9f3d9a2088f5309": {
          "model_module": "@jupyter-widgets/controls",
          "model_name": "FloatProgressModel",
          "model_module_version": "1.5.0",
          "state": {
            "_dom_classes": [],
            "_model_module": "@jupyter-widgets/controls",
            "_model_module_version": "1.5.0",
            "_model_name": "FloatProgressModel",
            "_view_count": null,
            "_view_module": "@jupyter-widgets/controls",
            "_view_module_version": "1.5.0",
            "_view_name": "ProgressView",
            "bar_style": "success",
            "description": "",
            "description_tooltip": null,
            "layout": "IPY_MODEL_ca994f7099c84fffbd17bdfaf703c0a4",
            "max": 313,
            "min": 0,
            "orientation": "horizontal",
            "style": "IPY_MODEL_67d4ec0e378945a0807594bdea6a64ca",
            "value": 313
          }
        },
        "5e166ffe28824b0bb84f9e90e5dd0f3b": {
          "model_module": "@jupyter-widgets/controls",
          "model_name": "HTMLModel",
          "model_module_version": "1.5.0",
          "state": {
            "_dom_classes": [],
            "_model_module": "@jupyter-widgets/controls",
            "_model_module_version": "1.5.0",
            "_model_name": "HTMLModel",
            "_view_count": null,
            "_view_module": "@jupyter-widgets/controls",
            "_view_module_version": "1.5.0",
            "_view_name": "HTMLView",
            "description": "",
            "description_tooltip": null,
            "layout": "IPY_MODEL_5586280544034a71a4a6e0b4b8344f42",
            "placeholder": "​",
            "style": "IPY_MODEL_a589d2f9b0374d27a3509ebe163a9b8b",
            "value": " 313/313 [00:01&lt;00:00, 179.38it/s]"
          }
        },
        "6fdd5e8e57534fd7aa92fe1a8a81edc8": {
          "model_module": "@jupyter-widgets/base",
          "model_name": "LayoutModel",
          "model_module_version": "1.2.0",
          "state": {
            "_model_module": "@jupyter-widgets/base",
            "_model_module_version": "1.2.0",
            "_model_name": "LayoutModel",
            "_view_count": null,
            "_view_module": "@jupyter-widgets/base",
            "_view_module_version": "1.2.0",
            "_view_name": "LayoutView",
            "align_content": null,
            "align_items": null,
            "align_self": null,
            "border": null,
            "bottom": null,
            "display": null,
            "flex": null,
            "flex_flow": null,
            "grid_area": null,
            "grid_auto_columns": null,
            "grid_auto_flow": null,
            "grid_auto_rows": null,
            "grid_column": null,
            "grid_gap": null,
            "grid_row": null,
            "grid_template_areas": null,
            "grid_template_columns": null,
            "grid_template_rows": null,
            "height": null,
            "justify_content": null,
            "justify_items": null,
            "left": null,
            "margin": null,
            "max_height": null,
            "max_width": null,
            "min_height": null,
            "min_width": null,
            "object_fit": null,
            "object_position": null,
            "order": null,
            "overflow": null,
            "overflow_x": null,
            "overflow_y": null,
            "padding": null,
            "right": null,
            "top": null,
            "visibility": null,
            "width": null
          }
        },
        "f609f97c193b4399a08e3e234f8a518b": {
          "model_module": "@jupyter-widgets/base",
          "model_name": "LayoutModel",
          "model_module_version": "1.2.0",
          "state": {
            "_model_module": "@jupyter-widgets/base",
            "_model_module_version": "1.2.0",
            "_model_name": "LayoutModel",
            "_view_count": null,
            "_view_module": "@jupyter-widgets/base",
            "_view_module_version": "1.2.0",
            "_view_name": "LayoutView",
            "align_content": null,
            "align_items": null,
            "align_self": null,
            "border": null,
            "bottom": null,
            "display": null,
            "flex": null,
            "flex_flow": null,
            "grid_area": null,
            "grid_auto_columns": null,
            "grid_auto_flow": null,
            "grid_auto_rows": null,
            "grid_column": null,
            "grid_gap": null,
            "grid_row": null,
            "grid_template_areas": null,
            "grid_template_columns": null,
            "grid_template_rows": null,
            "height": null,
            "justify_content": null,
            "justify_items": null,
            "left": null,
            "margin": null,
            "max_height": null,
            "max_width": null,
            "min_height": null,
            "min_width": null,
            "object_fit": null,
            "object_position": null,
            "order": null,
            "overflow": null,
            "overflow_x": null,
            "overflow_y": null,
            "padding": null,
            "right": null,
            "top": null,
            "visibility": null,
            "width": null
          }
        },
        "67979d4c155640af9d658b258f8d94d3": {
          "model_module": "@jupyter-widgets/controls",
          "model_name": "DescriptionStyleModel",
          "model_module_version": "1.5.0",
          "state": {
            "_model_module": "@jupyter-widgets/controls",
            "_model_module_version": "1.5.0",
            "_model_name": "DescriptionStyleModel",
            "_view_count": null,
            "_view_module": "@jupyter-widgets/base",
            "_view_module_version": "1.2.0",
            "_view_name": "StyleView",
            "description_width": ""
          }
        },
        "ca994f7099c84fffbd17bdfaf703c0a4": {
          "model_module": "@jupyter-widgets/base",
          "model_name": "LayoutModel",
          "model_module_version": "1.2.0",
          "state": {
            "_model_module": "@jupyter-widgets/base",
            "_model_module_version": "1.2.0",
            "_model_name": "LayoutModel",
            "_view_count": null,
            "_view_module": "@jupyter-widgets/base",
            "_view_module_version": "1.2.0",
            "_view_name": "LayoutView",
            "align_content": null,
            "align_items": null,
            "align_self": null,
            "border": null,
            "bottom": null,
            "display": null,
            "flex": null,
            "flex_flow": null,
            "grid_area": null,
            "grid_auto_columns": null,
            "grid_auto_flow": null,
            "grid_auto_rows": null,
            "grid_column": null,
            "grid_gap": null,
            "grid_row": null,
            "grid_template_areas": null,
            "grid_template_columns": null,
            "grid_template_rows": null,
            "height": null,
            "justify_content": null,
            "justify_items": null,
            "left": null,
            "margin": null,
            "max_height": null,
            "max_width": null,
            "min_height": null,
            "min_width": null,
            "object_fit": null,
            "object_position": null,
            "order": null,
            "overflow": null,
            "overflow_x": null,
            "overflow_y": null,
            "padding": null,
            "right": null,
            "top": null,
            "visibility": null,
            "width": null
          }
        },
        "67d4ec0e378945a0807594bdea6a64ca": {
          "model_module": "@jupyter-widgets/controls",
          "model_name": "ProgressStyleModel",
          "model_module_version": "1.5.0",
          "state": {
            "_model_module": "@jupyter-widgets/controls",
            "_model_module_version": "1.5.0",
            "_model_name": "ProgressStyleModel",
            "_view_count": null,
            "_view_module": "@jupyter-widgets/base",
            "_view_module_version": "1.2.0",
            "_view_name": "StyleView",
            "bar_color": null,
            "description_width": ""
          }
        },
        "5586280544034a71a4a6e0b4b8344f42": {
          "model_module": "@jupyter-widgets/base",
          "model_name": "LayoutModel",
          "model_module_version": "1.2.0",
          "state": {
            "_model_module": "@jupyter-widgets/base",
            "_model_module_version": "1.2.0",
            "_model_name": "LayoutModel",
            "_view_count": null,
            "_view_module": "@jupyter-widgets/base",
            "_view_module_version": "1.2.0",
            "_view_name": "LayoutView",
            "align_content": null,
            "align_items": null,
            "align_self": null,
            "border": null,
            "bottom": null,
            "display": null,
            "flex": null,
            "flex_flow": null,
            "grid_area": null,
            "grid_auto_columns": null,
            "grid_auto_flow": null,
            "grid_auto_rows": null,
            "grid_column": null,
            "grid_gap": null,
            "grid_row": null,
            "grid_template_areas": null,
            "grid_template_columns": null,
            "grid_template_rows": null,
            "height": null,
            "justify_content": null,
            "justify_items": null,
            "left": null,
            "margin": null,
            "max_height": null,
            "max_width": null,
            "min_height": null,
            "min_width": null,
            "object_fit": null,
            "object_position": null,
            "order": null,
            "overflow": null,
            "overflow_x": null,
            "overflow_y": null,
            "padding": null,
            "right": null,
            "top": null,
            "visibility": null,
            "width": null
          }
        },
        "a589d2f9b0374d27a3509ebe163a9b8b": {
          "model_module": "@jupyter-widgets/controls",
          "model_name": "DescriptionStyleModel",
          "model_module_version": "1.5.0",
          "state": {
            "_model_module": "@jupyter-widgets/controls",
            "_model_module_version": "1.5.0",
            "_model_name": "DescriptionStyleModel",
            "_view_count": null,
            "_view_module": "@jupyter-widgets/base",
            "_view_module_version": "1.2.0",
            "_view_name": "StyleView",
            "description_width": ""
          }
        },
        "fbf21acca3304bcea3a6515ca32b4a7b": {
          "model_module": "@jupyter-widgets/controls",
          "model_name": "HBoxModel",
          "model_module_version": "1.5.0",
          "state": {
            "_dom_classes": [],
            "_model_module": "@jupyter-widgets/controls",
            "_model_module_version": "1.5.0",
            "_model_name": "HBoxModel",
            "_view_count": null,
            "_view_module": "@jupyter-widgets/controls",
            "_view_module_version": "1.5.0",
            "_view_name": "HBoxView",
            "box_style": "",
            "children": [
              "IPY_MODEL_218227481cd44c598b852d9c47275e4e",
              "IPY_MODEL_007aa340ee5a4dca9b0c11d7c155a0b1",
              "IPY_MODEL_19301b8ab3784f3d8580ef66775921f9"
            ],
            "layout": "IPY_MODEL_74c4e59fb7164e979b349b556b3b5163"
          }
        },
        "218227481cd44c598b852d9c47275e4e": {
          "model_module": "@jupyter-widgets/controls",
          "model_name": "HTMLModel",
          "model_module_version": "1.5.0",
          "state": {
            "_dom_classes": [],
            "_model_module": "@jupyter-widgets/controls",
            "_model_module_version": "1.5.0",
            "_model_name": "HTMLModel",
            "_view_count": null,
            "_view_module": "@jupyter-widgets/controls",
            "_view_module_version": "1.5.0",
            "_view_name": "HTMLView",
            "description": "",
            "description_tooltip": null,
            "layout": "IPY_MODEL_7cf077a03423423db49f47320f856ee6",
            "placeholder": "​",
            "style": "IPY_MODEL_8788d885b5c340579bcdff8f859cb527",
            "value": "100%"
          }
        },
        "007aa340ee5a4dca9b0c11d7c155a0b1": {
          "model_module": "@jupyter-widgets/controls",
          "model_name": "FloatProgressModel",
          "model_module_version": "1.5.0",
          "state": {
            "_dom_classes": [],
            "_model_module": "@jupyter-widgets/controls",
            "_model_module_version": "1.5.0",
            "_model_name": "FloatProgressModel",
            "_view_count": null,
            "_view_module": "@jupyter-widgets/controls",
            "_view_module_version": "1.5.0",
            "_view_name": "ProgressView",
            "bar_style": "success",
            "description": "",
            "description_tooltip": null,
            "layout": "IPY_MODEL_d78765049b9e4b47a80dfea17c89a524",
            "max": 3,
            "min": 0,
            "orientation": "horizontal",
            "style": "IPY_MODEL_205dc2967ea046878659a3eabd850a80",
            "value": 3
          }
        },
        "19301b8ab3784f3d8580ef66775921f9": {
          "model_module": "@jupyter-widgets/controls",
          "model_name": "HTMLModel",
          "model_module_version": "1.5.0",
          "state": {
            "_dom_classes": [],
            "_model_module": "@jupyter-widgets/controls",
            "_model_module_version": "1.5.0",
            "_model_name": "HTMLModel",
            "_view_count": null,
            "_view_module": "@jupyter-widgets/controls",
            "_view_module_version": "1.5.0",
            "_view_name": "HTMLView",
            "description": "",
            "description_tooltip": null,
            "layout": "IPY_MODEL_cc85b09ec06a40f6bef652f2d8c7fc62",
            "placeholder": "​",
            "style": "IPY_MODEL_dfbbcab572544b1d962d16035d7b3776",
            "value": " 3/3 [02:56&lt;00:00, 58.54s/it]"
          }
        },
        "74c4e59fb7164e979b349b556b3b5163": {
          "model_module": "@jupyter-widgets/base",
          "model_name": "LayoutModel",
          "model_module_version": "1.2.0",
          "state": {
            "_model_module": "@jupyter-widgets/base",
            "_model_module_version": "1.2.0",
            "_model_name": "LayoutModel",
            "_view_count": null,
            "_view_module": "@jupyter-widgets/base",
            "_view_module_version": "1.2.0",
            "_view_name": "LayoutView",
            "align_content": null,
            "align_items": null,
            "align_self": null,
            "border": null,
            "bottom": null,
            "display": null,
            "flex": null,
            "flex_flow": null,
            "grid_area": null,
            "grid_auto_columns": null,
            "grid_auto_flow": null,
            "grid_auto_rows": null,
            "grid_column": null,
            "grid_gap": null,
            "grid_row": null,
            "grid_template_areas": null,
            "grid_template_columns": null,
            "grid_template_rows": null,
            "height": null,
            "justify_content": null,
            "justify_items": null,
            "left": null,
            "margin": null,
            "max_height": null,
            "max_width": null,
            "min_height": null,
            "min_width": null,
            "object_fit": null,
            "object_position": null,
            "order": null,
            "overflow": null,
            "overflow_x": null,
            "overflow_y": null,
            "padding": null,
            "right": null,
            "top": null,
            "visibility": null,
            "width": null
          }
        },
        "7cf077a03423423db49f47320f856ee6": {
          "model_module": "@jupyter-widgets/base",
          "model_name": "LayoutModel",
          "model_module_version": "1.2.0",
          "state": {
            "_model_module": "@jupyter-widgets/base",
            "_model_module_version": "1.2.0",
            "_model_name": "LayoutModel",
            "_view_count": null,
            "_view_module": "@jupyter-widgets/base",
            "_view_module_version": "1.2.0",
            "_view_name": "LayoutView",
            "align_content": null,
            "align_items": null,
            "align_self": null,
            "border": null,
            "bottom": null,
            "display": null,
            "flex": null,
            "flex_flow": null,
            "grid_area": null,
            "grid_auto_columns": null,
            "grid_auto_flow": null,
            "grid_auto_rows": null,
            "grid_column": null,
            "grid_gap": null,
            "grid_row": null,
            "grid_template_areas": null,
            "grid_template_columns": null,
            "grid_template_rows": null,
            "height": null,
            "justify_content": null,
            "justify_items": null,
            "left": null,
            "margin": null,
            "max_height": null,
            "max_width": null,
            "min_height": null,
            "min_width": null,
            "object_fit": null,
            "object_position": null,
            "order": null,
            "overflow": null,
            "overflow_x": null,
            "overflow_y": null,
            "padding": null,
            "right": null,
            "top": null,
            "visibility": null,
            "width": null
          }
        },
        "8788d885b5c340579bcdff8f859cb527": {
          "model_module": "@jupyter-widgets/controls",
          "model_name": "DescriptionStyleModel",
          "model_module_version": "1.5.0",
          "state": {
            "_model_module": "@jupyter-widgets/controls",
            "_model_module_version": "1.5.0",
            "_model_name": "DescriptionStyleModel",
            "_view_count": null,
            "_view_module": "@jupyter-widgets/base",
            "_view_module_version": "1.2.0",
            "_view_name": "StyleView",
            "description_width": ""
          }
        },
        "d78765049b9e4b47a80dfea17c89a524": {
          "model_module": "@jupyter-widgets/base",
          "model_name": "LayoutModel",
          "model_module_version": "1.2.0",
          "state": {
            "_model_module": "@jupyter-widgets/base",
            "_model_module_version": "1.2.0",
            "_model_name": "LayoutModel",
            "_view_count": null,
            "_view_module": "@jupyter-widgets/base",
            "_view_module_version": "1.2.0",
            "_view_name": "LayoutView",
            "align_content": null,
            "align_items": null,
            "align_self": null,
            "border": null,
            "bottom": null,
            "display": null,
            "flex": null,
            "flex_flow": null,
            "grid_area": null,
            "grid_auto_columns": null,
            "grid_auto_flow": null,
            "grid_auto_rows": null,
            "grid_column": null,
            "grid_gap": null,
            "grid_row": null,
            "grid_template_areas": null,
            "grid_template_columns": null,
            "grid_template_rows": null,
            "height": null,
            "justify_content": null,
            "justify_items": null,
            "left": null,
            "margin": null,
            "max_height": null,
            "max_width": null,
            "min_height": null,
            "min_width": null,
            "object_fit": null,
            "object_position": null,
            "order": null,
            "overflow": null,
            "overflow_x": null,
            "overflow_y": null,
            "padding": null,
            "right": null,
            "top": null,
            "visibility": null,
            "width": null
          }
        },
        "205dc2967ea046878659a3eabd850a80": {
          "model_module": "@jupyter-widgets/controls",
          "model_name": "ProgressStyleModel",
          "model_module_version": "1.5.0",
          "state": {
            "_model_module": "@jupyter-widgets/controls",
            "_model_module_version": "1.5.0",
            "_model_name": "ProgressStyleModel",
            "_view_count": null,
            "_view_module": "@jupyter-widgets/base",
            "_view_module_version": "1.2.0",
            "_view_name": "StyleView",
            "bar_color": null,
            "description_width": ""
          }
        },
        "cc85b09ec06a40f6bef652f2d8c7fc62": {
          "model_module": "@jupyter-widgets/base",
          "model_name": "LayoutModel",
          "model_module_version": "1.2.0",
          "state": {
            "_model_module": "@jupyter-widgets/base",
            "_model_module_version": "1.2.0",
            "_model_name": "LayoutModel",
            "_view_count": null,
            "_view_module": "@jupyter-widgets/base",
            "_view_module_version": "1.2.0",
            "_view_name": "LayoutView",
            "align_content": null,
            "align_items": null,
            "align_self": null,
            "border": null,
            "bottom": null,
            "display": null,
            "flex": null,
            "flex_flow": null,
            "grid_area": null,
            "grid_auto_columns": null,
            "grid_auto_flow": null,
            "grid_auto_rows": null,
            "grid_column": null,
            "grid_gap": null,
            "grid_row": null,
            "grid_template_areas": null,
            "grid_template_columns": null,
            "grid_template_rows": null,
            "height": null,
            "justify_content": null,
            "justify_items": null,
            "left": null,
            "margin": null,
            "max_height": null,
            "max_width": null,
            "min_height": null,
            "min_width": null,
            "object_fit": null,
            "object_position": null,
            "order": null,
            "overflow": null,
            "overflow_x": null,
            "overflow_y": null,
            "padding": null,
            "right": null,
            "top": null,
            "visibility": null,
            "width": null
          }
        },
        "dfbbcab572544b1d962d16035d7b3776": {
          "model_module": "@jupyter-widgets/controls",
          "model_name": "DescriptionStyleModel",
          "model_module_version": "1.5.0",
          "state": {
            "_model_module": "@jupyter-widgets/controls",
            "_model_module_version": "1.5.0",
            "_model_name": "DescriptionStyleModel",
            "_view_count": null,
            "_view_module": "@jupyter-widgets/base",
            "_view_module_version": "1.2.0",
            "_view_name": "StyleView",
            "description_width": ""
          }
        },
        "ff0750199b07410fbba8289fdb9cf7d6": {
          "model_module": "@jupyter-widgets/controls",
          "model_name": "HBoxModel",
          "model_module_version": "1.5.0",
          "state": {
            "_dom_classes": [],
            "_model_module": "@jupyter-widgets/controls",
            "_model_module_version": "1.5.0",
            "_model_name": "HBoxModel",
            "_view_count": null,
            "_view_module": "@jupyter-widgets/controls",
            "_view_module_version": "1.5.0",
            "_view_name": "HBoxView",
            "box_style": "",
            "children": [
              "IPY_MODEL_5dce55372cee471a8802fc275843d68f",
              "IPY_MODEL_190b04a8ee554c09803f8edb2f8448e5",
              "IPY_MODEL_13afcfcc4b2b4b658b0ba5bd18a40fe7"
            ],
            "layout": "IPY_MODEL_395c890df7ae476da6f51b49e7ee8970"
          }
        },
        "5dce55372cee471a8802fc275843d68f": {
          "model_module": "@jupyter-widgets/controls",
          "model_name": "HTMLModel",
          "model_module_version": "1.5.0",
          "state": {
            "_dom_classes": [],
            "_model_module": "@jupyter-widgets/controls",
            "_model_module_version": "1.5.0",
            "_model_name": "HTMLModel",
            "_view_count": null,
            "_view_module": "@jupyter-widgets/controls",
            "_view_module_version": "1.5.0",
            "_view_name": "HTMLView",
            "description": "",
            "description_tooltip": null,
            "layout": "IPY_MODEL_5c58c5b6d5994caf83f24c5e43353e26",
            "placeholder": "​",
            "style": "IPY_MODEL_bce36d4027ec4407a751a0df18827e96",
            "value": "100%"
          }
        },
        "190b04a8ee554c09803f8edb2f8448e5": {
          "model_module": "@jupyter-widgets/controls",
          "model_name": "FloatProgressModel",
          "model_module_version": "1.5.0",
          "state": {
            "_dom_classes": [],
            "_model_module": "@jupyter-widgets/controls",
            "_model_module_version": "1.5.0",
            "_model_name": "FloatProgressModel",
            "_view_count": null,
            "_view_module": "@jupyter-widgets/controls",
            "_view_module_version": "1.5.0",
            "_view_name": "ProgressView",
            "bar_style": "success",
            "description": "",
            "description_tooltip": null,
            "layout": "IPY_MODEL_d7ba954c9b22433389baa5cd4d964a6d",
            "max": 313,
            "min": 0,
            "orientation": "horizontal",
            "style": "IPY_MODEL_9b973d548a9149bb8c93abae03bafd34",
            "value": 313
          }
        },
        "13afcfcc4b2b4b658b0ba5bd18a40fe7": {
          "model_module": "@jupyter-widgets/controls",
          "model_name": "HTMLModel",
          "model_module_version": "1.5.0",
          "state": {
            "_dom_classes": [],
            "_model_module": "@jupyter-widgets/controls",
            "_model_module_version": "1.5.0",
            "_model_name": "HTMLModel",
            "_view_count": null,
            "_view_module": "@jupyter-widgets/controls",
            "_view_module_version": "1.5.0",
            "_view_name": "HTMLView",
            "description": "",
            "description_tooltip": null,
            "layout": "IPY_MODEL_ed361d0b05064e2a9127fca7b6d85b7f",
            "placeholder": "​",
            "style": "IPY_MODEL_4a203f1d4356468fa1aa1badca9b99e4",
            "value": " 313/313 [00:04&lt;00:00, 68.47it/s]"
          }
        },
        "395c890df7ae476da6f51b49e7ee8970": {
          "model_module": "@jupyter-widgets/base",
          "model_name": "LayoutModel",
          "model_module_version": "1.2.0",
          "state": {
            "_model_module": "@jupyter-widgets/base",
            "_model_module_version": "1.2.0",
            "_model_name": "LayoutModel",
            "_view_count": null,
            "_view_module": "@jupyter-widgets/base",
            "_view_module_version": "1.2.0",
            "_view_name": "LayoutView",
            "align_content": null,
            "align_items": null,
            "align_self": null,
            "border": null,
            "bottom": null,
            "display": null,
            "flex": null,
            "flex_flow": null,
            "grid_area": null,
            "grid_auto_columns": null,
            "grid_auto_flow": null,
            "grid_auto_rows": null,
            "grid_column": null,
            "grid_gap": null,
            "grid_row": null,
            "grid_template_areas": null,
            "grid_template_columns": null,
            "grid_template_rows": null,
            "height": null,
            "justify_content": null,
            "justify_items": null,
            "left": null,
            "margin": null,
            "max_height": null,
            "max_width": null,
            "min_height": null,
            "min_width": null,
            "object_fit": null,
            "object_position": null,
            "order": null,
            "overflow": null,
            "overflow_x": null,
            "overflow_y": null,
            "padding": null,
            "right": null,
            "top": null,
            "visibility": null,
            "width": null
          }
        },
        "5c58c5b6d5994caf83f24c5e43353e26": {
          "model_module": "@jupyter-widgets/base",
          "model_name": "LayoutModel",
          "model_module_version": "1.2.0",
          "state": {
            "_model_module": "@jupyter-widgets/base",
            "_model_module_version": "1.2.0",
            "_model_name": "LayoutModel",
            "_view_count": null,
            "_view_module": "@jupyter-widgets/base",
            "_view_module_version": "1.2.0",
            "_view_name": "LayoutView",
            "align_content": null,
            "align_items": null,
            "align_self": null,
            "border": null,
            "bottom": null,
            "display": null,
            "flex": null,
            "flex_flow": null,
            "grid_area": null,
            "grid_auto_columns": null,
            "grid_auto_flow": null,
            "grid_auto_rows": null,
            "grid_column": null,
            "grid_gap": null,
            "grid_row": null,
            "grid_template_areas": null,
            "grid_template_columns": null,
            "grid_template_rows": null,
            "height": null,
            "justify_content": null,
            "justify_items": null,
            "left": null,
            "margin": null,
            "max_height": null,
            "max_width": null,
            "min_height": null,
            "min_width": null,
            "object_fit": null,
            "object_position": null,
            "order": null,
            "overflow": null,
            "overflow_x": null,
            "overflow_y": null,
            "padding": null,
            "right": null,
            "top": null,
            "visibility": null,
            "width": null
          }
        },
        "bce36d4027ec4407a751a0df18827e96": {
          "model_module": "@jupyter-widgets/controls",
          "model_name": "DescriptionStyleModel",
          "model_module_version": "1.5.0",
          "state": {
            "_model_module": "@jupyter-widgets/controls",
            "_model_module_version": "1.5.0",
            "_model_name": "DescriptionStyleModel",
            "_view_count": null,
            "_view_module": "@jupyter-widgets/base",
            "_view_module_version": "1.2.0",
            "_view_name": "StyleView",
            "description_width": ""
          }
        },
        "d7ba954c9b22433389baa5cd4d964a6d": {
          "model_module": "@jupyter-widgets/base",
          "model_name": "LayoutModel",
          "model_module_version": "1.2.0",
          "state": {
            "_model_module": "@jupyter-widgets/base",
            "_model_module_version": "1.2.0",
            "_model_name": "LayoutModel",
            "_view_count": null,
            "_view_module": "@jupyter-widgets/base",
            "_view_module_version": "1.2.0",
            "_view_name": "LayoutView",
            "align_content": null,
            "align_items": null,
            "align_self": null,
            "border": null,
            "bottom": null,
            "display": null,
            "flex": null,
            "flex_flow": null,
            "grid_area": null,
            "grid_auto_columns": null,
            "grid_auto_flow": null,
            "grid_auto_rows": null,
            "grid_column": null,
            "grid_gap": null,
            "grid_row": null,
            "grid_template_areas": null,
            "grid_template_columns": null,
            "grid_template_rows": null,
            "height": null,
            "justify_content": null,
            "justify_items": null,
            "left": null,
            "margin": null,
            "max_height": null,
            "max_width": null,
            "min_height": null,
            "min_width": null,
            "object_fit": null,
            "object_position": null,
            "order": null,
            "overflow": null,
            "overflow_x": null,
            "overflow_y": null,
            "padding": null,
            "right": null,
            "top": null,
            "visibility": null,
            "width": null
          }
        },
        "9b973d548a9149bb8c93abae03bafd34": {
          "model_module": "@jupyter-widgets/controls",
          "model_name": "ProgressStyleModel",
          "model_module_version": "1.5.0",
          "state": {
            "_model_module": "@jupyter-widgets/controls",
            "_model_module_version": "1.5.0",
            "_model_name": "ProgressStyleModel",
            "_view_count": null,
            "_view_module": "@jupyter-widgets/base",
            "_view_module_version": "1.2.0",
            "_view_name": "StyleView",
            "bar_color": null,
            "description_width": ""
          }
        },
        "ed361d0b05064e2a9127fca7b6d85b7f": {
          "model_module": "@jupyter-widgets/base",
          "model_name": "LayoutModel",
          "model_module_version": "1.2.0",
          "state": {
            "_model_module": "@jupyter-widgets/base",
            "_model_module_version": "1.2.0",
            "_model_name": "LayoutModel",
            "_view_count": null,
            "_view_module": "@jupyter-widgets/base",
            "_view_module_version": "1.2.0",
            "_view_name": "LayoutView",
            "align_content": null,
            "align_items": null,
            "align_self": null,
            "border": null,
            "bottom": null,
            "display": null,
            "flex": null,
            "flex_flow": null,
            "grid_area": null,
            "grid_auto_columns": null,
            "grid_auto_flow": null,
            "grid_auto_rows": null,
            "grid_column": null,
            "grid_gap": null,
            "grid_row": null,
            "grid_template_areas": null,
            "grid_template_columns": null,
            "grid_template_rows": null,
            "height": null,
            "justify_content": null,
            "justify_items": null,
            "left": null,
            "margin": null,
            "max_height": null,
            "max_width": null,
            "min_height": null,
            "min_width": null,
            "object_fit": null,
            "object_position": null,
            "order": null,
            "overflow": null,
            "overflow_x": null,
            "overflow_y": null,
            "padding": null,
            "right": null,
            "top": null,
            "visibility": null,
            "width": null
          }
        },
        "4a203f1d4356468fa1aa1badca9b99e4": {
          "model_module": "@jupyter-widgets/controls",
          "model_name": "DescriptionStyleModel",
          "model_module_version": "1.5.0",
          "state": {
            "_model_module": "@jupyter-widgets/controls",
            "_model_module_version": "1.5.0",
            "_model_name": "DescriptionStyleModel",
            "_view_count": null,
            "_view_module": "@jupyter-widgets/base",
            "_view_module_version": "1.2.0",
            "_view_name": "StyleView",
            "description_width": ""
          }
        },
        "04b1aaf27d7444d382ce235067db351d": {
          "model_module": "@jupyter-widgets/controls",
          "model_name": "HBoxModel",
          "model_module_version": "1.5.0",
          "state": {
            "_dom_classes": [],
            "_model_module": "@jupyter-widgets/controls",
            "_model_module_version": "1.5.0",
            "_model_name": "HBoxModel",
            "_view_count": null,
            "_view_module": "@jupyter-widgets/controls",
            "_view_module_version": "1.5.0",
            "_view_name": "HBoxView",
            "box_style": "",
            "children": [
              "IPY_MODEL_5ddccd3563854a3fa705fa1ea77c3ac5",
              "IPY_MODEL_b1591ca999d84b2e877ce0b541eee0c1",
              "IPY_MODEL_0aadfcd2f131459ba12b79411c67de62"
            ],
            "layout": "IPY_MODEL_dbec4e80e7e44b3a8167897c83bd03bc"
          }
        },
        "5ddccd3563854a3fa705fa1ea77c3ac5": {
          "model_module": "@jupyter-widgets/controls",
          "model_name": "HTMLModel",
          "model_module_version": "1.5.0",
          "state": {
            "_dom_classes": [],
            "_model_module": "@jupyter-widgets/controls",
            "_model_module_version": "1.5.0",
            "_model_name": "HTMLModel",
            "_view_count": null,
            "_view_module": "@jupyter-widgets/controls",
            "_view_module_version": "1.5.0",
            "_view_name": "HTMLView",
            "description": "",
            "description_tooltip": null,
            "layout": "IPY_MODEL_c25db8ba7e45411396079bb46f5d80d9",
            "placeholder": "​",
            "style": "IPY_MODEL_70441f5ed64041a3b85b9fa4f2708f56",
            "value": "making predictions...: 100%"
          }
        },
        "b1591ca999d84b2e877ce0b541eee0c1": {
          "model_module": "@jupyter-widgets/controls",
          "model_name": "FloatProgressModel",
          "model_module_version": "1.5.0",
          "state": {
            "_dom_classes": [],
            "_model_module": "@jupyter-widgets/controls",
            "_model_module_version": "1.5.0",
            "_model_name": "FloatProgressModel",
            "_view_count": null,
            "_view_module": "@jupyter-widgets/controls",
            "_view_module_version": "1.5.0",
            "_view_name": "ProgressView",
            "bar_style": "success",
            "description": "",
            "description_tooltip": null,
            "layout": "IPY_MODEL_e87090fcf58c4f98944839c65d3d6fe9",
            "max": 313,
            "min": 0,
            "orientation": "horizontal",
            "style": "IPY_MODEL_b5e6fe6f2c6041089f4f5d59d8d9d04d",
            "value": 313
          }
        },
        "0aadfcd2f131459ba12b79411c67de62": {
          "model_module": "@jupyter-widgets/controls",
          "model_name": "HTMLModel",
          "model_module_version": "1.5.0",
          "state": {
            "_dom_classes": [],
            "_model_module": "@jupyter-widgets/controls",
            "_model_module_version": "1.5.0",
            "_model_name": "HTMLModel",
            "_view_count": null,
            "_view_module": "@jupyter-widgets/controls",
            "_view_module_version": "1.5.0",
            "_view_name": "HTMLView",
            "description": "",
            "description_tooltip": null,
            "layout": "IPY_MODEL_1c14639021a14f809fb2eb4d89ec577c",
            "placeholder": "​",
            "style": "IPY_MODEL_5ef6eed13e384679b710298180516a34",
            "value": " 313/313 [00:05&lt;00:00, 47.25it/s]"
          }
        },
        "dbec4e80e7e44b3a8167897c83bd03bc": {
          "model_module": "@jupyter-widgets/base",
          "model_name": "LayoutModel",
          "model_module_version": "1.2.0",
          "state": {
            "_model_module": "@jupyter-widgets/base",
            "_model_module_version": "1.2.0",
            "_model_name": "LayoutModel",
            "_view_count": null,
            "_view_module": "@jupyter-widgets/base",
            "_view_module_version": "1.2.0",
            "_view_name": "LayoutView",
            "align_content": null,
            "align_items": null,
            "align_self": null,
            "border": null,
            "bottom": null,
            "display": null,
            "flex": null,
            "flex_flow": null,
            "grid_area": null,
            "grid_auto_columns": null,
            "grid_auto_flow": null,
            "grid_auto_rows": null,
            "grid_column": null,
            "grid_gap": null,
            "grid_row": null,
            "grid_template_areas": null,
            "grid_template_columns": null,
            "grid_template_rows": null,
            "height": null,
            "justify_content": null,
            "justify_items": null,
            "left": null,
            "margin": null,
            "max_height": null,
            "max_width": null,
            "min_height": null,
            "min_width": null,
            "object_fit": null,
            "object_position": null,
            "order": null,
            "overflow": null,
            "overflow_x": null,
            "overflow_y": null,
            "padding": null,
            "right": null,
            "top": null,
            "visibility": null,
            "width": null
          }
        },
        "c25db8ba7e45411396079bb46f5d80d9": {
          "model_module": "@jupyter-widgets/base",
          "model_name": "LayoutModel",
          "model_module_version": "1.2.0",
          "state": {
            "_model_module": "@jupyter-widgets/base",
            "_model_module_version": "1.2.0",
            "_model_name": "LayoutModel",
            "_view_count": null,
            "_view_module": "@jupyter-widgets/base",
            "_view_module_version": "1.2.0",
            "_view_name": "LayoutView",
            "align_content": null,
            "align_items": null,
            "align_self": null,
            "border": null,
            "bottom": null,
            "display": null,
            "flex": null,
            "flex_flow": null,
            "grid_area": null,
            "grid_auto_columns": null,
            "grid_auto_flow": null,
            "grid_auto_rows": null,
            "grid_column": null,
            "grid_gap": null,
            "grid_row": null,
            "grid_template_areas": null,
            "grid_template_columns": null,
            "grid_template_rows": null,
            "height": null,
            "justify_content": null,
            "justify_items": null,
            "left": null,
            "margin": null,
            "max_height": null,
            "max_width": null,
            "min_height": null,
            "min_width": null,
            "object_fit": null,
            "object_position": null,
            "order": null,
            "overflow": null,
            "overflow_x": null,
            "overflow_y": null,
            "padding": null,
            "right": null,
            "top": null,
            "visibility": null,
            "width": null
          }
        },
        "70441f5ed64041a3b85b9fa4f2708f56": {
          "model_module": "@jupyter-widgets/controls",
          "model_name": "DescriptionStyleModel",
          "model_module_version": "1.5.0",
          "state": {
            "_model_module": "@jupyter-widgets/controls",
            "_model_module_version": "1.5.0",
            "_model_name": "DescriptionStyleModel",
            "_view_count": null,
            "_view_module": "@jupyter-widgets/base",
            "_view_module_version": "1.2.0",
            "_view_name": "StyleView",
            "description_width": ""
          }
        },
        "e87090fcf58c4f98944839c65d3d6fe9": {
          "model_module": "@jupyter-widgets/base",
          "model_name": "LayoutModel",
          "model_module_version": "1.2.0",
          "state": {
            "_model_module": "@jupyter-widgets/base",
            "_model_module_version": "1.2.0",
            "_model_name": "LayoutModel",
            "_view_count": null,
            "_view_module": "@jupyter-widgets/base",
            "_view_module_version": "1.2.0",
            "_view_name": "LayoutView",
            "align_content": null,
            "align_items": null,
            "align_self": null,
            "border": null,
            "bottom": null,
            "display": null,
            "flex": null,
            "flex_flow": null,
            "grid_area": null,
            "grid_auto_columns": null,
            "grid_auto_flow": null,
            "grid_auto_rows": null,
            "grid_column": null,
            "grid_gap": null,
            "grid_row": null,
            "grid_template_areas": null,
            "grid_template_columns": null,
            "grid_template_rows": null,
            "height": null,
            "justify_content": null,
            "justify_items": null,
            "left": null,
            "margin": null,
            "max_height": null,
            "max_width": null,
            "min_height": null,
            "min_width": null,
            "object_fit": null,
            "object_position": null,
            "order": null,
            "overflow": null,
            "overflow_x": null,
            "overflow_y": null,
            "padding": null,
            "right": null,
            "top": null,
            "visibility": null,
            "width": null
          }
        },
        "b5e6fe6f2c6041089f4f5d59d8d9d04d": {
          "model_module": "@jupyter-widgets/controls",
          "model_name": "ProgressStyleModel",
          "model_module_version": "1.5.0",
          "state": {
            "_model_module": "@jupyter-widgets/controls",
            "_model_module_version": "1.5.0",
            "_model_name": "ProgressStyleModel",
            "_view_count": null,
            "_view_module": "@jupyter-widgets/base",
            "_view_module_version": "1.2.0",
            "_view_name": "StyleView",
            "bar_color": null,
            "description_width": ""
          }
        },
        "1c14639021a14f809fb2eb4d89ec577c": {
          "model_module": "@jupyter-widgets/base",
          "model_name": "LayoutModel",
          "model_module_version": "1.2.0",
          "state": {
            "_model_module": "@jupyter-widgets/base",
            "_model_module_version": "1.2.0",
            "_model_name": "LayoutModel",
            "_view_count": null,
            "_view_module": "@jupyter-widgets/base",
            "_view_module_version": "1.2.0",
            "_view_name": "LayoutView",
            "align_content": null,
            "align_items": null,
            "align_self": null,
            "border": null,
            "bottom": null,
            "display": null,
            "flex": null,
            "flex_flow": null,
            "grid_area": null,
            "grid_auto_columns": null,
            "grid_auto_flow": null,
            "grid_auto_rows": null,
            "grid_column": null,
            "grid_gap": null,
            "grid_row": null,
            "grid_template_areas": null,
            "grid_template_columns": null,
            "grid_template_rows": null,
            "height": null,
            "justify_content": null,
            "justify_items": null,
            "left": null,
            "margin": null,
            "max_height": null,
            "max_width": null,
            "min_height": null,
            "min_width": null,
            "object_fit": null,
            "object_position": null,
            "order": null,
            "overflow": null,
            "overflow_x": null,
            "overflow_y": null,
            "padding": null,
            "right": null,
            "top": null,
            "visibility": null,
            "width": null
          }
        },
        "5ef6eed13e384679b710298180516a34": {
          "model_module": "@jupyter-widgets/controls",
          "model_name": "DescriptionStyleModel",
          "model_module_version": "1.5.0",
          "state": {
            "_model_module": "@jupyter-widgets/controls",
            "_model_module_version": "1.5.0",
            "_model_name": "DescriptionStyleModel",
            "_view_count": null,
            "_view_module": "@jupyter-widgets/base",
            "_view_module_version": "1.2.0",
            "_view_name": "StyleView",
            "description_width": ""
          }
        },
        "ffed3f968a3a4e2f948c24dd07146554": {
          "model_module": "@jupyter-widgets/controls",
          "model_name": "HBoxModel",
          "model_module_version": "1.5.0",
          "state": {
            "_dom_classes": [],
            "_model_module": "@jupyter-widgets/controls",
            "_model_module_version": "1.5.0",
            "_model_name": "HBoxModel",
            "_view_count": null,
            "_view_module": "@jupyter-widgets/controls",
            "_view_module_version": "1.5.0",
            "_view_name": "HBoxView",
            "box_style": "",
            "children": [
              "IPY_MODEL_320bda31aa0147f0bb51ca71fcaa74a0",
              "IPY_MODEL_7758ff280f244656a32fb2eb06202b9f",
              "IPY_MODEL_58a6e52df95941c9ae08bf4961d2a349"
            ],
            "layout": "IPY_MODEL_56a58863972345fa8cc26149bffc9f8d"
          }
        },
        "320bda31aa0147f0bb51ca71fcaa74a0": {
          "model_module": "@jupyter-widgets/controls",
          "model_name": "HTMLModel",
          "model_module_version": "1.5.0",
          "state": {
            "_dom_classes": [],
            "_model_module": "@jupyter-widgets/controls",
            "_model_module_version": "1.5.0",
            "_model_name": "HTMLModel",
            "_view_count": null,
            "_view_module": "@jupyter-widgets/controls",
            "_view_module_version": "1.5.0",
            "_view_name": "HTMLView",
            "description": "",
            "description_tooltip": null,
            "layout": "IPY_MODEL_f941d57da8bd4a0a964b264c670202de",
            "placeholder": "​",
            "style": "IPY_MODEL_469e3ded2c8a4194b0fe0bf47cd12637",
            "value": "100%"
          }
        },
        "7758ff280f244656a32fb2eb06202b9f": {
          "model_module": "@jupyter-widgets/controls",
          "model_name": "FloatProgressModel",
          "model_module_version": "1.5.0",
          "state": {
            "_dom_classes": [],
            "_model_module": "@jupyter-widgets/controls",
            "_model_module_version": "1.5.0",
            "_model_name": "FloatProgressModel",
            "_view_count": null,
            "_view_module": "@jupyter-widgets/controls",
            "_view_module_version": "1.5.0",
            "_view_name": "ProgressView",
            "bar_style": "success",
            "description": "",
            "description_tooltip": null,
            "layout": "IPY_MODEL_f8a79f9cf8a4420c883e4c4efe049122",
            "max": 313,
            "min": 0,
            "orientation": "horizontal",
            "style": "IPY_MODEL_967ab0a5e96e464f84923436ca3fefcc",
            "value": 313
          }
        },
        "58a6e52df95941c9ae08bf4961d2a349": {
          "model_module": "@jupyter-widgets/controls",
          "model_name": "HTMLModel",
          "model_module_version": "1.5.0",
          "state": {
            "_dom_classes": [],
            "_model_module": "@jupyter-widgets/controls",
            "_model_module_version": "1.5.0",
            "_model_name": "HTMLModel",
            "_view_count": null,
            "_view_module": "@jupyter-widgets/controls",
            "_view_module_version": "1.5.0",
            "_view_name": "HTMLView",
            "description": "",
            "description_tooltip": null,
            "layout": "IPY_MODEL_b443da198e764d48b08a3b470e376d3b",
            "placeholder": "​",
            "style": "IPY_MODEL_e2afe63194ef46f19c33cb7d7f6f962d",
            "value": " 313/313 [00:09&lt;00:00, 38.28it/s]"
          }
        },
        "56a58863972345fa8cc26149bffc9f8d": {
          "model_module": "@jupyter-widgets/base",
          "model_name": "LayoutModel",
          "model_module_version": "1.2.0",
          "state": {
            "_model_module": "@jupyter-widgets/base",
            "_model_module_version": "1.2.0",
            "_model_name": "LayoutModel",
            "_view_count": null,
            "_view_module": "@jupyter-widgets/base",
            "_view_module_version": "1.2.0",
            "_view_name": "LayoutView",
            "align_content": null,
            "align_items": null,
            "align_self": null,
            "border": null,
            "bottom": null,
            "display": null,
            "flex": null,
            "flex_flow": null,
            "grid_area": null,
            "grid_auto_columns": null,
            "grid_auto_flow": null,
            "grid_auto_rows": null,
            "grid_column": null,
            "grid_gap": null,
            "grid_row": null,
            "grid_template_areas": null,
            "grid_template_columns": null,
            "grid_template_rows": null,
            "height": null,
            "justify_content": null,
            "justify_items": null,
            "left": null,
            "margin": null,
            "max_height": null,
            "max_width": null,
            "min_height": null,
            "min_width": null,
            "object_fit": null,
            "object_position": null,
            "order": null,
            "overflow": null,
            "overflow_x": null,
            "overflow_y": null,
            "padding": null,
            "right": null,
            "top": null,
            "visibility": null,
            "width": null
          }
        },
        "f941d57da8bd4a0a964b264c670202de": {
          "model_module": "@jupyter-widgets/base",
          "model_name": "LayoutModel",
          "model_module_version": "1.2.0",
          "state": {
            "_model_module": "@jupyter-widgets/base",
            "_model_module_version": "1.2.0",
            "_model_name": "LayoutModel",
            "_view_count": null,
            "_view_module": "@jupyter-widgets/base",
            "_view_module_version": "1.2.0",
            "_view_name": "LayoutView",
            "align_content": null,
            "align_items": null,
            "align_self": null,
            "border": null,
            "bottom": null,
            "display": null,
            "flex": null,
            "flex_flow": null,
            "grid_area": null,
            "grid_auto_columns": null,
            "grid_auto_flow": null,
            "grid_auto_rows": null,
            "grid_column": null,
            "grid_gap": null,
            "grid_row": null,
            "grid_template_areas": null,
            "grid_template_columns": null,
            "grid_template_rows": null,
            "height": null,
            "justify_content": null,
            "justify_items": null,
            "left": null,
            "margin": null,
            "max_height": null,
            "max_width": null,
            "min_height": null,
            "min_width": null,
            "object_fit": null,
            "object_position": null,
            "order": null,
            "overflow": null,
            "overflow_x": null,
            "overflow_y": null,
            "padding": null,
            "right": null,
            "top": null,
            "visibility": null,
            "width": null
          }
        },
        "469e3ded2c8a4194b0fe0bf47cd12637": {
          "model_module": "@jupyter-widgets/controls",
          "model_name": "DescriptionStyleModel",
          "model_module_version": "1.5.0",
          "state": {
            "_model_module": "@jupyter-widgets/controls",
            "_model_module_version": "1.5.0",
            "_model_name": "DescriptionStyleModel",
            "_view_count": null,
            "_view_module": "@jupyter-widgets/base",
            "_view_module_version": "1.2.0",
            "_view_name": "StyleView",
            "description_width": ""
          }
        },
        "f8a79f9cf8a4420c883e4c4efe049122": {
          "model_module": "@jupyter-widgets/base",
          "model_name": "LayoutModel",
          "model_module_version": "1.2.0",
          "state": {
            "_model_module": "@jupyter-widgets/base",
            "_model_module_version": "1.2.0",
            "_model_name": "LayoutModel",
            "_view_count": null,
            "_view_module": "@jupyter-widgets/base",
            "_view_module_version": "1.2.0",
            "_view_name": "LayoutView",
            "align_content": null,
            "align_items": null,
            "align_self": null,
            "border": null,
            "bottom": null,
            "display": null,
            "flex": null,
            "flex_flow": null,
            "grid_area": null,
            "grid_auto_columns": null,
            "grid_auto_flow": null,
            "grid_auto_rows": null,
            "grid_column": null,
            "grid_gap": null,
            "grid_row": null,
            "grid_template_areas": null,
            "grid_template_columns": null,
            "grid_template_rows": null,
            "height": null,
            "justify_content": null,
            "justify_items": null,
            "left": null,
            "margin": null,
            "max_height": null,
            "max_width": null,
            "min_height": null,
            "min_width": null,
            "object_fit": null,
            "object_position": null,
            "order": null,
            "overflow": null,
            "overflow_x": null,
            "overflow_y": null,
            "padding": null,
            "right": null,
            "top": null,
            "visibility": null,
            "width": null
          }
        },
        "967ab0a5e96e464f84923436ca3fefcc": {
          "model_module": "@jupyter-widgets/controls",
          "model_name": "ProgressStyleModel",
          "model_module_version": "1.5.0",
          "state": {
            "_model_module": "@jupyter-widgets/controls",
            "_model_module_version": "1.5.0",
            "_model_name": "ProgressStyleModel",
            "_view_count": null,
            "_view_module": "@jupyter-widgets/base",
            "_view_module_version": "1.2.0",
            "_view_name": "StyleView",
            "bar_color": null,
            "description_width": ""
          }
        },
        "b443da198e764d48b08a3b470e376d3b": {
          "model_module": "@jupyter-widgets/base",
          "model_name": "LayoutModel",
          "model_module_version": "1.2.0",
          "state": {
            "_model_module": "@jupyter-widgets/base",
            "_model_module_version": "1.2.0",
            "_model_name": "LayoutModel",
            "_view_count": null,
            "_view_module": "@jupyter-widgets/base",
            "_view_module_version": "1.2.0",
            "_view_name": "LayoutView",
            "align_content": null,
            "align_items": null,
            "align_self": null,
            "border": null,
            "bottom": null,
            "display": null,
            "flex": null,
            "flex_flow": null,
            "grid_area": null,
            "grid_auto_columns": null,
            "grid_auto_flow": null,
            "grid_auto_rows": null,
            "grid_column": null,
            "grid_gap": null,
            "grid_row": null,
            "grid_template_areas": null,
            "grid_template_columns": null,
            "grid_template_rows": null,
            "height": null,
            "justify_content": null,
            "justify_items": null,
            "left": null,
            "margin": null,
            "max_height": null,
            "max_width": null,
            "min_height": null,
            "min_width": null,
            "object_fit": null,
            "object_position": null,
            "order": null,
            "overflow": null,
            "overflow_x": null,
            "overflow_y": null,
            "padding": null,
            "right": null,
            "top": null,
            "visibility": null,
            "width": null
          }
        },
        "e2afe63194ef46f19c33cb7d7f6f962d": {
          "model_module": "@jupyter-widgets/controls",
          "model_name": "DescriptionStyleModel",
          "model_module_version": "1.5.0",
          "state": {
            "_model_module": "@jupyter-widgets/controls",
            "_model_module_version": "1.5.0",
            "_model_name": "DescriptionStyleModel",
            "_view_count": null,
            "_view_module": "@jupyter-widgets/base",
            "_view_module_version": "1.2.0",
            "_view_name": "StyleView",
            "description_width": ""
          }
        },
        "03b9a730c5b14796af184b1e000065ef": {
          "model_module": "@jupyter-widgets/controls",
          "model_name": "HBoxModel",
          "model_module_version": "1.5.0",
          "state": {
            "_dom_classes": [],
            "_model_module": "@jupyter-widgets/controls",
            "_model_module_version": "1.5.0",
            "_model_name": "HBoxModel",
            "_view_count": null,
            "_view_module": "@jupyter-widgets/controls",
            "_view_module_version": "1.5.0",
            "_view_name": "HBoxView",
            "box_style": "",
            "children": [
              "IPY_MODEL_53d44402a01b4c3c84794f3221fa938c",
              "IPY_MODEL_a19f2465757742a0bdc5efeff126b11c",
              "IPY_MODEL_5d9d96a1dc13420189bc186396475abf"
            ],
            "layout": "IPY_MODEL_45721bd8f4e24f8492c04892666788aa"
          }
        },
        "53d44402a01b4c3c84794f3221fa938c": {
          "model_module": "@jupyter-widgets/controls",
          "model_name": "HTMLModel",
          "model_module_version": "1.5.0",
          "state": {
            "_dom_classes": [],
            "_model_module": "@jupyter-widgets/controls",
            "_model_module_version": "1.5.0",
            "_model_name": "HTMLModel",
            "_view_count": null,
            "_view_module": "@jupyter-widgets/controls",
            "_view_module_version": "1.5.0",
            "_view_name": "HTMLView",
            "description": "",
            "description_tooltip": null,
            "layout": "IPY_MODEL_4121c31d38c54e74b0018966918125fc",
            "placeholder": "​",
            "style": "IPY_MODEL_cf6c73fe937d4dfba8b1ffc50ee608e1",
            "value": "100%"
          }
        },
        "a19f2465757742a0bdc5efeff126b11c": {
          "model_module": "@jupyter-widgets/controls",
          "model_name": "FloatProgressModel",
          "model_module_version": "1.5.0",
          "state": {
            "_dom_classes": [],
            "_model_module": "@jupyter-widgets/controls",
            "_model_module_version": "1.5.0",
            "_model_name": "FloatProgressModel",
            "_view_count": null,
            "_view_module": "@jupyter-widgets/controls",
            "_view_module_version": "1.5.0",
            "_view_name": "ProgressView",
            "bar_style": "success",
            "description": "",
            "description_tooltip": null,
            "layout": "IPY_MODEL_922c660d8bb64a70bed55dc373cd3a1b",
            "max": 5,
            "min": 0,
            "orientation": "horizontal",
            "style": "IPY_MODEL_4ffbaceafb5d4f49a0700720a8588301",
            "value": 5
          }
        },
        "5d9d96a1dc13420189bc186396475abf": {
          "model_module": "@jupyter-widgets/controls",
          "model_name": "HTMLModel",
          "model_module_version": "1.5.0",
          "state": {
            "_dom_classes": [],
            "_model_module": "@jupyter-widgets/controls",
            "_model_module_version": "1.5.0",
            "_model_name": "HTMLModel",
            "_view_count": null,
            "_view_module": "@jupyter-widgets/controls",
            "_view_module_version": "1.5.0",
            "_view_name": "HTMLView",
            "description": "",
            "description_tooltip": null,
            "layout": "IPY_MODEL_5d35b957c5e442679aed6b2487d4ed44",
            "placeholder": "​",
            "style": "IPY_MODEL_f9b6baa9c85a43c7968d5ead41eaaf11",
            "value": " 5/5 [03:55&lt;00:00, 47.26s/it]"
          }
        },
        "45721bd8f4e24f8492c04892666788aa": {
          "model_module": "@jupyter-widgets/base",
          "model_name": "LayoutModel",
          "model_module_version": "1.2.0",
          "state": {
            "_model_module": "@jupyter-widgets/base",
            "_model_module_version": "1.2.0",
            "_model_name": "LayoutModel",
            "_view_count": null,
            "_view_module": "@jupyter-widgets/base",
            "_view_module_version": "1.2.0",
            "_view_name": "LayoutView",
            "align_content": null,
            "align_items": null,
            "align_self": null,
            "border": null,
            "bottom": null,
            "display": null,
            "flex": null,
            "flex_flow": null,
            "grid_area": null,
            "grid_auto_columns": null,
            "grid_auto_flow": null,
            "grid_auto_rows": null,
            "grid_column": null,
            "grid_gap": null,
            "grid_row": null,
            "grid_template_areas": null,
            "grid_template_columns": null,
            "grid_template_rows": null,
            "height": null,
            "justify_content": null,
            "justify_items": null,
            "left": null,
            "margin": null,
            "max_height": null,
            "max_width": null,
            "min_height": null,
            "min_width": null,
            "object_fit": null,
            "object_position": null,
            "order": null,
            "overflow": null,
            "overflow_x": null,
            "overflow_y": null,
            "padding": null,
            "right": null,
            "top": null,
            "visibility": null,
            "width": null
          }
        },
        "4121c31d38c54e74b0018966918125fc": {
          "model_module": "@jupyter-widgets/base",
          "model_name": "LayoutModel",
          "model_module_version": "1.2.0",
          "state": {
            "_model_module": "@jupyter-widgets/base",
            "_model_module_version": "1.2.0",
            "_model_name": "LayoutModel",
            "_view_count": null,
            "_view_module": "@jupyter-widgets/base",
            "_view_module_version": "1.2.0",
            "_view_name": "LayoutView",
            "align_content": null,
            "align_items": null,
            "align_self": null,
            "border": null,
            "bottom": null,
            "display": null,
            "flex": null,
            "flex_flow": null,
            "grid_area": null,
            "grid_auto_columns": null,
            "grid_auto_flow": null,
            "grid_auto_rows": null,
            "grid_column": null,
            "grid_gap": null,
            "grid_row": null,
            "grid_template_areas": null,
            "grid_template_columns": null,
            "grid_template_rows": null,
            "height": null,
            "justify_content": null,
            "justify_items": null,
            "left": null,
            "margin": null,
            "max_height": null,
            "max_width": null,
            "min_height": null,
            "min_width": null,
            "object_fit": null,
            "object_position": null,
            "order": null,
            "overflow": null,
            "overflow_x": null,
            "overflow_y": null,
            "padding": null,
            "right": null,
            "top": null,
            "visibility": null,
            "width": null
          }
        },
        "cf6c73fe937d4dfba8b1ffc50ee608e1": {
          "model_module": "@jupyter-widgets/controls",
          "model_name": "DescriptionStyleModel",
          "model_module_version": "1.5.0",
          "state": {
            "_model_module": "@jupyter-widgets/controls",
            "_model_module_version": "1.5.0",
            "_model_name": "DescriptionStyleModel",
            "_view_count": null,
            "_view_module": "@jupyter-widgets/base",
            "_view_module_version": "1.2.0",
            "_view_name": "StyleView",
            "description_width": ""
          }
        },
        "922c660d8bb64a70bed55dc373cd3a1b": {
          "model_module": "@jupyter-widgets/base",
          "model_name": "LayoutModel",
          "model_module_version": "1.2.0",
          "state": {
            "_model_module": "@jupyter-widgets/base",
            "_model_module_version": "1.2.0",
            "_model_name": "LayoutModel",
            "_view_count": null,
            "_view_module": "@jupyter-widgets/base",
            "_view_module_version": "1.2.0",
            "_view_name": "LayoutView",
            "align_content": null,
            "align_items": null,
            "align_self": null,
            "border": null,
            "bottom": null,
            "display": null,
            "flex": null,
            "flex_flow": null,
            "grid_area": null,
            "grid_auto_columns": null,
            "grid_auto_flow": null,
            "grid_auto_rows": null,
            "grid_column": null,
            "grid_gap": null,
            "grid_row": null,
            "grid_template_areas": null,
            "grid_template_columns": null,
            "grid_template_rows": null,
            "height": null,
            "justify_content": null,
            "justify_items": null,
            "left": null,
            "margin": null,
            "max_height": null,
            "max_width": null,
            "min_height": null,
            "min_width": null,
            "object_fit": null,
            "object_position": null,
            "order": null,
            "overflow": null,
            "overflow_x": null,
            "overflow_y": null,
            "padding": null,
            "right": null,
            "top": null,
            "visibility": null,
            "width": null
          }
        },
        "4ffbaceafb5d4f49a0700720a8588301": {
          "model_module": "@jupyter-widgets/controls",
          "model_name": "ProgressStyleModel",
          "model_module_version": "1.5.0",
          "state": {
            "_model_module": "@jupyter-widgets/controls",
            "_model_module_version": "1.5.0",
            "_model_name": "ProgressStyleModel",
            "_view_count": null,
            "_view_module": "@jupyter-widgets/base",
            "_view_module_version": "1.2.0",
            "_view_name": "StyleView",
            "bar_color": null,
            "description_width": ""
          }
        },
        "5d35b957c5e442679aed6b2487d4ed44": {
          "model_module": "@jupyter-widgets/base",
          "model_name": "LayoutModel",
          "model_module_version": "1.2.0",
          "state": {
            "_model_module": "@jupyter-widgets/base",
            "_model_module_version": "1.2.0",
            "_model_name": "LayoutModel",
            "_view_count": null,
            "_view_module": "@jupyter-widgets/base",
            "_view_module_version": "1.2.0",
            "_view_name": "LayoutView",
            "align_content": null,
            "align_items": null,
            "align_self": null,
            "border": null,
            "bottom": null,
            "display": null,
            "flex": null,
            "flex_flow": null,
            "grid_area": null,
            "grid_auto_columns": null,
            "grid_auto_flow": null,
            "grid_auto_rows": null,
            "grid_column": null,
            "grid_gap": null,
            "grid_row": null,
            "grid_template_areas": null,
            "grid_template_columns": null,
            "grid_template_rows": null,
            "height": null,
            "justify_content": null,
            "justify_items": null,
            "left": null,
            "margin": null,
            "max_height": null,
            "max_width": null,
            "min_height": null,
            "min_width": null,
            "object_fit": null,
            "object_position": null,
            "order": null,
            "overflow": null,
            "overflow_x": null,
            "overflow_y": null,
            "padding": null,
            "right": null,
            "top": null,
            "visibility": null,
            "width": null
          }
        },
        "f9b6baa9c85a43c7968d5ead41eaaf11": {
          "model_module": "@jupyter-widgets/controls",
          "model_name": "DescriptionStyleModel",
          "model_module_version": "1.5.0",
          "state": {
            "_model_module": "@jupyter-widgets/controls",
            "_model_module_version": "1.5.0",
            "_model_name": "DescriptionStyleModel",
            "_view_count": null,
            "_view_module": "@jupyter-widgets/base",
            "_view_module_version": "1.2.0",
            "_view_name": "StyleView",
            "description_width": ""
          }
        },
        "52f03d323335486bb666c8bfbc4cbd7e": {
          "model_module": "@jupyter-widgets/controls",
          "model_name": "HBoxModel",
          "model_module_version": "1.5.0",
          "state": {
            "_dom_classes": [],
            "_model_module": "@jupyter-widgets/controls",
            "_model_module_version": "1.5.0",
            "_model_name": "HBoxModel",
            "_view_count": null,
            "_view_module": "@jupyter-widgets/controls",
            "_view_module_version": "1.5.0",
            "_view_name": "HBoxView",
            "box_style": "",
            "children": [
              "IPY_MODEL_887e03cf926d4c029d435782074f19b3",
              "IPY_MODEL_b9fcc2a05c1c401ab886bf32a407bbcb",
              "IPY_MODEL_afa7d6e83135436baac6cdda525389db"
            ],
            "layout": "IPY_MODEL_003c105be83f4b1fa6b2666ec5796f16"
          }
        },
        "887e03cf926d4c029d435782074f19b3": {
          "model_module": "@jupyter-widgets/controls",
          "model_name": "HTMLModel",
          "model_module_version": "1.5.0",
          "state": {
            "_dom_classes": [],
            "_model_module": "@jupyter-widgets/controls",
            "_model_module_version": "1.5.0",
            "_model_name": "HTMLModel",
            "_view_count": null,
            "_view_module": "@jupyter-widgets/controls",
            "_view_module_version": "1.5.0",
            "_view_name": "HTMLView",
            "description": "",
            "description_tooltip": null,
            "layout": "IPY_MODEL_e36f33bbbc9b419189027c73d1b1df7a",
            "placeholder": "​",
            "style": "IPY_MODEL_9fe0f981cfe34293bbc71e6d4763aa87",
            "value": "100%"
          }
        },
        "b9fcc2a05c1c401ab886bf32a407bbcb": {
          "model_module": "@jupyter-widgets/controls",
          "model_name": "FloatProgressModel",
          "model_module_version": "1.5.0",
          "state": {
            "_dom_classes": [],
            "_model_module": "@jupyter-widgets/controls",
            "_model_module_version": "1.5.0",
            "_model_name": "FloatProgressModel",
            "_view_count": null,
            "_view_module": "@jupyter-widgets/controls",
            "_view_module_version": "1.5.0",
            "_view_name": "ProgressView",
            "bar_style": "success",
            "description": "",
            "description_tooltip": null,
            "layout": "IPY_MODEL_33277565428746cdb7ffa78663c9f268",
            "max": 313,
            "min": 0,
            "orientation": "horizontal",
            "style": "IPY_MODEL_b8a321e83ffb4170af16e3d115aea9c0",
            "value": 313
          }
        },
        "afa7d6e83135436baac6cdda525389db": {
          "model_module": "@jupyter-widgets/controls",
          "model_name": "HTMLModel",
          "model_module_version": "1.5.0",
          "state": {
            "_dom_classes": [],
            "_model_module": "@jupyter-widgets/controls",
            "_model_module_version": "1.5.0",
            "_model_name": "HTMLModel",
            "_view_count": null,
            "_view_module": "@jupyter-widgets/controls",
            "_view_module_version": "1.5.0",
            "_view_name": "HTMLView",
            "description": "",
            "description_tooltip": null,
            "layout": "IPY_MODEL_2cba83da271c47b68c6c4c4b6753b268",
            "placeholder": "​",
            "style": "IPY_MODEL_94b457b053984172af0194884dc5f5d9",
            "value": " 313/313 [00:03&lt;00:00, 80.98it/s]"
          }
        },
        "003c105be83f4b1fa6b2666ec5796f16": {
          "model_module": "@jupyter-widgets/base",
          "model_name": "LayoutModel",
          "model_module_version": "1.2.0",
          "state": {
            "_model_module": "@jupyter-widgets/base",
            "_model_module_version": "1.2.0",
            "_model_name": "LayoutModel",
            "_view_count": null,
            "_view_module": "@jupyter-widgets/base",
            "_view_module_version": "1.2.0",
            "_view_name": "LayoutView",
            "align_content": null,
            "align_items": null,
            "align_self": null,
            "border": null,
            "bottom": null,
            "display": null,
            "flex": null,
            "flex_flow": null,
            "grid_area": null,
            "grid_auto_columns": null,
            "grid_auto_flow": null,
            "grid_auto_rows": null,
            "grid_column": null,
            "grid_gap": null,
            "grid_row": null,
            "grid_template_areas": null,
            "grid_template_columns": null,
            "grid_template_rows": null,
            "height": null,
            "justify_content": null,
            "justify_items": null,
            "left": null,
            "margin": null,
            "max_height": null,
            "max_width": null,
            "min_height": null,
            "min_width": null,
            "object_fit": null,
            "object_position": null,
            "order": null,
            "overflow": null,
            "overflow_x": null,
            "overflow_y": null,
            "padding": null,
            "right": null,
            "top": null,
            "visibility": null,
            "width": null
          }
        },
        "e36f33bbbc9b419189027c73d1b1df7a": {
          "model_module": "@jupyter-widgets/base",
          "model_name": "LayoutModel",
          "model_module_version": "1.2.0",
          "state": {
            "_model_module": "@jupyter-widgets/base",
            "_model_module_version": "1.2.0",
            "_model_name": "LayoutModel",
            "_view_count": null,
            "_view_module": "@jupyter-widgets/base",
            "_view_module_version": "1.2.0",
            "_view_name": "LayoutView",
            "align_content": null,
            "align_items": null,
            "align_self": null,
            "border": null,
            "bottom": null,
            "display": null,
            "flex": null,
            "flex_flow": null,
            "grid_area": null,
            "grid_auto_columns": null,
            "grid_auto_flow": null,
            "grid_auto_rows": null,
            "grid_column": null,
            "grid_gap": null,
            "grid_row": null,
            "grid_template_areas": null,
            "grid_template_columns": null,
            "grid_template_rows": null,
            "height": null,
            "justify_content": null,
            "justify_items": null,
            "left": null,
            "margin": null,
            "max_height": null,
            "max_width": null,
            "min_height": null,
            "min_width": null,
            "object_fit": null,
            "object_position": null,
            "order": null,
            "overflow": null,
            "overflow_x": null,
            "overflow_y": null,
            "padding": null,
            "right": null,
            "top": null,
            "visibility": null,
            "width": null
          }
        },
        "9fe0f981cfe34293bbc71e6d4763aa87": {
          "model_module": "@jupyter-widgets/controls",
          "model_name": "DescriptionStyleModel",
          "model_module_version": "1.5.0",
          "state": {
            "_model_module": "@jupyter-widgets/controls",
            "_model_module_version": "1.5.0",
            "_model_name": "DescriptionStyleModel",
            "_view_count": null,
            "_view_module": "@jupyter-widgets/base",
            "_view_module_version": "1.2.0",
            "_view_name": "StyleView",
            "description_width": ""
          }
        },
        "33277565428746cdb7ffa78663c9f268": {
          "model_module": "@jupyter-widgets/base",
          "model_name": "LayoutModel",
          "model_module_version": "1.2.0",
          "state": {
            "_model_module": "@jupyter-widgets/base",
            "_model_module_version": "1.2.0",
            "_model_name": "LayoutModel",
            "_view_count": null,
            "_view_module": "@jupyter-widgets/base",
            "_view_module_version": "1.2.0",
            "_view_name": "LayoutView",
            "align_content": null,
            "align_items": null,
            "align_self": null,
            "border": null,
            "bottom": null,
            "display": null,
            "flex": null,
            "flex_flow": null,
            "grid_area": null,
            "grid_auto_columns": null,
            "grid_auto_flow": null,
            "grid_auto_rows": null,
            "grid_column": null,
            "grid_gap": null,
            "grid_row": null,
            "grid_template_areas": null,
            "grid_template_columns": null,
            "grid_template_rows": null,
            "height": null,
            "justify_content": null,
            "justify_items": null,
            "left": null,
            "margin": null,
            "max_height": null,
            "max_width": null,
            "min_height": null,
            "min_width": null,
            "object_fit": null,
            "object_position": null,
            "order": null,
            "overflow": null,
            "overflow_x": null,
            "overflow_y": null,
            "padding": null,
            "right": null,
            "top": null,
            "visibility": null,
            "width": null
          }
        },
        "b8a321e83ffb4170af16e3d115aea9c0": {
          "model_module": "@jupyter-widgets/controls",
          "model_name": "ProgressStyleModel",
          "model_module_version": "1.5.0",
          "state": {
            "_model_module": "@jupyter-widgets/controls",
            "_model_module_version": "1.5.0",
            "_model_name": "ProgressStyleModel",
            "_view_count": null,
            "_view_module": "@jupyter-widgets/base",
            "_view_module_version": "1.2.0",
            "_view_name": "StyleView",
            "bar_color": null,
            "description_width": ""
          }
        },
        "2cba83da271c47b68c6c4c4b6753b268": {
          "model_module": "@jupyter-widgets/base",
          "model_name": "LayoutModel",
          "model_module_version": "1.2.0",
          "state": {
            "_model_module": "@jupyter-widgets/base",
            "_model_module_version": "1.2.0",
            "_model_name": "LayoutModel",
            "_view_count": null,
            "_view_module": "@jupyter-widgets/base",
            "_view_module_version": "1.2.0",
            "_view_name": "LayoutView",
            "align_content": null,
            "align_items": null,
            "align_self": null,
            "border": null,
            "bottom": null,
            "display": null,
            "flex": null,
            "flex_flow": null,
            "grid_area": null,
            "grid_auto_columns": null,
            "grid_auto_flow": null,
            "grid_auto_rows": null,
            "grid_column": null,
            "grid_gap": null,
            "grid_row": null,
            "grid_template_areas": null,
            "grid_template_columns": null,
            "grid_template_rows": null,
            "height": null,
            "justify_content": null,
            "justify_items": null,
            "left": null,
            "margin": null,
            "max_height": null,
            "max_width": null,
            "min_height": null,
            "min_width": null,
            "object_fit": null,
            "object_position": null,
            "order": null,
            "overflow": null,
            "overflow_x": null,
            "overflow_y": null,
            "padding": null,
            "right": null,
            "top": null,
            "visibility": null,
            "width": null
          }
        },
        "94b457b053984172af0194884dc5f5d9": {
          "model_module": "@jupyter-widgets/controls",
          "model_name": "DescriptionStyleModel",
          "model_module_version": "1.5.0",
          "state": {
            "_model_module": "@jupyter-widgets/controls",
            "_model_module_version": "1.5.0",
            "_model_name": "DescriptionStyleModel",
            "_view_count": null,
            "_view_module": "@jupyter-widgets/base",
            "_view_module_version": "1.2.0",
            "_view_name": "StyleView",
            "description_width": ""
          }
        },
        "b783193e38964b46adfe0524885b06f7": {
          "model_module": "@jupyter-widgets/controls",
          "model_name": "HBoxModel",
          "model_module_version": "1.5.0",
          "state": {
            "_dom_classes": [],
            "_model_module": "@jupyter-widgets/controls",
            "_model_module_version": "1.5.0",
            "_model_name": "HBoxModel",
            "_view_count": null,
            "_view_module": "@jupyter-widgets/controls",
            "_view_module_version": "1.5.0",
            "_view_name": "HBoxView",
            "box_style": "",
            "children": [
              "IPY_MODEL_d569e132fa614bacad52df10682ceb25",
              "IPY_MODEL_e0cdd1d094d047e3b03cc7c71d08eb1b",
              "IPY_MODEL_def6dc15ff7745e2a6451c4c96985734"
            ],
            "layout": "IPY_MODEL_282ae4eeb8ab4179b2fe23e3568c81b7"
          }
        },
        "d569e132fa614bacad52df10682ceb25": {
          "model_module": "@jupyter-widgets/controls",
          "model_name": "HTMLModel",
          "model_module_version": "1.5.0",
          "state": {
            "_dom_classes": [],
            "_model_module": "@jupyter-widgets/controls",
            "_model_module_version": "1.5.0",
            "_model_name": "HTMLModel",
            "_view_count": null,
            "_view_module": "@jupyter-widgets/controls",
            "_view_module_version": "1.5.0",
            "_view_name": "HTMLView",
            "description": "",
            "description_tooltip": null,
            "layout": "IPY_MODEL_f4cd8df43fbb4f4f86e356fea6c61d7f",
            "placeholder": "​",
            "style": "IPY_MODEL_b3193030de414bf1883aca5a001b42b1",
            "value": "making predictions...: 100%"
          }
        },
        "e0cdd1d094d047e3b03cc7c71d08eb1b": {
          "model_module": "@jupyter-widgets/controls",
          "model_name": "FloatProgressModel",
          "model_module_version": "1.5.0",
          "state": {
            "_dom_classes": [],
            "_model_module": "@jupyter-widgets/controls",
            "_model_module_version": "1.5.0",
            "_model_name": "FloatProgressModel",
            "_view_count": null,
            "_view_module": "@jupyter-widgets/controls",
            "_view_module_version": "1.5.0",
            "_view_name": "ProgressView",
            "bar_style": "success",
            "description": "",
            "description_tooltip": null,
            "layout": "IPY_MODEL_a4b5e28d499b4ad2a41ecef964917e3e",
            "max": 313,
            "min": 0,
            "orientation": "horizontal",
            "style": "IPY_MODEL_154c6ac926754417a97945542070267d",
            "value": 313
          }
        },
        "def6dc15ff7745e2a6451c4c96985734": {
          "model_module": "@jupyter-widgets/controls",
          "model_name": "HTMLModel",
          "model_module_version": "1.5.0",
          "state": {
            "_dom_classes": [],
            "_model_module": "@jupyter-widgets/controls",
            "_model_module_version": "1.5.0",
            "_model_name": "HTMLModel",
            "_view_count": null,
            "_view_module": "@jupyter-widgets/controls",
            "_view_module_version": "1.5.0",
            "_view_name": "HTMLView",
            "description": "",
            "description_tooltip": null,
            "layout": "IPY_MODEL_38fa378fc4bc4d8f9b5681618f8a70cf",
            "placeholder": "​",
            "style": "IPY_MODEL_9734b5e372734baabe00c3d9b05dbad6",
            "value": " 313/313 [00:03&lt;00:00, 85.36it/s]"
          }
        },
        "282ae4eeb8ab4179b2fe23e3568c81b7": {
          "model_module": "@jupyter-widgets/base",
          "model_name": "LayoutModel",
          "model_module_version": "1.2.0",
          "state": {
            "_model_module": "@jupyter-widgets/base",
            "_model_module_version": "1.2.0",
            "_model_name": "LayoutModel",
            "_view_count": null,
            "_view_module": "@jupyter-widgets/base",
            "_view_module_version": "1.2.0",
            "_view_name": "LayoutView",
            "align_content": null,
            "align_items": null,
            "align_self": null,
            "border": null,
            "bottom": null,
            "display": null,
            "flex": null,
            "flex_flow": null,
            "grid_area": null,
            "grid_auto_columns": null,
            "grid_auto_flow": null,
            "grid_auto_rows": null,
            "grid_column": null,
            "grid_gap": null,
            "grid_row": null,
            "grid_template_areas": null,
            "grid_template_columns": null,
            "grid_template_rows": null,
            "height": null,
            "justify_content": null,
            "justify_items": null,
            "left": null,
            "margin": null,
            "max_height": null,
            "max_width": null,
            "min_height": null,
            "min_width": null,
            "object_fit": null,
            "object_position": null,
            "order": null,
            "overflow": null,
            "overflow_x": null,
            "overflow_y": null,
            "padding": null,
            "right": null,
            "top": null,
            "visibility": null,
            "width": null
          }
        },
        "f4cd8df43fbb4f4f86e356fea6c61d7f": {
          "model_module": "@jupyter-widgets/base",
          "model_name": "LayoutModel",
          "model_module_version": "1.2.0",
          "state": {
            "_model_module": "@jupyter-widgets/base",
            "_model_module_version": "1.2.0",
            "_model_name": "LayoutModel",
            "_view_count": null,
            "_view_module": "@jupyter-widgets/base",
            "_view_module_version": "1.2.0",
            "_view_name": "LayoutView",
            "align_content": null,
            "align_items": null,
            "align_self": null,
            "border": null,
            "bottom": null,
            "display": null,
            "flex": null,
            "flex_flow": null,
            "grid_area": null,
            "grid_auto_columns": null,
            "grid_auto_flow": null,
            "grid_auto_rows": null,
            "grid_column": null,
            "grid_gap": null,
            "grid_row": null,
            "grid_template_areas": null,
            "grid_template_columns": null,
            "grid_template_rows": null,
            "height": null,
            "justify_content": null,
            "justify_items": null,
            "left": null,
            "margin": null,
            "max_height": null,
            "max_width": null,
            "min_height": null,
            "min_width": null,
            "object_fit": null,
            "object_position": null,
            "order": null,
            "overflow": null,
            "overflow_x": null,
            "overflow_y": null,
            "padding": null,
            "right": null,
            "top": null,
            "visibility": null,
            "width": null
          }
        },
        "b3193030de414bf1883aca5a001b42b1": {
          "model_module": "@jupyter-widgets/controls",
          "model_name": "DescriptionStyleModel",
          "model_module_version": "1.5.0",
          "state": {
            "_model_module": "@jupyter-widgets/controls",
            "_model_module_version": "1.5.0",
            "_model_name": "DescriptionStyleModel",
            "_view_count": null,
            "_view_module": "@jupyter-widgets/base",
            "_view_module_version": "1.2.0",
            "_view_name": "StyleView",
            "description_width": ""
          }
        },
        "a4b5e28d499b4ad2a41ecef964917e3e": {
          "model_module": "@jupyter-widgets/base",
          "model_name": "LayoutModel",
          "model_module_version": "1.2.0",
          "state": {
            "_model_module": "@jupyter-widgets/base",
            "_model_module_version": "1.2.0",
            "_model_name": "LayoutModel",
            "_view_count": null,
            "_view_module": "@jupyter-widgets/base",
            "_view_module_version": "1.2.0",
            "_view_name": "LayoutView",
            "align_content": null,
            "align_items": null,
            "align_self": null,
            "border": null,
            "bottom": null,
            "display": null,
            "flex": null,
            "flex_flow": null,
            "grid_area": null,
            "grid_auto_columns": null,
            "grid_auto_flow": null,
            "grid_auto_rows": null,
            "grid_column": null,
            "grid_gap": null,
            "grid_row": null,
            "grid_template_areas": null,
            "grid_template_columns": null,
            "grid_template_rows": null,
            "height": null,
            "justify_content": null,
            "justify_items": null,
            "left": null,
            "margin": null,
            "max_height": null,
            "max_width": null,
            "min_height": null,
            "min_width": null,
            "object_fit": null,
            "object_position": null,
            "order": null,
            "overflow": null,
            "overflow_x": null,
            "overflow_y": null,
            "padding": null,
            "right": null,
            "top": null,
            "visibility": null,
            "width": null
          }
        },
        "154c6ac926754417a97945542070267d": {
          "model_module": "@jupyter-widgets/controls",
          "model_name": "ProgressStyleModel",
          "model_module_version": "1.5.0",
          "state": {
            "_model_module": "@jupyter-widgets/controls",
            "_model_module_version": "1.5.0",
            "_model_name": "ProgressStyleModel",
            "_view_count": null,
            "_view_module": "@jupyter-widgets/base",
            "_view_module_version": "1.2.0",
            "_view_name": "StyleView",
            "bar_color": null,
            "description_width": ""
          }
        },
        "38fa378fc4bc4d8f9b5681618f8a70cf": {
          "model_module": "@jupyter-widgets/base",
          "model_name": "LayoutModel",
          "model_module_version": "1.2.0",
          "state": {
            "_model_module": "@jupyter-widgets/base",
            "_model_module_version": "1.2.0",
            "_model_name": "LayoutModel",
            "_view_count": null,
            "_view_module": "@jupyter-widgets/base",
            "_view_module_version": "1.2.0",
            "_view_name": "LayoutView",
            "align_content": null,
            "align_items": null,
            "align_self": null,
            "border": null,
            "bottom": null,
            "display": null,
            "flex": null,
            "flex_flow": null,
            "grid_area": null,
            "grid_auto_columns": null,
            "grid_auto_flow": null,
            "grid_auto_rows": null,
            "grid_column": null,
            "grid_gap": null,
            "grid_row": null,
            "grid_template_areas": null,
            "grid_template_columns": null,
            "grid_template_rows": null,
            "height": null,
            "justify_content": null,
            "justify_items": null,
            "left": null,
            "margin": null,
            "max_height": null,
            "max_width": null,
            "min_height": null,
            "min_width": null,
            "object_fit": null,
            "object_position": null,
            "order": null,
            "overflow": null,
            "overflow_x": null,
            "overflow_y": null,
            "padding": null,
            "right": null,
            "top": null,
            "visibility": null,
            "width": null
          }
        },
        "9734b5e372734baabe00c3d9b05dbad6": {
          "model_module": "@jupyter-widgets/controls",
          "model_name": "DescriptionStyleModel",
          "model_module_version": "1.5.0",
          "state": {
            "_model_module": "@jupyter-widgets/controls",
            "_model_module_version": "1.5.0",
            "_model_name": "DescriptionStyleModel",
            "_view_count": null,
            "_view_module": "@jupyter-widgets/base",
            "_view_module_version": "1.2.0",
            "_view_name": "StyleView",
            "description_width": ""
          }
        }
      }
    }
  },
  "nbformat": 4,
  "nbformat_minor": 0
}