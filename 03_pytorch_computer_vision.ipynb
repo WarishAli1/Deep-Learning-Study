{
  "cells": [
    {
      "cell_type": "markdown",
      "metadata": {
        "id": "view-in-github",
        "colab_type": "text"
      },
      "source": [
        "<a href=\"https://colab.research.google.com/github/WarishAli1/Deep-Learning-Study/blob/main/03_pytorch_computer_vision.ipynb\" target=\"_parent\"><img src=\"https://colab.research.google.com/assets/colab-badge.svg\" alt=\"Open In Colab\"/></a>"
      ]
    },
    {
      "cell_type": "markdown",
      "metadata": {
        "id": "692a8cVEJStE"
      },
      "source": [
        "# pytorch computer vision"
      ]
    },
    {
      "cell_type": "code",
      "source": [],
      "metadata": {
        "id": "Yy7T6mxVU_8M"
      },
      "execution_count": null,
      "outputs": []
    },
    {
      "cell_type": "markdown",
      "metadata": {
        "id": "YE1KA59xJoyw"
      },
      "source": [
        "# 0.  computer vision libraries in pytorch\n",
        "\n",
        "*  `torchvision` - base domain library for pytorch computer vision\n",
        "*  `torchvision.datasets` - get datasets and data loading functions for computer vision here\n",
        "*  `torchvision.models` - get pretrained computer vision models that you can leverage ffor yout own problems\n",
        "*  `torchvision.transforms` - functions for manipulating images to be suitable for use with an ML model\n",
        "*  `torch.utils.data.Dataset` - base dataset class for pytorch\n",
        "*   `torch.utils.data.DataLoader` - creates a python iterable over a dataset"
      ]
    },
    {
      "cell_type": "code",
      "execution_count": 1,
      "metadata": {
        "colab": {
          "base_uri": "https://localhost:8080/"
        },
        "id": "513Ql1ibJpMT",
        "outputId": "66a8f0ed-589c-45b8-c983-e6a2397e8aff"
      },
      "outputs": [
        {
          "output_type": "stream",
          "name": "stdout",
          "text": [
            "2.6.0+cu124\n",
            "0.21.0+cu124\n"
          ]
        }
      ],
      "source": [
        "# import pytorch\n",
        "import torch\n",
        "from torch import nn\n",
        "# import torchvision\n",
        "import torchvision\n",
        "from torchvision import datasets\n",
        "from torchvision import transforms\n",
        "from torchvision.transforms import ToTensor\n",
        "# import matplotlib for visualize\n",
        "import matplotlib.pyplot as plt\n",
        "\n",
        "print(torch.__version__)\n",
        "print(torchvision.__version__)\n"
      ]
    },
    {
      "cell_type": "markdown",
      "metadata": {
        "id": "MrbG92-aJpWe"
      },
      "source": [
        "# getting datasets\n",
        "the dataset we will be using is FashionMNIST  "
      ]
    },
    {
      "cell_type": "code",
      "execution_count": 2,
      "metadata": {
        "colab": {
          "base_uri": "https://localhost:8080/"
        },
        "id": "K1ifDnlYJpgj",
        "outputId": "a49d8ed3-55d1-476c-9542-67648697d287"
      },
      "outputs": [
        {
          "output_type": "stream",
          "name": "stderr",
          "text": [
            "100%|██████████| 26.4M/26.4M [00:02<00:00, 12.7MB/s]\n",
            "100%|██████████| 29.5k/29.5k [00:00<00:00, 200kB/s]\n",
            "100%|██████████| 4.42M/4.42M [00:01<00:00, 3.75MB/s]\n",
            "100%|██████████| 5.15k/5.15k [00:00<00:00, 10.4MB/s]\n"
          ]
        }
      ],
      "source": [
        "train_data = datasets.FashionMNIST(\n",
        "    root=\"data\", # where to download data to?\n",
        "    train=True, # do we want the training dataset?\n",
        "    transform=ToTensor(), # how do we want to transform the data?\n",
        "    target_transform=None, # how do we want to transform the labels/targets?\n",
        "    download=True #do we want to download yes/no?\n",
        ")\n",
        "\n",
        "test_data = datasets.FashionMNIST(\n",
        "    root=\"data\",\n",
        "    train=False,\n",
        "    transform=ToTensor(),\n",
        "    target_transform=None,\n",
        "    download=True\n",
        ")\n"
      ]
    },
    {
      "cell_type": "code",
      "execution_count": 3,
      "metadata": {
        "colab": {
          "base_uri": "https://localhost:8080/"
        },
        "id": "14Jr7AdnhHzO",
        "outputId": "4af2cd82-23a1-4315-b21b-775d9a7f3679"
      },
      "outputs": [
        {
          "output_type": "execute_result",
          "data": {
            "text/plain": [
              "(60000, 10000)"
            ]
          },
          "metadata": {},
          "execution_count": 3
        }
      ],
      "source": [
        "len(train_data), len(test_data)"
      ]
    },
    {
      "cell_type": "code",
      "execution_count": 4,
      "metadata": {
        "colab": {
          "base_uri": "https://localhost:8080/"
        },
        "id": "UfPxcn3ihH_6",
        "outputId": "6b8d8f33-8edb-4414-9a57-5c91a91ba781"
      },
      "outputs": [
        {
          "output_type": "execute_result",
          "data": {
            "text/plain": [
              "(tensor([[[0.0000, 0.0000, 0.0000, 0.0000, 0.0000, 0.0000, 0.0000, 0.0000,\n",
              "           0.0000, 0.0000, 0.0000, 0.0000, 0.0000, 0.0000, 0.0000, 0.0000,\n",
              "           0.0000, 0.0000, 0.0000, 0.0000, 0.0000, 0.0000, 0.0000, 0.0000,\n",
              "           0.0000, 0.0000, 0.0000, 0.0000],\n",
              "          [0.0000, 0.0000, 0.0000, 0.0000, 0.0000, 0.0000, 0.0000, 0.0000,\n",
              "           0.0000, 0.0000, 0.0000, 0.0000, 0.0000, 0.0000, 0.0000, 0.0000,\n",
              "           0.0000, 0.0000, 0.0000, 0.0000, 0.0000, 0.0000, 0.0000, 0.0000,\n",
              "           0.0000, 0.0000, 0.0000, 0.0000],\n",
              "          [0.0000, 0.0000, 0.0000, 0.0000, 0.0000, 0.0000, 0.0000, 0.0000,\n",
              "           0.0000, 0.0000, 0.0000, 0.0000, 0.0000, 0.0000, 0.0000, 0.0000,\n",
              "           0.0000, 0.0000, 0.0000, 0.0000, 0.0000, 0.0000, 0.0000, 0.0000,\n",
              "           0.0000, 0.0000, 0.0000, 0.0000],\n",
              "          [0.0000, 0.0000, 0.0000, 0.0000, 0.0000, 0.0000, 0.0000, 0.0000,\n",
              "           0.0000, 0.0000, 0.0000, 0.0000, 0.0039, 0.0000, 0.0000, 0.0510,\n",
              "           0.2863, 0.0000, 0.0000, 0.0039, 0.0157, 0.0000, 0.0000, 0.0000,\n",
              "           0.0000, 0.0039, 0.0039, 0.0000],\n",
              "          [0.0000, 0.0000, 0.0000, 0.0000, 0.0000, 0.0000, 0.0000, 0.0000,\n",
              "           0.0000, 0.0000, 0.0000, 0.0000, 0.0118, 0.0000, 0.1412, 0.5333,\n",
              "           0.4980, 0.2431, 0.2118, 0.0000, 0.0000, 0.0000, 0.0039, 0.0118,\n",
              "           0.0157, 0.0000, 0.0000, 0.0118],\n",
              "          [0.0000, 0.0000, 0.0000, 0.0000, 0.0000, 0.0000, 0.0000, 0.0000,\n",
              "           0.0000, 0.0000, 0.0000, 0.0000, 0.0235, 0.0000, 0.4000, 0.8000,\n",
              "           0.6902, 0.5255, 0.5647, 0.4824, 0.0902, 0.0000, 0.0000, 0.0000,\n",
              "           0.0000, 0.0471, 0.0392, 0.0000],\n",
              "          [0.0000, 0.0000, 0.0000, 0.0000, 0.0000, 0.0000, 0.0000, 0.0000,\n",
              "           0.0000, 0.0000, 0.0000, 0.0000, 0.0000, 0.0000, 0.6078, 0.9255,\n",
              "           0.8118, 0.6980, 0.4196, 0.6118, 0.6314, 0.4275, 0.2510, 0.0902,\n",
              "           0.3020, 0.5098, 0.2824, 0.0588],\n",
              "          [0.0000, 0.0000, 0.0000, 0.0000, 0.0000, 0.0000, 0.0000, 0.0000,\n",
              "           0.0000, 0.0000, 0.0000, 0.0039, 0.0000, 0.2706, 0.8118, 0.8745,\n",
              "           0.8549, 0.8471, 0.8471, 0.6392, 0.4980, 0.4745, 0.4784, 0.5725,\n",
              "           0.5529, 0.3451, 0.6745, 0.2588],\n",
              "          [0.0000, 0.0000, 0.0000, 0.0000, 0.0000, 0.0000, 0.0000, 0.0000,\n",
              "           0.0000, 0.0039, 0.0039, 0.0039, 0.0000, 0.7843, 0.9098, 0.9098,\n",
              "           0.9137, 0.8980, 0.8745, 0.8745, 0.8431, 0.8353, 0.6431, 0.4980,\n",
              "           0.4824, 0.7686, 0.8980, 0.0000],\n",
              "          [0.0000, 0.0000, 0.0000, 0.0000, 0.0000, 0.0000, 0.0000, 0.0000,\n",
              "           0.0000, 0.0000, 0.0000, 0.0000, 0.0000, 0.7176, 0.8824, 0.8471,\n",
              "           0.8745, 0.8941, 0.9216, 0.8902, 0.8784, 0.8706, 0.8784, 0.8667,\n",
              "           0.8745, 0.9608, 0.6784, 0.0000],\n",
              "          [0.0000, 0.0000, 0.0000, 0.0000, 0.0000, 0.0000, 0.0000, 0.0000,\n",
              "           0.0000, 0.0000, 0.0000, 0.0000, 0.0000, 0.7569, 0.8941, 0.8549,\n",
              "           0.8353, 0.7765, 0.7059, 0.8314, 0.8235, 0.8275, 0.8353, 0.8745,\n",
              "           0.8627, 0.9529, 0.7922, 0.0000],\n",
              "          [0.0000, 0.0000, 0.0000, 0.0000, 0.0000, 0.0000, 0.0000, 0.0000,\n",
              "           0.0000, 0.0039, 0.0118, 0.0000, 0.0471, 0.8588, 0.8627, 0.8314,\n",
              "           0.8549, 0.7529, 0.6627, 0.8902, 0.8157, 0.8549, 0.8784, 0.8314,\n",
              "           0.8863, 0.7725, 0.8196, 0.2039],\n",
              "          [0.0000, 0.0000, 0.0000, 0.0000, 0.0000, 0.0000, 0.0000, 0.0000,\n",
              "           0.0000, 0.0000, 0.0235, 0.0000, 0.3882, 0.9569, 0.8706, 0.8627,\n",
              "           0.8549, 0.7961, 0.7765, 0.8667, 0.8431, 0.8353, 0.8706, 0.8627,\n",
              "           0.9608, 0.4667, 0.6549, 0.2196],\n",
              "          [0.0000, 0.0000, 0.0000, 0.0000, 0.0000, 0.0000, 0.0000, 0.0000,\n",
              "           0.0000, 0.0157, 0.0000, 0.0000, 0.2157, 0.9255, 0.8941, 0.9020,\n",
              "           0.8941, 0.9412, 0.9098, 0.8353, 0.8549, 0.8745, 0.9176, 0.8510,\n",
              "           0.8510, 0.8196, 0.3608, 0.0000],\n",
              "          [0.0000, 0.0000, 0.0039, 0.0157, 0.0235, 0.0275, 0.0078, 0.0000,\n",
              "           0.0000, 0.0000, 0.0000, 0.0000, 0.9294, 0.8863, 0.8510, 0.8745,\n",
              "           0.8706, 0.8588, 0.8706, 0.8667, 0.8471, 0.8745, 0.8980, 0.8431,\n",
              "           0.8549, 1.0000, 0.3020, 0.0000],\n",
              "          [0.0000, 0.0118, 0.0000, 0.0000, 0.0000, 0.0000, 0.0000, 0.0000,\n",
              "           0.0000, 0.2431, 0.5686, 0.8000, 0.8941, 0.8118, 0.8353, 0.8667,\n",
              "           0.8549, 0.8157, 0.8275, 0.8549, 0.8784, 0.8745, 0.8588, 0.8431,\n",
              "           0.8784, 0.9569, 0.6235, 0.0000],\n",
              "          [0.0000, 0.0000, 0.0000, 0.0000, 0.0706, 0.1725, 0.3216, 0.4196,\n",
              "           0.7412, 0.8941, 0.8627, 0.8706, 0.8510, 0.8863, 0.7843, 0.8039,\n",
              "           0.8275, 0.9020, 0.8784, 0.9176, 0.6902, 0.7373, 0.9804, 0.9725,\n",
              "           0.9137, 0.9333, 0.8431, 0.0000],\n",
              "          [0.0000, 0.2235, 0.7333, 0.8157, 0.8784, 0.8667, 0.8784, 0.8157,\n",
              "           0.8000, 0.8392, 0.8157, 0.8196, 0.7843, 0.6235, 0.9608, 0.7569,\n",
              "           0.8078, 0.8745, 1.0000, 1.0000, 0.8667, 0.9176, 0.8667, 0.8275,\n",
              "           0.8627, 0.9098, 0.9647, 0.0000],\n",
              "          [0.0118, 0.7922, 0.8941, 0.8784, 0.8667, 0.8275, 0.8275, 0.8392,\n",
              "           0.8039, 0.8039, 0.8039, 0.8627, 0.9412, 0.3137, 0.5882, 1.0000,\n",
              "           0.8980, 0.8667, 0.7373, 0.6039, 0.7490, 0.8235, 0.8000, 0.8196,\n",
              "           0.8706, 0.8941, 0.8824, 0.0000],\n",
              "          [0.3843, 0.9137, 0.7765, 0.8235, 0.8706, 0.8980, 0.8980, 0.9176,\n",
              "           0.9765, 0.8627, 0.7608, 0.8431, 0.8510, 0.9451, 0.2549, 0.2863,\n",
              "           0.4157, 0.4588, 0.6588, 0.8588, 0.8667, 0.8431, 0.8510, 0.8745,\n",
              "           0.8745, 0.8784, 0.8980, 0.1137],\n",
              "          [0.2941, 0.8000, 0.8314, 0.8000, 0.7569, 0.8039, 0.8275, 0.8824,\n",
              "           0.8471, 0.7255, 0.7725, 0.8078, 0.7765, 0.8353, 0.9412, 0.7647,\n",
              "           0.8902, 0.9608, 0.9373, 0.8745, 0.8549, 0.8314, 0.8196, 0.8706,\n",
              "           0.8627, 0.8667, 0.9020, 0.2627],\n",
              "          [0.1882, 0.7961, 0.7176, 0.7608, 0.8353, 0.7725, 0.7255, 0.7451,\n",
              "           0.7608, 0.7529, 0.7922, 0.8392, 0.8588, 0.8667, 0.8627, 0.9255,\n",
              "           0.8824, 0.8471, 0.7804, 0.8078, 0.7294, 0.7098, 0.6941, 0.6745,\n",
              "           0.7098, 0.8039, 0.8078, 0.4510],\n",
              "          [0.0000, 0.4784, 0.8588, 0.7569, 0.7020, 0.6706, 0.7176, 0.7686,\n",
              "           0.8000, 0.8235, 0.8353, 0.8118, 0.8275, 0.8235, 0.7843, 0.7686,\n",
              "           0.7608, 0.7490, 0.7647, 0.7490, 0.7765, 0.7529, 0.6902, 0.6118,\n",
              "           0.6549, 0.6941, 0.8235, 0.3608],\n",
              "          [0.0000, 0.0000, 0.2902, 0.7412, 0.8314, 0.7490, 0.6863, 0.6745,\n",
              "           0.6863, 0.7098, 0.7255, 0.7373, 0.7412, 0.7373, 0.7569, 0.7765,\n",
              "           0.8000, 0.8196, 0.8235, 0.8235, 0.8275, 0.7373, 0.7373, 0.7608,\n",
              "           0.7529, 0.8471, 0.6667, 0.0000],\n",
              "          [0.0078, 0.0000, 0.0000, 0.0000, 0.2588, 0.7843, 0.8706, 0.9294,\n",
              "           0.9373, 0.9490, 0.9647, 0.9529, 0.9569, 0.8667, 0.8627, 0.7569,\n",
              "           0.7490, 0.7020, 0.7137, 0.7137, 0.7098, 0.6902, 0.6510, 0.6588,\n",
              "           0.3882, 0.2275, 0.0000, 0.0000],\n",
              "          [0.0000, 0.0000, 0.0000, 0.0000, 0.0000, 0.0000, 0.0000, 0.1569,\n",
              "           0.2392, 0.1725, 0.2824, 0.1608, 0.1373, 0.0000, 0.0000, 0.0000,\n",
              "           0.0000, 0.0000, 0.0000, 0.0000, 0.0000, 0.0000, 0.0000, 0.0000,\n",
              "           0.0000, 0.0000, 0.0000, 0.0000],\n",
              "          [0.0000, 0.0000, 0.0000, 0.0000, 0.0000, 0.0000, 0.0000, 0.0000,\n",
              "           0.0000, 0.0000, 0.0000, 0.0000, 0.0000, 0.0000, 0.0000, 0.0000,\n",
              "           0.0000, 0.0000, 0.0000, 0.0000, 0.0000, 0.0000, 0.0000, 0.0000,\n",
              "           0.0000, 0.0000, 0.0000, 0.0000],\n",
              "          [0.0000, 0.0000, 0.0000, 0.0000, 0.0000, 0.0000, 0.0000, 0.0000,\n",
              "           0.0000, 0.0000, 0.0000, 0.0000, 0.0000, 0.0000, 0.0000, 0.0000,\n",
              "           0.0000, 0.0000, 0.0000, 0.0000, 0.0000, 0.0000, 0.0000, 0.0000,\n",
              "           0.0000, 0.0000, 0.0000, 0.0000]]]),\n",
              " 9)"
            ]
          },
          "metadata": {},
          "execution_count": 4
        }
      ],
      "source": [
        "image , label = train_data[0]\n",
        "image , label"
      ]
    },
    {
      "cell_type": "code",
      "execution_count": 5,
      "metadata": {
        "colab": {
          "base_uri": "https://localhost:8080/"
        },
        "id": "rZPyEB9NhIK2",
        "outputId": "9055a732-8d1d-4da3-82d0-fa322777ea97"
      },
      "outputs": [
        {
          "output_type": "execute_result",
          "data": {
            "text/plain": [
              "['T-shirt/top',\n",
              " 'Trouser',\n",
              " 'Pullover',\n",
              " 'Dress',\n",
              " 'Coat',\n",
              " 'Sandal',\n",
              " 'Shirt',\n",
              " 'Sneaker',\n",
              " 'Bag',\n",
              " 'Ankle boot']"
            ]
          },
          "metadata": {},
          "execution_count": 5
        }
      ],
      "source": [
        "class_names = train_data.classes\n",
        "class_names"
      ]
    },
    {
      "cell_type": "code",
      "execution_count": 6,
      "metadata": {
        "colab": {
          "base_uri": "https://localhost:8080/"
        },
        "id": "oClyJfovhIbB",
        "outputId": "e68efc01-1097-4a77-b00a-00556c4a62cf"
      },
      "outputs": [
        {
          "output_type": "execute_result",
          "data": {
            "text/plain": [
              "{'T-shirt/top': 0,\n",
              " 'Trouser': 1,\n",
              " 'Pullover': 2,\n",
              " 'Dress': 3,\n",
              " 'Coat': 4,\n",
              " 'Sandal': 5,\n",
              " 'Shirt': 6,\n",
              " 'Sneaker': 7,\n",
              " 'Bag': 8,\n",
              " 'Ankle boot': 9}"
            ]
          },
          "metadata": {},
          "execution_count": 6
        }
      ],
      "source": [
        "class_to_idx = train_data.class_to_idx\n",
        "class_to_idx"
      ]
    },
    {
      "cell_type": "code",
      "execution_count": 7,
      "metadata": {
        "colab": {
          "base_uri": "https://localhost:8080/"
        },
        "id": "H4LRa0v1qZKs",
        "outputId": "a95ce71a-ade6-4b35-9c74-12d72a12a077"
      },
      "outputs": [
        {
          "output_type": "execute_result",
          "data": {
            "text/plain": [
              "tensor([9, 0, 0,  ..., 3, 0, 5])"
            ]
          },
          "metadata": {},
          "execution_count": 7
        }
      ],
      "source": [
        "train_data.targets"
      ]
    },
    {
      "cell_type": "markdown",
      "metadata": {
        "id": "Gdkbp4Qmtiu5"
      },
      "source": [
        "# check input output shapes of data"
      ]
    },
    {
      "cell_type": "code",
      "execution_count": 8,
      "metadata": {
        "colab": {
          "base_uri": "https://localhost:8080/"
        },
        "id": "lxvkBGj_ruMc",
        "outputId": "a1133c99-6626-4630-85e4-a55d68e6cd72"
      },
      "outputs": [
        {
          "output_type": "stream",
          "name": "stdout",
          "text": [
            "image shape: torch.Size([1, 28, 28]) -> color_channels , height , width\n",
            "image label: 9\n"
          ]
        }
      ],
      "source": [
        "print(f\"image shape: {image.shape} -> color_channels , height , width\") # color channel is 1 because our data is in black and white where white means 0 and black is 1\n",
        "print(f\"image label: {label}\")"
      ]
    },
    {
      "cell_type": "markdown",
      "metadata": {
        "id": "R44BeEg0BRip"
      },
      "source": [
        "# visualing our data\n"
      ]
    },
    {
      "cell_type": "code",
      "execution_count": 9,
      "metadata": {
        "colab": {
          "base_uri": "https://localhost:8080/",
          "height": 470
        },
        "id": "OstpVNanBV_o",
        "outputId": "14c3c954-e2b1-4501-e553-37fd8f97488e"
      },
      "outputs": [
        {
          "output_type": "execute_result",
          "data": {
            "text/plain": [
              "Text(0.5, 1.0, 'Ankle boot')"
            ]
          },
          "metadata": {},
          "execution_count": 9
        },
        {
          "output_type": "display_data",
          "data": {
            "text/plain": [
              "<Figure size 640x480 with 1 Axes>"
            ],
            "image/png": "[encoded data removed]"
          },
          "metadata": {}
        }
      ],
      "source": [
        "plt.imshow(image.squeeze())\n",
        "plt.title(class_names[label])\n"
      ]
    },
    {
      "cell_type": "code",
      "execution_count": 10,
      "metadata": {
        "colab": {
          "base_uri": "https://localhost:8080/",
          "height": 446
        },
        "id": "hN5mmXWIBWSl",
        "outputId": "9d4aeab2-bcdf-4efc-e811-b4883b3e20ea"
      },
      "outputs": [
        {
          "output_type": "execute_result",
          "data": {
            "text/plain": [
              "(np.float64(-0.5), np.float64(27.5), np.float64(27.5), np.float64(-0.5))"
            ]
          },
          "metadata": {},
          "execution_count": 10
        },
        {
          "output_type": "display_data",
          "data": {
            "text/plain": [
              "<Figure size 640x480 with 1 Axes>"
            ],
            "image/png": "[encoded data removed]"
          },
          "metadata": {}
        }
      ],
      "source": [
        "plt.imshow(image.squeeze(), cmap=\"gray\")\n",
        "plt.title(class_names[label])\n",
        "plt.axis(False)"
      ]
    },
    {
      "cell_type": "code",
      "execution_count": 11,
      "metadata": {
        "colab": {
          "base_uri": "https://localhost:8080/",
          "height": 663
        },
        "id": "jaKqBXChBWe7",
        "outputId": "35e88c41-92a3-4ac6-c6cc-d478d880ea3d"
      },
      "outputs": [
        {
          "output_type": "display_data",
          "data": {
            "text/plain": [
              "<Figure size 900x900 with 16 Axes>"
            ],
            "image/png": "[encoded data removed]"
          },
          "metadata": {}
        }
      ],
      "source": [
        "torch.manual_seed(42)\n",
        "fig = plt.figure(figsize=(9,9))\n",
        "rows , cols = 4,4\n",
        "for i in range(1,rows*cols+1):\n",
        "  random_idx = torch.randint(0,len(train_data),size=[1]).item()\n",
        "  img , label = train_data[random_idx]\n",
        "  fig.add_subplot(rows,cols,i)\n",
        "  plt.imshow(img.squeeze(),cmap=\"gray\")\n",
        "  plt.axis(False)\n",
        "  plt.title(class_names[label])\n"
      ]
    },
    {
      "cell_type": "markdown",
      "metadata": {
        "id": "fUN_U8CSBWrr"
      },
      "source": [
        "# prepare dataloader\n",
        "\n",
        "right now , our data is in the form of pytorch datasets\n",
        "\n",
        "dataloader tuns our datasets into python iterable\n",
        "\n",
        "more specifically , dataloader turns our datasets into batches\n",
        "\n",
        "why would we do this?\n",
        "\n",
        "1. it is more computationally efficient, as in , your computing hardware may not be able to look at 60k images in one hit.\n",
        "so we break it down to 32 images at a time ( batch size of 32)\n",
        "2. it gives our neural network more chance to update its gradient pre epoch."
      ]
    },
    {
      "cell_type": "code",
      "execution_count": 12,
      "metadata": {
        "id": "v0F8vpV_BW3W"
      },
      "outputs": [],
      "source": [
        "from torch.utils.data import DataLoader\n",
        "BATCH_SIZE = 32\n",
        "train_dataloader = DataLoader(dataset=train_data ,\n",
        "                              batch_size=BATCH_SIZE ,\n",
        "                              shuffle=True)\n",
        "# we shuffle the data so that our model could learn more corners , shape rather than order\n",
        "\n",
        "test_dataloader = DataLoader(dataset=test_data ,\n",
        "                              batch_size=BATCH_SIZE ,\n",
        "                              shuffle=False)\n",
        "# here we dont specifically shuffle the data because it is not too necessary as our model dont see this\n",
        "# data while training also while shuffle there might be slight change in accuracy,precision,recall"
      ]
    },
    {
      "cell_type": "code",
      "execution_count": 13,
      "metadata": {
        "colab": {
          "base_uri": "https://localhost:8080/"
        },
        "id": "mj-yBRwnNv0I",
        "outputId": "9e12a7f8-3593-4f38-f4aa-a3b253e08137"
      },
      "outputs": [
        {
          "output_type": "stream",
          "name": "stdout",
          "text": [
            "Dataloaders: (<torch.utils.data.dataloader.DataLoader object at 0x78f451725510>, <torch.utils.data.dataloader.DataLoader object at 0x78f451734210>)\n",
            "Length of train dataloader: 1875 batches of 32\n",
            "Length of test dataloader: 313 batches of 32\n"
          ]
        }
      ],
      "source": [
        "print(f\"Dataloaders: {train_dataloader , test_dataloader}\")\n",
        "print(f\"Length of train dataloader: {len(train_dataloader)} batches of {BATCH_SIZE}\")\n",
        "print(f\"Length of test dataloader: {len(test_dataloader)} batches of {BATCH_SIZE}\")"
      ]
    },
    {
      "cell_type": "code",
      "execution_count": 14,
      "metadata": {
        "colab": {
          "base_uri": "https://localhost:8080/"
        },
        "id": "m40iJpJzNv-7",
        "outputId": "04e5210e-d7d8-4a68-a671-b2a02cedb7d6"
      },
      "outputs": [
        {
          "output_type": "execute_result",
          "data": {
            "text/plain": [
              "(torch.Size([32, 1, 28, 28]), torch.Size([32]))"
            ]
          },
          "metadata": {},
          "execution_count": 14
        }
      ],
      "source": [
        "train_features_batch , train_labels_batch = next(iter(train_dataloader))\n",
        "train_features_batch.shape , train_labels_batch.shape"
      ]
    },
    {
      "cell_type": "code",
      "execution_count": 15,
      "metadata": {
        "colab": {
          "base_uri": "https://localhost:8080/",
          "height": 464
        },
        "id": "qooOWu6rV--0",
        "outputId": "a1f86f43-624e-4f8f-fb2d-7507b4db843c"
      },
      "outputs": [
        {
          "output_type": "stream",
          "name": "stdout",
          "text": [
            "image size: torch.Size([1, 28, 28])\n",
            "label: 8\n"
          ]
        },
        {
          "output_type": "display_data",
          "data": {
            "text/plain": [
              "<Figure size 640x480 with 1 Axes>"
            ],
            "image/png": "[encoded data removed]"
          },
          "metadata": {}
        }
      ],
      "source": [
        "#torch.manual_seed(42)\n",
        "random_idx = torch.randint(0,len(train_features_batch),size=[1]).item()\n",
        "img , label = train_features_batch[random_idx] , train_labels_batch[random_idx]\n",
        "plt.imshow(img.squeeze(),cmap=\"gray\")\n",
        "plt.axis(False)\n",
        "plt.title(class_names[label])\n",
        "print(f\"image size: {img.shape}\")\n",
        "print(f\"label: {label}\")"
      ]
    },
    {
      "cell_type": "markdown",
      "metadata": {
        "id": "krIvSho5V_IQ"
      },
      "source": [
        "# model 0: build a baseline model\n",
        "\n",
        "when starting to build a series of machine learning modelling experiments, its best practice to start with a baseline model.\n",
        "\n",
        "A baseline model is a simple model that is used as a benchmark for evaluating the performance of more complex models."
      ]
    },
    {
      "cell_type": "code",
      "execution_count": 16,
      "metadata": {
        "colab": {
          "base_uri": "https://localhost:8080/"
        },
        "id": "uc7k7-_WNwJG",
        "outputId": "e2786da2-70fa-4e76-f7e9-268b166bc2c8"
      },
      "outputs": [
        {
          "output_type": "stream",
          "name": "stdout",
          "text": [
            "shape before flatten: torch.Size([1, 28, 28])\n",
            "shape after flatten: torch.Size([1, 784])\n"
          ]
        }
      ],
      "source": [
        "# create a flatten layer\n",
        "flatten_model = nn.Flatten()\n",
        "\n",
        "# get a single sample\n",
        "x = train_features_batch[0]\n",
        "\n",
        "# flatten sample\n",
        "output = flatten_model(x)\n",
        "\n",
        "# print out when happened\n",
        "print(f\"shape before flatten: {x.shape}\")\n",
        "print(f\"shape after flatten: {output.shape}\")"
      ]
    },
    {
      "cell_type": "code",
      "execution_count": 17,
      "metadata": {
        "id": "06w03Z3uePYt"
      },
      "outputs": [],
      "source": [
        "class FashionMNISTModelV0(nn.Module):\n",
        "  def __init__(self,input_shape:int,hidden_units:int,output_shape:int):\n",
        "    super().__init__()\n",
        "    self.linear_layer_stack = nn.Sequential(\n",
        "        nn.Flatten(),\n",
        "        nn.Linear(in_features=input_shape,out_features=hidden_units),\n",
        "        nn.Linear(in_features=hidden_units,out_features=output_shape)\n",
        "    )\n",
        "  def forward(self,x):\n",
        "    return self.linear_layer_stack(x)"
      ]
    },
    {
      "cell_type": "code",
      "execution_count": 18,
      "metadata": {
        "colab": {
          "base_uri": "https://localhost:8080/"
        },
        "id": "TPAoEycJePiv",
        "outputId": "400bb5ea-635c-4b16-ad53-11e944de6288"
      },
      "outputs": [
        {
          "output_type": "execute_result",
          "data": {
            "text/plain": [
              "FashionMNISTModelV0(\n",
              "  (linear_layer_stack): Sequential(\n",
              "    (0): Flatten(start_dim=1, end_dim=-1)\n",
              "    (1): Linear(in_features=784, out_features=10, bias=True)\n",
              "    (2): Linear(in_features=10, out_features=10, bias=True)\n",
              "  )\n",
              ")"
            ]
          },
          "metadata": {},
          "execution_count": 18
        }
      ],
      "source": [
        "torch.manual_seed(42)\n",
        "model_0 = FashionMNISTModelV0(784,10,len(class_names))\n",
        "model_0"
      ]
    },
    {
      "cell_type": "markdown",
      "metadata": {
        "id": "dKwH9kspePsr"
      },
      "source": [
        "# loss , optimizer and evaluations metrics\n",
        "\n",
        "* since it is multi class so we use Cross Entropy loss fn\n",
        "* SGD as optimizer\n",
        "* since it is classification model , we take accuracy as evaluation metric"
      ]
    },
    {
      "cell_type": "code",
      "execution_count": 19,
      "metadata": {
        "colab": {
          "base_uri": "https://localhost:8080/"
        },
        "id": "2sBVb_pOeP17",
        "outputId": "2727bfaf-4962-4270-c958-3a079b4d0ae7"
      },
      "outputs": [
        {
          "output_type": "stream",
          "name": "stdout",
          "text": [
            "downloading helper_functions.py\n"
          ]
        }
      ],
      "source": [
        "import requests\n",
        "from pathlib import Path\n",
        "\n",
        "if Path(\"helper_functions.py\").is_file():\n",
        "  print(\"helper_functions.py already exists\")\n",
        "else:\n",
        "  print(\"downloading helper_functions.py\")\n",
        "  request = requests.get(\"https://raw.githubusercontent.com/mrdbourke/pytorch-deep-learning/refs/heads/main/helper_functions.py\")\n",
        "  with open(\"helper_functions.py\",\"wb\") as f:\n",
        "    f.write(request.content)\n",
        "# with open means create a file name helper_functions with write binary and\n",
        "# f.write means write content there from request"
      ]
    },
    {
      "cell_type": "code",
      "execution_count": 20,
      "metadata": {
        "id": "Fjgo5nHYteF1"
      },
      "outputs": [],
      "source": [
        "from helper_functions import accuracy_fn\n",
        "\n",
        "loss_fn = nn.CrossEntropyLoss()\n",
        "optimizer = torch.optim.SGD(params=model_0.parameters(),\n",
        "                            lr = 0.1)"
      ]
    },
    {
      "cell_type": "markdown",
      "metadata": {
        "id": "4tjSyvuoteZ5"
      },
      "source": [
        "# creating a functions to time our experiments\n",
        "\n",
        "Machine learning is very experimental.\n",
        "\n",
        "Two of the main things you will often want to track are :\n",
        "\n",
        "1. model performance(loss,acc,etc)\n",
        "2. how fast it runs"
      ]
    },
    {
      "cell_type": "code",
      "execution_count": 21,
      "metadata": {
        "id": "E7ktj4-5teri"
      },
      "outputs": [],
      "source": [
        "from timeit import default_timer as timer\n",
        "\n",
        "def print_train_time(start:float,\n",
        "                    end:float ):\n",
        "  total_time = end - start\n",
        "  print(f\"Train time: {total_time: .3f}\")\n",
        "  return total_time\n",
        "\n"
      ]
    },
    {
      "cell_type": "code",
      "execution_count": 22,
      "metadata": {
        "colab": {
          "base_uri": "https://localhost:8080/"
        },
        "id": "d_HCssWVtfCB",
        "outputId": "86618e3f-1664-4939-b5ab-8ae8e7546ff1"
      },
      "outputs": [
        {
          "output_type": "stream",
          "name": "stdout",
          "text": [
            "Train time:  0.000\n"
          ]
        },
        {
          "output_type": "execute_result",
          "data": {
            "text/plain": [
              "2.4886000005608366e-05"
            ]
          },
          "metadata": {},
          "execution_count": 22
        }
      ],
      "source": [
        "start_time= timer()\n",
        "# some code\n",
        "end_time = timer()\n",
        "print_train_time(start=start_time,end=end_time)"
      ]
    },
    {
      "cell_type": "markdown",
      "metadata": {
        "id": "-OkcJ0JR142D"
      },
      "source": [
        "# creating a training loop and training a model on batches of data"
      ]
    },
    {
      "cell_type": "code",
      "execution_count": 23,
      "metadata": {
        "colab": {
          "base_uri": "https://localhost:8080/",
          "height": 495,
          "referenced_widgets": [
            "0072a11a866a4845a0833f693d86aac8",
            "bafcbfb2fa6047f0a459db787946c7a1",
            "942a4711eea14248b76c7a26f607bfc4",
            "52851d91aeb24c60a7397db6f95c139f",
            "8fd8b463a37144fe8abe407ded5614aa",
            "d8472d5451034a809334ff2362d495a4",
            "3d234b157d9e4b3d80c35e307e5c6a57",
            "7aaf00b494394fdd885565ab142e0d16",
            "26313060242045ca896275b215c566c4",
            "aa8a583f1366416e86c0280458e515f5",
            "5394f8da37e34f938b87210400d3397a"
          ]
        },
        "id": "zrSa_RCH15Q4",
        "outputId": "a534fa5f-f6c8-4487-f620-99d4d07d2517"
      },
      "outputs": [
        {
          "output_type": "display_data",
          "data": {
            "text/plain": [
              "  0%|          | 0/3 [00:00<?, ?it/s]"
            ],
            "application/vnd.jupyter.widget-view+json": {
              "version_major": 2,
              "version_minor": 0,
              "model_id": "0072a11a866a4845a0833f693d86aac8"
            }
          },
          "metadata": {}
        },
        {
          "output_type": "stream",
          "name": "stdout",
          "text": [
            "Epoch: 0\n",
            "---------\n",
            "Looked at 0/60000 samples\n",
            "Looked at 12800/60000 samples\n",
            "Looked at 25600/60000 samples\n",
            "Looked at 38400/60000 samples\n",
            "Looked at 51200/60000 samples\n",
            "Train loss: 0.5904 | Test loss: 0.5095 | Test acc: 82.04\n",
            "Epoch: 1\n",
            "---------\n",
            "Looked at 0/60000 samples\n",
            "Looked at 12800/60000 samples\n",
            "Looked at 25600/60000 samples\n",
            "Looked at 38400/60000 samples\n",
            "Looked at 51200/60000 samples\n",
            "Train loss: 0.4763 | Test loss: 0.4799 | Test acc: 83.20\n",
            "Epoch: 2\n",
            "---------\n",
            "Looked at 0/60000 samples\n",
            "Looked at 12800/60000 samples\n",
            "Looked at 25600/60000 samples\n",
            "Looked at 38400/60000 samples\n",
            "Looked at 51200/60000 samples\n",
            "Train loss: 0.4550 | Test loss: 0.4766 | Test acc: 83.43\n",
            "Train time:  24.803\n"
          ]
        }
      ],
      "source": [
        "from tqdm.auto import tqdm\n",
        "torch.manual_seed(42)\n",
        "start_timer = timer()\n",
        "epochs = 3\n",
        "for epoch in tqdm(range(epochs)): # tqdm is for progress bar\n",
        "  print(f\"Epoch: {epoch}\\n---------\")\n",
        "  train_loss = 0\n",
        "  for batch,(X,y) in enumerate(train_dataloader): # enumerate is used to track batch number\n",
        "    model_0.train()\n",
        "    y_pred = model_0(X)\n",
        "    loss = loss_fn(y_pred,y)\n",
        "    train_loss += loss\n",
        "    optimizer.zero_grad()\n",
        "    loss.backward()\n",
        "    optimizer.step()\n",
        "    if batch % 400 == 0:\n",
        "      print(f\"Looked at {batch*len(X)}/{len(train_dataloader.dataset)} samples\")\n",
        "  train_loss /= len(train_dataloader)\n",
        "\n",
        "  test_loss,test_acc = 0,0\n",
        "  model_0.eval()\n",
        "  with torch.inference_mode():\n",
        "    for X_test,y_test in test_dataloader:\n",
        "      test_pred = model_0(X_test)\n",
        "      test_loss += loss_fn(test_pred,y_test)\n",
        "      test_acc += accuracy_fn(y_true=y_test,y_pred=test_pred.argmax(dim=1))\n",
        "    test_loss /= len(test_dataloader)\n",
        "    test_acc /= len(test_dataloader)\n",
        "  print(f\"Train loss: {train_loss:.4f} | Test loss: {test_loss:.4f} | Test acc: {test_acc:.2f}\")\n",
        "end_timer = timer()\n",
        "total_time_model_0 = print_train_time(start=start_timer,end=end_timer)\n"
      ]
    },
    {
      "cell_type": "markdown",
      "metadata": {
        "id": "UvP6vuuB15a3"
      },
      "source": [
        "# make predictions and get Model results"
      ]
    },
    {
      "cell_type": "code",
      "execution_count": 24,
      "metadata": {
        "id": "YBF3xfLP15lA"
      },
      "outputs": [],
      "source": [
        "torch.manual_seed(42)\n",
        "def eval_model(\n",
        "    model:torch.nn.Module,\n",
        "    loss: torch.nn.Module,\n",
        "    accuracy_fn,\n",
        "    dataloader:torch.utils.data.DataLoader):\n",
        "  model.eval()\n",
        "  with torch.inference_mode():\n",
        "    test_loss,test_acc = 0,0\n",
        "    for X,y in tqdm(dataloader):\n",
        "      test_pred  = model(X)\n",
        "      test_loss += loss(test_pred,y)\n",
        "      test_acc += accuracy_fn(y_true=y,y_pred=test_pred.argmax(dim=1))\n",
        "\n",
        "    test_loss /= len(dataloader)\n",
        "    test_acc /= len(dataloader)\n",
        "  return {\"model_name\":model.__class__.__name__,\n",
        "          \"model_loss\":test_loss.item(),\n",
        "          \"model_acc\":test_acc}\n"
      ]
    },
    {
      "cell_type": "code",
      "execution_count": 25,
      "metadata": {
        "colab": {
          "base_uri": "https://localhost:8080/",
          "height": 103,
          "referenced_widgets": [
            "3c072701c055402e8a1addfcd4abf6ae",
            "b39ce2f018444890a1e4a90f046a477b",
            "3d8bde7f7ebd42a28ba51e3a95f9bfad",
            "722b7cf6eb21435d9e85ec4ee709317e",
            "81091301ff9749a79b0a0c17e70ac982",
            "ff335b93921d484b928338a3a20d5b71",
            "6302267ae32f43b4a81f87cddc3c08df",
            "78646017b6a74a06b9fa6982e265500e",
            "a1ddc7f749914493b4c356882a3deb08",
            "f7937571fffd4550a834632bdb4a629d",
            "63a2227edb3448fe8db1ff7672ffac5c"
          ]
        },
        "id": "nDdCcWiM15t1",
        "outputId": "c1d66152-4c03-4f4d-f3f6-9863593941d7"
      },
      "outputs": [
        {
          "output_type": "display_data",
          "data": {
            "text/plain": [
              "  0%|          | 0/313 [00:00<?, ?it/s]"
            ],
            "application/vnd.jupyter.widget-view+json": {
              "version_major": 2,
              "version_minor": 0,
              "model_id": "3c072701c055402e8a1addfcd4abf6ae"
            }
          },
          "metadata": {}
        },
        {
          "output_type": "execute_result",
          "data": {
            "text/plain": [
              "{'model_name': 'FashionMNISTModelV0',\n",
              " 'model_loss': 0.47663888335227966,\n",
              " 'model_acc': 83.42651757188499}"
            ]
          },
          "metadata": {},
          "execution_count": 25
        }
      ],
      "source": [
        "model_0_results = eval_model(model=model_0,\n",
        "                             loss=loss_fn,\n",
        "                             accuracy_fn=accuracy_fn,\n",
        "                             dataloader=test_dataloader)\n",
        "model_0_results"
      ]
    },
    {
      "cell_type": "code",
      "execution_count": 26,
      "metadata": {
        "id": "g_my6_yXm4xZ"
      },
      "outputs": [],
      "source": [
        "class FashionMNISTModelV1 (nn.Module):\n",
        "  def __init__(self,\n",
        "              in_features:int,\n",
        "              out_features:int,\n",
        "              hidden_units:int):\n",
        "    super().__init__()\n",
        "    self.linear_layer_stack = nn.Sequential(\n",
        "        nn.Flatten(),\n",
        "        nn.Linear(in_features=in_features,out_features=hidden_units),\n",
        "        nn.ReLU(),\n",
        "        nn.Linear(in_features=hidden_units,out_features=hidden_units),\n",
        "        nn.ReLU(),\n",
        "        nn.Linear(in_features=hidden_units,out_features=out_features)\n",
        "    )\n",
        "  def forward(self,x):\n",
        "    return self.linear_layer_stack(x)\n"
      ]
    },
    {
      "cell_type": "code",
      "execution_count": 27,
      "metadata": {
        "colab": {
          "base_uri": "https://localhost:8080/"
        },
        "id": "lEdtX7kdm5HN",
        "outputId": "7acbe2e1-e88f-4289-a0f6-c00df65d01ab"
      },
      "outputs": [
        {
          "output_type": "stream",
          "name": "stdout",
          "text": [
            "{'T-shirt/top': 0, 'Trouser': 1, 'Pullover': 2, 'Dress': 3, 'Coat': 4, 'Sandal': 5, 'Shirt': 6, 'Sneaker': 7, 'Bag': 8, 'Ankle boot': 9}\n",
            "torch.Size([1, 784])\n"
          ]
        }
      ],
      "source": [
        "img , label = train_data[0]\n",
        "print(train_data.class_to_idx) # out features 10\n",
        "print(flatten_model(img).shape) # in features 784\n",
        "torch.manual_seed(42)\n",
        "model_1 = FashionMNISTModelV1(784,10,10)"
      ]
    },
    {
      "cell_type": "code",
      "execution_count": 28,
      "metadata": {
        "colab": {
          "base_uri": "https://localhost:8080/"
        },
        "id": "f0iIM5Cbm5Tf",
        "outputId": "ee0f4453-bfef-411e-92a7-bdd3896ae0cf"
      },
      "outputs": [
        {
          "output_type": "execute_result",
          "data": {
            "text/plain": [
              "device(type='cpu')"
            ]
          },
          "metadata": {},
          "execution_count": 28
        }
      ],
      "source": [
        "next(model_0.parameters()).device"
      ]
    },
    {
      "cell_type": "code",
      "execution_count": 29,
      "metadata": {
        "id": "evBUOU_0m5eP"
      },
      "outputs": [],
      "source": [
        "from helper_functions import accuracy_fn\n",
        "loss_fn = nn.CrossEntropyLoss()\n",
        "optimizer = torch.optim.SGD(params=model_1.parameters(),lr=0.1)"
      ]
    },
    {
      "cell_type": "markdown",
      "metadata": {
        "id": "rLOlrs84m5qZ"
      },
      "source": [
        "# functionizing traiining and testing   "
      ]
    },
    {
      "cell_type": "code",
      "execution_count": 30,
      "metadata": {
        "id": "teuNEHsbm51c"
      },
      "outputs": [],
      "source": [
        "def train_step(\n",
        "    model:torch.nn.Module,\n",
        "    loss_fn:torch.nn.Module,\n",
        "    optimizer:torch.optim.Optimizer,\n",
        "    dataloader:torch.utils.data,\n",
        "    accuracy):\n",
        "\n",
        "    train_loss,train_acc = 0,0\n",
        "    for batch,(X,y) in enumerate(dataloader): # enumerate is used to track batch number\n",
        "      model.train()\n",
        "      y_pred = model(X)\n",
        "      loss = loss_fn(y_pred,y)\n",
        "      train_loss += loss\n",
        "      train_acc += accuracy(y_true=y,y_pred=y_pred.argmax(dim=1))\n",
        "      optimizer.zero_grad()\n",
        "      loss.backward()\n",
        "      optimizer.step()\n",
        "    train_loss /= len(dataloader)\n",
        "    train_acc /= len(dataloader)\n",
        "    print(f\"Train loss: {train_loss:.4f} | Train acc: {train_acc:.2f}%\")\n",
        "\n"
      ]
    },
    {
      "cell_type": "code",
      "execution_count": 31,
      "metadata": {
        "colab": {
          "base_uri": "https://localhost:8080/"
        },
        "id": "uHys4nBfrLKU",
        "outputId": "e3308969-8d95-4e34-d062-9a59e925bc5b"
      },
      "outputs": [
        {
          "output_type": "execute_result",
          "data": {
            "text/plain": [
              "torch.Size([32, 1, 28, 28])"
            ]
          },
          "metadata": {},
          "execution_count": 31
        }
      ],
      "source": [
        "X.shape"
      ]
    },
    {
      "cell_type": "code",
      "execution_count": 32,
      "metadata": {
        "id": "suWURfWjsAw3"
      },
      "outputs": [],
      "source": [
        "def test_step(\n",
        "    model:torch.nn.Module,\n",
        "    loss_fn:torch.nn.Module,\n",
        "    dataloader:torch.utils.data,\n",
        "    accuracy):\n",
        "  \"\"\" perform a testing loop step on model going over data_loader\"\"\"\n",
        "  test_loss,test_acc = 0,0\n",
        "  model.eval()\n",
        "  with torch.inference_mode():\n",
        "    for X_test,y_test in dataloader:\n",
        "      test_pred = model(X_test)\n",
        "      test_loss += loss_fn(test_pred,y_test)\n",
        "      test_acc += accuracy(y_true=y_test,\n",
        "                           y_pred=test_pred.argmax(dim=1))\n",
        "    test_loss /= len(test_dataloader)\n",
        "    test_acc /= len(test_dataloader)\n",
        "    print(f\"Test loss: {test_loss:.4f} | Test acc: {test_acc:.2f}%\")"
      ]
    },
    {
      "cell_type": "code",
      "execution_count": 33,
      "metadata": {
        "colab": {
          "base_uri": "https://localhost:8080/",
          "height": 281,
          "referenced_widgets": [
            "b5a22249a1b64360b09682d2de411bdd",
            "9fc327f267e144149ab0b90c1d061843",
            "c766c571d52245d2859f5ee8accabb27",
            "688921c49adc4bd490d76c0b191f1010",
            "2c86bacbfde04dcfbb2614f94ec5ef9a",
            "3e9626665fc44144af4d749cf66c41cd",
            "ed79233d19ae457fbf8cf17ebe51fa8d",
            "055cc164e5644a3a83f72b360afb2b70",
            "0bb2035e060046ceb9ca5106202f8a22",
            "ef833b1338744c229402685049e607c9",
            "a80e996696a24aa5af7ea17c0181c3c4"
          ]
        },
        "id": "-yOn5V53v4b-",
        "outputId": "d929655d-7f6e-4125-9b2f-63e92307b416"
      },
      "outputs": [
        {
          "output_type": "display_data",
          "data": {
            "text/plain": [
              "  0%|          | 0/3 [00:00<?, ?it/s]"
            ],
            "application/vnd.jupyter.widget-view+json": {
              "version_major": 2,
              "version_minor": 0,
              "model_id": "b5a22249a1b64360b09682d2de411bdd"
            }
          },
          "metadata": {}
        },
        {
          "output_type": "stream",
          "name": "stdout",
          "text": [
            "Epoch: 0\n",
            "---------\n",
            "Train loss: 0.6677 | Train acc: 75.88%\n",
            "Test loss: 0.5009 | Test acc: 82.09%\n",
            "Epoch: 1\n",
            "---------\n",
            "Train loss: 0.4834 | Train acc: 82.77%\n",
            "Test loss: 0.4890 | Test acc: 82.69%\n",
            "Epoch: 2\n",
            "---------\n",
            "Train loss: 0.4495 | Train acc: 83.87%\n",
            "Test loss: 0.4858 | Test acc: 82.89%\n",
            "Train time:  26.134\n"
          ]
        }
      ],
      "source": [
        "from timeit import default_timer as timer\n",
        "torch.manual_seed(42)\n",
        "start_timer = timer()\n",
        "epochs = 3\n",
        "for epoch in tqdm(range(epochs)):\n",
        "  print(f\"Epoch: {epoch}\\n---------\")\n",
        "  train_step(model=model_1,\n",
        "             loss_fn=loss_fn,\n",
        "             optimizer=optimizer,\n",
        "             dataloader=train_dataloader,\n",
        "             accuracy=accuracy_fn)\n",
        "  test_step(model=model_1,\n",
        "            loss_fn=loss_fn,\n",
        "            dataloader=test_dataloader,\n",
        "            accuracy=accuracy_fn)\n",
        "end_timer = timer()\n",
        "total_time_model_1 = print_train_time(start=start_timer,end=end_timer)\n"
      ]
    },
    {
      "cell_type": "code",
      "execution_count": 34,
      "metadata": {
        "colab": {
          "base_uri": "https://localhost:8080/"
        },
        "id": "tzv7as_4wFkv",
        "outputId": "2742359f-b51b-463a-e7b0-f6b7d0c695a4"
      },
      "outputs": [
        {
          "output_type": "execute_result",
          "data": {
            "text/plain": [
              "{'model_name': 'FashionMNISTModelV0',\n",
              " 'model_loss': 0.47663888335227966,\n",
              " 'model_acc': 83.42651757188499}"
            ]
          },
          "metadata": {},
          "execution_count": 34
        }
      ],
      "source": [
        "model_0_results"
      ]
    },
    {
      "cell_type": "code",
      "execution_count": 35,
      "metadata": {
        "colab": {
          "base_uri": "https://localhost:8080/",
          "height": 103,
          "referenced_widgets": [
            "92ee24073fda46f8b1c46dcf7801fce5",
            "2cbf1f26ccd74078b180d3b391cc1668",
            "334c89db926545f69a6de9b805afe794",
            "48f11cff79d144d9885621e07577cac1",
            "cca4414a4c064c40b97b9e9db280590f",
            "94732b6b03714990b0642cc08f99a487",
            "aaffd5e65f6a40e4890d568da5146808",
            "9cdc781451094d0980eb5acd9fb7ff54",
            "d1a62a635d0b41519f8e86d4f5c9410b",
            "97b099c877ec450193cfd95b8302ae37",
            "75166c77b1bb485bb260c3ca2051a81c"
          ]
        },
        "id": "ks1qmKRlwFwh",
        "outputId": "fd207e8c-4801-4899-ddf3-aee5ec462598"
      },
      "outputs": [
        {
          "output_type": "display_data",
          "data": {
            "text/plain": [
              "  0%|          | 0/313 [00:00<?, ?it/s]"
            ],
            "application/vnd.jupyter.widget-view+json": {
              "version_major": 2,
              "version_minor": 0,
              "model_id": "92ee24073fda46f8b1c46dcf7801fce5"
            }
          },
          "metadata": {}
        },
        {
          "output_type": "execute_result",
          "data": {
            "text/plain": [
              "{'model_name': 'FashionMNISTModelV1',\n",
              " 'model_loss': 0.48580455780029297,\n",
              " 'model_acc': 82.8873801916933}"
            ]
          },
          "metadata": {},
          "execution_count": 35
        }
      ],
      "source": [
        "model_1_results = eval_model(model=model_1,\n",
        "                             loss=loss_fn,\n",
        "                             accuracy_fn=accuracy_fn,\n",
        "                             dataloader=test_dataloader)\n",
        "model_1_results"
      ]
    },
    {
      "cell_type": "markdown",
      "metadata": {
        "id": "vhPpS0z8wGGD"
      },
      "source": [
        "** note :** sometimes, depending on your data/hardware we might find that our model trains faster on cpu than gpu.\n",
        "\n",
        "why is this?\n",
        "1. it could be that the overhead for copying data/hardware to and from the GPU outweights the compute benefits offfered by the gpu.\n",
        "2. the hardware we are using has a better CPU in terms compute capability than GPU"
      ]
    },
    {
      "cell_type": "markdown",
      "metadata": {
        "id": "YdlX8RdywGZX"
      },
      "source": [
        "for CNN :- https://poloclub.github.io/cnn-explainer/"
      ]
    },
    {
      "cell_type": "code",
      "execution_count": 36,
      "metadata": {
        "id": "j9L9ZfwFwGsz"
      },
      "outputs": [],
      "source": [
        "class FashionMNISTModelV2(nn.Module):\n",
        "  def __init__(self ,\n",
        "               input_features:int ,\n",
        "               output_features:int ,\n",
        "               hidden_units:int):\n",
        "    super().__init__()\n",
        "    self.conv_block_1 = nn.Sequential(\n",
        "        nn.Conv2d(in_channels=input_features,\n",
        "                  out_channels=hidden_units,\n",
        "                  kernel_size=3,\n",
        "                  stride=1,\n",
        "                  padding=1),\n",
        "        nn.ReLU(),\n",
        "        nn.Conv2d(in_channels=hidden_units,\n",
        "                  out_channels=hidden_units,\n",
        "                  kernel_size=3,\n",
        "                  stride=1,\n",
        "                  padding=1),\n",
        "        nn.ReLU(),\n",
        "        nn.MaxPool2d(kernel_size=2)\n",
        "    )\n",
        "    self.conv_block_2 = nn.Sequential(\n",
        "        nn.Conv2d(in_channels=hidden_units,\n",
        "                  out_channels=hidden_units,\n",
        "                  kernel_size=3,\n",
        "                  stride=1,\n",
        "                  padding=1),\n",
        "        nn.ReLU(),\n",
        "        nn.Conv2d(in_channels=hidden_units,\n",
        "                  out_channels=hidden_units,\n",
        "                  kernel_size=3,\n",
        "                  stride=1,\n",
        "                  padding=1),\n",
        "        nn.ReLU(),\n",
        "        nn.MaxPool2d(kernel_size=2)\n",
        "    )\n",
        "    self.classifier = nn.Sequential(\n",
        "        nn.Flatten(),\n",
        "        nn.Linear(in_features=hidden_units*7*7,\n",
        "                  out_features=output_features)\n",
        "    )\n",
        "  def forward(self,x):\n",
        "    z = self.conv_block_1(x)\n",
        "    z = self.conv_block_2(z)\n",
        "    z = self.classifier(z)\n",
        "    return z\n",
        "\n",
        "\n"
      ]
    },
    {
      "cell_type": "code",
      "execution_count": 37,
      "metadata": {
        "colab": {
          "base_uri": "https://localhost:8080/",
          "height": 448
        },
        "id": "29E7jijfXK9D",
        "outputId": "fb917d56-f904-4b73-a57f-938cdc430932"
      },
      "outputs": [
        {
          "output_type": "execute_result",
          "data": {
            "text/plain": [
              "<matplotlib.image.AxesImage at 0x78f4511f6a10>"
            ]
          },
          "metadata": {},
          "execution_count": 37
        },
        {
          "output_type": "display_data",
          "data": {
            "text/plain": [
              "<Figure size 640x480 with 1 Axes>"
            ],
            "image/png": "[encoded data removed]"
          },
          "metadata": {}
        }
      ],
      "source": [
        "plt.imshow(img.squeeze(),cmap=\"gray\")"
      ]
    },
    {
      "cell_type": "code",
      "execution_count": 38,
      "metadata": {
        "colab": {
          "base_uri": "https://localhost:8080/"
        },
        "id": "e9H81Gza6mIs",
        "outputId": "64702a3d-609e-4a72-9a56-873a0247df48"
      },
      "outputs": [
        {
          "output_type": "execute_result",
          "data": {
            "text/plain": [
              "FashionMNISTModelV2(\n",
              "  (conv_block_1): Sequential(\n",
              "    (0): Conv2d(1, 10, kernel_size=(3, 3), stride=(1, 1), padding=(1, 1))\n",
              "    (1): ReLU()\n",
              "    (2): Conv2d(10, 10, kernel_size=(3, 3), stride=(1, 1), padding=(1, 1))\n",
              "    (3): ReLU()\n",
              "    (4): MaxPool2d(kernel_size=2, stride=2, padding=0, dilation=1, ceil_mode=False)\n",
              "  )\n",
              "  (conv_block_2): Sequential(\n",
              "    (0): Conv2d(10, 10, kernel_size=(3, 3), stride=(1, 1), padding=(1, 1))\n",
              "    (1): ReLU()\n",
              "    (2): Conv2d(10, 10, kernel_size=(3, 3), stride=(1, 1), padding=(1, 1))\n",
              "    (3): ReLU()\n",
              "    (4): MaxPool2d(kernel_size=2, stride=2, padding=0, dilation=1, ceil_mode=False)\n",
              "  )\n",
              "  (classifier): Sequential(\n",
              "    (0): Flatten(start_dim=1, end_dim=-1)\n",
              "    (1): Linear(in_features=490, out_features=10, bias=True)\n",
              "  )\n",
              ")"
            ]
          },
          "metadata": {},
          "execution_count": 38
        }
      ],
      "source": [
        "torch.manual_seed(42)\n",
        "model_2 = FashionMNISTModelV2(input_features=1,\n",
        "                              output_features=len(class_names),\n",
        "                              hidden_units=10)\n",
        "model_2"
      ]
    },
    {
      "cell_type": "code",
      "execution_count": 39,
      "metadata": {
        "colab": {
          "base_uri": "https://localhost:8080/"
        },
        "id": "Or2A3MDZA9TL",
        "outputId": "6a3b0ca4-538b-43b4-9adb-32e897de6673"
      },
      "outputs": [
        {
          "output_type": "execute_result",
          "data": {
            "text/plain": [
              "torch.Size([1, 1, 28, 28])"
            ]
          },
          "metadata": {},
          "execution_count": 39
        }
      ],
      "source": [
        "torch_random_tensor = torch.rand(size=(1,1,28,28))\n",
        "torch_random_tensor.shape"
      ]
    },
    {
      "cell_type": "code",
      "execution_count": 40,
      "metadata": {
        "colab": {
          "base_uri": "https://localhost:8080/"
        },
        "id": "zGoQkE3e5TLs",
        "outputId": "de69232e-2aac-4293-af9e-9cd73244eb8c"
      },
      "outputs": [
        {
          "output_type": "execute_result",
          "data": {
            "text/plain": [
              "tensor([[ 0.0372, -0.0748,  0.0573, -0.0396, -0.0098,  0.0194, -0.0003, -0.0114,\n",
              "          0.0206,  0.0003]], grad_fn=<AddmmBackward0>)"
            ]
          },
          "metadata": {},
          "execution_count": 40
        }
      ],
      "source": [
        "model_2(torch_random_tensor)"
      ]
    },
    {
      "cell_type": "markdown",
      "metadata": {
        "id": "gfNP0zrsXOuQ"
      },
      "source": [
        "in features for conv layer is no of color channnel and since our image is in black and white so it is 1"
      ]
    },
    {
      "cell_type": "code",
      "execution_count": 41,
      "metadata": {
        "colab": {
          "base_uri": "https://localhost:8080/"
        },
        "id": "rx0ttigyHu3a",
        "outputId": "62de3d55-ca92-47b8-80b8-9b6e34448df0"
      },
      "outputs": [
        {
          "output_type": "execute_result",
          "data": {
            "text/plain": [
              "FashionMNISTModelV2(\n",
              "  (conv_block_1): Sequential(\n",
              "    (0): Conv2d(1, 10, kernel_size=(3, 3), stride=(1, 1), padding=(1, 1))\n",
              "    (1): ReLU()\n",
              "    (2): Conv2d(10, 10, kernel_size=(3, 3), stride=(1, 1), padding=(1, 1))\n",
              "    (3): ReLU()\n",
              "    (4): MaxPool2d(kernel_size=2, stride=2, padding=0, dilation=1, ceil_mode=False)\n",
              "  )\n",
              "  (conv_block_2): Sequential(\n",
              "    (0): Conv2d(10, 10, kernel_size=(3, 3), stride=(1, 1), padding=(1, 1))\n",
              "    (1): ReLU()\n",
              "    (2): Conv2d(10, 10, kernel_size=(3, 3), stride=(1, 1), padding=(1, 1))\n",
              "    (3): ReLU()\n",
              "    (4): MaxPool2d(kernel_size=2, stride=2, padding=0, dilation=1, ceil_mode=False)\n",
              "  )\n",
              "  (classifier): Sequential(\n",
              "    (0): Flatten(start_dim=1, end_dim=-1)\n",
              "    (1): Linear(in_features=490, out_features=10, bias=True)\n",
              "  )\n",
              ")"
            ]
          },
          "metadata": {},
          "execution_count": 41
        }
      ],
      "source": [
        "torch.manual_seed(42)\n",
        "model_2 = FashionMNISTModelV2(input_features=1,\n",
        "                              output_features=len(class_names),\n",
        "                              hidden_units=10)\n",
        "model_2"
      ]
    },
    {
      "cell_type": "markdown",
      "metadata": {
        "id": "MpfqebWyHvBx"
      },
      "source": [
        "# stepping through `nn.Conv2d()`"
      ]
    },
    {
      "cell_type": "code",
      "execution_count": 42,
      "metadata": {
        "colab": {
          "base_uri": "https://localhost:8080/"
        },
        "id": "8CisGCcoHvMC",
        "outputId": "55244840-26a5-4bdc-bd73-27794867db0b"
      },
      "outputs": [
        {
          "output_type": "stream",
          "name": "stdout",
          "text": [
            "shape of images: torch.Size([32, 3, 64, 64])\n",
            "shape of test image: torch.Size([3, 64, 64])\n",
            "test image: tensor([[[0.8823, 0.9150, 0.3829,  ..., 0.1587, 0.6542, 0.3278],\n",
            "         [0.6532, 0.3958, 0.9147,  ..., 0.2083, 0.3289, 0.1054],\n",
            "         [0.9192, 0.4008, 0.9302,  ..., 0.5535, 0.4117, 0.3510],\n",
            "         ...,\n",
            "         [0.1457, 0.1499, 0.3298,  ..., 0.9624, 0.6400, 0.7409],\n",
            "         [0.1709, 0.5797, 0.6340,  ..., 0.6885, 0.2405, 0.5956],\n",
            "         [0.9199, 0.1247, 0.3573,  ..., 0.6752, 0.2058, 0.5027]],\n",
            "\n",
            "        [[0.1458, 0.9024, 0.9217,  ..., 0.1868, 0.6352, 0.8431],\n",
            "         [0.9549, 0.4435, 0.6924,  ..., 0.1168, 0.7160, 0.5462],\n",
            "         [0.1616, 0.1054, 0.8614,  ..., 0.4531, 0.4736, 0.9448],\n",
            "         ...,\n",
            "         [0.4309, 0.3986, 0.1907,  ..., 0.9444, 0.2848, 0.3776],\n",
            "         [0.7948, 0.6855, 0.1009,  ..., 0.6147, 0.7747, 0.2323],\n",
            "         [0.5840, 0.9795, 0.3277,  ..., 0.3549, 0.1263, 0.1280]],\n",
            "\n",
            "        [[0.5027, 0.4195, 0.8893,  ..., 0.3084, 0.1567, 0.7860],\n",
            "         [0.7310, 0.9307, 0.2847,  ..., 0.8432, 0.8307, 0.0897],\n",
            "         [0.7021, 0.5967, 0.7744,  ..., 0.8485, 0.4520, 0.0401],\n",
            "         ...,\n",
            "         [0.5440, 0.0679, 0.6577,  ..., 0.9948, 0.2791, 0.4142],\n",
            "         [0.5095, 0.1246, 0.1726,  ..., 0.0984, 0.3224, 0.3125],\n",
            "         [0.3612, 0.8706, 0.4751,  ..., 0.5368, 0.2389, 0.2095]]])\n"
          ]
        }
      ],
      "source": [
        "torch.manual_seed(42)\n",
        "images = torch.rand(size=(32,3,64,64))\n",
        "test_image = images[0]\n",
        "print(f\"shape of images: {images.shape}\")\n",
        "print(f\"shape of test image: {test_image.shape}\")\n",
        "print(f\"test image: {test_image}\")"
      ]
    },
    {
      "cell_type": "code",
      "execution_count": 43,
      "metadata": {
        "id": "bBt4xbWfHvWO"
      },
      "outputs": [],
      "source": [
        "# create a single conv2d layer\n",
        "torch.manual_seed(42)\n",
        "conv_layer = nn.Conv2d(in_channels=3,\n",
        "                       out_channels=10,\n",
        "                       kernel_size=3,\n",
        "                       stride=1,\n",
        "                       padding=0)\n",
        "conv_output = conv_layer(test_image)\n",
        "conv_output1 = conv_layer(images)\n"
      ]
    },
    {
      "cell_type": "code",
      "execution_count": 44,
      "metadata": {
        "colab": {
          "base_uri": "https://localhost:8080/"
        },
        "id": "kejkP-9Bq6EQ",
        "outputId": "fa8bd1b7-71e8-4888-d916-69b380d04f32"
      },
      "outputs": [
        {
          "output_type": "stream",
          "name": "stdout",
          "text": [
            "shape of conv_output: torch.Size([10, 62, 62])\n",
            "shape of conv_output1: torch.Size([32, 10, 62, 62])\n"
          ]
        }
      ],
      "source": [
        "print(f\"shape of conv_output: {conv_output.shape}\")\n",
        "print(f\"shape of conv_output1: {conv_output1.shape}\")"
      ]
    },
    {
      "cell_type": "code",
      "execution_count": 45,
      "metadata": {
        "colab": {
          "base_uri": "https://localhost:8080/"
        },
        "id": "4k88Vz5BxTgR",
        "outputId": "8a13ad62-6e1e-4e3a-c46d-f888bb624b5b"
      },
      "outputs": [
        {
          "output_type": "execute_result",
          "data": {
            "text/plain": [
              "tensor([[[0.8823, 0.9150, 0.3829,  ..., 0.1587, 0.6542, 0.3278],\n",
              "         [0.6532, 0.3958, 0.9147,  ..., 0.2083, 0.3289, 0.1054],\n",
              "         [0.9192, 0.4008, 0.9302,  ..., 0.5535, 0.4117, 0.3510],\n",
              "         ...,\n",
              "         [0.1457, 0.1499, 0.3298,  ..., 0.9624, 0.6400, 0.7409],\n",
              "         [0.1709, 0.5797, 0.6340,  ..., 0.6885, 0.2405, 0.5956],\n",
              "         [0.9199, 0.1247, 0.3573,  ..., 0.6752, 0.2058, 0.5027]],\n",
              "\n",
              "        [[0.1458, 0.9024, 0.9217,  ..., 0.1868, 0.6352, 0.8431],\n",
              "         [0.9549, 0.4435, 0.6924,  ..., 0.1168, 0.7160, 0.5462],\n",
              "         [0.1616, 0.1054, 0.8614,  ..., 0.4531, 0.4736, 0.9448],\n",
              "         ...,\n",
              "         [0.4309, 0.3986, 0.1907,  ..., 0.9444, 0.2848, 0.3776],\n",
              "         [0.7948, 0.6855, 0.1009,  ..., 0.6147, 0.7747, 0.2323],\n",
              "         [0.5840, 0.9795, 0.3277,  ..., 0.3549, 0.1263, 0.1280]],\n",
              "\n",
              "        [[0.5027, 0.4195, 0.8893,  ..., 0.3084, 0.1567, 0.7860],\n",
              "         [0.7310, 0.9307, 0.2847,  ..., 0.8432, 0.8307, 0.0897],\n",
              "         [0.7021, 0.5967, 0.7744,  ..., 0.8485, 0.4520, 0.0401],\n",
              "         ...,\n",
              "         [0.5440, 0.0679, 0.6577,  ..., 0.9948, 0.2791, 0.4142],\n",
              "         [0.5095, 0.1246, 0.1726,  ..., 0.0984, 0.3224, 0.3125],\n",
              "         [0.3612, 0.8706, 0.4751,  ..., 0.5368, 0.2389, 0.2095]]])"
            ]
          },
          "metadata": {},
          "execution_count": 45
        }
      ],
      "source": [
        "test_image"
      ]
    },
    {
      "cell_type": "markdown",
      "metadata": {
        "id": "2PYAYMGuq6NM"
      },
      "source": [
        "#stepping thr `nn.Maxpool2d`"
      ]
    },
    {
      "cell_type": "code",
      "execution_count": 46,
      "metadata": {
        "colab": {
          "base_uri": "https://localhost:8080/"
        },
        "id": "7cFQlftbq6Vl",
        "outputId": "914f96cb-44b5-46ba-f550-d74850059a8b"
      },
      "outputs": [
        {
          "output_type": "stream",
          "name": "stdout",
          "text": [
            "original test image size: torch.Size([3, 64, 64])\n",
            "test image with unsqueezed dimension:torch.Size([1, 3, 64, 64])\n",
            "shape after going thr conv layer: torch.Size([10, 62, 62])\n",
            "shape after going thr maxpool layer: torch.Size([10, 31, 31])\n"
          ]
        }
      ],
      "source": [
        "print(f\"original test image size: {test_image.shape}\")\n",
        "print(f\"test image with unsqueezed dimension:{test_image.unsqueeze(0).shape}\")\n",
        "\n",
        "max_pool_layer = nn.MaxPool2d(kernel_size=2)\n",
        "\n",
        "test_image_through_conv = conv_layer(test_image)\n",
        "print(f\"shape after going thr conv layer: {test_image_through_conv.shape}\")\n",
        "\n",
        "test_image_through_maxpool = max_pool_layer(test_image_through_conv)\n",
        "print(f\"shape after going thr maxpool layer: {test_image_through_maxpool.shape}\")"
      ]
    },
    {
      "cell_type": "code",
      "execution_count": 47,
      "metadata": {
        "colab": {
          "base_uri": "https://localhost:8080/"
        },
        "id": "IHBYf2squbGe",
        "outputId": "a9c143f7-b61c-4167-9b73-945e0019cbac"
      },
      "outputs": [
        {
          "output_type": "stream",
          "name": "stdout",
          "text": [
            "random tensor:tensor([[[[0.8823, 0.9150],\n",
            "          [0.3829, 0.9593]]]])\n",
            "random tensor shape:torch.Size([1, 1, 2, 2])\n",
            "max pool tensor:tensor([[[[0.9593]]]])\n",
            "max pool tensor shape:torch.Size([1, 1, 1, 1])\n"
          ]
        }
      ],
      "source": [
        "torch.manual_seed(42)\n",
        "random_tensor = torch.rand(size=[1,1,2,2])\n",
        "print(f\"random tensor:{random_tensor}\")\n",
        "print(f\"random tensor shape:{random_tensor.shape}\")\n",
        "max_pool_tensor = max_pool_layer(random_tensor)\n",
        "print(f\"max pool tensor:{max_pool_tensor}\")\n",
        "print(f\"max pool tensor shape:{max_pool_tensor.shape}\")"
      ]
    },
    {
      "cell_type": "markdown",
      "metadata": {
        "id": "-tMQz8nNubQ7"
      },
      "source": [
        "conv2d layer\n",
        "1. kernel is like a filter that learns imp features of images and comprass the images\n",
        "2. stride determines how kernal should move across images i.e. if we set stride to 1 than it learns minor details skipping 1 column and if stride set to 2 then it learns details not much minor comparing to setting 1 which skips column 2 and make kernal moves and so on. also stride increase than image get more comprass\n",
        "3. padding is set if we want to maintain original shape of image or if we want model to learn features focusing the edges ."
      ]
    },
    {
      "cell_type": "markdown",
      "metadata": {
        "id": "oBVPmMDEubbq"
      },
      "source": [
        "maxpool2d layer\n",
        "it picks the imp features or maximum values from image with kernel that acts as window and compresses the image so if kernal is 2 then it picks imp features more detailly and if set 3 then it picks imp features detailly but no much comparing to when set 2 and also image comprass more when kernal set higher"
      ]
    },
    {
      "cell_type": "markdown",
      "metadata": {
        "id": "PdrK-IRJDHLJ"
      },
      "source": []
    },
    {
      "cell_type": "code",
      "execution_count": 48,
      "metadata": {
        "id": "VxNMT8QcCply"
      },
      "outputs": [],
      "source": [
        "from helper_functions import accuracy_fn\n",
        "loss_fn = nn.CrossEntropyLoss()\n",
        "optimizer = torch.optim.SGD(params=model_2.parameters(),lr=0.1)"
      ]
    },
    {
      "cell_type": "code",
      "execution_count": 49,
      "metadata": {
        "colab": {
          "base_uri": "https://localhost:8080/",
          "height": 281,
          "referenced_widgets": [
            "b4d6d90a7dd740799a11bd3d3dfed99a",
            "61e5beba0e5e482dadde285ea558b4b6",
            "eb32b9be5f424b5e8fe879c1a06d8092",
            "c5bcc317f4a94d4398b83697fc6586ff",
            "2e0ce483b6014ab98f0ef0ccd4965c7d",
            "69c8072c0d25400ebd608d80c2902110",
            "b281626fdae9494e91b1577e976536a0",
            "844d6be8e6b34a699305dd2f33231320",
            "755aa73c967a464f97ff41f8d05994e1",
            "ff1301d1d8bd44aa8d17b61e07a948b7",
            "5716faa53f4b4fc3871b154c48de8768"
          ]
        },
        "id": "lt-CEXgo4cw_",
        "outputId": "9b80dbb1-08ab-4373-9fa7-27c9d77ee1b7"
      },
      "outputs": [
        {
          "output_type": "display_data",
          "data": {
            "text/plain": [
              "  0%|          | 0/3 [00:00<?, ?it/s]"
            ],
            "application/vnd.jupyter.widget-view+json": {
              "version_major": 2,
              "version_minor": 0,
              "model_id": "b4d6d90a7dd740799a11bd3d3dfed99a"
            }
          },
          "metadata": {}
        },
        {
          "output_type": "stream",
          "name": "stdout",
          "text": [
            "Epoch: 0\n",
            "---------\n",
            "Train loss: 0.5905 | Train acc: 78.60%\n",
            "Test loss: 0.3949 | Test acc: 85.89%\n",
            "Epoch: 1\n",
            "---------\n",
            "Train loss: 0.3637 | Train acc: 86.81%\n",
            "Test loss: 0.3539 | Test acc: 86.95%\n",
            "Epoch: 2\n",
            "---------\n",
            "Train loss: 0.3260 | Train acc: 88.19%\n",
            "Test loss: 0.3228 | Test acc: 88.21%\n",
            "Train time:  105.836\n"
          ]
        }
      ],
      "source": [
        "torch.manual_seed(42)\n",
        "torch.cuda.manual_seed(42) # only when we working on cuda device\n",
        "start_time = timer()\n",
        "epochs = 3\n",
        "for epoch in tqdm(range(epochs)):\n",
        "  print(f\"Epoch: {epoch}\\n---------\")\n",
        "  train_step(model=model_2,\n",
        "             loss_fn=loss_fn,\n",
        "             optimizer=optimizer,\n",
        "             dataloader=train_dataloader,\n",
        "             accuracy=accuracy_fn)\n",
        "  test_step(model=model_2,\n",
        "            loss_fn=loss_fn,\n",
        "            dataloader=test_dataloader,\n",
        "            accuracy=accuracy_fn)\n",
        "end_time = timer()\n",
        "total_time = print_train_time(start=start_time,end=end_time)"
      ]
    },
    {
      "cell_type": "code",
      "execution_count": 50,
      "metadata": {
        "colab": {
          "base_uri": "https://localhost:8080/",
          "height": 103,
          "referenced_widgets": [
            "c3cc43a3759346139a7b84b0a092cafd",
            "28765ff5d5fc48b683c4761438b113e5",
            "81838ce133a44eacb0e0f7353089eea0",
            "73affe2019084f2c9dadedd59910f507",
            "bb98144b0dd442659e85b2608b74d4c3",
            "a9dae2521b234876a381150cf5a3a8a3",
            "efa2ea5bacdb4b44b8df9e8192d26b81",
            "230da18517464e4ba6cb2de3386b2417",
            "f951c4dafacb43bfa9a5455c8e71798b",
            "dfd223c3d59c48c3b8c7dd00de660b0e",
            "344fc2aafc3d47b481f424c83a049cb2"
          ]
        },
        "id": "vjQ89G5YFZMB",
        "outputId": "5ab1ec65-ca6a-4283-ad8c-5bcbce8652ed"
      },
      "outputs": [
        {
          "output_type": "display_data",
          "data": {
            "text/plain": [
              "  0%|          | 0/313 [00:00<?, ?it/s]"
            ],
            "application/vnd.jupyter.widget-view+json": {
              "version_major": 2,
              "version_minor": 0,
              "model_id": "c3cc43a3759346139a7b84b0a092cafd"
            }
          },
          "metadata": {}
        },
        {
          "output_type": "execute_result",
          "data": {
            "text/plain": [
              "{'model_name': 'FashionMNISTModelV2',\n",
              " 'model_loss': 0.322807252407074,\n",
              " 'model_acc': 88.20886581469648}"
            ]
          },
          "metadata": {},
          "execution_count": 50
        }
      ],
      "source": [
        "model_2_result = eval_model(model=model_2,\n",
        "                             loss=loss_fn,\n",
        "                             accuracy_fn=accuracy_fn,\n",
        "                             dataloader=test_dataloader)\n",
        "model_2_result"
      ]
    },
    {
      "cell_type": "code",
      "execution_count": 51,
      "metadata": {
        "colab": {
          "base_uri": "https://localhost:8080/"
        },
        "id": "ywJBHIH14c6f",
        "outputId": "9717267d-69b7-4406-f534-6b99c80e31fe"
      },
      "outputs": [
        {
          "output_type": "stream",
          "name": "stdout",
          "text": [
            "{'model_name': 'FashionMNISTModelV0', 'model_loss': 0.47663888335227966, 'model_acc': 83.42651757188499}\n",
            "{'model_name': 'FashionMNISTModelV1', 'model_loss': 0.48580455780029297, 'model_acc': 82.8873801916933}\n",
            "{'model_name': 'FashionMNISTModelV2', 'model_loss': 0.322807252407074, 'model_acc': 88.20886581469648}\n"
          ]
        }
      ],
      "source": [
        "print(model_0_results)\n",
        "print(model_1_results)\n",
        "print(model_2_result)"
      ]
    },
    {
      "cell_type": "markdown",
      "metadata": {
        "id": "_yM7qJ8z4dD1"
      },
      "source": [
        "comparing model results and trainig time"
      ]
    },
    {
      "cell_type": "code",
      "execution_count": 52,
      "metadata": {
        "colab": {
          "base_uri": "https://localhost:8080/",
          "height": 143
        },
        "id": "by4CcLUA4dNN",
        "outputId": "bbc745a9-1a88-4fd8-b177-87d509828ded"
      },
      "outputs": [
        {
          "output_type": "execute_result",
          "data": {
            "text/plain": [
              "            model_name  model_loss  model_acc\n",
              "0  FashionMNISTModelV0    0.476639  83.426518\n",
              "1  FashionMNISTModelV1    0.485805  82.887380\n",
              "2  FashionMNISTModelV2    0.322807  88.208866"
            ],
            "text/html": [
              "\n",
              "  <div id=\"df-0214e25a-2e17-4f4b-804a-6c2967d292cf\" class=\"colab-df-container\">\n",
              "    <div>\n",
              "<style scoped>\n",
              "    .dataframe tbody tr th:only-of-type {\n",
              "        vertical-align: middle;\n",
              "    }\n",
              "\n",
              "    .dataframe tbody tr th {\n",
              "        vertical-align: top;\n",
              "    }\n",
              "\n",
              "    .dataframe thead th {\n",
              "        text-align: right;\n",
              "    }\n",
              "</style>\n",
              "<table border=\"1\" class=\"dataframe\">\n",
              "  <thead>\n",
              "    <tr style=\"text-align: right;\">\n",
              "      <th></th>\n",
              "      <th>model_name</th>\n",
              "      <th>model_loss</th>\n",
              "      <th>model_acc</th>\n",
              "    </tr>\n",
              "  </thead>\n",
              "  <tbody>\n",
              "    <tr>\n",
              "      <th>0</th>\n",
              "      <td>FashionMNISTModelV0</td>\n",
              "      <td>0.476639</td>\n",
              "      <td>83.426518</td>\n",
              "    </tr>\n",
              "    <tr>\n",
              "      <th>1</th>\n",
              "      <td>FashionMNISTModelV1</td>\n",
              "      <td>0.485805</td>\n",
              "      <td>82.887380</td>\n",
              "    </tr>\n",
              "    <tr>\n",
              "      <th>2</th>\n",
              "      <td>FashionMNISTModelV2</td>\n",
              "      <td>0.322807</td>\n",
              "      <td>88.208866</td>\n",
              "    </tr>\n",
              "  </tbody>\n",
              "</table>\n",
              "</div>\n",
              "    <div class=\"colab-df-buttons\">\n",
              "\n",
              "  <div class=\"colab-df-container\">\n",
              "    <button class=\"colab-df-convert\" onclick=\"convertToInteractive('df-0214e25a-2e17-4f4b-804a-6c2967d292cf')\"\n",
              "            title=\"Convert this dataframe to an interactive table.\"\n",
              "            style=\"display:none;\">\n",
              "\n",
              "  <svg xmlns=\"http://www.w3.org/2000/svg\" height=\"24px\" viewBox=\"0 -960 960 960\">\n",
              "    <path d=\"M120-120v-720h720v720H120Zm60-500h600v-160H180v160Zm220 220h160v-160H400v160Zm0 220h160v-160H400v160ZM180-400h160v-160H180v160Zm440 0h160v-160H620v160ZM180-180h160v-160H180v160Zm440 0h160v-160H620v160Z\"/>\n",
              "  </svg>\n",
              "    </button>\n",
              "\n",
              "  <style>\n",
              "    .colab-df-container {\n",
              "      display:flex;\n",
              "      gap: 12px;\n",
              "    }\n",
              "\n",
              "    .colab-df-convert {\n",
              "      background-color: #E8F0FE;\n",
              "      border: none;\n",
              "      border-radius: 50%;\n",
              "      cursor: pointer;\n",
              "      display: none;\n",
              "      fill: #1967D2;\n",
              "      height: 32px;\n",
              "      padding: 0 0 0 0;\n",
              "      width: 32px;\n",
              "    }\n",
              "\n",
              "    .colab-df-convert:hover {\n",
              "      background-color: #E2EBFA;\n",
              "      box-shadow: 0px 1px 2px rgba(60, 64, 67, 0.3), 0px 1px 3px 1px rgba(60, 64, 67, 0.15);\n",
              "      fill: #174EA6;\n",
              "    }\n",
              "\n",
              "    .colab-df-buttons div {\n",
              "      margin-bottom: 4px;\n",
              "    }\n",
              "\n",
              "    [theme=dark] .colab-df-convert {\n",
              "      background-color: #3B4455;\n",
              "      fill: #D2E3FC;\n",
              "    }\n",
              "\n",
              "    [theme=dark] .colab-df-convert:hover {\n",
              "      background-color: #434B5C;\n",
              "      box-shadow: 0px 1px 3px 1px rgba(0, 0, 0, 0.15);\n",
              "      filter: drop-shadow(0px 1px 2px rgba(0, 0, 0, 0.3));\n",
              "      fill: #FFFFFF;\n",
              "    }\n",
              "  </style>\n",
              "\n",
              "    <script>\n",
              "      const buttonEl =\n",
              "        document.querySelector('#df-0214e25a-2e17-4f4b-804a-6c2967d292cf button.colab-df-convert');\n",
              "      buttonEl.style.display =\n",
              "        google.colab.kernel.accessAllowed ? 'block' : 'none';\n",
              "\n",
              "      async function convertToInteractive(key) {\n",
              "        const element = document.querySelector('#df-0214e25a-2e17-4f4b-804a-6c2967d292cf');\n",
              "        const dataTable =\n",
              "          await google.colab.kernel.invokeFunction('convertToInteractive',\n",
              "                                                    [key], {});\n",
              "        if (!dataTable) return;\n",
              "\n",
              "        const docLinkHtml = 'Like what you see? Visit the ' +\n",
              "          '<a target=\"_blank\" href=https://colab.research.google.com/notebooks/data_table.ipynb>data table notebook</a>'\n",
              "          + ' to learn more about interactive tables.';\n",
              "        element.innerHTML = '';\n",
              "        dataTable['output_type'] = 'display_data';\n",
              "        await google.colab.output.renderOutput(dataTable, element);\n",
              "        const docLink = document.createElement('div');\n",
              "        docLink.innerHTML = docLinkHtml;\n",
              "        element.appendChild(docLink);\n",
              "      }\n",
              "    </script>\n",
              "  </div>\n",
              "\n",
              "\n",
              "    <div id=\"df-0f4b87a5-b5bd-40e3-8803-7c53a1a08360\">\n",
              "      <button class=\"colab-df-quickchart\" onclick=\"quickchart('df-0f4b87a5-b5bd-40e3-8803-7c53a1a08360')\"\n",
              "                title=\"Suggest charts\"\n",
              "                style=\"display:none;\">\n",
              "\n",
              "<svg xmlns=\"http://www.w3.org/2000/svg\" height=\"24px\"viewBox=\"0 0 24 24\"\n",
              "     width=\"24px\">\n",
              "    <g>\n",
              "        <path d=\"M19 3H5c-1.1 0-2 .9-2 2v14c0 1.1.9 2 2 2h14c1.1 0 2-.9 2-2V5c0-1.1-.9-2-2-2zM9 17H7v-7h2v7zm4 0h-2V7h2v10zm4 0h-2v-4h2v4z\"/>\n",
              "    </g>\n",
              "</svg>\n",
              "      </button>\n",
              "\n",
              "<style>\n",
              "  .colab-df-quickchart {\n",
              "      --bg-color: #E8F0FE;\n",
              "      --fill-color: #1967D2;\n",
              "      --hover-bg-color: #E2EBFA;\n",
              "      --hover-fill-color: #174EA6;\n",
              "      --disabled-fill-color: #AAA;\n",
              "      --disabled-bg-color: #DDD;\n",
              "  }\n",
              "\n",
              "  [theme=dark] .colab-df-quickchart {\n",
              "      --bg-color: #3B4455;\n",
              "      --fill-color: #D2E3FC;\n",
              "      --hover-bg-color: #434B5C;\n",
              "      --hover-fill-color: #FFFFFF;\n",
              "      --disabled-bg-color: #3B4455;\n",
              "      --disabled-fill-color: #666;\n",
              "  }\n",
              "\n",
              "  .colab-df-quickchart {\n",
              "    background-color: var(--bg-color);\n",
              "    border: none;\n",
              "    border-radius: 50%;\n",
              "    cursor: pointer;\n",
              "    display: none;\n",
              "    fill: var(--fill-color);\n",
              "    height: 32px;\n",
              "    padding: 0;\n",
              "    width: 32px;\n",
              "  }\n",
              "\n",
              "  .colab-df-quickchart:hover {\n",
              "    background-color: var(--hover-bg-color);\n",
              "    box-shadow: 0 1px 2px rgba(60, 64, 67, 0.3), 0 1px 3px 1px rgba(60, 64, 67, 0.15);\n",
              "    fill: var(--button-hover-fill-color);\n",
              "  }\n",
              "\n",
              "  .colab-df-quickchart-complete:disabled,\n",
              "  .colab-df-quickchart-complete:disabled:hover {\n",
              "    background-color: var(--disabled-bg-color);\n",
              "    fill: var(--disabled-fill-color);\n",
              "    box-shadow: none;\n",
              "  }\n",
              "\n",
              "  .colab-df-spinner {\n",
              "    border: 2px solid var(--fill-color);\n",
              "    border-color: transparent;\n",
              "    border-bottom-color: var(--fill-color);\n",
              "    animation:\n",
              "      spin 1s steps(1) infinite;\n",
              "  }\n",
              "\n",
              "  @keyframes spin {\n",
              "    0% {\n",
              "      border-color: transparent;\n",
              "      border-bottom-color: var(--fill-color);\n",
              "      border-left-color: var(--fill-color);\n",
              "    }\n",
              "    20% {\n",
              "      border-color: transparent;\n",
              "      border-left-color: var(--fill-color);\n",
              "      border-top-color: var(--fill-color);\n",
              "    }\n",
              "    30% {\n",
              "      border-color: transparent;\n",
              "      border-left-color: var(--fill-color);\n",
              "      border-top-color: var(--fill-color);\n",
              "      border-right-color: var(--fill-color);\n",
              "    }\n",
              "    40% {\n",
              "      border-color: transparent;\n",
              "      border-right-color: var(--fill-color);\n",
              "      border-top-color: var(--fill-color);\n",
              "    }\n",
              "    60% {\n",
              "      border-color: transparent;\n",
              "      border-right-color: var(--fill-color);\n",
              "    }\n",
              "    80% {\n",
              "      border-color: transparent;\n",
              "      border-right-color: var(--fill-color);\n",
              "      border-bottom-color: var(--fill-color);\n",
              "    }\n",
              "    90% {\n",
              "      border-color: transparent;\n",
              "      border-bottom-color: var(--fill-color);\n",
              "    }\n",
              "  }\n",
              "</style>\n",
              "\n",
              "      <script>\n",
              "        async function quickchart(key) {\n",
              "          const quickchartButtonEl =\n",
              "            document.querySelector('#' + key + ' button');\n",
              "          quickchartButtonEl.disabled = true;  // To prevent multiple clicks.\n",
              "          quickchartButtonEl.classList.add('colab-df-spinner');\n",
              "          try {\n",
              "            const charts = await google.colab.kernel.invokeFunction(\n",
              "                'suggestCharts', [key], {});\n",
              "          } catch (error) {\n",
              "            console.error('Error during call to suggestCharts:', error);\n",
              "          }\n",
              "          quickchartButtonEl.classList.remove('colab-df-spinner');\n",
              "          quickchartButtonEl.classList.add('colab-df-quickchart-complete');\n",
              "        }\n",
              "        (() => {\n",
              "          let quickchartButtonEl =\n",
              "            document.querySelector('#df-0f4b87a5-b5bd-40e3-8803-7c53a1a08360 button');\n",
              "          quickchartButtonEl.style.display =\n",
              "            google.colab.kernel.accessAllowed ? 'block' : 'none';\n",
              "        })();\n",
              "      </script>\n",
              "    </div>\n",
              "\n",
              "  <div id=\"id_e71d0bcb-2027-4e14-b4cc-f92f90198a57\">\n",
              "    <style>\n",
              "      .colab-df-generate {\n",
              "        background-color: #E8F0FE;\n",
              "        border: none;\n",
              "        border-radius: 50%;\n",
              "        cursor: pointer;\n",
              "        display: none;\n",
              "        fill: #1967D2;\n",
              "        height: 32px;\n",
              "        padding: 0 0 0 0;\n",
              "        width: 32px;\n",
              "      }\n",
              "\n",
              "      .colab-df-generate:hover {\n",
              "        background-color: #E2EBFA;\n",
              "        box-shadow: 0px 1px 2px rgba(60, 64, 67, 0.3), 0px 1px 3px 1px rgba(60, 64, 67, 0.15);\n",
              "        fill: #174EA6;\n",
              "      }\n",
              "\n",
              "      [theme=dark] .colab-df-generate {\n",
              "        background-color: #3B4455;\n",
              "        fill: #D2E3FC;\n",
              "      }\n",
              "\n",
              "      [theme=dark] .colab-df-generate:hover {\n",
              "        background-color: #434B5C;\n",
              "        box-shadow: 0px 1px 3px 1px rgba(0, 0, 0, 0.15);\n",
              "        filter: drop-shadow(0px 1px 2px rgba(0, 0, 0, 0.3));\n",
              "        fill: #FFFFFF;\n",
              "      }\n",
              "    </style>\n",
              "    <button class=\"colab-df-generate\" onclick=\"generateWithVariable('compare_results')\"\n",
              "            title=\"Generate code using this dataframe.\"\n",
              "            style=\"display:none;\">\n",
              "\n",
              "  <svg xmlns=\"http://www.w3.org/2000/svg\" height=\"24px\"viewBox=\"0 0 24 24\"\n",
              "       width=\"24px\">\n",
              "    <path d=\"M7,19H8.4L18.45,9,17,7.55,7,17.6ZM5,21V16.75L18.45,3.32a2,2,0,0,1,2.83,0l1.4,1.43a1.91,1.91,0,0,1,.58,1.4,1.91,1.91,0,0,1-.58,1.4L9.25,21ZM18.45,9,17,7.55Zm-12,3A5.31,5.31,0,0,0,4.9,8.1,5.31,5.31,0,0,0,1,6.5,5.31,5.31,0,0,0,4.9,4.9,5.31,5.31,0,0,0,6.5,1,5.31,5.31,0,0,0,8.1,4.9,5.31,5.31,0,0,0,12,6.5,5.46,5.46,0,0,0,6.5,12Z\"/>\n",
              "  </svg>\n",
              "    </button>\n",
              "    <script>\n",
              "      (() => {\n",
              "      const buttonEl =\n",
              "        document.querySelector('#id_e71d0bcb-2027-4e14-b4cc-f92f90198a57 button.colab-df-generate');\n",
              "      buttonEl.style.display =\n",
              "        google.colab.kernel.accessAllowed ? 'block' : 'none';\n",
              "\n",
              "      buttonEl.onclick = () => {\n",
              "        google.colab.notebook.generateWithVariable('compare_results');\n",
              "      }\n",
              "      })();\n",
              "    </script>\n",
              "  </div>\n",
              "\n",
              "    </div>\n",
              "  </div>\n"
            ],
            "application/vnd.google.colaboratory.intrinsic+json": {
              "type": "dataframe",
              "variable_name": "compare_results",
              "summary": "{\n  \"name\": \"compare_results\",\n  \"rows\": 3,\n  \"fields\": [\n    {\n      \"column\": \"model_name\",\n      \"properties\": {\n        \"dtype\": \"string\",\n        \"num_unique_values\": 3,\n        \"samples\": [\n          \"FashionMNISTModelV0\",\n          \"FashionMNISTModelV1\",\n          \"FashionMNISTModelV2\"\n        ],\n        \"semantic_type\": \"\",\n        \"description\": \"\"\n      }\n    },\n    {\n      \"column\": \"model_loss\",\n      \"properties\": {\n        \"dtype\": \"number\",\n        \"std\": 0.09157538045493745,\n        \"min\": 0.322807252407074,\n        \"max\": 0.48580455780029297,\n        \"num_unique_values\": 3,\n        \"samples\": [\n          0.47663888335227966,\n          0.48580455780029297,\n          0.322807252407074\n        ],\n        \"semantic_type\": \"\",\n        \"description\": \"\"\n      }\n    },\n    {\n      \"column\": \"model_acc\",\n      \"properties\": {\n        \"dtype\": \"number\",\n        \"std\": 2.929156109020473,\n        \"min\": 82.8873801916933,\n        \"max\": 88.20886581469648,\n        \"num_unique_values\": 3,\n        \"samples\": [\n          83.42651757188499,\n          82.8873801916933,\n          88.20886581469648\n        ],\n        \"semantic_type\": \"\",\n        \"description\": \"\"\n      }\n    }\n  ]\n}"
            }
          },
          "metadata": {},
          "execution_count": 52
        }
      ],
      "source": [
        "import pandas as pd\n",
        "compare_results=pd.DataFrame(data=[model_0_results,model_1_results,model_2_result])\n",
        "compare_results"
      ]
    },
    {
      "cell_type": "code",
      "execution_count": 53,
      "metadata": {
        "colab": {
          "base_uri": "https://localhost:8080/",
          "height": 143
        },
        "id": "qiEp5oxUGLZA",
        "outputId": "0a6f4d31-3a9c-482a-c3df-5722021ce042"
      },
      "outputs": [
        {
          "output_type": "execute_result",
          "data": {
            "text/plain": [
              "            model_name  model_loss  model_acc  trainining time\n",
              "0  FashionMNISTModelV0    0.476639  83.426518        24.803243\n",
              "1  FashionMNISTModelV1    0.485805  82.887380        26.133864\n",
              "2  FashionMNISTModelV2    0.322807  88.208866       105.835595"
            ],
            "text/html": [
              "\n",
              "  <div id=\"df-15b1f6e5-dd99-4e11-aad7-49d3259048cf\" class=\"colab-df-container\">\n",
              "    <div>\n",
              "<style scoped>\n",
              "    .dataframe tbody tr th:only-of-type {\n",
              "        vertical-align: middle;\n",
              "    }\n",
              "\n",
              "    .dataframe tbody tr th {\n",
              "        vertical-align: top;\n",
              "    }\n",
              "\n",
              "    .dataframe thead th {\n",
              "        text-align: right;\n",
              "    }\n",
              "</style>\n",
              "<table border=\"1\" class=\"dataframe\">\n",
              "  <thead>\n",
              "    <tr style=\"text-align: right;\">\n",
              "      <th></th>\n",
              "      <th>model_name</th>\n",
              "      <th>model_loss</th>\n",
              "      <th>model_acc</th>\n",
              "      <th>trainining time</th>\n",
              "    </tr>\n",
              "  </thead>\n",
              "  <tbody>\n",
              "    <tr>\n",
              "      <th>0</th>\n",
              "      <td>FashionMNISTModelV0</td>\n",
              "      <td>0.476639</td>\n",
              "      <td>83.426518</td>\n",
              "      <td>24.803243</td>\n",
              "    </tr>\n",
              "    <tr>\n",
              "      <th>1</th>\n",
              "      <td>FashionMNISTModelV1</td>\n",
              "      <td>0.485805</td>\n",
              "      <td>82.887380</td>\n",
              "      <td>26.133864</td>\n",
              "    </tr>\n",
              "    <tr>\n",
              "      <th>2</th>\n",
              "      <td>FashionMNISTModelV2</td>\n",
              "      <td>0.322807</td>\n",
              "      <td>88.208866</td>\n",
              "      <td>105.835595</td>\n",
              "    </tr>\n",
              "  </tbody>\n",
              "</table>\n",
              "</div>\n",
              "    <div class=\"colab-df-buttons\">\n",
              "\n",
              "  <div class=\"colab-df-container\">\n",
              "    <button class=\"colab-df-convert\" onclick=\"convertToInteractive('df-15b1f6e5-dd99-4e11-aad7-49d3259048cf')\"\n",
              "            title=\"Convert this dataframe to an interactive table.\"\n",
              "            style=\"display:none;\">\n",
              "\n",
              "  <svg xmlns=\"http://www.w3.org/2000/svg\" height=\"24px\" viewBox=\"0 -960 960 960\">\n",
              "    <path d=\"M120-120v-720h720v720H120Zm60-500h600v-160H180v160Zm220 220h160v-160H400v160Zm0 220h160v-160H400v160ZM180-400h160v-160H180v160Zm440 0h160v-160H620v160ZM180-180h160v-160H180v160Zm440 0h160v-160H620v160Z\"/>\n",
              "  </svg>\n",
              "    </button>\n",
              "\n",
              "  <style>\n",
              "    .colab-df-container {\n",
              "      display:flex;\n",
              "      gap: 12px;\n",
              "    }\n",
              "\n",
              "    .colab-df-convert {\n",
              "      background-color: #E8F0FE;\n",
              "      border: none;\n",
              "      border-radius: 50%;\n",
              "      cursor: pointer;\n",
              "      display: none;\n",
              "      fill: #1967D2;\n",
              "      height: 32px;\n",
              "      padding: 0 0 0 0;\n",
              "      width: 32px;\n",
              "    }\n",
              "\n",
              "    .colab-df-convert:hover {\n",
              "      background-color: #E2EBFA;\n",
              "      box-shadow: 0px 1px 2px rgba(60, 64, 67, 0.3), 0px 1px 3px 1px rgba(60, 64, 67, 0.15);\n",
              "      fill: #174EA6;\n",
              "    }\n",
              "\n",
              "    .colab-df-buttons div {\n",
              "      margin-bottom: 4px;\n",
              "    }\n",
              "\n",
              "    [theme=dark] .colab-df-convert {\n",
              "      background-color: #3B4455;\n",
              "      fill: #D2E3FC;\n",
              "    }\n",
              "\n",
              "    [theme=dark] .colab-df-convert:hover {\n",
              "      background-color: #434B5C;\n",
              "      box-shadow: 0px 1px 3px 1px rgba(0, 0, 0, 0.15);\n",
              "      filter: drop-shadow(0px 1px 2px rgba(0, 0, 0, 0.3));\n",
              "      fill: #FFFFFF;\n",
              "    }\n",
              "  </style>\n",
              "\n",
              "    <script>\n",
              "      const buttonEl =\n",
              "        document.querySelector('#df-15b1f6e5-dd99-4e11-aad7-49d3259048cf button.colab-df-convert');\n",
              "      buttonEl.style.display =\n",
              "        google.colab.kernel.accessAllowed ? 'block' : 'none';\n",
              "\n",
              "      async function convertToInteractive(key) {\n",
              "        const element = document.querySelector('#df-15b1f6e5-dd99-4e11-aad7-49d3259048cf');\n",
              "        const dataTable =\n",
              "          await google.colab.kernel.invokeFunction('convertToInteractive',\n",
              "                                                    [key], {});\n",
              "        if (!dataTable) return;\n",
              "\n",
              "        const docLinkHtml = 'Like what you see? Visit the ' +\n",
              "          '<a target=\"_blank\" href=https://colab.research.google.com/notebooks/data_table.ipynb>data table notebook</a>'\n",
              "          + ' to learn more about interactive tables.';\n",
              "        element.innerHTML = '';\n",
              "        dataTable['output_type'] = 'display_data';\n",
              "        await google.colab.output.renderOutput(dataTable, element);\n",
              "        const docLink = document.createElement('div');\n",
              "        docLink.innerHTML = docLinkHtml;\n",
              "        element.appendChild(docLink);\n",
              "      }\n",
              "    </script>\n",
              "  </div>\n",
              "\n",
              "\n",
              "    <div id=\"df-f807ec07-0615-433c-a249-db19b0bbf147\">\n",
              "      <button class=\"colab-df-quickchart\" onclick=\"quickchart('df-f807ec07-0615-433c-a249-db19b0bbf147')\"\n",
              "                title=\"Suggest charts\"\n",
              "                style=\"display:none;\">\n",
              "\n",
              "<svg xmlns=\"http://www.w3.org/2000/svg\" height=\"24px\"viewBox=\"0 0 24 24\"\n",
              "     width=\"24px\">\n",
              "    <g>\n",
              "        <path d=\"M19 3H5c-1.1 0-2 .9-2 2v14c0 1.1.9 2 2 2h14c1.1 0 2-.9 2-2V5c0-1.1-.9-2-2-2zM9 17H7v-7h2v7zm4 0h-2V7h2v10zm4 0h-2v-4h2v4z\"/>\n",
              "    </g>\n",
              "</svg>\n",
              "      </button>\n",
              "\n",
              "<style>\n",
              "  .colab-df-quickchart {\n",
              "      --bg-color: #E8F0FE;\n",
              "      --fill-color: #1967D2;\n",
              "      --hover-bg-color: #E2EBFA;\n",
              "      --hover-fill-color: #174EA6;\n",
              "      --disabled-fill-color: #AAA;\n",
              "      --disabled-bg-color: #DDD;\n",
              "  }\n",
              "\n",
              "  [theme=dark] .colab-df-quickchart {\n",
              "      --bg-color: #3B4455;\n",
              "      --fill-color: #D2E3FC;\n",
              "      --hover-bg-color: #434B5C;\n",
              "      --hover-fill-color: #FFFFFF;\n",
              "      --disabled-bg-color: #3B4455;\n",
              "      --disabled-fill-color: #666;\n",
              "  }\n",
              "\n",
              "  .colab-df-quickchart {\n",
              "    background-color: var(--bg-color);\n",
              "    border: none;\n",
              "    border-radius: 50%;\n",
              "    cursor: pointer;\n",
              "    display: none;\n",
              "    fill: var(--fill-color);\n",
              "    height: 32px;\n",
              "    padding: 0;\n",
              "    width: 32px;\n",
              "  }\n",
              "\n",
              "  .colab-df-quickchart:hover {\n",
              "    background-color: var(--hover-bg-color);\n",
              "    box-shadow: 0 1px 2px rgba(60, 64, 67, 0.3), 0 1px 3px 1px rgba(60, 64, 67, 0.15);\n",
              "    fill: var(--button-hover-fill-color);\n",
              "  }\n",
              "\n",
              "  .colab-df-quickchart-complete:disabled,\n",
              "  .colab-df-quickchart-complete:disabled:hover {\n",
              "    background-color: var(--disabled-bg-color);\n",
              "    fill: var(--disabled-fill-color);\n",
              "    box-shadow: none;\n",
              "  }\n",
              "\n",
              "  .colab-df-spinner {\n",
              "    border: 2px solid var(--fill-color);\n",
              "    border-color: transparent;\n",
              "    border-bottom-color: var(--fill-color);\n",
              "    animation:\n",
              "      spin 1s steps(1) infinite;\n",
              "  }\n",
              "\n",
              "  @keyframes spin {\n",
              "    0% {\n",
              "      border-color: transparent;\n",
              "      border-bottom-color: var(--fill-color);\n",
              "      border-left-color: var(--fill-color);\n",
              "    }\n",
              "    20% {\n",
              "      border-color: transparent;\n",
              "      border-left-color: var(--fill-color);\n",
              "      border-top-color: var(--fill-color);\n",
              "    }\n",
              "    30% {\n",
              "      border-color: transparent;\n",
              "      border-left-color: var(--fill-color);\n",
              "      border-top-color: var(--fill-color);\n",
              "      border-right-color: var(--fill-color);\n",
              "    }\n",
              "    40% {\n",
              "      border-color: transparent;\n",
              "      border-right-color: var(--fill-color);\n",
              "      border-top-color: var(--fill-color);\n",
              "    }\n",
              "    60% {\n",
              "      border-color: transparent;\n",
              "      border-right-color: var(--fill-color);\n",
              "    }\n",
              "    80% {\n",
              "      border-color: transparent;\n",
              "      border-right-color: var(--fill-color);\n",
              "      border-bottom-color: var(--fill-color);\n",
              "    }\n",
              "    90% {\n",
              "      border-color: transparent;\n",
              "      border-bottom-color: var(--fill-color);\n",
              "    }\n",
              "  }\n",
              "</style>\n",
              "\n",
              "      <script>\n",
              "        async function quickchart(key) {\n",
              "          const quickchartButtonEl =\n",
              "            document.querySelector('#' + key + ' button');\n",
              "          quickchartButtonEl.disabled = true;  // To prevent multiple clicks.\n",
              "          quickchartButtonEl.classList.add('colab-df-spinner');\n",
              "          try {\n",
              "            const charts = await google.colab.kernel.invokeFunction(\n",
              "                'suggestCharts', [key], {});\n",
              "          } catch (error) {\n",
              "            console.error('Error during call to suggestCharts:', error);\n",
              "          }\n",
              "          quickchartButtonEl.classList.remove('colab-df-spinner');\n",
              "          quickchartButtonEl.classList.add('colab-df-quickchart-complete');\n",
              "        }\n",
              "        (() => {\n",
              "          let quickchartButtonEl =\n",
              "            document.querySelector('#df-f807ec07-0615-433c-a249-db19b0bbf147 button');\n",
              "          quickchartButtonEl.style.display =\n",
              "            google.colab.kernel.accessAllowed ? 'block' : 'none';\n",
              "        })();\n",
              "      </script>\n",
              "    </div>\n",
              "\n",
              "  <div id=\"id_9d9af086-4279-41f1-83de-c5b9dd49b06e\">\n",
              "    <style>\n",
              "      .colab-df-generate {\n",
              "        background-color: #E8F0FE;\n",
              "        border: none;\n",
              "        border-radius: 50%;\n",
              "        cursor: pointer;\n",
              "        display: none;\n",
              "        fill: #1967D2;\n",
              "        height: 32px;\n",
              "        padding: 0 0 0 0;\n",
              "        width: 32px;\n",
              "      }\n",
              "\n",
              "      .colab-df-generate:hover {\n",
              "        background-color: #E2EBFA;\n",
              "        box-shadow: 0px 1px 2px rgba(60, 64, 67, 0.3), 0px 1px 3px 1px rgba(60, 64, 67, 0.15);\n",
              "        fill: #174EA6;\n",
              "      }\n",
              "\n",
              "      [theme=dark] .colab-df-generate {\n",
              "        background-color: #3B4455;\n",
              "        fill: #D2E3FC;\n",
              "      }\n",
              "\n",
              "      [theme=dark] .colab-df-generate:hover {\n",
              "        background-color: #434B5C;\n",
              "        box-shadow: 0px 1px 3px 1px rgba(0, 0, 0, 0.15);\n",
              "        filter: drop-shadow(0px 1px 2px rgba(0, 0, 0, 0.3));\n",
              "        fill: #FFFFFF;\n",
              "      }\n",
              "    </style>\n",
              "    <button class=\"colab-df-generate\" onclick=\"generateWithVariable('compare_results')\"\n",
              "            title=\"Generate code using this dataframe.\"\n",
              "            style=\"display:none;\">\n",
              "\n",
              "  <svg xmlns=\"http://www.w3.org/2000/svg\" height=\"24px\"viewBox=\"0 0 24 24\"\n",
              "       width=\"24px\">\n",
              "    <path d=\"M7,19H8.4L18.45,9,17,7.55,7,17.6ZM5,21V16.75L18.45,3.32a2,2,0,0,1,2.83,0l1.4,1.43a1.91,1.91,0,0,1,.58,1.4,1.91,1.91,0,0,1-.58,1.4L9.25,21ZM18.45,9,17,7.55Zm-12,3A5.31,5.31,0,0,0,4.9,8.1,5.31,5.31,0,0,0,1,6.5,5.31,5.31,0,0,0,4.9,4.9,5.31,5.31,0,0,0,6.5,1,5.31,5.31,0,0,0,8.1,4.9,5.31,5.31,0,0,0,12,6.5,5.46,5.46,0,0,0,6.5,12Z\"/>\n",
              "  </svg>\n",
              "    </button>\n",
              "    <script>\n",
              "      (() => {\n",
              "      const buttonEl =\n",
              "        document.querySelector('#id_9d9af086-4279-41f1-83de-c5b9dd49b06e button.colab-df-generate');\n",
              "      buttonEl.style.display =\n",
              "        google.colab.kernel.accessAllowed ? 'block' : 'none';\n",
              "\n",
              "      buttonEl.onclick = () => {\n",
              "        google.colab.notebook.generateWithVariable('compare_results');\n",
              "      }\n",
              "      })();\n",
              "    </script>\n",
              "  </div>\n",
              "\n",
              "    </div>\n",
              "  </div>\n"
            ],
            "application/vnd.google.colaboratory.intrinsic+json": {
              "type": "dataframe",
              "variable_name": "compare_results",
              "summary": "{\n  \"name\": \"compare_results\",\n  \"rows\": 3,\n  \"fields\": [\n    {\n      \"column\": \"model_name\",\n      \"properties\": {\n        \"dtype\": \"string\",\n        \"num_unique_values\": 3,\n        \"samples\": [\n          \"FashionMNISTModelV0\",\n          \"FashionMNISTModelV1\",\n          \"FashionMNISTModelV2\"\n        ],\n        \"semantic_type\": \"\",\n        \"description\": \"\"\n      }\n    },\n    {\n      \"column\": \"model_loss\",\n      \"properties\": {\n        \"dtype\": \"number\",\n        \"std\": 0.09157538045493745,\n        \"min\": 0.322807252407074,\n        \"max\": 0.48580455780029297,\n        \"num_unique_values\": 3,\n        \"samples\": [\n          0.47663888335227966,\n          0.48580455780029297,\n          0.322807252407074\n        ],\n        \"semantic_type\": \"\",\n        \"description\": \"\"\n      }\n    },\n    {\n      \"column\": \"model_acc\",\n      \"properties\": {\n        \"dtype\": \"number\",\n        \"std\": 2.929156109020473,\n        \"min\": 82.8873801916933,\n        \"max\": 88.20886581469648,\n        \"num_unique_values\": 3,\n        \"samples\": [\n          83.42651757188499,\n          82.8873801916933,\n          88.20886581469648\n        ],\n        \"semantic_type\": \"\",\n        \"description\": \"\"\n      }\n    },\n    {\n      \"column\": \"trainining time\",\n      \"properties\": {\n        \"dtype\": \"number\",\n        \"std\": 46.40470257000652,\n        \"min\": 24.80324292399999,\n        \"max\": 105.835594654,\n        \"num_unique_values\": 3,\n        \"samples\": [\n          24.80324292399999,\n          26.13386352100001,\n          105.835594654\n        ],\n        \"semantic_type\": \"\",\n        \"description\": \"\"\n      }\n    }\n  ]\n}"
            }
          },
          "metadata": {},
          "execution_count": 53
        }
      ],
      "source": [
        "compare_results[\"trainining time\"] = [total_time_model_0,\n",
        "                                      total_time_model_1,\n",
        "                                      total_time]\n",
        "compare_results"
      ]
    },
    {
      "cell_type": "code",
      "execution_count": 54,
      "metadata": {
        "colab": {
          "base_uri": "https://localhost:8080/",
          "height": 422
        },
        "id": "V4xQhoXlGLhg",
        "outputId": "f890ee6c-7db4-469c-8799-4f2d6782202e"
      },
      "outputs": [
        {
          "output_type": "execute_result",
          "data": {
            "text/plain": [
              "Text(0, 0.5, 'model')"
            ]
          },
          "metadata": {},
          "execution_count": 54
        },
        {
          "output_type": "display_data",
          "data": {
            "text/plain": [
              "<Figure size 640x480 with 1 Axes>"
            ],
            "image/png": "[encoded data removed]"
          },
          "metadata": {}
        }
      ],
      "source": [
        "# visualize our model results\n",
        "compare_results.set_index(\"model_name\")[\"model_acc\"].plot(kind=\"barh\")\n",
        "plt.xlabel(\"accuracy (%)\")\n",
        "plt.ylabel(\"model\")\n"
      ]
    },
    {
      "cell_type": "markdown",
      "metadata": {
        "id": "AjIMsTi5GLqo"
      },
      "source": [
        "# make and evaluate random predictions with best model"
      ]
    },
    {
      "cell_type": "code",
      "execution_count": 55,
      "metadata": {
        "id": "aT_HmZKrGLzA"
      },
      "outputs": [],
      "source": [
        "def make_predictions(model: torch.nn.Module,\n",
        "                     data:list):\n",
        "\n",
        "  pred_probs = []\n",
        "  model.eval()\n",
        "  with torch.inference_mode():\n",
        "    for sample in data:\n",
        "      # prepare the sample ( add a batch dimension and pass to target device but since we are working on cpu no need )\n",
        "      sample = torch.unsqueeze(sample,dim=0)\n",
        "      # forward pass\n",
        "      pred_logit = model(sample)\n",
        "      # get prediction probaility\n",
        "      pred_prob = torch.softmax(pred_logit.squeeze(),dim=0)\n",
        "      pred_probs.append(pred_prob)\n",
        "  return torch.stack(pred_probs)"
      ]
    },
    {
      "cell_type": "code",
      "execution_count": 56,
      "metadata": {
        "id": "N5gwOLHUOLi3"
      },
      "outputs": [],
      "source": [
        "import random\n",
        "#random.seed(42)\n",
        "test_samples = []\n",
        "test_labels = []\n",
        "for sample,label in random.sample(list(test_data),k=9):\n",
        "  test_samples.append(sample)\n",
        "  test_labels.append(label)"
      ]
    },
    {
      "cell_type": "code",
      "execution_count": 57,
      "metadata": {
        "colab": {
          "base_uri": "https://localhost:8080/"
        },
        "id": "znHjhshBOLt7",
        "outputId": "e274a204-613e-4677-f5a6-411e146de5bb"
      },
      "outputs": [
        {
          "output_type": "execute_result",
          "data": {
            "text/plain": [
              "tensor([[6.0162e-07, 4.3520e-08, 2.8683e-07, 3.9562e-06, 5.6852e-07, 1.0123e-03,\n",
              "         1.6656e-06, 3.1074e-02, 1.7518e-04, 9.6773e-01],\n",
              "        [1.1974e-02, 1.4918e-04, 2.1478e-03, 5.3131e-05, 5.8594e-04, 2.5818e-03,\n",
              "         6.0566e-02, 4.7603e-04, 9.1946e-01, 2.0027e-03]])"
            ]
          },
          "metadata": {},
          "execution_count": 57
        }
      ],
      "source": [
        "pred_probs = make_predictions(model=model_2,\n",
        "                              data=test_samples)\n",
        "pred_probs[:2]"
      ]
    },
    {
      "cell_type": "code",
      "execution_count": 58,
      "metadata": {
        "colab": {
          "base_uri": "https://localhost:8080/"
        },
        "id": "OV6W6DIHOL4D",
        "outputId": "04039ee8-3686-4eee-d95f-36d0beeb59d7"
      },
      "outputs": [
        {
          "output_type": "execute_result",
          "data": {
            "text/plain": [
              "tensor([9, 8, 9, 3, 9, 4, 1, 9, 5])"
            ]
          },
          "metadata": {},
          "execution_count": 58
        }
      ],
      "source": [
        "pred_classes = pred_probs.argmax(dim=1)\n",
        "pred_classes"
      ]
    },
    {
      "cell_type": "code",
      "execution_count": 59,
      "metadata": {
        "colab": {
          "base_uri": "https://localhost:8080/"
        },
        "id": "anCZlXfjOMBe",
        "outputId": "c7fa8e85-b584-4f2e-a1e6-5cef016a4073"
      },
      "outputs": [
        {
          "output_type": "execute_result",
          "data": {
            "text/plain": [
              "[9, 8, 9, 3, 9, 4, 1, 9, 5]"
            ]
          },
          "metadata": {},
          "execution_count": 59
        }
      ],
      "source": [
        "test_labels"
      ]
    },
    {
      "cell_type": "code",
      "execution_count": 60,
      "metadata": {
        "colab": {
          "base_uri": "https://localhost:8080/",
          "height": 590
        },
        "id": "F70V1yRoUFwy",
        "outputId": "1af680c8-359e-49c6-a9f8-6bad6be60935"
      },
      "outputs": [
        {
          "output_type": "display_data",
          "data": {
            "text/plain": [
              "<Figure size 900x900 with 9 Axes>"
            ],
            "image/png": "[encoded data removed]"
          },
          "metadata": {}
        }
      ],
      "source": [
        "plt.figure(figsize=(9,9))\n",
        "nrows , ncolumns = 3,3\n",
        "for i , sample in enumerate(test_samples):\n",
        "  plt.subplot(nrows,ncolumns,i+1)\n",
        "  plt.imshow(sample.squeeze(),cmap=\"gray\")\n",
        "  pred_label = class_names[pred_classes[i]]\n",
        "  truth_label = class_names[test_labels[i]]\n",
        "  title_text = f\"Pred: {pred_label} | Truth: {truth_label}\"\n",
        "  if pred_label == truth_label:\n",
        "    plt.title(title_text,c=\"g\")\n",
        "  else:\n",
        "    plt.title(title_text,c=\"r\")\n",
        "  plt.axis(False)\n",
        "\n"
      ]
    },
    {
      "cell_type": "markdown",
      "metadata": {
        "id": "OlQcHhL4Zt_N"
      },
      "source": [
        "# evaluating with confusion matrix\n",
        "\n",
        "confusion matrix is a fantastic way of evaluating our classification model\n",
        "# link for more eval metrics :- https://www.learnpytorch.io/02_pytorch_classification/\n",
        "\n",
        "1. make predictions with our trained model on the test dataset\n",
        "2. make a confusion matrix `torchmetrics.ConfusionMatrix`\n",
        "3. plot the confusion matrix `mlxtend.plotting.plot_confusion_matrix()`"
      ]
    },
    {
      "cell_type": "code",
      "execution_count": 61,
      "metadata": {
        "colab": {
          "base_uri": "https://localhost:8080/",
          "height": 194,
          "referenced_widgets": [
            "c7c80e80758444fbbf92bb2bec8167aa",
            "c0dbdc8efc3e443e9005010dd49ba028",
            "1f1bdda3fb464eb29aac9abf7b1dd395",
            "944f3487d16248ef9e57f4bd0b25b54d",
            "0ae4a850cf474e7ba96aa2162f190d4f",
            "1e82290461454ce08aa58b4d83596466",
            "ef0b0b3f2a0247ecafbe8bee9c9cd7a1",
            "75e345c4ba4f40daa0231658fdba5b04",
            "1fdb63bad8df41319d042b1dd059ec1f",
            "780be099cf784cd1b18e195f69a33cae",
            "5f4a281020e8424b876658c75bc95cd4"
          ]
        },
        "id": "O1wBzxX_cWPS",
        "outputId": "7e75030d-4118-4ff8-ca68-24cc276f539b"
      },
      "outputs": [
        {
          "output_type": "display_data",
          "data": {
            "text/plain": [
              "making predictions...:   0%|          | 0/313 [00:00<?, ?it/s]"
            ],
            "application/vnd.jupyter.widget-view+json": {
              "version_major": 2,
              "version_minor": 0,
              "model_id": "c7c80e80758444fbbf92bb2bec8167aa"
            }
          },
          "metadata": {}
        },
        {
          "output_type": "stream",
          "name": "stdout",
          "text": [
            "[tensor([9, 2, 1, 1, 6, 1, 4, 6, 5, 7, 4, 5, 5, 3, 4, 1, 2, 4, 8, 0, 2, 7, 7, 5,\n",
            "        1, 2, 6, 0, 9, 4, 8, 8]), tensor([3, 3, 8, 0, 7, 5, 7, 9, 0, 1, 0, 7, 6, 7, 2, 1, 4, 6, 4, 4, 5, 8, 2, 2,\n",
            "        8, 4, 8, 0, 7, 7, 8, 5]), tensor([1, 1, 0, 4, 7, 8, 7, 0, 2, 6, 2, 3, 1, 2, 8, 4, 1, 8, 5, 9, 5, 0, 3, 2,\n",
            "        0, 2, 5, 3, 6, 7, 1, 8]), tensor([0, 1, 4, 2, 3, 6, 7, 2, 7, 8, 5, 7, 9, 4, 2, 5, 7, 0, 5, 2, 8, 4, 7, 8,\n",
            "        0, 0, 9, 9, 3, 0, 8, 4]), tensor([1, 5, 4, 1, 9, 1, 8, 6, 6, 1, 2, 5, 1, 6, 0, 0, 1, 6, 1, 3, 2, 2, 3, 4,\n",
            "        1, 4, 5, 0, 4, 7, 9, 3])]\n",
            "tensor([9, 2, 1, 1, 6])\n"
          ]
        }
      ],
      "source": [
        "#1. make prediction with trained model\n",
        "y_preds = []\n",
        "model_2.eval()\n",
        "with torch.inference_mode():\n",
        "  for X,y in tqdm(test_dataloader,desc=\"making predictions...\"):\n",
        "    y_logit = model_2(X)\n",
        "    y_pred = torch.argmax(y_logit.squeeze(),dim=1)\n",
        "    y_preds.append(y_pred)\n",
        "# concatenate list of predictions into a tensor\n",
        "print(y_preds[:5]) # before concatenation pred labels are in batch so first 5 means first 5 batch's predicted labels are only shown\n",
        "y_preds_tensor = torch.cat(y_preds)\n",
        "print(y_preds_tensor[:5]) # after concatenation 'n' number of batches predicted labels which is in tensor are converted into single tensor so first 5 means first 5 labels predicted"
      ]
    },
    {
      "cell_type": "markdown",
      "metadata": {
        "id": "sV_ZGP0ZgdJF"
      },
      "source": [
        "**torch.stack creates new tensor and add the tensor in it where as torch.cat covert multiple tensors into single tensor**"
      ]
    },
    {
      "cell_type": "code",
      "execution_count": 62,
      "metadata": {
        "colab": {
          "base_uri": "https://localhost:8080/"
        },
        "id": "9bhEBxm9graG",
        "outputId": "cb2a657a-86ac-40e5-ea78-52b16b32e7ab"
      },
      "outputs": [
        {
          "output_type": "execute_result",
          "data": {
            "text/plain": [
              "10000"
            ]
          },
          "metadata": {},
          "execution_count": 62
        }
      ],
      "source": [
        "len(y_preds_tensor)"
      ]
    },
    {
      "cell_type": "code",
      "execution_count": 63,
      "metadata": {
        "colab": {
          "base_uri": "https://localhost:8080/"
        },
        "id": "jINzz68SiD_C",
        "outputId": "129e1f56-cc54-4f38-e84b-9b7832d91a64"
      },
      "outputs": [
        {
          "output_type": "stream",
          "name": "stdout",
          "text": [
            "Collecting torchmetrics\n",
            "  Downloading torchmetrics-1.7.2-py3-none-any.whl.metadata (21 kB)\n",
            "Requirement already satisfied: mlxtend in /usr/local/lib/python3.11/dist-packages (0.23.4)\n",
            "Requirement already satisfied: numpy>1.20.0 in /usr/local/lib/python3.11/dist-packages (from torchmetrics) (2.0.2)\n",
            "Requirement already satisfied: packaging>17.1 in /usr/local/lib/python3.11/dist-packages (from torchmetrics) (24.2)\n",
            "Requirement already satisfied: torch>=2.0.0 in /usr/local/lib/python3.11/dist-packages (from torchmetrics) (2.6.0+cu124)\n",
            "Collecting lightning-utilities>=0.8.0 (from torchmetrics)\n",
            "  Downloading lightning_utilities-0.14.3-py3-none-any.whl.metadata (5.6 kB)\n",
            "Requirement already satisfied: scipy>=1.2.1 in /usr/local/lib/python3.11/dist-packages (from mlxtend) (1.15.3)\n",
            "Requirement already satisfied: pandas>=0.24.2 in /usr/local/lib/python3.11/dist-packages (from mlxtend) (2.2.2)\n",
            "Requirement already satisfied: scikit-learn>=1.3.1 in /usr/local/lib/python3.11/dist-packages (from mlxtend) (1.6.1)\n",
            "Requirement already satisfied: matplotlib>=3.0.0 in /usr/local/lib/python3.11/dist-packages (from mlxtend) (3.10.0)\n",
            "Requirement already satisfied: joblib>=0.13.2 in /usr/local/lib/python3.11/dist-packages (from mlxtend) (1.5.1)\n",
            "Requirement already satisfied: setuptools in /usr/local/lib/python3.11/dist-packages (from lightning-utilities>=0.8.0->torchmetrics) (75.2.0)\n",
            "Requirement already satisfied: typing_extensions in /usr/local/lib/python3.11/dist-packages (from lightning-utilities>=0.8.0->torchmetrics) (4.14.0)\n",
            "Requirement already satisfied: contourpy>=1.0.1 in /usr/local/lib/python3.11/dist-packages (from matplotlib>=3.0.0->mlxtend) (1.3.2)\n",
            "Requirement already satisfied: cycler>=0.10 in /usr/local/lib/python3.11/dist-packages (from matplotlib>=3.0.0->mlxtend) (0.12.1)\n",
            "Requirement already satisfied: fonttools>=4.22.0 in /usr/local/lib/python3.11/dist-packages (from matplotlib>=3.0.0->mlxtend) (4.58.1)\n",
            "Requirement already satisfied: kiwisolver>=1.3.1 in /usr/local/lib/python3.11/dist-packages (from matplotlib>=3.0.0->mlxtend) (1.4.8)\n",
            "Requirement already satisfied: pillow>=8 in /usr/local/lib/python3.11/dist-packages (from matplotlib>=3.0.0->mlxtend) (11.2.1)\n",
            "Requirement already satisfied: pyparsing>=2.3.1 in /usr/local/lib/python3.11/dist-packages (from matplotlib>=3.0.0->mlxtend) (3.2.3)\n",
            "Requirement already satisfied: python-dateutil>=2.7 in /usr/local/lib/python3.11/dist-packages (from matplotlib>=3.0.0->mlxtend) (2.9.0.post0)\n",
            "Requirement already satisfied: pytz>=2020.1 in /usr/local/lib/python3.11/dist-packages (from pandas>=0.24.2->mlxtend) (2025.2)\n",
            "Requirement already satisfied: tzdata>=2022.7 in /usr/local/lib/python3.11/dist-packages (from pandas>=0.24.2->mlxtend) (2025.2)\n",
            "Requirement already satisfied: threadpoolctl>=3.1.0 in /usr/local/lib/python3.11/dist-packages (from scikit-learn>=1.3.1->mlxtend) (3.6.0)\n",
            "Requirement already satisfied: filelock in /usr/local/lib/python3.11/dist-packages (from torch>=2.0.0->torchmetrics) (3.18.0)\n",
            "Requirement already satisfied: networkx in /usr/local/lib/python3.11/dist-packages (from torch>=2.0.0->torchmetrics) (3.5)\n",
            "Requirement already satisfied: jinja2 in /usr/local/lib/python3.11/dist-packages (from torch>=2.0.0->torchmetrics) (3.1.6)\n",
            "Requirement already satisfied: fsspec in /usr/local/lib/python3.11/dist-packages (from torch>=2.0.0->torchmetrics) (2025.3.2)\n",
            "Collecting nvidia-cuda-nvrtc-cu12==12.4.127 (from torch>=2.0.0->torchmetrics)\n",
            "  Downloading nvidia_cuda_nvrtc_cu12-12.4.127-py3-none-manylinux2014_x86_64.whl.metadata (1.5 kB)\n",
            "Collecting nvidia-cuda-runtime-cu12==12.4.127 (from torch>=2.0.0->torchmetrics)\n",
            "  Downloading nvidia_cuda_runtime_cu12-12.4.127-py3-none-manylinux2014_x86_64.whl.metadata (1.5 kB)\n",
            "Collecting nvidia-cuda-cupti-cu12==12.4.127 (from torch>=2.0.0->torchmetrics)\n",
            "  Downloading nvidia_cuda_cupti_cu12-12.4.127-py3-none-manylinux2014_x86_64.whl.metadata (1.6 kB)\n",
            "Collecting nvidia-cudnn-cu12==9.1.0.70 (from torch>=2.0.0->torchmetrics)\n",
            "  Downloading nvidia_cudnn_cu12-9.1.0.70-py3-none-manylinux2014_x86_64.whl.metadata (1.6 kB)\n",
            "Collecting nvidia-cublas-cu12==12.4.5.8 (from torch>=2.0.0->torchmetrics)\n",
            "  Downloading nvidia_cublas_cu12-12.4.5.8-py3-none-manylinux2014_x86_64.whl.metadata (1.5 kB)\n",
            "Collecting nvidia-cufft-cu12==11.2.1.3 (from torch>=2.0.0->torchmetrics)\n",
            "  Downloading nvidia_cufft_cu12-11.2.1.3-py3-none-manylinux2014_x86_64.whl.metadata (1.5 kB)\n",
            "Collecting nvidia-curand-cu12==10.3.5.147 (from torch>=2.0.0->torchmetrics)\n",
            "  Downloading nvidia_curand_cu12-10.3.5.147-py3-none-manylinux2014_x86_64.whl.metadata (1.5 kB)\n",
            "Collecting nvidia-cusolver-cu12==11.6.1.9 (from torch>=2.0.0->torchmetrics)\n",
            "  Downloading nvidia_cusolver_cu12-11.6.1.9-py3-none-manylinux2014_x86_64.whl.metadata (1.6 kB)\n",
            "Collecting nvidia-cusparse-cu12==12.3.1.170 (from torch>=2.0.0->torchmetrics)\n",
            "  Downloading nvidia_cusparse_cu12-12.3.1.170-py3-none-manylinux2014_x86_64.whl.metadata (1.6 kB)\n",
            "Requirement already satisfied: nvidia-cusparselt-cu12==0.6.2 in /usr/local/lib/python3.11/dist-packages (from torch>=2.0.0->torchmetrics) (0.6.2)\n",
            "Requirement already satisfied: nvidia-nccl-cu12==2.21.5 in /usr/local/lib/python3.11/dist-packages (from torch>=2.0.0->torchmetrics) (2.21.5)\n",
            "Requirement already satisfied: nvidia-nvtx-cu12==12.4.127 in /usr/local/lib/python3.11/dist-packages (from torch>=2.0.0->torchmetrics) (12.4.127)\n",
            "Collecting nvidia-nvjitlink-cu12==12.4.127 (from torch>=2.0.0->torchmetrics)\n",
            "  Downloading nvidia_nvjitlink_cu12-12.4.127-py3-none-manylinux2014_x86_64.whl.metadata (1.5 kB)\n",
            "Requirement already satisfied: triton==3.2.0 in /usr/local/lib/python3.11/dist-packages (from torch>=2.0.0->torchmetrics) (3.2.0)\n",
            "Requirement already satisfied: sympy==1.13.1 in /usr/local/lib/python3.11/dist-packages (from torch>=2.0.0->torchmetrics) (1.13.1)\n",
            "Requirement already satisfied: mpmath<1.4,>=1.1.0 in /usr/local/lib/python3.11/dist-packages (from sympy==1.13.1->torch>=2.0.0->torchmetrics) (1.3.0)\n",
            "Requirement already satisfied: six>=1.5 in /usr/local/lib/python3.11/dist-packages (from python-dateutil>=2.7->matplotlib>=3.0.0->mlxtend) (1.17.0)\n",
            "Requirement already satisfied: MarkupSafe>=2.0 in /usr/local/lib/python3.11/dist-packages (from jinja2->torch>=2.0.0->torchmetrics) (3.0.2)\n",
            "Downloading torchmetrics-1.7.2-py3-none-any.whl (962 kB)\n",
            "\u001b[2K   \u001b[90m━━━━━━━━━━━━━━━━━━━━━━━━━━━━━━━━━━━━━━━━\u001b[0m \u001b[32m962.5/962.5 kB\u001b[0m \u001b[31m23.9 MB/s\u001b[0m eta \u001b[36m0:00:00\u001b[0m\n",
            "\u001b[?25hDownloading lightning_utilities-0.14.3-py3-none-any.whl (28 kB)\n",
            "Downloading nvidia_cublas_cu12-12.4.5.8-py3-none-manylinux2014_x86_64.whl (363.4 MB)\n",
            "\u001b[2K   \u001b[90m━━━━━━━━━━━━━━━━━━━━━━━━━━━━━━━━━━━━━━━━\u001b[0m \u001b[32m363.4/363.4 MB\u001b[0m \u001b[31m4.7 MB/s\u001b[0m eta \u001b[36m0:00:00\u001b[0m\n",
            "\u001b[?25hDownloading nvidia_cuda_cupti_cu12-12.4.127-py3-none-manylinux2014_x86_64.whl (13.8 MB)\n",
            "\u001b[2K   \u001b[90m━━━━━━━━━━━━━━━━━━━━━━━━━━━━━━━━━━━━━━━━\u001b[0m \u001b[32m13.8/13.8 MB\u001b[0m \u001b[31m92.2 MB/s\u001b[0m eta \u001b[36m0:00:00\u001b[0m\n",
            "\u001b[?25hDownloading nvidia_cuda_nvrtc_cu12-12.4.127-py3-none-manylinux2014_x86_64.whl (24.6 MB)\n",
            "\u001b[2K   \u001b[90m━━━━━━━━━━━━━━━━━━━━━━━━━━━━━━━━━━━━━━━━\u001b[0m \u001b[32m24.6/24.6 MB\u001b[0m \u001b[31m70.9 MB/s\u001b[0m eta \u001b[36m0:00:00\u001b[0m\n",
            "\u001b[?25hDownloading nvidia_cuda_runtime_cu12-12.4.127-py3-none-manylinux2014_x86_64.whl (883 kB)\n",
            "\u001b[2K   \u001b[90m━━━━━━━━━━━━━━━━━━━━━━━━━━━━━━━━━━━━━━━━\u001b[0m \u001b[32m883.7/883.7 kB\u001b[0m \u001b[31m48.8 MB/s\u001b[0m eta \u001b[36m0:00:00\u001b[0m\n",
            "\u001b[?25hDownloading nvidia_cudnn_cu12-9.1.0.70-py3-none-manylinux2014_x86_64.whl (664.8 MB)\n",
            "\u001b[2K   \u001b[90m━━━━━━━━━━━━━━━━━━━━━━━━━━━━━━━━━━━━━━━━\u001b[0m \u001b[32m664.8/664.8 MB\u001b[0m \u001b[31m1.1 MB/s\u001b[0m eta \u001b[36m0:00:00\u001b[0m\n",
            "\u001b[?25hDownloading nvidia_cufft_cu12-11.2.1.3-py3-none-manylinux2014_x86_64.whl (211.5 MB)\n",
            "\u001b[2K   \u001b[90m━━━━━━━━━━━━━━━━━━━━━━━━━━━━━━━━━━━━━━━━\u001b[0m \u001b[32m211.5/211.5 MB\u001b[0m \u001b[31m5.8 MB/s\u001b[0m eta \u001b[36m0:00:00\u001b[0m\n",
            "\u001b[?25hDownloading nvidia_curand_cu12-10.3.5.147-py3-none-manylinux2014_x86_64.whl (56.3 MB)\n",
            "\u001b[2K   \u001b[90m━━━━━━━━━━━━━━━━━━━━━━━━━━━━━━━━━━━━━━━━\u001b[0m \u001b[32m56.3/56.3 MB\u001b[0m \u001b[31m15.4 MB/s\u001b[0m eta \u001b[36m0:00:00\u001b[0m\n",
            "\u001b[?25hDownloading nvidia_cusolver_cu12-11.6.1.9-py3-none-manylinux2014_x86_64.whl (127.9 MB)\n",
            "\u001b[2K   \u001b[90m━━━━━━━━━━━━━━━━━━━━━━━━━━━━━━━━━━━━━━━━\u001b[0m \u001b[32m127.9/127.9 MB\u001b[0m \u001b[31m8.3 MB/s\u001b[0m eta \u001b[36m0:00:00\u001b[0m\n",
            "\u001b[?25hDownloading nvidia_cusparse_cu12-12.3.1.170-py3-none-manylinux2014_x86_64.whl (207.5 MB)\n",
            "\u001b[2K   \u001b[90m━━━━━━━━━━━━━━━━━━━━━━━━━━━━━━━━━━━━━━━━\u001b[0m \u001b[32m207.5/207.5 MB\u001b[0m \u001b[31m6.5 MB/s\u001b[0m eta \u001b[36m0:00:00\u001b[0m\n",
            "\u001b[?25hDownloading nvidia_nvjitlink_cu12-12.4.127-py3-none-manylinux2014_x86_64.whl (21.1 MB)\n",
            "\u001b[2K   \u001b[90m━━━━━━━━━━━━━━━━━━━━━━━━━━━━━━━━━━━━━━━━\u001b[0m \u001b[32m21.1/21.1 MB\u001b[0m \u001b[31m102.7 MB/s\u001b[0m eta \u001b[36m0:00:00\u001b[0m\n",
            "\u001b[?25hInstalling collected packages: nvidia-nvjitlink-cu12, nvidia-curand-cu12, nvidia-cufft-cu12, nvidia-cuda-runtime-cu12, nvidia-cuda-nvrtc-cu12, nvidia-cuda-cupti-cu12, nvidia-cublas-cu12, lightning-utilities, nvidia-cusparse-cu12, nvidia-cudnn-cu12, nvidia-cusolver-cu12, torchmetrics\n",
            "  Attempting uninstall: nvidia-nvjitlink-cu12\n",
            "    Found existing installation: nvidia-nvjitlink-cu12 12.5.82\n",
            "    Uninstalling nvidia-nvjitlink-cu12-12.5.82:\n",
            "      Successfully uninstalled nvidia-nvjitlink-cu12-12.5.82\n",
            "  Attempting uninstall: nvidia-curand-cu12\n",
            "    Found existing installation: nvidia-curand-cu12 10.3.6.82\n",
            "    Uninstalling nvidia-curand-cu12-10.3.6.82:\n",
            "      Successfully uninstalled nvidia-curand-cu12-10.3.6.82\n",
            "  Attempting uninstall: nvidia-cufft-cu12\n",
            "    Found existing installation: nvidia-cufft-cu12 11.2.3.61\n",
            "    Uninstalling nvidia-cufft-cu12-11.2.3.61:\n",
            "      Successfully uninstalled nvidia-cufft-cu12-11.2.3.61\n",
            "  Attempting uninstall: nvidia-cuda-runtime-cu12\n",
            "    Found existing installation: nvidia-cuda-runtime-cu12 12.5.82\n",
            "    Uninstalling nvidia-cuda-runtime-cu12-12.5.82:\n",
            "      Successfully uninstalled nvidia-cuda-runtime-cu12-12.5.82\n",
            "  Attempting uninstall: nvidia-cuda-nvrtc-cu12\n",
            "    Found existing installation: nvidia-cuda-nvrtc-cu12 12.5.82\n",
            "    Uninstalling nvidia-cuda-nvrtc-cu12-12.5.82:\n",
            "      Successfully uninstalled nvidia-cuda-nvrtc-cu12-12.5.82\n",
            "  Attempting uninstall: nvidia-cuda-cupti-cu12\n",
            "    Found existing installation: nvidia-cuda-cupti-cu12 12.5.82\n",
            "    Uninstalling nvidia-cuda-cupti-cu12-12.5.82:\n",
            "      Successfully uninstalled nvidia-cuda-cupti-cu12-12.5.82\n",
            "  Attempting uninstall: nvidia-cublas-cu12\n",
            "    Found existing installation: nvidia-cublas-cu12 12.5.3.2\n",
            "    Uninstalling nvidia-cublas-cu12-12.5.3.2:\n",
            "      Successfully uninstalled nvidia-cublas-cu12-12.5.3.2\n",
            "  Attempting uninstall: nvidia-cusparse-cu12\n",
            "    Found existing installation: nvidia-cusparse-cu12 12.5.1.3\n",
            "    Uninstalling nvidia-cusparse-cu12-12.5.1.3:\n",
            "      Successfully uninstalled nvidia-cusparse-cu12-12.5.1.3\n",
            "  Attempting uninstall: nvidia-cudnn-cu12\n",
            "    Found existing installation: nvidia-cudnn-cu12 9.3.0.75\n",
            "    Uninstalling nvidia-cudnn-cu12-9.3.0.75:\n",
            "      Successfully uninstalled nvidia-cudnn-cu12-9.3.0.75\n",
            "  Attempting uninstall: nvidia-cusolver-cu12\n",
            "    Found existing installation: nvidia-cusolver-cu12 11.6.3.83\n",
            "    Uninstalling nvidia-cusolver-cu12-11.6.3.83:\n",
            "      Successfully uninstalled nvidia-cusolver-cu12-11.6.3.83\n",
            "Successfully installed lightning-utilities-0.14.3 nvidia-cublas-cu12-12.4.5.8 nvidia-cuda-cupti-cu12-12.4.127 nvidia-cuda-nvrtc-cu12-12.4.127 nvidia-cuda-runtime-cu12-12.4.127 nvidia-cudnn-cu12-9.1.0.70 nvidia-cufft-cu12-11.2.1.3 nvidia-curand-cu12-10.3.5.147 nvidia-cusolver-cu12-11.6.1.9 nvidia-cusparse-cu12-12.3.1.170 nvidia-nvjitlink-cu12-12.4.127 torchmetrics-1.7.2\n",
            "mlxtend version: 0.23.4\n"
          ]
        }
      ],
      "source": [
        "try:\n",
        "  import torchmetrics,mlxtend\n",
        "  print(f\"mlxtend version: {mlxtend.__version__}\")\n",
        "  assert int(mlxtend.__version__.split(\".\")[1]) >=19, \"mlxtend version should be 0.19.0 or higher\"\n",
        "except:\n",
        "  !pip install torchmetrics -U mlxtend\n",
        "  import mlxtend,torchmetrics\n",
        "  print(f\"mlxtend version: {mlxtend.__version__}\")"
      ]
    },
    {
      "cell_type": "code",
      "execution_count": 64,
      "metadata": {
        "colab": {
          "base_uri": "https://localhost:8080/",
          "height": 35
        },
        "id": "mSUW0nedaBuc",
        "outputId": "0f929bfc-3248-4e38-94b0-8447ce8d4948"
      },
      "outputs": [
        {
          "output_type": "execute_result",
          "data": {
            "text/plain": [
              "'0.23.4'"
            ],
            "application/vnd.google.colaboratory.intrinsic+json": {
              "type": "string"
            }
          },
          "metadata": {},
          "execution_count": 64
        }
      ],
      "source": [
        "import mlxtend\n",
        "mlxtend.__version__"
      ]
    },
    {
      "cell_type": "code",
      "execution_count": 65,
      "metadata": {
        "colab": {
          "base_uri": "https://localhost:8080/",
          "height": 635
        },
        "id": "hFs-qAERaPFe",
        "outputId": "a4737816-bf3c-4f52-923f-ad6b2313ebed"
      },
      "outputs": [
        {
          "output_type": "display_data",
          "data": {
            "text/plain": [
              "<Figure size 1000x700 with 1 Axes>"
            ],
            "image/png": "[encoded data removed]"
          },
          "metadata": {}
        }
      ],
      "source": [
        "from torchmetrics import ConfusionMatrix\n",
        "from mlxtend.plotting import plot_confusion_matrix\n",
        "\n",
        "# 2. setup confusion instance and compare predictions to targets\n",
        "confmat = ConfusionMatrix(num_classes=len(class_names),task=\"multiclass\")\n",
        "confmat_tensor = confmat(preds=y_preds_tensor,\n",
        "                         target=test_data.targets)\n",
        "\n",
        "# 3. plot the confusion matrix\n",
        "fig,ax = plot_confusion_matrix(conf_mat=confmat_tensor.numpy(),\n",
        "                               figsize=(10,7),\n",
        "                               class_names=class_names)\n"
      ]
    },
    {
      "cell_type": "markdown",
      "metadata": {
        "id": "R-izezG6aPNX"
      },
      "source": [
        "# save and load model"
      ]
    },
    {
      "cell_type": "code",
      "execution_count": 66,
      "metadata": {
        "colab": {
          "base_uri": "https://localhost:8080/"
        },
        "id": "e_YjkIBdA1-v",
        "outputId": "6e445721-517c-4037-c684-d7e48605cf05"
      },
      "outputs": [
        {
          "output_type": "stream",
          "name": "stdout",
          "text": [
            "saving model to: models/03_pytorch_computer_vision_model_2.pth\n"
          ]
        }
      ],
      "source": [
        "from pathlib import Path\n",
        "\n",
        "# create model directory path\n",
        "MODEL_PATH = Path(\"models\")\n",
        "MODEL_PATH.mkdir(parents=True,\n",
        "                 exist_ok=True)\n",
        "# create model save\n",
        "MODEL_NAME = \"03_pytorch_computer_vision_model_2.pth\"\n",
        "MODEL_SAVE_PATH = MODEL_PATH / MODEL_NAME\n",
        "#save the model state dict\n",
        "print(f\"saving model to: {MODEL_SAVE_PATH}\")\n",
        "torch.save(obj=model_2.state_dict(),\n",
        "           f=MODEL_SAVE_PATH)"
      ]
    },
    {
      "cell_type": "code",
      "execution_count": 67,
      "metadata": {
        "colab": {
          "base_uri": "https://localhost:8080/"
        },
        "id": "IoHlzSLqA2G0",
        "outputId": "f83e04f1-654d-4132-ec3a-190ded473463"
      },
      "outputs": [
        {
          "output_type": "execute_result",
          "data": {
            "text/plain": [
              "OrderedDict([('conv_block_1.0.weight',\n",
              "              tensor([[[[ 0.1619,  0.2538, -0.3538],\n",
              "                        [ 0.1457,  0.1982,  0.1403],\n",
              "                        [-0.4835,  0.0719,  0.4420]]],\n",
              "              \n",
              "              \n",
              "                      [[[-0.3616,  0.4210, -0.0471],\n",
              "                        [ 0.3689,  0.4367, -0.0300],\n",
              "                        [-0.0454,  0.4557, -0.0743]]],\n",
              "              \n",
              "              \n",
              "                      [[[-0.3399, -0.0550, -0.0200],\n",
              "                        [-0.6286, -0.6577,  0.2885],\n",
              "                        [-0.7953, -0.6138,  0.0239]]],\n",
              "              \n",
              "              \n",
              "                      [[[-0.8106, -1.0041, -0.7200],\n",
              "                        [ 0.1908, -0.8140,  0.1425],\n",
              "                        [ 0.3458, -0.0060,  0.4683]]],\n",
              "              \n",
              "              \n",
              "                      [[[-0.0267,  0.2987, -0.0833],\n",
              "                        [-0.2305,  0.3072, -0.2102],\n",
              "                        [-0.0211,  0.3870,  0.2286]]],\n",
              "              \n",
              "              \n",
              "                      [[[-0.1499,  0.1849,  0.0559],\n",
              "                        [ 0.1661, -0.2043, -0.3318],\n",
              "                        [-0.1284, -0.2565,  0.2602]]],\n",
              "              \n",
              "              \n",
              "                      [[[ 0.2238,  0.1199, -0.0171],\n",
              "                        [ 0.0501,  0.0596, -0.2362],\n",
              "                        [ 0.2035, -0.3794,  0.1009]]],\n",
              "              \n",
              "              \n",
              "                      [[[-0.0999,  0.0992, -0.1021],\n",
              "                        [ 0.3182, -0.2019, -0.2317],\n",
              "                        [-0.1972,  0.3195,  0.1032]]],\n",
              "              \n",
              "              \n",
              "                      [[[ 0.4601, -0.3892, -0.3991],\n",
              "                        [-0.2616, -0.3796,  0.0582],\n",
              "                        [ 0.3688,  0.4580, -0.1224]]],\n",
              "              \n",
              "              \n",
              "                      [[[-0.2272,  0.1747, -0.1357],\n",
              "                        [ 0.2008, -0.0810,  0.1883],\n",
              "                        [-0.2592, -0.1683,  0.1001]]]])),\n",
              "             ('conv_block_1.0.bias',\n",
              "              tensor([ 0.0609,  0.0145,  0.1888,  0.1527,  0.0448, -0.1964,  0.0859, -0.0528,\n",
              "                      -0.0165, -0.3252])),\n",
              "             ('conv_block_1.2.weight',\n",
              "              tensor([[[[ 1.9557e-02,  2.5105e-02,  1.6351e-02],\n",
              "                        [-1.1118e-01, -1.7152e-01, -1.4706e-01],\n",
              "                        [-2.2524e-02, -1.6420e-01, -1.1498e-01]],\n",
              "              \n",
              "                       [[-6.3190e-02,  1.1754e-02, -6.9440e-02],\n",
              "                        [-1.2256e-01, -3.1776e-01, -2.8359e-01],\n",
              "                        [-4.7286e-02, -1.9945e-01, -2.6485e-01]],\n",
              "              \n",
              "                       [[-3.2145e-02,  4.0443e-02,  1.5454e-01],\n",
              "                        [ 2.6632e-03,  2.0908e-01,  1.9394e-01],\n",
              "                        [-1.5899e-01, -3.2160e-02,  1.0238e-01]],\n",
              "              \n",
              "                       [[-1.0899e-01, -2.0864e-02, -1.7692e-01],\n",
              "                        [ 6.6835e-02, -8.2075e-04, -9.3973e-02],\n",
              "                        [ 1.6000e-01,  6.0846e-02,  6.6512e-02]],\n",
              "              \n",
              "                       [[-1.5387e-01, -1.5997e-01, -3.8930e-02],\n",
              "                        [-1.0711e-01, -5.9895e-02, -1.7162e-01],\n",
              "                        [ 1.0165e-01, -1.4287e-01, -8.4971e-02]],\n",
              "              \n",
              "                       [[ 2.2327e-02,  5.4775e-02,  8.5650e-02],\n",
              "                        [ 9.6362e-02, -8.3573e-02,  2.8802e-02],\n",
              "                        [-4.5265e-02, -1.2490e-02, -7.7374e-02]],\n",
              "              \n",
              "                       [[ 1.6873e-01, -5.4802e-02,  1.4539e-02],\n",
              "                        [ 1.3261e-01,  6.0720e-02, -6.0521e-02],\n",
              "                        [ 1.4060e-01,  2.3761e-02, -6.3839e-02]],\n",
              "              \n",
              "                       [[-8.3624e-02,  4.8280e-02, -1.1512e-02],\n",
              "                        [-3.2301e-02,  8.9661e-02,  1.3095e-02],\n",
              "                        [-4.7567e-02, -4.8461e-02, -1.0981e-02]],\n",
              "              \n",
              "                       [[ 8.6070e-02, -1.6312e-02, -4.4935e-02],\n",
              "                        [-4.2212e-02, -8.2078e-02,  4.7337e-02],\n",
              "                        [ 1.6180e-01, -9.8276e-02, -3.4935e-02]],\n",
              "              \n",
              "                       [[ 5.4451e-02,  1.9107e-02, -3.7529e-02],\n",
              "                        [ 5.5018e-02,  5.5394e-02,  3.9423e-02],\n",
              "                        [-1.8523e-02, -2.7910e-02,  1.1277e-02]]],\n",
              "              \n",
              "              \n",
              "                      [[[-2.4159e-02, -5.2479e-02,  5.3309e-02],\n",
              "                        [ 9.9343e-02, -8.3180e-03, -2.9688e-02],\n",
              "                        [-5.7507e-03,  1.7329e-02,  2.9972e-02]],\n",
              "              \n",
              "                       [[ 1.8020e-02, -8.9919e-02, -4.6972e-02],\n",
              "                        [ 7.6892e-02,  5.4068e-02, -1.0200e-02],\n",
              "                        [-1.0130e-01, -6.8671e-02, -1.0322e-01]],\n",
              "              \n",
              "                       [[-3.6209e-02,  3.6304e-02,  7.0400e-02],\n",
              "                        [ 4.8983e-02, -9.3724e-02, -6.6942e-02],\n",
              "                        [-1.4929e-02,  1.0657e-01,  1.3796e-02]],\n",
              "              \n",
              "                       [[ 1.0477e-02,  5.4554e-02, -5.2147e-02],\n",
              "                        [-7.2979e-02,  7.4611e-02, -4.6742e-02],\n",
              "                        [-1.9890e-02, -1.0132e-01,  9.2821e-02]],\n",
              "              \n",
              "                       [[ 6.8066e-02,  3.8079e-02, -9.0193e-02],\n",
              "                        [-1.2855e-01, -8.7369e-02,  7.1771e-02],\n",
              "                        [ 3.0959e-02,  9.3338e-02,  5.2768e-02]],\n",
              "              \n",
              "                       [[ 2.6757e-02, -9.7125e-04, -8.0171e-02],\n",
              "                        [-9.0212e-02, -9.8599e-02,  4.3703e-02],\n",
              "                        [-5.1869e-02, -2.1208e-02, -6.0647e-02]],\n",
              "              \n",
              "                       [[-2.5606e-02, -8.5505e-02, -6.4580e-02],\n",
              "                        [ 4.1729e-02, -2.6732e-02,  7.3534e-02],\n",
              "                        [-2.4258e-02, -7.9268e-02, -1.6049e-02]],\n",
              "              \n",
              "                       [[-4.3405e-02, -3.3484e-02, -1.0147e-01],\n",
              "                        [ 6.3555e-02, -6.9846e-02,  5.6382e-02],\n",
              "                        [ 4.8562e-02,  7.9724e-02, -7.6763e-02]],\n",
              "              \n",
              "                       [[ 8.5195e-02, -4.5502e-02,  3.3160e-02],\n",
              "                        [ 1.0124e-01, -1.7958e-02,  4.0043e-03],\n",
              "                        [-2.3586e-02, -8.7870e-02,  6.0130e-02]],\n",
              "              \n",
              "                       [[-1.0465e-01,  6.5431e-02,  7.8870e-02],\n",
              "                        [ 9.9645e-02, -2.4890e-02, -8.6606e-02],\n",
              "                        [ 2.3697e-02,  5.8231e-02, -1.0491e-01]]],\n",
              "              \n",
              "              \n",
              "                      [[[-2.4387e-02, -6.3664e-02, -8.5572e-03],\n",
              "                        [-5.2111e-02, -4.3504e-02, -3.5697e-02],\n",
              "                        [-1.0279e-01,  8.4699e-02,  8.4710e-02]],\n",
              "              \n",
              "                       [[-1.6388e-02, -1.2047e-02, -4.2653e-02],\n",
              "                        [-9.6100e-02, -1.0281e-01,  3.8081e-02],\n",
              "                        [-6.3564e-02, -7.2096e-02, -1.2371e-02]],\n",
              "              \n",
              "                       [[-3.6098e-02, -3.5430e-02,  2.3178e-03],\n",
              "                        [-2.1647e-02, -3.5296e-02, -5.0439e-02],\n",
              "                        [-8.5194e-02,  8.9617e-02, -4.2065e-02]],\n",
              "              \n",
              "                       [[ 2.6935e-02, -3.7057e-02,  8.2307e-03],\n",
              "                        [ 9.5948e-02,  4.6732e-02, -9.4615e-02],\n",
              "                        [ 3.7653e-02,  9.5132e-02,  2.4049e-02]],\n",
              "              \n",
              "                       [[ 7.0537e-02,  1.0388e-01, -1.6121e-02],\n",
              "                        [ 2.0299e-02, -7.4144e-02, -2.3808e-02],\n",
              "                        [ 7.4136e-02,  5.1739e-02, -6.9488e-02]],\n",
              "              \n",
              "                       [[-8.4525e-02, -7.2033e-02, -1.0402e-01],\n",
              "                        [-8.1338e-02, -2.6113e-02,  7.1202e-02],\n",
              "                        [ 1.7640e-02, -8.0199e-02, -8.4558e-02]],\n",
              "              \n",
              "                       [[ 5.1590e-02, -7.9085e-02, -1.4148e-02],\n",
              "                        [ 4.9771e-02, -5.0311e-02, -1.2348e-02],\n",
              "                        [-1.0051e-02, -2.4483e-02, -5.4290e-02]],\n",
              "              \n",
              "                       [[-9.3965e-02, -8.5208e-02, -5.6460e-02],\n",
              "                        [ 1.0190e-01, -5.0874e-02, -7.1145e-02],\n",
              "                        [ 2.4556e-02,  2.8738e-02,  5.8011e-02]],\n",
              "              \n",
              "                       [[ 8.0115e-02,  5.8695e-02, -1.0452e-01],\n",
              "                        [ 7.1734e-03,  6.3579e-02, -9.7634e-03],\n",
              "                        [-6.5189e-02,  9.7826e-02, -4.0976e-02]],\n",
              "              \n",
              "                       [[-6.0014e-02, -9.5032e-02,  4.7085e-03],\n",
              "                        [ 4.6710e-02,  2.3334e-02,  2.0845e-02],\n",
              "                        [-7.9941e-02, -9.8440e-02,  1.8562e-03]]],\n",
              "              \n",
              "              \n",
              "                      [[[-6.5844e-03, -1.3977e-01, -2.2817e-01],\n",
              "                        [ 2.0562e-01,  1.7397e-01, -1.1086e-01],\n",
              "                        [ 1.6125e-02,  1.6681e-01,  3.8104e-02]],\n",
              "              \n",
              "                       [[ 1.1647e-01, -3.6338e-02, -3.1714e-02],\n",
              "                        [ 1.7788e-01,  5.6475e-02,  1.6816e-01],\n",
              "                        [-1.4823e-01, -1.0654e-01,  2.3468e-01]],\n",
              "              \n",
              "                       [[-1.4904e-01, -3.3123e-01, -3.6621e-01],\n",
              "                        [-9.6069e-02, -1.7626e-02, -1.8317e-01],\n",
              "                        [ 1.4732e-01,  7.8666e-03, -1.8790e-01]],\n",
              "              \n",
              "                       [[-5.8603e-02, -7.5375e-02,  8.9725e-02],\n",
              "                        [-4.9033e-01, -2.4033e-01, -2.0723e-02],\n",
              "                        [-2.7707e-01, -3.8008e-01, -4.2930e-01]],\n",
              "              \n",
              "                       [[-3.1481e-03, -2.2602e-01,  1.5139e-02],\n",
              "                        [ 6.4411e-02,  4.9047e-02,  2.0025e-01],\n",
              "                        [-9.9682e-02,  4.0965e-02,  1.5789e-01]],\n",
              "              \n",
              "                       [[-5.1680e-02, -4.8924e-02,  3.5764e-02],\n",
              "                        [-6.5965e-02, -7.1580e-02, -5.6898e-03],\n",
              "                        [-3.9784e-02, -7.7778e-02,  5.7729e-02]],\n",
              "              \n",
              "                       [[ 3.1512e-02, -2.6663e-02,  8.6470e-02],\n",
              "                        [-9.2355e-02, -4.4707e-02, -1.1040e-02],\n",
              "                        [ 6.2051e-02, -5.6291e-02,  5.0815e-02]],\n",
              "              \n",
              "                       [[-5.0198e-02, -1.3690e-01,  1.3594e-02],\n",
              "                        [-1.2461e-01, -6.5104e-02, -5.1141e-02],\n",
              "                        [ 7.4123e-03, -5.2482e-02, -5.7711e-03]],\n",
              "              \n",
              "                       [[-8.6537e-02, -1.0848e-01, -2.9433e-02],\n",
              "                        [-1.6828e-01, -1.7385e-01, -7.6449e-03],\n",
              "                        [-1.0126e-01, -1.1633e-01, -9.4839e-02]],\n",
              "              \n",
              "                       [[-1.0381e-01, -8.6224e-02,  2.0467e-02],\n",
              "                        [ 2.8388e-02,  2.2355e-02, -2.8572e-02],\n",
              "                        [ 9.7277e-02,  1.4902e-02, -6.2179e-02]]],\n",
              "              \n",
              "              \n",
              "                      [[[-3.2678e-02, -2.0501e-03,  7.5290e-02],\n",
              "                        [-9.6973e-02,  3.0934e-02, -1.0201e-01],\n",
              "                        [-6.9422e-03, -7.2072e-02, -3.8515e-02]],\n",
              "              \n",
              "                       [[ 1.5146e-01,  2.0405e-01, -1.1260e-02],\n",
              "                        [ 1.7799e-01, -7.1839e-03, -2.7801e-01],\n",
              "                        [ 1.4580e-01, -1.4044e-01, -2.8446e-01]],\n",
              "              \n",
              "                       [[-4.2313e-02,  2.1676e-04,  1.2781e-02],\n",
              "                        [-6.2281e-02, -7.9968e-02,  3.2200e-04],\n",
              "                        [-8.2193e-02, -7.1413e-02,  8.6390e-02]],\n",
              "              \n",
              "                       [[-3.5612e-02,  3.4903e-03,  1.6260e-02],\n",
              "                        [ 7.0671e-03, -4.3887e-03, -5.4274e-02],\n",
              "                        [-2.7553e-02, -4.2915e-02, -1.4762e-02]],\n",
              "              \n",
              "                       [[ 3.8960e-02,  1.3343e-01, -1.1874e-01],\n",
              "                        [ 4.4652e-03, -2.9373e-02, -1.6684e-01],\n",
              "                        [ 7.4390e-02,  1.3655e-02, -5.0402e-02]],\n",
              "              \n",
              "                       [[ 4.8481e-02, -7.7633e-02, -5.6516e-02],\n",
              "                        [-2.3102e-02, -1.8558e-02,  8.4781e-03],\n",
              "                        [-9.6470e-02,  3.2926e-02, -8.0403e-02]],\n",
              "              \n",
              "                       [[-1.3080e-01, -4.6803e-02,  1.4646e-01],\n",
              "                        [-1.0390e-01,  1.5508e-01,  2.1487e-02],\n",
              "                        [ 1.9213e-02,  1.1404e-01, -1.5672e-02]],\n",
              "              \n",
              "                       [[ 5.7045e-02,  6.3907e-02, -9.4291e-02],\n",
              "                        [ 4.4334e-02,  1.7408e-02,  1.0508e-02],\n",
              "                        [ 1.4168e-02,  3.0167e-02, -5.1173e-02]],\n",
              "              \n",
              "                       [[-7.0176e-03,  7.1686e-02,  5.7977e-02],\n",
              "                        [-2.2611e-03, -1.0451e-01,  4.8058e-03],\n",
              "                        [-8.9942e-02,  1.0140e-01, -7.8193e-02]],\n",
              "              \n",
              "                       [[-7.6241e-03, -2.3388e-02,  1.8753e-02],\n",
              "                        [ 9.9193e-02,  1.0006e-02,  6.1021e-02],\n",
              "                        [ 8.1769e-02,  8.5092e-02, -3.6404e-02]]],\n",
              "              \n",
              "              \n",
              "                      [[[ 1.8299e-01,  3.3872e-01,  2.9881e-01],\n",
              "                        [-7.7152e-02, -3.8194e-03,  5.3004e-02],\n",
              "                        [-2.8291e-01, -1.8270e-01,  3.9388e-02]],\n",
              "              \n",
              "                       [[ 2.8918e-01,  3.7794e-01,  3.6853e-01],\n",
              "                        [-5.1930e-02, -8.1167e-02, -1.8689e-03],\n",
              "                        [-3.6824e-01, -3.9961e-01, -1.8737e-01]],\n",
              "              \n",
              "                       [[-7.4351e-02, -1.1203e-01, -7.4254e-02],\n",
              "                        [-7.0394e-02, -2.0018e-02,  2.1788e-02],\n",
              "                        [ 1.4582e-01,  1.2912e-01,  3.7551e-02]],\n",
              "              \n",
              "                       [[-6.9776e-02, -1.8696e-01, -1.2721e-01],\n",
              "                        [-5.0283e-02, -2.0822e-01, -7.7626e-02],\n",
              "                        [ 7.0597e-02, -1.7036e-02, -3.6464e-02]],\n",
              "              \n",
              "                       [[ 1.1964e-02,  1.8610e-01,  1.4889e-01],\n",
              "                        [-5.3021e-02,  2.0102e-02,  1.0183e-01],\n",
              "                        [-3.5582e-01, -2.0327e-01, -1.2779e-01]],\n",
              "              \n",
              "                       [[-8.3280e-02, -7.7207e-03, -9.3323e-02],\n",
              "                        [ 7.4557e-02,  1.0840e-02, -5.4999e-02],\n",
              "                        [ 5.6010e-02, -9.9637e-02, -4.0637e-02]],\n",
              "              \n",
              "                       [[ 1.3756e-01, -2.3113e-03, -3.5245e-02],\n",
              "                        [ 9.8781e-02,  6.4669e-02,  8.2570e-02],\n",
              "                        [ 2.1757e-01,  9.8241e-03, -9.0042e-02]],\n",
              "              \n",
              "                       [[ 8.6456e-02,  4.2410e-02, -5.9348e-03],\n",
              "                        [ 1.3388e-02, -8.3679e-02, -3.9878e-02],\n",
              "                        [ 1.0009e-01, -2.5736e-02, -6.4829e-04]],\n",
              "              \n",
              "                       [[-8.1122e-02, -4.5492e-02, -2.2477e-02],\n",
              "                        [-5.0644e-02, -9.6345e-03,  1.2043e-02],\n",
              "                        [-9.7628e-02,  3.7344e-02, -8.9284e-02]],\n",
              "              \n",
              "                       [[-5.1637e-02,  4.0230e-02,  8.3913e-02],\n",
              "                        [-2.8664e-02, -4.3112e-02, -9.5291e-02],\n",
              "                        [-5.4314e-02, -9.2332e-02, -2.3973e-02]]],\n",
              "              \n",
              "              \n",
              "                      [[[ 1.5462e-01, -1.6504e-01, -7.7355e-02],\n",
              "                        [ 1.5208e-01, -6.0279e-02, -3.6323e-01],\n",
              "                        [ 2.2327e-01,  2.4618e-01, -2.5238e-01]],\n",
              "              \n",
              "                       [[-7.8103e-03,  6.1612e-02, -4.5214e-01],\n",
              "                        [ 2.8704e-01,  1.9715e-01, -2.4668e-01],\n",
              "                        [ 2.5403e-01,  9.7688e-02, -3.3830e-01]],\n",
              "              \n",
              "                       [[-1.8374e-01, -1.6960e-01, -1.9538e-01],\n",
              "                        [-1.3256e-01, -3.1620e-01, -5.4766e-02],\n",
              "                        [ 6.9730e-02, -1.0651e-01, -1.7153e-03]],\n",
              "              \n",
              "                       [[-2.7728e-01, -1.0316e-01,  8.9421e-02],\n",
              "                        [-7.4313e-02, -2.6400e-01,  3.3835e-01],\n",
              "                        [-1.9750e-02, -3.4720e-01,  3.3286e-01]],\n",
              "              \n",
              "                       [[ 9.6796e-02,  4.7613e-02, -2.4814e-01],\n",
              "                        [ 5.6473e-02,  1.1369e-01, -2.2538e-01],\n",
              "                        [-9.7902e-02,  2.2512e-01, -1.7365e-01]],\n",
              "              \n",
              "                       [[ 9.5124e-02, -9.1876e-02, -3.4761e-02],\n",
              "                        [-1.0048e-01, -4.2476e-02,  2.7866e-02],\n",
              "                        [ 1.0095e-01,  1.7635e-02,  1.0190e-01]],\n",
              "              \n",
              "                       [[-3.3257e-02,  7.2307e-02,  1.7243e-01],\n",
              "                        [ 7.4054e-02, -1.0788e-01,  6.2159e-02],\n",
              "                        [ 1.4189e-01,  1.5816e-02, -3.9411e-02]],\n",
              "              \n",
              "                       [[-1.3037e-01, -2.8994e-02, -8.6812e-02],\n",
              "                        [-1.5588e-02,  1.7466e-03, -5.7537e-02],\n",
              "                        [ 1.8188e-02, -4.9802e-02,  7.4559e-02]],\n",
              "              \n",
              "                       [[ 5.9513e-02, -1.8801e-01,  1.4135e-02],\n",
              "                        [ 8.4948e-03, -1.3928e-01, -2.0335e-01],\n",
              "                        [-2.6902e-02, -4.7544e-02, -1.6278e-01]],\n",
              "              \n",
              "                       [[ 5.9377e-02,  3.8300e-02,  8.3577e-02],\n",
              "                        [-3.9524e-02,  3.5482e-02,  3.7613e-02],\n",
              "                        [-8.7716e-02, -1.0199e-01, -5.4700e-02]]],\n",
              "              \n",
              "              \n",
              "                      [[[ 2.1207e-01, -5.8678e-02, -2.7767e-01],\n",
              "                        [ 1.8587e-01,  1.3221e-01, -1.1854e-01],\n",
              "                        [-1.7729e-02,  5.1113e-03, -8.1804e-02]],\n",
              "              \n",
              "                       [[ 1.5075e-01,  2.1764e-01, -2.8748e-01],\n",
              "                        [ 8.3165e-02,  2.2825e-01, -3.5904e-01],\n",
              "                        [ 1.3857e-02,  2.7942e-01, -3.3936e-01]],\n",
              "              \n",
              "                       [[-7.2643e-02,  3.2722e-03, -2.0555e-02],\n",
              "                        [-7.8419e-03, -1.2242e-01, -4.4769e-02],\n",
              "                        [ 1.1124e-01, -7.0503e-02, -4.5084e-03]],\n",
              "              \n",
              "                       [[ 4.2262e-02, -4.2940e-02,  2.0811e-01],\n",
              "                        [-5.8427e-02, -5.5723e-02,  1.6717e-01],\n",
              "                        [-7.1952e-02, -1.5554e-01,  1.3084e-01]],\n",
              "              \n",
              "                       [[ 8.5322e-02,  9.3251e-03, -2.8554e-01],\n",
              "                        [ 1.5237e-01,  1.9687e-01, -1.5322e-01],\n",
              "                        [-5.8974e-02,  7.3361e-02, -2.2787e-01]],\n",
              "              \n",
              "                       [[-1.9732e-02, -7.1789e-02,  8.3114e-03],\n",
              "                        [ 1.0101e-02, -1.3847e-02,  1.4461e-02],\n",
              "                        [-4.2339e-02,  2.7428e-02,  3.9332e-02]],\n",
              "              \n",
              "                       [[-4.9121e-02, -8.8812e-02,  1.6585e-01],\n",
              "                        [-4.0425e-03, -1.7374e-02,  1.5710e-01],\n",
              "                        [-1.3283e-01,  5.0680e-02,  1.0068e-01]],\n",
              "              \n",
              "                       [[-8.3575e-02,  8.3188e-02, -1.0111e-01],\n",
              "                        [-7.6132e-02, -2.7708e-02, -3.4486e-02],\n",
              "                        [ 1.0548e-01, -2.5552e-02,  2.8218e-02]],\n",
              "              \n",
              "                       [[-1.2807e-01,  7.2278e-02, -4.5022e-02],\n",
              "                        [-7.8184e-02,  1.9270e-02,  5.5507e-02],\n",
              "                        [ 6.0012e-02, -3.9906e-02, -5.7426e-02]],\n",
              "              \n",
              "                       [[ 2.0188e-02,  2.8591e-02,  4.0541e-02],\n",
              "                        [ 5.7774e-02, -2.3906e-02,  5.8623e-02],\n",
              "                        [ 7.7734e-02, -2.7474e-02,  7.4994e-02]]],\n",
              "              \n",
              "              \n",
              "                      [[[-5.3777e-02,  1.6352e-01,  1.0497e-01],\n",
              "                        [ 5.2791e-02,  7.3524e-02,  5.4123e-02],\n",
              "                        [ 8.5361e-02, -4.6976e-02, -8.8360e-02]],\n",
              "              \n",
              "                       [[ 1.0853e-01,  3.7416e-01, -8.3757e-02],\n",
              "                        [ 9.4822e-02, -1.5927e-02, -1.9707e-01],\n",
              "                        [ 1.0148e-01, -1.9703e-02, -3.0472e-02]],\n",
              "              \n",
              "                       [[-2.0185e-01, -2.9824e-01, -1.0290e-01],\n",
              "                        [-2.4717e-01, -2.3879e-01, -1.4460e-01],\n",
              "                        [-1.4254e-01, -2.0306e-01, -6.4822e-02]],\n",
              "              \n",
              "                       [[-2.2273e-01, -6.4539e-02,  1.5406e-01],\n",
              "                        [-3.8156e-01, -3.6543e-01, -4.1843e-03],\n",
              "                        [-8.4115e-03, -1.8206e-01,  1.0227e-01]],\n",
              "              \n",
              "                       [[ 3.1934e-02,  1.1711e-01, -1.2276e-03],\n",
              "                        [ 2.4430e-01,  1.6836e-01, -7.5682e-04],\n",
              "                        [ 8.2000e-02, -7.3532e-02, -1.8018e-01]],\n",
              "              \n",
              "                       [[ 8.7670e-02,  8.2528e-02,  2.9608e-02],\n",
              "                        [ 6.1263e-03, -8.8626e-02, -1.3065e-02],\n",
              "                        [ 1.0120e-01,  2.6493e-02,  8.3068e-03]],\n",
              "              \n",
              "                       [[-1.5902e-01, -4.2735e-02,  1.3735e-01],\n",
              "                        [ 1.8656e-03,  1.1539e-01, -1.2714e-02],\n",
              "                        [ 8.8106e-02,  2.6289e-02, -4.9568e-02]],\n",
              "              \n",
              "                       [[-2.6915e-03,  1.5274e-02,  8.9727e-02],\n",
              "                        [ 3.5585e-02, -9.9943e-02, -1.1057e-01],\n",
              "                        [-5.9614e-03, -1.7691e-02, -7.0078e-02]],\n",
              "              \n",
              "                       [[-1.3952e-01, -1.7599e-01, -9.7426e-02],\n",
              "                        [-4.4099e-02, -1.4315e-01, -2.0737e-01],\n",
              "                        [-4.4057e-02, -8.4635e-02, -2.7756e-03]],\n",
              "              \n",
              "                       [[ 5.5828e-02,  9.4938e-02,  4.6270e-04],\n",
              "                        [ 2.1246e-02,  3.6851e-02, -9.9625e-02],\n",
              "                        [ 9.4371e-03, -7.0003e-03, -5.9074e-02]]],\n",
              "              \n",
              "              \n",
              "                      [[[-1.7651e-01,  1.9997e-01,  3.1244e-01],\n",
              "                        [-2.1658e-01,  7.3037e-02,  1.0565e-01],\n",
              "                        [-1.9238e-01, -2.7363e-03,  7.3477e-02]],\n",
              "              \n",
              "                       [[-1.9274e-01, -6.4906e-03,  1.1479e-01],\n",
              "                        [-3.0073e-01, -2.6242e-02,  2.0529e-01],\n",
              "                        [-1.9531e-01, -8.0754e-02,  2.6326e-01]],\n",
              "              \n",
              "                       [[-8.1229e-02,  4.9352e-03,  5.3410e-02],\n",
              "                        [-9.9184e-02,  1.2153e-02, -7.5150e-02],\n",
              "                        [-1.0351e-01,  3.4782e-02, -3.4827e-02]],\n",
              "              \n",
              "                       [[-9.5446e-02, -2.8250e-02, -2.5402e-02],\n",
              "                        [-4.1165e-02,  4.9194e-02, -1.1922e-01],\n",
              "                        [ 5.7298e-02, -1.4179e-01, -1.2465e-01]],\n",
              "              \n",
              "                       [[-1.9777e-01, -3.5464e-02, -4.2755e-02],\n",
              "                        [-3.7248e-02, -5.9133e-02,  9.3102e-02],\n",
              "                        [-2.5164e-02,  3.1670e-02,  2.1587e-01]],\n",
              "              \n",
              "                       [[-1.0052e-01, -7.4552e-02, -3.8353e-02],\n",
              "                        [ 8.6851e-02,  1.1905e-02, -7.8928e-02],\n",
              "                        [ 1.5015e-03, -8.2512e-02, -2.2694e-02]],\n",
              "              \n",
              "                       [[-4.7956e-02,  9.1421e-02,  6.0958e-02],\n",
              "                        [-9.1757e-03,  8.5352e-03, -2.5799e-02],\n",
              "                        [ 6.1419e-02, -1.8275e-02, -3.2679e-02]],\n",
              "              \n",
              "                       [[-4.3021e-02,  8.8849e-02, -1.6190e-02],\n",
              "                        [-3.5463e-02,  6.3466e-02,  8.4924e-02],\n",
              "                        [ 1.0719e-01,  3.2450e-02, -3.7289e-02]],\n",
              "              \n",
              "                       [[ 6.8821e-02,  9.2949e-02, -6.9167e-02],\n",
              "                        [ 5.0162e-02, -2.6613e-02,  4.3376e-02],\n",
              "                        [ 7.9726e-02, -5.0485e-02, -1.5531e-02]],\n",
              "              \n",
              "                       [[ 4.7496e-02, -1.7725e-02, -8.8462e-02],\n",
              "                        [ 8.4351e-02, -5.3062e-02, -1.1572e-02],\n",
              "                        [ 9.9648e-03, -6.3408e-03, -9.9110e-02]]]])),\n",
              "             ('conv_block_1.2.bias',\n",
              "              tensor([ 0.3903, -0.0335, -0.0589,  0.4877, -0.0944,  0.0065,  0.2071, -0.0237,\n",
              "                       0.2253,  0.1307])),\n",
              "             ('conv_block_2.0.weight',\n",
              "              tensor([[[[-2.1691e-02, -1.1184e-01, -4.3899e-02],\n",
              "                        [-2.8669e-02, -1.0288e-02,  1.2118e-01],\n",
              "                        [-7.0689e-02,  3.6960e-02,  1.0405e-01]],\n",
              "              \n",
              "                       [[ 5.7351e-02, -9.7991e-02, -4.1299e-02],\n",
              "                        [-8.8860e-02, -6.5314e-02,  5.5122e-02],\n",
              "                        [-1.2752e-02,  4.4966e-02, -6.1525e-02]],\n",
              "              \n",
              "                       [[ 1.5913e-02, -6.3767e-02,  5.2603e-02],\n",
              "                        [-4.5925e-02, -2.6094e-02, -9.1241e-02],\n",
              "                        [ 4.1064e-04,  1.0028e-01,  5.1400e-02]],\n",
              "              \n",
              "                       [[-1.1597e-01,  9.8014e-03, -4.8980e-02],\n",
              "                        [-7.6613e-02,  1.1129e-01, -6.8634e-02],\n",
              "                        [ 1.4910e-01, -2.5438e-02, -5.2000e-02]],\n",
              "              \n",
              "                       [[-4.2336e-03,  4.8641e-02,  2.2531e-02],\n",
              "                        [-5.0402e-02,  1.1752e-01, -2.3818e-02],\n",
              "                        [-6.1067e-02, -2.8585e-02,  9.0229e-02]],\n",
              "              \n",
              "                       [[ 1.5172e-02, -2.9911e-02, -6.7919e-02],\n",
              "                        [-1.0943e-02, -7.2840e-02, -1.1902e-01],\n",
              "                        [ 4.8725e-02,  1.0970e-01,  7.8829e-02]],\n",
              "              \n",
              "                       [[-2.4971e-01,  9.4398e-02, -1.0261e-01],\n",
              "                        [ 2.4504e-02,  1.4449e-01,  6.0895e-02],\n",
              "                        [ 2.2159e-01,  1.0589e-01, -2.3806e-02]],\n",
              "              \n",
              "                       [[ 1.5574e-03, -3.4637e-03,  3.6353e-02],\n",
              "                        [-3.6156e-02,  6.0518e-02, -1.1122e-01],\n",
              "                        [ 7.6990e-03, -4.4347e-02, -6.5080e-02]],\n",
              "              \n",
              "                       [[-1.8362e-01, -8.3688e-02, -3.0777e-02],\n",
              "                        [ 3.9567e-02,  1.2850e-01,  6.1356e-03],\n",
              "                        [ 4.2970e-03, -5.8396e-02,  2.7946e-02]],\n",
              "              \n",
              "                       [[ 1.1753e-01, -8.1859e-02,  4.5170e-02],\n",
              "                        [ 1.4732e-01,  3.7847e-02, -5.6503e-02],\n",
              "                        [ 1.0779e-01,  6.7485e-02,  5.9093e-02]]],\n",
              "              \n",
              "              \n",
              "                      [[[-1.6109e-02, -2.4557e-01, -1.2187e-01],\n",
              "                        [ 1.6669e-01, -2.5532e-01, -8.7136e-02],\n",
              "                        [ 6.5582e-02,  1.0207e-01,  2.7649e-02]],\n",
              "              \n",
              "                       [[ 4.5030e-02, -3.4286e-02, -9.6681e-02],\n",
              "                        [-4.9947e-02,  7.4858e-02, -4.3737e-02],\n",
              "                        [ 2.1116e-02, -4.0425e-02,  8.1516e-02]],\n",
              "              \n",
              "                       [[ 6.3930e-02,  3.7481e-02, -5.3973e-02],\n",
              "                        [-8.6127e-02,  4.4248e-03, -6.1357e-02],\n",
              "                        [ 8.6254e-02, -1.0146e-01,  4.6872e-02]],\n",
              "              \n",
              "                       [[-2.5028e-01,  3.9977e-01,  3.5861e-01],\n",
              "                        [-2.8040e-01,  8.3368e-01,  3.9666e-01],\n",
              "                        [-7.0199e-01, -1.8570e-01, -6.1606e-02]],\n",
              "              \n",
              "                       [[ 2.8015e-02,  5.5083e-02,  4.2862e-03],\n",
              "                        [-8.9700e-02, -1.7579e-01, -5.3072e-02],\n",
              "                        [ 6.1796e-02, -1.4502e-01, -1.0205e-01]],\n",
              "              \n",
              "                       [[ 2.3124e-01, -4.9812e-01, -1.9327e-01],\n",
              "                        [ 1.3469e-01,  2.4140e-01,  1.4193e-01],\n",
              "                        [-2.5639e-02,  1.5748e-01,  2.6080e-01]],\n",
              "              \n",
              "                       [[-6.5615e-01,  1.2500e-01,  1.5429e-01],\n",
              "                        [-5.2551e-01,  3.6862e-01,  4.0595e-01],\n",
              "                        [-3.2116e-01, -2.2657e-02, -6.4722e-05]],\n",
              "              \n",
              "                       [[-9.8828e-02, -3.3471e-01, -7.0941e-03],\n",
              "                        [-3.9582e-01, -2.0639e-01, -1.1598e-01],\n",
              "                        [-2.3505e-01, -2.0181e-01, -1.8578e-01]],\n",
              "              \n",
              "                       [[-5.1760e-01,  2.2972e-02,  5.4539e-01],\n",
              "                        [-2.4004e-01,  4.2525e-01,  4.2408e-01],\n",
              "                        [-3.3926e-01, -7.6479e-02, -7.5106e-02]],\n",
              "              \n",
              "                       [[ 2.2381e-01,  1.9425e-02, -1.6806e-01],\n",
              "                        [ 1.4524e-01,  9.4878e-02, -1.0715e-01],\n",
              "                        [-1.9903e-01,  5.2716e-02,  1.2834e-01]]],\n",
              "              \n",
              "              \n",
              "                      [[[-6.6857e-02,  6.1687e-02,  7.2534e-02],\n",
              "                        [-1.0476e-01, -1.0925e-01, -9.8684e-02],\n",
              "                        [-8.6892e-02, -5.9377e-02, -1.2165e-02]],\n",
              "              \n",
              "                       [[-2.6353e-02, -5.4032e-02, -3.4697e-02],\n",
              "                        [-3.8799e-02,  1.0235e-01, -3.9840e-02],\n",
              "                        [-7.5857e-02,  4.3433e-02, -6.2884e-03]],\n",
              "              \n",
              "                       [[ 8.0781e-02,  6.5923e-02,  9.6829e-02],\n",
              "                        [-7.7187e-02,  6.7768e-02,  8.8467e-02],\n",
              "                        [-5.2020e-02,  9.6896e-02,  7.9013e-02]],\n",
              "              \n",
              "                       [[-1.8224e-02,  9.0260e-02, -3.1887e-02],\n",
              "                        [-1.0218e-01,  5.7371e-02,  3.7604e-02],\n",
              "                        [-9.9306e-02,  1.4629e-02, -1.7314e-01]],\n",
              "              \n",
              "                       [[ 9.1691e-02,  1.0285e-01,  3.7809e-02],\n",
              "                        [-5.9128e-02,  6.3784e-02,  4.2787e-02],\n",
              "                        [ 7.6719e-03,  2.6206e-02,  7.3773e-02]],\n",
              "              \n",
              "                       [[-5.5974e-02, -2.8266e-02,  1.5151e-02],\n",
              "                        [ 7.5098e-03,  1.0672e-01, -1.4614e-02],\n",
              "                        [-1.9848e-02,  3.7072e-04, -2.9380e-02]],\n",
              "              \n",
              "                       [[ 9.3181e-02, -3.5478e-03, -1.1541e-02],\n",
              "                        [ 1.9515e-02, -7.2059e-02,  7.8141e-02],\n",
              "                        [-5.4622e-02, -1.1695e-01, -1.8349e-02]],\n",
              "              \n",
              "                       [[ 1.1692e-02, -4.2510e-02,  1.4007e-01],\n",
              "                        [-3.9353e-03,  5.3444e-02,  6.3762e-02],\n",
              "                        [-1.1912e-01,  1.6539e-02,  8.9938e-02]],\n",
              "              \n",
              "                       [[-7.9541e-02, -6.3264e-02,  1.2298e-01],\n",
              "                        [ 9.1771e-02, -5.1970e-02,  1.0535e-01],\n",
              "                        [-4.1993e-02, -1.3494e-01, -2.6528e-02]],\n",
              "              \n",
              "                       [[ 4.6467e-02, -9.3791e-03,  3.8601e-02],\n",
              "                        [-8.1606e-02,  8.8042e-02,  8.9239e-02],\n",
              "                        [ 4.8755e-02,  5.1662e-03,  2.1446e-02]]],\n",
              "              \n",
              "              \n",
              "                      [[[-8.2623e-02, -5.5906e-02,  3.1816e-03],\n",
              "                        [-6.5892e-02, -8.5327e-02,  1.0898e-01],\n",
              "                        [ 6.2830e-02, -1.0130e-01,  6.8602e-02]],\n",
              "              \n",
              "                       [[ 4.3013e-02,  1.0058e-01,  6.1364e-02],\n",
              "                        [ 9.8050e-02, -3.3751e-02,  7.6549e-02],\n",
              "                        [ 8.7407e-02, -9.9467e-02, -8.5175e-02]],\n",
              "              \n",
              "                       [[ 2.1284e-02,  5.7570e-02, -5.2491e-02],\n",
              "                        [ 1.1541e-02, -2.4825e-04,  2.6754e-02],\n",
              "                        [-5.6678e-02,  5.9468e-02,  7.0101e-02]],\n",
              "              \n",
              "                       [[-4.0758e-02,  2.5210e-02, -6.4582e-02],\n",
              "                        [ 1.1359e-01,  1.1606e-01,  8.9943e-03],\n",
              "                        [ 3.4697e-02,  9.1443e-02, -9.7063e-02]],\n",
              "              \n",
              "                       [[-3.4960e-02,  1.2466e-02, -8.1654e-02],\n",
              "                        [-1.1481e-03, -5.4586e-02,  9.4115e-03],\n",
              "                        [-6.9761e-03,  3.3314e-02, -9.9224e-02]],\n",
              "              \n",
              "                       [[-1.1518e-01,  4.9771e-02,  1.2842e-01],\n",
              "                        [-1.2631e-01,  2.6128e-02, -6.1581e-02],\n",
              "                        [ 1.6483e-02,  1.0203e-01,  1.1400e-01]],\n",
              "              \n",
              "                       [[-7.2561e-02,  1.1345e-01,  3.1683e-02],\n",
              "                        [-2.3867e-02,  1.5828e-01, -2.8777e-02],\n",
              "                        [-6.1924e-02, -4.7787e-03, -4.9067e-02]],\n",
              "              \n",
              "                       [[-3.0455e-05,  4.8341e-02, -9.7293e-02],\n",
              "                        [-9.3840e-02,  8.3388e-02, -1.1403e-01],\n",
              "                        [-4.7806e-02,  2.0881e-02, -5.2987e-02]],\n",
              "              \n",
              "                       [[ 9.7450e-02,  4.3868e-02,  5.6382e-02],\n",
              "                        [ 5.3091e-02, -1.4455e-02,  8.7527e-02],\n",
              "                        [ 5.3628e-02,  2.6603e-02, -1.0887e-01]],\n",
              "              \n",
              "                       [[-1.4802e-02, -1.0189e-01,  1.6281e-02],\n",
              "                        [-1.0480e-02, -1.0660e-01, -6.3856e-02],\n",
              "                        [-1.0348e-01,  7.3897e-02,  8.5798e-02]]],\n",
              "              \n",
              "              \n",
              "                      [[[ 8.5601e-02,  1.1835e-01, -2.9862e-02],\n",
              "                        [-1.7217e-02,  6.4943e-02,  6.5806e-02],\n",
              "                        [ 1.7990e-01,  6.1938e-02,  1.6369e-01]],\n",
              "              \n",
              "                       [[ 6.6453e-02,  7.5145e-02, -1.0427e-01],\n",
              "                        [ 8.8627e-02, -9.1211e-02,  9.4838e-02],\n",
              "                        [-6.2081e-03, -9.3704e-02,  3.0764e-02]],\n",
              "              \n",
              "                       [[-2.1303e-02, -9.4689e-02, -3.8234e-02],\n",
              "                        [ 1.1061e-02,  8.2129e-02, -3.2372e-02],\n",
              "                        [ 6.2436e-02,  1.3240e-02,  3.5728e-03]],\n",
              "              \n",
              "                       [[ 8.1445e-02, -6.2421e-02, -8.4687e-02],\n",
              "                        [-3.7253e-02, -1.6275e-01, -1.0607e-01],\n",
              "                        [ 2.7657e-02, -8.0041e-02, -1.1647e-01]],\n",
              "              \n",
              "                       [[-1.6028e-02, -1.9768e-02, -6.2008e-02],\n",
              "                        [ 1.1270e-02, -3.3641e-02,  2.9415e-02],\n",
              "                        [-1.5164e-02, -6.0890e-02, -3.5561e-02]],\n",
              "              \n",
              "                       [[ 2.1842e-02, -5.7457e-02,  3.2329e-02],\n",
              "                        [-1.2171e-02,  2.6069e-02,  3.9468e-02],\n",
              "                        [ 8.1516e-02, -3.2792e-02, -6.3001e-02]],\n",
              "              \n",
              "                       [[ 8.6308e-02, -1.2110e-01, -2.2835e-02],\n",
              "                        [ 9.1970e-03, -1.0302e-01, -8.0261e-02],\n",
              "                        [ 9.3906e-02,  1.2677e-01, -2.4883e-02]],\n",
              "              \n",
              "                       [[ 7.4798e-02, -1.2813e-01,  1.1705e-02],\n",
              "                        [ 7.5823e-02,  2.1054e-02, -9.7062e-02],\n",
              "                        [ 5.3542e-02, -5.2183e-02, -2.2404e-02]],\n",
              "              \n",
              "                       [[ 2.2349e-02, -9.7497e-02, -1.3065e-01],\n",
              "                        [-6.5594e-02, -5.2010e-03,  8.1440e-03],\n",
              "                        [-1.3995e-01, -4.7467e-02, -6.4331e-02]],\n",
              "              \n",
              "                       [[-1.0960e-01,  3.8907e-02,  1.3509e-01],\n",
              "                        [ 1.4249e-02, -8.8930e-02,  2.5582e-02],\n",
              "                        [ 6.1104e-02,  5.5975e-02, -5.9780e-02]]],\n",
              "              \n",
              "              \n",
              "                      [[[-8.4980e-02,  6.1418e-02,  1.1240e-02],\n",
              "                        [-4.1032e-03, -4.0086e-02, -5.5717e-03],\n",
              "                        [ 1.0608e-01, -2.0226e-02,  1.2660e-01]],\n",
              "              \n",
              "                       [[ 9.3771e-02,  1.3754e-02,  2.0031e-02],\n",
              "                        [-7.3572e-03,  7.1850e-02, -9.5102e-02],\n",
              "                        [ 4.0664e-02, -1.8960e-02,  5.0470e-02]],\n",
              "              \n",
              "                       [[-6.5062e-04, -3.8689e-02, -1.1202e-02],\n",
              "                        [ 5.6989e-02, -7.2965e-02, -6.6395e-02],\n",
              "                        [-2.3657e-02, -3.8260e-02,  4.1472e-02]],\n",
              "              \n",
              "                       [[-4.5960e-02, -5.2942e-02,  3.4497e-02],\n",
              "                        [-1.5742e-01, -5.1455e-03, -5.7155e-02],\n",
              "                        [-1.8957e-01, -6.8855e-02, -1.0566e-01]],\n",
              "              \n",
              "                       [[-7.7554e-02,  1.5967e-02,  9.3044e-02],\n",
              "                        [ 1.2400e-01,  9.1361e-02,  3.1504e-02],\n",
              "                        [ 3.3174e-02, -3.9787e-02,  1.0007e-01]],\n",
              "              \n",
              "                       [[-8.3474e-02,  4.9646e-02,  2.4195e-02],\n",
              "                        [ 2.9623e-02,  6.6536e-02,  2.2842e-03],\n",
              "                        [ 6.2451e-02,  1.1156e-01,  1.2842e-01]],\n",
              "              \n",
              "                       [[ 6.3398e-02,  5.2987e-02,  4.2678e-02],\n",
              "                        [ 1.1813e-01,  1.4423e-01,  4.0466e-02],\n",
              "                        [ 9.7383e-02,  8.4958e-02,  1.8455e-01]],\n",
              "              \n",
              "                       [[ 1.6063e-01, -4.2304e-03, -4.8757e-02],\n",
              "                        [ 5.5081e-02,  5.7099e-02,  4.2861e-02],\n",
              "                        [ 6.1215e-03,  1.1386e-01,  1.4192e-01]],\n",
              "              \n",
              "                       [[-1.2513e-01, -4.4557e-02, -4.8043e-02],\n",
              "                        [-9.7091e-02, -5.2452e-03, -9.2093e-03],\n",
              "                        [-9.7632e-02, -8.5304e-03,  5.4689e-03]],\n",
              "              \n",
              "                       [[ 1.3646e-01,  9.8036e-02,  1.7456e-01],\n",
              "                        [ 5.4121e-02,  1.2119e-01,  8.9848e-02],\n",
              "                        [ 3.6156e-02, -5.7049e-03, -1.5487e-02]]],\n",
              "              \n",
              "              \n",
              "                      [[[-2.2581e-01,  1.0647e-01,  2.2426e-01],\n",
              "                        [-3.0884e-01,  2.7922e-02,  3.6320e-02],\n",
              "                        [-1.6070e-01, -3.9339e-01, -4.4490e-01]],\n",
              "              \n",
              "                       [[-6.7597e-02,  2.2189e-02,  3.6915e-02],\n",
              "                        [ 8.6923e-02, -4.0749e-02,  5.5940e-03],\n",
              "                        [-2.6937e-02, -5.5465e-03,  5.6825e-02]],\n",
              "              \n",
              "                       [[-2.2912e-03,  5.2808e-03,  1.3375e-02],\n",
              "                        [ 3.9549e-02, -3.2065e-02, -6.3063e-02],\n",
              "                        [ 2.4991e-02, -1.2112e-02, -4.7199e-02]],\n",
              "              \n",
              "                       [[-9.6689e-02, -1.5933e-01, -6.9994e-01],\n",
              "                        [ 4.5035e-01,  8.1050e-02, -5.1476e-01],\n",
              "                        [ 1.5683e-01,  1.7347e-01,  2.6686e-01]],\n",
              "              \n",
              "                       [[-1.0229e-02,  3.6615e-02, -1.9060e-03],\n",
              "                        [ 1.6850e-01, -1.4790e-01,  2.1289e-02],\n",
              "                        [ 9.0168e-02, -1.8361e-01,  6.7203e-02]],\n",
              "              \n",
              "                       [[-1.8795e-01,  9.0879e-02,  1.0921e-01],\n",
              "                        [-1.3392e-01,  1.0187e-01, -1.3633e-01],\n",
              "                        [ 1.6363e-01, -1.8025e-02,  7.4917e-02]],\n",
              "              \n",
              "                       [[-2.4402e-01,  2.8776e-01, -4.2368e-01],\n",
              "                        [ 3.9776e-01,  1.4513e-01, -2.0477e-01],\n",
              "                        [ 6.4557e-03, -3.0889e-01, -6.1023e-02]],\n",
              "              \n",
              "                       [[-2.2770e-02,  1.8583e-01, -2.4793e-01],\n",
              "                        [ 1.0809e-01, -6.6516e-02, -1.2519e-01],\n",
              "                        [-7.7977e-02, -2.6596e-01,  5.3938e-02]],\n",
              "              \n",
              "                       [[-1.9534e-01,  7.5273e-02, -3.2863e-01],\n",
              "                        [ 3.2544e-01,  4.0614e-02, -4.7068e-01],\n",
              "                        [ 3.2841e-01, -4.4224e-02,  1.4059e-01]],\n",
              "              \n",
              "                       [[ 4.9486e-02, -4.3309e-02,  4.0559e-03],\n",
              "                        [-1.7680e-01, -1.1339e-01, -9.5855e-02],\n",
              "                        [-2.0482e-01,  2.0005e-02, -4.5492e-02]]],\n",
              "              \n",
              "              \n",
              "                      [[[-8.5753e-02,  2.5540e-01,  2.6738e-01],\n",
              "                        [ 4.7682e-03, -2.0156e-01, -6.8637e-03],\n",
              "                        [ 8.4320e-02, -8.4720e-02,  6.6777e-02]],\n",
              "              \n",
              "                       [[-8.6821e-02, -1.4532e-02, -5.2708e-02],\n",
              "                        [ 3.2883e-02, -5.9047e-02,  6.3959e-02],\n",
              "                        [-8.2153e-02,  5.4556e-02, -9.7590e-02]],\n",
              "              \n",
              "                       [[ 5.7351e-02, -4.3714e-02, -2.4581e-03],\n",
              "                        [-2.0262e-02,  6.8042e-02,  3.4772e-02],\n",
              "                        [-9.2421e-02,  9.8724e-03, -7.2967e-02]],\n",
              "              \n",
              "                       [[ 1.0401e-01, -1.3057e-01, -6.7282e-01],\n",
              "                        [-2.6507e-01,  5.8129e-01,  2.6183e-01],\n",
              "                        [-7.6145e-02,  3.6095e-01, -1.9690e-02]],\n",
              "              \n",
              "                       [[ 1.0259e-01, -2.7884e-01,  9.4620e-02],\n",
              "                        [-6.7306e-02, -1.7241e-01,  1.1335e-03],\n",
              "                        [-1.2709e-03, -7.3629e-02, -1.4826e-02]],\n",
              "              \n",
              "                       [[ 2.4304e-01, -4.7018e-01, -2.6739e-01],\n",
              "                        [ 8.2255e-04, -2.1995e-01, -2.1300e-01],\n",
              "                        [-6.4153e-02,  6.4130e-02, -6.8519e-02]],\n",
              "              \n",
              "                       [[ 1.4730e-01, -8.8295e-02, -1.6281e-01],\n",
              "                        [-2.2725e-01,  6.1025e-02, -8.3790e-02],\n",
              "                        [-1.6080e-01,  2.2828e-02,  1.4097e-01]],\n",
              "              \n",
              "                       [[ 7.2240e-02, -4.1562e-02,  2.7818e-02],\n",
              "                        [-6.8819e-03, -8.0767e-02, -4.0369e-02],\n",
              "                        [-1.2364e-01, -3.2770e-02,  3.8278e-02]],\n",
              "              \n",
              "                       [[ 3.4248e-02, -8.6769e-02, -3.5047e-01],\n",
              "                        [-2.6685e-01,  3.0752e-01,  1.5381e-01],\n",
              "                        [-5.2565e-02,  1.1422e-01,  2.0226e-02]],\n",
              "              \n",
              "                       [[ 2.8078e-01, -3.5183e-01,  1.0478e-01],\n",
              "                        [ 2.0391e-01, -8.0576e-02,  7.8844e-02],\n",
              "                        [ 3.1973e-02,  5.0458e-03,  5.8009e-03]]],\n",
              "              \n",
              "              \n",
              "                      [[[-6.6041e-02, -7.4809e-02,  1.8786e-01],\n",
              "                        [ 1.9787e-01,  2.2569e-01,  2.4802e-01],\n",
              "                        [ 6.5328e-03, -8.2296e-03,  2.4558e-02]],\n",
              "              \n",
              "                       [[ 4.4783e-02,  1.7360e-02,  4.8312e-02],\n",
              "                        [-6.8670e-02,  3.8650e-02,  7.5272e-02],\n",
              "                        [ 6.0670e-02,  3.0889e-02,  1.0763e-01]],\n",
              "              \n",
              "                       [[-3.1110e-04,  2.2279e-02,  9.9922e-02],\n",
              "                        [ 1.0279e-01, -4.4120e-02,  9.5303e-02],\n",
              "                        [ 3.8637e-02, -1.2188e-02,  9.1662e-02]],\n",
              "              \n",
              "                       [[ 1.2921e-01,  3.1878e-01,  2.4198e-01],\n",
              "                        [-3.0222e-01, -6.0830e-01, -2.8588e-01],\n",
              "                        [ 1.8730e-01, -2.8059e-01,  7.6323e-02]],\n",
              "              \n",
              "                       [[ 9.7210e-02,  1.3488e-01, -1.1805e-02],\n",
              "                        [ 9.4682e-02,  5.5437e-02, -1.1401e-01],\n",
              "                        [-9.4072e-02, -4.7985e-02,  1.0202e-01]],\n",
              "              \n",
              "                       [[-4.6954e-02,  1.2706e-01,  5.6398e-03],\n",
              "                        [-3.0849e-02,  8.5294e-02,  8.6479e-02],\n",
              "                        [-6.4296e-02, -1.8532e-01, -9.1366e-02]],\n",
              "              \n",
              "                       [[-7.4933e-02,  8.9549e-02,  1.6174e-01],\n",
              "                        [ 5.6532e-02, -5.3132e-01, -5.2265e-01],\n",
              "                        [ 3.0717e-01, -3.9166e-01, -2.9055e-01]],\n",
              "              \n",
              "                       [[-7.5510e-03,  5.2883e-02,  1.3014e-02],\n",
              "                        [-1.5517e-01, -2.3654e-01, -1.5715e-02],\n",
              "                        [ 6.2493e-02, -2.6405e-01, -2.5354e-01]],\n",
              "              \n",
              "                       [[ 2.2515e-01,  8.8301e-02, -1.1529e-01],\n",
              "                        [ 1.3263e-02, -3.4808e-01, -2.6926e-01],\n",
              "                        [ 1.5913e-01, -4.6821e-01, -1.3206e-01]],\n",
              "              \n",
              "                       [[-8.1666e-02, -1.5037e-01,  1.1491e-01],\n",
              "                        [-7.7153e-02,  2.7219e-02,  1.0278e-01],\n",
              "                        [-2.3352e-01, -1.4748e-01,  1.6115e-01]]],\n",
              "              \n",
              "              \n",
              "                      [[[-1.2679e-01,  2.3185e-02,  4.8519e-03],\n",
              "                        [ 5.8681e-02,  1.0556e-01, -5.5894e-03],\n",
              "                        [ 1.0121e-01, -6.8504e-02, -5.0456e-02]],\n",
              "              \n",
              "                       [[ 7.6576e-02,  3.0321e-02, -1.4125e-02],\n",
              "                        [-2.5115e-02, -6.4632e-02,  6.2186e-02],\n",
              "                        [-4.1247e-03, -3.2052e-03,  2.5154e-02]],\n",
              "              \n",
              "                       [[ 7.7793e-02, -5.3788e-02, -3.6181e-02],\n",
              "                        [ 7.1598e-02,  5.9746e-02, -5.1669e-02],\n",
              "                        [-1.0434e-01,  1.9534e-02,  5.5371e-02]],\n",
              "              \n",
              "                       [[-6.5652e-03,  4.6843e-02, -1.2999e-01],\n",
              "                        [ 1.0096e-02, -1.3150e-01,  1.8323e-02],\n",
              "                        [ 1.7653e-02, -1.6842e-02,  1.3777e-01]],\n",
              "              \n",
              "                       [[-7.0671e-02, -9.4111e-02, -1.0054e-01],\n",
              "                        [ 6.0853e-02,  3.2022e-02, -7.7998e-02],\n",
              "                        [ 4.2087e-02,  9.1038e-02, -9.9586e-02]],\n",
              "              \n",
              "                       [[ 6.5786e-02,  1.3525e-02, -1.5002e-03],\n",
              "                        [ 9.9324e-02,  9.7949e-02,  4.1267e-02],\n",
              "                        [ 7.2662e-02,  4.2401e-02,  4.8854e-02]],\n",
              "              \n",
              "                       [[-1.1394e-01, -1.6745e-02, -8.8734e-02],\n",
              "                        [ 3.2181e-02, -1.0327e-02, -1.6059e-02],\n",
              "                        [-9.8966e-02, -1.0780e-01,  5.5292e-02]],\n",
              "              \n",
              "                       [[ 4.2454e-02,  4.1926e-02, -3.6231e-02],\n",
              "                        [-3.2715e-02, -4.4602e-02,  6.2222e-02],\n",
              "                        [-6.7553e-02,  4.5526e-02,  6.4149e-02]],\n",
              "              \n",
              "                       [[-1.0666e-01, -1.3411e-02, -3.3593e-02],\n",
              "                        [-6.9720e-02,  1.3690e-02, -5.3285e-02],\n",
              "                        [ 8.5400e-02, -1.1106e-01,  4.0523e-02]],\n",
              "              \n",
              "                       [[-9.6121e-02, -5.2020e-02, -2.2669e-02],\n",
              "                        [ 5.5207e-02,  7.1234e-02, -8.6041e-02],\n",
              "                        [-2.7143e-02, -3.1228e-02,  3.3484e-02]]]])),\n",
              "             ('conv_block_2.0.bias',\n",
              "              tensor([-0.1004,  0.0471, -0.0278, -0.1235, -0.0410,  0.0728,  0.1905,  0.4489,\n",
              "                       0.7998, -0.0325])),\n",
              "             ('conv_block_2.2.weight',\n",
              "              tensor([[[[-8.8550e-02, -1.4775e-01, -6.7956e-02],\n",
              "                        [ 2.9177e-02,  1.4078e-02, -2.3025e-02],\n",
              "                        [ 3.5564e-02, -1.2786e-01,  6.5468e-02]],\n",
              "              \n",
              "                       [[-1.0019e-01, -2.8325e-01, -1.2309e-02],\n",
              "                        [-1.7090e-01, -5.3873e-02, -4.2710e-01],\n",
              "                        [ 3.8900e-01,  1.5506e-01, -8.0572e-01]],\n",
              "              \n",
              "                       [[-4.3696e-03, -2.3832e-03,  6.4378e-02],\n",
              "                        [-1.2752e-01,  6.6055e-02, -9.6290e-03],\n",
              "                        [-1.1494e-03,  1.1082e-01, -1.3049e-01]],\n",
              "              \n",
              "                       [[-1.0223e-01,  1.5185e-01, -6.9802e-02],\n",
              "                        [-5.1621e-02,  4.1326e-02, -4.7044e-02],\n",
              "                        [ 2.8713e-03,  2.0601e-02,  6.6452e-02]],\n",
              "              \n",
              "                       [[-4.2886e-02, -8.2681e-04,  1.0644e-01],\n",
              "                        [-2.4060e-02, -5.9183e-02,  4.9899e-02],\n",
              "                        [-4.7557e-02, -5.6274e-02, -1.1932e-01]],\n",
              "              \n",
              "                       [[-1.7230e-01, -7.8624e-02,  1.0066e-01],\n",
              "                        [-5.8504e-02,  2.4280e-02,  5.5986e-02],\n",
              "                        [ 3.4125e-03, -4.6980e-02, -3.5803e-02]],\n",
              "              \n",
              "                       [[-3.6511e-01, -1.6925e-01, -5.3493e-01],\n",
              "                        [-1.2861e-01, -5.4243e-03,  2.6876e-01],\n",
              "                        [-2.2608e-01, -1.1760e-01,  5.6162e-01]],\n",
              "              \n",
              "                       [[ 3.9335e-01,  2.0984e-01, -1.8620e-01],\n",
              "                        [-8.9443e-02, -9.2646e-02,  3.1991e-02],\n",
              "                        [-5.2992e-02, -9.1834e-02,  1.3431e-01]],\n",
              "              \n",
              "                       [[ 3.8049e-01, -1.6423e-01,  2.5267e-01],\n",
              "                        [ 7.2878e-02, -4.0133e-01,  1.2668e-01],\n",
              "                        [-3.1933e-01, -4.2291e-01, -2.5516e-01]],\n",
              "              \n",
              "                       [[-5.0287e-02,  3.8810e-02, -5.2948e-02],\n",
              "                        [ 3.5192e-02, -7.5459e-02, -4.1598e-02],\n",
              "                        [ 4.5364e-02, -1.5947e-02, -4.3572e-02]]],\n",
              "              \n",
              "              \n",
              "                      [[[ 3.1281e-02,  5.1234e-02, -2.3320e-02],\n",
              "                        [-8.7825e-02,  4.3381e-02, -6.9681e-02],\n",
              "                        [ 1.3899e-01, -4.9645e-02, -7.1114e-03]],\n",
              "              \n",
              "                       [[ 2.0665e-01,  5.5030e-02, -3.1330e-01],\n",
              "                        [ 4.5658e-02, -2.5777e-01,  3.8504e-01],\n",
              "                        [-2.2651e-01, -7.2471e-01,  1.5593e-01]],\n",
              "              \n",
              "                       [[ 1.4393e-02,  2.3811e-02,  9.7998e-02],\n",
              "                        [ 9.5840e-02, -4.0117e-02, -1.9596e-02],\n",
              "                        [-3.2406e-02, -1.0484e-01, -2.5306e-02]],\n",
              "              \n",
              "                       [[-4.4656e-02,  9.9221e-02,  1.1965e-01],\n",
              "                        [ 8.2304e-02, -3.8752e-02, -8.1686e-02],\n",
              "                        [ 1.0246e-01,  3.3769e-02, -9.9129e-03]],\n",
              "              \n",
              "                       [[ 4.0775e-02, -1.4640e-02,  8.7070e-02],\n",
              "                        [ 5.3671e-02, -9.1491e-02,  1.0603e-01],\n",
              "                        [ 8.7583e-02, -9.4954e-02, -4.4304e-02]],\n",
              "              \n",
              "                       [[-4.4558e-02,  5.8454e-02,  8.3104e-02],\n",
              "                        [-6.6301e-02, -5.9096e-02,  9.6088e-02],\n",
              "                        [ 7.9601e-02,  9.8279e-02,  6.8817e-02]],\n",
              "              \n",
              "                       [[-3.2256e-01,  1.9110e-01,  4.9734e-02],\n",
              "                        [-3.8747e-01,  4.9253e-01, -8.3522e-02],\n",
              "                        [-5.9297e-02,  4.4445e-01, -2.4856e-01]],\n",
              "              \n",
              "                       [[ 4.1457e-02, -8.0280e-02,  4.7307e-02],\n",
              "                        [-2.3708e-02, -4.1950e-01, -2.0199e-02],\n",
              "                        [ 5.6647e-02, -5.2200e-01,  4.0754e-01]],\n",
              "              \n",
              "                       [[-1.1390e-02, -2.7043e-01,  2.0318e-02],\n",
              "                        [ 2.2998e-01,  7.8516e-03, -2.3392e-01],\n",
              "                        [ 1.5823e-03,  1.7072e-01, -5.3164e-02]],\n",
              "              \n",
              "                       [[-9.8584e-03,  6.2729e-02,  9.5680e-02],\n",
              "                        [-5.8256e-02, -6.6332e-02,  4.5047e-02],\n",
              "                        [-1.4834e-03, -2.1577e-02, -9.5994e-02]]],\n",
              "              \n",
              "              \n",
              "                      [[[ 1.2064e-01,  3.4524e-02, -3.5051e-02],\n",
              "                        [-6.3227e-02,  1.3487e-02, -3.1675e-02],\n",
              "                        [ 1.0005e-02,  1.0836e-01, -3.9542e-02]],\n",
              "              \n",
              "                       [[-4.1671e-01, -1.0717e-01, -6.1056e-01],\n",
              "                        [-5.8444e-01,  6.3467e-01, -9.4322e-02],\n",
              "                        [-1.5269e-01,  8.7323e-02,  2.5826e-01]],\n",
              "              \n",
              "                       [[-8.6311e-03,  5.3852e-03, -3.3269e-02],\n",
              "                        [ 2.3191e-02,  5.7050e-02,  4.8396e-02],\n",
              "                        [ 5.7767e-03, -1.0074e-01,  3.9672e-02]],\n",
              "              \n",
              "                       [[-1.2564e-01,  6.0500e-02,  9.5403e-03],\n",
              "                        [-3.2328e-03, -1.5034e-03, -1.3916e-01],\n",
              "                        [ 7.6253e-02, -4.9865e-02,  4.1148e-02]],\n",
              "              \n",
              "                       [[ 7.9227e-02, -1.1438e-01,  2.2643e-02],\n",
              "                        [-3.1110e-02,  2.9553e-02, -2.7597e-02],\n",
              "                        [ 7.4487e-02,  1.9595e-02,  8.9877e-02]],\n",
              "              \n",
              "                       [[ 1.7507e-01,  1.2457e-03, -1.8933e-01],\n",
              "                        [ 1.7231e-01, -2.6100e-02, -8.0131e-02],\n",
              "                        [ 5.5276e-02,  3.9823e-02, -1.0048e-01]],\n",
              "              \n",
              "                       [[-1.9923e-01, -3.6448e-01,  2.9226e-01],\n",
              "                        [-1.2682e-01, -4.2504e-02, -7.0713e-02],\n",
              "                        [-1.7320e-01,  8.2732e-02, -9.5774e-03]],\n",
              "              \n",
              "                       [[-3.8054e-01,  6.0472e-01, -7.4105e-02],\n",
              "                        [-3.0144e-01,  3.7014e-01, -9.9493e-02],\n",
              "                        [ 6.9596e-02, -1.9005e-01,  8.2591e-02]],\n",
              "              \n",
              "                       [[ 1.3527e-01, -1.9179e-01,  1.3479e-01],\n",
              "                        [-3.0252e-02, -2.5592e-01, -2.0164e-02],\n",
              "                        [ 1.0686e-02, -1.5251e-02, -1.5711e-01]],\n",
              "              \n",
              "                       [[ 9.1170e-02,  3.2502e-02, -9.3495e-02],\n",
              "                        [-5.8689e-03, -1.1610e-03, -6.9267e-02],\n",
              "                        [ 4.2283e-02, -1.0110e-01, -9.5484e-02]]],\n",
              "              \n",
              "              \n",
              "                      [[[-8.9338e-02, -2.8608e-02, -1.9743e-02],\n",
              "                        [-1.7927e-02,  6.0804e-02, -1.0825e-01],\n",
              "                        [ 1.0500e-02, -9.0179e-03,  3.8839e-02]],\n",
              "              \n",
              "                       [[ 1.2209e-01, -1.2058e-01, -4.7575e-01],\n",
              "                        [ 8.9808e-02, -3.6429e-01,  5.5118e-02],\n",
              "                        [ 7.1993e-04, -5.3627e-01,  5.7575e-01]],\n",
              "              \n",
              "                       [[ 4.8595e-02, -3.0809e-02,  3.8766e-02],\n",
              "                        [ 3.7987e-02, -2.9153e-02,  1.3854e-01],\n",
              "                        [-8.4315e-02,  5.4280e-02, -2.3185e-04]],\n",
              "              \n",
              "                       [[-8.8066e-02,  8.2193e-04,  3.4383e-02],\n",
              "                        [ 1.1796e-01,  3.6334e-02, -1.3529e-02],\n",
              "                        [ 2.8675e-02, -4.6236e-02, -3.1982e-02]],\n",
              "              \n",
              "                       [[ 1.4599e-02,  4.9978e-02,  2.1939e-02],\n",
              "                        [-5.1703e-02, -4.2583e-02, -1.1970e-01],\n",
              "                        [-2.3365e-02, -1.5148e-01, -7.2757e-03]],\n",
              "              \n",
              "                       [[-9.4157e-02,  3.9996e-02,  7.3776e-02],\n",
              "                        [-3.5031e-02, -9.6267e-02,  3.7423e-02],\n",
              "                        [-1.2106e-03,  3.7065e-02, -3.9351e-02]],\n",
              "              \n",
              "                       [[-2.3509e-02, -1.5804e-01, -1.1244e-01],\n",
              "                        [-1.2095e-01, -1.0064e-01, -1.0789e-01],\n",
              "                        [-1.5492e-02, -2.2181e-01, -8.1398e-02]],\n",
              "              \n",
              "                       [[-1.1830e-01,  1.8010e-01,  2.2914e-02],\n",
              "                        [-9.0961e-02,  2.3727e-03, -4.0619e-02],\n",
              "                        [-2.2236e-01, -4.9942e-02,  1.5257e-02]],\n",
              "              \n",
              "                       [[ 1.6070e-01,  1.2094e-01,  1.7865e-01],\n",
              "                        [-1.9862e-02, -9.3475e-02, -4.1268e-01],\n",
              "                        [ 3.9383e-01,  7.6538e-02, -2.4088e-01]],\n",
              "              \n",
              "                       [[ 5.6167e-02,  6.9402e-02,  6.6738e-02],\n",
              "                        [ 3.0266e-02, -1.0197e-01, -1.3548e-01],\n",
              "                        [-8.8411e-02,  1.8721e-02, -9.2079e-02]]],\n",
              "              \n",
              "              \n",
              "                      [[[-7.1648e-02, -7.8423e-02, -7.9868e-02],\n",
              "                        [-2.9977e-03, -4.6489e-03, -7.4357e-02],\n",
              "                        [ 6.7732e-02, -6.2317e-02, -4.4813e-02]],\n",
              "              \n",
              "                       [[ 5.1687e-01,  7.0012e-01,  1.7607e-01],\n",
              "                        [-4.0884e-01, -5.4277e-01, -1.7571e-01],\n",
              "                        [-1.9833e-01, -2.9169e-02,  4.9918e-02]],\n",
              "              \n",
              "                       [[-1.1023e-01, -1.0493e-01, -3.7680e-02],\n",
              "                        [-3.4677e-02, -7.7138e-02, -9.5619e-02],\n",
              "                        [ 3.6628e-03, -8.6114e-02, -8.0113e-02]],\n",
              "              \n",
              "                       [[-5.9178e-02, -5.7390e-02,  1.5949e-01],\n",
              "                        [ 4.7274e-02, -1.8477e-02,  8.6198e-04],\n",
              "                        [ 4.3588e-02,  9.5504e-03, -9.1610e-02]],\n",
              "              \n",
              "                       [[-6.9175e-02, -7.2996e-02, -3.7611e-02],\n",
              "                        [-1.0889e-01, -2.8838e-02, -1.0034e-01],\n",
              "                        [ 1.1231e-01,  7.2137e-02,  6.5056e-03]],\n",
              "              \n",
              "                       [[ 9.0386e-03, -8.3888e-02, -2.8637e-02],\n",
              "                        [-4.7856e-02, -6.5056e-02, -7.7784e-02],\n",
              "                        [-6.3964e-03, -7.9053e-02,  4.7948e-02]],\n",
              "              \n",
              "                       [[ 9.1403e-02, -1.9583e-01,  8.9476e-02],\n",
              "                        [-7.9880e-02, -1.1236e-01, -4.7312e-03],\n",
              "                        [ 1.6055e-01,  6.3438e-02, -9.1598e-02]],\n",
              "              \n",
              "                       [[-8.6224e-02, -9.7384e-02, -4.6406e-02],\n",
              "                        [-6.8967e-02, -9.0394e-02, -7.8177e-02],\n",
              "                        [ 7.4308e-02,  1.9489e-01,  1.2875e-01]],\n",
              "              \n",
              "                       [[-6.8159e-02,  9.7355e-03, -7.0245e-02],\n",
              "                        [-1.0289e-02,  9.7957e-02, -7.8135e-02],\n",
              "                        [-4.8329e-02, -6.7837e-02, -1.9290e-01]],\n",
              "              \n",
              "                       [[-9.0549e-02,  3.7943e-03, -2.3315e-02],\n",
              "                        [ 9.4761e-02,  1.0222e-01,  2.8993e-02],\n",
              "                        [ 9.4991e-02, -5.5686e-02,  8.8744e-02]]],\n",
              "              \n",
              "              \n",
              "                      [[[ 1.1743e-01, -6.5377e-02, -1.6062e-01],\n",
              "                        [ 1.2709e-02, -3.4015e-02, -4.0609e-02],\n",
              "                        [-7.0340e-02,  1.0877e-02, -6.6856e-02]],\n",
              "              \n",
              "                       [[-2.7570e-01, -4.5604e-01,  2.5074e-01],\n",
              "                        [-5.4837e-01, -4.6262e-01, -1.9301e-01],\n",
              "                        [ 3.2078e-01,  6.5658e-01, -5.0856e-02]],\n",
              "              \n",
              "                       [[ 4.1389e-02, -5.7137e-02, -7.7753e-02],\n",
              "                        [-9.0698e-03, -5.6123e-02, -8.3936e-02],\n",
              "                        [-6.4959e-02, -4.7100e-02,  8.6608e-02]],\n",
              "              \n",
              "                       [[ 1.1586e-01, -8.2444e-02, -1.0330e-01],\n",
              "                        [-1.1796e-01, -1.1353e-01, -8.5072e-02],\n",
              "                        [ 1.5676e-02,  1.2200e-02, -4.6588e-02]],\n",
              "              \n",
              "                       [[-6.3203e-02, -6.6710e-02, -1.0361e-01],\n",
              "                        [-1.1275e-01, -3.2392e-02,  7.0831e-02],\n",
              "                        [ 4.2279e-02,  1.0876e-02, -3.5497e-02]],\n",
              "              \n",
              "                       [[ 4.3342e-02, -8.2333e-02,  1.0625e-01],\n",
              "                        [-6.2202e-02,  7.5905e-02, -8.5507e-02],\n",
              "                        [-8.9689e-02,  1.2199e-02,  1.1454e-02]],\n",
              "              \n",
              "                       [[ 2.5206e-01,  4.4385e-01, -2.7357e-01],\n",
              "                        [-2.2814e-01, -2.3717e-02, -2.6913e-01],\n",
              "                        [ 6.9773e-02, -3.8034e-01, -3.5567e-01]],\n",
              "              \n",
              "                       [[ 2.4216e-01, -8.7276e-02, -1.9150e-01],\n",
              "                        [-1.1796e-01,  2.1659e-01, -3.6898e-02],\n",
              "                        [-3.6039e-01, -8.1821e-02,  3.5383e-01]],\n",
              "              \n",
              "                       [[-1.1725e-01, -2.2611e-01,  2.3001e-01],\n",
              "                        [-1.4037e-01, -3.0495e-01, -1.5759e-01],\n",
              "                        [ 3.1960e-01,  1.4423e-01, -7.3417e-02]],\n",
              "              \n",
              "                       [[ 1.0056e-01,  7.7180e-02, -1.0786e-02],\n",
              "                        [-3.3489e-02, -4.5287e-02,  6.9432e-02],\n",
              "                        [ 7.2517e-02,  5.2593e-02, -8.3295e-02]]],\n",
              "              \n",
              "              \n",
              "                      [[[-5.3249e-02, -1.2270e-02,  5.9003e-02],\n",
              "                        [ 6.6713e-02, -1.2273e-01, -1.1602e-01],\n",
              "                        [ 9.5692e-02, -9.1502e-02,  1.0513e-01]],\n",
              "              \n",
              "                       [[ 2.1052e-01,  8.3798e-02,  1.8856e-01],\n",
              "                        [-9.2091e-02, -2.1289e-01, -4.8448e-01],\n",
              "                        [-3.3830e-01, -2.5166e-01,  5.5366e-02]],\n",
              "              \n",
              "                       [[-4.0757e-03, -7.0405e-02, -2.3603e-02],\n",
              "                        [-3.0354e-02,  6.8514e-02, -2.8458e-02],\n",
              "                        [-2.8026e-02, -6.0932e-02, -4.3632e-02]],\n",
              "              \n",
              "                       [[ 3.6164e-02,  8.6474e-02,  6.8150e-03],\n",
              "                        [-1.0339e-03,  7.9431e-02,  3.4769e-02],\n",
              "                        [-3.6138e-02, -7.5558e-02, -1.4276e-02]],\n",
              "              \n",
              "                       [[ 9.5874e-02, -1.0573e-02,  1.0331e-01],\n",
              "                        [-1.0762e-02,  7.0643e-02, -1.3525e-01],\n",
              "                        [-1.3829e-01, -7.9722e-02, -1.7671e-01]],\n",
              "              \n",
              "                       [[-3.4669e-02, -2.8573e-02,  4.5989e-02],\n",
              "                        [ 2.2240e-02, -4.8234e-03, -5.3660e-02],\n",
              "                        [ 1.3466e-01, -2.2406e-02,  6.9264e-02]],\n",
              "              \n",
              "                       [[-2.8531e-01, -2.9901e-01,  1.7614e-01],\n",
              "                        [ 1.8973e-01,  2.8198e-01, -2.0417e-01],\n",
              "                        [ 2.4208e-01, -2.7971e-01, -2.9174e-01]],\n",
              "              \n",
              "                       [[-2.6113e-01, -3.8277e-01, -1.4994e-01],\n",
              "                        [-1.7909e-01, -5.0536e-01,  3.1317e-01],\n",
              "                        [ 6.7535e-01,  5.0828e-01, -1.6046e-01]],\n",
              "              \n",
              "                       [[ 1.4440e-01,  3.1515e-01,  1.6074e-01],\n",
              "                        [ 1.6987e-02,  2.7641e-01,  1.2452e-01],\n",
              "                        [-4.4816e-01, -8.3717e-01, -1.1682e-02]],\n",
              "              \n",
              "                       [[ 5.6204e-02, -8.2413e-02,  4.8339e-02],\n",
              "                        [ 4.7868e-02, -1.4705e-02, -3.8657e-02],\n",
              "                        [ 7.9800e-04, -1.0413e-01,  7.3548e-02]]],\n",
              "              \n",
              "              \n",
              "                      [[[ 9.1759e-02, -2.7190e-02,  9.1570e-02],\n",
              "                        [-4.5540e-02,  4.3382e-02, -5.8902e-02],\n",
              "                        [-7.7347e-03,  2.4762e-02,  2.6716e-02]],\n",
              "              \n",
              "                       [[-3.2356e-01, -2.4619e-01, -1.4894e-01],\n",
              "                        [-4.9225e-02,  3.8020e-02, -3.3139e-01],\n",
              "                        [ 2.3783e-01,  1.8848e-01, -1.5464e-01]],\n",
              "              \n",
              "                       [[ 1.2390e-02,  2.3063e-03, -5.8219e-03],\n",
              "                        [ 7.0167e-02,  9.3004e-03,  9.0240e-02],\n",
              "                        [ 8.1018e-02, -6.9071e-02,  4.6595e-03]],\n",
              "              \n",
              "                       [[-8.6334e-02, -9.4635e-02,  1.5923e-02],\n",
              "                        [ 2.1229e-02, -5.7359e-03,  8.8413e-02],\n",
              "                        [-5.2753e-02, -1.7492e-02, -1.5325e-02]],\n",
              "              \n",
              "                       [[ 5.1769e-03, -1.5205e-02,  6.1927e-02],\n",
              "                        [-4.4896e-02, -6.1387e-02, -2.7485e-02],\n",
              "                        [ 7.8082e-02,  2.3560e-02,  2.2756e-02]],\n",
              "              \n",
              "                       [[ 8.8787e-03,  6.2254e-02,  2.8142e-02],\n",
              "                        [ 5.7907e-02, -3.3039e-02, -1.2942e-01],\n",
              "                        [-4.8876e-02,  3.9419e-02,  4.2522e-02]],\n",
              "              \n",
              "                       [[-1.7571e-01, -1.1087e-01, -5.4497e-02],\n",
              "                        [-2.0357e-01, -1.6610e-01,  2.2803e-03],\n",
              "                        [ 1.6101e-02, -7.1527e-02, -4.2025e-02]],\n",
              "              \n",
              "                       [[-1.0829e-01, -8.0743e-02, -1.4474e-02],\n",
              "                        [ 2.8288e-01,  3.7420e-01,  1.4062e-01],\n",
              "                        [-1.8457e-01,  1.8513e-01, -3.1374e-01]],\n",
              "              \n",
              "                       [[-1.2965e-01, -7.0761e-02, -1.9415e-01],\n",
              "                        [-4.5666e-02, -1.4591e-01, -9.7477e-02],\n",
              "                        [-6.1672e-02, -2.0457e-01, -1.4254e-01]],\n",
              "              \n",
              "                       [[-1.5509e-02,  6.1712e-02,  1.0033e-01],\n",
              "                        [-6.7798e-02, -9.0066e-02,  5.1366e-02],\n",
              "                        [-1.8289e-02, -4.0892e-02,  4.6169e-02]]],\n",
              "              \n",
              "              \n",
              "                      [[[-2.3195e-01, -1.2743e-01,  3.9824e-02],\n",
              "                        [ 9.2245e-02, -8.2915e-02, -8.2999e-02],\n",
              "                        [-6.4579e-02, -1.8274e-02, -1.4542e-02]],\n",
              "              \n",
              "                       [[-4.5830e-02, -5.1047e-01, -5.0113e-02],\n",
              "                        [ 1.7012e-01, -2.3885e-01, -2.7597e-01],\n",
              "                        [-1.3806e-01, -1.8999e-01, -4.4143e-01]],\n",
              "              \n",
              "                       [[-4.5874e-03, -4.0881e-02, -8.2113e-02],\n",
              "                        [-4.2100e-02, -1.1080e-01, -6.0552e-02],\n",
              "                        [-1.5381e-02, -1.0433e-01, -9.0383e-02]],\n",
              "              \n",
              "                       [[ 3.4027e-02,  2.6892e-02, -4.6895e-02],\n",
              "                        [-1.0894e-01,  8.4528e-02, -9.4017e-02],\n",
              "                        [-1.4573e-01, -6.6992e-02, -2.1552e-02]],\n",
              "              \n",
              "                       [[ 9.8526e-02, -1.6428e-01,  1.6098e-01],\n",
              "                        [ 1.0182e-01,  1.8702e-01, -3.1502e-02],\n",
              "                        [ 8.2050e-02,  7.4795e-02, -7.8475e-02]],\n",
              "              \n",
              "                       [[ 8.4064e-02, -1.0301e-01,  5.3147e-02],\n",
              "                        [-8.6497e-02, -2.8987e-02,  1.3063e-01],\n",
              "                        [ 1.9945e-01, -3.9381e-02, -2.1903e-02]],\n",
              "              \n",
              "                       [[-3.9888e-02, -4.3833e-01,  1.0805e-01],\n",
              "                        [-2.0773e-01, -3.9809e-01, -3.0056e-01],\n",
              "                        [-9.1403e-02,  3.2216e-01, -1.3107e-01]],\n",
              "              \n",
              "                       [[ 3.0228e-03, -3.8842e-01, -1.2994e-01],\n",
              "                        [-1.1085e-01, -5.2257e-01,  1.3464e-01],\n",
              "                        [ 4.6131e-01, -1.2641e-01,  6.7806e-02]],\n",
              "              \n",
              "                       [[ 3.1617e-02,  1.0482e-01,  3.4925e-01],\n",
              "                        [ 1.0197e-01,  4.5175e-01,  2.3814e-01],\n",
              "                        [-1.4142e-01,  7.0227e-02,  3.1118e-01]],\n",
              "              \n",
              "                       [[ 8.2831e-02,  7.7424e-02, -9.5424e-02],\n",
              "                        [-1.3917e-02, -1.0255e-01,  1.8453e-02],\n",
              "                        [-1.0011e-01, -2.2921e-02, -4.3749e-02]]],\n",
              "              \n",
              "              \n",
              "                      [[[ 2.6349e-02,  2.6943e-02, -4.8002e-02],\n",
              "                        [ 3.5106e-02,  3.9139e-02, -9.5560e-02],\n",
              "                        [ 9.6759e-02,  6.5976e-02,  5.6169e-02]],\n",
              "              \n",
              "                       [[-3.0303e-01, -1.3213e-01, -4.8210e-02],\n",
              "                        [-4.7907e-01, -1.1243e-01, -1.1146e-02],\n",
              "                        [-2.3660e-02,  2.5406e-01,  1.5175e-01]],\n",
              "              \n",
              "                       [[-6.0932e-02,  6.9916e-02,  6.8145e-02],\n",
              "                        [ 2.1554e-02,  7.7581e-02,  3.0820e-02],\n",
              "                        [ 5.1773e-02, -6.8376e-02,  7.2155e-02]],\n",
              "              \n",
              "                       [[ 8.2229e-04,  6.7845e-02, -2.5578e-02],\n",
              "                        [ 4.4606e-02,  9.4392e-02, -8.2916e-02],\n",
              "                        [ 8.2807e-02, -5.5653e-02, -6.1712e-02]],\n",
              "              \n",
              "                       [[-8.4219e-02,  1.6583e-02, -9.4016e-02],\n",
              "                        [-6.5399e-02, -5.4421e-02,  2.6722e-02],\n",
              "                        [-1.5060e-01, -5.9618e-02, -3.8009e-03]],\n",
              "              \n",
              "                       [[-1.3768e-02, -6.9050e-02,  7.3799e-02],\n",
              "                        [-1.0322e-01, -1.4811e-01, -1.6703e-02],\n",
              "                        [-9.2332e-02,  2.7108e-03, -1.0024e-01]],\n",
              "              \n",
              "                       [[-6.6113e-03, -1.1126e-01, -3.3732e-01],\n",
              "                        [-6.9291e-02, -2.0588e-01, -3.4193e-01],\n",
              "                        [-1.3328e-01, -1.1652e-01, -1.9825e-01]],\n",
              "              \n",
              "                       [[-8.2106e-02,  1.6070e-01,  1.0745e-02],\n",
              "                        [ 3.1503e-01,  1.5453e-01, -4.9474e-02],\n",
              "                        [ 1.6996e-01,  1.7761e-01,  1.9903e-01]],\n",
              "              \n",
              "                       [[ 3.6841e-01, -5.0432e-02, -2.9262e-01],\n",
              "                        [-2.1401e-01, -8.6368e-02, -1.4723e-01],\n",
              "                        [-1.7014e-01, -2.4341e-01, -8.3571e-02]],\n",
              "              \n",
              "                       [[-6.3799e-02, -7.7040e-02, -1.9205e-03],\n",
              "                        [-7.6219e-02, -6.3636e-02,  6.6675e-02],\n",
              "                        [-5.0007e-02, -4.9496e-02,  7.7638e-02]]]])),\n",
              "             ('conv_block_2.2.bias',\n",
              "              tensor([ 0.1479, -0.2582,  0.1936,  0.0367, -0.0382,  0.1935,  0.0973, -0.1457,\n",
              "                      -0.0426, -0.0296])),\n",
              "             ('classifier.1.weight',\n",
              "              tensor([[-1.3895e-02, -1.2562e-01,  2.1054e-01,  ...,  6.7879e-02,\n",
              "                       -2.6453e-03,  2.0961e-03],\n",
              "                      [ 6.5007e-03,  1.2481e-01,  6.8042e-02,  ..., -1.8667e-04,\n",
              "                        3.3996e-02,  3.0605e-02],\n",
              "                      [-2.9983e-02,  1.5279e-01,  6.4120e-03,  ...,  3.1324e-02,\n",
              "                       -1.2899e-02,  5.7655e-03],\n",
              "                      ...,\n",
              "                      [-5.6028e-02, -8.5114e-02, -9.7864e-02,  ...,  1.8866e-02,\n",
              "                        8.5906e-03, -6.9266e-03],\n",
              "                      [ 1.0980e-01,  2.7815e-01,  1.2314e-02,  ..., -9.4244e-03,\n",
              "                        3.9083e-02, -2.9655e-02],\n",
              "                      [-4.9770e-02, -1.0583e-01, -7.5668e-02,  ..., -2.1097e-02,\n",
              "                       -4.8437e-02,  6.6100e-03]])),\n",
              "             ('classifier.1.bias',\n",
              "              tensor([ 0.0432, -0.1651,  0.4208, -0.0247, -0.4012, -0.1566,  0.1810, -0.0102,\n",
              "                       0.1918, -0.1159]))])"
            ]
          },
          "metadata": {},
          "execution_count": 67
        }
      ],
      "source": [
        "# create new instance\n",
        "loaded_model = FashionMNISTModelV2(1,10,10)\n",
        "\n",
        "# loading parameters from saved model\n",
        "loaded_model.load_state_dict(torch.load(f=MODEL_SAVE_PATH))\n",
        "\n",
        "loaded_model.state_dict()"
      ]
    },
    {
      "cell_type": "code",
      "execution_count": 68,
      "metadata": {
        "colab": {
          "base_uri": "https://localhost:8080/",
          "height": 49,
          "referenced_widgets": [
            "ccc5927f899847469a0162358e3eecc8",
            "eab485a77a114ba9a2e676e2124dc8ef",
            "b25f6f2678df47bebbfb09d5e3603b5e",
            "1108d9c65fab4622bde910e1de5bcb81",
            "f88d665edef644c2bec47cbda0b9f38b",
            "509e8bc38432447c984556ff2b379a87",
            "a9f09c27a6e842818b563c8aa72bd703",
            "564cb8efa3a04a7b97e2c905803846b2",
            "902d58099aa7491da68aa755ef33c1b0",
            "742f5bcd04fa4b2097c613020e65ce7c",
            "539bbe80c24748baaf32e4f897c511aa"
          ]
        },
        "id": "13VeU-wGA2PN",
        "outputId": "0adb76b1-824a-44a9-de93-a16aba50f4b5"
      },
      "outputs": [
        {
          "output_type": "display_data",
          "data": {
            "text/plain": [
              "  0%|          | 0/313 [00:00<?, ?it/s]"
            ],
            "application/vnd.jupyter.widget-view+json": {
              "version_major": 2,
              "version_minor": 0,
              "model_id": "ccc5927f899847469a0162358e3eecc8"
            }
          },
          "metadata": {}
        }
      ],
      "source": [
        "# evaluate the loaded model\n",
        "loaded_model_results = eval_model(model=loaded_model,\n",
        "           loss=loss_fn,\n",
        "           accuracy_fn=accuracy_fn,\n",
        "           dataloader=test_dataloader)"
      ]
    },
    {
      "cell_type": "code",
      "execution_count": 69,
      "metadata": {
        "colab": {
          "base_uri": "https://localhost:8080/"
        },
        "id": "PWwOg7xeA2W8",
        "outputId": "24204491-edbf-40a2-945d-3c00db7f03f1"
      },
      "outputs": [
        {
          "output_type": "execute_result",
          "data": {
            "text/plain": [
              "{'model_name': 'FashionMNISTModelV2',\n",
              " 'model_loss': 0.322807252407074,\n",
              " 'model_acc': 88.20886581469648}"
            ]
          },
          "metadata": {},
          "execution_count": 69
        }
      ],
      "source": [
        "loaded_model_results"
      ]
    },
    {
      "cell_type": "markdown",
      "metadata": {
        "id": "ZSZbH436K9QB"
      },
      "source": [
        "# check if model results are close to each other"
      ]
    },
    {
      "cell_type": "code",
      "execution_count": 70,
      "metadata": {
        "colab": {
          "base_uri": "https://localhost:8080/"
        },
        "id": "wL2qPnMwA2et",
        "outputId": "7afa1499-60bb-40f6-c7b8-84e0e6429653"
      },
      "outputs": [
        {
          "output_type": "execute_result",
          "data": {
            "text/plain": [
              "tensor(True)"
            ]
          },
          "metadata": {},
          "execution_count": 70
        }
      ],
      "source": [
        "torch.isclose(torch.tensor(model_2_result[\"model_loss\"]),\n",
        "              torch.tensor(loaded_model_results[\"model_loss\"]),\n",
        "              atol=1e-02)"
      ]
    },
    {
      "cell_type": "markdown",
      "metadata": {
        "id": "VL-Vg5VUKDsJ"
      },
      "source": [
        "# EXCERCISES"
      ]
    },
    {
      "cell_type": "markdown",
      "metadata": {
        "id": "6qYSbLoiKCXJ"
      },
      "source": [
        "# areas where computer vision used\n",
        " 1. healthcare ( it analayze xrays , mri and ct scan to detect disease like tumors , cancer )\n",
        " 2. visual search eg google lens where user can upload image and search\n",
        " 3. fasial recognition"
      ]
    },
    {
      "cell_type": "markdown",
      "metadata": {
        "id": "oxNYddSbKCmz"
      },
      "source": [
        "# overfiting in ML\n",
        "means if model learns excessive than requirement then it start learning noise which lead poor performance while testing or on new data"
      ]
    },
    {
      "cell_type": "markdown",
      "metadata": {
        "id": "-O6smxBGgW0V"
      },
      "source": [
        "it can be due to\n",
        "1. simple data but complex model\n",
        "2. too much training time on same data\n",
        "3. data leakage betn training and testing data , etc"
      ]
    },
    {
      "cell_type": "markdown",
      "metadata": {
        "id": "ZiDAPc3KKCuj"
      },
      "source": [
        "**ways to detect overfiting is below**"
      ]
    },
    {
      "cell_type": "markdown",
      "metadata": {
        "id": "ls14D5iCKCe-"
      },
      "source": [
        "# K fold cross validation\n",
        "1. **Divide the Data**: The entire dataset is randomly divided into 𝑘 equal-sized subsets, or \"folds.\"\n",
        "\n",
        "2.**Training and Testing**:\n",
        "For each iteration (or fold):\n",
        "Use k−1 folds as the training data.\n",
        "Use the remaining fold as the testing (validation) data.\n",
        "3. **Repeat**:\n",
        " This process is repeated k times, each time using a different fold as the testing data.\n",
        "\n",
        "4.**Aggregate Results**:\n",
        " After completing all k folds, you take the average of the performance metrics from all the testing phases. This average gives you a more robust estimate of the model's performance on unseen data."
      ]
    },
    {
      "cell_type": "markdown",
      "metadata": {
        "id": "5bqeT5b-gyFM"
      },
      "source": [
        "how can we prevent\n",
        "1. using early stopping lib where it pauses the model early before it start learning noise\n",
        "2. features selection or pruning :- it keeps imp features and eliminate the less imp or unwanted features\n",
        "3. regularization :- this simply give less penalty to imp features and more penalty to less imp features , etc"
      ]
    },
    {
      "cell_type": "code",
      "execution_count": 71,
      "metadata": {
        "colab": {
          "base_uri": "https://localhost:8080/"
        },
        "id": "M8Bd9TWlicx-",
        "outputId": "feb894f2-c653-4f20-bc69-a3ba949d5362"
      },
      "outputs": [
        {
          "output_type": "stream",
          "name": "stderr",
          "text": [
            "100%|██████████| 26.4M/26.4M [00:02<00:00, 12.0MB/s]\n",
            "100%|██████████| 29.5k/29.5k [00:00<00:00, 199kB/s]\n",
            "100%|██████████| 4.42M/4.42M [00:01<00:00, 3.72MB/s]\n",
            "100%|██████████| 5.15k/5.15k [00:00<00:00, 25.7MB/s]\n"
          ]
        }
      ],
      "source": [
        "from torchvision.datasets import FashionMNIST\n",
        "from torchvision.transforms import ToTensor\n",
        "from torch.utils.data import DataLoader\n",
        "train_data = FashionMNIST(root=\"datas\" , train=True,\n",
        "                          transform=ToTensor(),\n",
        "                          target_transform=None,\n",
        "                          download=True)\n",
        "test_data = FashionMNIST(root=\"datas\" , train=False,\n",
        "                          transform=ToTensor(),\n",
        "                          target_transform=None,\n",
        "                          download=True)\n"
      ]
    },
    {
      "cell_type": "code",
      "execution_count": 72,
      "metadata": {
        "colab": {
          "base_uri": "https://localhost:8080/"
        },
        "id": "SfUc9qgeic-W",
        "outputId": "05bf64d1-eb82-4c09-c035-d6fb8b625d44"
      },
      "outputs": [
        {
          "output_type": "execute_result",
          "data": {
            "text/plain": [
              "(60000, 10000)"
            ]
          },
          "metadata": {},
          "execution_count": 72
        }
      ],
      "source": [
        "len(train_data),len(test_data)"
      ]
    },
    {
      "cell_type": "code",
      "execution_count": 73,
      "metadata": {
        "colab": {
          "base_uri": "https://localhost:8080/",
          "height": 663
        },
        "id": "tsQ5LxSvidJ6",
        "outputId": "6751d188-e547-4105-91cd-5b3c86ac9a26"
      },
      "outputs": [
        {
          "output_type": "display_data",
          "data": {
            "text/plain": [
              "<Figure size 900x900 with 9 Axes>"
            ],
            "image/png": "[encoded data removed]"
          },
          "metadata": {}
        }
      ],
      "source": [
        "torch.manual_seed(42)\n",
        "plt.figure(figsize=(9,9))\n",
        "nrows , ncolumns = 3,3\n",
        "for i in range(1,nrows*ncolumns+1):\n",
        "  image , label = train_data[i]\n",
        "  plt.subplot(nrows,ncolumns,i)\n",
        "  plt.imshow(image.squeeze(),cmap=\"gray\")\n",
        "  plt.title(class_names[label])\n",
        "  plt.axis(False)"
      ]
    },
    {
      "cell_type": "code",
      "execution_count": 74,
      "metadata": {
        "colab": {
          "base_uri": "https://localhost:8080/"
        },
        "id": "4QOEv1YoidVm",
        "outputId": "2c941035-49fe-4147-f1e3-b8b05d67e131"
      },
      "outputs": [
        {
          "output_type": "stream",
          "name": "stdout",
          "text": [
            "torch.Size([32, 1, 28, 28])\n",
            "torch.Size([32])\n"
          ]
        }
      ],
      "source": [
        "train_loaders = DataLoader(dataset=train_data,\n",
        "                           batch_size=32,\n",
        "                           shuffle=True)\n",
        "test_loaders = DataLoader(dataset=test_data,\n",
        "                           batch_size=32,\n",
        "                           shuffle=False)\n",
        "len(train_loaders),len(test_loaders)\n",
        "for image , label in train_loaders:\n",
        "  print(image.shape)\n",
        "  print(label.shape)\n",
        "  break"
      ]
    },
    {
      "cell_type": "code",
      "execution_count": 75,
      "metadata": {
        "id": "V2pSpo-Gidfw",
        "colab": {
          "base_uri": "https://localhost:8080/"
        },
        "outputId": "2cca2e1d-3ea6-48d8-810c-afd70a04319d"
      },
      "outputs": [
        {
          "output_type": "execute_result",
          "data": {
            "text/plain": [
              "FashionMNISTModelV3(\n",
              "  (conv_block_1): Sequential(\n",
              "    (0): Conv2d(1, 10, kernel_size=(3, 3), stride=(1, 1))\n",
              "    (1): ReLU()\n",
              "    (2): Conv2d(10, 10, kernel_size=(3, 3), stride=(1, 1))\n",
              "    (3): ReLU()\n",
              "    (4): MaxPool2d(kernel_size=2, stride=2, padding=0, dilation=1, ceil_mode=False)\n",
              "  )\n",
              "  (conv_block_2): Sequential(\n",
              "    (0): Conv2d(10, 10, kernel_size=(3, 3), stride=(1, 1))\n",
              "    (1): ReLU()\n",
              "    (2): Conv2d(10, 10, kernel_size=(3, 3), stride=(1, 1))\n",
              "    (3): ReLU()\n",
              "    (4): MaxPool2d(kernel_size=2, stride=2, padding=0, dilation=1, ceil_mode=False)\n",
              "  )\n",
              "  (classifier): Sequential(\n",
              "    (0): Flatten(start_dim=1, end_dim=-1)\n",
              "    (1): Linear(in_features=160, out_features=10, bias=True)\n",
              "  )\n",
              ")"
            ]
          },
          "metadata": {},
          "execution_count": 75
        }
      ],
      "source": [
        "class FashionMNISTModelV3(nn.Module):\n",
        "  def __init__(self,\n",
        "               input_features:int,\n",
        "               output_features:int,\n",
        "               hidden_units:int):\n",
        "    super().__init__()\n",
        "    self.conv_block_1 = nn.Sequential(\n",
        "        nn.Conv2d(in_channels=input_features,\n",
        "                  out_channels=hidden_units,\n",
        "                  kernel_size=3,\n",
        "                  stride=1,\n",
        "                  padding=0),\n",
        "        nn.ReLU(),\n",
        "        nn.Conv2d(in_channels=hidden_units,\n",
        "                  out_channels=hidden_units,\n",
        "                  kernel_size=3,\n",
        "                  stride=1,\n",
        "                  padding=0),\n",
        "        nn.ReLU(),\n",
        "        nn.MaxPool2d(kernel_size=2)\n",
        "      )\n",
        "    self.conv_block_2 = nn.Sequential(\n",
        "        nn.Conv2d(in_channels=hidden_units,\n",
        "                  out_channels=hidden_units,\n",
        "                  kernel_size=3,\n",
        "                  stride=1,\n",
        "                  padding=0),\n",
        "        nn.ReLU(),\n",
        "        nn.Conv2d(in_channels=hidden_units,\n",
        "                  out_channels=hidden_units,\n",
        "                  kernel_size=3,\n",
        "                  stride=1,\n",
        "                  padding=0),\n",
        "        nn.ReLU(),\n",
        "        nn.MaxPool2d(kernel_size=2)\n",
        "      )\n",
        "    self.classifier = nn.Sequential(\n",
        "        nn.Flatten(),\n",
        "        nn.Linear(in_features=hidden_units*4*4,\n",
        "                  out_features=output_features)\n",
        "      )\n",
        "  def forward(self,x):\n",
        "    z = self.conv_block_1(x)\n",
        "    z = self.conv_block_2(z)\n",
        "    z = self.classifier(z)\n",
        "    return z\n",
        "model_3 = FashionMNISTModelV3(input_features=1,\n",
        "                              output_features=10,\n",
        "                              hidden_units=10)\n",
        "model_3\n"
      ]
    },
    {
      "cell_type": "code",
      "execution_count": 76,
      "metadata": {
        "colab": {
          "base_uri": "https://localhost:8080/"
        },
        "id": "5LlRj7Tlidq9",
        "outputId": "97addd94-60c1-429c-83a4-eca7fb7cc7d7"
      },
      "outputs": [
        {
          "output_type": "stream",
          "name": "stdout",
          "text": [
            "torch.Size([32, 1, 28, 28])\n"
          ]
        }
      ],
      "source": [
        "for img , labels in train_loaders:\n",
        "  print(img.shape)\n",
        "  break\n"
      ]
    },
    {
      "cell_type": "code",
      "execution_count": 77,
      "metadata": {
        "id": "KWPBPyHFid57"
      },
      "outputs": [],
      "source": [
        "# torch.manual_seed(42)\n",
        "# X_dumy = torch.rand(size=(32,1,28,28))\n",
        "# model_3 = FashionMNISTModelV3(input_features=1,\n",
        "#                               output_features=10,\n",
        "#                               hidden_units=10)\n",
        "# model_3_results = model_3(X_dumy)\n",
        "# model_3_results[0]"
      ]
    },
    {
      "cell_type": "code",
      "execution_count": 78,
      "metadata": {
        "id": "oM8syukHsfKH"
      },
      "outputs": [],
      "source": [
        "loss_fn = nn.CrossEntropyLoss()\n",
        "optimizer = torch.optim.SGD(params=model_3.parameters(),lr=0.1)"
      ]
    },
    {
      "cell_type": "code",
      "execution_count": 79,
      "metadata": {
        "colab": {
          "base_uri": "https://localhost:8080/",
          "height": 424,
          "referenced_widgets": [
            "fcabb539d34e40b7b5bba38138f507e0",
            "ca439f952aac4e60b5b4a1652d6223ba",
            "7c7a808662af4c3b8a0c666bfcaadc1e",
            "27516b04cbc244a890bbb46dd88bf8ac",
            "724d8df4c15342cc825bd4f0e3602f67",
            "4e3d3c56bac54ca3aff9a5f1120eea51",
            "54f2960ed7064e3f8167b22ab48678f5",
            "0723419027514d6d956da5811400873f",
            "b6a84d5c9d9045c5a5871e0be50e8a28",
            "2c83b0fc2e504635892ac1c8333ea608",
            "acc429fc84804f949059385d7d78cca5"
          ]
        },
        "id": "Xb0q51NQq8Bz",
        "outputId": "39742aaa-075d-482b-aef0-45182dd3e0f7"
      },
      "outputs": [
        {
          "output_type": "display_data",
          "data": {
            "text/plain": [
              "  0%|          | 0/5 [00:00<?, ?it/s]"
            ],
            "application/vnd.jupyter.widget-view+json": {
              "version_major": 2,
              "version_minor": 0,
              "model_id": "fcabb539d34e40b7b5bba38138f507e0"
            }
          },
          "metadata": {}
        },
        {
          "output_type": "stream",
          "name": "stdout",
          "text": [
            "Epoch: 0\n",
            "---------\n",
            "train loss:  0.8021 | train acc:  70.31%\n",
            "test loss: 0.5112 | test acc: 82.04%\n",
            "Epoch: 1\n",
            "---------\n",
            "train loss:  0.4569 | train acc:  83.47%\n",
            "test loss: 0.4142 | test acc: 85.31%\n",
            "Epoch: 2\n",
            "---------\n",
            "train loss:  0.3913 | train acc:  86.06%\n",
            "test loss: 0.3814 | test acc: 86.52%\n",
            "Epoch: 3\n",
            "---------\n",
            "train loss:  0.3590 | train acc:  87.19%\n",
            "test loss: 0.3381 | test acc: 88.02%\n",
            "Epoch: 4\n",
            "---------\n",
            "train loss:  0.3392 | train acc:  87.80%\n",
            "test loss: 0.3391 | test acc: 87.99%\n",
            "Train time:  142.752\n"
          ]
        }
      ],
      "source": [
        "from timeit import default_timer as timer\n",
        "from tqdm.auto import tqdm\n",
        "torch.manual_seed(42)\n",
        "torch.cuda.manual_seed(42) # only when we working on cuda device\n",
        "start_time = timer()\n",
        "epochs = 5\n",
        "for epoch in tqdm(range(epochs)):\n",
        "  print(f\"Epoch: {epoch}\\n---------\")\n",
        "  train_loss ,train_acc = 0,0\n",
        "  model_3.train()\n",
        "  for img,label in train_loaders:\n",
        "    y_pred = model_3(img)\n",
        "    loss = loss_fn(y_pred,label)\n",
        "    acc = accuracy_fn(label,y_pred.argmax(dim=1))\n",
        "    train_loss += loss\n",
        "    train_acc += acc\n",
        "    optimizer.zero_grad()\n",
        "    loss.backward()\n",
        "    optimizer.step()\n",
        "  train_loss /= len(train_loaders)\n",
        "  train_acc /= len(train_loaders)\n",
        "  print(f\"train loss: {train_loss: .4f} | train acc: {train_acc: .2f}%\")\n",
        "  model_3.eval()\n",
        "  test_loss , test_acc = 0,0\n",
        "  with torch.inference_mode():\n",
        "    for image , label in test_loaders:\n",
        "      y_pred = model_3(image)\n",
        "      loss = loss_fn(y_pred,label)\n",
        "      acc = accuracy_fn(label,y_pred.argmax(dim=1))\n",
        "      test_loss += loss\n",
        "      test_acc += acc\n",
        "    test_loss /= len(test_loaders)\n",
        "    test_acc /= len(test_loaders)\n",
        "    print(f\"test loss: {test_loss:.4f} | test acc: {test_acc:.2f}%\")\n",
        "end_time = timer()\n",
        "total_time = print_train_time(start=start_time,end=end_time)\n"
      ]
    },
    {
      "cell_type": "code",
      "source": [
        "model_3_results = eval_model(model=model_3,\n",
        "                             loss=loss_fn,\n",
        "                             accuracy_fn=accuracy_fn,\n",
        "                             dataloader=test_loaders)\n",
        "model_3_results , model_2_result"
      ],
      "metadata": {
        "colab": {
          "base_uri": "https://localhost:8080/",
          "height": 156,
          "referenced_widgets": [
            "0ce3b0c8134e4f199cd24f77bee2644d",
            "4a45d8011ce54758963faf3414be4706",
            "3d4fe976204040bf8d423d7a2e6414fa",
            "a2b13b67cec54caba1a8f5724a619af6",
            "8f36b73d8fbc4830982ae21c628af8c5",
            "65bbe7b0f0f04257a7d167cf476bf2cd",
            "49c63ccbb32b41f986ea9360d3d9bb90",
            "3bc374e6f0b94678b0144fa93d450a5a",
            "3faaafa196ee43cbb4a5ab0e9bda009c",
            "99f1d8b6554e4c92aa1018daa5f55209",
            "f0df50c62e0647b68fc91c7319e67f3a"
          ]
        },
        "id": "dqLNfSgeQ3jH",
        "outputId": "08997396-774b-4503-9613-df98ebd8e156"
      },
      "execution_count": 80,
      "outputs": [
        {
          "output_type": "display_data",
          "data": {
            "text/plain": [
              "  0%|          | 0/313 [00:00<?, ?it/s]"
            ],
            "application/vnd.jupyter.widget-view+json": {
              "version_major": 2,
              "version_minor": 0,
              "model_id": "0ce3b0c8134e4f199cd24f77bee2644d"
            }
          },
          "metadata": {}
        },
        {
          "output_type": "execute_result",
          "data": {
            "text/plain": [
              "({'model_name': 'FashionMNISTModelV3',\n",
              "  'model_loss': 0.33914437890052795,\n",
              "  'model_acc': 87.98921725239616},\n",
              " {'model_name': 'FashionMNISTModelV2',\n",
              "  'model_loss': 0.322807252407074,\n",
              "  'model_acc': 88.20886581469648})"
            ]
          },
          "metadata": {},
          "execution_count": 80
        }
      ]
    },
    {
      "cell_type": "markdown",
      "source": [
        "for confusion matirx\n",
        "1. make predictions with trained model\n",
        "2. set a confusion matrix ( `torchmetrics.ConfusionMatrix` )\n",
        "3. plot a connfusion matrix ( `mlxtend.plotting.plot_confusion_matrix`)"
      ],
      "metadata": {
        "id": "1tUT92cKRr0J"
      }
    },
    {
      "cell_type": "code",
      "source": [
        "class_names = test_data.classes\n",
        "class_names"
      ],
      "metadata": {
        "colab": {
          "base_uri": "https://localhost:8080/"
        },
        "id": "ODjce-H2WNqw",
        "outputId": "c4810d35-82ed-4ee8-ad5e-f33a1e86cc60"
      },
      "execution_count": 81,
      "outputs": [
        {
          "output_type": "execute_result",
          "data": {
            "text/plain": [
              "['T-shirt/top',\n",
              " 'Trouser',\n",
              " 'Pullover',\n",
              " 'Dress',\n",
              " 'Coat',\n",
              " 'Sandal',\n",
              " 'Shirt',\n",
              " 'Sneaker',\n",
              " 'Bag',\n",
              " 'Ankle boot']"
            ]
          },
          "metadata": {},
          "execution_count": 81
        }
      ]
    },
    {
      "cell_type": "code",
      "source": [
        "# 1. making predictions\n",
        "y_preds =[]\n",
        "torch.manual_seed(42)\n",
        "model_3.eval()\n",
        "with torch.inference_mode():\n",
        "  for img,label in tqdm(test_loaders,desc=\"making predictions...\"):\n",
        "    y_pred = model_3(img)\n",
        "    y_logist = y_pred.argmax(dim=1)\n",
        "    y_preds.append(y_logist)\n",
        "  y_preds_tensor = torch.cat(y_preds)\n"
      ],
      "metadata": {
        "id": "PYeFmh0hUJSh",
        "colab": {
          "base_uri": "https://localhost:8080/",
          "height": 49,
          "referenced_widgets": [
            "86c69e5381354ddcb1997445eff3f822",
            "728414fa66c940a59f9075cb3cfc887c",
            "9909e9dad9c14c8297b9380c1f423b79",
            "fcb602a9c9b74677808c5bf0620e417f",
            "39230497d9564bc18f38966ef6fc07b1",
            "e5d72b8e8405434bbdb5ae0a621c6b04",
            "71dbb8f04a434d4c8d0cd646f6836701",
            "2685a019de0d4c9f94cabd7a95e329e5",
            "d1856a9b83e14cffa9ddea1ebfb8d069",
            "fd902489ed5440eb8e81c483d9d9c597",
            "4075f440b9d94b6597e95a5ab06ad2eb"
          ]
        },
        "outputId": "2b46414f-da74-4cfc-f9f3-bf686eb1a325"
      },
      "execution_count": 82,
      "outputs": [
        {
          "output_type": "display_data",
          "data": {
            "text/plain": [
              "making predictions...:   0%|          | 0/313 [00:00<?, ?it/s]"
            ],
            "application/vnd.jupyter.widget-view+json": {
              "version_major": 2,
              "version_minor": 0,
              "model_id": "86c69e5381354ddcb1997445eff3f822"
            }
          },
          "metadata": {}
        }
      ]
    },
    {
      "cell_type": "code",
      "source": [
        "from torchmetrics import ConfusionMatrix\n",
        "from mlxtend.plotting import plot_confusion_matrix\n",
        "\n",
        "# 2. setting up confusion matrix\n",
        "confmat  = ConfusionMatrix(num_classes=len(class_names),\n",
        "                           task=\"multiclass\")\n",
        "confmat_tensor = confmat(preds=y_preds_tensor,\n",
        "                         target=test_data.targets)"
      ],
      "metadata": {
        "id": "A8sVxg3LUJza"
      },
      "execution_count": 83,
      "outputs": []
    },
    {
      "cell_type": "code",
      "source": [
        "# 3. plotting confusion matirx\n",
        "fig , ax = plot_confusion_matrix(conf_mat=confmat_tensor.numpy(),\n",
        "                                 figsize=(10,7),\n",
        "                                 class_names=class_names)"
      ],
      "metadata": {
        "colab": {
          "base_uri": "https://localhost:8080/",
          "height": 635
        },
        "id": "Ijv6lg6FUJ73",
        "outputId": "1830f8ff-b3bf-45be-f3e4-23b9fe4330d6"
      },
      "execution_count": 84,
      "outputs": [
        {
          "output_type": "display_data",
          "data": {
            "text/plain": [
              "<Figure size 1000x700 with 1 Axes>"
            ],
            "image/png": "[encoded data removed]"
          },
          "metadata": {}
        }
      ]
    },
    {
      "cell_type": "code",
      "source": [
        "x = torch.rand(size=(1,3,64,64))\n",
        "conv_layer = nn.Conv2d(3,10,3,1,0)\n",
        "conv_layer(x).shape"
      ],
      "metadata": {
        "colab": {
          "base_uri": "https://localhost:8080/"
        },
        "id": "-YAm0POdUKPZ",
        "outputId": "e832cdd6-aca7-48c1-e7b6-081f1913b257"
      },
      "execution_count": 85,
      "outputs": [
        {
          "output_type": "execute_result",
          "data": {
            "text/plain": [
              "torch.Size([1, 10, 62, 62])"
            ]
          },
          "metadata": {},
          "execution_count": 85
        }
      ]
    }
  ],
  "metadata": {
    "colab": {
      "provenance": [],
      "gpuType": "T4",
      "authorship_tag": "ABX9TyPcfPzb+5Qpt92NMK7hfO31",
      "include_colab_link": true
    },
    "kernelspec": {
      "display_name": "Python 3",
      "name": "python3"
    },
    "language_info": {
      "name": "python"
    },
    "widgets": {
      "application/vnd.jupyter.widget-state+json": {
        "0072a11a866a4845a0833f693d86aac8": {
          "model_module": "@jupyter-widgets/controls",
          "model_name": "HBoxModel",
          "model_module_version": "1.5.0",
          "state": {
            "_dom_classes": [],
            "_model_module": "@jupyter-widgets/controls",
            "_model_module_version": "1.5.0",
            "_model_name": "HBoxModel",
            "_view_count": null,
            "_view_module": "@jupyter-widgets/controls",
            "_view_module_version": "1.5.0",
            "_view_name": "HBoxView",
            "box_style": "",
            "children": [
              "IPY_MODEL_bafcbfb2fa6047f0a459db787946c7a1",
              "IPY_MODEL_942a4711eea14248b76c7a26f607bfc4",
              "IPY_MODEL_52851d91aeb24c60a7397db6f95c139f"
            ],
            "layout": "IPY_MODEL_8fd8b463a37144fe8abe407ded5614aa"
          }
        },
        "bafcbfb2fa6047f0a459db787946c7a1": {
          "model_module": "@jupyter-widgets/controls",
          "model_name": "HTMLModel",
          "model_module_version": "1.5.0",
          "state": {
            "_dom_classes": [],
            "_model_module": "@jupyter-widgets/controls",
            "_model_module_version": "1.5.0",
            "_model_name": "HTMLModel",
            "_view_count": null,
            "_view_module": "@jupyter-widgets/controls",
            "_view_module_version": "1.5.0",
            "_view_name": "HTMLView",
            "description": "",
            "description_tooltip": null,
            "layout": "IPY_MODEL_d8472d5451034a809334ff2362d495a4",
            "placeholder": "​",
            "style": "IPY_MODEL_3d234b157d9e4b3d80c35e307e5c6a57",
            "value": "100%"
          }
        },
        "942a4711eea14248b76c7a26f607bfc4": {
          "model_module": "@jupyter-widgets/controls",
          "model_name": "FloatProgressModel",
          "model_module_version": "1.5.0",
          "state": {
            "_dom_classes": [],
            "_model_module": "@jupyter-widgets/controls",
            "_model_module_version": "1.5.0",
            "_model_name": "FloatProgressModel",
            "_view_count": null,
            "_view_module": "@jupyter-widgets/controls",
            "_view_module_version": "1.5.0",
            "_view_name": "ProgressView",
            "bar_style": "success",
            "description": "",
            "description_tooltip": null,
            "layout": "IPY_MODEL_7aaf00b494394fdd885565ab142e0d16",
            "max": 3,
            "min": 0,
            "orientation": "horizontal",
            "style": "IPY_MODEL_26313060242045ca896275b215c566c4",
            "value": 3
          }
        },
        "52851d91aeb24c60a7397db6f95c139f": {
          "model_module": "@jupyter-widgets/controls",
          "model_name": "HTMLModel",
          "model_module_version": "1.5.0",
          "state": {
            "_dom_classes": [],
            "_model_module": "@jupyter-widgets/controls",
            "_model_module_version": "1.5.0",
            "_model_name": "HTMLModel",
            "_view_count": null,
            "_view_module": "@jupyter-widgets/controls",
            "_view_module_version": "1.5.0",
            "_view_name": "HTMLView",
            "description": "",
            "description_tooltip": null,
            "layout": "IPY_MODEL_aa8a583f1366416e86c0280458e515f5",
            "placeholder": "​",
            "style": "IPY_MODEL_5394f8da37e34f938b87210400d3397a",
            "value": " 3/3 [00:24&lt;00:00,  8.19s/it]"
          }
        },
        "8fd8b463a37144fe8abe407ded5614aa": {
          "model_module": "@jupyter-widgets/base",
          "model_name": "LayoutModel",
          "model_module_version": "1.2.0",
          "state": {
            "_model_module": "@jupyter-widgets/base",
            "_model_module_version": "1.2.0",
            "_model_name": "LayoutModel",
            "_view_count": null,
            "_view_module": "@jupyter-widgets/base",
            "_view_module_version": "1.2.0",
            "_view_name": "LayoutView",
            "align_content": null,
            "align_items": null,
            "align_self": null,
            "border": null,
            "bottom": null,
            "display": null,
            "flex": null,
            "flex_flow": null,
            "grid_area": null,
            "grid_auto_columns": null,
            "grid_auto_flow": null,
            "grid_auto_rows": null,
            "grid_column": null,
            "grid_gap": null,
            "grid_row": null,
            "grid_template_areas": null,
            "grid_template_columns": null,
            "grid_template_rows": null,
            "height": null,
            "justify_content": null,
            "justify_items": null,
            "left": null,
            "margin": null,
            "max_height": null,
            "max_width": null,
            "min_height": null,
            "min_width": null,
            "object_fit": null,
            "object_position": null,
            "order": null,
            "overflow": null,
            "overflow_x": null,
            "overflow_y": null,
            "padding": null,
            "right": null,
            "top": null,
            "visibility": null,
            "width": null
          }
        },
        "d8472d5451034a809334ff2362d495a4": {
          "model_module": "@jupyter-widgets/base",
          "model_name": "LayoutModel",
          "model_module_version": "1.2.0",
          "state": {
            "_model_module": "@jupyter-widgets/base",
            "_model_module_version": "1.2.0",
            "_model_name": "LayoutModel",
            "_view_count": null,
            "_view_module": "@jupyter-widgets/base",
            "_view_module_version": "1.2.0",
            "_view_name": "LayoutView",
            "align_content": null,
            "align_items": null,
            "align_self": null,
            "border": null,
            "bottom": null,
            "display": null,
            "flex": null,
            "flex_flow": null,
            "grid_area": null,
            "grid_auto_columns": null,
            "grid_auto_flow": null,
            "grid_auto_rows": null,
            "grid_column": null,
            "grid_gap": null,
            "grid_row": null,
            "grid_template_areas": null,
            "grid_template_columns": null,
            "grid_template_rows": null,
            "height": null,
            "justify_content": null,
            "justify_items": null,
            "left": null,
            "margin": null,
            "max_height": null,
            "max_width": null,
            "min_height": null,
            "min_width": null,
            "object_fit": null,
            "object_position": null,
            "order": null,
            "overflow": null,
            "overflow_x": null,
            "overflow_y": null,
            "padding": null,
            "right": null,
            "top": null,
            "visibility": null,
            "width": null
          }
        },
        "3d234b157d9e4b3d80c35e307e5c6a57": {
          "model_module": "@jupyter-widgets/controls",
          "model_name": "DescriptionStyleModel",
          "model_module_version": "1.5.0",
          "state": {
            "_model_module": "@jupyter-widgets/controls",
            "_model_module_version": "1.5.0",
            "_model_name": "DescriptionStyleModel",
            "_view_count": null,
            "_view_module": "@jupyter-widgets/base",
            "_view_module_version": "1.2.0",
            "_view_name": "StyleView",
            "description_width": ""
          }
        },
        "7aaf00b494394fdd885565ab142e0d16": {
          "model_module": "@jupyter-widgets/base",
          "model_name": "LayoutModel",
          "model_module_version": "1.2.0",
          "state": {
            "_model_module": "@jupyter-widgets/base",
            "_model_module_version": "1.2.0",
            "_model_name": "LayoutModel",
            "_view_count": null,
            "_view_module": "@jupyter-widgets/base",
            "_view_module_version": "1.2.0",
            "_view_name": "LayoutView",
            "align_content": null,
            "align_items": null,
            "align_self": null,
            "border": null,
            "bottom": null,
            "display": null,
            "flex": null,
            "flex_flow": null,
            "grid_area": null,
            "grid_auto_columns": null,
            "grid_auto_flow": null,
            "grid_auto_rows": null,
            "grid_column": null,
            "grid_gap": null,
            "grid_row": null,
            "grid_template_areas": null,
            "grid_template_columns": null,
            "grid_template_rows": null,
            "height": null,
            "justify_content": null,
            "justify_items": null,
            "left": null,
            "margin": null,
            "max_height": null,
            "max_width": null,
            "min_height": null,
            "min_width": null,
            "object_fit": null,
            "object_position": null,
            "order": null,
            "overflow": null,
            "overflow_x": null,
            "overflow_y": null,
            "padding": null,
            "right": null,
            "top": null,
            "visibility": null,
            "width": null
          }
        },
        "26313060242045ca896275b215c566c4": {
          "model_module": "@jupyter-widgets/controls",
          "model_name": "ProgressStyleModel",
          "model_module_version": "1.5.0",
          "state": {
            "_model_module": "@jupyter-widgets/controls",
            "_model_module_version": "1.5.0",
            "_model_name": "ProgressStyleModel",
            "_view_count": null,
            "_view_module": "@jupyter-widgets/base",
            "_view_module_version": "1.2.0",
            "_view_name": "StyleView",
            "bar_color": null,
            "description_width": ""
          }
        },
        "aa8a583f1366416e86c0280458e515f5": {
          "model_module": "@jupyter-widgets/base",
          "model_name": "LayoutModel",
          "model_module_version": "1.2.0",
          "state": {
            "_model_module": "@jupyter-widgets/base",
            "_model_module_version": "1.2.0",
            "_model_name": "LayoutModel",
            "_view_count": null,
            "_view_module": "@jupyter-widgets/base",
            "_view_module_version": "1.2.0",
            "_view_name": "LayoutView",
            "align_content": null,
            "align_items": null,
            "align_self": null,
            "border": null,
            "bottom": null,
            "display": null,
            "flex": null,
            "flex_flow": null,
            "grid_area": null,
            "grid_auto_columns": null,
            "grid_auto_flow": null,
            "grid_auto_rows": null,
            "grid_column": null,
            "grid_gap": null,
            "grid_row": null,
            "grid_template_areas": null,
            "grid_template_columns": null,
            "grid_template_rows": null,
            "height": null,
            "justify_content": null,
            "justify_items": null,
            "left": null,
            "margin": null,
            "max_height": null,
            "max_width": null,
            "min_height": null,
            "min_width": null,
            "object_fit": null,
            "object_position": null,
            "order": null,
            "overflow": null,
            "overflow_x": null,
            "overflow_y": null,
            "padding": null,
            "right": null,
            "top": null,
            "visibility": null,
            "width": null
          }
        },
        "5394f8da37e34f938b87210400d3397a": {
          "model_module": "@jupyter-widgets/controls",
          "model_name": "DescriptionStyleModel",
          "model_module_version": "1.5.0",
          "state": {
            "_model_module": "@jupyter-widgets/controls",
            "_model_module_version": "1.5.0",
            "_model_name": "DescriptionStyleModel",
            "_view_count": null,
            "_view_module": "@jupyter-widgets/base",
            "_view_module_version": "1.2.0",
            "_view_name": "StyleView",
            "description_width": ""
          }
        },
        "3c072701c055402e8a1addfcd4abf6ae": {
          "model_module": "@jupyter-widgets/controls",
          "model_name": "HBoxModel",
          "model_module_version": "1.5.0",
          "state": {
            "_dom_classes": [],
            "_model_module": "@jupyter-widgets/controls",
            "_model_module_version": "1.5.0",
            "_model_name": "HBoxModel",
            "_view_count": null,
            "_view_module": "@jupyter-widgets/controls",
            "_view_module_version": "1.5.0",
            "_view_name": "HBoxView",
            "box_style": "",
            "children": [
              "IPY_MODEL_b39ce2f018444890a1e4a90f046a477b",
              "IPY_MODEL_3d8bde7f7ebd42a28ba51e3a95f9bfad",
              "IPY_MODEL_722b7cf6eb21435d9e85ec4ee709317e"
            ],
            "layout": "IPY_MODEL_81091301ff9749a79b0a0c17e70ac982"
          }
        },
        "b39ce2f018444890a1e4a90f046a477b": {
          "model_module": "@jupyter-widgets/controls",
          "model_name": "HTMLModel",
          "model_module_version": "1.5.0",
          "state": {
            "_dom_classes": [],
            "_model_module": "@jupyter-widgets/controls",
            "_model_module_version": "1.5.0",
            "_model_name": "HTMLModel",
            "_view_count": null,
            "_view_module": "@jupyter-widgets/controls",
            "_view_module_version": "1.5.0",
            "_view_name": "HTMLView",
            "description": "",
            "description_tooltip": null,
            "layout": "IPY_MODEL_ff335b93921d484b928338a3a20d5b71",
            "placeholder": "​",
            "style": "IPY_MODEL_6302267ae32f43b4a81f87cddc3c08df",
            "value": "100%"
          }
        },
        "3d8bde7f7ebd42a28ba51e3a95f9bfad": {
          "model_module": "@jupyter-widgets/controls",
          "model_name": "FloatProgressModel",
          "model_module_version": "1.5.0",
          "state": {
            "_dom_classes": [],
            "_model_module": "@jupyter-widgets/controls",
            "_model_module_version": "1.5.0",
            "_model_name": "FloatProgressModel",
            "_view_count": null,
            "_view_module": "@jupyter-widgets/controls",
            "_view_module_version": "1.5.0",
            "_view_name": "ProgressView",
            "bar_style": "success",
            "description": "",
            "description_tooltip": null,
            "layout": "IPY_MODEL_78646017b6a74a06b9fa6982e265500e",
            "max": 313,
            "min": 0,
            "orientation": "horizontal",
            "style": "IPY_MODEL_a1ddc7f749914493b4c356882a3deb08",
            "value": 313
          }
        },
        "722b7cf6eb21435d9e85ec4ee709317e": {
          "model_module": "@jupyter-widgets/controls",
          "model_name": "HTMLModel",
          "model_module_version": "1.5.0",
          "state": {
            "_dom_classes": [],
            "_model_module": "@jupyter-widgets/controls",
            "_model_module_version": "1.5.0",
            "_model_name": "HTMLModel",
            "_view_count": null,
            "_view_module": "@jupyter-widgets/controls",
            "_view_module_version": "1.5.0",
            "_view_name": "HTMLView",
            "description": "",
            "description_tooltip": null,
            "layout": "IPY_MODEL_f7937571fffd4550a834632bdb4a629d",
            "placeholder": "​",
            "style": "IPY_MODEL_63a2227edb3448fe8db1ff7672ffac5c",
            "value": " 313/313 [00:00&lt;00:00, 336.64it/s]"
          }
        },
        "81091301ff9749a79b0a0c17e70ac982": {
          "model_module": "@jupyter-widgets/base",
          "model_name": "LayoutModel",
          "model_module_version": "1.2.0",
          "state": {
            "_model_module": "@jupyter-widgets/base",
            "_model_module_version": "1.2.0",
            "_model_name": "LayoutModel",
            "_view_count": null,
            "_view_module": "@jupyter-widgets/base",
            "_view_module_version": "1.2.0",
            "_view_name": "LayoutView",
            "align_content": null,
            "align_items": null,
            "align_self": null,
            "border": null,
            "bottom": null,
            "display": null,
            "flex": null,
            "flex_flow": null,
            "grid_area": null,
            "grid_auto_columns": null,
            "grid_auto_flow": null,
            "grid_auto_rows": null,
            "grid_column": null,
            "grid_gap": null,
            "grid_row": null,
            "grid_template_areas": null,
            "grid_template_columns": null,
            "grid_template_rows": null,
            "height": null,
            "justify_content": null,
            "justify_items": null,
            "left": null,
            "margin": null,
            "max_height": null,
            "max_width": null,
            "min_height": null,
            "min_width": null,
            "object_fit": null,
            "object_position": null,
            "order": null,
            "overflow": null,
            "overflow_x": null,
            "overflow_y": null,
            "padding": null,
            "right": null,
            "top": null,
            "visibility": null,
            "width": null
          }
        },
        "ff335b93921d484b928338a3a20d5b71": {
          "model_module": "@jupyter-widgets/base",
          "model_name": "LayoutModel",
          "model_module_version": "1.2.0",
          "state": {
            "_model_module": "@jupyter-widgets/base",
            "_model_module_version": "1.2.0",
            "_model_name": "LayoutModel",
            "_view_count": null,
            "_view_module": "@jupyter-widgets/base",
            "_view_module_version": "1.2.0",
            "_view_name": "LayoutView",
            "align_content": null,
            "align_items": null,
            "align_self": null,
            "border": null,
            "bottom": null,
            "display": null,
            "flex": null,
            "flex_flow": null,
            "grid_area": null,
            "grid_auto_columns": null,
            "grid_auto_flow": null,
            "grid_auto_rows": null,
            "grid_column": null,
            "grid_gap": null,
            "grid_row": null,
            "grid_template_areas": null,
            "grid_template_columns": null,
            "grid_template_rows": null,
            "height": null,
            "justify_content": null,
            "justify_items": null,
            "left": null,
            "margin": null,
            "max_height": null,
            "max_width": null,
            "min_height": null,
            "min_width": null,
            "object_fit": null,
            "object_position": null,
            "order": null,
            "overflow": null,
            "overflow_x": null,
            "overflow_y": null,
            "padding": null,
            "right": null,
            "top": null,
            "visibility": null,
            "width": null
          }
        },
        "6302267ae32f43b4a81f87cddc3c08df": {
          "model_module": "@jupyter-widgets/controls",
          "model_name": "DescriptionStyleModel",
          "model_module_version": "1.5.0",
          "state": {
            "_model_module": "@jupyter-widgets/controls",
            "_model_module_version": "1.5.0",
            "_model_name": "DescriptionStyleModel",
            "_view_count": null,
            "_view_module": "@jupyter-widgets/base",
            "_view_module_version": "1.2.0",
            "_view_name": "StyleView",
            "description_width": ""
          }
        },
        "78646017b6a74a06b9fa6982e265500e": {
          "model_module": "@jupyter-widgets/base",
          "model_name": "LayoutModel",
          "model_module_version": "1.2.0",
          "state": {
            "_model_module": "@jupyter-widgets/base",
            "_model_module_version": "1.2.0",
            "_model_name": "LayoutModel",
            "_view_count": null,
            "_view_module": "@jupyter-widgets/base",
            "_view_module_version": "1.2.0",
            "_view_name": "LayoutView",
            "align_content": null,
            "align_items": null,
            "align_self": null,
            "border": null,
            "bottom": null,
            "display": null,
            "flex": null,
            "flex_flow": null,
            "grid_area": null,
            "grid_auto_columns": null,
            "grid_auto_flow": null,
            "grid_auto_rows": null,
            "grid_column": null,
            "grid_gap": null,
            "grid_row": null,
            "grid_template_areas": null,
            "grid_template_columns": null,
            "grid_template_rows": null,
            "height": null,
            "justify_content": null,
            "justify_items": null,
            "left": null,
            "margin": null,
            "max_height": null,
            "max_width": null,
            "min_height": null,
            "min_width": null,
            "object_fit": null,
            "object_position": null,
            "order": null,
            "overflow": null,
            "overflow_x": null,
            "overflow_y": null,
            "padding": null,
            "right": null,
            "top": null,
            "visibility": null,
            "width": null
          }
        },
        "a1ddc7f749914493b4c356882a3deb08": {
          "model_module": "@jupyter-widgets/controls",
          "model_name": "ProgressStyleModel",
          "model_module_version": "1.5.0",
          "state": {
            "_model_module": "@jupyter-widgets/controls",
            "_model_module_version": "1.5.0",
            "_model_name": "ProgressStyleModel",
            "_view_count": null,
            "_view_module": "@jupyter-widgets/base",
            "_view_module_version": "1.2.0",
            "_view_name": "StyleView",
            "bar_color": null,
            "description_width": ""
          }
        },
        "f7937571fffd4550a834632bdb4a629d": {
          "model_module": "@jupyter-widgets/base",
          "model_name": "LayoutModel",
          "model_module_version": "1.2.0",
          "state": {
            "_model_module": "@jupyter-widgets/base",
            "_model_module_version": "1.2.0",
            "_model_name": "LayoutModel",
            "_view_count": null,
            "_view_module": "@jupyter-widgets/base",
            "_view_module_version": "1.2.0",
            "_view_name": "LayoutView",
            "align_content": null,
            "align_items": null,
            "align_self": null,
            "border": null,
            "bottom": null,
            "display": null,
            "flex": null,
            "flex_flow": null,
            "grid_area": null,
            "grid_auto_columns": null,
            "grid_auto_flow": null,
            "grid_auto_rows": null,
            "grid_column": null,
            "grid_gap": null,
            "grid_row": null,
            "grid_template_areas": null,
            "grid_template_columns": null,
            "grid_template_rows": null,
            "height": null,
            "justify_content": null,
            "justify_items": null,
            "left": null,
            "margin": null,
            "max_height": null,
            "max_width": null,
            "min_height": null,
            "min_width": null,
            "object_fit": null,
            "object_position": null,
            "order": null,
            "overflow": null,
            "overflow_x": null,
            "overflow_y": null,
            "padding": null,
            "right": null,
            "top": null,
            "visibility": null,
            "width": null
          }
        },
        "63a2227edb3448fe8db1ff7672ffac5c": {
          "model_module": "@jupyter-widgets/controls",
          "model_name": "DescriptionStyleModel",
          "model_module_version": "1.5.0",
          "state": {
            "_model_module": "@jupyter-widgets/controls",
            "_model_module_version": "1.5.0",
            "_model_name": "DescriptionStyleModel",
            "_view_count": null,
            "_view_module": "@jupyter-widgets/base",
            "_view_module_version": "1.2.0",
            "_view_name": "StyleView",
            "description_width": ""
          }
        },
        "b5a22249a1b64360b09682d2de411bdd": {
          "model_module": "@jupyter-widgets/controls",
          "model_name": "HBoxModel",
          "model_module_version": "1.5.0",
          "state": {
            "_dom_classes": [],
            "_model_module": "@jupyter-widgets/controls",
            "_model_module_version": "1.5.0",
            "_model_name": "HBoxModel",
            "_view_count": null,
            "_view_module": "@jupyter-widgets/controls",
            "_view_module_version": "1.5.0",
            "_view_name": "HBoxView",
            "box_style": "",
            "children": [
              "IPY_MODEL_9fc327f267e144149ab0b90c1d061843",
              "IPY_MODEL_c766c571d52245d2859f5ee8accabb27",
              "IPY_MODEL_688921c49adc4bd490d76c0b191f1010"
            ],
            "layout": "IPY_MODEL_2c86bacbfde04dcfbb2614f94ec5ef9a"
          }
        },
        "9fc327f267e144149ab0b90c1d061843": {
          "model_module": "@jupyter-widgets/controls",
          "model_name": "HTMLModel",
          "model_module_version": "1.5.0",
          "state": {
            "_dom_classes": [],
            "_model_module": "@jupyter-widgets/controls",
            "_model_module_version": "1.5.0",
            "_model_name": "HTMLModel",
            "_view_count": null,
            "_view_module": "@jupyter-widgets/controls",
            "_view_module_version": "1.5.0",
            "_view_name": "HTMLView",
            "description": "",
            "description_tooltip": null,
            "layout": "IPY_MODEL_3e9626665fc44144af4d749cf66c41cd",
            "placeholder": "​",
            "style": "IPY_MODEL_ed79233d19ae457fbf8cf17ebe51fa8d",
            "value": "100%"
          }
        },
        "c766c571d52245d2859f5ee8accabb27": {
          "model_module": "@jupyter-widgets/controls",
          "model_name": "FloatProgressModel",
          "model_module_version": "1.5.0",
          "state": {
            "_dom_classes": [],
            "_model_module": "@jupyter-widgets/controls",
            "_model_module_version": "1.5.0",
            "_model_name": "FloatProgressModel",
            "_view_count": null,
            "_view_module": "@jupyter-widgets/controls",
            "_view_module_version": "1.5.0",
            "_view_name": "ProgressView",
            "bar_style": "success",
            "description": "",
            "description_tooltip": null,
            "layout": "IPY_MODEL_055cc164e5644a3a83f72b360afb2b70",
            "max": 3,
            "min": 0,
            "orientation": "horizontal",
            "style": "IPY_MODEL_0bb2035e060046ceb9ca5106202f8a22",
            "value": 3
          }
        },
        "688921c49adc4bd490d76c0b191f1010": {
          "model_module": "@jupyter-widgets/controls",
          "model_name": "HTMLModel",
          "model_module_version": "1.5.0",
          "state": {
            "_dom_classes": [],
            "_model_module": "@jupyter-widgets/controls",
            "_model_module_version": "1.5.0",
            "_model_name": "HTMLModel",
            "_view_count": null,
            "_view_module": "@jupyter-widgets/controls",
            "_view_module_version": "1.5.0",
            "_view_name": "HTMLView",
            "description": "",
            "description_tooltip": null,
            "layout": "IPY_MODEL_ef833b1338744c229402685049e607c9",
            "placeholder": "​",
            "style": "IPY_MODEL_a80e996696a24aa5af7ea17c0181c3c4",
            "value": " 3/3 [00:26&lt;00:00,  8.66s/it]"
          }
        },
        "2c86bacbfde04dcfbb2614f94ec5ef9a": {
          "model_module": "@jupyter-widgets/base",
          "model_name": "LayoutModel",
          "model_module_version": "1.2.0",
          "state": {
            "_model_module": "@jupyter-widgets/base",
            "_model_module_version": "1.2.0",
            "_model_name": "LayoutModel",
            "_view_count": null,
            "_view_module": "@jupyter-widgets/base",
            "_view_module_version": "1.2.0",
            "_view_name": "LayoutView",
            "align_content": null,
            "align_items": null,
            "align_self": null,
            "border": null,
            "bottom": null,
            "display": null,
            "flex": null,
            "flex_flow": null,
            "grid_area": null,
            "grid_auto_columns": null,
            "grid_auto_flow": null,
            "grid_auto_rows": null,
            "grid_column": null,
            "grid_gap": null,
            "grid_row": null,
            "grid_template_areas": null,
            "grid_template_columns": null,
            "grid_template_rows": null,
            "height": null,
            "justify_content": null,
            "justify_items": null,
            "left": null,
            "margin": null,
            "max_height": null,
            "max_width": null,
            "min_height": null,
            "min_width": null,
            "object_fit": null,
            "object_position": null,
            "order": null,
            "overflow": null,
            "overflow_x": null,
            "overflow_y": null,
            "padding": null,
            "right": null,
            "top": null,
            "visibility": null,
            "width": null
          }
        },
        "3e9626665fc44144af4d749cf66c41cd": {
          "model_module": "@jupyter-widgets/base",
          "model_name": "LayoutModel",
          "model_module_version": "1.2.0",
          "state": {
            "_model_module": "@jupyter-widgets/base",
            "_model_module_version": "1.2.0",
            "_model_name": "LayoutModel",
            "_view_count": null,
            "_view_module": "@jupyter-widgets/base",
            "_view_module_version": "1.2.0",
            "_view_name": "LayoutView",
            "align_content": null,
            "align_items": null,
            "align_self": null,
            "border": null,
            "bottom": null,
            "display": null,
            "flex": null,
            "flex_flow": null,
            "grid_area": null,
            "grid_auto_columns": null,
            "grid_auto_flow": null,
            "grid_auto_rows": null,
            "grid_column": null,
            "grid_gap": null,
            "grid_row": null,
            "grid_template_areas": null,
            "grid_template_columns": null,
            "grid_template_rows": null,
            "height": null,
            "justify_content": null,
            "justify_items": null,
            "left": null,
            "margin": null,
            "max_height": null,
            "max_width": null,
            "min_height": null,
            "min_width": null,
            "object_fit": null,
            "object_position": null,
            "order": null,
            "overflow": null,
            "overflow_x": null,
            "overflow_y": null,
            "padding": null,
            "right": null,
            "top": null,
            "visibility": null,
            "width": null
          }
        },
        "ed79233d19ae457fbf8cf17ebe51fa8d": {
          "model_module": "@jupyter-widgets/controls",
          "model_name": "DescriptionStyleModel",
          "model_module_version": "1.5.0",
          "state": {
            "_model_module": "@jupyter-widgets/controls",
            "_model_module_version": "1.5.0",
            "_model_name": "DescriptionStyleModel",
            "_view_count": null,
            "_view_module": "@jupyter-widgets/base",
            "_view_module_version": "1.2.0",
            "_view_name": "StyleView",
            "description_width": ""
          }
        },
        "055cc164e5644a3a83f72b360afb2b70": {
          "model_module": "@jupyter-widgets/base",
          "model_name": "LayoutModel",
          "model_module_version": "1.2.0",
          "state": {
            "_model_module": "@jupyter-widgets/base",
            "_model_module_version": "1.2.0",
            "_model_name": "LayoutModel",
            "_view_count": null,
            "_view_module": "@jupyter-widgets/base",
            "_view_module_version": "1.2.0",
            "_view_name": "LayoutView",
            "align_content": null,
            "align_items": null,
            "align_self": null,
            "border": null,
            "bottom": null,
            "display": null,
            "flex": null,
            "flex_flow": null,
            "grid_area": null,
            "grid_auto_columns": null,
            "grid_auto_flow": null,
            "grid_auto_rows": null,
            "grid_column": null,
            "grid_gap": null,
            "grid_row": null,
            "grid_template_areas": null,
            "grid_template_columns": null,
            "grid_template_rows": null,
            "height": null,
            "justify_content": null,
            "justify_items": null,
            "left": null,
            "margin": null,
            "max_height": null,
            "max_width": null,
            "min_height": null,
            "min_width": null,
            "object_fit": null,
            "object_position": null,
            "order": null,
            "overflow": null,
            "overflow_x": null,
            "overflow_y": null,
            "padding": null,
            "right": null,
            "top": null,
            "visibility": null,
            "width": null
          }
        },
        "0bb2035e060046ceb9ca5106202f8a22": {
          "model_module": "@jupyter-widgets/controls",
          "model_name": "ProgressStyleModel",
          "model_module_version": "1.5.0",
          "state": {
            "_model_module": "@jupyter-widgets/controls",
            "_model_module_version": "1.5.0",
            "_model_name": "ProgressStyleModel",
            "_view_count": null,
            "_view_module": "@jupyter-widgets/base",
            "_view_module_version": "1.2.0",
            "_view_name": "StyleView",
            "bar_color": null,
            "description_width": ""
          }
        },
        "ef833b1338744c229402685049e607c9": {
          "model_module": "@jupyter-widgets/base",
          "model_name": "LayoutModel",
          "model_module_version": "1.2.0",
          "state": {
            "_model_module": "@jupyter-widgets/base",
            "_model_module_version": "1.2.0",
            "_model_name": "LayoutModel",
            "_view_count": null,
            "_view_module": "@jupyter-widgets/base",
            "_view_module_version": "1.2.0",
            "_view_name": "LayoutView",
            "align_content": null,
            "align_items": null,
            "align_self": null,
            "border": null,
            "bottom": null,
            "display": null,
            "flex": null,
            "flex_flow": null,
            "grid_area": null,
            "grid_auto_columns": null,
            "grid_auto_flow": null,
            "grid_auto_rows": null,
            "grid_column": null,
            "grid_gap": null,
            "grid_row": null,
            "grid_template_areas": null,
            "grid_template_columns": null,
            "grid_template_rows": null,
            "height": null,
            "justify_content": null,
            "justify_items": null,
            "left": null,
            "margin": null,
            "max_height": null,
            "max_width": null,
            "min_height": null,
            "min_width": null,
            "object_fit": null,
            "object_position": null,
            "order": null,
            "overflow": null,
            "overflow_x": null,
            "overflow_y": null,
            "padding": null,
            "right": null,
            "top": null,
            "visibility": null,
            "width": null
          }
        },
        "a80e996696a24aa5af7ea17c0181c3c4": {
          "model_module": "@jupyter-widgets/controls",
          "model_name": "DescriptionStyleModel",
          "model_module_version": "1.5.0",
          "state": {
            "_model_module": "@jupyter-widgets/controls",
            "_model_module_version": "1.5.0",
            "_model_name": "DescriptionStyleModel",
            "_view_count": null,
            "_view_module": "@jupyter-widgets/base",
            "_view_module_version": "1.2.0",
            "_view_name": "StyleView",
            "description_width": ""
          }
        },
        "92ee24073fda46f8b1c46dcf7801fce5": {
          "model_module": "@jupyter-widgets/controls",
          "model_name": "HBoxModel",
          "model_module_version": "1.5.0",
          "state": {
            "_dom_classes": [],
            "_model_module": "@jupyter-widgets/controls",
            "_model_module_version": "1.5.0",
            "_model_name": "HBoxModel",
            "_view_count": null,
            "_view_module": "@jupyter-widgets/controls",
            "_view_module_version": "1.5.0",
            "_view_name": "HBoxView",
            "box_style": "",
            "children": [
              "IPY_MODEL_2cbf1f26ccd74078b180d3b391cc1668",
              "IPY_MODEL_334c89db926545f69a6de9b805afe794",
              "IPY_MODEL_48f11cff79d144d9885621e07577cac1"
            ],
            "layout": "IPY_MODEL_cca4414a4c064c40b97b9e9db280590f"
          }
        },
        "2cbf1f26ccd74078b180d3b391cc1668": {
          "model_module": "@jupyter-widgets/controls",
          "model_name": "HTMLModel",
          "model_module_version": "1.5.0",
          "state": {
            "_dom_classes": [],
            "_model_module": "@jupyter-widgets/controls",
            "_model_module_version": "1.5.0",
            "_model_name": "HTMLModel",
            "_view_count": null,
            "_view_module": "@jupyter-widgets/controls",
            "_view_module_version": "1.5.0",
            "_view_name": "HTMLView",
            "description": "",
            "description_tooltip": null,
            "layout": "IPY_MODEL_94732b6b03714990b0642cc08f99a487",
            "placeholder": "​",
            "style": "IPY_MODEL_aaffd5e65f6a40e4890d568da5146808",
            "value": "100%"
          }
        },
        "334c89db926545f69a6de9b805afe794": {
          "model_module": "@jupyter-widgets/controls",
          "model_name": "FloatProgressModel",
          "model_module_version": "1.5.0",
          "state": {
            "_dom_classes": [],
            "_model_module": "@jupyter-widgets/controls",
            "_model_module_version": "1.5.0",
            "_model_name": "FloatProgressModel",
            "_view_count": null,
            "_view_module": "@jupyter-widgets/controls",
            "_view_module_version": "1.5.0",
            "_view_name": "ProgressView",
            "bar_style": "success",
            "description": "",
            "description_tooltip": null,
            "layout": "IPY_MODEL_9cdc781451094d0980eb5acd9fb7ff54",
            "max": 313,
            "min": 0,
            "orientation": "horizontal",
            "style": "IPY_MODEL_d1a62a635d0b41519f8e86d4f5c9410b",
            "value": 313
          }
        },
        "48f11cff79d144d9885621e07577cac1": {
          "model_module": "@jupyter-widgets/controls",
          "model_name": "HTMLModel",
          "model_module_version": "1.5.0",
          "state": {
            "_dom_classes": [],
            "_model_module": "@jupyter-widgets/controls",
            "_model_module_version": "1.5.0",
            "_model_name": "HTMLModel",
            "_view_count": null,
            "_view_module": "@jupyter-widgets/controls",
            "_view_module_version": "1.5.0",
            "_view_name": "HTMLView",
            "description": "",
            "description_tooltip": null,
            "layout": "IPY_MODEL_97b099c877ec450193cfd95b8302ae37",
            "placeholder": "​",
            "style": "IPY_MODEL_75166c77b1bb485bb260c3ca2051a81c",
            "value": " 313/313 [00:01&lt;00:00, 258.05it/s]"
          }
        },
        "cca4414a4c064c40b97b9e9db280590f": {
          "model_module": "@jupyter-widgets/base",
          "model_name": "LayoutModel",
          "model_module_version": "1.2.0",
          "state": {
            "_model_module": "@jupyter-widgets/base",
            "_model_module_version": "1.2.0",
            "_model_name": "LayoutModel",
            "_view_count": null,
            "_view_module": "@jupyter-widgets/base",
            "_view_module_version": "1.2.0",
            "_view_name": "LayoutView",
            "align_content": null,
            "align_items": null,
            "align_self": null,
            "border": null,
            "bottom": null,
            "display": null,
            "flex": null,
            "flex_flow": null,
            "grid_area": null,
            "grid_auto_columns": null,
            "grid_auto_flow": null,
            "grid_auto_rows": null,
            "grid_column": null,
            "grid_gap": null,
            "grid_row": null,
            "grid_template_areas": null,
            "grid_template_columns": null,
            "grid_template_rows": null,
            "height": null,
            "justify_content": null,
            "justify_items": null,
            "left": null,
            "margin": null,
            "max_height": null,
            "max_width": null,
            "min_height": null,
            "min_width": null,
            "object_fit": null,
            "object_position": null,
            "order": null,
            "overflow": null,
            "overflow_x": null,
            "overflow_y": null,
            "padding": null,
            "right": null,
            "top": null,
            "visibility": null,
            "width": null
          }
        },
        "94732b6b03714990b0642cc08f99a487": {
          "model_module": "@jupyter-widgets/base",
          "model_name": "LayoutModel",
          "model_module_version": "1.2.0",
          "state": {
            "_model_module": "@jupyter-widgets/base",
            "_model_module_version": "1.2.0",
            "_model_name": "LayoutModel",
            "_view_count": null,
            "_view_module": "@jupyter-widgets/base",
            "_view_module_version": "1.2.0",
            "_view_name": "LayoutView",
            "align_content": null,
            "align_items": null,
            "align_self": null,
            "border": null,
            "bottom": null,
            "display": null,
            "flex": null,
            "flex_flow": null,
            "grid_area": null,
            "grid_auto_columns": null,
            "grid_auto_flow": null,
            "grid_auto_rows": null,
            "grid_column": null,
            "grid_gap": null,
            "grid_row": null,
            "grid_template_areas": null,
            "grid_template_columns": null,
            "grid_template_rows": null,
            "height": null,
            "justify_content": null,
            "justify_items": null,
            "left": null,
            "margin": null,
            "max_height": null,
            "max_width": null,
            "min_height": null,
            "min_width": null,
            "object_fit": null,
            "object_position": null,
            "order": null,
            "overflow": null,
            "overflow_x": null,
            "overflow_y": null,
            "padding": null,
            "right": null,
            "top": null,
            "visibility": null,
            "width": null
          }
        },
        "aaffd5e65f6a40e4890d568da5146808": {
          "model_module": "@jupyter-widgets/controls",
          "model_name": "DescriptionStyleModel",
          "model_module_version": "1.5.0",
          "state": {
            "_model_module": "@jupyter-widgets/controls",
            "_model_module_version": "1.5.0",
            "_model_name": "DescriptionStyleModel",
            "_view_count": null,
            "_view_module": "@jupyter-widgets/base",
            "_view_module_version": "1.2.0",
            "_view_name": "StyleView",
            "description_width": ""
          }
        },
        "9cdc781451094d0980eb5acd9fb7ff54": {
          "model_module": "@jupyter-widgets/base",
          "model_name": "LayoutModel",
          "model_module_version": "1.2.0",
          "state": {
            "_model_module": "@jupyter-widgets/base",
            "_model_module_version": "1.2.0",
            "_model_name": "LayoutModel",
            "_view_count": null,
            "_view_module": "@jupyter-widgets/base",
            "_view_module_version": "1.2.0",
            "_view_name": "LayoutView",
            "align_content": null,
            "align_items": null,
            "align_self": null,
            "border": null,
            "bottom": null,
            "display": null,
            "flex": null,
            "flex_flow": null,
            "grid_area": null,
            "grid_auto_columns": null,
            "grid_auto_flow": null,
            "grid_auto_rows": null,
            "grid_column": null,
            "grid_gap": null,
            "grid_row": null,
            "grid_template_areas": null,
            "grid_template_columns": null,
            "grid_template_rows": null,
            "height": null,
            "justify_content": null,
            "justify_items": null,
            "left": null,
            "margin": null,
            "max_height": null,
            "max_width": null,
            "min_height": null,
            "min_width": null,
            "object_fit": null,
            "object_position": null,
            "order": null,
            "overflow": null,
            "overflow_x": null,
            "overflow_y": null,
            "padding": null,
            "right": null,
            "top": null,
            "visibility": null,
            "width": null
          }
        },
        "d1a62a635d0b41519f8e86d4f5c9410b": {
          "model_module": "@jupyter-widgets/controls",
          "model_name": "ProgressStyleModel",
          "model_module_version": "1.5.0",
          "state": {
            "_model_module": "@jupyter-widgets/controls",
            "_model_module_version": "1.5.0",
            "_model_name": "ProgressStyleModel",
            "_view_count": null,
            "_view_module": "@jupyter-widgets/base",
            "_view_module_version": "1.2.0",
            "_view_name": "StyleView",
            "bar_color": null,
            "description_width": ""
          }
        },
        "97b099c877ec450193cfd95b8302ae37": {
          "model_module": "@jupyter-widgets/base",
          "model_name": "LayoutModel",
          "model_module_version": "1.2.0",
          "state": {
            "_model_module": "@jupyter-widgets/base",
            "_model_module_version": "1.2.0",
            "_model_name": "LayoutModel",
            "_view_count": null,
            "_view_module": "@jupyter-widgets/base",
            "_view_module_version": "1.2.0",
            "_view_name": "LayoutView",
            "align_content": null,
            "align_items": null,
            "align_self": null,
            "border": null,
            "bottom": null,
            "display": null,
            "flex": null,
            "flex_flow": null,
            "grid_area": null,
            "grid_auto_columns": null,
            "grid_auto_flow": null,
            "grid_auto_rows": null,
            "grid_column": null,
            "grid_gap": null,
            "grid_row": null,
            "grid_template_areas": null,
            "grid_template_columns": null,
            "grid_template_rows": null,
            "height": null,
            "justify_content": null,
            "justify_items": null,
            "left": null,
            "margin": null,
            "max_height": null,
            "max_width": null,
            "min_height": null,
            "min_width": null,
            "object_fit": null,
            "object_position": null,
            "order": null,
            "overflow": null,
            "overflow_x": null,
            "overflow_y": null,
            "padding": null,
            "right": null,
            "top": null,
            "visibility": null,
            "width": null
          }
        },
        "75166c77b1bb485bb260c3ca2051a81c": {
          "model_module": "@jupyter-widgets/controls",
          "model_name": "DescriptionStyleModel",
          "model_module_version": "1.5.0",
          "state": {
            "_model_module": "@jupyter-widgets/controls",
            "_model_module_version": "1.5.0",
            "_model_name": "DescriptionStyleModel",
            "_view_count": null,
            "_view_module": "@jupyter-widgets/base",
            "_view_module_version": "1.2.0",
            "_view_name": "StyleView",
            "description_width": ""
          }
        },
        "b4d6d90a7dd740799a11bd3d3dfed99a": {
          "model_module": "@jupyter-widgets/controls",
          "model_name": "HBoxModel",
          "model_module_version": "1.5.0",
          "state": {
            "_dom_classes": [],
            "_model_module": "@jupyter-widgets/controls",
            "_model_module_version": "1.5.0",
            "_model_name": "HBoxModel",
            "_view_count": null,
            "_view_module": "@jupyter-widgets/controls",
            "_view_module_version": "1.5.0",
            "_view_name": "HBoxView",
            "box_style": "",
            "children": [
              "IPY_MODEL_61e5beba0e5e482dadde285ea558b4b6",
              "IPY_MODEL_eb32b9be5f424b5e8fe879c1a06d8092",
              "IPY_MODEL_c5bcc317f4a94d4398b83697fc6586ff"
            ],
            "layout": "IPY_MODEL_2e0ce483b6014ab98f0ef0ccd4965c7d"
          }
        },
        "61e5beba0e5e482dadde285ea558b4b6": {
          "model_module": "@jupyter-widgets/controls",
          "model_name": "HTMLModel",
          "model_module_version": "1.5.0",
          "state": {
            "_dom_classes": [],
            "_model_module": "@jupyter-widgets/controls",
            "_model_module_version": "1.5.0",
            "_model_name": "HTMLModel",
            "_view_count": null,
            "_view_module": "@jupyter-widgets/controls",
            "_view_module_version": "1.5.0",
            "_view_name": "HTMLView",
            "description": "",
            "description_tooltip": null,
            "layout": "IPY_MODEL_69c8072c0d25400ebd608d80c2902110",
            "placeholder": "​",
            "style": "IPY_MODEL_b281626fdae9494e91b1577e976536a0",
            "value": "100%"
          }
        },
        "eb32b9be5f424b5e8fe879c1a06d8092": {
          "model_module": "@jupyter-widgets/controls",
          "model_name": "FloatProgressModel",
          "model_module_version": "1.5.0",
          "state": {
            "_dom_classes": [],
            "_model_module": "@jupyter-widgets/controls",
            "_model_module_version": "1.5.0",
            "_model_name": "FloatProgressModel",
            "_view_count": null,
            "_view_module": "@jupyter-widgets/controls",
            "_view_module_version": "1.5.0",
            "_view_name": "ProgressView",
            "bar_style": "success",
            "description": "",
            "description_tooltip": null,
            "layout": "IPY_MODEL_844d6be8e6b34a699305dd2f33231320",
            "max": 3,
            "min": 0,
            "orientation": "horizontal",
            "style": "IPY_MODEL_755aa73c967a464f97ff41f8d05994e1",
            "value": 3
          }
        },
        "c5bcc317f4a94d4398b83697fc6586ff": {
          "model_module": "@jupyter-widgets/controls",
          "model_name": "HTMLModel",
          "model_module_version": "1.5.0",
          "state": {
            "_dom_classes": [],
            "_model_module": "@jupyter-widgets/controls",
            "_model_module_version": "1.5.0",
            "_model_name": "HTMLModel",
            "_view_count": null,
            "_view_module": "@jupyter-widgets/controls",
            "_view_module_version": "1.5.0",
            "_view_name": "HTMLView",
            "description": "",
            "description_tooltip": null,
            "layout": "IPY_MODEL_ff1301d1d8bd44aa8d17b61e07a948b7",
            "placeholder": "​",
            "style": "IPY_MODEL_5716faa53f4b4fc3871b154c48de8768",
            "value": " 3/3 [01:45&lt;00:00, 35.10s/it]"
          }
        },
        "2e0ce483b6014ab98f0ef0ccd4965c7d": {
          "model_module": "@jupyter-widgets/base",
          "model_name": "LayoutModel",
          "model_module_version": "1.2.0",
          "state": {
            "_model_module": "@jupyter-widgets/base",
            "_model_module_version": "1.2.0",
            "_model_name": "LayoutModel",
            "_view_count": null,
            "_view_module": "@jupyter-widgets/base",
            "_view_module_version": "1.2.0",
            "_view_name": "LayoutView",
            "align_content": null,
            "align_items": null,
            "align_self": null,
            "border": null,
            "bottom": null,
            "display": null,
            "flex": null,
            "flex_flow": null,
            "grid_area": null,
            "grid_auto_columns": null,
            "grid_auto_flow": null,
            "grid_auto_rows": null,
            "grid_column": null,
            "grid_gap": null,
            "grid_row": null,
            "grid_template_areas": null,
            "grid_template_columns": null,
            "grid_template_rows": null,
            "height": null,
            "justify_content": null,
            "justify_items": null,
            "left": null,
            "margin": null,
            "max_height": null,
            "max_width": null,
            "min_height": null,
            "min_width": null,
            "object_fit": null,
            "object_position": null,
            "order": null,
            "overflow": null,
            "overflow_x": null,
            "overflow_y": null,
            "padding": null,
            "right": null,
            "top": null,
            "visibility": null,
            "width": null
          }
        },
        "69c8072c0d25400ebd608d80c2902110": {
          "model_module": "@jupyter-widgets/base",
          "model_name": "LayoutModel",
          "model_module_version": "1.2.0",
          "state": {
            "_model_module": "@jupyter-widgets/base",
            "_model_module_version": "1.2.0",
            "_model_name": "LayoutModel",
            "_view_count": null,
            "_view_module": "@jupyter-widgets/base",
            "_view_module_version": "1.2.0",
            "_view_name": "LayoutView",
            "align_content": null,
            "align_items": null,
            "align_self": null,
            "border": null,
            "bottom": null,
            "display": null,
            "flex": null,
            "flex_flow": null,
            "grid_area": null,
            "grid_auto_columns": null,
            "grid_auto_flow": null,
            "grid_auto_rows": null,
            "grid_column": null,
            "grid_gap": null,
            "grid_row": null,
            "grid_template_areas": null,
            "grid_template_columns": null,
            "grid_template_rows": null,
            "height": null,
            "justify_content": null,
            "justify_items": null,
            "left": null,
            "margin": null,
            "max_height": null,
            "max_width": null,
            "min_height": null,
            "min_width": null,
            "object_fit": null,
            "object_position": null,
            "order": null,
            "overflow": null,
            "overflow_x": null,
            "overflow_y": null,
            "padding": null,
            "right": null,
            "top": null,
            "visibility": null,
            "width": null
          }
        },
        "b281626fdae9494e91b1577e976536a0": {
          "model_module": "@jupyter-widgets/controls",
          "model_name": "DescriptionStyleModel",
          "model_module_version": "1.5.0",
          "state": {
            "_model_module": "@jupyter-widgets/controls",
            "_model_module_version": "1.5.0",
            "_model_name": "DescriptionStyleModel",
            "_view_count": null,
            "_view_module": "@jupyter-widgets/base",
            "_view_module_version": "1.2.0",
            "_view_name": "StyleView",
            "description_width": ""
          }
        },
        "844d6be8e6b34a699305dd2f33231320": {
          "model_module": "@jupyter-widgets/base",
          "model_name": "LayoutModel",
          "model_module_version": "1.2.0",
          "state": {
            "_model_module": "@jupyter-widgets/base",
            "_model_module_version": "1.2.0",
            "_model_name": "LayoutModel",
            "_view_count": null,
            "_view_module": "@jupyter-widgets/base",
            "_view_module_version": "1.2.0",
            "_view_name": "LayoutView",
            "align_content": null,
            "align_items": null,
            "align_self": null,
            "border": null,
            "bottom": null,
            "display": null,
            "flex": null,
            "flex_flow": null,
            "grid_area": null,
            "grid_auto_columns": null,
            "grid_auto_flow": null,
            "grid_auto_rows": null,
            "grid_column": null,
            "grid_gap": null,
            "grid_row": null,
            "grid_template_areas": null,
            "grid_template_columns": null,
            "grid_template_rows": null,
            "height": null,
            "justify_content": null,
            "justify_items": null,
            "left": null,
            "margin": null,
            "max_height": null,
            "max_width": null,
            "min_height": null,
            "min_width": null,
            "object_fit": null,
            "object_position": null,
            "order": null,
            "overflow": null,
            "overflow_x": null,
            "overflow_y": null,
            "padding": null,
            "right": null,
            "top": null,
            "visibility": null,
            "width": null
          }
        },
        "755aa73c967a464f97ff41f8d05994e1": {
          "model_module": "@jupyter-widgets/controls",
          "model_name": "ProgressStyleModel",
          "model_module_version": "1.5.0",
          "state": {
            "_model_module": "@jupyter-widgets/controls",
            "_model_module_version": "1.5.0",
            "_model_name": "ProgressStyleModel",
            "_view_count": null,
            "_view_module": "@jupyter-widgets/base",
            "_view_module_version": "1.2.0",
            "_view_name": "StyleView",
            "bar_color": null,
            "description_width": ""
          }
        },
        "ff1301d1d8bd44aa8d17b61e07a948b7": {
          "model_module": "@jupyter-widgets/base",
          "model_name": "LayoutModel",
          "model_module_version": "1.2.0",
          "state": {
            "_model_module": "@jupyter-widgets/base",
            "_model_module_version": "1.2.0",
            "_model_name": "LayoutModel",
            "_view_count": null,
            "_view_module": "@jupyter-widgets/base",
            "_view_module_version": "1.2.0",
            "_view_name": "LayoutView",
            "align_content": null,
            "align_items": null,
            "align_self": null,
            "border": null,
            "bottom": null,
            "display": null,
            "flex": null,
            "flex_flow": null,
            "grid_area": null,
            "grid_auto_columns": null,
            "grid_auto_flow": null,
            "grid_auto_rows": null,
            "grid_column": null,
            "grid_gap": null,
            "grid_row": null,
            "grid_template_areas": null,
            "grid_template_columns": null,
            "grid_template_rows": null,
            "height": null,
            "justify_content": null,
            "justify_items": null,
            "left": null,
            "margin": null,
            "max_height": null,
            "max_width": null,
            "min_height": null,
            "min_width": null,
            "object_fit": null,
            "object_position": null,
            "order": null,
            "overflow": null,
            "overflow_x": null,
            "overflow_y": null,
            "padding": null,
            "right": null,
            "top": null,
            "visibility": null,
            "width": null
          }
        },
        "5716faa53f4b4fc3871b154c48de8768": {
          "model_module": "@jupyter-widgets/controls",
          "model_name": "DescriptionStyleModel",
          "model_module_version": "1.5.0",
          "state": {
            "_model_module": "@jupyter-widgets/controls",
            "_model_module_version": "1.5.0",
            "_model_name": "DescriptionStyleModel",
            "_view_count": null,
            "_view_module": "@jupyter-widgets/base",
            "_view_module_version": "1.2.0",
            "_view_name": "StyleView",
            "description_width": ""
          }
        },
        "c3cc43a3759346139a7b84b0a092cafd": {
          "model_module": "@jupyter-widgets/controls",
          "model_name": "HBoxModel",
          "model_module_version": "1.5.0",
          "state": {
            "_dom_classes": [],
            "_model_module": "@jupyter-widgets/controls",
            "_model_module_version": "1.5.0",
            "_model_name": "HBoxModel",
            "_view_count": null,
            "_view_module": "@jupyter-widgets/controls",
            "_view_module_version": "1.5.0",
            "_view_name": "HBoxView",
            "box_style": "",
            "children": [
              "IPY_MODEL_28765ff5d5fc48b683c4761438b113e5",
              "IPY_MODEL_81838ce133a44eacb0e0f7353089eea0",
              "IPY_MODEL_73affe2019084f2c9dadedd59910f507"
            ],
            "layout": "IPY_MODEL_bb98144b0dd442659e85b2608b74d4c3"
          }
        },
        "28765ff5d5fc48b683c4761438b113e5": {
          "model_module": "@jupyter-widgets/controls",
          "model_name": "HTMLModel",
          "model_module_version": "1.5.0",
          "state": {
            "_dom_classes": [],
            "_model_module": "@jupyter-widgets/controls",
            "_model_module_version": "1.5.0",
            "_model_name": "HTMLModel",
            "_view_count": null,
            "_view_module": "@jupyter-widgets/controls",
            "_view_module_version": "1.5.0",
            "_view_name": "HTMLView",
            "description": "",
            "description_tooltip": null,
            "layout": "IPY_MODEL_a9dae2521b234876a381150cf5a3a8a3",
            "placeholder": "​",
            "style": "IPY_MODEL_efa2ea5bacdb4b44b8df9e8192d26b81",
            "value": "100%"
          }
        },
        "81838ce133a44eacb0e0f7353089eea0": {
          "model_module": "@jupyter-widgets/controls",
          "model_name": "FloatProgressModel",
          "model_module_version": "1.5.0",
          "state": {
            "_dom_classes": [],
            "_model_module": "@jupyter-widgets/controls",
            "_model_module_version": "1.5.0",
            "_model_name": "FloatProgressModel",
            "_view_count": null,
            "_view_module": "@jupyter-widgets/controls",
            "_view_module_version": "1.5.0",
            "_view_name": "ProgressView",
            "bar_style": "success",
            "description": "",
            "description_tooltip": null,
            "layout": "IPY_MODEL_230da18517464e4ba6cb2de3386b2417",
            "max": 313,
            "min": 0,
            "orientation": "horizontal",
            "style": "IPY_MODEL_f951c4dafacb43bfa9a5455c8e71798b",
            "value": 313
          }
        },
        "73affe2019084f2c9dadedd59910f507": {
          "model_module": "@jupyter-widgets/controls",
          "model_name": "HTMLModel",
          "model_module_version": "1.5.0",
          "state": {
            "_dom_classes": [],
            "_model_module": "@jupyter-widgets/controls",
            "_model_module_version": "1.5.0",
            "_model_name": "HTMLModel",
            "_view_count": null,
            "_view_module": "@jupyter-widgets/controls",
            "_view_module_version": "1.5.0",
            "_view_name": "HTMLView",
            "description": "",
            "description_tooltip": null,
            "layout": "IPY_MODEL_dfd223c3d59c48c3b8c7dd00de660b0e",
            "placeholder": "​",
            "style": "IPY_MODEL_344fc2aafc3d47b481f424c83a049cb2",
            "value": " 313/313 [00:02&lt;00:00, 131.75it/s]"
          }
        },
        "bb98144b0dd442659e85b2608b74d4c3": {
          "model_module": "@jupyter-widgets/base",
          "model_name": "LayoutModel",
          "model_module_version": "1.2.0",
          "state": {
            "_model_module": "@jupyter-widgets/base",
            "_model_module_version": "1.2.0",
            "_model_name": "LayoutModel",
            "_view_count": null,
            "_view_module": "@jupyter-widgets/base",
            "_view_module_version": "1.2.0",
            "_view_name": "LayoutView",
            "align_content": null,
            "align_items": null,
            "align_self": null,
            "border": null,
            "bottom": null,
            "display": null,
            "flex": null,
            "flex_flow": null,
            "grid_area": null,
            "grid_auto_columns": null,
            "grid_auto_flow": null,
            "grid_auto_rows": null,
            "grid_column": null,
            "grid_gap": null,
            "grid_row": null,
            "grid_template_areas": null,
            "grid_template_columns": null,
            "grid_template_rows": null,
            "height": null,
            "justify_content": null,
            "justify_items": null,
            "left": null,
            "margin": null,
            "max_height": null,
            "max_width": null,
            "min_height": null,
            "min_width": null,
            "object_fit": null,
            "object_position": null,
            "order": null,
            "overflow": null,
            "overflow_x": null,
            "overflow_y": null,
            "padding": null,
            "right": null,
            "top": null,
            "visibility": null,
            "width": null
          }
        },
        "a9dae2521b234876a381150cf5a3a8a3": {
          "model_module": "@jupyter-widgets/base",
          "model_name": "LayoutModel",
          "model_module_version": "1.2.0",
          "state": {
            "_model_module": "@jupyter-widgets/base",
            "_model_module_version": "1.2.0",
            "_model_name": "LayoutModel",
            "_view_count": null,
            "_view_module": "@jupyter-widgets/base",
            "_view_module_version": "1.2.0",
            "_view_name": "LayoutView",
            "align_content": null,
            "align_items": null,
            "align_self": null,
            "border": null,
            "bottom": null,
            "display": null,
            "flex": null,
            "flex_flow": null,
            "grid_area": null,
            "grid_auto_columns": null,
            "grid_auto_flow": null,
            "grid_auto_rows": null,
            "grid_column": null,
            "grid_gap": null,
            "grid_row": null,
            "grid_template_areas": null,
            "grid_template_columns": null,
            "grid_template_rows": null,
            "height": null,
            "justify_content": null,
            "justify_items": null,
            "left": null,
            "margin": null,
            "max_height": null,
            "max_width": null,
            "min_height": null,
            "min_width": null,
            "object_fit": null,
            "object_position": null,
            "order": null,
            "overflow": null,
            "overflow_x": null,
            "overflow_y": null,
            "padding": null,
            "right": null,
            "top": null,
            "visibility": null,
            "width": null
          }
        },
        "efa2ea5bacdb4b44b8df9e8192d26b81": {
          "model_module": "@jupyter-widgets/controls",
          "model_name": "DescriptionStyleModel",
          "model_module_version": "1.5.0",
          "state": {
            "_model_module": "@jupyter-widgets/controls",
            "_model_module_version": "1.5.0",
            "_model_name": "DescriptionStyleModel",
            "_view_count": null,
            "_view_module": "@jupyter-widgets/base",
            "_view_module_version": "1.2.0",
            "_view_name": "StyleView",
            "description_width": ""
          }
        },
        "230da18517464e4ba6cb2de3386b2417": {
          "model_module": "@jupyter-widgets/base",
          "model_name": "LayoutModel",
          "model_module_version": "1.2.0",
          "state": {
            "_model_module": "@jupyter-widgets/base",
            "_model_module_version": "1.2.0",
            "_model_name": "LayoutModel",
            "_view_count": null,
            "_view_module": "@jupyter-widgets/base",
            "_view_module_version": "1.2.0",
            "_view_name": "LayoutView",
            "align_content": null,
            "align_items": null,
            "align_self": null,
            "border": null,
            "bottom": null,
            "display": null,
            "flex": null,
            "flex_flow": null,
            "grid_area": null,
            "grid_auto_columns": null,
            "grid_auto_flow": null,
            "grid_auto_rows": null,
            "grid_column": null,
            "grid_gap": null,
            "grid_row": null,
            "grid_template_areas": null,
            "grid_template_columns": null,
            "grid_template_rows": null,
            "height": null,
            "justify_content": null,
            "justify_items": null,
            "left": null,
            "margin": null,
            "max_height": null,
            "max_width": null,
            "min_height": null,
            "min_width": null,
            "object_fit": null,
            "object_position": null,
            "order": null,
            "overflow": null,
            "overflow_x": null,
            "overflow_y": null,
            "padding": null,
            "right": null,
            "top": null,
            "visibility": null,
            "width": null
          }
        },
        "f951c4dafacb43bfa9a5455c8e71798b": {
          "model_module": "@jupyter-widgets/controls",
          "model_name": "ProgressStyleModel",
          "model_module_version": "1.5.0",
          "state": {
            "_model_module": "@jupyter-widgets/controls",
            "_model_module_version": "1.5.0",
            "_model_name": "ProgressStyleModel",
            "_view_count": null,
            "_view_module": "@jupyter-widgets/base",
            "_view_module_version": "1.2.0",
            "_view_name": "StyleView",
            "bar_color": null,
            "description_width": ""
          }
        },
        "dfd223c3d59c48c3b8c7dd00de660b0e": {
          "model_module": "@jupyter-widgets/base",
          "model_name": "LayoutModel",
          "model_module_version": "1.2.0",
          "state": {
            "_model_module": "@jupyter-widgets/base",
            "_model_module_version": "1.2.0",
            "_model_name": "LayoutModel",
            "_view_count": null,
            "_view_module": "@jupyter-widgets/base",
            "_view_module_version": "1.2.0",
            "_view_name": "LayoutView",
            "align_content": null,
            "align_items": null,
            "align_self": null,
            "border": null,
            "bottom": null,
            "display": null,
            "flex": null,
            "flex_flow": null,
            "grid_area": null,
            "grid_auto_columns": null,
            "grid_auto_flow": null,
            "grid_auto_rows": null,
            "grid_column": null,
            "grid_gap": null,
            "grid_row": null,
            "grid_template_areas": null,
            "grid_template_columns": null,
            "grid_template_rows": null,
            "height": null,
            "justify_content": null,
            "justify_items": null,
            "left": null,
            "margin": null,
            "max_height": null,
            "max_width": null,
            "min_height": null,
            "min_width": null,
            "object_fit": null,
            "object_position": null,
            "order": null,
            "overflow": null,
            "overflow_x": null,
            "overflow_y": null,
            "padding": null,
            "right": null,
            "top": null,
            "visibility": null,
            "width": null
          }
        },
        "344fc2aafc3d47b481f424c83a049cb2": {
          "model_module": "@jupyter-widgets/controls",
          "model_name": "DescriptionStyleModel",
          "model_module_version": "1.5.0",
          "state": {
            "_model_module": "@jupyter-widgets/controls",
            "_model_module_version": "1.5.0",
            "_model_name": "DescriptionStyleModel",
            "_view_count": null,
            "_view_module": "@jupyter-widgets/base",
            "_view_module_version": "1.2.0",
            "_view_name": "StyleView",
            "description_width": ""
          }
        },
        "c7c80e80758444fbbf92bb2bec8167aa": {
          "model_module": "@jupyter-widgets/controls",
          "model_name": "HBoxModel",
          "model_module_version": "1.5.0",
          "state": {
            "_dom_classes": [],
            "_model_module": "@jupyter-widgets/controls",
            "_model_module_version": "1.5.0",
            "_model_name": "HBoxModel",
            "_view_count": null,
            "_view_module": "@jupyter-widgets/controls",
            "_view_module_version": "1.5.0",
            "_view_name": "HBoxView",
            "box_style": "",
            "children": [
              "IPY_MODEL_c0dbdc8efc3e443e9005010dd49ba028",
              "IPY_MODEL_1f1bdda3fb464eb29aac9abf7b1dd395",
              "IPY_MODEL_944f3487d16248ef9e57f4bd0b25b54d"
            ],
            "layout": "IPY_MODEL_0ae4a850cf474e7ba96aa2162f190d4f"
          }
        },
        "c0dbdc8efc3e443e9005010dd49ba028": {
          "model_module": "@jupyter-widgets/controls",
          "model_name": "HTMLModel",
          "model_module_version": "1.5.0",
          "state": {
            "_dom_classes": [],
            "_model_module": "@jupyter-widgets/controls",
            "_model_module_version": "1.5.0",
            "_model_name": "HTMLModel",
            "_view_count": null,
            "_view_module": "@jupyter-widgets/controls",
            "_view_module_version": "1.5.0",
            "_view_name": "HTMLView",
            "description": "",
            "description_tooltip": null,
            "layout": "IPY_MODEL_1e82290461454ce08aa58b4d83596466",
            "placeholder": "​",
            "style": "IPY_MODEL_ef0b0b3f2a0247ecafbe8bee9c9cd7a1",
            "value": "making predictions...: 100%"
          }
        },
        "1f1bdda3fb464eb29aac9abf7b1dd395": {
          "model_module": "@jupyter-widgets/controls",
          "model_name": "FloatProgressModel",
          "model_module_version": "1.5.0",
          "state": {
            "_dom_classes": [],
            "_model_module": "@jupyter-widgets/controls",
            "_model_module_version": "1.5.0",
            "_model_name": "FloatProgressModel",
            "_view_count": null,
            "_view_module": "@jupyter-widgets/controls",
            "_view_module_version": "1.5.0",
            "_view_name": "ProgressView",
            "bar_style": "success",
            "description": "",
            "description_tooltip": null,
            "layout": "IPY_MODEL_75e345c4ba4f40daa0231658fdba5b04",
            "max": 313,
            "min": 0,
            "orientation": "horizontal",
            "style": "IPY_MODEL_1fdb63bad8df41319d042b1dd059ec1f",
            "value": 313
          }
        },
        "944f3487d16248ef9e57f4bd0b25b54d": {
          "model_module": "@jupyter-widgets/controls",
          "model_name": "HTMLModel",
          "model_module_version": "1.5.0",
          "state": {
            "_dom_classes": [],
            "_model_module": "@jupyter-widgets/controls",
            "_model_module_version": "1.5.0",
            "_model_name": "HTMLModel",
            "_view_count": null,
            "_view_module": "@jupyter-widgets/controls",
            "_view_module_version": "1.5.0",
            "_view_name": "HTMLView",
            "description": "",
            "description_tooltip": null,
            "layout": "IPY_MODEL_780be099cf784cd1b18e195f69a33cae",
            "placeholder": "​",
            "style": "IPY_MODEL_5f4a281020e8424b876658c75bc95cd4",
            "value": " 313/313 [00:02&lt;00:00, 124.70it/s]"
          }
        },
        "0ae4a850cf474e7ba96aa2162f190d4f": {
          "model_module": "@jupyter-widgets/base",
          "model_name": "LayoutModel",
          "model_module_version": "1.2.0",
          "state": {
            "_model_module": "@jupyter-widgets/base",
            "_model_module_version": "1.2.0",
            "_model_name": "LayoutModel",
            "_view_count": null,
            "_view_module": "@jupyter-widgets/base",
            "_view_module_version": "1.2.0",
            "_view_name": "LayoutView",
            "align_content": null,
            "align_items": null,
            "align_self": null,
            "border": null,
            "bottom": null,
            "display": null,
            "flex": null,
            "flex_flow": null,
            "grid_area": null,
            "grid_auto_columns": null,
            "grid_auto_flow": null,
            "grid_auto_rows": null,
            "grid_column": null,
            "grid_gap": null,
            "grid_row": null,
            "grid_template_areas": null,
            "grid_template_columns": null,
            "grid_template_rows": null,
            "height": null,
            "justify_content": null,
            "justify_items": null,
            "left": null,
            "margin": null,
            "max_height": null,
            "max_width": null,
            "min_height": null,
            "min_width": null,
            "object_fit": null,
            "object_position": null,
            "order": null,
            "overflow": null,
            "overflow_x": null,
            "overflow_y": null,
            "padding": null,
            "right": null,
            "top": null,
            "visibility": null,
            "width": null
          }
        },
        "1e82290461454ce08aa58b4d83596466": {
          "model_module": "@jupyter-widgets/base",
          "model_name": "LayoutModel",
          "model_module_version": "1.2.0",
          "state": {
            "_model_module": "@jupyter-widgets/base",
            "_model_module_version": "1.2.0",
            "_model_name": "LayoutModel",
            "_view_count": null,
            "_view_module": "@jupyter-widgets/base",
            "_view_module_version": "1.2.0",
            "_view_name": "LayoutView",
            "align_content": null,
            "align_items": null,
            "align_self": null,
            "border": null,
            "bottom": null,
            "display": null,
            "flex": null,
            "flex_flow": null,
            "grid_area": null,
            "grid_auto_columns": null,
            "grid_auto_flow": null,
            "grid_auto_rows": null,
            "grid_column": null,
            "grid_gap": null,
            "grid_row": null,
            "grid_template_areas": null,
            "grid_template_columns": null,
            "grid_template_rows": null,
            "height": null,
            "justify_content": null,
            "justify_items": null,
            "left": null,
            "margin": null,
            "max_height": null,
            "max_width": null,
            "min_height": null,
            "min_width": null,
            "object_fit": null,
            "object_position": null,
            "order": null,
            "overflow": null,
            "overflow_x": null,
            "overflow_y": null,
            "padding": null,
            "right": null,
            "top": null,
            "visibility": null,
            "width": null
          }
        },
        "ef0b0b3f2a0247ecafbe8bee9c9cd7a1": {
          "model_module": "@jupyter-widgets/controls",
          "model_name": "DescriptionStyleModel",
          "model_module_version": "1.5.0",
          "state": {
            "_model_module": "@jupyter-widgets/controls",
            "_model_module_version": "1.5.0",
            "_model_name": "DescriptionStyleModel",
            "_view_count": null,
            "_view_module": "@jupyter-widgets/base",
            "_view_module_version": "1.2.0",
            "_view_name": "StyleView",
            "description_width": ""
          }
        },
        "75e345c4ba4f40daa0231658fdba5b04": {
          "model_module": "@jupyter-widgets/base",
          "model_name": "LayoutModel",
          "model_module_version": "1.2.0",
          "state": {
            "_model_module": "@jupyter-widgets/base",
            "_model_module_version": "1.2.0",
            "_model_name": "LayoutModel",
            "_view_count": null,
            "_view_module": "@jupyter-widgets/base",
            "_view_module_version": "1.2.0",
            "_view_name": "LayoutView",
            "align_content": null,
            "align_items": null,
            "align_self": null,
            "border": null,
            "bottom": null,
            "display": null,
            "flex": null,
            "flex_flow": null,
            "grid_area": null,
            "grid_auto_columns": null,
            "grid_auto_flow": null,
            "grid_auto_rows": null,
            "grid_column": null,
            "grid_gap": null,
            "grid_row": null,
            "grid_template_areas": null,
            "grid_template_columns": null,
            "grid_template_rows": null,
            "height": null,
            "justify_content": null,
            "justify_items": null,
            "left": null,
            "margin": null,
            "max_height": null,
            "max_width": null,
            "min_height": null,
            "min_width": null,
            "object_fit": null,
            "object_position": null,
            "order": null,
            "overflow": null,
            "overflow_x": null,
            "overflow_y": null,
            "padding": null,
            "right": null,
            "top": null,
            "visibility": null,
            "width": null
          }
        },
        "1fdb63bad8df41319d042b1dd059ec1f": {
          "model_module": "@jupyter-widgets/controls",
          "model_name": "ProgressStyleModel",
          "model_module_version": "1.5.0",
          "state": {
            "_model_module": "@jupyter-widgets/controls",
            "_model_module_version": "1.5.0",
            "_model_name": "ProgressStyleModel",
            "_view_count": null,
            "_view_module": "@jupyter-widgets/base",
            "_view_module_version": "1.2.0",
            "_view_name": "StyleView",
            "bar_color": null,
            "description_width": ""
          }
        },
        "780be099cf784cd1b18e195f69a33cae": {
          "model_module": "@jupyter-widgets/base",
          "model_name": "LayoutModel",
          "model_module_version": "1.2.0",
          "state": {
            "_model_module": "@jupyter-widgets/base",
            "_model_module_version": "1.2.0",
            "_model_name": "LayoutModel",
            "_view_count": null,
            "_view_module": "@jupyter-widgets/base",
            "_view_module_version": "1.2.0",
            "_view_name": "LayoutView",
            "align_content": null,
            "align_items": null,
            "align_self": null,
            "border": null,
            "bottom": null,
            "display": null,
            "flex": null,
            "flex_flow": null,
            "grid_area": null,
            "grid_auto_columns": null,
            "grid_auto_flow": null,
            "grid_auto_rows": null,
            "grid_column": null,
            "grid_gap": null,
            "grid_row": null,
            "grid_template_areas": null,
            "grid_template_columns": null,
            "grid_template_rows": null,
            "height": null,
            "justify_content": null,
            "justify_items": null,
            "left": null,
            "margin": null,
            "max_height": null,
            "max_width": null,
            "min_height": null,
            "min_width": null,
            "object_fit": null,
            "object_position": null,
            "order": null,
            "overflow": null,
            "overflow_x": null,
            "overflow_y": null,
            "padding": null,
            "right": null,
            "top": null,
            "visibility": null,
            "width": null
          }
        },
        "5f4a281020e8424b876658c75bc95cd4": {
          "model_module": "@jupyter-widgets/controls",
          "model_name": "DescriptionStyleModel",
          "model_module_version": "1.5.0",
          "state": {
            "_model_module": "@jupyter-widgets/controls",
            "_model_module_version": "1.5.0",
            "_model_name": "DescriptionStyleModel",
            "_view_count": null,
            "_view_module": "@jupyter-widgets/base",
            "_view_module_version": "1.2.0",
            "_view_name": "StyleView",
            "description_width": ""
          }
        },
        "ccc5927f899847469a0162358e3eecc8": {
          "model_module": "@jupyter-widgets/controls",
          "model_name": "HBoxModel",
          "model_module_version": "1.5.0",
          "state": {
            "_dom_classes": [],
            "_model_module": "@jupyter-widgets/controls",
            "_model_module_version": "1.5.0",
            "_model_name": "HBoxModel",
            "_view_count": null,
            "_view_module": "@jupyter-widgets/controls",
            "_view_module_version": "1.5.0",
            "_view_name": "HBoxView",
            "box_style": "",
            "children": [
              "IPY_MODEL_eab485a77a114ba9a2e676e2124dc8ef",
              "IPY_MODEL_b25f6f2678df47bebbfb09d5e3603b5e",
              "IPY_MODEL_1108d9c65fab4622bde910e1de5bcb81"
            ],
            "layout": "IPY_MODEL_f88d665edef644c2bec47cbda0b9f38b"
          }
        },
        "eab485a77a114ba9a2e676e2124dc8ef": {
          "model_module": "@jupyter-widgets/controls",
          "model_name": "HTMLModel",
          "model_module_version": "1.5.0",
          "state": {
            "_dom_classes": [],
            "_model_module": "@jupyter-widgets/controls",
            "_model_module_version": "1.5.0",
            "_model_name": "HTMLModel",
            "_view_count": null,
            "_view_module": "@jupyter-widgets/controls",
            "_view_module_version": "1.5.0",
            "_view_name": "HTMLView",
            "description": "",
            "description_tooltip": null,
            "layout": "IPY_MODEL_509e8bc38432447c984556ff2b379a87",
            "placeholder": "​",
            "style": "IPY_MODEL_a9f09c27a6e842818b563c8aa72bd703",
            "value": "100%"
          }
        },
        "b25f6f2678df47bebbfb09d5e3603b5e": {
          "model_module": "@jupyter-widgets/controls",
          "model_name": "FloatProgressModel",
          "model_module_version": "1.5.0",
          "state": {
            "_dom_classes": [],
            "_model_module": "@jupyter-widgets/controls",
            "_model_module_version": "1.5.0",
            "_model_name": "FloatProgressModel",
            "_view_count": null,
            "_view_module": "@jupyter-widgets/controls",
            "_view_module_version": "1.5.0",
            "_view_name": "ProgressView",
            "bar_style": "success",
            "description": "",
            "description_tooltip": null,
            "layout": "IPY_MODEL_564cb8efa3a04a7b97e2c905803846b2",
            "max": 313,
            "min": 0,
            "orientation": "horizontal",
            "style": "IPY_MODEL_902d58099aa7491da68aa755ef33c1b0",
            "value": 313
          }
        },
        "1108d9c65fab4622bde910e1de5bcb81": {
          "model_module": "@jupyter-widgets/controls",
          "model_name": "HTMLModel",
          "model_module_version": "1.5.0",
          "state": {
            "_dom_classes": [],
            "_model_module": "@jupyter-widgets/controls",
            "_model_module_version": "1.5.0",
            "_model_name": "HTMLModel",
            "_view_count": null,
            "_view_module": "@jupyter-widgets/controls",
            "_view_module_version": "1.5.0",
            "_view_name": "HTMLView",
            "description": "",
            "description_tooltip": null,
            "layout": "IPY_MODEL_742f5bcd04fa4b2097c613020e65ce7c",
            "placeholder": "​",
            "style": "IPY_MODEL_539bbe80c24748baaf32e4f897c511aa",
            "value": " 313/313 [00:02&lt;00:00, 123.38it/s]"
          }
        },
        "f88d665edef644c2bec47cbda0b9f38b": {
          "model_module": "@jupyter-widgets/base",
          "model_name": "LayoutModel",
          "model_module_version": "1.2.0",
          "state": {
            "_model_module": "@jupyter-widgets/base",
            "_model_module_version": "1.2.0",
            "_model_name": "LayoutModel",
            "_view_count": null,
            "_view_module": "@jupyter-widgets/base",
            "_view_module_version": "1.2.0",
            "_view_name": "LayoutView",
            "align_content": null,
            "align_items": null,
            "align_self": null,
            "border": null,
            "bottom": null,
            "display": null,
            "flex": null,
            "flex_flow": null,
            "grid_area": null,
            "grid_auto_columns": null,
            "grid_auto_flow": null,
            "grid_auto_rows": null,
            "grid_column": null,
            "grid_gap": null,
            "grid_row": null,
            "grid_template_areas": null,
            "grid_template_columns": null,
            "grid_template_rows": null,
            "height": null,
            "justify_content": null,
            "justify_items": null,
            "left": null,
            "margin": null,
            "max_height": null,
            "max_width": null,
            "min_height": null,
            "min_width": null,
            "object_fit": null,
            "object_position": null,
            "order": null,
            "overflow": null,
            "overflow_x": null,
            "overflow_y": null,
            "padding": null,
            "right": null,
            "top": null,
            "visibility": null,
            "width": null
          }
        },
        "509e8bc38432447c984556ff2b379a87": {
          "model_module": "@jupyter-widgets/base",
          "model_name": "LayoutModel",
          "model_module_version": "1.2.0",
          "state": {
            "_model_module": "@jupyter-widgets/base",
            "_model_module_version": "1.2.0",
            "_model_name": "LayoutModel",
            "_view_count": null,
            "_view_module": "@jupyter-widgets/base",
            "_view_module_version": "1.2.0",
            "_view_name": "LayoutView",
            "align_content": null,
            "align_items": null,
            "align_self": null,
            "border": null,
            "bottom": null,
            "display": null,
            "flex": null,
            "flex_flow": null,
            "grid_area": null,
            "grid_auto_columns": null,
            "grid_auto_flow": null,
            "grid_auto_rows": null,
            "grid_column": null,
            "grid_gap": null,
            "grid_row": null,
            "grid_template_areas": null,
            "grid_template_columns": null,
            "grid_template_rows": null,
            "height": null,
            "justify_content": null,
            "justify_items": null,
            "left": null,
            "margin": null,
            "max_height": null,
            "max_width": null,
            "min_height": null,
            "min_width": null,
            "object_fit": null,
            "object_position": null,
            "order": null,
            "overflow": null,
            "overflow_x": null,
            "overflow_y": null,
            "padding": null,
            "right": null,
            "top": null,
            "visibility": null,
            "width": null
          }
        },
        "a9f09c27a6e842818b563c8aa72bd703": {
          "model_module": "@jupyter-widgets/controls",
          "model_name": "DescriptionStyleModel",
          "model_module_version": "1.5.0",
          "state": {
            "_model_module": "@jupyter-widgets/controls",
            "_model_module_version": "1.5.0",
            "_model_name": "DescriptionStyleModel",
            "_view_count": null,
            "_view_module": "@jupyter-widgets/base",
            "_view_module_version": "1.2.0",
            "_view_name": "StyleView",
            "description_width": ""
          }
        },
        "564cb8efa3a04a7b97e2c905803846b2": {
          "model_module": "@jupyter-widgets/base",
          "model_name": "LayoutModel",
          "model_module_version": "1.2.0",
          "state": {
            "_model_module": "@jupyter-widgets/base",
            "_model_module_version": "1.2.0",
            "_model_name": "LayoutModel",
            "_view_count": null,
            "_view_module": "@jupyter-widgets/base",
            "_view_module_version": "1.2.0",
            "_view_name": "LayoutView",
            "align_content": null,
            "align_items": null,
            "align_self": null,
            "border": null,
            "bottom": null,
            "display": null,
            "flex": null,
            "flex_flow": null,
            "grid_area": null,
            "grid_auto_columns": null,
            "grid_auto_flow": null,
            "grid_auto_rows": null,
            "grid_column": null,
            "grid_gap": null,
            "grid_row": null,
            "grid_template_areas": null,
            "grid_template_columns": null,
            "grid_template_rows": null,
            "height": null,
            "justify_content": null,
            "justify_items": null,
            "left": null,
            "margin": null,
            "max_height": null,
            "max_width": null,
            "min_height": null,
            "min_width": null,
            "object_fit": null,
            "object_position": null,
            "order": null,
            "overflow": null,
            "overflow_x": null,
            "overflow_y": null,
            "padding": null,
            "right": null,
            "top": null,
            "visibility": null,
            "width": null
          }
        },
        "902d58099aa7491da68aa755ef33c1b0": {
          "model_module": "@jupyter-widgets/controls",
          "model_name": "ProgressStyleModel",
          "model_module_version": "1.5.0",
          "state": {
            "_model_module": "@jupyter-widgets/controls",
            "_model_module_version": "1.5.0",
            "_model_name": "ProgressStyleModel",
            "_view_count": null,
            "_view_module": "@jupyter-widgets/base",
            "_view_module_version": "1.2.0",
            "_view_name": "StyleView",
            "bar_color": null,
            "description_width": ""
          }
        },
        "742f5bcd04fa4b2097c613020e65ce7c": {
          "model_module": "@jupyter-widgets/base",
          "model_name": "LayoutModel",
          "model_module_version": "1.2.0",
          "state": {
            "_model_module": "@jupyter-widgets/base",
            "_model_module_version": "1.2.0",
            "_model_name": "LayoutModel",
            "_view_count": null,
            "_view_module": "@jupyter-widgets/base",
            "_view_module_version": "1.2.0",
            "_view_name": "LayoutView",
            "align_content": null,
            "align_items": null,
            "align_self": null,
            "border": null,
            "bottom": null,
            "display": null,
            "flex": null,
            "flex_flow": null,
            "grid_area": null,
            "grid_auto_columns": null,
            "grid_auto_flow": null,
            "grid_auto_rows": null,
            "grid_column": null,
            "grid_gap": null,
            "grid_row": null,
            "grid_template_areas": null,
            "grid_template_columns": null,
            "grid_template_rows": null,
            "height": null,
            "justify_content": null,
            "justify_items": null,
            "left": null,
            "margin": null,
            "max_height": null,
            "max_width": null,
            "min_height": null,
            "min_width": null,
            "object_fit": null,
            "object_position": null,
            "order": null,
            "overflow": null,
            "overflow_x": null,
            "overflow_y": null,
            "padding": null,
            "right": null,
            "top": null,
            "visibility": null,
            "width": null
          }
        },
        "539bbe80c24748baaf32e4f897c511aa": {
          "model_module": "@jupyter-widgets/controls",
          "model_name": "DescriptionStyleModel",
          "model_module_version": "1.5.0",
          "state": {
            "_model_module": "@jupyter-widgets/controls",
            "_model_module_version": "1.5.0",
            "_model_name": "DescriptionStyleModel",
            "_view_count": null,
            "_view_module": "@jupyter-widgets/base",
            "_view_module_version": "1.2.0",
            "_view_name": "StyleView",
            "description_width": ""
          }
        },
        "fcabb539d34e40b7b5bba38138f507e0": {
          "model_module": "@jupyter-widgets/controls",
          "model_name": "HBoxModel",
          "model_module_version": "1.5.0",
          "state": {
            "_dom_classes": [],
            "_model_module": "@jupyter-widgets/controls",
            "_model_module_version": "1.5.0",
            "_model_name": "HBoxModel",
            "_view_count": null,
            "_view_module": "@jupyter-widgets/controls",
            "_view_module_version": "1.5.0",
            "_view_name": "HBoxView",
            "box_style": "",
            "children": [
              "IPY_MODEL_ca439f952aac4e60b5b4a1652d6223ba",
              "IPY_MODEL_7c7a808662af4c3b8a0c666bfcaadc1e",
              "IPY_MODEL_27516b04cbc244a890bbb46dd88bf8ac"
            ],
            "layout": "IPY_MODEL_724d8df4c15342cc825bd4f0e3602f67"
          }
        },
        "ca439f952aac4e60b5b4a1652d6223ba": {
          "model_module": "@jupyter-widgets/controls",
          "model_name": "HTMLModel",
          "model_module_version": "1.5.0",
          "state": {
            "_dom_classes": [],
            "_model_module": "@jupyter-widgets/controls",
            "_model_module_version": "1.5.0",
            "_model_name": "HTMLModel",
            "_view_count": null,
            "_view_module": "@jupyter-widgets/controls",
            "_view_module_version": "1.5.0",
            "_view_name": "HTMLView",
            "description": "",
            "description_tooltip": null,
            "layout": "IPY_MODEL_4e3d3c56bac54ca3aff9a5f1120eea51",
            "placeholder": "​",
            "style": "IPY_MODEL_54f2960ed7064e3f8167b22ab48678f5",
            "value": "100%"
          }
        },
        "7c7a808662af4c3b8a0c666bfcaadc1e": {
          "model_module": "@jupyter-widgets/controls",
          "model_name": "FloatProgressModel",
          "model_module_version": "1.5.0",
          "state": {
            "_dom_classes": [],
            "_model_module": "@jupyter-widgets/controls",
            "_model_module_version": "1.5.0",
            "_model_name": "FloatProgressModel",
            "_view_count": null,
            "_view_module": "@jupyter-widgets/controls",
            "_view_module_version": "1.5.0",
            "_view_name": "ProgressView",
            "bar_style": "success",
            "description": "",
            "description_tooltip": null,
            "layout": "IPY_MODEL_0723419027514d6d956da5811400873f",
            "max": 5,
            "min": 0,
            "orientation": "horizontal",
            "style": "IPY_MODEL_b6a84d5c9d9045c5a5871e0be50e8a28",
            "value": 5
          }
        },
        "27516b04cbc244a890bbb46dd88bf8ac": {
          "model_module": "@jupyter-widgets/controls",
          "model_name": "HTMLModel",
          "model_module_version": "1.5.0",
          "state": {
            "_dom_classes": [],
            "_model_module": "@jupyter-widgets/controls",
            "_model_module_version": "1.5.0",
            "_model_name": "HTMLModel",
            "_view_count": null,
            "_view_module": "@jupyter-widgets/controls",
            "_view_module_version": "1.5.0",
            "_view_name": "HTMLView",
            "description": "",
            "description_tooltip": null,
            "layout": "IPY_MODEL_2c83b0fc2e504635892ac1c8333ea608",
            "placeholder": "​",
            "style": "IPY_MODEL_acc429fc84804f949059385d7d78cca5",
            "value": " 5/5 [02:22&lt;00:00, 28.40s/it]"
          }
        },
        "724d8df4c15342cc825bd4f0e3602f67": {
          "model_module": "@jupyter-widgets/base",
          "model_name": "LayoutModel",
          "model_module_version": "1.2.0",
          "state": {
            "_model_module": "@jupyter-widgets/base",
            "_model_module_version": "1.2.0",
            "_model_name": "LayoutModel",
            "_view_count": null,
            "_view_module": "@jupyter-widgets/base",
            "_view_module_version": "1.2.0",
            "_view_name": "LayoutView",
            "align_content": null,
            "align_items": null,
            "align_self": null,
            "border": null,
            "bottom": null,
            "display": null,
            "flex": null,
            "flex_flow": null,
            "grid_area": null,
            "grid_auto_columns": null,
            "grid_auto_flow": null,
            "grid_auto_rows": null,
            "grid_column": null,
            "grid_gap": null,
            "grid_row": null,
            "grid_template_areas": null,
            "grid_template_columns": null,
            "grid_template_rows": null,
            "height": null,
            "justify_content": null,
            "justify_items": null,
            "left": null,
            "margin": null,
            "max_height": null,
            "max_width": null,
            "min_height": null,
            "min_width": null,
            "object_fit": null,
            "object_position": null,
            "order": null,
            "overflow": null,
            "overflow_x": null,
            "overflow_y": null,
            "padding": null,
            "right": null,
            "top": null,
            "visibility": null,
            "width": null
          }
        },
        "4e3d3c56bac54ca3aff9a5f1120eea51": {
          "model_module": "@jupyter-widgets/base",
          "model_name": "LayoutModel",
          "model_module_version": "1.2.0",
          "state": {
            "_model_module": "@jupyter-widgets/base",
            "_model_module_version": "1.2.0",
            "_model_name": "LayoutModel",
            "_view_count": null,
            "_view_module": "@jupyter-widgets/base",
            "_view_module_version": "1.2.0",
            "_view_name": "LayoutView",
            "align_content": null,
            "align_items": null,
            "align_self": null,
            "border": null,
            "bottom": null,
            "display": null,
            "flex": null,
            "flex_flow": null,
            "grid_area": null,
            "grid_auto_columns": null,
            "grid_auto_flow": null,
            "grid_auto_rows": null,
            "grid_column": null,
            "grid_gap": null,
            "grid_row": null,
            "grid_template_areas": null,
            "grid_template_columns": null,
            "grid_template_rows": null,
            "height": null,
            "justify_content": null,
            "justify_items": null,
            "left": null,
            "margin": null,
            "max_height": null,
            "max_width": null,
            "min_height": null,
            "min_width": null,
            "object_fit": null,
            "object_position": null,
            "order": null,
            "overflow": null,
            "overflow_x": null,
            "overflow_y": null,
            "padding": null,
            "right": null,
            "top": null,
            "visibility": null,
            "width": null
          }
        },
        "54f2960ed7064e3f8167b22ab48678f5": {
          "model_module": "@jupyter-widgets/controls",
          "model_name": "DescriptionStyleModel",
          "model_module_version": "1.5.0",
          "state": {
            "_model_module": "@jupyter-widgets/controls",
            "_model_module_version": "1.5.0",
            "_model_name": "DescriptionStyleModel",
            "_view_count": null,
            "_view_module": "@jupyter-widgets/base",
            "_view_module_version": "1.2.0",
            "_view_name": "StyleView",
            "description_width": ""
          }
        },
        "0723419027514d6d956da5811400873f": {
          "model_module": "@jupyter-widgets/base",
          "model_name": "LayoutModel",
          "model_module_version": "1.2.0",
          "state": {
            "_model_module": "@jupyter-widgets/base",
            "_model_module_version": "1.2.0",
            "_model_name": "LayoutModel",
            "_view_count": null,
            "_view_module": "@jupyter-widgets/base",
            "_view_module_version": "1.2.0",
            "_view_name": "LayoutView",
            "align_content": null,
            "align_items": null,
            "align_self": null,
            "border": null,
            "bottom": null,
            "display": null,
            "flex": null,
            "flex_flow": null,
            "grid_area": null,
            "grid_auto_columns": null,
            "grid_auto_flow": null,
            "grid_auto_rows": null,
            "grid_column": null,
            "grid_gap": null,
            "grid_row": null,
            "grid_template_areas": null,
            "grid_template_columns": null,
            "grid_template_rows": null,
            "height": null,
            "justify_content": null,
            "justify_items": null,
            "left": null,
            "margin": null,
            "max_height": null,
            "max_width": null,
            "min_height": null,
            "min_width": null,
            "object_fit": null,
            "object_position": null,
            "order": null,
            "overflow": null,
            "overflow_x": null,
            "overflow_y": null,
            "padding": null,
            "right": null,
            "top": null,
            "visibility": null,
            "width": null
          }
        },
        "b6a84d5c9d9045c5a5871e0be50e8a28": {
          "model_module": "@jupyter-widgets/controls",
          "model_name": "ProgressStyleModel",
          "model_module_version": "1.5.0",
          "state": {
            "_model_module": "@jupyter-widgets/controls",
            "_model_module_version": "1.5.0",
            "_model_name": "ProgressStyleModel",
            "_view_count": null,
            "_view_module": "@jupyter-widgets/base",
            "_view_module_version": "1.2.0",
            "_view_name": "StyleView",
            "bar_color": null,
            "description_width": ""
          }
        },
        "2c83b0fc2e504635892ac1c8333ea608": {
          "model_module": "@jupyter-widgets/base",
          "model_name": "LayoutModel",
          "model_module_version": "1.2.0",
          "state": {
            "_model_module": "@jupyter-widgets/base",
            "_model_module_version": "1.2.0",
            "_model_name": "LayoutModel",
            "_view_count": null,
            "_view_module": "@jupyter-widgets/base",
            "_view_module_version": "1.2.0",
            "_view_name": "LayoutView",
            "align_content": null,
            "align_items": null,
            "align_self": null,
            "border": null,
            "bottom": null,
            "display": null,
            "flex": null,
            "flex_flow": null,
            "grid_area": null,
            "grid_auto_columns": null,
            "grid_auto_flow": null,
            "grid_auto_rows": null,
            "grid_column": null,
            "grid_gap": null,
            "grid_row": null,
            "grid_template_areas": null,
            "grid_template_columns": null,
            "grid_template_rows": null,
            "height": null,
            "justify_content": null,
            "justify_items": null,
            "left": null,
            "margin": null,
            "max_height": null,
            "max_width": null,
            "min_height": null,
            "min_width": null,
            "object_fit": null,
            "object_position": null,
            "order": null,
            "overflow": null,
            "overflow_x": null,
            "overflow_y": null,
            "padding": null,
            "right": null,
            "top": null,
            "visibility": null,
            "width": null
          }
        },
        "acc429fc84804f949059385d7d78cca5": {
          "model_module": "@jupyter-widgets/controls",
          "model_name": "DescriptionStyleModel",
          "model_module_version": "1.5.0",
          "state": {
            "_model_module": "@jupyter-widgets/controls",
            "_model_module_version": "1.5.0",
            "_model_name": "DescriptionStyleModel",
            "_view_count": null,
            "_view_module": "@jupyter-widgets/base",
            "_view_module_version": "1.2.0",
            "_view_name": "StyleView",
            "description_width": ""
          }
        },
        "0ce3b0c8134e4f199cd24f77bee2644d": {
          "model_module": "@jupyter-widgets/controls",
          "model_name": "HBoxModel",
          "model_module_version": "1.5.0",
          "state": {
            "_dom_classes": [],
            "_model_module": "@jupyter-widgets/controls",
            "_model_module_version": "1.5.0",
            "_model_name": "HBoxModel",
            "_view_count": null,
            "_view_module": "@jupyter-widgets/controls",
            "_view_module_version": "1.5.0",
            "_view_name": "HBoxView",
            "box_style": "",
            "children": [
              "IPY_MODEL_4a45d8011ce54758963faf3414be4706",
              "IPY_MODEL_3d4fe976204040bf8d423d7a2e6414fa",
              "IPY_MODEL_a2b13b67cec54caba1a8f5724a619af6"
            ],
            "layout": "IPY_MODEL_8f36b73d8fbc4830982ae21c628af8c5"
          }
        },
        "4a45d8011ce54758963faf3414be4706": {
          "model_module": "@jupyter-widgets/controls",
          "model_name": "HTMLModel",
          "model_module_version": "1.5.0",
          "state": {
            "_dom_classes": [],
            "_model_module": "@jupyter-widgets/controls",
            "_model_module_version": "1.5.0",
            "_model_name": "HTMLModel",
            "_view_count": null,
            "_view_module": "@jupyter-widgets/controls",
            "_view_module_version": "1.5.0",
            "_view_name": "HTMLView",
            "description": "",
            "description_tooltip": null,
            "layout": "IPY_MODEL_65bbe7b0f0f04257a7d167cf476bf2cd",
            "placeholder": "​",
            "style": "IPY_MODEL_49c63ccbb32b41f986ea9360d3d9bb90",
            "value": "100%"
          }
        },
        "3d4fe976204040bf8d423d7a2e6414fa": {
          "model_module": "@jupyter-widgets/controls",
          "model_name": "FloatProgressModel",
          "model_module_version": "1.5.0",
          "state": {
            "_dom_classes": [],
            "_model_module": "@jupyter-widgets/controls",
            "_model_module_version": "1.5.0",
            "_model_name": "FloatProgressModel",
            "_view_count": null,
            "_view_module": "@jupyter-widgets/controls",
            "_view_module_version": "1.5.0",
            "_view_name": "ProgressView",
            "bar_style": "success",
            "description": "",
            "description_tooltip": null,
            "layout": "IPY_MODEL_3bc374e6f0b94678b0144fa93d450a5a",
            "max": 313,
            "min": 0,
            "orientation": "horizontal",
            "style": "IPY_MODEL_3faaafa196ee43cbb4a5ab0e9bda009c",
            "value": 313
          }
        },
        "a2b13b67cec54caba1a8f5724a619af6": {
          "model_module": "@jupyter-widgets/controls",
          "model_name": "HTMLModel",
          "model_module_version": "1.5.0",
          "state": {
            "_dom_classes": [],
            "_model_module": "@jupyter-widgets/controls",
            "_model_module_version": "1.5.0",
            "_model_name": "HTMLModel",
            "_view_count": null,
            "_view_module": "@jupyter-widgets/controls",
            "_view_module_version": "1.5.0",
            "_view_name": "HTMLView",
            "description": "",
            "description_tooltip": null,
            "layout": "IPY_MODEL_99f1d8b6554e4c92aa1018daa5f55209",
            "placeholder": "​",
            "style": "IPY_MODEL_f0df50c62e0647b68fc91c7319e67f3a",
            "value": " 313/313 [00:02&lt;00:00, 153.55it/s]"
          }
        },
        "8f36b73d8fbc4830982ae21c628af8c5": {
          "model_module": "@jupyter-widgets/base",
          "model_name": "LayoutModel",
          "model_module_version": "1.2.0",
          "state": {
            "_model_module": "@jupyter-widgets/base",
            "_model_module_version": "1.2.0",
            "_model_name": "LayoutModel",
            "_view_count": null,
            "_view_module": "@jupyter-widgets/base",
            "_view_module_version": "1.2.0",
            "_view_name": "LayoutView",
            "align_content": null,
            "align_items": null,
            "align_self": null,
            "border": null,
            "bottom": null,
            "display": null,
            "flex": null,
            "flex_flow": null,
            "grid_area": null,
            "grid_auto_columns": null,
            "grid_auto_flow": null,
            "grid_auto_rows": null,
            "grid_column": null,
            "grid_gap": null,
            "grid_row": null,
            "grid_template_areas": null,
            "grid_template_columns": null,
            "grid_template_rows": null,
            "height": null,
            "justify_content": null,
            "justify_items": null,
            "left": null,
            "margin": null,
            "max_height": null,
            "max_width": null,
            "min_height": null,
            "min_width": null,
            "object_fit": null,
            "object_position": null,
            "order": null,
            "overflow": null,
            "overflow_x": null,
            "overflow_y": null,
            "padding": null,
            "right": null,
            "top": null,
            "visibility": null,
            "width": null
          }
        },
        "65bbe7b0f0f04257a7d167cf476bf2cd": {
          "model_module": "@jupyter-widgets/base",
          "model_name": "LayoutModel",
          "model_module_version": "1.2.0",
          "state": {
            "_model_module": "@jupyter-widgets/base",
            "_model_module_version": "1.2.0",
            "_model_name": "LayoutModel",
            "_view_count": null,
            "_view_module": "@jupyter-widgets/base",
            "_view_module_version": "1.2.0",
            "_view_name": "LayoutView",
            "align_content": null,
            "align_items": null,
            "align_self": null,
            "border": null,
            "bottom": null,
            "display": null,
            "flex": null,
            "flex_flow": null,
            "grid_area": null,
            "grid_auto_columns": null,
            "grid_auto_flow": null,
            "grid_auto_rows": null,
            "grid_column": null,
            "grid_gap": null,
            "grid_row": null,
            "grid_template_areas": null,
            "grid_template_columns": null,
            "grid_template_rows": null,
            "height": null,
            "justify_content": null,
            "justify_items": null,
            "left": null,
            "margin": null,
            "max_height": null,
            "max_width": null,
            "min_height": null,
            "min_width": null,
            "object_fit": null,
            "object_position": null,
            "order": null,
            "overflow": null,
            "overflow_x": null,
            "overflow_y": null,
            "padding": null,
            "right": null,
            "top": null,
            "visibility": null,
            "width": null
          }
        },
        "49c63ccbb32b41f986ea9360d3d9bb90": {
          "model_module": "@jupyter-widgets/controls",
          "model_name": "DescriptionStyleModel",
          "model_module_version": "1.5.0",
          "state": {
            "_model_module": "@jupyter-widgets/controls",
            "_model_module_version": "1.5.0",
            "_model_name": "DescriptionStyleModel",
            "_view_count": null,
            "_view_module": "@jupyter-widgets/base",
            "_view_module_version": "1.2.0",
            "_view_name": "StyleView",
            "description_width": ""
          }
        },
        "3bc374e6f0b94678b0144fa93d450a5a": {
          "model_module": "@jupyter-widgets/base",
          "model_name": "LayoutModel",
          "model_module_version": "1.2.0",
          "state": {
            "_model_module": "@jupyter-widgets/base",
            "_model_module_version": "1.2.0",
            "_model_name": "LayoutModel",
            "_view_count": null,
            "_view_module": "@jupyter-widgets/base",
            "_view_module_version": "1.2.0",
            "_view_name": "LayoutView",
            "align_content": null,
            "align_items": null,
            "align_self": null,
            "border": null,
            "bottom": null,
            "display": null,
            "flex": null,
            "flex_flow": null,
            "grid_area": null,
            "grid_auto_columns": null,
            "grid_auto_flow": null,
            "grid_auto_rows": null,
            "grid_column": null,
            "grid_gap": null,
            "grid_row": null,
            "grid_template_areas": null,
            "grid_template_columns": null,
            "grid_template_rows": null,
            "height": null,
            "justify_content": null,
            "justify_items": null,
            "left": null,
            "margin": null,
            "max_height": null,
            "max_width": null,
            "min_height": null,
            "min_width": null,
            "object_fit": null,
            "object_position": null,
            "order": null,
            "overflow": null,
            "overflow_x": null,
            "overflow_y": null,
            "padding": null,
            "right": null,
            "top": null,
            "visibility": null,
            "width": null
          }
        },
        "3faaafa196ee43cbb4a5ab0e9bda009c": {
          "model_module": "@jupyter-widgets/controls",
          "model_name": "ProgressStyleModel",
          "model_module_version": "1.5.0",
          "state": {
            "_model_module": "@jupyter-widgets/controls",
            "_model_module_version": "1.5.0",
            "_model_name": "ProgressStyleModel",
            "_view_count": null,
            "_view_module": "@jupyter-widgets/base",
            "_view_module_version": "1.2.0",
            "_view_name": "StyleView",
            "bar_color": null,
            "description_width": ""
          }
        },
        "99f1d8b6554e4c92aa1018daa5f55209": {
          "model_module": "@jupyter-widgets/base",
          "model_name": "LayoutModel",
          "model_module_version": "1.2.0",
          "state": {
            "_model_module": "@jupyter-widgets/base",
            "_model_module_version": "1.2.0",
            "_model_name": "LayoutModel",
            "_view_count": null,
            "_view_module": "@jupyter-widgets/base",
            "_view_module_version": "1.2.0",
            "_view_name": "LayoutView",
            "align_content": null,
            "align_items": null,
            "align_self": null,
            "border": null,
            "bottom": null,
            "display": null,
            "flex": null,
            "flex_flow": null,
            "grid_area": null,
            "grid_auto_columns": null,
            "grid_auto_flow": null,
            "grid_auto_rows": null,
            "grid_column": null,
            "grid_gap": null,
            "grid_row": null,
            "grid_template_areas": null,
            "grid_template_columns": null,
            "grid_template_rows": null,
            "height": null,
            "justify_content": null,
            "justify_items": null,
            "left": null,
            "margin": null,
            "max_height": null,
            "max_width": null,
            "min_height": null,
            "min_width": null,
            "object_fit": null,
            "object_position": null,
            "order": null,
            "overflow": null,
            "overflow_x": null,
            "overflow_y": null,
            "padding": null,
            "right": null,
            "top": null,
            "visibility": null,
            "width": null
          }
        },
        "f0df50c62e0647b68fc91c7319e67f3a": {
          "model_module": "@jupyter-widgets/controls",
          "model_name": "DescriptionStyleModel",
          "model_module_version": "1.5.0",
          "state": {
            "_model_module": "@jupyter-widgets/controls",
            "_model_module_version": "1.5.0",
            "_model_name": "DescriptionStyleModel",
            "_view_count": null,
            "_view_module": "@jupyter-widgets/base",
            "_view_module_version": "1.2.0",
            "_view_name": "StyleView",
            "description_width": ""
          }
        },
        "86c69e5381354ddcb1997445eff3f822": {
          "model_module": "@jupyter-widgets/controls",
          "model_name": "HBoxModel",
          "model_module_version": "1.5.0",
          "state": {
            "_dom_classes": [],
            "_model_module": "@jupyter-widgets/controls",
            "_model_module_version": "1.5.0",
            "_model_name": "HBoxModel",
            "_view_count": null,
            "_view_module": "@jupyter-widgets/controls",
            "_view_module_version": "1.5.0",
            "_view_name": "HBoxView",
            "box_style": "",
            "children": [
              "IPY_MODEL_728414fa66c940a59f9075cb3cfc887c",
              "IPY_MODEL_9909e9dad9c14c8297b9380c1f423b79",
              "IPY_MODEL_fcb602a9c9b74677808c5bf0620e417f"
            ],
            "layout": "IPY_MODEL_39230497d9564bc18f38966ef6fc07b1"
          }
        },
        "728414fa66c940a59f9075cb3cfc887c": {
          "model_module": "@jupyter-widgets/controls",
          "model_name": "HTMLModel",
          "model_module_version": "1.5.0",
          "state": {
            "_dom_classes": [],
            "_model_module": "@jupyter-widgets/controls",
            "_model_module_version": "1.5.0",
            "_model_name": "HTMLModel",
            "_view_count": null,
            "_view_module": "@jupyter-widgets/controls",
            "_view_module_version": "1.5.0",
            "_view_name": "HTMLView",
            "description": "",
            "description_tooltip": null,
            "layout": "IPY_MODEL_e5d72b8e8405434bbdb5ae0a621c6b04",
            "placeholder": "​",
            "style": "IPY_MODEL_71dbb8f04a434d4c8d0cd646f6836701",
            "value": "making predictions...: 100%"
          }
        },
        "9909e9dad9c14c8297b9380c1f423b79": {
          "model_module": "@jupyter-widgets/controls",
          "model_name": "FloatProgressModel",
          "model_module_version": "1.5.0",
          "state": {
            "_dom_classes": [],
            "_model_module": "@jupyter-widgets/controls",
            "_model_module_version": "1.5.0",
            "_model_name": "FloatProgressModel",
            "_view_count": null,
            "_view_module": "@jupyter-widgets/controls",
            "_view_module_version": "1.5.0",
            "_view_name": "ProgressView",
            "bar_style": "success",
            "description": "",
            "description_tooltip": null,
            "layout": "IPY_MODEL_2685a019de0d4c9f94cabd7a95e329e5",
            "max": 313,
            "min": 0,
            "orientation": "horizontal",
            "style": "IPY_MODEL_d1856a9b83e14cffa9ddea1ebfb8d069",
            "value": 313
          }
        },
        "fcb602a9c9b74677808c5bf0620e417f": {
          "model_module": "@jupyter-widgets/controls",
          "model_name": "HTMLModel",
          "model_module_version": "1.5.0",
          "state": {
            "_dom_classes": [],
            "_model_module": "@jupyter-widgets/controls",
            "_model_module_version": "1.5.0",
            "_model_name": "HTMLModel",
            "_view_count": null,
            "_view_module": "@jupyter-widgets/controls",
            "_view_module_version": "1.5.0",
            "_view_name": "HTMLView",
            "description": "",
            "description_tooltip": null,
            "layout": "IPY_MODEL_fd902489ed5440eb8e81c483d9d9c597",
            "placeholder": "​",
            "style": "IPY_MODEL_4075f440b9d94b6597e95a5ab06ad2eb",
            "value": " 313/313 [00:02&lt;00:00, 155.70it/s]"
          }
        },
        "39230497d9564bc18f38966ef6fc07b1": {
          "model_module": "@jupyter-widgets/base",
          "model_name": "LayoutModel",
          "model_module_version": "1.2.0",
          "state": {
            "_model_module": "@jupyter-widgets/base",
            "_model_module_version": "1.2.0",
            "_model_name": "LayoutModel",
            "_view_count": null,
            "_view_module": "@jupyter-widgets/base",
            "_view_module_version": "1.2.0",
            "_view_name": "LayoutView",
            "align_content": null,
            "align_items": null,
            "align_self": null,
            "border": null,
            "bottom": null,
            "display": null,
            "flex": null,
            "flex_flow": null,
            "grid_area": null,
            "grid_auto_columns": null,
            "grid_auto_flow": null,
            "grid_auto_rows": null,
            "grid_column": null,
            "grid_gap": null,
            "grid_row": null,
            "grid_template_areas": null,
            "grid_template_columns": null,
            "grid_template_rows": null,
            "height": null,
            "justify_content": null,
            "justify_items": null,
            "left": null,
            "margin": null,
            "max_height": null,
            "max_width": null,
            "min_height": null,
            "min_width": null,
            "object_fit": null,
            "object_position": null,
            "order": null,
            "overflow": null,
            "overflow_x": null,
            "overflow_y": null,
            "padding": null,
            "right": null,
            "top": null,
            "visibility": null,
            "width": null
          }
        },
        "e5d72b8e8405434bbdb5ae0a621c6b04": {
          "model_module": "@jupyter-widgets/base",
          "model_name": "LayoutModel",
          "model_module_version": "1.2.0",
          "state": {
            "_model_module": "@jupyter-widgets/base",
            "_model_module_version": "1.2.0",
            "_model_name": "LayoutModel",
            "_view_count": null,
            "_view_module": "@jupyter-widgets/base",
            "_view_module_version": "1.2.0",
            "_view_name": "LayoutView",
            "align_content": null,
            "align_items": null,
            "align_self": null,
            "border": null,
            "bottom": null,
            "display": null,
            "flex": null,
            "flex_flow": null,
            "grid_area": null,
            "grid_auto_columns": null,
            "grid_auto_flow": null,
            "grid_auto_rows": null,
            "grid_column": null,
            "grid_gap": null,
            "grid_row": null,
            "grid_template_areas": null,
            "grid_template_columns": null,
            "grid_template_rows": null,
            "height": null,
            "justify_content": null,
            "justify_items": null,
            "left": null,
            "margin": null,
            "max_height": null,
            "max_width": null,
            "min_height": null,
            "min_width": null,
            "object_fit": null,
            "object_position": null,
            "order": null,
            "overflow": null,
            "overflow_x": null,
            "overflow_y": null,
            "padding": null,
            "right": null,
            "top": null,
            "visibility": null,
            "width": null
          }
        },
        "71dbb8f04a434d4c8d0cd646f6836701": {
          "model_module": "@jupyter-widgets/controls",
          "model_name": "DescriptionStyleModel",
          "model_module_version": "1.5.0",
          "state": {
            "_model_module": "@jupyter-widgets/controls",
            "_model_module_version": "1.5.0",
            "_model_name": "DescriptionStyleModel",
            "_view_count": null,
            "_view_module": "@jupyter-widgets/base",
            "_view_module_version": "1.2.0",
            "_view_name": "StyleView",
            "description_width": ""
          }
        },
        "2685a019de0d4c9f94cabd7a95e329e5": {
          "model_module": "@jupyter-widgets/base",
          "model_name": "LayoutModel",
          "model_module_version": "1.2.0",
          "state": {
            "_model_module": "@jupyter-widgets/base",
            "_model_module_version": "1.2.0",
            "_model_name": "LayoutModel",
            "_view_count": null,
            "_view_module": "@jupyter-widgets/base",
            "_view_module_version": "1.2.0",
            "_view_name": "LayoutView",
            "align_content": null,
            "align_items": null,
            "align_self": null,
            "border": null,
            "bottom": null,
            "display": null,
            "flex": null,
            "flex_flow": null,
            "grid_area": null,
            "grid_auto_columns": null,
            "grid_auto_flow": null,
            "grid_auto_rows": null,
            "grid_column": null,
            "grid_gap": null,
            "grid_row": null,
            "grid_template_areas": null,
            "grid_template_columns": null,
            "grid_template_rows": null,
            "height": null,
            "justify_content": null,
            "justify_items": null,
            "left": null,
            "margin": null,
            "max_height": null,
            "max_width": null,
            "min_height": null,
            "min_width": null,
            "object_fit": null,
            "object_position": null,
            "order": null,
            "overflow": null,
            "overflow_x": null,
            "overflow_y": null,
            "padding": null,
            "right": null,
            "top": null,
            "visibility": null,
            "width": null
          }
        },
        "d1856a9b83e14cffa9ddea1ebfb8d069": {
          "model_module": "@jupyter-widgets/controls",
          "model_name": "ProgressStyleModel",
          "model_module_version": "1.5.0",
          "state": {
            "_model_module": "@jupyter-widgets/controls",
            "_model_module_version": "1.5.0",
            "_model_name": "ProgressStyleModel",
            "_view_count": null,
            "_view_module": "@jupyter-widgets/base",
            "_view_module_version": "1.2.0",
            "_view_name": "StyleView",
            "bar_color": null,
            "description_width": ""
          }
        },
        "fd902489ed5440eb8e81c483d9d9c597": {
          "model_module": "@jupyter-widgets/base",
          "model_name": "LayoutModel",
          "model_module_version": "1.2.0",
          "state": {
            "_model_module": "@jupyter-widgets/base",
            "_model_module_version": "1.2.0",
            "_model_name": "LayoutModel",
            "_view_count": null,
            "_view_module": "@jupyter-widgets/base",
            "_view_module_version": "1.2.0",
            "_view_name": "LayoutView",
            "align_content": null,
            "align_items": null,
            "align_self": null,
            "border": null,
            "bottom": null,
            "display": null,
            "flex": null,
            "flex_flow": null,
            "grid_area": null,
            "grid_auto_columns": null,
            "grid_auto_flow": null,
            "grid_auto_rows": null,
            "grid_column": null,
            "grid_gap": null,
            "grid_row": null,
            "grid_template_areas": null,
            "grid_template_columns": null,
            "grid_template_rows": null,
            "height": null,
            "justify_content": null,
            "justify_items": null,
            "left": null,
            "margin": null,
            "max_height": null,
            "max_width": null,
            "min_height": null,
            "min_width": null,
            "object_fit": null,
            "object_position": null,
            "order": null,
            "overflow": null,
            "overflow_x": null,
            "overflow_y": null,
            "padding": null,
            "right": null,
            "top": null,
            "visibility": null,
            "width": null
          }
        },
        "4075f440b9d94b6597e95a5ab06ad2eb": {
          "model_module": "@jupyter-widgets/controls",
          "model_name": "DescriptionStyleModel",
          "model_module_version": "1.5.0",
          "state": {
            "_model_module": "@jupyter-widgets/controls",
            "_model_module_version": "1.5.0",
            "_model_name": "DescriptionStyleModel",
            "_view_count": null,
            "_view_module": "@jupyter-widgets/base",
            "_view_module_version": "1.2.0",
            "_view_name": "StyleView",
            "description_width": ""
          }
        }
      }
    },
    "accelerator": "GPU"
  },
  "nbformat": 4,
  "nbformat_minor": 0
}