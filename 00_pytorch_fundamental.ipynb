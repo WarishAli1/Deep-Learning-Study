{
  "nbformat": 4,
  "nbformat_minor": 0,
  "metadata": {
    "colab": {
      "provenance": []
    },
    "kernelspec": {
      "name": "python3",
      "display_name": "Python 3"
    },
    "language_info": {
      "name": "python"
    }
  },
  "cells": [
    {
      "cell_type": "code",
      "execution_count": null,
      "metadata": {
        "id": "-O6mr-fNvJ1g"
      },
      "outputs": [],
      "source": [
        "import torch\n",
        "import pandas as pd\n",
        "import numpy as np\n",
        "import matplotlib.pyplot as plt"
      ]
    },
    {
      "cell_type": "code",
      "source": [
        "# scalar\n",
        "scalar = torch.tensor(7)\n",
        "print(scalar)"
      ],
      "metadata": {
        "colab": {
          "base_uri": "https://localhost:8080/"
        },
        "id": "rswFeuZvyBDV",
        "outputId": "346e2a2b-6269-45e8-f0d7-ab599a3fec90"
      },
      "execution_count": null,
      "outputs": [
        {
          "output_type": "stream",
          "name": "stdout",
          "text": [
            "tensor(7)\n"
          ]
        }
      ]
    },
    {
      "cell_type": "code",
      "source": [
        "scalar.ndim"
      ],
      "metadata": {
        "colab": {
          "base_uri": "https://localhost:8080/"
        },
        "id": "407Lkz-Cz_P3",
        "outputId": "eec12170-b058-4d07-abc8-f27924cca980"
      },
      "execution_count": null,
      "outputs": [
        {
          "output_type": "execute_result",
          "data": {
            "text/plain": [
              "0"
            ]
          },
          "metadata": {},
          "execution_count": 3
        }
      ]
    },
    {
      "cell_type": "code",
      "source": [
        "# vector\n",
        "vector = torch.tensor([1,2,4,5,6,7])\n",
        "vector\n",
        "print(vector.shape)\n",
        "print(vector.ndim)"
      ],
      "metadata": {
        "colab": {
          "base_uri": "https://localhost:8080/"
        },
        "id": "iZ3c2ooP0jwb",
        "outputId": "d5c9dc9a-7648-40a5-8b01-939de830b108"
      },
      "execution_count": null,
      "outputs": [
        {
          "output_type": "stream",
          "name": "stdout",
          "text": [
            "torch.Size([6])\n",
            "1\n"
          ]
        }
      ]
    },
    {
      "cell_type": "code",
      "source": [
        "# matrix\n",
        "matrix = torch.tensor([[1,2,3,4],[3,4,5,6],[2,2,2,2]])\n",
        "print(matrix)\n",
        "print(matrix.ndim)\n",
        "print(matrix.shape)"
      ],
      "metadata": {
        "colab": {
          "base_uri": "https://localhost:8080/"
        },
        "id": "8wbQQouJ1VlP",
        "outputId": "4ebc5494-e560-4340-ed59-a6c391d40c14"
      },
      "execution_count": null,
      "outputs": [
        {
          "output_type": "stream",
          "name": "stdout",
          "text": [
            "tensor([[1, 2, 3, 4],\n",
            "        [3, 4, 5, 6],\n",
            "        [2, 2, 2, 2]])\n",
            "2\n",
            "torch.Size([3, 4])\n"
          ]
        }
      ]
    },
    {
      "cell_type": "code",
      "source": [
        "# tensor\n",
        "tensor = torch.tensor([[[1,1],[2,2],[9,3],[4,4]],\n",
        "                       [[3,3],[4,4],[5,5],[5,5]]\n",
        "                      ])\n",
        "print(tensor.shape)\n",
        "print(tensor.ndim)\n",
        "print(tensor[0,2,0])"
      ],
      "metadata": {
        "colab": {
          "base_uri": "https://localhost:8080/"
        },
        "id": "6yHNJdHK2bDA",
        "outputId": "e04dc8bf-6e1e-4193-ce4c-c651478e7af2"
      },
      "execution_count": null,
      "outputs": [
        {
          "output_type": "stream",
          "name": "stdout",
          "text": [
            "torch.Size([2, 4, 2])\n",
            "3\n",
            "tensor(9)\n"
          ]
        }
      ]
    },
    {
      "cell_type": "markdown",
      "source": [
        "### random tensor"
      ],
      "metadata": {
        "id": "gdbUVAOmo_IZ"
      }
    },
    {
      "cell_type": "code",
      "source": [
        "tensor = torch.rand(2,2,3)\n",
        "tensor"
      ],
      "metadata": {
        "colab": {
          "base_uri": "https://localhost:8080/"
        },
        "id": "QorJzlJlpmLA",
        "outputId": "330c5ae8-f026-43fc-e797-aad82a72eff1"
      },
      "execution_count": null,
      "outputs": [
        {
          "output_type": "execute_result",
          "data": {
            "text/plain": [
              "tensor([[[0.0703, 0.0564, 0.0181],\n",
              "         [0.2827, 0.3373, 0.2033]],\n",
              "\n",
              "        [[0.1501, 0.2189, 0.2562],\n",
              "         [0.7795, 0.2606, 0.2085]]])"
            ]
          },
          "metadata": {},
          "execution_count": 7
        }
      ]
    },
    {
      "cell_type": "code",
      "source": [
        "zeros = torch.zeros(size=(4,2,2))\n",
        "zeros"
      ],
      "metadata": {
        "colab": {
          "base_uri": "https://localhost:8080/"
        },
        "id": "XBENCqvxtVj_",
        "outputId": "211c00b4-27e1-407f-ead7-9372a422a1e2"
      },
      "execution_count": null,
      "outputs": [
        {
          "output_type": "execute_result",
          "data": {
            "text/plain": [
              "tensor([[[0., 0.],\n",
              "         [0., 0.]],\n",
              "\n",
              "        [[0., 0.],\n",
              "         [0., 0.]],\n",
              "\n",
              "        [[0., 0.],\n",
              "         [0., 0.]],\n",
              "\n",
              "        [[0., 0.],\n",
              "         [0., 0.]]])"
            ]
          },
          "metadata": {},
          "execution_count": 8
        }
      ]
    },
    {
      "cell_type": "code",
      "source": [
        "# torch range\n",
        "range = torch.arange(start=1, end=100 , step=7)\n",
        "range"
      ],
      "metadata": {
        "colab": {
          "base_uri": "https://localhost:8080/"
        },
        "id": "RpsRJYdLuC3b",
        "outputId": "3ed115ad-6ddf-4f35-ca4d-22f8ab93de3a"
      },
      "execution_count": null,
      "outputs": [
        {
          "output_type": "execute_result",
          "data": {
            "text/plain": [
              "tensor([ 1,  8, 15, 22, 29, 36, 43, 50, 57, 64, 71, 78, 85, 92, 99])"
            ]
          },
          "metadata": {},
          "execution_count": 9
        }
      ]
    },
    {
      "cell_type": "markdown",
      "source": [],
      "metadata": {
        "id": "ODh9FkpL3v_0"
      }
    },
    {
      "cell_type": "markdown",
      "source": [
        "tensor datatypes :\n",
        "1. 32 float point\n",
        "2. 16 float point\n",
        "commonly used in pytorch\n",
        "we should know this coz we may get errors such as\n",
        "1. tensor not right datatype\n",
        "2. tensor not rght shape\n",
        "3. tensor not on right device like 1 may run in cpu and other in gpu"
      ],
      "metadata": {
        "id": "nyouIy4w4e93"
      }
    },
    {
      "cell_type": "code",
      "source": [
        "tensor_datatypes = torch.rand(size=(2,3,4), dtype=torch.float16 ,\n",
        "                              device=None ,\n",
        "                              requires_grad= False )\n",
        "print(tensor_datatypes)\n",
        "tensor_datatypes.dtype"
      ],
      "metadata": {
        "colab": {
          "base_uri": "https://localhost:8080/"
        },
        "id": "pooBZWaR5Jdz",
        "outputId": "47445102-6e48-4475-ffc4-174303d5191f"
      },
      "execution_count": null,
      "outputs": [
        {
          "output_type": "stream",
          "name": "stdout",
          "text": [
            "tensor([[[0.6567, 0.2778, 0.7520, 0.5283],\n",
            "         [0.3940, 0.8867, 0.8281, 0.7212],\n",
            "         [0.1191, 0.4326, 0.8828, 0.1860]],\n",
            "\n",
            "        [[0.1479, 0.8179, 0.9126, 0.9966],\n",
            "         [0.2837, 0.3657, 0.5996, 0.5000],\n",
            "         [0.9551, 0.5049, 0.5879, 0.0371]]], dtype=torch.float16)\n"
          ]
        },
        {
          "output_type": "execute_result",
          "data": {
            "text/plain": [
              "torch.float16"
            ]
          },
          "metadata": {},
          "execution_count": 10
        }
      ]
    },
    {
      "cell_type": "code",
      "source": [
        "tensor_float32 = torch.rand(size=(1,3,4) , dtype=torch.float32)\n",
        "tensor_float32.dtype"
      ],
      "metadata": {
        "colab": {
          "base_uri": "https://localhost:8080/"
        },
        "id": "Act2Omm79hWZ",
        "outputId": "c46a3d4b-de96-40de-817b-d3e769910f25"
      },
      "execution_count": null,
      "outputs": [
        {
          "output_type": "execute_result",
          "data": {
            "text/plain": [
              "torch.float32"
            ]
          },
          "metadata": {},
          "execution_count": 11
        }
      ]
    },
    {
      "cell_type": "code",
      "source": [
        "tensor_datatypes.shape\n"
      ],
      "metadata": {
        "colab": {
          "base_uri": "https://localhost:8080/"
        },
        "id": "FTw0PiaK-QGP",
        "outputId": "4faa5ca5-039a-4927-aa4e-592ab55bcaac"
      },
      "execution_count": null,
      "outputs": [
        {
          "output_type": "execute_result",
          "data": {
            "text/plain": [
              "torch.Size([2, 3, 4])"
            ]
          },
          "metadata": {},
          "execution_count": 12
        }
      ]
    },
    {
      "cell_type": "code",
      "source": [
        "# matrix multiplication\n",
        "%%time\n",
        "tensor1 = torch.tensor([[1,2],[2,3]])\n",
        "tensor2 = torch.tensor([[1,2],[2,3]])\n",
        "torch.matmul(tensor1,tensor2)"
      ],
      "metadata": {
        "colab": {
          "base_uri": "https://localhost:8080/"
        },
        "id": "4mgb8Se1DplW",
        "outputId": "f07338fa-fa17-40c2-b98e-280de9153356"
      },
      "execution_count": null,
      "outputs": [
        {
          "output_type": "stream",
          "name": "stdout",
          "text": [
            "CPU times: user 1.84 ms, sys: 0 ns, total: 1.84 ms\n",
            "Wall time: 2.74 ms\n"
          ]
        },
        {
          "output_type": "execute_result",
          "data": {
            "text/plain": [
              "tensor([[ 5,  8],\n",
              "        [ 8, 13]])"
            ]
          },
          "metadata": {},
          "execution_count": 13
        }
      ]
    },
    {
      "cell_type": "code",
      "source": [
        "torch.mm(torch.rand(size=(7,3)),torch.rand(size=(3,8))).shape"
      ],
      "metadata": {
        "colab": {
          "base_uri": "https://localhost:8080/"
        },
        "id": "-mMW-hzB4Cou",
        "outputId": "a4d16237-1525-44aa-c88a-bb5be54066e4"
      },
      "execution_count": null,
      "outputs": [
        {
          "output_type": "execute_result",
          "data": {
            "text/plain": [
              "torch.Size([7, 8])"
            ]
          },
          "metadata": {},
          "execution_count": 14
        }
      ]
    },
    {
      "cell_type": "code",
      "source": [
        "tensor1 = torch.tensor([[1,2],\n",
        "                        [2,3],\n",
        "                        [3,4]])\n",
        "\n",
        "tensor2 = torch.tensor([[4,5],\n",
        "                        [5,6],\n",
        "                        [6,7]])\n",
        "torch.mm(tensor1,tensor2)"
      ],
      "metadata": {
        "colab": {
          "base_uri": "https://localhost:8080/",
          "height": 216
        },
        "id": "YxvzKQvK80l9",
        "outputId": "1fb8cfa8-93c5-4533-f774-70bd5991b43f"
      },
      "execution_count": null,
      "outputs": [
        {
          "output_type": "error",
          "ename": "RuntimeError",
          "evalue": "mat1 and mat2 shapes cannot be multiplied (3x2 and 3x2)",
          "traceback": [
            "\u001b[0;31m---------------------------------------------------------------------------\u001b[0m",
            "\u001b[0;31mRuntimeError\u001b[0m                              Traceback (most recent call last)",
            "\u001b[0;32m<ipython-input-16-ddb6ea2fb3f4>\u001b[0m in \u001b[0;36m<cell line: 8>\u001b[0;34m()\u001b[0m\n\u001b[1;32m      6\u001b[0m                         \u001b[0;34m[\u001b[0m\u001b[0;36m5\u001b[0m\u001b[0;34m,\u001b[0m\u001b[0;36m6\u001b[0m\u001b[0;34m]\u001b[0m\u001b[0;34m,\u001b[0m\u001b[0;34m\u001b[0m\u001b[0;34m\u001b[0m\u001b[0m\n\u001b[1;32m      7\u001b[0m                         [6,7]])\n\u001b[0;32m----> 8\u001b[0;31m \u001b[0mtorch\u001b[0m\u001b[0;34m.\u001b[0m\u001b[0mmm\u001b[0m\u001b[0;34m(\u001b[0m\u001b[0mtensor1\u001b[0m\u001b[0;34m,\u001b[0m\u001b[0mtensor2\u001b[0m\u001b[0;34m)\u001b[0m\u001b[0;34m\u001b[0m\u001b[0;34m\u001b[0m\u001b[0m\n\u001b[0m",
            "\u001b[0;31mRuntimeError\u001b[0m: mat1 and mat2 shapes cannot be multiplied (3x2 and 3x2)"
          ]
        }
      ]
    },
    {
      "cell_type": "code",
      "source": [
        "# to solve the inner dimension error or tensor error we can change the\n",
        "# shape by transpose but ** note:- data wont be affected it will be same **\n",
        "\n",
        "torch.mm(tensor1 , tensor2.T)\n"
      ],
      "metadata": {
        "colab": {
          "base_uri": "https://localhost:8080/"
        },
        "id": "hwfAAJIY-Goc",
        "outputId": "b2992055-4def-48d3-ec9f-c2f162df143a"
      },
      "execution_count": null,
      "outputs": [
        {
          "output_type": "execute_result",
          "data": {
            "text/plain": [
              "tensor([[14, 17, 20],\n",
              "        [23, 28, 33],\n",
              "        [32, 39, 46]])"
            ]
          },
          "metadata": {},
          "execution_count": 17
        }
      ]
    },
    {
      "cell_type": "code",
      "source": [
        "tensor = torch.arange(1,100,8)\n",
        "tensor"
      ],
      "metadata": {
        "colab": {
          "base_uri": "https://localhost:8080/"
        },
        "id": "xwCPzbDyCl5r",
        "outputId": "6f39dffe-cab1-4228-c898-4d51279a0288"
      },
      "execution_count": null,
      "outputs": [
        {
          "output_type": "execute_result",
          "data": {
            "text/plain": [
              "tensor([ 1,  9, 17, 25, 33, 41, 49, 57, 65, 73, 81, 89, 97])"
            ]
          },
          "metadata": {},
          "execution_count": 18
        }
      ]
    },
    {
      "cell_type": "code",
      "source": [
        "tensor.min()  ,   torch.min(tensor)"
      ],
      "metadata": {
        "colab": {
          "base_uri": "https://localhost:8080/"
        },
        "id": "Z5FHbsBOC1tE",
        "outputId": "c8106ff7-2f40-44cd-b55d-3171d4bd4b06"
      },
      "execution_count": null,
      "outputs": [
        {
          "output_type": "execute_result",
          "data": {
            "text/plain": [
              "(tensor(1), tensor(1))"
            ]
          },
          "metadata": {},
          "execution_count": 19
        }
      ]
    },
    {
      "cell_type": "code",
      "source": [
        "tensor.max()   ,  torch.max(tensor)"
      ],
      "metadata": {
        "colab": {
          "base_uri": "https://localhost:8080/"
        },
        "id": "0pyQzg0UDBFb",
        "outputId": "0170dfd5-3ceb-4e9f-8f27-c4f0dfac539d"
      },
      "execution_count": null,
      "outputs": [
        {
          "output_type": "execute_result",
          "data": {
            "text/plain": [
              "(tensor(97), tensor(97))"
            ]
          },
          "metadata": {},
          "execution_count": 20
        }
      ]
    },
    {
      "cell_type": "code",
      "source": [
        "tensor.mean()  ,   torch.mean(tensor)"
      ],
      "metadata": {
        "colab": {
          "base_uri": "https://localhost:8080/",
          "height": 198
        },
        "id": "0OkKqcs5DKam",
        "outputId": "4a26eafe-e5d7-40ef-b17e-533f7e88d1b2"
      },
      "execution_count": null,
      "outputs": [
        {
          "output_type": "error",
          "ename": "RuntimeError",
          "evalue": "mean(): could not infer output dtype. Input dtype must be either a floating point or complex dtype. Got: Long",
          "traceback": [
            "\u001b[0;31m---------------------------------------------------------------------------\u001b[0m",
            "\u001b[0;31mRuntimeError\u001b[0m                              Traceback (most recent call last)",
            "\u001b[0;32m<ipython-input-22-d0e3e5d43e2f>\u001b[0m in \u001b[0;36m<cell line: 1>\u001b[0;34m()\u001b[0m\n\u001b[0;32m----> 1\u001b[0;31m \u001b[0mtensor\u001b[0m\u001b[0;34m.\u001b[0m\u001b[0mmean\u001b[0m\u001b[0;34m(\u001b[0m\u001b[0;34m)\u001b[0m  \u001b[0;34m,\u001b[0m   \u001b[0mtorch\u001b[0m\u001b[0;34m.\u001b[0m\u001b[0mmean\u001b[0m\u001b[0;34m(\u001b[0m\u001b[0mtensor\u001b[0m\u001b[0;34m)\u001b[0m\u001b[0;34m\u001b[0m\u001b[0;34m\u001b[0m\u001b[0m\n\u001b[0m",
            "\u001b[0;31mRuntimeError\u001b[0m: mean(): could not infer output dtype. Input dtype must be either a floating point or complex dtype. Got: Long"
          ]
        }
      ]
    },
    {
      "cell_type": "code",
      "source": [
        "# here we finally get data type error and it says to either be float or\n",
        "# complex not long so now we convert data type\n",
        "\n",
        "x = tensor.type(torch.float32)\n",
        "\n",
        "x.mean()  ,   torch.mean(x)\n"
      ],
      "metadata": {
        "colab": {
          "base_uri": "https://localhost:8080/"
        },
        "id": "LQptYn13DR84",
        "outputId": "cb742101-9d14-4020-c834-801d6b3e6676"
      },
      "execution_count": null,
      "outputs": [
        {
          "output_type": "execute_result",
          "data": {
            "text/plain": [
              "(tensor(49.), tensor(49.))"
            ]
          },
          "metadata": {},
          "execution_count": 23
        }
      ]
    },
    {
      "cell_type": "code",
      "source": [
        "x.dtype , tensor.dtype\n"
      ],
      "metadata": {
        "colab": {
          "base_uri": "https://localhost:8080/"
        },
        "id": "P2Q79RvzD6nH",
        "outputId": "dded9fd1-0e72-4a70-cd41-f66e27ea1db5"
      },
      "execution_count": null,
      "outputs": [
        {
          "output_type": "execute_result",
          "data": {
            "text/plain": [
              "(torch.float32, torch.int64)"
            ]
          },
          "metadata": {},
          "execution_count": 24
        }
      ]
    },
    {
      "cell_type": "code",
      "source": [
        "torch.sum(tensor)"
      ],
      "metadata": {
        "colab": {
          "base_uri": "https://localhost:8080/"
        },
        "id": "KvTUhV16Fma7",
        "outputId": "642b88e0-b329-45c8-b7dc-1e6948a04b50"
      },
      "execution_count": null,
      "outputs": [
        {
          "output_type": "execute_result",
          "data": {
            "text/plain": [
              "tensor(637)"
            ]
          },
          "metadata": {},
          "execution_count": 25
        }
      ]
    },
    {
      "cell_type": "code",
      "source": [
        "torch.argmin(tensor)  , torch.argmax(tensor)"
      ],
      "metadata": {
        "colab": {
          "base_uri": "https://localhost:8080/"
        },
        "id": "p83RPRo4GOld",
        "outputId": "203465fc-3f03-417c-a106-0f7f3f16c1d9"
      },
      "execution_count": null,
      "outputs": [
        {
          "output_type": "execute_result",
          "data": {
            "text/plain": [
              "(tensor(0), tensor(12))"
            ]
          },
          "metadata": {},
          "execution_count": 26
        }
      ]
    },
    {
      "cell_type": "code",
      "source": [
        "y = torch.rand(3,2)\n",
        "y"
      ],
      "metadata": {
        "colab": {
          "base_uri": "https://localhost:8080/"
        },
        "id": "h72y1E5ZIxXG",
        "outputId": "a429f752-9939-4e5a-a48a-145cd358e3f7"
      },
      "execution_count": null,
      "outputs": [
        {
          "output_type": "execute_result",
          "data": {
            "text/plain": [
              "tensor([[0.9844, 0.3532],\n",
              "        [0.5512, 0.1864],\n",
              "        [0.4622, 0.1076]])"
            ]
          },
          "metadata": {},
          "execution_count": 27
        }
      ]
    },
    {
      "cell_type": "code",
      "source": [
        "# reshape , view ,  stack\n",
        "y.reshape(2,3)\n",
        "y.view(2,3)\n",
        "torch.stack((y,tensor1,tensor2),dim=1)"
      ],
      "metadata": {
        "colab": {
          "base_uri": "https://localhost:8080/"
        },
        "id": "7OBmat4tT67Q",
        "outputId": "7aba1345-b3cd-4e7d-8651-7c70ece05d67"
      },
      "execution_count": null,
      "outputs": [
        {
          "output_type": "execute_result",
          "data": {
            "text/plain": [
              "tensor([[[0.9844, 0.3532],\n",
              "         [1.0000, 2.0000],\n",
              "         [4.0000, 5.0000]],\n",
              "\n",
              "        [[0.5512, 0.1864],\n",
              "         [2.0000, 3.0000],\n",
              "         [5.0000, 6.0000]],\n",
              "\n",
              "        [[0.4622, 0.1076],\n",
              "         [3.0000, 4.0000],\n",
              "         [6.0000, 7.0000]]])"
            ]
          },
          "metadata": {},
          "execution_count": 28
        }
      ]
    },
    {
      "cell_type": "code",
      "source": [
        "# squeeze -1 dim and unsqueeze +1 dim\n",
        "\n",
        "a = torch.rand(5,5)\n",
        "a"
      ],
      "metadata": {
        "colab": {
          "base_uri": "https://localhost:8080/"
        },
        "id": "jvqmroh1YVZZ",
        "outputId": "ff887320-8086-4f30-f2ba-593ee929907c"
      },
      "execution_count": null,
      "outputs": [
        {
          "output_type": "execute_result",
          "data": {
            "text/plain": [
              "tensor([[0.6669, 0.3906, 0.0990, 0.2494, 0.1330],\n",
              "        [0.2757, 0.8015, 0.6529, 0.0118, 0.5495],\n",
              "        [0.7720, 0.4918, 0.0263, 0.9243, 0.0577],\n",
              "        [0.6494, 0.3867, 0.1929, 0.3182, 0.8222],\n",
              "        [0.9819, 0.1364, 0.3815, 0.4132, 0.9775]])"
            ]
          },
          "metadata": {},
          "execution_count": 29
        }
      ]
    },
    {
      "cell_type": "code",
      "source": [
        "a.unsqueeze(dim=0).shape"
      ],
      "metadata": {
        "colab": {
          "base_uri": "https://localhost:8080/"
        },
        "id": "xClpGedHZNnu",
        "outputId": "04e28203-cafe-4e1c-c56a-eaa443539342"
      },
      "execution_count": null,
      "outputs": [
        {
          "output_type": "execute_result",
          "data": {
            "text/plain": [
              "torch.Size([1, 5, 5])"
            ]
          },
          "metadata": {},
          "execution_count": 30
        }
      ]
    },
    {
      "cell_type": "code",
      "source": [
        "# view and reshape only changes the shape of tensor\n",
        "# but not the order of the data\n",
        "# for eg\n",
        "\n",
        "import torch\n",
        "\n",
        "x = torch.tensor([[1, 2, 3], [4, 5, 6]])\n",
        "\n",
        "y_view = x.view(3, 2)\n",
        "print(y_view)  # Output: tensor([[1, 2], [3, 4], [5, 6]])\n",
        "\n",
        "y_reshape = x.reshape(3, 2)\n",
        "print(y_reshape)  # Output: tensor([[1, 2], [3, 4], [5, 6]])\n",
        "\n",
        "\n",
        "# ** note ** - view share the same memory soo\n",
        "# does not add additional memory where as\n",
        "# reshape add addional memory though they both work almost same"
      ],
      "metadata": {
        "colab": {
          "base_uri": "https://localhost:8080/"
        },
        "id": "qQ_Yl2QtS6o-",
        "outputId": "f668d470-23a7-4646-c9f2-8e4e6b5499f0"
      },
      "execution_count": null,
      "outputs": [
        {
          "output_type": "stream",
          "name": "stdout",
          "text": [
            "tensor([[1, 2],\n",
            "        [3, 4],\n",
            "        [5, 6]])\n",
            "tensor([[1, 2],\n",
            "        [3, 4],\n",
            "        [5, 6]])\n"
          ]
        }
      ]
    },
    {
      "cell_type": "code",
      "source": [
        "# but permute changes the order of data too\n",
        "# ** note - permute share same memory like here x and y_permute doing\n",
        "# for eg:-\n",
        "\n",
        "import torch\n",
        "\n",
        "x = torch.tensor([[1, 2, 3], [4, 5, 6]])\n",
        "\n",
        "y_permute = x.permute(1, 0)\n",
        "print(y_permute)  # Output: tensor([[1, 4], [2, 5], [3, 6]])\n"
      ],
      "metadata": {
        "colab": {
          "base_uri": "https://localhost:8080/"
        },
        "id": "7dgW0LMkTLWi",
        "outputId": "237d4857-df9a-4a2d-915f-22ac9225b59b"
      },
      "execution_count": null,
      "outputs": [
        {
          "output_type": "stream",
          "name": "stdout",
          "text": [
            "tensor([[1, 4],\n",
            "        [2, 5],\n",
            "        [3, 6]])\n"
          ]
        }
      ]
    },
    {
      "cell_type": "code",
      "source": [
        "w = torch.arange(1,10).reshape(1,3,3)\n"
      ],
      "metadata": {
        "id": "M4mL9ivqYFM4"
      },
      "execution_count": null,
      "outputs": []
    },
    {
      "cell_type": "code",
      "source": [
        "w[0,2,2]"
      ],
      "metadata": {
        "colab": {
          "base_uri": "https://localhost:8080/"
        },
        "id": "fp0F7f0sYaS8",
        "outputId": "e3cf0e1d-d5e3-476d-8b25-6910cddd9279"
      },
      "execution_count": null,
      "outputs": [
        {
          "output_type": "execute_result",
          "data": {
            "text/plain": [
              "tensor(9)"
            ]
          },
          "metadata": {},
          "execution_count": 34
        }
      ]
    },
    {
      "cell_type": "code",
      "source": [
        "# numpy array to tensor\n",
        "array = np.arange(1.,10.)\n",
        "array_convert = torch.from_numpy(array).type(torch.float32) # by defaut numpy  datatype is float64\n",
        "tensor_a = torch.arange(1.,10.)  # by default torch datatype is float32\n",
        "x = torch.add(array_convert , tensor_a) # so you might get dtype error so covert\n",
        "x"
      ],
      "metadata": {
        "colab": {
          "base_uri": "https://localhost:8080/"
        },
        "id": "1wize1QddyLt",
        "outputId": "939e8efc-4aaf-4d73-aae8-4ff4932095f4"
      },
      "execution_count": null,
      "outputs": [
        {
          "output_type": "execute_result",
          "data": {
            "text/plain": [
              "tensor([ 2.,  4.,  6.,  8., 10., 12., 14., 16., 18.])"
            ]
          },
          "metadata": {},
          "execution_count": 35
        }
      ]
    },
    {
      "cell_type": "code",
      "source": [
        "# torch to numpy\n",
        "tensor_b = tensor_a.numpy()\n",
        "tensor_b , tensor_a"
      ],
      "metadata": {
        "colab": {
          "base_uri": "https://localhost:8080/"
        },
        "id": "tkpIbQTrhIiS",
        "outputId": "d7fef612-81cd-481f-99d0-f6a48af9e309"
      },
      "execution_count": null,
      "outputs": [
        {
          "output_type": "execute_result",
          "data": {
            "text/plain": [
              "(array([1., 2., 3., 4., 5., 6., 7., 8., 9.], dtype=float32),\n",
              " tensor([1., 2., 3., 4., 5., 6., 7., 8., 9.]))"
            ]
          },
          "metadata": {},
          "execution_count": 36
        }
      ]
    },
    {
      "cell_type": "code",
      "source": [
        "random_seed = 42\n",
        "torch.manual_seed(random_seed)\n",
        "x=torch.rand(2,3)\n",
        "torch.manual_seed(random_seed)\n",
        "y=torch.rand(2,3)\n",
        "torch.manual_seed(random_seed)\n",
        "z=torch.rand(2,3)\n",
        "print(x==y)\n",
        "\n",
        "np.random.seed(random_seed)\n",
        "a = np.random.rand(2,3)\n",
        "np.random.seed(random_seed)\n",
        "b = np.random.rand(2,3)\n",
        "print(a==b)"
      ],
      "metadata": {
        "colab": {
          "base_uri": "https://localhost:8080/"
        },
        "id": "cj9mCbxooahG",
        "outputId": "27318b98-73cc-4282-9435-9184e2aee299"
      },
      "execution_count": null,
      "outputs": [
        {
          "output_type": "stream",
          "name": "stdout",
          "text": [
            "tensor([[True, True, True],\n",
            "        [True, True, True]])\n",
            "[[ True  True  True]\n",
            " [ True  True  True]]\n"
          ]
        }
      ]
    },
    {
      "cell_type": "markdown",
      "source": [
        "# **Reproducibility**\n",
        "\n",
        "this reproduce the same output again and again and we use this in random tensor to minimize the randomness.\n",
        "this is important because:\n",
        "\n",
        "\n",
        "1.   in debuging and testing while testing everytime we run it give random number output and this makes difficult to test so we use this by seed\n",
        "2.   model comparision\n",
        "\n",
        "\n",
        "\n"
      ],
      "metadata": {
        "id": "pjbQ3G7WnF7C"
      }
    },
    {
      "cell_type": "code",
      "source": [
        "tensor = torch.tensor([1.,2.,3.])\n",
        "print(tensor , tensor.device)"
      ],
      "metadata": {
        "colab": {
          "base_uri": "https://localhost:8080/"
        },
        "id": "7Jhkm-qCw3JT",
        "outputId": "d7635d17-66c0-4e8d-fac5-378a1f490b53"
      },
      "execution_count": null,
      "outputs": [
        {
          "output_type": "stream",
          "name": "stdout",
          "text": [
            "tensor([1., 2., 3.]) cpu\n"
          ]
        }
      ]
    },
    {
      "cell_type": "code",
      "source": [
        "# moving tensor or models to gpu ( if available )\n",
        "device = \"cuda\" if torch.cuda.is_available() else \"cpu\"\n",
        "a_on_gpu = tensor.to(device)\n",
        "print(a_on_gpu.device)\n",
        "# lol, i dont have gpu :(haha)"
      ],
      "metadata": {
        "colab": {
          "base_uri": "https://localhost:8080/"
        },
        "id": "ag_TocShzixV",
        "outputId": "4463d7df-0f40-4978-c16e-bacf440e0253"
      },
      "execution_count": null,
      "outputs": [
        {
          "output_type": "stream",
          "name": "stdout",
          "text": [
            "cpu\n"
          ]
        }
      ]
    },
    {
      "cell_type": "markdown",
      "source": [
        "**numpy doesnot work on gpu so if our tensor is in gpu device then we cant directly covert to numpy like TENSOR_ON_GPU.numpy() so we first have to move to cpu device then proceed further**"
      ],
      "metadata": {
        "id": "GcKCSjY11d-o"
      }
    },
    {
      "cell_type": "code",
      "source": [
        "a_back_on_cpu = a_on_gpu.cpu().type(torch.float64)\n",
        "a = a_back_on_cpu.numpy()\n",
        "ab = np.arange(1.,10.)\n",
        "print(ab.dtype , a.dtype)"
      ],
      "metadata": {
        "colab": {
          "base_uri": "https://localhost:8080/"
        },
        "id": "VZrioydj5myV",
        "outputId": "009e1ba4-bb1d-4a00-be8c-5ff8cb5ebf5b"
      },
      "execution_count": null,
      "outputs": [
        {
          "output_type": "stream",
          "name": "stdout",
          "text": [
            "float64 float64\n"
          ]
        }
      ]
    },
    {
      "cell_type": "markdown",
      "source": [
        "# **exercises**"
      ],
      "metadata": {
        "id": "i8vQXZDGwuSo"
      }
    },
    {
      "cell_type": "code",
      "source": [
        "tensor_a = torch.rand(size=(7,7))\n",
        "print(tensor_a)"
      ],
      "metadata": {
        "colab": {
          "base_uri": "https://localhost:8080/"
        },
        "id": "ajqnZ1eDw00c",
        "outputId": "51b964ce-29fb-4e85-aa14-80e2192c36b0"
      },
      "execution_count": null,
      "outputs": [
        {
          "output_type": "stream",
          "name": "stdout",
          "text": [
            "tensor([[0.2566, 0.7936, 0.9408, 0.1332, 0.9346, 0.5936, 0.8694],\n",
            "        [0.5677, 0.7411, 0.4294, 0.8854, 0.5739, 0.2666, 0.6274],\n",
            "        [0.2696, 0.4414, 0.2969, 0.8317, 0.1053, 0.2695, 0.3588],\n",
            "        [0.1994, 0.5472, 0.0062, 0.9516, 0.0753, 0.8860, 0.5832],\n",
            "        [0.3376, 0.8090, 0.5779, 0.9040, 0.5547, 0.3423, 0.6343],\n",
            "        [0.3644, 0.7104, 0.9464, 0.7890, 0.2814, 0.7886, 0.5895],\n",
            "        [0.7539, 0.1952, 0.0050, 0.3068, 0.1165, 0.9103, 0.6440]])\n"
          ]
        }
      ]
    },
    {
      "cell_type": "code",
      "source": [
        "tensor_b = torch.rand(1,7)\n",
        "tensor_c = torch.mm(tensor_a,tensor_b.T)\n",
        "print(tensor_c)"
      ],
      "metadata": {
        "colab": {
          "base_uri": "https://localhost:8080/"
        },
        "id": "6BlZbLAQyXH7",
        "outputId": "91eaf61e-af41-4f33-ef9a-939378d9bae5"
      },
      "execution_count": null,
      "outputs": [
        {
          "output_type": "stream",
          "name": "stdout",
          "text": [
            "tensor([[2.2464],\n",
            "        [1.9512],\n",
            "        [1.0678],\n",
            "        [1.0574],\n",
            "        [1.9265],\n",
            "        [1.9388],\n",
            "        [1.1038]])\n"
          ]
        }
      ]
    },
    {
      "cell_type": "code",
      "source": [
        "seed = 0\n",
        "torch.manual_seed(seed)\n",
        "tensor_c = torch.mm(tensor_a,tensor_b.T)\n",
        "print(tensor_c)"
      ],
      "metadata": {
        "colab": {
          "base_uri": "https://localhost:8080/"
        },
        "id": "qa6-W1gMy8kt",
        "outputId": "a37edd0b-c585-4032-97b6-e0693db01fb9"
      },
      "execution_count": null,
      "outputs": [
        {
          "output_type": "stream",
          "name": "stdout",
          "text": [
            "tensor([[2.2464],\n",
            "        [1.9512],\n",
            "        [1.0678],\n",
            "        [1.0574],\n",
            "        [1.9265],\n",
            "        [1.9388],\n",
            "        [1.1038]])\n"
          ]
        }
      ]
    },
    {
      "cell_type": "code",
      "source": [
        "seed_a = 1234\n",
        "torch.cuda.manual_seed(seed_a)"
      ],
      "metadata": {
        "id": "8cv7i15zzfSn"
      },
      "execution_count": null,
      "outputs": []
    },
    {
      "cell_type": "code",
      "source": [],
      "metadata": {
        "id": "CSAIlwIN1x5A"
      },
      "execution_count": null,
      "outputs": []
    }
  ]
}